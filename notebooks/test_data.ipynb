{
  "cells": [
    {
      "cell_type": "markdown",
      "metadata": {
        "id": "gPMzaRvPYi-B"
      },
      "source": [
        "**Importing libraries and loading the data**"
      ]
    },
    {
      "cell_type": "code",
      "execution_count": 1,
      "metadata": {
        "id": "S_7oo79WogGe"
      },
      "outputs": [],
      "source": [
        "import pandas as pd\n",
        "import numpy as np\n",
        "from sklearn.metrics import mean_squared_error\n",
        "import pickle"
      ]
    },
    {
      "cell_type": "code",
      "execution_count": 2,
      "metadata": {
        "colab": {
          "base_uri": "https://localhost:8080/"
        },
        "id": "kU-s6rZAqRal",
        "outputId": "7cb83734-fe24-442d-f0e9-b2b2c54a002f"
      },
      "outputs": [],
      "source": [
        "#from google.colab import drive\n",
        "#drive.mount('/content/drive')"
      ]
    },
    {
      "cell_type": "code",
      "execution_count": 3,
      "metadata": {
        "id": "hybxpH58VGEA"
      },
      "outputs": [],
      "source": [
        "#loading all needed datasets from kaggle\n",
        "calendar = pd.read_csv('../data/raw/calendar.csv')\n",
        "sell_prices = pd.read_csv('../data/raw/sell_prices.csv')\n",
        "sales_validation = pd.read_csv('../data/raw/sales_train_validation.csv')"
      ]
    },
    {
      "cell_type": "markdown",
      "metadata": {
        "id": "nhNtzx2dYyqI"
      },
      "source": [
        "## Exploratory Data Analysis"
      ]
    },
    {
      "cell_type": "code",
      "execution_count": 4,
      "metadata": {
        "colab": {
          "base_uri": "https://localhost:8080/"
        },
        "id": "7tT_I5lBcVpv",
        "outputId": "6ffb5649-5ac9-47f6-a619-c735ca034b71"
      },
      "outputs": [
        {
          "data": {
            "text/plain": [
              "<bound method DataFrame.info of                                   id        item_id    dept_id   cat_id  \\\n",
              "0      HOBBIES_1_001_CA_1_validation  HOBBIES_1_001  HOBBIES_1  HOBBIES   \n",
              "1      HOBBIES_1_002_CA_1_validation  HOBBIES_1_002  HOBBIES_1  HOBBIES   \n",
              "2      HOBBIES_1_003_CA_1_validation  HOBBIES_1_003  HOBBIES_1  HOBBIES   \n",
              "3      HOBBIES_1_004_CA_1_validation  HOBBIES_1_004  HOBBIES_1  HOBBIES   \n",
              "4      HOBBIES_1_005_CA_1_validation  HOBBIES_1_005  HOBBIES_1  HOBBIES   \n",
              "...                              ...            ...        ...      ...   \n",
              "30485    FOODS_3_823_WI_3_validation    FOODS_3_823    FOODS_3    FOODS   \n",
              "30486    FOODS_3_824_WI_3_validation    FOODS_3_824    FOODS_3    FOODS   \n",
              "30487    FOODS_3_825_WI_3_validation    FOODS_3_825    FOODS_3    FOODS   \n",
              "30488    FOODS_3_826_WI_3_validation    FOODS_3_826    FOODS_3    FOODS   \n",
              "30489    FOODS_3_827_WI_3_validation    FOODS_3_827    FOODS_3    FOODS   \n",
              "\n",
              "      store_id state_id  d_1  d_2  d_3  d_4  ...  d_1904  d_1905  d_1906  \\\n",
              "0         CA_1       CA    0    0    0    0  ...       1       3       0   \n",
              "1         CA_1       CA    0    0    0    0  ...       0       0       0   \n",
              "2         CA_1       CA    0    0    0    0  ...       2       1       2   \n",
              "3         CA_1       CA    0    0    0    0  ...       1       0       5   \n",
              "4         CA_1       CA    0    0    0    0  ...       2       1       1   \n",
              "...        ...      ...  ...  ...  ...  ...  ...     ...     ...     ...   \n",
              "30485     WI_3       WI    0    0    2    2  ...       2       0       0   \n",
              "30486     WI_3       WI    0    0    0    0  ...       0       0       0   \n",
              "30487     WI_3       WI    0    6    0    2  ...       2       1       0   \n",
              "30488     WI_3       WI    0    0    0    0  ...       0       0       1   \n",
              "30489     WI_3       WI    0    0    0    0  ...       0       0       0   \n",
              "\n",
              "       d_1907  d_1908  d_1909  d_1910  d_1911  d_1912  d_1913  \n",
              "0           1       1       1       3       0       1       1  \n",
              "1           0       0       1       0       0       0       0  \n",
              "2           1       1       1       0       1       1       1  \n",
              "3           4       1       0       1       3       7       2  \n",
              "4           0       1       1       2       2       2       4  \n",
              "...       ...     ...     ...     ...     ...     ...     ...  \n",
              "30485       0       0       0       1       0       0       1  \n",
              "30486       0       0       0       0       0       1       0  \n",
              "30487       2       0       1       0       0       1       0  \n",
              "30488       0       0       1       0       3       1       3  \n",
              "30489       0       0       0       0       0       0       0  \n",
              "\n",
              "[30490 rows x 1919 columns]>"
            ]
          },
          "execution_count": 4,
          "metadata": {},
          "output_type": "execute_result"
        }
      ],
      "source": [
        "sales_validation.info"
      ]
    },
    {
      "cell_type": "code",
      "execution_count": 5,
      "metadata": {
        "colab": {
          "base_uri": "https://localhost:8080/"
        },
        "id": "JOcN7VPhgYgQ",
        "outputId": "efa33c73-9ce6-48ba-daca-8f486b89b4c4"
      },
      "outputs": [
        {
          "name": "stdout",
          "output_type": "stream",
          "text": [
            "Number of \n",
            " unique states: 3 \n",
            " unique stores: 10 \n",
            " unique departments: 7 \n",
            " unique item categories: 3 \n",
            " unique items: 3049\n"
          ]
        }
      ],
      "source": [
        "unique_items = len(sales_validation['item_id'].unique())\n",
        "unique_item_categories = len(sales_validation['cat_id'].unique())\n",
        "unique_departments = len(sales_validation['dept_id'].unique())\n",
        "unique_stores = len(sales_validation['store_id'].unique())\n",
        "unique_states = len(sales_validation['state_id'].unique())\n",
        "\n",
        "print(f'Number of \\n unique states: {unique_states} \\n unique stores: {unique_stores} \\n unique departments: {unique_departments} \\n unique item categories: {unique_item_categories} \\n unique items: {unique_items}')"
      ]
    },
    {
      "cell_type": "code",
      "execution_count": 6,
      "metadata": {
        "colab": {
          "base_uri": "https://localhost:8080/"
        },
        "id": "gQsuhDUAkhOv",
        "outputId": "131ee67e-bfa5-4cac-9514-19d79a3c41d8"
      },
      "outputs": [
        {
          "name": "stdout",
          "output_type": "stream",
          "text": [
            "['HOBBIES' 'HOUSEHOLD' 'FOODS']\n",
            "['HOBBIES_1' 'HOBBIES_2' 'HOUSEHOLD_1' 'HOUSEHOLD_2' 'FOODS_1' 'FOODS_2'\n",
            " 'FOODS_3']\n",
            "['CA_1' 'CA_2' 'CA_3' 'CA_4' 'TX_1' 'TX_2' 'TX_3' 'WI_1' 'WI_2' 'WI_3']\n",
            "['CA' 'TX' 'WI']\n"
          ]
        }
      ],
      "source": [
        "for col in [sales_validation['cat_id'],sales_validation['dept_id'],sales_validation['store_id'],sales_validation['state_id']]:\n",
        "  print (col.unique())"
      ]
    },
    {
      "cell_type": "code",
      "execution_count": 7,
      "metadata": {
        "colab": {
          "base_uri": "https://localhost:8080/"
        },
        "id": "k21p_4Se8ANn",
        "outputId": "7d4e5006-ca92-49fb-a772-b1e08168990a"
      },
      "outputs": [
        {
          "name": "stdout",
          "output_type": "stream",
          "text": [
            "Data types in sales_validation are: \n",
            " int64     1913\n",
            "object       6\n",
            "dtype: int64\n"
          ]
        }
      ],
      "source": [
        "# Inspection of data types\n",
        "print(\"Data types in sales_validation are: \\n\", sales_validation.dtypes.value_counts())"
      ]
    },
    {
      "cell_type": "code",
      "execution_count": 8,
      "metadata": {
        "colab": {
          "base_uri": "https://localhost:8080/"
        },
        "id": "mGMbQZA3Uzrc",
        "outputId": "e5b3dba6-ed3c-454f-ac00-568cf61aead9"
      },
      "outputs": [
        {
          "name": "stdout",
          "output_type": "stream",
          "text": [
            "The number of duplicated rows is 0.\n"
          ]
        }
      ],
      "source": [
        "duplicated_rows_count = sales_validation.duplicated().sum()\n",
        "print(f'The number of duplicated rows is {duplicated_rows_count}.')"
      ]
    },
    {
      "cell_type": "code",
      "execution_count": 9,
      "metadata": {
        "colab": {
          "base_uri": "https://localhost:8080/"
        },
        "id": "hUVNOsuBohpA",
        "outputId": "b56be4ac-e1c5-4858-eaad-eb5428c595c1"
      },
      "outputs": [
        {
          "data": {
            "text/plain": [
              "0        0\n",
              "20322    0\n",
              "20334    0\n",
              "20333    0\n",
              "20332    0\n",
              "        ..\n",
              "10159    0\n",
              "10158    0\n",
              "10157    0\n",
              "10156    0\n",
              "30489    0\n",
              "Length: 30490, dtype: int64"
            ]
          },
          "execution_count": 9,
          "metadata": {},
          "output_type": "execute_result"
        }
      ],
      "source": [
        "# Checking for null values column-wise\n",
        "sales_validation.isna().sum(axis=1).sort_values(ascending=False)"
      ]
    },
    {
      "cell_type": "code",
      "execution_count": 10,
      "metadata": {
        "colab": {
          "base_uri": "https://localhost:8080/"
        },
        "id": "XZIXLMQTryq0",
        "outputId": "cac2a880-2722-43df-b569-b2a15a2e1720"
      },
      "outputs": [
        {
          "data": {
            "text/plain": [
              "id        0\n",
              "d_1270    0\n",
              "d_1282    0\n",
              "d_1281    0\n",
              "d_1280    0\n",
              "         ..\n",
              "d_630     0\n",
              "d_629     0\n",
              "d_628     0\n",
              "d_627     0\n",
              "d_1913    0\n",
              "Length: 1919, dtype: int64"
            ]
          },
          "execution_count": 10,
          "metadata": {},
          "output_type": "execute_result"
        }
      ],
      "source": [
        "# Checking for null values row-wise\n",
        "sales_validation.isna().sum().sort_values(ascending=False)"
      ]
    },
    {
      "cell_type": "code",
      "execution_count": 11,
      "metadata": {
        "colab": {
          "base_uri": "https://localhost:8080/"
        },
        "id": "darh13TVJdMl",
        "outputId": "eb6b41d7-4f35-40b7-d8da-2f21d5b6961e"
      },
      "outputs": [
        {
          "data": {
            "text/plain": [
              "<bound method DataFrame.info of             date  wm_yr_wk    weekday  wday  month  year       d  \\\n",
              "0     2011-01-29     11101   Saturday     1      1  2011     d_1   \n",
              "1     2011-01-30     11101     Sunday     2      1  2011     d_2   \n",
              "2     2011-01-31     11101     Monday     3      1  2011     d_3   \n",
              "3     2011-02-01     11101    Tuesday     4      2  2011     d_4   \n",
              "4     2011-02-02     11101  Wednesday     5      2  2011     d_5   \n",
              "...          ...       ...        ...   ...    ...   ...     ...   \n",
              "1964  2016-06-15     11620  Wednesday     5      6  2016  d_1965   \n",
              "1965  2016-06-16     11620   Thursday     6      6  2016  d_1966   \n",
              "1966  2016-06-17     11620     Friday     7      6  2016  d_1967   \n",
              "1967  2016-06-18     11621   Saturday     1      6  2016  d_1968   \n",
              "1968  2016-06-19     11621     Sunday     2      6  2016  d_1969   \n",
              "\n",
              "      event_name_1 event_type_1  event_name_2 event_type_2  snap_CA  snap_TX  \\\n",
              "0              NaN          NaN           NaN          NaN        0        0   \n",
              "1              NaN          NaN           NaN          NaN        0        0   \n",
              "2              NaN          NaN           NaN          NaN        0        0   \n",
              "3              NaN          NaN           NaN          NaN        1        1   \n",
              "4              NaN          NaN           NaN          NaN        1        0   \n",
              "...            ...          ...           ...          ...      ...      ...   \n",
              "1964           NaN          NaN           NaN          NaN        0        1   \n",
              "1965           NaN          NaN           NaN          NaN        0        0   \n",
              "1966           NaN          NaN           NaN          NaN        0        0   \n",
              "1967           NaN          NaN           NaN          NaN        0        0   \n",
              "1968  NBAFinalsEnd     Sporting  Father's day     Cultural        0        0   \n",
              "\n",
              "      snap_WI  \n",
              "0           0  \n",
              "1           0  \n",
              "2           0  \n",
              "3           0  \n",
              "4           1  \n",
              "...       ...  \n",
              "1964        1  \n",
              "1965        0  \n",
              "1966        0  \n",
              "1967        0  \n",
              "1968        0  \n",
              "\n",
              "[1969 rows x 14 columns]>"
            ]
          },
          "execution_count": 11,
          "metadata": {},
          "output_type": "execute_result"
        }
      ],
      "source": [
        "calendar.info"
      ]
    },
    {
      "cell_type": "code",
      "execution_count": 12,
      "metadata": {
        "colab": {
          "base_uri": "https://localhost:8080/"
        },
        "id": "sObXrpa9R4cH",
        "outputId": "5ad27bf2-a789-45c5-df48-01ef18ddf099"
      },
      "outputs": [
        {
          "name": "stdout",
          "output_type": "stream",
          "text": [
            "Number of \n",
            " unique years: 6 \n",
            " unique events: 36 \n",
            " unique types of events: 5\n"
          ]
        }
      ],
      "source": [
        "unique_year = len(calendar['year'].unique())\n",
        "unique_events = len(calendar['event_name_1'].unique()) + len(calendar['event_name_2'].unique())\n",
        "unique_states = len(calendar['event_type_1'].unique())\n",
        "print(f'Number of \\n unique years: {unique_year} \\n unique events: {unique_events} \\n unique types of events: {unique_states}')"
      ]
    },
    {
      "cell_type": "code",
      "execution_count": 13,
      "metadata": {
        "colab": {
          "base_uri": "https://localhost:8080/"
        },
        "id": "MKFPVXx2Teo2",
        "outputId": "1551d74e-daee-4212-a003-c01a9bc7d79b"
      },
      "outputs": [
        {
          "name": "stdout",
          "output_type": "stream",
          "text": [
            "[2011 2012 2013 2014 2015 2016]\n",
            "[nan 'SuperBowl' 'ValentinesDay' 'PresidentsDay' 'LentStart' 'LentWeek2'\n",
            " 'StPatricksDay' 'Purim End' 'OrthodoxEaster' 'Pesach End' 'Cinco De Mayo'\n",
            " \"Mother's day\" 'MemorialDay' 'NBAFinalsStart' 'NBAFinalsEnd'\n",
            " \"Father's day\" 'IndependenceDay' 'Ramadan starts' 'Eid al-Fitr'\n",
            " 'LaborDay' 'ColumbusDay' 'Halloween' 'EidAlAdha' 'VeteransDay'\n",
            " 'Thanksgiving' 'Christmas' 'Chanukah End' 'NewYear' 'OrthodoxChristmas'\n",
            " 'MartinLutherKingDay' 'Easter']\n",
            "[nan 'Sporting' 'Cultural' 'National' 'Religious']\n",
            "[nan 'Easter' 'Cinco De Mayo' 'OrthodoxEaster' \"Father's day\"]\n"
          ]
        }
      ],
      "source": [
        "for col in [calendar['year'],calendar['event_name_1'],calendar['event_type_1'],calendar['event_name_2']]:\n",
        "  print (col.unique())"
      ]
    },
    {
      "cell_type": "code",
      "execution_count": 14,
      "metadata": {
        "colab": {
          "base_uri": "https://localhost:8080/"
        },
        "id": "0fZYOHgcT3Jj",
        "outputId": "408c6184-b3d9-4f69-db5b-ffee25f8dfb8"
      },
      "outputs": [
        {
          "name": "stdout",
          "output_type": "stream",
          "text": [
            "Data types in calendar are: \n",
            " object    7\n",
            "int64     7\n",
            "dtype: int64\n"
          ]
        }
      ],
      "source": [
        "# Inspection of data types\n",
        "print(\"Data types in calendar are: \\n\", calendar.dtypes.value_counts())"
      ]
    },
    {
      "cell_type": "code",
      "execution_count": 15,
      "metadata": {
        "colab": {
          "base_uri": "https://localhost:8080/"
        },
        "id": "tc_MY_0YUCfp",
        "outputId": "526d5dd9-ee6d-4ce7-8919-966d998381d3"
      },
      "outputs": [
        {
          "data": {
            "text/plain": [
              "date            object\n",
              "wm_yr_wk         int64\n",
              "weekday         object\n",
              "wday             int64\n",
              "month            int64\n",
              "year             int64\n",
              "d               object\n",
              "event_name_1    object\n",
              "event_type_1    object\n",
              "event_name_2    object\n",
              "event_type_2    object\n",
              "snap_CA          int64\n",
              "snap_TX          int64\n",
              "snap_WI          int64\n",
              "dtype: object"
            ]
          },
          "execution_count": 15,
          "metadata": {},
          "output_type": "execute_result"
        }
      ],
      "source": [
        "calendar.dtypes.head(14)"
      ]
    },
    {
      "cell_type": "code",
      "execution_count": 16,
      "metadata": {
        "colab": {
          "base_uri": "https://localhost:8080/"
        },
        "id": "HKiH7pE_URr6",
        "outputId": "5e5db1ab-bb04-4b09-e9ef-e21ab1a6639a"
      },
      "outputs": [
        {
          "name": "stdout",
          "output_type": "stream",
          "text": [
            "The number of duplicated rows is 0.\n"
          ]
        }
      ],
      "source": [
        "duplicated_rows_count = calendar.duplicated().sum()\n",
        "print(f'The number of duplicated rows is {duplicated_rows_count}.')"
      ]
    },
    {
      "cell_type": "code",
      "execution_count": 17,
      "metadata": {
        "colab": {
          "base_uri": "https://localhost:8080/"
        },
        "id": "mK6Ij8D5UT3m",
        "outputId": "b0926e1f-e0fd-4f4a-b5ed-d5acc49e610f"
      },
      "outputs": [
        {
          "data": {
            "text/plain": [
              "0       4\n",
              "1281    4\n",
              "1293    4\n",
              "1292    4\n",
              "1291    4\n",
              "       ..\n",
              "85      0\n",
              "1233    0\n",
              "827     0\n",
              "1177    0\n",
              "1968    0\n",
              "Length: 1969, dtype: int64"
            ]
          },
          "execution_count": 17,
          "metadata": {},
          "output_type": "execute_result"
        }
      ],
      "source": [
        "#Checking for null values column-wise\n",
        "calendar.isna().sum(axis=1).sort_values(ascending=False)"
      ]
    },
    {
      "cell_type": "code",
      "execution_count": 18,
      "metadata": {
        "colab": {
          "base_uri": "https://localhost:8080/"
        },
        "id": "X9sv3K-_UjpE",
        "outputId": "73939fb2-f50c-48fb-82a2-d31983b0fe71"
      },
      "outputs": [
        {
          "data": {
            "text/plain": [
              "event_name_2    1964\n",
              "event_type_2    1964\n",
              "event_name_1    1807\n",
              "event_type_1    1807\n",
              "date               0\n",
              "wm_yr_wk           0\n",
              "weekday            0\n",
              "wday               0\n",
              "month              0\n",
              "year               0\n",
              "d                  0\n",
              "snap_CA            0\n",
              "snap_TX            0\n",
              "snap_WI            0\n",
              "dtype: int64"
            ]
          },
          "execution_count": 18,
          "metadata": {},
          "output_type": "execute_result"
        }
      ],
      "source": [
        "# Checking for null values row-wise\n",
        "calendar.isna().sum().sort_values(ascending=False)"
      ]
    },
    {
      "cell_type": "code",
      "execution_count": 19,
      "metadata": {
        "colab": {
          "base_uri": "https://localhost:8080/"
        },
        "id": "YbGr0xfQljCO",
        "outputId": "ff99281b-675d-4fb9-92ed-ecc776991857"
      },
      "outputs": [
        {
          "data": {
            "text/plain": [
              "<bound method DataFrame.info of         store_id        item_id  wm_yr_wk  sell_price\n",
              "0           CA_1  HOBBIES_1_001     11325        9.58\n",
              "1           CA_1  HOBBIES_1_001     11326        9.58\n",
              "2           CA_1  HOBBIES_1_001     11327        8.26\n",
              "3           CA_1  HOBBIES_1_001     11328        8.26\n",
              "4           CA_1  HOBBIES_1_001     11329        8.26\n",
              "...          ...            ...       ...         ...\n",
              "6841116     WI_3    FOODS_3_827     11617        1.00\n",
              "6841117     WI_3    FOODS_3_827     11618        1.00\n",
              "6841118     WI_3    FOODS_3_827     11619        1.00\n",
              "6841119     WI_3    FOODS_3_827     11620        1.00\n",
              "6841120     WI_3    FOODS_3_827     11621        1.00\n",
              "\n",
              "[6841121 rows x 4 columns]>"
            ]
          },
          "execution_count": 19,
          "metadata": {},
          "output_type": "execute_result"
        }
      ],
      "source": [
        "sell_prices.info"
      ]
    },
    {
      "cell_type": "code",
      "execution_count": 20,
      "metadata": {
        "colab": {
          "base_uri": "https://localhost:8080/"
        },
        "id": "1iogIgiamThO",
        "outputId": "34730505-e3d8-45ac-b645-80057b12bba1"
      },
      "outputs": [
        {
          "name": "stdout",
          "output_type": "stream",
          "text": [
            "Number of \n",
            " unique stores: 10 \n",
            " unique item ids: 3049 \n",
            " unique id_weeks: 282 \n",
            " unique sell_prices 1048\n"
          ]
        }
      ],
      "source": [
        "unique_store_sell = len(sell_prices['store_id'].unique())\n",
        "unique_item_sell = len(sell_prices['item_id'].unique())\n",
        "unique_id_week = len(sell_prices['wm_yr_wk'].unique())\n",
        "unique_sell_price = len(sell_prices['sell_price'].unique())\n",
        "print(f'Number of \\n unique stores: {unique_store_sell} \\n unique item ids: {unique_item_sell} \\n unique id_weeks: {unique_id_week} \\n unique sell_prices {unique_sell_price}')"
      ]
    },
    {
      "cell_type": "code",
      "execution_count": 21,
      "metadata": {
        "colab": {
          "base_uri": "https://localhost:8080/"
        },
        "id": "3cFqXYyFmT1G",
        "outputId": "5d769ff5-ecc3-4f91-e668-e1e87ce67632"
      },
      "outputs": [
        {
          "name": "stdout",
          "output_type": "stream",
          "text": [
            "['CA_1' 'CA_2' 'CA_3' 'CA_4' 'TX_1' 'TX_2' 'TX_3' 'WI_1' 'WI_2' 'WI_3']\n",
            "['HOBBIES_1_001' 'HOBBIES_1_002' 'HOBBIES_1_003' ... 'FOODS_3_825'\n",
            " 'FOODS_3_826' 'FOODS_3_827']\n",
            "[11325 11326 11327 11328 11329 11330 11331 11332 11333 11334 11335 11336\n",
            " 11337 11338 11339 11340 11341 11342 11343 11344 11345 11346 11347 11348\n",
            " 11349 11350 11351 11352 11353 11401 11402 11403 11404 11405 11406 11407\n",
            " 11408 11409 11410 11411 11412 11413 11414 11415 11416 11417 11418 11419\n",
            " 11420 11421 11422 11423 11424 11425 11426 11427 11428 11429 11430 11431\n",
            " 11432 11433 11434 11435 11436 11437 11438 11439 11440 11441 11442 11443\n",
            " 11444 11445 11446 11447 11448 11449 11450 11451 11452 11501 11502 11503\n",
            " 11504 11505 11506 11507 11508 11509 11510 11511 11512 11513 11514 11515\n",
            " 11516 11517 11518 11519 11520 11521 11522 11523 11524 11525 11526 11527\n",
            " 11528 11529 11530 11531 11532 11533 11534 11535 11536 11537 11538 11539\n",
            " 11540 11541 11542 11543 11544 11545 11546 11547 11548 11549 11550 11551\n",
            " 11552 11601 11602 11603 11604 11605 11606 11607 11608 11609 11610 11611\n",
            " 11612 11613 11614 11615 11616 11617 11618 11619 11620 11621 11121 11122\n",
            " 11123 11124 11125 11126 11127 11128 11129 11130 11131 11132 11133 11134\n",
            " 11135 11136 11137 11138 11139 11140 11141 11142 11143 11144 11145 11146\n",
            " 11147 11148 11149 11150 11151 11152 11201 11202 11203 11204 11205 11206\n",
            " 11207 11208 11209 11210 11211 11212 11213 11214 11215 11216 11217 11218\n",
            " 11219 11220 11221 11222 11223 11224 11225 11226 11227 11228 11229 11230\n",
            " 11231 11232 11233 11234 11235 11236 11237 11238 11239 11240 11241 11242\n",
            " 11243 11244 11245 11246 11247 11248 11249 11250 11251 11252 11301 11302\n",
            " 11303 11304 11305 11306 11307 11308 11309 11310 11311 11312 11313 11314\n",
            " 11315 11316 11317 11318 11319 11320 11321 11322 11323 11324 11106 11107\n",
            " 11108 11109 11110 11111 11112 11113 11114 11115 11116 11117 11118 11119\n",
            " 11120 11101 11102 11103 11104 11105]\n",
            "[  9.58   8.26   8.38 ... 107.32   8.07  18.47]\n"
          ]
        }
      ],
      "source": [
        "for col in [sell_prices['store_id'],sell_prices['item_id'],sell_prices['wm_yr_wk'],sell_prices['sell_price']]:\n",
        "  print (col.unique())"
      ]
    },
    {
      "cell_type": "code",
      "execution_count": 22,
      "metadata": {
        "colab": {
          "base_uri": "https://localhost:8080/"
        },
        "id": "U70NK0V_mULc",
        "outputId": "5f83b042-7870-4575-b177-e1d6d92e26e7"
      },
      "outputs": [
        {
          "name": "stdout",
          "output_type": "stream",
          "text": [
            "Data types in sell_prices are: \n",
            " object     2\n",
            "int64      1\n",
            "float64    1\n",
            "dtype: int64\n"
          ]
        }
      ],
      "source": [
        "# Inspection of data types\n",
        "print(\"Data types in sell_prices are: \\n\", sell_prices.dtypes.value_counts())"
      ]
    },
    {
      "cell_type": "code",
      "execution_count": 23,
      "metadata": {
        "colab": {
          "base_uri": "https://localhost:8080/"
        },
        "id": "_jyem4D_mUcx",
        "outputId": "a7aa8138-8297-4348-cdda-6f4c55836f37"
      },
      "outputs": [
        {
          "data": {
            "text/plain": [
              "store_id       object\n",
              "item_id        object\n",
              "wm_yr_wk        int64\n",
              "sell_price    float64\n",
              "dtype: object"
            ]
          },
          "execution_count": 23,
          "metadata": {},
          "output_type": "execute_result"
        }
      ],
      "source": [
        "sell_prices.dtypes.head(14)"
      ]
    },
    {
      "cell_type": "code",
      "execution_count": 24,
      "metadata": {
        "colab": {
          "base_uri": "https://localhost:8080/"
        },
        "id": "OlqohLeYmUth",
        "outputId": "c79b6b86-736e-4db3-cdeb-1a9056a43c2c"
      },
      "outputs": [
        {
          "name": "stdout",
          "output_type": "stream",
          "text": [
            "The number of duplicated rows is 0.\n"
          ]
        }
      ],
      "source": [
        "duplicated_rows_count = sell_prices.duplicated().sum()\n",
        "print(f'The number of duplicated rows is {duplicated_rows_count}.')"
      ]
    },
    {
      "cell_type": "code",
      "execution_count": 25,
      "metadata": {
        "colab": {
          "base_uri": "https://localhost:8080/"
        },
        "id": "C0QbJNPGwT56",
        "outputId": "dc3f9f05-2a1d-4104-e5e2-b895c161ae0f"
      },
      "outputs": [
        {
          "data": {
            "text/plain": [
              "0          0\n",
              "4560678    0\n",
              "4560754    0\n",
              "4560753    0\n",
              "4560752    0\n",
              "          ..\n",
              "2280371    0\n",
              "2280370    0\n",
              "2280369    0\n",
              "2280368    0\n",
              "6841120    0\n",
              "Length: 6841121, dtype: int64"
            ]
          },
          "execution_count": 25,
          "metadata": {},
          "output_type": "execute_result"
        }
      ],
      "source": [
        "#Checking for null values column-wise\n",
        "sell_prices.isna().sum(axis=1).sort_values(ascending=False)"
      ]
    },
    {
      "cell_type": "code",
      "execution_count": 26,
      "metadata": {
        "colab": {
          "base_uri": "https://localhost:8080/"
        },
        "id": "RjRq7y5ZwUOE",
        "outputId": "a917d2ac-00ef-4b56-c139-e29eb8bbe1e4"
      },
      "outputs": [
        {
          "data": {
            "text/plain": [
              "store_id      0\n",
              "item_id       0\n",
              "wm_yr_wk      0\n",
              "sell_price    0\n",
              "dtype: int64"
            ]
          },
          "execution_count": 26,
          "metadata": {},
          "output_type": "execute_result"
        }
      ],
      "source": [
        "# Checking for null values row-wise\n",
        "sell_prices.isna().sum().sort_values(ascending=False)"
      ]
    },
    {
      "cell_type": "code",
      "execution_count": 27,
      "metadata": {
        "colab": {
          "base_uri": "https://localhost:8080/"
        },
        "id": "I4rciWNpedp2",
        "outputId": "a8b8a792-7805-408c-a572-b18aa18cb439"
      },
      "outputs": [
        {
          "name": "stdout",
          "output_type": "stream",
          "text": [
            "   Unnamed: 0        item_id    dept_id\n",
            "0          48  HOBBIES_1_049  HOBBIES_1\n",
            "1         381  HOBBIES_1_390  HOBBIES_1\n",
            "2         150  HOBBIES_1_155  HOBBIES_1\n",
            "3         287  HOBBIES_1_296  HOBBIES_1\n",
            "4         415  HOBBIES_1_424  HOBBIES_1\n"
          ]
        }
      ],
      "source": [
        "item = pd.read_csv('../data/raw/item_id_sample.csv') #asi bude treba nahravat opakovane\n",
        "print(item.head())"
      ]
    },
    {
      "cell_type": "code",
      "execution_count": 28,
      "metadata": {
        "colab": {
          "base_uri": "https://localhost:8080/"
        },
        "id": "IUq3jNGJTCaf",
        "outputId": "33778b86-f958-43e9-d8b1-b987afd34269"
      },
      "outputs": [
        {
          "name": "stdout",
          "output_type": "stream",
          "text": [
            "Unique values in Unnamed: 0:\n",
            "[  48  381  150  287  415   56  195  187  154  397  418  443  522  546\n",
            "  444  468  551  426  491  515  704  786 1082 1038  771  662  887  818\n",
            "  865  815 1241 1529 1562 1484 1229 1356 1521 1327 1155 1295 1627 1714\n",
            " 1676 1777 1782 1681 1783 1621 1745 1659 2149 2192 2002 2043 2145 1932\n",
            " 2153 2212 2082 1944 2403 2749 2883 2951 2979 2538 2629 2511 2442 2639]\n",
            "Unique values in item_id:\n",
            "['HOBBIES_1_049' 'HOBBIES_1_390' 'HOBBIES_1_155' 'HOBBIES_1_296'\n",
            " 'HOBBIES_1_424' 'HOBBIES_1_057' 'HOBBIES_1_202' 'HOBBIES_1_193'\n",
            " 'HOBBIES_1_159' 'HOBBIES_1_406' 'HOBBIES_2_003' 'HOBBIES_2_028'\n",
            " 'HOBBIES_2_107' 'HOBBIES_2_131' 'HOBBIES_2_029' 'HOBBIES_2_053'\n",
            " 'HOBBIES_2_136' 'HOBBIES_2_011' 'HOBBIES_2_076' 'HOBBIES_2_100'\n",
            " 'HOUSEHOLD_1_144' 'HOUSEHOLD_1_226' 'HOUSEHOLD_1_527' 'HOUSEHOLD_1_483'\n",
            " 'HOUSEHOLD_1_211' 'HOUSEHOLD_1_101' 'HOUSEHOLD_1_329' 'HOUSEHOLD_1_259'\n",
            " 'HOUSEHOLD_1_307' 'HOUSEHOLD_1_256' 'HOUSEHOLD_2_145' 'HOUSEHOLD_2_434'\n",
            " 'HOUSEHOLD_2_467' 'HOUSEHOLD_2_389' 'HOUSEHOLD_2_133' 'HOUSEHOLD_2_261'\n",
            " 'HOUSEHOLD_2_426' 'HOUSEHOLD_2_232' 'HOUSEHOLD_2_059' 'HOUSEHOLD_2_200'\n",
            " 'FOODS_1_017' 'FOODS_1_105' 'FOODS_1_066' 'FOODS_1_169' 'FOODS_1_174'\n",
            " 'FOODS_1_071' 'FOODS_1_175' 'FOODS_1_011' 'FOODS_1_136' 'FOODS_1_049'\n",
            " 'FOODS_2_323' 'FOODS_2_366' 'FOODS_2_176' 'FOODS_2_217' 'FOODS_2_319'\n",
            " 'FOODS_2_106' 'FOODS_2_327' 'FOODS_2_386' 'FOODS_2_256' 'FOODS_2_118'\n",
            " 'FOODS_3_179' 'FOODS_3_525' 'FOODS_3_659' 'FOODS_3_729' 'FOODS_3_758'\n",
            " 'FOODS_3_314' 'FOODS_3_405' 'FOODS_3_287' 'FOODS_3_218' 'FOODS_3_415']\n",
            "Unique values in dept_id:\n",
            "['HOBBIES_1' 'HOBBIES_2' 'HOUSEHOLD_1' 'HOUSEHOLD_2' 'FOODS_1' 'FOODS_2'\n",
            " 'FOODS_3']\n"
          ]
        }
      ],
      "source": [
        "# prints all unique values in all columns\n",
        "for column in item.columns:\n",
        "    unique_vals = item[column].unique()\n",
        "    print(f\"Unique values in {column}:\")\n",
        "    print(unique_vals)\n",
        "\n",
        "    # item dataset is probably some sort of list of item ids which we should include in our analysis"
      ]
    },
    {
      "cell_type": "code",
      "execution_count": 29,
      "metadata": {
        "colab": {
          "base_uri": "https://localhost:8080/"
        },
        "id": "GfylWPr6dQ36",
        "outputId": "3e723701-927b-4a21-b1cb-79bbe2d4d686"
      },
      "outputs": [
        {
          "name": "stdout",
          "output_type": "stream",
          "text": [
            "Data types in item_ids are: \n",
            " Unnamed: 0     int64\n",
            "item_id       object\n",
            "dept_id       object\n",
            "dtype: object\n"
          ]
        }
      ],
      "source": [
        "print(\"Data types in item_ids are: \\n\", item.dtypes)"
      ]
    },
    {
      "cell_type": "code",
      "execution_count": 30,
      "metadata": {
        "colab": {
          "base_uri": "https://localhost:8080/"
        },
        "id": "bVcVtvhodt-l",
        "outputId": "6c202817-f211-4004-ac8d-38fdf672ea87"
      },
      "outputs": [
        {
          "name": "stdout",
          "output_type": "stream",
          "text": [
            "Unique item_ids in 'sales_validation' that are NOT in 'item': ['HOBBIES_1_001' 'HOBBIES_1_002' 'HOBBIES_1_003' ... 'FOODS_3_825'\n",
            " 'FOODS_3_826' 'FOODS_3_827']\n",
            "Unique dept_ids in 'sales_validation' that are NOT in 'item': []\n"
          ]
        }
      ],
      "source": [
        "# lets find out what combination of item id and dept id are missing from item!\n",
        "unique_item_ids_not_in_item = sales_validation.loc[~sales_validation['item_id'].isin(item['item_id']), 'item_id'].unique()\n",
        "unique_dept_ids_not_in_item = sales_validation.loc[~sales_validation['dept_id'].isin(item['dept_id']), 'dept_id'].unique()\n",
        "print(\"Unique item_ids in 'sales_validation' that are NOT in 'item':\", unique_item_ids_not_in_item)\n",
        "print(\"Unique dept_ids in 'sales_validation' that are NOT in 'item':\", unique_dept_ids_not_in_item)\n"
      ]
    },
    {
      "cell_type": "code",
      "execution_count": 31,
      "metadata": {
        "colab": {
          "base_uri": "https://localhost:8080/"
        },
        "id": "9Td8M2xVeyy4",
        "outputId": "6c10be8d-fb3c-4c89-a141-f87cb122f7a0"
      },
      "outputs": [
        {
          "name": "stdout",
          "output_type": "stream",
          "text": [
            "Number of rows before filtering: 30490\n",
            "Number of rows after filtering: 700\n",
            "                              id        item_id    dept_id   cat_id store_id  \\\n",
            "0  HOBBIES_1_049_CA_1_validation  HOBBIES_1_049  HOBBIES_1  HOBBIES     CA_1   \n",
            "1  HOBBIES_1_049_CA_2_validation  HOBBIES_1_049  HOBBIES_1  HOBBIES     CA_2   \n",
            "2  HOBBIES_1_049_CA_3_validation  HOBBIES_1_049  HOBBIES_1  HOBBIES     CA_3   \n",
            "3  HOBBIES_1_049_CA_4_validation  HOBBIES_1_049  HOBBIES_1  HOBBIES     CA_4   \n",
            "4  HOBBIES_1_049_TX_1_validation  HOBBIES_1_049  HOBBIES_1  HOBBIES     TX_1   \n",
            "\n",
            "  state_id  d_1  d_2  d_3  d_4  ...  d_1904  d_1905  d_1906  d_1907  d_1908  \\\n",
            "0       CA    0    0    0    0  ...       0       0       1       0       1   \n",
            "1       CA    0    0    0    0  ...       0       1       0       0       0   \n",
            "2       CA    0    0    0    0  ...       0       2       0       1       2   \n",
            "3       CA    0    0    0    0  ...       2       0       0       1       0   \n",
            "4       TX    0    0    0    0  ...       0       1       1       0       0   \n",
            "\n",
            "   d_1909  d_1910  d_1911  d_1912  d_1913  \n",
            "0       1       0       1       0       0  \n",
            "1       1       0       0       1       2  \n",
            "2       1       1       0       1       4  \n",
            "3       0       0       0       0       0  \n",
            "4       0       0       0       1       0  \n",
            "\n",
            "[5 rows x 1919 columns]\n"
          ]
        }
      ],
      "source": [
        "# by using merge we can as join the two datasets together as filter out all the useless combinations\n",
        "filtered_df = pd.merge(sales_validation, item[['item_id', 'dept_id']],\n",
        "                                     how='inner',\n",
        "                                     on=['item_id', 'dept_id'])\n",
        "\n",
        "# diagnostic stuff\n",
        "print(\"Number of rows before filtering:\", len(sales_validation))\n",
        "print(\"Number of rows after filtering:\", len(filtered_df))\n",
        "\n",
        "print(filtered_df.head())\n"
      ]
    },
    {
      "cell_type": "code",
      "execution_count": 32,
      "metadata": {
        "colab": {
          "base_uri": "https://localhost:8080/"
        },
        "id": "4qRe6Ca3fl_H",
        "outputId": "1c065ff4-12dd-4b08-d071-41b92d9cf8f5"
      },
      "outputs": [
        {
          "name": "stdout",
          "output_type": "stream",
          "text": [
            "Index(['id', 'item_id', 'dept_id', 'cat_id', 'store_id', 'state_id', 'd_1',\n",
            "       'd_2', 'd_3', 'd_4',\n",
            "       ...\n",
            "       'd_1904', 'd_1905', 'd_1906', 'd_1907', 'd_1908', 'd_1909', 'd_1910',\n",
            "       'd_1911', 'd_1912', 'd_1913'],\n",
            "      dtype='object', length=1919)\n",
            "(700, 1919)\n"
          ]
        }
      ],
      "source": [
        "print(filtered_df.columns)\n",
        "print(filtered_df.shape)"
      ]
    },
    {
      "cell_type": "code",
      "execution_count": 33,
      "metadata": {
        "colab": {
          "base_uri": "https://localhost:8080/"
        },
        "id": "9uCZOjdQfRVd",
        "outputId": "6c54efb4-47d9-48d5-870c-6def7eaddbb4"
      },
      "outputs": [
        {
          "name": "stdout",
          "output_type": "stream",
          "text": [
            "         date  wm_yr_wk    weekday  wday  month  year    d event_name_1  \\\n",
            "0  2011-01-29     11101   Saturday     1      1  2011  d_1          NaN   \n",
            "1  2011-01-30     11101     Sunday     2      1  2011  d_2          NaN   \n",
            "2  2011-01-31     11101     Monday     3      1  2011  d_3          NaN   \n",
            "3  2011-02-01     11101    Tuesday     4      2  2011  d_4          NaN   \n",
            "4  2011-02-02     11101  Wednesday     5      2  2011  d_5          NaN   \n",
            "\n",
            "  event_type_1 event_name_2 event_type_2  snap_CA  snap_TX  snap_WI  \n",
            "0          NaN          NaN          NaN        0        0        0  \n",
            "1          NaN          NaN          NaN        0        0        0  \n",
            "2          NaN          NaN          NaN        0        0        0  \n",
            "3          NaN          NaN          NaN        1        1        0  \n",
            "4          NaN          NaN          NaN        1        0        1  \n",
            "1969\n"
          ]
        }
      ],
      "source": [
        "print(calendar.head())\n",
        "print(len(calendar))"
      ]
    },
    {
      "cell_type": "code",
      "execution_count": 34,
      "metadata": {
        "colab": {
          "base_uri": "https://localhost:8080/"
        },
        "id": "VHzHPsK2gySw",
        "outputId": "65c409f7-bd64-455b-9c19-c3d1f5f41d4b"
      },
      "outputs": [
        {
          "name": "stdout",
          "output_type": "stream",
          "text": [
            "                              id        item_id    dept_id   cat_id store_id  \\\n",
            "0  HOBBIES_1_049_CA_1_validation  HOBBIES_1_049  HOBBIES_1  HOBBIES     CA_1   \n",
            "1  HOBBIES_1_049_CA_2_validation  HOBBIES_1_049  HOBBIES_1  HOBBIES     CA_2   \n",
            "2  HOBBIES_1_049_CA_3_validation  HOBBIES_1_049  HOBBIES_1  HOBBIES     CA_3   \n",
            "3  HOBBIES_1_049_CA_4_validation  HOBBIES_1_049  HOBBIES_1  HOBBIES     CA_4   \n",
            "4  HOBBIES_1_049_TX_1_validation  HOBBIES_1_049  HOBBIES_1  HOBBIES     TX_1   \n",
            "\n",
            "  state_id    d  sales  \n",
            "0       CA  d_1      0  \n",
            "1       CA  d_1      0  \n",
            "2       CA  d_1      0  \n",
            "3       CA  d_1      0  \n",
            "4       TX  d_1      0  \n",
            "['d_1' 'd_2' 'd_3' ... 'd_1911' 'd_1912' 'd_1913']\n",
            "[ 0  2  5  1  3 16  4 17  7  6 10  9 12 13  8 18 11 14 19 43 23 24 20 15\n",
            " 41 22 37 21 27 36 61 30 25 34 31 28 26 35 39 84 33 29 48]\n",
            "1339100\n"
          ]
        }
      ],
      "source": [
        "melted_filtered_df = pd.melt(filtered_df,\n",
        "                             id_vars=['id', 'item_id', 'dept_id', 'cat_id', 'store_id', 'state_id'],\n",
        "                             var_name='d',\n",
        "                             value_name='sales')\n",
        "print(melted_filtered_df.head())\n",
        "print(melted_filtered_df.d.unique()) # error check\n",
        "print(melted_filtered_df.sales.unique())\n",
        "print(len(melted_filtered_df))"
      ]
    },
    {
      "cell_type": "code",
      "execution_count": 35,
      "metadata": {
        "colab": {
          "base_uri": "https://localhost:8080/"
        },
        "id": "qBE5e7gNg5RU",
        "outputId": "fd431038-db91-49bc-aba9-738db8dd5124"
      },
      "outputs": [
        {
          "name": "stdout",
          "output_type": "stream",
          "text": [
            "                              id        item_id    dept_id   cat_id store_id  \\\n",
            "0  HOBBIES_1_049_CA_1_validation  HOBBIES_1_049  HOBBIES_1  HOBBIES     CA_1   \n",
            "1  HOBBIES_1_049_CA_2_validation  HOBBIES_1_049  HOBBIES_1  HOBBIES     CA_2   \n",
            "2  HOBBIES_1_049_CA_3_validation  HOBBIES_1_049  HOBBIES_1  HOBBIES     CA_3   \n",
            "3  HOBBIES_1_049_CA_4_validation  HOBBIES_1_049  HOBBIES_1  HOBBIES     CA_4   \n",
            "4  HOBBIES_1_049_TX_1_validation  HOBBIES_1_049  HOBBIES_1  HOBBIES     TX_1   \n",
            "\n",
            "  state_id    d  sales        date  wm_yr_wk  ... wday  month  year  \\\n",
            "0       CA  d_1      0  2011-01-29     11101  ...    1      1  2011   \n",
            "1       CA  d_1      0  2011-01-29     11101  ...    1      1  2011   \n",
            "2       CA  d_1      0  2011-01-29     11101  ...    1      1  2011   \n",
            "3       CA  d_1      0  2011-01-29     11101  ...    1      1  2011   \n",
            "4       TX  d_1      0  2011-01-29     11101  ...    1      1  2011   \n",
            "\n",
            "   event_name_1 event_type_1 event_name_2 event_type_2 snap_CA  snap_TX  \\\n",
            "0           NaN          NaN          NaN          NaN       0        0   \n",
            "1           NaN          NaN          NaN          NaN       0        0   \n",
            "2           NaN          NaN          NaN          NaN       0        0   \n",
            "3           NaN          NaN          NaN          NaN       0        0   \n",
            "4           NaN          NaN          NaN          NaN       0        0   \n",
            "\n",
            "   snap_WI  \n",
            "0        0  \n",
            "1        0  \n",
            "2        0  \n",
            "3        0  \n",
            "4        0  \n",
            "\n",
            "[5 rows x 21 columns]\n",
            "Index(['id', 'item_id', 'dept_id', 'cat_id', 'store_id', 'state_id', 'd',\n",
            "       'sales', 'date', 'wm_yr_wk', 'weekday', 'wday', 'month', 'year',\n",
            "       'event_name_1', 'event_type_1', 'event_name_2', 'event_type_2',\n",
            "       'snap_CA', 'snap_TX', 'snap_WI'],\n",
            "      dtype='object')\n",
            "1339100\n"
          ]
        }
      ],
      "source": [
        "merged_df = pd.merge(melted_filtered_df, calendar, how='inner', on='d')\n",
        "print(merged_df.head())\n",
        "print(merged_df.columns) # see we have four different columns connected into events.let's make them 2!\n",
        "print(len(merged_df))"
      ]
    },
    {
      "cell_type": "code",
      "execution_count": 36,
      "metadata": {
        "colab": {
          "base_uri": "https://localhost:8080/"
        },
        "id": "xpIbe5tbiutC",
        "outputId": "5de320ff-09b1-4d81-85fb-ae72761f6d77"
      },
      "outputs": [
        {
          "name": "stdout",
          "output_type": "stream",
          "text": [
            "[nan 'Sporting' 'Cultural' 'National' 'Religious']\n",
            "[nan 'Cultural' 'Religious']\n",
            "[nan 'SuperBowl' 'ValentinesDay' 'PresidentsDay' 'LentStart' 'LentWeek2'\n",
            " 'StPatricksDay' 'Purim End' 'OrthodoxEaster' 'Pesach End' 'Cinco De Mayo'\n",
            " \"Mother's day\" 'MemorialDay' 'NBAFinalsStart' 'NBAFinalsEnd'\n",
            " \"Father's day\" 'IndependenceDay' 'Ramadan starts' 'Eid al-Fitr'\n",
            " 'LaborDay' 'ColumbusDay' 'Halloween' 'EidAlAdha' 'VeteransDay'\n",
            " 'Thanksgiving' 'Christmas' 'Chanukah End' 'NewYear' 'OrthodoxChristmas'\n",
            " 'MartinLutherKingDay' 'Easter']\n",
            "[nan 'Easter' 'Cinco De Mayo' 'OrthodoxEaster' \"Father's day\"]\n"
          ]
        }
      ],
      "source": [
        "print(merged_df.event_type_1.unique())\n",
        "print(merged_df.event_type_2.unique())\n",
        "print(merged_df.event_name_1.unique())\n",
        "print(merged_df.event_name_2.unique())"
      ]
    },
    {
      "cell_type": "code",
      "execution_count": 37,
      "metadata": {
        "id": "jG2je2t_iX4Y"
      },
      "outputs": [],
      "source": [
        "# melt (aka make them long-form rather than wide-form)\n",
        "df_event_name_melted = pd.melt(merged_df,\n",
        "                               id_vars=['id', 'item_id', 'dept_id', 'cat_id', 'store_id', 'state_id', 'd', 'sales', 'date'],\n",
        "                               value_vars=['event_name_1', 'event_name_2'],\n",
        "                               var_name='event_name_type',\n",
        "                               value_name='event_name')\n",
        "df_event_type_melted = pd.melt(merged_df,\n",
        "                               id_vars=['id', 'item_id', 'dept_id', 'cat_id', 'store_id', 'state_id', 'd', 'sales', 'date'],\n",
        "                               value_vars=['event_type_1', 'event_type_2'],\n",
        "                               var_name='event_type_type',\n",
        "                               value_name='event_type')\n",
        "df_event_name_melted.drop('event_name_type', axis=1, inplace=True)\n",
        "df_event_type_melted.drop('event_type_type', axis=1, inplace=True)\n",
        "\n",
        "sort_columns = ['id', 'item_id', 'dept_id', 'cat_id', 'store_id', 'state_id', 'd', 'sales', 'date']\n",
        "\n",
        "df_event_name_melted.sort_values(by=sort_columns, inplace=True)\n",
        "df_event_type_melted.sort_values(by=sort_columns, inplace=True)\n",
        "\n",
        "cols_event_name = ['event_name']\n",
        "cols_event_type = ['event_type']\n",
        "\n",
        "final_df = pd.concat([df_event_name_melted[sort_columns],\n",
        "                      merged_df[['wm_yr_wk', 'weekday', 'wday', 'month', 'year', 'snap_CA', 'snap_TX', 'snap_WI']],\n",
        "                      df_event_name_melted[cols_event_name],\n",
        "                      df_event_type_melted[cols_event_type]], axis=1)\n",
        "final_df.dropna(subset=['weekday', 'month'], inplace=True)\n"
      ]
    },
    {
      "cell_type": "code",
      "execution_count": 38,
      "metadata": {
        "colab": {
          "base_uri": "https://localhost:8080/"
        },
        "id": "chGLmjx4iiga",
        "outputId": "45d795f4-d5d4-4c7f-9c92-3a27e5ebe592"
      },
      "outputs": [
        {
          "name": "stdout",
          "output_type": "stream",
          "text": [
            "                              id        item_id    dept_id   cat_id store_id  \\\n",
            "0  HOBBIES_1_049_CA_1_validation  HOBBIES_1_049  HOBBIES_1  HOBBIES     CA_1   \n",
            "1  HOBBIES_1_049_CA_2_validation  HOBBIES_1_049  HOBBIES_1  HOBBIES     CA_2   \n",
            "2  HOBBIES_1_049_CA_3_validation  HOBBIES_1_049  HOBBIES_1  HOBBIES     CA_3   \n",
            "3  HOBBIES_1_049_CA_4_validation  HOBBIES_1_049  HOBBIES_1  HOBBIES     CA_4   \n",
            "4  HOBBIES_1_049_TX_1_validation  HOBBIES_1_049  HOBBIES_1  HOBBIES     TX_1   \n",
            "\n",
            "  state_id    d  sales        date  wm_yr_wk   weekday  wday  month    year  \\\n",
            "0       CA  d_1      0  2011-01-29   11101.0  Saturday   1.0    1.0  2011.0   \n",
            "1       CA  d_1      0  2011-01-29   11101.0  Saturday   1.0    1.0  2011.0   \n",
            "2       CA  d_1      0  2011-01-29   11101.0  Saturday   1.0    1.0  2011.0   \n",
            "3       CA  d_1      0  2011-01-29   11101.0  Saturday   1.0    1.0  2011.0   \n",
            "4       TX  d_1      0  2011-01-29   11101.0  Saturday   1.0    1.0  2011.0   \n",
            "\n",
            "   snap_CA  snap_TX  snap_WI event_name event_type  \n",
            "0      0.0      0.0      0.0        NaN        NaN  \n",
            "1      0.0      0.0      0.0        NaN        NaN  \n",
            "2      0.0      0.0      0.0        NaN        NaN  \n",
            "3      0.0      0.0      0.0        NaN        NaN  \n",
            "4      0.0      0.0      0.0        NaN        NaN  \n",
            "Index(['id', 'item_id', 'dept_id', 'cat_id', 'store_id', 'state_id', 'd',\n",
            "       'sales', 'date', 'wm_yr_wk', 'weekday', 'wday', 'month', 'year',\n",
            "       'snap_CA', 'snap_TX', 'snap_WI', 'event_name', 'event_type'],\n",
            "      dtype='object')\n",
            "[nan 'Sporting' 'Cultural' 'National' 'Religious']\n",
            "[nan 'SuperBowl' 'ValentinesDay' 'PresidentsDay' 'LentStart' 'LentWeek2'\n",
            " 'StPatricksDay' 'Purim End' 'OrthodoxEaster' 'Pesach End' 'Cinco De Mayo'\n",
            " \"Mother's day\" 'MemorialDay' 'NBAFinalsStart' 'NBAFinalsEnd'\n",
            " \"Father's day\" 'IndependenceDay' 'Ramadan starts' 'Eid al-Fitr'\n",
            " 'LaborDay' 'ColumbusDay' 'Halloween' 'EidAlAdha' 'VeteransDay'\n",
            " 'Thanksgiving' 'Christmas' 'Chanukah End' 'NewYear' 'OrthodoxChristmas'\n",
            " 'MartinLutherKingDay' 'Easter']\n"
          ]
        }
      ],
      "source": [
        "print(final_df.head())\n",
        "print(final_df.columns)\n",
        "print(final_df.event_type.unique()) #error check\n",
        "print(final_df.event_name.unique()) #error check"
      ]
    },
    {
      "cell_type": "code",
      "execution_count": 39,
      "metadata": {
        "colab": {
          "base_uri": "https://localhost:8080/"
        },
        "id": "YlrwH3EEjssq",
        "outputId": "5d2a9a6e-753b-4816-a84d-ae8bdb14a973"
      },
      "outputs": [
        {
          "name": "stdout",
          "output_type": "stream",
          "text": [
            "Sum of NaN values in each column:\n",
            "id                  0\n",
            "item_id             0\n",
            "dept_id             0\n",
            "cat_id              0\n",
            "store_id            0\n",
            "state_id            0\n",
            "d                   0\n",
            "sales               0\n",
            "date                0\n",
            "wm_yr_wk            0\n",
            "weekday             0\n",
            "wday                0\n",
            "month               0\n",
            "year                0\n",
            "snap_CA             0\n",
            "snap_TX             0\n",
            "snap_WI             0\n",
            "event_name    1231300\n",
            "event_type    1231300\n",
            "dtype: int64\n",
            "total rows: 1339100\n"
          ]
        }
      ],
      "source": [
        "nan_count = final_df.isna().sum()\n",
        "\n",
        "# sum of nan values in all columns\n",
        "print(\"Sum of NaN values in each column:\")\n",
        "print(nan_count)\n",
        "print(f\"total rows: {len(final_df)}\")"
      ]
    },
    {
      "cell_type": "code",
      "execution_count": 40,
      "metadata": {
        "colab": {
          "base_uri": "https://localhost:8080/"
        },
        "id": "SSY9i9ddsC50",
        "outputId": "1790f139-463d-4933-e168-2bb3a2340bf1"
      },
      "outputs": [
        {
          "name": "stdout",
          "output_type": "stream",
          "text": [
            "  store_id        item_id  wm_yr_wk  sell_price\n",
            "0     CA_1  HOBBIES_1_001     11325        9.58\n",
            "1     CA_1  HOBBIES_1_001     11326        9.58\n",
            "2     CA_1  HOBBIES_1_001     11327        8.26\n",
            "3     CA_1  HOBBIES_1_001     11328        8.26\n",
            "4     CA_1  HOBBIES_1_001     11329        8.26\n",
            "store_id       object\n",
            "item_id        object\n",
            "wm_yr_wk        int64\n",
            "sell_price    float64\n",
            "dtype: object\n"
          ]
        }
      ],
      "source": [
        "# sell prices dataframe is still missing, so here we go!\n",
        "print(sell_prices.head())\n",
        "print(sell_prices.dtypes)"
      ]
    },
    {
      "cell_type": "code",
      "execution_count": 41,
      "metadata": {
        "colab": {
          "base_uri": "https://localhost:8080/"
        },
        "id": "6fmntdrrsIAy",
        "outputId": "0e77efd4-9cc9-4763-a91b-bd71e34ff853"
      },
      "outputs": [
        {
          "name": "stdout",
          "output_type": "stream",
          "text": [
            "                              id        item_id    dept_id   cat_id store_id  \\\n",
            "0  HOBBIES_1_049_CA_1_validation  HOBBIES_1_049  HOBBIES_1  HOBBIES     CA_1   \n",
            "1  HOBBIES_1_049_CA_2_validation  HOBBIES_1_049  HOBBIES_1  HOBBIES     CA_2   \n",
            "2  HOBBIES_1_049_CA_3_validation  HOBBIES_1_049  HOBBIES_1  HOBBIES     CA_3   \n",
            "3  HOBBIES_1_049_CA_4_validation  HOBBIES_1_049  HOBBIES_1  HOBBIES     CA_4   \n",
            "4  HOBBIES_1_049_TX_1_validation  HOBBIES_1_049  HOBBIES_1  HOBBIES     TX_1   \n",
            "\n",
            "  state_id    d  sales        date wm_yr_wk   weekday  wday  month    year  \\\n",
            "0       CA  d_1      0  2011-01-29    11101  Saturday   1.0    1.0  2011.0   \n",
            "1       CA  d_1      0  2011-01-29    11101  Saturday   1.0    1.0  2011.0   \n",
            "2       CA  d_1      0  2011-01-29    11101  Saturday   1.0    1.0  2011.0   \n",
            "3       CA  d_1      0  2011-01-29    11101  Saturday   1.0    1.0  2011.0   \n",
            "4       TX  d_1      0  2011-01-29    11101  Saturday   1.0    1.0  2011.0   \n",
            "\n",
            "   snap_CA  snap_TX  snap_WI event_name event_type  \n",
            "0      0.0      0.0      0.0        NaN        NaN  \n",
            "1      0.0      0.0      0.0        NaN        NaN  \n",
            "2      0.0      0.0      0.0        NaN        NaN  \n",
            "3      0.0      0.0      0.0        NaN        NaN  \n",
            "4      0.0      0.0      0.0        NaN        NaN  \n"
          ]
        }
      ],
      "source": [
        "#print(final_df.head()) # the wm_yr_wk column is float and has decimal places, in comparison to sell_prices wm_yr_wk col which does not have decimal places\n",
        "#print(final_df.dtypes)\n",
        "final_df['wm_yr_wk'] = final_df['wm_yr_wk'].astype(int)\n",
        "final_df['wm_yr_wk'] = final_df['wm_yr_wk'].astype('object')\n",
        "print(final_df.head())"
      ]
    },
    {
      "cell_type": "code",
      "execution_count": 42,
      "metadata": {
        "colab": {
          "base_uri": "https://localhost:8080/"
        },
        "id": "h4ECjfT_uxO3",
        "outputId": "0907d2e1-bc90-4a4f-e638-bb8b52b59f98"
      },
      "outputs": [
        {
          "name": "stdout",
          "output_type": "stream",
          "text": [
            "store_id      0\n",
            "item_id       0\n",
            "wm_yr_wk      0\n",
            "sell_price    0\n",
            "dtype: int64\n"
          ]
        }
      ],
      "source": [
        "print(sell_prices.isna().sum())"
      ]
    },
    {
      "cell_type": "code",
      "execution_count": 43,
      "metadata": {
        "id": "ISaOtAKWs_dq"
      },
      "outputs": [],
      "source": [
        "final_df = pd.merge(final_df,\n",
        "                    sell_prices[['store_id', 'item_id', 'wm_yr_wk', 'sell_price']],\n",
        "                    on=['store_id', 'item_id', 'wm_yr_wk'],\n",
        "                    how='left')"
      ]
    },
    {
      "cell_type": "code",
      "execution_count": 44,
      "metadata": {
        "colab": {
          "base_uri": "https://localhost:8080/"
        },
        "id": "oj_Dqh1R0Qtx",
        "outputId": "018358c3-2593-4b02-c5ed-4fdc44949298"
      },
      "outputs": [
        {
          "name": "stdout",
          "output_type": "stream",
          "text": [
            "                              id        item_id    dept_id   cat_id store_id  \\\n",
            "0  HOBBIES_1_049_CA_1_validation  HOBBIES_1_049  HOBBIES_1  HOBBIES     CA_1   \n",
            "1  HOBBIES_1_049_CA_2_validation  HOBBIES_1_049  HOBBIES_1  HOBBIES     CA_2   \n",
            "2  HOBBIES_1_049_CA_3_validation  HOBBIES_1_049  HOBBIES_1  HOBBIES     CA_3   \n",
            "3  HOBBIES_1_049_CA_4_validation  HOBBIES_1_049  HOBBIES_1  HOBBIES     CA_4   \n",
            "4  HOBBIES_1_049_TX_1_validation  HOBBIES_1_049  HOBBIES_1  HOBBIES     TX_1   \n",
            "\n",
            "  state_id    d  sales        date wm_yr_wk   weekday  wday  month    year  \\\n",
            "0       CA  d_1      0  2011-01-29    11101  Saturday   1.0    1.0  2011.0   \n",
            "1       CA  d_1      0  2011-01-29    11101  Saturday   1.0    1.0  2011.0   \n",
            "2       CA  d_1      0  2011-01-29    11101  Saturday   1.0    1.0  2011.0   \n",
            "3       CA  d_1      0  2011-01-29    11101  Saturday   1.0    1.0  2011.0   \n",
            "4       TX  d_1      0  2011-01-29    11101  Saturday   1.0    1.0  2011.0   \n",
            "\n",
            "   snap_CA  snap_TX  snap_WI event_name event_type  sell_price  \n",
            "0      0.0      0.0      0.0        NaN        NaN         NaN  \n",
            "1      0.0      0.0      0.0        NaN        NaN         NaN  \n",
            "2      0.0      0.0      0.0        NaN        NaN         NaN  \n",
            "3      0.0      0.0      0.0        NaN        NaN         NaN  \n",
            "4      0.0      0.0      0.0        NaN        NaN         NaN  \n"
          ]
        }
      ],
      "source": [
        "print(final_df.head())"
      ]
    },
    {
      "cell_type": "code",
      "execution_count": 45,
      "metadata": {
        "colab": {
          "base_uri": "https://localhost:8080/"
        },
        "id": "IyJrIGxTt_N_",
        "outputId": "15cfc6ab-ceff-4284-cfab-203bf77fe7cf"
      },
      "outputs": [
        {
          "name": "stdout",
          "output_type": "stream",
          "text": [
            "id                  0\n",
            "item_id             0\n",
            "dept_id             0\n",
            "cat_id              0\n",
            "store_id            0\n",
            "state_id            0\n",
            "d                   0\n",
            "sales               0\n",
            "date                0\n",
            "wm_yr_wk            0\n",
            "weekday             0\n",
            "wday                0\n",
            "month               0\n",
            "year                0\n",
            "snap_CA             0\n",
            "snap_TX             0\n",
            "snap_WI             0\n",
            "event_name    1231300\n",
            "event_type    1231300\n",
            "sell_price     202188\n",
            "dtype: int64\n",
            "id            1339100\n",
            "item_id       1339100\n",
            "dept_id       1339100\n",
            "cat_id        1339100\n",
            "store_id      1339100\n",
            "state_id      1339100\n",
            "d             1339100\n",
            "sales         1339100\n",
            "date          1339100\n",
            "wm_yr_wk      1339100\n",
            "weekday       1339100\n",
            "wday          1339100\n",
            "month         1339100\n",
            "year          1339100\n",
            "snap_CA       1339100\n",
            "snap_TX       1339100\n",
            "snap_WI       1339100\n",
            "event_name     107800\n",
            "event_type     107800\n",
            "sell_price    1136912\n",
            "dtype: int64\n",
            "(1339100, 20)\n",
            "2016-04-24\n"
          ]
        }
      ],
      "source": [
        "final_df = final_df.drop_duplicates()\n",
        "print(final_df.isna().sum())\n",
        "\n",
        "print(final_df.notna().sum())\n",
        "print(final_df.shape)\n",
        "print(final_df.date.max())"
      ]
    },
    {
      "cell_type": "code",
      "execution_count": 46,
      "metadata": {
        "colab": {
          "base_uri": "https://localhost:8080/",
          "height": 446
        },
        "id": "6vwm_GAiugtK",
        "outputId": "f99e0ed5-1156-4a52-e8af-0662704b08e8"
      },
      "outputs": [
        {
          "name": "stdout",
          "output_type": "stream",
          "text": [
            "id                 0\n",
            "item_id            0\n",
            "dept_id            0\n",
            "cat_id             0\n",
            "store_id           0\n",
            "state_id           0\n",
            "d                  0\n",
            "sales              0\n",
            "date               0\n",
            "wm_yr_wk           0\n",
            "weekday            0\n",
            "wday               0\n",
            "month              0\n",
            "year               0\n",
            "snap_CA            0\n",
            "snap_TX            0\n",
            "snap_WI            0\n",
            "event_name    185439\n",
            "event_type    185439\n",
            "sell_price    202188\n",
            "dtype: int64\n"
          ]
        },
        {
          "data": {
            "text/plain": [
              "'2015-12-25'"
            ]
          },
          "execution_count": 46,
          "metadata": {},
          "output_type": "execute_result"
        }
      ],
      "source": [
        "filtered_df = final_df[final_df['sell_price'].isna()]\n",
        "filtered_df.drop_duplicates()\n",
        "print(filtered_df.isna().sum())\n",
        "filtered_df.date.max()\n"
      ]
    },
    {
      "cell_type": "code",
      "execution_count": 47,
      "metadata": {
        "colab": {
          "base_uri": "https://localhost:8080/"
        },
        "id": "LaG4nAYVwRlp",
        "outputId": "a0d5992c-409c-40d1-81ca-533502e54c1f"
      },
      "outputs": [
        {
          "name": "stdout",
          "output_type": "stream",
          "text": [
            "Unique item_ids in 'sales_validation' that are NOT in 'item': []\n",
            "Unique dept_ids in 'sales_validation' that are NOT in 'item': []\n"
          ]
        }
      ],
      "source": [
        "unique_item_ids_not_in_item = filtered_df.loc[~filtered_df['item_id'].isin(item['item_id']), 'item_id'].unique()\n",
        "unique_dept_ids_not_in_item = filtered_df.loc[~filtered_df['dept_id'].isin(item['dept_id']), 'dept_id'].unique()\n",
        "print(\"Unique item_ids in 'sales_validation' that are NOT in 'item':\", unique_item_ids_not_in_item)\n",
        "print(\"Unique dept_ids in 'sales_validation' that are NOT in 'item':\", unique_dept_ids_not_in_item)\n"
      ]
    },
    {
      "cell_type": "code",
      "execution_count": 48,
      "metadata": {
        "colab": {
          "base_uri": "https://localhost:8080/"
        },
        "id": "fpaeA0-9zcan",
        "outputId": "0c2ce119-6ad7-458f-a8cf-390678344803"
      },
      "outputs": [
        {
          "name": "stdout",
          "output_type": "stream",
          "text": [
            "0             1\n",
            "1             1\n",
            "2             1\n",
            "3             1\n",
            "4             1\n",
            "           ... \n",
            "1339095    1913\n",
            "1339096    1913\n",
            "1339097    1913\n",
            "1339098    1913\n",
            "1339099    1913\n",
            "Name: d, Length: 1339100, dtype: int32\n"
          ]
        }
      ],
      "source": [
        "#change column d type from string to inteager\n",
        "final_df.d = final_df.d.str.replace(\"d_\",\"\")\n",
        "final_df.d = final_df.d.astype(int)\n",
        "print(final_df.d)"
      ]
    },
    {
      "cell_type": "code",
      "execution_count": 49,
      "metadata": {},
      "outputs": [],
      "source": [
        "final_df['date'] = pd.to_datetime(final_df['date']) \n",
        "final_df[\"month\"] = final_df['date'].dt.strftime('%B')"
      ]
    },
    {
      "cell_type": "code",
      "execution_count": 50,
      "metadata": {
        "colab": {
          "base_uri": "https://localhost:8080/"
        },
        "id": "cW8yrjl7Erj3",
        "outputId": "1d53be00-69fd-49ba-c0eb-b09214d3cb24"
      },
      "outputs": [
        {
          "name": "stdout",
          "output_type": "stream",
          "text": [
            "Count of na values in column turnover: 0\n"
          ]
        }
      ],
      "source": [
        "#new column turnover\n",
        "final_df[\"turnover\"] = final_df.sales * final_df.sell_price\n",
        "final_df = final_df.dropna(subset=[\"turnover\"])\n",
        "print(f\"Count of na values in column turnover: {final_df.turnover.isna().sum()}\")"
      ]
    },
    {
      "cell_type": "code",
      "execution_count": 51,
      "metadata": {
        "colab": {
          "base_uri": "https://localhost:8080/"
        },
        "id": "1wshL6oyGCUJ",
        "outputId": "a2266b1b-e2d8-4b8e-defe-f3d2ae6abb05"
      },
      "outputs": [],
      "source": [
        "#Drop rows where date is higher than 1.2.2016\n",
        "#final_df = final_df[final_df.date <= \"2016-02-01\"]\n",
        "\n",
        "#Length of dataframe after drop\n",
        "#len(final_df)"
      ]
    },
    {
      "cell_type": "code",
      "execution_count": 52,
      "metadata": {},
      "outputs": [
        {
          "data": {
            "text/plain": [
              "Index(['id', 'item_id', 'dept_id', 'cat_id', 'store_id', 'state_id', 'd',\n",
              "       'sales', 'date', 'wm_yr_wk', 'weekday', 'wday', 'month', 'year',\n",
              "       'snap_CA', 'snap_TX', 'snap_WI', 'event_name', 'event_type',\n",
              "       'sell_price', 'turnover'],\n",
              "      dtype='object')"
            ]
          },
          "execution_count": 52,
          "metadata": {},
          "output_type": "execute_result"
        }
      ],
      "source": [
        "final_df.columns"
      ]
    },
    {
      "cell_type": "code",
      "execution_count": 53,
      "metadata": {
        "id": "IHJyWT5QS--F"
      },
      "outputs": [],
      "source": [
        "#Droping columns\n",
        "final_df = final_df.drop([\"snap_TX\", \"snap_CA\", \"snap_WI\", \"event_name\", \"wday\"],axis =1)"
      ]
    },
    {
      "cell_type": "code",
      "execution_count": 54,
      "metadata": {
        "id": "kHgCahOOKQRh"
      },
      "outputs": [],
      "source": [
        "#Rolling windows and lagged variables\n",
        "\n",
        "new_columns = [\"sales_d_1\", \"sales_d_2\", \"sales_d_3\",\n",
        "               \"sales_month_avg\", \"sales_month_max\", \"sales_month_min\",\n",
        "               \"sales_week_avg\", \"sales_week_max\", \"sales_week_min\"]\n",
        "\n",
        "# Calculate rolling statistics and lag values for turnover column\n",
        "final_df[new_columns[0]] = final_df.groupby('id')['sales'].shift(1)\n",
        "final_df[new_columns[1]] = final_df.groupby('id')['sales'].shift(2)\n",
        "final_df[new_columns[2]] = final_df.groupby('id')['sales'].shift(3)\n",
        "final_df[new_columns[3]] = final_df.groupby('id')['sales_d_1'].transform(lambda x: x.rolling(30).mean())\n",
        "final_df[new_columns[6]] = final_df.groupby('id')['sales_d_1'].transform(lambda x: x.rolling(7).mean())\n",
        "\n",
        "\n",
        "# Sort the DataFrame by 'date' and reset the index\n",
        "final_df = final_df.sort_values(by=\"date\").reset_index(drop=True)\n"
      ]
    },
    {
      "cell_type": "code",
      "execution_count": 55,
      "metadata": {},
      "outputs": [],
      "source": [
        "#save dataframe\n",
        "#final_df.to_csv('../data/interim/final_df_for_test.csv')"
      ]
    },
    {
      "cell_type": "code",
      "execution_count": 108,
      "metadata": {
        "id": "lJ1gUtT-UIrp"
      },
      "outputs": [],
      "source": [
        "#Load pre-counted dataframe\n",
        "final_df = pd.read_csv('../data/interim/final_df_for_test.csv')\n",
        "#final_df.date = pd.to_datetime(final_df.date)"
      ]
    },
    {
      "cell_type": "code",
      "execution_count": 113,
      "metadata": {},
      "outputs": [
        {
          "data": {
            "text/plain": [
              "70"
            ]
          },
          "execution_count": 113,
          "metadata": {},
          "output_type": "execute_result"
        }
      ],
      "source": [
        "len(final_df.item_id.unique())"
      ]
    },
    {
      "cell_type": "code",
      "execution_count": 92,
      "metadata": {},
      "outputs": [],
      "source": [
        "final_df.dropna(axis = 0, subset=[\"sales_d_1\", \"sales_d_2\", \"sales_d_3\",\n",
        "               \"sales_month_avg\", \"sales_week_avg\"], inplace=True)"
      ]
    },
    {
      "cell_type": "code",
      "execution_count": 93,
      "metadata": {
        "id": "d7p8uQHsUvVU"
      },
      "outputs": [],
      "source": [
        "#Modeling - data preparation\n",
        "final_df = final_df.sort_values(by='date')\n",
        "final_df.d = final_df.d - final_df.d.min() + 1\n",
        "final_df = final_df[final_df.date > \"2016-02-01\"]\n",
        "final_df = final_df[['item_id', 'store_id',  #categorical - product definition, out because of high correlation - 'state_id', 'cat_id', 'id', 'dept_id', \n",
        "                     'weekday', 'month', 'event_type', #categorical - time definition and event - sesonality\n",
        "                     'd',  #trend ,out because of high correlation - 'wm_yr_wk', 'year',\n",
        "                     'sell_price','sales','turnover',\n",
        "                     \"sales_d_1\", \"sales_d_2\", \"sales_d_3\",\n",
        "                     \"sales_week_avg\", \"sales_month_avg\"]]"
      ]
    },
    {
      "cell_type": "code",
      "execution_count": 94,
      "metadata": {},
      "outputs": [],
      "source": [
        "#Make dummy variables (one-hot encoding)\n",
        "#final_df = pd.get_dummies(final_df, columns=['id','item_id', 'dept_id', 'cat_id', 'store_id', 'state_id','weekday', 'month', 'event_type'], drop_first=False)\n",
        "\n",
        "final_df = pd.get_dummies(final_df, columns=['item_id', 'store_id', 'weekday', 'month', 'event_type'], drop_first=False)"
      ]
    },
    {
      "cell_type": "code",
      "execution_count": 95,
      "metadata": {},
      "outputs": [],
      "source": [
        "for month in ['month_January', 'month_May', 'month_June', 'month_July', 'month_August', 'month_September', 'month_October', 'month_November', 'month_December']:\n",
        "    final_df[month] = 0"
      ]
    },
    {
      "cell_type": "code",
      "execution_count": 96,
      "metadata": {},
      "outputs": [],
      "source": [
        "final_df = final_df.drop(columns=['item_id_HOBBIES_1_049', 'store_id_CA_1', 'weekday_Monday', 'month_January'])"
      ]
    },
    {
      "cell_type": "code",
      "execution_count": 97,
      "metadata": {},
      "outputs": [],
      "source": [
        "#Dataframe to train+validation and test data\n",
        "X = final_df.drop(columns=['sales'])\n",
        "y = final_df.sales\n"
      ]
    },
    {
      "cell_type": "code",
      "execution_count": 98,
      "metadata": {},
      "outputs": [],
      "source": [
        "turnover = X.turnover\n",
        "\n",
        "X = X.drop(columns=['turnover'])"
      ]
    },
    {
      "cell_type": "code",
      "execution_count": 99,
      "metadata": {},
      "outputs": [],
      "source": [
        "with open('../models/xgb_model.pkl', 'rb') as file:\n",
        "    xgb = pickle.load(file)"
      ]
    },
    {
      "cell_type": "code",
      "execution_count": 103,
      "metadata": {},
      "outputs": [],
      "source": [
        "X = X[['d',\n",
        " 'sell_price',\n",
        " 'sales_d_1',\n",
        " 'sales_d_2',\n",
        " 'sales_d_3',\n",
        " 'sales_week_avg',\n",
        " 'sales_month_avg',\n",
        " 'item_id_FOODS_1_011',\n",
        " 'item_id_FOODS_1_017',\n",
        " 'item_id_FOODS_1_049',\n",
        " 'item_id_FOODS_1_066',\n",
        " 'item_id_FOODS_1_071',\n",
        " 'item_id_FOODS_1_105',\n",
        " 'item_id_FOODS_1_136',\n",
        " 'item_id_FOODS_1_169',\n",
        " 'item_id_FOODS_1_174',\n",
        " 'item_id_FOODS_1_175',\n",
        " 'item_id_FOODS_2_106',\n",
        " 'item_id_FOODS_2_118',\n",
        " 'item_id_FOODS_2_176',\n",
        " 'item_id_FOODS_2_217',\n",
        " 'item_id_FOODS_2_256',\n",
        " 'item_id_FOODS_2_319',\n",
        " 'item_id_FOODS_2_323',\n",
        " 'item_id_FOODS_2_327',\n",
        " 'item_id_FOODS_2_366',\n",
        " 'item_id_FOODS_2_386',\n",
        " 'item_id_FOODS_3_179',\n",
        " 'item_id_FOODS_3_218',\n",
        " 'item_id_FOODS_3_287',\n",
        " 'item_id_FOODS_3_314',\n",
        " 'item_id_FOODS_3_405',\n",
        " 'item_id_FOODS_3_415',\n",
        " 'item_id_FOODS_3_525',\n",
        " 'item_id_FOODS_3_659',\n",
        " 'item_id_FOODS_3_729',\n",
        " 'item_id_FOODS_3_758',\n",
        " 'item_id_HOBBIES_1_057',\n",
        " 'item_id_HOBBIES_1_155',\n",
        " 'item_id_HOBBIES_1_159',\n",
        " 'item_id_HOBBIES_1_193',\n",
        " 'item_id_HOBBIES_1_202',\n",
        " 'item_id_HOBBIES_1_296',\n",
        " 'item_id_HOBBIES_1_390',\n",
        " 'item_id_HOBBIES_1_406',\n",
        " 'item_id_HOBBIES_1_424',\n",
        " 'item_id_HOBBIES_2_003',\n",
        " 'item_id_HOBBIES_2_011',\n",
        " 'item_id_HOBBIES_2_028',\n",
        " 'item_id_HOBBIES_2_029',\n",
        " 'item_id_HOBBIES_2_053',\n",
        " 'item_id_HOBBIES_2_076',\n",
        " 'item_id_HOBBIES_2_100',\n",
        " 'item_id_HOBBIES_2_107',\n",
        " 'item_id_HOBBIES_2_131',\n",
        " 'item_id_HOBBIES_2_136',\n",
        " 'item_id_HOUSEHOLD_1_101',\n",
        " 'item_id_HOUSEHOLD_1_144',\n",
        " 'item_id_HOUSEHOLD_1_211',\n",
        " 'item_id_HOUSEHOLD_1_226',\n",
        " 'item_id_HOUSEHOLD_1_256',\n",
        " 'item_id_HOUSEHOLD_1_259',\n",
        " 'item_id_HOUSEHOLD_1_307',\n",
        " 'item_id_HOUSEHOLD_1_329',\n",
        " 'item_id_HOUSEHOLD_1_483',\n",
        " 'item_id_HOUSEHOLD_1_527',\n",
        " 'item_id_HOUSEHOLD_2_059',\n",
        " 'item_id_HOUSEHOLD_2_133',\n",
        " 'item_id_HOUSEHOLD_2_145',\n",
        " 'item_id_HOUSEHOLD_2_200',\n",
        " 'item_id_HOUSEHOLD_2_232',\n",
        " 'item_id_HOUSEHOLD_2_261',\n",
        " 'item_id_HOUSEHOLD_2_389',\n",
        " 'item_id_HOUSEHOLD_2_426',\n",
        " 'item_id_HOUSEHOLD_2_434',\n",
        " 'item_id_HOUSEHOLD_2_467',\n",
        " 'store_id_CA_2',\n",
        " 'store_id_CA_3',\n",
        " 'store_id_CA_4',\n",
        " 'store_id_TX_1',\n",
        " 'store_id_TX_2',\n",
        " 'store_id_TX_3',\n",
        " 'store_id_WI_1',\n",
        " 'store_id_WI_2',\n",
        " 'store_id_WI_3',\n",
        " 'weekday_Friday',\n",
        " 'weekday_Saturday',\n",
        " 'weekday_Sunday',\n",
        " 'weekday_Thursday',\n",
        " 'weekday_Tuesday',\n",
        " 'weekday_Wednesday',\n",
        " 'month_April',\n",
        " 'month_August',\n",
        " 'month_December',\n",
        " 'month_February',\n",
        " 'month_July',\n",
        " 'month_June',\n",
        " 'month_March',\n",
        " 'month_May',\n",
        " 'month_November',\n",
        " 'month_October',\n",
        " 'month_September',\n",
        " 'event_type_Cultural',\n",
        " 'event_type_National',\n",
        " 'event_type_Religious',\n",
        " 'event_type_Sporting']]"
      ]
    },
    {
      "cell_type": "code",
      "execution_count": 106,
      "metadata": {},
      "outputs": [
        {
          "name": "stdout",
          "output_type": "stream",
          "text": [
            "1.1241090852058007\n",
            "5.4626008315516845\n"
          ]
        },
        {
          "name": "stderr",
          "output_type": "stream",
          "text": [
            "C:\\Users\\zavre\\AppData\\Local\\Temp\\ipykernel_57152\\344242290.py:5: SettingWithCopyWarning: \n",
            "A value is trying to be set on a copy of a slice from a DataFrame.\n",
            "Try using .loc[row_indexer,col_indexer] = value instead\n",
            "\n",
            "See the caveats in the documentation: https://pandas.pydata.org/pandas-docs/stable/user_guide/indexing.html#returning-a-view-versus-a-copy\n",
            "  X[\"predicted_sale\"] = y_pred_xgb\n"
          ]
        }
      ],
      "source": [
        "y_pred_xgb = xgb.predict(X)\n",
        "RMSE_sales = np.sqrt(mean_squared_error(y, y_pred_xgb))\n",
        "RMSE_turnover = np.sqrt(mean_squared_error(turnover, y_pred_xgb*X.sell_price))\n",
        "\n",
        "X[\"predicted_sale\"] = y_pred_xgb\n",
        "\n",
        "print(RMSE_sales)\n",
        "print(RMSE_turnover)"
      ]
    }
  ],
  "metadata": {
    "colab": {
      "provenance": []
    },
    "kernelspec": {
      "display_name": "Python 3",
      "name": "python3"
    },
    "language_info": {
      "codemirror_mode": {
        "name": "ipython",
        "version": 3
      },
      "file_extension": ".py",
      "mimetype": "text/x-python",
      "name": "python",
      "nbconvert_exporter": "python",
      "pygments_lexer": "ipython3",
      "version": "3.9.1"
    }
  },
  "nbformat": 4,
  "nbformat_minor": 0
}
