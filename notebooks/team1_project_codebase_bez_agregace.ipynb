{
  "cells": [
    {
      "cell_type": "markdown",
      "metadata": {
        "id": "gPMzaRvPYi-B"
      },
      "source": [
        "**Importing libraries and loading the data**"
      ]
    },
    {
      "cell_type": "code",
      "execution_count": 3,
      "metadata": {
        "id": "S_7oo79WogGe"
      },
      "outputs": [],
      "source": [
        "import pandas as pd\n",
        "import numpy as np\n",
        "import datetime as dt\n",
        "import seaborn  as sns\n",
        "import matplotlib.pyplot as plt\n",
        "import time\n",
        "from sklearn.linear_model import LinearRegression, Lasso, Ridge \n",
        "from sklearn.ensemble import RandomForestRegressor\n",
        "from sklearn.metrics import mean_squared_error\n",
        "from sklearn.model_selection import train_test_split\n",
        "from sklearn.preprocessing import StandardScaler\n",
        "import math\n",
        "import xgboost\n",
        "import pickle"
      ]
    },
    {
      "cell_type": "code",
      "execution_count": 167,
      "metadata": {
        "colab": {
          "base_uri": "https://localhost:8080/"
        },
        "id": "kU-s6rZAqRal",
        "outputId": "7cb83734-fe24-442d-f0e9-b2b2c54a002f"
      },
      "outputs": [],
      "source": [
        "#from google.colab import drive\n",
        "#drive.mount('/content/drive')"
      ]
    },
    {
      "cell_type": "code",
      "execution_count": 168,
      "metadata": {
        "id": "hybxpH58VGEA"
      },
      "outputs": [],
      "source": [
        "#loading all needed datasets from kaggle\n",
        "calendar = pd.read_csv('../data/raw/calendar.csv')\n",
        "sell_prices = pd.read_csv('../data/raw/sell_prices.csv')\n",
        "sales_validation = pd.read_csv('../data/raw/sales_train_validation.csv')"
      ]
    },
    {
      "cell_type": "markdown",
      "metadata": {
        "id": "nhNtzx2dYyqI"
      },
      "source": [
        "## Exploratory Data Analysis"
      ]
    },
    {
      "cell_type": "code",
      "execution_count": 169,
      "metadata": {
        "colab": {
          "base_uri": "https://localhost:8080/"
        },
        "id": "7tT_I5lBcVpv",
        "outputId": "6ffb5649-5ac9-47f6-a619-c735ca034b71"
      },
      "outputs": [
        {
          "data": {
            "text/plain": [
              "<bound method DataFrame.info of                                   id        item_id    dept_id   cat_id  \\\n",
              "0      HOBBIES_1_001_CA_1_validation  HOBBIES_1_001  HOBBIES_1  HOBBIES   \n",
              "1      HOBBIES_1_002_CA_1_validation  HOBBIES_1_002  HOBBIES_1  HOBBIES   \n",
              "2      HOBBIES_1_003_CA_1_validation  HOBBIES_1_003  HOBBIES_1  HOBBIES   \n",
              "3      HOBBIES_1_004_CA_1_validation  HOBBIES_1_004  HOBBIES_1  HOBBIES   \n",
              "4      HOBBIES_1_005_CA_1_validation  HOBBIES_1_005  HOBBIES_1  HOBBIES   \n",
              "...                              ...            ...        ...      ...   \n",
              "30485    FOODS_3_823_WI_3_validation    FOODS_3_823    FOODS_3    FOODS   \n",
              "30486    FOODS_3_824_WI_3_validation    FOODS_3_824    FOODS_3    FOODS   \n",
              "30487    FOODS_3_825_WI_3_validation    FOODS_3_825    FOODS_3    FOODS   \n",
              "30488    FOODS_3_826_WI_3_validation    FOODS_3_826    FOODS_3    FOODS   \n",
              "30489    FOODS_3_827_WI_3_validation    FOODS_3_827    FOODS_3    FOODS   \n",
              "\n",
              "      store_id state_id  d_1  d_2  d_3  d_4  ...  d_1904  d_1905  d_1906  \\\n",
              "0         CA_1       CA    0    0    0    0  ...       1       3       0   \n",
              "1         CA_1       CA    0    0    0    0  ...       0       0       0   \n",
              "2         CA_1       CA    0    0    0    0  ...       2       1       2   \n",
              "3         CA_1       CA    0    0    0    0  ...       1       0       5   \n",
              "4         CA_1       CA    0    0    0    0  ...       2       1       1   \n",
              "...        ...      ...  ...  ...  ...  ...  ...     ...     ...     ...   \n",
              "30485     WI_3       WI    0    0    2    2  ...       2       0       0   \n",
              "30486     WI_3       WI    0    0    0    0  ...       0       0       0   \n",
              "30487     WI_3       WI    0    6    0    2  ...       2       1       0   \n",
              "30488     WI_3       WI    0    0    0    0  ...       0       0       1   \n",
              "30489     WI_3       WI    0    0    0    0  ...       0       0       0   \n",
              "\n",
              "       d_1907  d_1908  d_1909  d_1910  d_1911  d_1912  d_1913  \n",
              "0           1       1       1       3       0       1       1  \n",
              "1           0       0       1       0       0       0       0  \n",
              "2           1       1       1       0       1       1       1  \n",
              "3           4       1       0       1       3       7       2  \n",
              "4           0       1       1       2       2       2       4  \n",
              "...       ...     ...     ...     ...     ...     ...     ...  \n",
              "30485       0       0       0       1       0       0       1  \n",
              "30486       0       0       0       0       0       1       0  \n",
              "30487       2       0       1       0       0       1       0  \n",
              "30488       0       0       1       0       3       1       3  \n",
              "30489       0       0       0       0       0       0       0  \n",
              "\n",
              "[30490 rows x 1919 columns]>"
            ]
          },
          "execution_count": 169,
          "metadata": {},
          "output_type": "execute_result"
        }
      ],
      "source": [
        "sales_validation.info"
      ]
    },
    {
      "cell_type": "code",
      "execution_count": 170,
      "metadata": {
        "colab": {
          "base_uri": "https://localhost:8080/"
        },
        "id": "JOcN7VPhgYgQ",
        "outputId": "efa33c73-9ce6-48ba-daca-8f486b89b4c4"
      },
      "outputs": [
        {
          "name": "stdout",
          "output_type": "stream",
          "text": [
            "Number of \n",
            " unique states: 3 \n",
            " unique stores: 10 \n",
            " unique departments: 7 \n",
            " unique item categories: 3 \n",
            " unique items: 3049\n"
          ]
        }
      ],
      "source": [
        "unique_items = len(sales_validation['item_id'].unique())\n",
        "unique_item_categories = len(sales_validation['cat_id'].unique())\n",
        "unique_departments = len(sales_validation['dept_id'].unique())\n",
        "unique_stores = len(sales_validation['store_id'].unique())\n",
        "unique_states = len(sales_validation['state_id'].unique())\n",
        "\n",
        "print(f'Number of \\n unique states: {unique_states} \\n unique stores: {unique_stores} \\n unique departments: {unique_departments} \\n unique item categories: {unique_item_categories} \\n unique items: {unique_items}')"
      ]
    },
    {
      "cell_type": "code",
      "execution_count": 171,
      "metadata": {
        "colab": {
          "base_uri": "https://localhost:8080/"
        },
        "id": "gQsuhDUAkhOv",
        "outputId": "131ee67e-bfa5-4cac-9514-19d79a3c41d8"
      },
      "outputs": [
        {
          "name": "stdout",
          "output_type": "stream",
          "text": [
            "['HOBBIES' 'HOUSEHOLD' 'FOODS']\n",
            "['HOBBIES_1' 'HOBBIES_2' 'HOUSEHOLD_1' 'HOUSEHOLD_2' 'FOODS_1' 'FOODS_2'\n",
            " 'FOODS_3']\n",
            "['CA_1' 'CA_2' 'CA_3' 'CA_4' 'TX_1' 'TX_2' 'TX_3' 'WI_1' 'WI_2' 'WI_3']\n",
            "['CA' 'TX' 'WI']\n"
          ]
        }
      ],
      "source": [
        "for col in [sales_validation['cat_id'],sales_validation['dept_id'],sales_validation['store_id'],sales_validation['state_id']]:\n",
        "  print (col.unique())"
      ]
    },
    {
      "cell_type": "code",
      "execution_count": 172,
      "metadata": {
        "colab": {
          "base_uri": "https://localhost:8080/"
        },
        "id": "k21p_4Se8ANn",
        "outputId": "7d4e5006-ca92-49fb-a772-b1e08168990a"
      },
      "outputs": [
        {
          "name": "stdout",
          "output_type": "stream",
          "text": [
            "Data types in sales_validation are: \n",
            " int64     1913\n",
            "object       6\n",
            "dtype: int64\n"
          ]
        }
      ],
      "source": [
        "# Inspection of data types\n",
        "print(\"Data types in sales_validation are: \\n\", sales_validation.dtypes.value_counts())"
      ]
    },
    {
      "cell_type": "code",
      "execution_count": 173,
      "metadata": {
        "colab": {
          "base_uri": "https://localhost:8080/"
        },
        "id": "mGMbQZA3Uzrc",
        "outputId": "e5b3dba6-ed3c-454f-ac00-568cf61aead9"
      },
      "outputs": [
        {
          "name": "stdout",
          "output_type": "stream",
          "text": [
            "The number of duplicated rows is 0.\n"
          ]
        }
      ],
      "source": [
        "duplicated_rows_count = sales_validation.duplicated().sum()\n",
        "print(f'The number of duplicated rows is {duplicated_rows_count}.')"
      ]
    },
    {
      "cell_type": "code",
      "execution_count": 174,
      "metadata": {
        "colab": {
          "base_uri": "https://localhost:8080/"
        },
        "id": "hUVNOsuBohpA",
        "outputId": "b56be4ac-e1c5-4858-eaad-eb5428c595c1"
      },
      "outputs": [
        {
          "data": {
            "text/plain": [
              "0        0\n",
              "20322    0\n",
              "20334    0\n",
              "20333    0\n",
              "20332    0\n",
              "        ..\n",
              "10159    0\n",
              "10158    0\n",
              "10157    0\n",
              "10156    0\n",
              "30489    0\n",
              "Length: 30490, dtype: int64"
            ]
          },
          "execution_count": 174,
          "metadata": {},
          "output_type": "execute_result"
        }
      ],
      "source": [
        "# Checking for null values column-wise\n",
        "sales_validation.isna().sum(axis=1).sort_values(ascending=False)"
      ]
    },
    {
      "cell_type": "code",
      "execution_count": 175,
      "metadata": {
        "colab": {
          "base_uri": "https://localhost:8080/"
        },
        "id": "XZIXLMQTryq0",
        "outputId": "cac2a880-2722-43df-b569-b2a15a2e1720"
      },
      "outputs": [
        {
          "data": {
            "text/plain": [
              "id        0\n",
              "d_1270    0\n",
              "d_1282    0\n",
              "d_1281    0\n",
              "d_1280    0\n",
              "         ..\n",
              "d_630     0\n",
              "d_629     0\n",
              "d_628     0\n",
              "d_627     0\n",
              "d_1913    0\n",
              "Length: 1919, dtype: int64"
            ]
          },
          "execution_count": 175,
          "metadata": {},
          "output_type": "execute_result"
        }
      ],
      "source": [
        "# Checking for null values row-wise\n",
        "sales_validation.isna().sum().sort_values(ascending=False)"
      ]
    },
    {
      "cell_type": "code",
      "execution_count": 176,
      "metadata": {
        "colab": {
          "base_uri": "https://localhost:8080/"
        },
        "id": "darh13TVJdMl",
        "outputId": "eb6b41d7-4f35-40b7-d8da-2f21d5b6961e"
      },
      "outputs": [
        {
          "data": {
            "text/plain": [
              "<bound method DataFrame.info of             date  wm_yr_wk    weekday  wday  month  year       d  \\\n",
              "0     2011-01-29     11101   Saturday     1      1  2011     d_1   \n",
              "1     2011-01-30     11101     Sunday     2      1  2011     d_2   \n",
              "2     2011-01-31     11101     Monday     3      1  2011     d_3   \n",
              "3     2011-02-01     11101    Tuesday     4      2  2011     d_4   \n",
              "4     2011-02-02     11101  Wednesday     5      2  2011     d_5   \n",
              "...          ...       ...        ...   ...    ...   ...     ...   \n",
              "1964  2016-06-15     11620  Wednesday     5      6  2016  d_1965   \n",
              "1965  2016-06-16     11620   Thursday     6      6  2016  d_1966   \n",
              "1966  2016-06-17     11620     Friday     7      6  2016  d_1967   \n",
              "1967  2016-06-18     11621   Saturday     1      6  2016  d_1968   \n",
              "1968  2016-06-19     11621     Sunday     2      6  2016  d_1969   \n",
              "\n",
              "      event_name_1 event_type_1  event_name_2 event_type_2  snap_CA  snap_TX  \\\n",
              "0              NaN          NaN           NaN          NaN        0        0   \n",
              "1              NaN          NaN           NaN          NaN        0        0   \n",
              "2              NaN          NaN           NaN          NaN        0        0   \n",
              "3              NaN          NaN           NaN          NaN        1        1   \n",
              "4              NaN          NaN           NaN          NaN        1        0   \n",
              "...            ...          ...           ...          ...      ...      ...   \n",
              "1964           NaN          NaN           NaN          NaN        0        1   \n",
              "1965           NaN          NaN           NaN          NaN        0        0   \n",
              "1966           NaN          NaN           NaN          NaN        0        0   \n",
              "1967           NaN          NaN           NaN          NaN        0        0   \n",
              "1968  NBAFinalsEnd     Sporting  Father's day     Cultural        0        0   \n",
              "\n",
              "      snap_WI  \n",
              "0           0  \n",
              "1           0  \n",
              "2           0  \n",
              "3           0  \n",
              "4           1  \n",
              "...       ...  \n",
              "1964        1  \n",
              "1965        0  \n",
              "1966        0  \n",
              "1967        0  \n",
              "1968        0  \n",
              "\n",
              "[1969 rows x 14 columns]>"
            ]
          },
          "execution_count": 176,
          "metadata": {},
          "output_type": "execute_result"
        }
      ],
      "source": [
        "calendar.info"
      ]
    },
    {
      "cell_type": "code",
      "execution_count": 177,
      "metadata": {
        "colab": {
          "base_uri": "https://localhost:8080/"
        },
        "id": "sObXrpa9R4cH",
        "outputId": "5ad27bf2-a789-45c5-df48-01ef18ddf099"
      },
      "outputs": [
        {
          "name": "stdout",
          "output_type": "stream",
          "text": [
            "Number of \n",
            " unique years: 6 \n",
            " unique events: 36 \n",
            " unique types of events: 5\n"
          ]
        }
      ],
      "source": [
        "unique_year = len(calendar['year'].unique())\n",
        "unique_events = len(calendar['event_name_1'].unique()) + len(calendar['event_name_2'].unique())\n",
        "unique_states = len(calendar['event_type_1'].unique())\n",
        "print(f'Number of \\n unique years: {unique_year} \\n unique events: {unique_events} \\n unique types of events: {unique_states}')"
      ]
    },
    {
      "cell_type": "code",
      "execution_count": 178,
      "metadata": {
        "colab": {
          "base_uri": "https://localhost:8080/"
        },
        "id": "MKFPVXx2Teo2",
        "outputId": "1551d74e-daee-4212-a003-c01a9bc7d79b"
      },
      "outputs": [
        {
          "name": "stdout",
          "output_type": "stream",
          "text": [
            "[2011 2012 2013 2014 2015 2016]\n",
            "[nan 'SuperBowl' 'ValentinesDay' 'PresidentsDay' 'LentStart' 'LentWeek2'\n",
            " 'StPatricksDay' 'Purim End' 'OrthodoxEaster' 'Pesach End' 'Cinco De Mayo'\n",
            " \"Mother's day\" 'MemorialDay' 'NBAFinalsStart' 'NBAFinalsEnd'\n",
            " \"Father's day\" 'IndependenceDay' 'Ramadan starts' 'Eid al-Fitr'\n",
            " 'LaborDay' 'ColumbusDay' 'Halloween' 'EidAlAdha' 'VeteransDay'\n",
            " 'Thanksgiving' 'Christmas' 'Chanukah End' 'NewYear' 'OrthodoxChristmas'\n",
            " 'MartinLutherKingDay' 'Easter']\n",
            "[nan 'Sporting' 'Cultural' 'National' 'Religious']\n",
            "[nan 'Easter' 'Cinco De Mayo' 'OrthodoxEaster' \"Father's day\"]\n"
          ]
        }
      ],
      "source": [
        "for col in [calendar['year'],calendar['event_name_1'],calendar['event_type_1'],calendar['event_name_2']]:\n",
        "  print (col.unique())"
      ]
    },
    {
      "cell_type": "code",
      "execution_count": 179,
      "metadata": {
        "colab": {
          "base_uri": "https://localhost:8080/"
        },
        "id": "0fZYOHgcT3Jj",
        "outputId": "408c6184-b3d9-4f69-db5b-ffee25f8dfb8"
      },
      "outputs": [
        {
          "name": "stdout",
          "output_type": "stream",
          "text": [
            "Data types in calendar are: \n",
            " object    7\n",
            "int64     7\n",
            "dtype: int64\n"
          ]
        }
      ],
      "source": [
        "# Inspection of data types\n",
        "print(\"Data types in calendar are: \\n\", calendar.dtypes.value_counts())"
      ]
    },
    {
      "cell_type": "code",
      "execution_count": 180,
      "metadata": {
        "colab": {
          "base_uri": "https://localhost:8080/"
        },
        "id": "tc_MY_0YUCfp",
        "outputId": "526d5dd9-ee6d-4ce7-8919-966d998381d3"
      },
      "outputs": [
        {
          "data": {
            "text/plain": [
              "date            object\n",
              "wm_yr_wk         int64\n",
              "weekday         object\n",
              "wday             int64\n",
              "month            int64\n",
              "year             int64\n",
              "d               object\n",
              "event_name_1    object\n",
              "event_type_1    object\n",
              "event_name_2    object\n",
              "event_type_2    object\n",
              "snap_CA          int64\n",
              "snap_TX          int64\n",
              "snap_WI          int64\n",
              "dtype: object"
            ]
          },
          "execution_count": 180,
          "metadata": {},
          "output_type": "execute_result"
        }
      ],
      "source": [
        "calendar.dtypes.head(14)"
      ]
    },
    {
      "cell_type": "code",
      "execution_count": 181,
      "metadata": {
        "colab": {
          "base_uri": "https://localhost:8080/"
        },
        "id": "HKiH7pE_URr6",
        "outputId": "5e5db1ab-bb04-4b09-e9ef-e21ab1a6639a"
      },
      "outputs": [
        {
          "name": "stdout",
          "output_type": "stream",
          "text": [
            "The number of duplicated rows is 0.\n"
          ]
        }
      ],
      "source": [
        "duplicated_rows_count = calendar.duplicated().sum()\n",
        "print(f'The number of duplicated rows is {duplicated_rows_count}.')"
      ]
    },
    {
      "cell_type": "code",
      "execution_count": 182,
      "metadata": {
        "colab": {
          "base_uri": "https://localhost:8080/"
        },
        "id": "mK6Ij8D5UT3m",
        "outputId": "b0926e1f-e0fd-4f4a-b5ed-d5acc49e610f"
      },
      "outputs": [
        {
          "data": {
            "text/plain": [
              "0       4\n",
              "1281    4\n",
              "1293    4\n",
              "1292    4\n",
              "1291    4\n",
              "       ..\n",
              "85      0\n",
              "1233    0\n",
              "827     0\n",
              "1177    0\n",
              "1968    0\n",
              "Length: 1969, dtype: int64"
            ]
          },
          "execution_count": 182,
          "metadata": {},
          "output_type": "execute_result"
        }
      ],
      "source": [
        "#Checking for null values column-wise\n",
        "calendar.isna().sum(axis=1).sort_values(ascending=False)"
      ]
    },
    {
      "cell_type": "code",
      "execution_count": 183,
      "metadata": {
        "colab": {
          "base_uri": "https://localhost:8080/"
        },
        "id": "X9sv3K-_UjpE",
        "outputId": "73939fb2-f50c-48fb-82a2-d31983b0fe71"
      },
      "outputs": [
        {
          "data": {
            "text/plain": [
              "event_name_2    1964\n",
              "event_type_2    1964\n",
              "event_name_1    1807\n",
              "event_type_1    1807\n",
              "date               0\n",
              "wm_yr_wk           0\n",
              "weekday            0\n",
              "wday               0\n",
              "month              0\n",
              "year               0\n",
              "d                  0\n",
              "snap_CA            0\n",
              "snap_TX            0\n",
              "snap_WI            0\n",
              "dtype: int64"
            ]
          },
          "execution_count": 183,
          "metadata": {},
          "output_type": "execute_result"
        }
      ],
      "source": [
        "# Checking for null values row-wise\n",
        "calendar.isna().sum().sort_values(ascending=False)"
      ]
    },
    {
      "cell_type": "code",
      "execution_count": 184,
      "metadata": {
        "colab": {
          "base_uri": "https://localhost:8080/"
        },
        "id": "YbGr0xfQljCO",
        "outputId": "ff99281b-675d-4fb9-92ed-ecc776991857"
      },
      "outputs": [
        {
          "data": {
            "text/plain": [
              "<bound method DataFrame.info of         store_id        item_id  wm_yr_wk  sell_price\n",
              "0           CA_1  HOBBIES_1_001     11325        9.58\n",
              "1           CA_1  HOBBIES_1_001     11326        9.58\n",
              "2           CA_1  HOBBIES_1_001     11327        8.26\n",
              "3           CA_1  HOBBIES_1_001     11328        8.26\n",
              "4           CA_1  HOBBIES_1_001     11329        8.26\n",
              "...          ...            ...       ...         ...\n",
              "6841116     WI_3    FOODS_3_827     11617        1.00\n",
              "6841117     WI_3    FOODS_3_827     11618        1.00\n",
              "6841118     WI_3    FOODS_3_827     11619        1.00\n",
              "6841119     WI_3    FOODS_3_827     11620        1.00\n",
              "6841120     WI_3    FOODS_3_827     11621        1.00\n",
              "\n",
              "[6841121 rows x 4 columns]>"
            ]
          },
          "execution_count": 184,
          "metadata": {},
          "output_type": "execute_result"
        }
      ],
      "source": [
        "sell_prices.info"
      ]
    },
    {
      "cell_type": "code",
      "execution_count": 185,
      "metadata": {
        "colab": {
          "base_uri": "https://localhost:8080/"
        },
        "id": "1iogIgiamThO",
        "outputId": "34730505-e3d8-45ac-b645-80057b12bba1"
      },
      "outputs": [
        {
          "name": "stdout",
          "output_type": "stream",
          "text": [
            "Number of \n",
            " unique stores: 10 \n",
            " unique item ids: 3049 \n",
            " unique id_weeks: 282 \n",
            " unique sell_prices 1048\n"
          ]
        }
      ],
      "source": [
        "unique_store_sell = len(sell_prices['store_id'].unique())\n",
        "unique_item_sell = len(sell_prices['item_id'].unique())\n",
        "unique_id_week = len(sell_prices['wm_yr_wk'].unique())\n",
        "unique_sell_price = len(sell_prices['sell_price'].unique())\n",
        "print(f'Number of \\n unique stores: {unique_store_sell} \\n unique item ids: {unique_item_sell} \\n unique id_weeks: {unique_id_week} \\n unique sell_prices {unique_sell_price}')"
      ]
    },
    {
      "cell_type": "code",
      "execution_count": 186,
      "metadata": {
        "colab": {
          "base_uri": "https://localhost:8080/"
        },
        "id": "3cFqXYyFmT1G",
        "outputId": "5d769ff5-ecc3-4f91-e668-e1e87ce67632"
      },
      "outputs": [
        {
          "name": "stdout",
          "output_type": "stream",
          "text": [
            "['CA_1' 'CA_2' 'CA_3' 'CA_4' 'TX_1' 'TX_2' 'TX_3' 'WI_1' 'WI_2' 'WI_3']\n",
            "['HOBBIES_1_001' 'HOBBIES_1_002' 'HOBBIES_1_003' ... 'FOODS_3_825'\n",
            " 'FOODS_3_826' 'FOODS_3_827']\n",
            "[11325 11326 11327 11328 11329 11330 11331 11332 11333 11334 11335 11336\n",
            " 11337 11338 11339 11340 11341 11342 11343 11344 11345 11346 11347 11348\n",
            " 11349 11350 11351 11352 11353 11401 11402 11403 11404 11405 11406 11407\n",
            " 11408 11409 11410 11411 11412 11413 11414 11415 11416 11417 11418 11419\n",
            " 11420 11421 11422 11423 11424 11425 11426 11427 11428 11429 11430 11431\n",
            " 11432 11433 11434 11435 11436 11437 11438 11439 11440 11441 11442 11443\n",
            " 11444 11445 11446 11447 11448 11449 11450 11451 11452 11501 11502 11503\n",
            " 11504 11505 11506 11507 11508 11509 11510 11511 11512 11513 11514 11515\n",
            " 11516 11517 11518 11519 11520 11521 11522 11523 11524 11525 11526 11527\n",
            " 11528 11529 11530 11531 11532 11533 11534 11535 11536 11537 11538 11539\n",
            " 11540 11541 11542 11543 11544 11545 11546 11547 11548 11549 11550 11551\n",
            " 11552 11601 11602 11603 11604 11605 11606 11607 11608 11609 11610 11611\n",
            " 11612 11613 11614 11615 11616 11617 11618 11619 11620 11621 11121 11122\n",
            " 11123 11124 11125 11126 11127 11128 11129 11130 11131 11132 11133 11134\n",
            " 11135 11136 11137 11138 11139 11140 11141 11142 11143 11144 11145 11146\n",
            " 11147 11148 11149 11150 11151 11152 11201 11202 11203 11204 11205 11206\n",
            " 11207 11208 11209 11210 11211 11212 11213 11214 11215 11216 11217 11218\n",
            " 11219 11220 11221 11222 11223 11224 11225 11226 11227 11228 11229 11230\n",
            " 11231 11232 11233 11234 11235 11236 11237 11238 11239 11240 11241 11242\n",
            " 11243 11244 11245 11246 11247 11248 11249 11250 11251 11252 11301 11302\n",
            " 11303 11304 11305 11306 11307 11308 11309 11310 11311 11312 11313 11314\n",
            " 11315 11316 11317 11318 11319 11320 11321 11322 11323 11324 11106 11107\n",
            " 11108 11109 11110 11111 11112 11113 11114 11115 11116 11117 11118 11119\n",
            " 11120 11101 11102 11103 11104 11105]\n",
            "[  9.58   8.26   8.38 ... 107.32   8.07  18.47]\n"
          ]
        }
      ],
      "source": [
        "for col in [sell_prices['store_id'],sell_prices['item_id'],sell_prices['wm_yr_wk'],sell_prices['sell_price']]:\n",
        "  print (col.unique())"
      ]
    },
    {
      "cell_type": "code",
      "execution_count": 187,
      "metadata": {
        "colab": {
          "base_uri": "https://localhost:8080/"
        },
        "id": "U70NK0V_mULc",
        "outputId": "5f83b042-7870-4575-b177-e1d6d92e26e7"
      },
      "outputs": [
        {
          "name": "stdout",
          "output_type": "stream",
          "text": [
            "Data types in sell_prices are: \n",
            " object     2\n",
            "float64    1\n",
            "int64      1\n",
            "dtype: int64\n"
          ]
        }
      ],
      "source": [
        "# Inspection of data types\n",
        "print(\"Data types in sell_prices are: \\n\", sell_prices.dtypes.value_counts())"
      ]
    },
    {
      "cell_type": "code",
      "execution_count": 188,
      "metadata": {
        "colab": {
          "base_uri": "https://localhost:8080/"
        },
        "id": "_jyem4D_mUcx",
        "outputId": "a7aa8138-8297-4348-cdda-6f4c55836f37"
      },
      "outputs": [
        {
          "data": {
            "text/plain": [
              "store_id       object\n",
              "item_id        object\n",
              "wm_yr_wk        int64\n",
              "sell_price    float64\n",
              "dtype: object"
            ]
          },
          "execution_count": 188,
          "metadata": {},
          "output_type": "execute_result"
        }
      ],
      "source": [
        "sell_prices.dtypes.head(14)"
      ]
    },
    {
      "cell_type": "code",
      "execution_count": 189,
      "metadata": {
        "colab": {
          "base_uri": "https://localhost:8080/"
        },
        "id": "OlqohLeYmUth",
        "outputId": "c79b6b86-736e-4db3-cdeb-1a9056a43c2c"
      },
      "outputs": [
        {
          "name": "stdout",
          "output_type": "stream",
          "text": [
            "The number of duplicated rows is 0.\n"
          ]
        }
      ],
      "source": [
        "duplicated_rows_count = sell_prices.duplicated().sum()\n",
        "print(f'The number of duplicated rows is {duplicated_rows_count}.')"
      ]
    },
    {
      "cell_type": "code",
      "execution_count": 190,
      "metadata": {
        "colab": {
          "base_uri": "https://localhost:8080/"
        },
        "id": "C0QbJNPGwT56",
        "outputId": "dc3f9f05-2a1d-4104-e5e2-b895c161ae0f"
      },
      "outputs": [
        {
          "data": {
            "text/plain": [
              "0          0\n",
              "4560678    0\n",
              "4560754    0\n",
              "4560753    0\n",
              "4560752    0\n",
              "          ..\n",
              "2280371    0\n",
              "2280370    0\n",
              "2280369    0\n",
              "2280368    0\n",
              "6841120    0\n",
              "Length: 6841121, dtype: int64"
            ]
          },
          "execution_count": 190,
          "metadata": {},
          "output_type": "execute_result"
        }
      ],
      "source": [
        "#Checking for null values column-wise\n",
        "sell_prices.isna().sum(axis=1).sort_values(ascending=False)"
      ]
    },
    {
      "cell_type": "code",
      "execution_count": 191,
      "metadata": {
        "colab": {
          "base_uri": "https://localhost:8080/"
        },
        "id": "RjRq7y5ZwUOE",
        "outputId": "a917d2ac-00ef-4b56-c139-e29eb8bbe1e4"
      },
      "outputs": [
        {
          "data": {
            "text/plain": [
              "store_id      0\n",
              "item_id       0\n",
              "wm_yr_wk      0\n",
              "sell_price    0\n",
              "dtype: int64"
            ]
          },
          "execution_count": 191,
          "metadata": {},
          "output_type": "execute_result"
        }
      ],
      "source": [
        "# Checking for null values row-wise\n",
        "sell_prices.isna().sum().sort_values(ascending=False)"
      ]
    },
    {
      "cell_type": "code",
      "execution_count": 192,
      "metadata": {
        "colab": {
          "base_uri": "https://localhost:8080/"
        },
        "id": "I4rciWNpedp2",
        "outputId": "a8b8a792-7805-408c-a572-b18aa18cb439"
      },
      "outputs": [
        {
          "name": "stdout",
          "output_type": "stream",
          "text": [
            "   Unnamed: 0        item_id    dept_id\n",
            "0          48  HOBBIES_1_049  HOBBIES_1\n",
            "1         381  HOBBIES_1_390  HOBBIES_1\n",
            "2         150  HOBBIES_1_155  HOBBIES_1\n",
            "3         287  HOBBIES_1_296  HOBBIES_1\n",
            "4         415  HOBBIES_1_424  HOBBIES_1\n"
          ]
        }
      ],
      "source": [
        "item = pd.read_csv('../data/raw/item_id_sample.csv') #asi bude treba nahravat opakovane\n",
        "print(item.head())"
      ]
    },
    {
      "cell_type": "code",
      "execution_count": 193,
      "metadata": {
        "colab": {
          "base_uri": "https://localhost:8080/"
        },
        "id": "IUq3jNGJTCaf",
        "outputId": "33778b86-f958-43e9-d8b1-b987afd34269"
      },
      "outputs": [
        {
          "name": "stdout",
          "output_type": "stream",
          "text": [
            "Unique values in Unnamed: 0:\n",
            "[  48  381  150  287  415   56  195  187  154  397  418  443  522  546\n",
            "  444  468  551  426  491  515  704  786 1082 1038  771  662  887  818\n",
            "  865  815 1241 1529 1562 1484 1229 1356 1521 1327 1155 1295 1627 1714\n",
            " 1676 1777 1782 1681 1783 1621 1745 1659 2149 2192 2002 2043 2145 1932\n",
            " 2153 2212 2082 1944 2403 2749 2883 2951 2979 2538 2629 2511 2442 2639]\n",
            "Unique values in item_id:\n",
            "['HOBBIES_1_049' 'HOBBIES_1_390' 'HOBBIES_1_155' 'HOBBIES_1_296'\n",
            " 'HOBBIES_1_424' 'HOBBIES_1_057' 'HOBBIES_1_202' 'HOBBIES_1_193'\n",
            " 'HOBBIES_1_159' 'HOBBIES_1_406' 'HOBBIES_2_003' 'HOBBIES_2_028'\n",
            " 'HOBBIES_2_107' 'HOBBIES_2_131' 'HOBBIES_2_029' 'HOBBIES_2_053'\n",
            " 'HOBBIES_2_136' 'HOBBIES_2_011' 'HOBBIES_2_076' 'HOBBIES_2_100'\n",
            " 'HOUSEHOLD_1_144' 'HOUSEHOLD_1_226' 'HOUSEHOLD_1_527' 'HOUSEHOLD_1_483'\n",
            " 'HOUSEHOLD_1_211' 'HOUSEHOLD_1_101' 'HOUSEHOLD_1_329' 'HOUSEHOLD_1_259'\n",
            " 'HOUSEHOLD_1_307' 'HOUSEHOLD_1_256' 'HOUSEHOLD_2_145' 'HOUSEHOLD_2_434'\n",
            " 'HOUSEHOLD_2_467' 'HOUSEHOLD_2_389' 'HOUSEHOLD_2_133' 'HOUSEHOLD_2_261'\n",
            " 'HOUSEHOLD_2_426' 'HOUSEHOLD_2_232' 'HOUSEHOLD_2_059' 'HOUSEHOLD_2_200'\n",
            " 'FOODS_1_017' 'FOODS_1_105' 'FOODS_1_066' 'FOODS_1_169' 'FOODS_1_174'\n",
            " 'FOODS_1_071' 'FOODS_1_175' 'FOODS_1_011' 'FOODS_1_136' 'FOODS_1_049'\n",
            " 'FOODS_2_323' 'FOODS_2_366' 'FOODS_2_176' 'FOODS_2_217' 'FOODS_2_319'\n",
            " 'FOODS_2_106' 'FOODS_2_327' 'FOODS_2_386' 'FOODS_2_256' 'FOODS_2_118'\n",
            " 'FOODS_3_179' 'FOODS_3_525' 'FOODS_3_659' 'FOODS_3_729' 'FOODS_3_758'\n",
            " 'FOODS_3_314' 'FOODS_3_405' 'FOODS_3_287' 'FOODS_3_218' 'FOODS_3_415']\n",
            "Unique values in dept_id:\n",
            "['HOBBIES_1' 'HOBBIES_2' 'HOUSEHOLD_1' 'HOUSEHOLD_2' 'FOODS_1' 'FOODS_2'\n",
            " 'FOODS_3']\n"
          ]
        }
      ],
      "source": [
        "# prints all unique values in all columns\n",
        "for column in item.columns:\n",
        "    unique_vals = item[column].unique()\n",
        "    print(f\"Unique values in {column}:\")\n",
        "    print(unique_vals)\n",
        "\n",
        "    # item dataset is probably some sort of list of item ids which we should include in our analysis"
      ]
    },
    {
      "cell_type": "code",
      "execution_count": 194,
      "metadata": {
        "colab": {
          "base_uri": "https://localhost:8080/"
        },
        "id": "GfylWPr6dQ36",
        "outputId": "3e723701-927b-4a21-b1cb-79bbe2d4d686"
      },
      "outputs": [
        {
          "name": "stdout",
          "output_type": "stream",
          "text": [
            "Data types in item_ids are: \n",
            " Unnamed: 0     int64\n",
            "item_id       object\n",
            "dept_id       object\n",
            "dtype: object\n"
          ]
        }
      ],
      "source": [
        "print(\"Data types in item_ids are: \\n\", item.dtypes)"
      ]
    },
    {
      "cell_type": "code",
      "execution_count": 195,
      "metadata": {
        "colab": {
          "base_uri": "https://localhost:8080/"
        },
        "id": "bVcVtvhodt-l",
        "outputId": "6c202817-f211-4004-ac8d-38fdf672ea87"
      },
      "outputs": [
        {
          "name": "stdout",
          "output_type": "stream",
          "text": [
            "Unique item_ids in 'sales_validation' that are NOT in 'item': ['HOBBIES_1_001' 'HOBBIES_1_002' 'HOBBIES_1_003' ... 'FOODS_3_825'\n",
            " 'FOODS_3_826' 'FOODS_3_827']\n",
            "Unique dept_ids in 'sales_validation' that are NOT in 'item': []\n"
          ]
        }
      ],
      "source": [
        "# lets find out what combination of item id and dept id are missing from item!\n",
        "unique_item_ids_not_in_item = sales_validation.loc[~sales_validation['item_id'].isin(item['item_id']), 'item_id'].unique()\n",
        "unique_dept_ids_not_in_item = sales_validation.loc[~sales_validation['dept_id'].isin(item['dept_id']), 'dept_id'].unique()\n",
        "print(\"Unique item_ids in 'sales_validation' that are NOT in 'item':\", unique_item_ids_not_in_item)\n",
        "print(\"Unique dept_ids in 'sales_validation' that are NOT in 'item':\", unique_dept_ids_not_in_item)\n"
      ]
    },
    {
      "cell_type": "code",
      "execution_count": 196,
      "metadata": {
        "colab": {
          "base_uri": "https://localhost:8080/"
        },
        "id": "9Td8M2xVeyy4",
        "outputId": "6c10be8d-fb3c-4c89-a141-f87cb122f7a0"
      },
      "outputs": [
        {
          "name": "stdout",
          "output_type": "stream",
          "text": [
            "Number of rows before filtering: 30490\n",
            "Number of rows after filtering: 700\n",
            "                              id        item_id    dept_id   cat_id store_id  \\\n",
            "0  HOBBIES_1_049_CA_1_validation  HOBBIES_1_049  HOBBIES_1  HOBBIES     CA_1   \n",
            "1  HOBBIES_1_049_CA_2_validation  HOBBIES_1_049  HOBBIES_1  HOBBIES     CA_2   \n",
            "2  HOBBIES_1_049_CA_3_validation  HOBBIES_1_049  HOBBIES_1  HOBBIES     CA_3   \n",
            "3  HOBBIES_1_049_CA_4_validation  HOBBIES_1_049  HOBBIES_1  HOBBIES     CA_4   \n",
            "4  HOBBIES_1_049_TX_1_validation  HOBBIES_1_049  HOBBIES_1  HOBBIES     TX_1   \n",
            "\n",
            "  state_id  d_1  d_2  d_3  d_4  ...  d_1904  d_1905  d_1906  d_1907  d_1908  \\\n",
            "0       CA    0    0    0    0  ...       0       0       1       0       1   \n",
            "1       CA    0    0    0    0  ...       0       1       0       0       0   \n",
            "2       CA    0    0    0    0  ...       0       2       0       1       2   \n",
            "3       CA    0    0    0    0  ...       2       0       0       1       0   \n",
            "4       TX    0    0    0    0  ...       0       1       1       0       0   \n",
            "\n",
            "   d_1909  d_1910  d_1911  d_1912  d_1913  \n",
            "0       1       0       1       0       0  \n",
            "1       1       0       0       1       2  \n",
            "2       1       1       0       1       4  \n",
            "3       0       0       0       0       0  \n",
            "4       0       0       0       1       0  \n",
            "\n",
            "[5 rows x 1919 columns]\n"
          ]
        }
      ],
      "source": [
        "# by using merge we can as join the two datasets together as filter out all the useless combinations\n",
        "filtered_df = pd.merge(sales_validation, item[['item_id', 'dept_id']],\n",
        "                                     how='inner',\n",
        "                                     on=['item_id', 'dept_id'])\n",
        "\n",
        "# diagnostic stuff\n",
        "print(\"Number of rows before filtering:\", len(sales_validation))\n",
        "print(\"Number of rows after filtering:\", len(filtered_df))\n",
        "\n",
        "print(filtered_df.head())\n"
      ]
    },
    {
      "cell_type": "code",
      "execution_count": 197,
      "metadata": {
        "colab": {
          "base_uri": "https://localhost:8080/"
        },
        "id": "4qRe6Ca3fl_H",
        "outputId": "1c065ff4-12dd-4b08-d071-41b92d9cf8f5"
      },
      "outputs": [
        {
          "name": "stdout",
          "output_type": "stream",
          "text": [
            "Index(['id', 'item_id', 'dept_id', 'cat_id', 'store_id', 'state_id', 'd_1',\n",
            "       'd_2', 'd_3', 'd_4',\n",
            "       ...\n",
            "       'd_1904', 'd_1905', 'd_1906', 'd_1907', 'd_1908', 'd_1909', 'd_1910',\n",
            "       'd_1911', 'd_1912', 'd_1913'],\n",
            "      dtype='object', length=1919)\n",
            "(700, 1919)\n"
          ]
        }
      ],
      "source": [
        "print(filtered_df.columns)\n",
        "print(filtered_df.shape)"
      ]
    },
    {
      "cell_type": "code",
      "execution_count": 198,
      "metadata": {
        "colab": {
          "base_uri": "https://localhost:8080/"
        },
        "id": "9uCZOjdQfRVd",
        "outputId": "6c54efb4-47d9-48d5-870c-6def7eaddbb4"
      },
      "outputs": [
        {
          "name": "stdout",
          "output_type": "stream",
          "text": [
            "         date  wm_yr_wk    weekday  wday  month  year    d event_name_1  \\\n",
            "0  2011-01-29     11101   Saturday     1      1  2011  d_1          NaN   \n",
            "1  2011-01-30     11101     Sunday     2      1  2011  d_2          NaN   \n",
            "2  2011-01-31     11101     Monday     3      1  2011  d_3          NaN   \n",
            "3  2011-02-01     11101    Tuesday     4      2  2011  d_4          NaN   \n",
            "4  2011-02-02     11101  Wednesday     5      2  2011  d_5          NaN   \n",
            "\n",
            "  event_type_1 event_name_2 event_type_2  snap_CA  snap_TX  snap_WI  \n",
            "0          NaN          NaN          NaN        0        0        0  \n",
            "1          NaN          NaN          NaN        0        0        0  \n",
            "2          NaN          NaN          NaN        0        0        0  \n",
            "3          NaN          NaN          NaN        1        1        0  \n",
            "4          NaN          NaN          NaN        1        0        1  \n",
            "1969\n"
          ]
        }
      ],
      "source": [
        "print(calendar.head())\n",
        "print(len(calendar))"
      ]
    },
    {
      "cell_type": "code",
      "execution_count": 199,
      "metadata": {
        "colab": {
          "base_uri": "https://localhost:8080/"
        },
        "id": "VHzHPsK2gySw",
        "outputId": "65c409f7-bd64-455b-9c19-c3d1f5f41d4b"
      },
      "outputs": [
        {
          "name": "stdout",
          "output_type": "stream",
          "text": [
            "                              id        item_id    dept_id   cat_id store_id  \\\n",
            "0  HOBBIES_1_049_CA_1_validation  HOBBIES_1_049  HOBBIES_1  HOBBIES     CA_1   \n",
            "1  HOBBIES_1_049_CA_2_validation  HOBBIES_1_049  HOBBIES_1  HOBBIES     CA_2   \n",
            "2  HOBBIES_1_049_CA_3_validation  HOBBIES_1_049  HOBBIES_1  HOBBIES     CA_3   \n",
            "3  HOBBIES_1_049_CA_4_validation  HOBBIES_1_049  HOBBIES_1  HOBBIES     CA_4   \n",
            "4  HOBBIES_1_049_TX_1_validation  HOBBIES_1_049  HOBBIES_1  HOBBIES     TX_1   \n",
            "\n",
            "  state_id    d  sales  \n",
            "0       CA  d_1      0  \n",
            "1       CA  d_1      0  \n",
            "2       CA  d_1      0  \n",
            "3       CA  d_1      0  \n",
            "4       TX  d_1      0  \n",
            "['d_1' 'd_2' 'd_3' ... 'd_1911' 'd_1912' 'd_1913']\n",
            "[ 0  2  5  1  3 16  4 17  7  6 10  9 12 13  8 18 11 14 19 43 23 24 20 15\n",
            " 41 22 37 21 27 36 61 30 25 34 31 28 26 35 39 84 33 29 48]\n",
            "1339100\n"
          ]
        }
      ],
      "source": [
        "melted_filtered_df = pd.melt(filtered_df,\n",
        "                             id_vars=['id', 'item_id', 'dept_id', 'cat_id', 'store_id', 'state_id'],\n",
        "                             var_name='d',\n",
        "                             value_name='sales')\n",
        "print(melted_filtered_df.head())\n",
        "print(melted_filtered_df.d.unique()) # error check\n",
        "print(melted_filtered_df.sales.unique())\n",
        "print(len(melted_filtered_df))"
      ]
    },
    {
      "cell_type": "code",
      "execution_count": 200,
      "metadata": {
        "colab": {
          "base_uri": "https://localhost:8080/"
        },
        "id": "qBE5e7gNg5RU",
        "outputId": "fd431038-db91-49bc-aba9-738db8dd5124"
      },
      "outputs": [
        {
          "name": "stdout",
          "output_type": "stream",
          "text": [
            "                              id        item_id    dept_id   cat_id store_id  \\\n",
            "0  HOBBIES_1_049_CA_1_validation  HOBBIES_1_049  HOBBIES_1  HOBBIES     CA_1   \n",
            "1  HOBBIES_1_049_CA_2_validation  HOBBIES_1_049  HOBBIES_1  HOBBIES     CA_2   \n",
            "2  HOBBIES_1_049_CA_3_validation  HOBBIES_1_049  HOBBIES_1  HOBBIES     CA_3   \n",
            "3  HOBBIES_1_049_CA_4_validation  HOBBIES_1_049  HOBBIES_1  HOBBIES     CA_4   \n",
            "4  HOBBIES_1_049_TX_1_validation  HOBBIES_1_049  HOBBIES_1  HOBBIES     TX_1   \n",
            "\n",
            "  state_id    d  sales        date  wm_yr_wk  ... wday  month  year  \\\n",
            "0       CA  d_1      0  2011-01-29     11101  ...    1      1  2011   \n",
            "1       CA  d_1      0  2011-01-29     11101  ...    1      1  2011   \n",
            "2       CA  d_1      0  2011-01-29     11101  ...    1      1  2011   \n",
            "3       CA  d_1      0  2011-01-29     11101  ...    1      1  2011   \n",
            "4       TX  d_1      0  2011-01-29     11101  ...    1      1  2011   \n",
            "\n",
            "   event_name_1 event_type_1 event_name_2 event_type_2 snap_CA  snap_TX  \\\n",
            "0           NaN          NaN          NaN          NaN       0        0   \n",
            "1           NaN          NaN          NaN          NaN       0        0   \n",
            "2           NaN          NaN          NaN          NaN       0        0   \n",
            "3           NaN          NaN          NaN          NaN       0        0   \n",
            "4           NaN          NaN          NaN          NaN       0        0   \n",
            "\n",
            "   snap_WI  \n",
            "0        0  \n",
            "1        0  \n",
            "2        0  \n",
            "3        0  \n",
            "4        0  \n",
            "\n",
            "[5 rows x 21 columns]\n",
            "Index(['id', 'item_id', 'dept_id', 'cat_id', 'store_id', 'state_id', 'd',\n",
            "       'sales', 'date', 'wm_yr_wk', 'weekday', 'wday', 'month', 'year',\n",
            "       'event_name_1', 'event_type_1', 'event_name_2', 'event_type_2',\n",
            "       'snap_CA', 'snap_TX', 'snap_WI'],\n",
            "      dtype='object')\n",
            "1339100\n"
          ]
        }
      ],
      "source": [
        "merged_df = pd.merge(melted_filtered_df, calendar, how='inner', on='d')\n",
        "print(merged_df.head())\n",
        "print(merged_df.columns) # see we have four different columns connected into events.let's make them 2!\n",
        "print(len(merged_df))"
      ]
    },
    {
      "cell_type": "code",
      "execution_count": 201,
      "metadata": {
        "colab": {
          "base_uri": "https://localhost:8080/"
        },
        "id": "xpIbe5tbiutC",
        "outputId": "5de320ff-09b1-4d81-85fb-ae72761f6d77"
      },
      "outputs": [
        {
          "name": "stdout",
          "output_type": "stream",
          "text": [
            "[nan 'Sporting' 'Cultural' 'National' 'Religious']\n",
            "[nan 'Cultural' 'Religious']\n",
            "[nan 'SuperBowl' 'ValentinesDay' 'PresidentsDay' 'LentStart' 'LentWeek2'\n",
            " 'StPatricksDay' 'Purim End' 'OrthodoxEaster' 'Pesach End' 'Cinco De Mayo'\n",
            " \"Mother's day\" 'MemorialDay' 'NBAFinalsStart' 'NBAFinalsEnd'\n",
            " \"Father's day\" 'IndependenceDay' 'Ramadan starts' 'Eid al-Fitr'\n",
            " 'LaborDay' 'ColumbusDay' 'Halloween' 'EidAlAdha' 'VeteransDay'\n",
            " 'Thanksgiving' 'Christmas' 'Chanukah End' 'NewYear' 'OrthodoxChristmas'\n",
            " 'MartinLutherKingDay' 'Easter']\n",
            "[nan 'Easter' 'Cinco De Mayo' 'OrthodoxEaster' \"Father's day\"]\n"
          ]
        }
      ],
      "source": [
        "print(merged_df.event_type_1.unique())\n",
        "print(merged_df.event_type_2.unique())\n",
        "print(merged_df.event_name_1.unique())\n",
        "print(merged_df.event_name_2.unique())"
      ]
    },
    {
      "cell_type": "code",
      "execution_count": 202,
      "metadata": {
        "id": "jG2je2t_iX4Y"
      },
      "outputs": [],
      "source": [
        "# melt (aka make them long-form rather than wide-form)\n",
        "df_event_name_melted = pd.melt(merged_df,\n",
        "                               id_vars=['id', 'item_id', 'dept_id', 'cat_id', 'store_id', 'state_id', 'd', 'sales', 'date'],\n",
        "                               value_vars=['event_name_1', 'event_name_2'],\n",
        "                               var_name='event_name_type',\n",
        "                               value_name='event_name')\n",
        "df_event_type_melted = pd.melt(merged_df,\n",
        "                               id_vars=['id', 'item_id', 'dept_id', 'cat_id', 'store_id', 'state_id', 'd', 'sales', 'date'],\n",
        "                               value_vars=['event_type_1', 'event_type_2'],\n",
        "                               var_name='event_type_type',\n",
        "                               value_name='event_type')\n",
        "df_event_name_melted.drop('event_name_type', axis=1, inplace=True)\n",
        "df_event_type_melted.drop('event_type_type', axis=1, inplace=True)\n",
        "\n",
        "sort_columns = ['id', 'item_id', 'dept_id', 'cat_id', 'store_id', 'state_id', 'd', 'sales', 'date']\n",
        "\n",
        "df_event_name_melted.sort_values(by=sort_columns, inplace=True)\n",
        "df_event_type_melted.sort_values(by=sort_columns, inplace=True)\n",
        "\n",
        "cols_event_name = ['event_name']\n",
        "cols_event_type = ['event_type']\n",
        "\n",
        "final_df = pd.concat([df_event_name_melted[sort_columns],\n",
        "                      merged_df[['wm_yr_wk', 'weekday', 'wday', 'month', 'year', 'snap_CA', 'snap_TX', 'snap_WI']],\n",
        "                      df_event_name_melted[cols_event_name],\n",
        "                      df_event_type_melted[cols_event_type]], axis=1)\n",
        "final_df.dropna(subset=['weekday', 'month'], inplace=True)\n"
      ]
    },
    {
      "cell_type": "code",
      "execution_count": 203,
      "metadata": {
        "colab": {
          "base_uri": "https://localhost:8080/"
        },
        "id": "chGLmjx4iiga",
        "outputId": "45d795f4-d5d4-4c7f-9c92-3a27e5ebe592"
      },
      "outputs": [
        {
          "name": "stdout",
          "output_type": "stream",
          "text": [
            "                              id        item_id    dept_id   cat_id store_id  \\\n",
            "0  HOBBIES_1_049_CA_1_validation  HOBBIES_1_049  HOBBIES_1  HOBBIES     CA_1   \n",
            "1  HOBBIES_1_049_CA_2_validation  HOBBIES_1_049  HOBBIES_1  HOBBIES     CA_2   \n",
            "2  HOBBIES_1_049_CA_3_validation  HOBBIES_1_049  HOBBIES_1  HOBBIES     CA_3   \n",
            "3  HOBBIES_1_049_CA_4_validation  HOBBIES_1_049  HOBBIES_1  HOBBIES     CA_4   \n",
            "4  HOBBIES_1_049_TX_1_validation  HOBBIES_1_049  HOBBIES_1  HOBBIES     TX_1   \n",
            "\n",
            "  state_id    d  sales        date  wm_yr_wk   weekday  wday  month    year  \\\n",
            "0       CA  d_1      0  2011-01-29   11101.0  Saturday   1.0    1.0  2011.0   \n",
            "1       CA  d_1      0  2011-01-29   11101.0  Saturday   1.0    1.0  2011.0   \n",
            "2       CA  d_1      0  2011-01-29   11101.0  Saturday   1.0    1.0  2011.0   \n",
            "3       CA  d_1      0  2011-01-29   11101.0  Saturday   1.0    1.0  2011.0   \n",
            "4       TX  d_1      0  2011-01-29   11101.0  Saturday   1.0    1.0  2011.0   \n",
            "\n",
            "   snap_CA  snap_TX  snap_WI event_name event_type  \n",
            "0      0.0      0.0      0.0        NaN        NaN  \n",
            "1      0.0      0.0      0.0        NaN        NaN  \n",
            "2      0.0      0.0      0.0        NaN        NaN  \n",
            "3      0.0      0.0      0.0        NaN        NaN  \n",
            "4      0.0      0.0      0.0        NaN        NaN  \n",
            "Index(['id', 'item_id', 'dept_id', 'cat_id', 'store_id', 'state_id', 'd',\n",
            "       'sales', 'date', 'wm_yr_wk', 'weekday', 'wday', 'month', 'year',\n",
            "       'snap_CA', 'snap_TX', 'snap_WI', 'event_name', 'event_type'],\n",
            "      dtype='object')\n",
            "[nan 'Sporting' 'Cultural' 'National' 'Religious']\n",
            "[nan 'SuperBowl' 'ValentinesDay' 'PresidentsDay' 'LentStart' 'LentWeek2'\n",
            " 'StPatricksDay' 'Purim End' 'OrthodoxEaster' 'Pesach End' 'Cinco De Mayo'\n",
            " \"Mother's day\" 'MemorialDay' 'NBAFinalsStart' 'NBAFinalsEnd'\n",
            " \"Father's day\" 'IndependenceDay' 'Ramadan starts' 'Eid al-Fitr'\n",
            " 'LaborDay' 'ColumbusDay' 'Halloween' 'EidAlAdha' 'VeteransDay'\n",
            " 'Thanksgiving' 'Christmas' 'Chanukah End' 'NewYear' 'OrthodoxChristmas'\n",
            " 'MartinLutherKingDay' 'Easter']\n"
          ]
        }
      ],
      "source": [
        "print(final_df.head())\n",
        "print(final_df.columns)\n",
        "print(final_df.event_type.unique()) #error check\n",
        "print(final_df.event_name.unique()) #error check"
      ]
    },
    {
      "cell_type": "code",
      "execution_count": 204,
      "metadata": {
        "colab": {
          "base_uri": "https://localhost:8080/"
        },
        "id": "YlrwH3EEjssq",
        "outputId": "5d2a9a6e-753b-4816-a84d-ae8bdb14a973"
      },
      "outputs": [
        {
          "name": "stdout",
          "output_type": "stream",
          "text": [
            "Sum of NaN values in each column:\n",
            "id                  0\n",
            "item_id             0\n",
            "dept_id             0\n",
            "cat_id              0\n",
            "store_id            0\n",
            "state_id            0\n",
            "d                   0\n",
            "sales               0\n",
            "date                0\n",
            "wm_yr_wk            0\n",
            "weekday             0\n",
            "wday                0\n",
            "month               0\n",
            "year                0\n",
            "snap_CA             0\n",
            "snap_TX             0\n",
            "snap_WI             0\n",
            "event_name    1231300\n",
            "event_type    1231300\n",
            "dtype: int64\n",
            "total rows: 1339100\n"
          ]
        }
      ],
      "source": [
        "nan_count = final_df.isna().sum()\n",
        "\n",
        "# sum of nan values in all columns\n",
        "print(\"Sum of NaN values in each column:\")\n",
        "print(nan_count)\n",
        "print(f\"total rows: {len(final_df)}\")"
      ]
    },
    {
      "cell_type": "code",
      "execution_count": 205,
      "metadata": {
        "colab": {
          "base_uri": "https://localhost:8080/"
        },
        "id": "SSY9i9ddsC50",
        "outputId": "1790f139-463d-4933-e168-2bb3a2340bf1"
      },
      "outputs": [
        {
          "name": "stdout",
          "output_type": "stream",
          "text": [
            "  store_id        item_id  wm_yr_wk  sell_price\n",
            "0     CA_1  HOBBIES_1_001     11325        9.58\n",
            "1     CA_1  HOBBIES_1_001     11326        9.58\n",
            "2     CA_1  HOBBIES_1_001     11327        8.26\n",
            "3     CA_1  HOBBIES_1_001     11328        8.26\n",
            "4     CA_1  HOBBIES_1_001     11329        8.26\n",
            "store_id       object\n",
            "item_id        object\n",
            "wm_yr_wk        int64\n",
            "sell_price    float64\n",
            "dtype: object\n"
          ]
        }
      ],
      "source": [
        "# sell prices dataframe is still missing, so here we go!\n",
        "print(sell_prices.head())\n",
        "print(sell_prices.dtypes)"
      ]
    },
    {
      "cell_type": "code",
      "execution_count": 206,
      "metadata": {
        "colab": {
          "base_uri": "https://localhost:8080/"
        },
        "id": "6fmntdrrsIAy",
        "outputId": "0e77efd4-9cc9-4763-a91b-bd71e34ff853"
      },
      "outputs": [
        {
          "name": "stdout",
          "output_type": "stream",
          "text": [
            "                              id        item_id    dept_id   cat_id store_id  \\\n",
            "0  HOBBIES_1_049_CA_1_validation  HOBBIES_1_049  HOBBIES_1  HOBBIES     CA_1   \n",
            "1  HOBBIES_1_049_CA_2_validation  HOBBIES_1_049  HOBBIES_1  HOBBIES     CA_2   \n",
            "2  HOBBIES_1_049_CA_3_validation  HOBBIES_1_049  HOBBIES_1  HOBBIES     CA_3   \n",
            "3  HOBBIES_1_049_CA_4_validation  HOBBIES_1_049  HOBBIES_1  HOBBIES     CA_4   \n",
            "4  HOBBIES_1_049_TX_1_validation  HOBBIES_1_049  HOBBIES_1  HOBBIES     TX_1   \n",
            "\n",
            "  state_id    d  sales        date wm_yr_wk   weekday  wday  month    year  \\\n",
            "0       CA  d_1      0  2011-01-29    11101  Saturday   1.0    1.0  2011.0   \n",
            "1       CA  d_1      0  2011-01-29    11101  Saturday   1.0    1.0  2011.0   \n",
            "2       CA  d_1      0  2011-01-29    11101  Saturday   1.0    1.0  2011.0   \n",
            "3       CA  d_1      0  2011-01-29    11101  Saturday   1.0    1.0  2011.0   \n",
            "4       TX  d_1      0  2011-01-29    11101  Saturday   1.0    1.0  2011.0   \n",
            "\n",
            "   snap_CA  snap_TX  snap_WI event_name event_type  \n",
            "0      0.0      0.0      0.0        NaN        NaN  \n",
            "1      0.0      0.0      0.0        NaN        NaN  \n",
            "2      0.0      0.0      0.0        NaN        NaN  \n",
            "3      0.0      0.0      0.0        NaN        NaN  \n",
            "4      0.0      0.0      0.0        NaN        NaN  \n"
          ]
        }
      ],
      "source": [
        "#print(final_df.head()) # the wm_yr_wk column is float and has decimal places, in comparison to sell_prices wm_yr_wk col which does not have decimal places\n",
        "#print(final_df.dtypes)\n",
        "final_df['wm_yr_wk'] = final_df['wm_yr_wk'].astype(int)\n",
        "final_df['wm_yr_wk'] = final_df['wm_yr_wk'].astype('object')\n",
        "print(final_df.head())"
      ]
    },
    {
      "cell_type": "code",
      "execution_count": 207,
      "metadata": {
        "colab": {
          "base_uri": "https://localhost:8080/"
        },
        "id": "h4ECjfT_uxO3",
        "outputId": "0907d2e1-bc90-4a4f-e638-bb8b52b59f98"
      },
      "outputs": [
        {
          "name": "stdout",
          "output_type": "stream",
          "text": [
            "store_id      0\n",
            "item_id       0\n",
            "wm_yr_wk      0\n",
            "sell_price    0\n",
            "dtype: int64\n"
          ]
        }
      ],
      "source": [
        "print(sell_prices.isna().sum())"
      ]
    },
    {
      "cell_type": "code",
      "execution_count": 208,
      "metadata": {
        "id": "ISaOtAKWs_dq"
      },
      "outputs": [],
      "source": [
        "final_df = pd.merge(final_df,\n",
        "                    sell_prices[['store_id', 'item_id', 'wm_yr_wk', 'sell_price']],\n",
        "                    on=['store_id', 'item_id', 'wm_yr_wk'],\n",
        "                    how='left')"
      ]
    },
    {
      "cell_type": "code",
      "execution_count": 209,
      "metadata": {
        "colab": {
          "base_uri": "https://localhost:8080/"
        },
        "id": "oj_Dqh1R0Qtx",
        "outputId": "018358c3-2593-4b02-c5ed-4fdc44949298"
      },
      "outputs": [
        {
          "name": "stdout",
          "output_type": "stream",
          "text": [
            "                              id        item_id    dept_id   cat_id store_id  \\\n",
            "0  HOBBIES_1_049_CA_1_validation  HOBBIES_1_049  HOBBIES_1  HOBBIES     CA_1   \n",
            "1  HOBBIES_1_049_CA_2_validation  HOBBIES_1_049  HOBBIES_1  HOBBIES     CA_2   \n",
            "2  HOBBIES_1_049_CA_3_validation  HOBBIES_1_049  HOBBIES_1  HOBBIES     CA_3   \n",
            "3  HOBBIES_1_049_CA_4_validation  HOBBIES_1_049  HOBBIES_1  HOBBIES     CA_4   \n",
            "4  HOBBIES_1_049_TX_1_validation  HOBBIES_1_049  HOBBIES_1  HOBBIES     TX_1   \n",
            "\n",
            "  state_id    d  sales        date wm_yr_wk   weekday  wday  month    year  \\\n",
            "0       CA  d_1      0  2011-01-29    11101  Saturday   1.0    1.0  2011.0   \n",
            "1       CA  d_1      0  2011-01-29    11101  Saturday   1.0    1.0  2011.0   \n",
            "2       CA  d_1      0  2011-01-29    11101  Saturday   1.0    1.0  2011.0   \n",
            "3       CA  d_1      0  2011-01-29    11101  Saturday   1.0    1.0  2011.0   \n",
            "4       TX  d_1      0  2011-01-29    11101  Saturday   1.0    1.0  2011.0   \n",
            "\n",
            "   snap_CA  snap_TX  snap_WI event_name event_type  sell_price  \n",
            "0      0.0      0.0      0.0        NaN        NaN         NaN  \n",
            "1      0.0      0.0      0.0        NaN        NaN         NaN  \n",
            "2      0.0      0.0      0.0        NaN        NaN         NaN  \n",
            "3      0.0      0.0      0.0        NaN        NaN         NaN  \n",
            "4      0.0      0.0      0.0        NaN        NaN         NaN  \n"
          ]
        }
      ],
      "source": [
        "print(final_df.head())"
      ]
    },
    {
      "cell_type": "code",
      "execution_count": 210,
      "metadata": {
        "colab": {
          "base_uri": "https://localhost:8080/"
        },
        "id": "IyJrIGxTt_N_",
        "outputId": "15cfc6ab-ceff-4284-cfab-203bf77fe7cf"
      },
      "outputs": [
        {
          "name": "stdout",
          "output_type": "stream",
          "text": [
            "id                  0\n",
            "item_id             0\n",
            "dept_id             0\n",
            "cat_id              0\n",
            "store_id            0\n",
            "state_id            0\n",
            "d                   0\n",
            "sales               0\n",
            "date                0\n",
            "wm_yr_wk            0\n",
            "weekday             0\n",
            "wday                0\n",
            "month               0\n",
            "year                0\n",
            "snap_CA             0\n",
            "snap_TX             0\n",
            "snap_WI             0\n",
            "event_name    1231300\n",
            "event_type    1231300\n",
            "sell_price     202188\n",
            "dtype: int64\n",
            "id            1339100\n",
            "item_id       1339100\n",
            "dept_id       1339100\n",
            "cat_id        1339100\n",
            "store_id      1339100\n",
            "state_id      1339100\n",
            "d             1339100\n",
            "sales         1339100\n",
            "date          1339100\n",
            "wm_yr_wk      1339100\n",
            "weekday       1339100\n",
            "wday          1339100\n",
            "month         1339100\n",
            "year          1339100\n",
            "snap_CA       1339100\n",
            "snap_TX       1339100\n",
            "snap_WI       1339100\n",
            "event_name     107800\n",
            "event_type     107800\n",
            "sell_price    1136912\n",
            "dtype: int64\n",
            "(1339100, 20)\n",
            "2016-04-24\n"
          ]
        }
      ],
      "source": [
        "final_df = final_df.drop_duplicates()\n",
        "print(final_df.isna().sum())\n",
        "\n",
        "print(final_df.notna().sum())\n",
        "print(final_df.shape)\n",
        "print(final_df.date.max())"
      ]
    },
    {
      "cell_type": "code",
      "execution_count": 211,
      "metadata": {
        "colab": {
          "base_uri": "https://localhost:8080/",
          "height": 446
        },
        "id": "6vwm_GAiugtK",
        "outputId": "f99e0ed5-1156-4a52-e8af-0662704b08e8"
      },
      "outputs": [
        {
          "name": "stdout",
          "output_type": "stream",
          "text": [
            "id                 0\n",
            "item_id            0\n",
            "dept_id            0\n",
            "cat_id             0\n",
            "store_id           0\n",
            "state_id           0\n",
            "d                  0\n",
            "sales              0\n",
            "date               0\n",
            "wm_yr_wk           0\n",
            "weekday            0\n",
            "wday               0\n",
            "month              0\n",
            "year               0\n",
            "snap_CA            0\n",
            "snap_TX            0\n",
            "snap_WI            0\n",
            "event_name    185439\n",
            "event_type    185439\n",
            "sell_price    202188\n",
            "dtype: int64\n"
          ]
        },
        {
          "data": {
            "text/plain": [
              "'2015-12-25'"
            ]
          },
          "execution_count": 211,
          "metadata": {},
          "output_type": "execute_result"
        }
      ],
      "source": [
        "filtered_df = final_df[final_df['sell_price'].isna()]\n",
        "filtered_df.drop_duplicates()\n",
        "print(filtered_df.isna().sum())\n",
        "filtered_df.date.max()\n"
      ]
    },
    {
      "cell_type": "code",
      "execution_count": 212,
      "metadata": {
        "colab": {
          "base_uri": "https://localhost:8080/"
        },
        "id": "LaG4nAYVwRlp",
        "outputId": "a0d5992c-409c-40d1-81ca-533502e54c1f"
      },
      "outputs": [
        {
          "name": "stdout",
          "output_type": "stream",
          "text": [
            "Unique item_ids in 'sales_validation' that are NOT in 'item': []\n",
            "Unique dept_ids in 'sales_validation' that are NOT in 'item': []\n"
          ]
        }
      ],
      "source": [
        "unique_item_ids_not_in_item = filtered_df.loc[~filtered_df['item_id'].isin(item['item_id']), 'item_id'].unique()\n",
        "unique_dept_ids_not_in_item = filtered_df.loc[~filtered_df['dept_id'].isin(item['dept_id']), 'dept_id'].unique()\n",
        "print(\"Unique item_ids in 'sales_validation' that are NOT in 'item':\", unique_item_ids_not_in_item)\n",
        "print(\"Unique dept_ids in 'sales_validation' that are NOT in 'item':\", unique_dept_ids_not_in_item)\n"
      ]
    },
    {
      "cell_type": "code",
      "execution_count": 213,
      "metadata": {
        "colab": {
          "base_uri": "https://localhost:8080/"
        },
        "id": "fpaeA0-9zcan",
        "outputId": "0c2ce119-6ad7-458f-a8cf-390678344803"
      },
      "outputs": [
        {
          "name": "stdout",
          "output_type": "stream",
          "text": [
            "0             1\n",
            "1             1\n",
            "2             1\n",
            "3             1\n",
            "4             1\n",
            "           ... \n",
            "1339095    1913\n",
            "1339096    1913\n",
            "1339097    1913\n",
            "1339098    1913\n",
            "1339099    1913\n",
            "Name: d, Length: 1339100, dtype: int32\n"
          ]
        }
      ],
      "source": [
        "#change column d type from string to inteager\n",
        "final_df.d = final_df.d.str.replace(\"d_\",\"\")\n",
        "final_df.d = final_df.d.astype(int)\n",
        "print(final_df.d)"
      ]
    },
    {
      "cell_type": "code",
      "execution_count": 214,
      "metadata": {},
      "outputs": [],
      "source": [
        "final_df['date'] = pd.to_datetime(final_df['date']) \n",
        "final_df[\"month\"] = final_df['date'].dt.strftime('%B')"
      ]
    },
    {
      "cell_type": "code",
      "execution_count": 215,
      "metadata": {
        "colab": {
          "base_uri": "https://localhost:8080/"
        },
        "id": "cW8yrjl7Erj3",
        "outputId": "1d53be00-69fd-49ba-c0eb-b09214d3cb24"
      },
      "outputs": [
        {
          "name": "stdout",
          "output_type": "stream",
          "text": [
            "Count of na values in column turnover: 0\n"
          ]
        }
      ],
      "source": [
        "#new column turnover\n",
        "final_df[\"turnover\"] = final_df.sales * final_df.sell_price\n",
        "final_df = final_df.dropna(subset=[\"turnover\"])\n",
        "print(f\"Count of na values in column turnover: {final_df.turnover.isna().sum()}\")"
      ]
    },
    {
      "cell_type": "code",
      "execution_count": 216,
      "metadata": {
        "colab": {
          "base_uri": "https://localhost:8080/"
        },
        "id": "1wshL6oyGCUJ",
        "outputId": "a2266b1b-e2d8-4b8e-defe-f3d2ae6abb05"
      },
      "outputs": [
        {
          "data": {
            "text/plain": [
              "1078812"
            ]
          },
          "execution_count": 216,
          "metadata": {},
          "output_type": "execute_result"
        }
      ],
      "source": [
        "#Drop rows where date is higher than 1.2.2016\n",
        "final_df = final_df[final_df.date <= \"2016-02-01\"]\n",
        "\n",
        "#Length of dataframe after drop\n",
        "len(final_df)"
      ]
    },
    {
      "cell_type": "code",
      "execution_count": 217,
      "metadata": {},
      "outputs": [
        {
          "data": {
            "text/plain": [
              "Index(['id', 'item_id', 'dept_id', 'cat_id', 'store_id', 'state_id', 'd',\n",
              "       'sales', 'date', 'wm_yr_wk', 'weekday', 'wday', 'month', 'year',\n",
              "       'snap_CA', 'snap_TX', 'snap_WI', 'event_name', 'event_type',\n",
              "       'sell_price', 'turnover'],\n",
              "      dtype='object')"
            ]
          },
          "execution_count": 217,
          "metadata": {},
          "output_type": "execute_result"
        }
      ],
      "source": [
        "final_df.columns"
      ]
    },
    {
      "cell_type": "code",
      "execution_count": 218,
      "metadata": {
        "id": "IHJyWT5QS--F"
      },
      "outputs": [],
      "source": [
        "#Droping columns\n",
        "final_df = final_df.drop([\"snap_TX\", \"snap_CA\", \"snap_WI\", \"event_name\", \"wday\"],axis =1)"
      ]
    },
    {
      "cell_type": "code",
      "execution_count": 219,
      "metadata": {
        "id": "kHgCahOOKQRh"
      },
      "outputs": [],
      "source": [
        "#Rolling windows and lagged variables\n",
        "\n",
        "new_columns = [\"turnover_d_1\", \"turnover_d_2\", \"turnover_d_3\",\n",
        "               \"turnover_month_avg\", \"turnover_month_max\", \"turnover_month_min\",\n",
        "               \"turnover_week_avg\", \"turnover_week_max\", \"turnover_week_min\"]\n",
        "\n",
        "final_df[new_columns[0]] = final_df.groupby('id')['turnover'].shift(1)\n",
        "final_df[new_columns[1]] = final_df.groupby('id')['turnover'].shift(2)\n",
        "final_df[new_columns[2]] = final_df.groupby('id')['turnover'].shift(3)\n",
        "final_df[new_columns[3]] = final_df.groupby('id')['turnover_d_1'].transform(lambda x: x.rolling(30).mean())\n",
        "final_df[new_columns[4]] = final_df.groupby('id')['turnover_d_1'].transform(lambda x: x.rolling(30).max())\n",
        "final_df[new_columns[5]] = final_df.groupby('id')['turnover_d_1'].transform(lambda x: x.rolling(30).min())\n",
        "final_df[new_columns[6]] = final_df.groupby('id')['turnover_d_1'].transform(lambda x: x.rolling(7).mean())\n",
        "final_df[new_columns[7]] = final_df.groupby('id')['turnover_d_1'].transform(lambda x: x.rolling(7).max())\n",
        "final_df[new_columns[8]] = final_df.groupby('id')['turnover_d_1'].transform(lambda x: x.rolling(7).min())\n",
        "\n",
        "final_df = final_df.sort_values(by=\"date\").reset_index(drop=True)\n"
      ]
    },
    {
      "cell_type": "code",
      "execution_count": 220,
      "metadata": {},
      "outputs": [],
      "source": [
        "#save dataframe\n",
        "#final_df.to_csv('../data/interim/final_df_interim_full_not_agre.csv')"
      ]
    },
    {
      "cell_type": "code",
      "execution_count": 98,
      "metadata": {
        "id": "lJ1gUtT-UIrp"
      },
      "outputs": [],
      "source": [
        "#Load pre-counted dataframe\n",
        "final_df = pd.read_csv('../data/interim/final_df_interim_full_not_agre.csv')\n",
        "#final_df.date = pd.to_datetime(final_df.date)"
      ]
    },
    {
      "cell_type": "code",
      "execution_count": 99,
      "metadata": {},
      "outputs": [],
      "source": [
        "final_df.dropna(axis = 0, subset=[\"turnover_d_1\", \"turnover_d_2\", \"turnover_d_3\", \"turnover_month_max\", \"turnover_month_min\",\"turnover_month_avg\",\n",
        "                                  \"turnover_week_max\", \"turnover_week_min\", \"turnover_week_avg\"], inplace=True)"
      ]
    },
    {
      "cell_type": "code",
      "execution_count": 100,
      "metadata": {
        "id": "d7p8uQHsUvVU"
      },
      "outputs": [],
      "source": [
        "#Modeling - data preparation\n",
        "final_df = final_df.sort_values(by='date')\n",
        "final_df.d = final_df.d - final_df.d.min() + 1\n",
        "final_df = final_df[['id','item_id', 'dept_id', 'cat_id', 'store_id', 'state_id', #categorical - product definition\n",
        "                     'weekday', 'month', 'event_type', #categorical - time definition and event - sesonality\n",
        "                     'd','wm_yr_wk', 'year', #trend\n",
        "                     'sell_price','turnover',\n",
        "                     'turnover_month_avg', 'turnover_month_max','turnover_month_min',\n",
        "                     'turnover_week_avg', 'turnover_week_max','turnover_week_min',\n",
        "                     'turnover_d_1', 'turnover_d_2', 'turnover_d_3']]"
      ]
    },
    {
      "cell_type": "code",
      "execution_count": 101,
      "metadata": {},
      "outputs": [],
      "source": [
        "final_df = final_df.drop(columns='id')"
      ]
    },
    {
      "cell_type": "code",
      "execution_count": 102,
      "metadata": {},
      "outputs": [],
      "source": [
        "#Make dummy variables (one-hot encoding)\n",
        "final_df = pd.get_dummies(final_df, columns=['item_id', 'dept_id', 'cat_id', 'store_id', 'state_id','weekday', 'month', 'event_type'], drop_first=False) #'id',"
      ]
    },
    {
      "cell_type": "code",
      "execution_count": 103,
      "metadata": {},
      "outputs": [],
      "source": [
        "final_df = final_df.drop(columns=['item_id_HOBBIES_1_049', 'dept_id_HOBBIES_1', 'cat_id_HOBBIES', 'store_id_CA_1', 'state_id_CA', 'weekday_Monday', 'month_January']) #'id_HOBBIES_1_049_CA_1_validation',"
      ]
    },
    {
      "cell_type": "code",
      "execution_count": 104,
      "metadata": {},
      "outputs": [],
      "source": [
        "#Dataframe to train+validation and test data\n",
        "X = final_df.drop(columns='turnover')\n",
        "y = final_df.turnover\n",
        "X_train, X_test, y_train, y_test = train_test_split(X, y, test_size=0.2, shuffle=False)"
      ]
    },
    {
      "cell_type": "markdown",
      "metadata": {
        "id": "08DL8gPjacBq"
      },
      "source": [
        "## Modeling"
      ]
    },
    {
      "cell_type": "markdown",
      "metadata": {},
      "source": [
        "### Baseline model"
      ]
    },
    {
      "cell_type": "code",
      "execution_count": 105,
      "metadata": {},
      "outputs": [
        {
          "name": "stdout",
          "output_type": "stream",
          "text": [
            "RMSE of baseline model is 7.540213610627589\n"
          ]
        }
      ],
      "source": [
        "#Baseline model based on only zeros\n",
        "y_pred = pd.Series(np.zeros(len(y_test)))\n",
        "rmse_baseline = np.sqrt(mean_squared_error(y_test, y_pred))\n",
        "\n",
        "print(f\"RMSE of baseline model is {rmse_baseline}\")"
      ]
    },
    {
      "cell_type": "code",
      "execution_count": 106,
      "metadata": {},
      "outputs": [
        {
          "name": "stdout",
          "output_type": "stream",
          "text": [
            "RMSE of better baseline model is 5.342381163701333\n"
          ]
        }
      ],
      "source": [
        "#Baseline model based on average monthly value\n",
        "y_pred = X_test.turnover_month_avg\n",
        "rmse_baseline = np.sqrt(mean_squared_error(y_test, y_pred))\n",
        "\n",
        "print(f\"RMSE of better baseline model is {rmse_baseline}\")"
      ]
    },
    {
      "cell_type": "markdown",
      "metadata": {},
      "source": [
        "### Linear regression"
      ]
    },
    {
      "cell_type": "code",
      "execution_count": 107,
      "metadata": {},
      "outputs": [],
      "source": [
        "scaler = StandardScaler()\n",
        "\n",
        "X_train_std = scaler.fit_transform(X_train)\n",
        "X_test_std = scaler.transform(X_test)\n",
        "\n",
        "X_train = pd.DataFrame(X_train_std, columns=X_train.columns)\n",
        "X_test = pd.DataFrame(X_test_std, columns=X_test.columns)"
      ]
    },
    {
      "cell_type": "code",
      "execution_count": 108,
      "metadata": {
        "colab": {
          "base_uri": "https://localhost:8080/"
        },
        "id": "BKYnpmBDYxtJ",
        "outputId": "3fb532af-09a3-4faf-f114-b5545f097805"
      },
      "outputs": [
        {
          "name": "stdout",
          "output_type": "stream",
          "text": [
            "[-5.24612507e+00  5.22650764e-01  4.87398145e+00 -9.19652871e-02\n",
            "  2.11425550e+00 -5.56825551e-04 -5.47282977e-02  1.01509990e+00\n",
            " -1.09244695e-01  1.08939360e-01  5.80918700e-02 -8.40798683e-02\n",
            " -9.70206921e-02 -2.82670822e+11 -2.42837682e+11 -2.83904350e+11\n",
            " -2.83839081e+11 -2.07017418e+11 -2.42683514e+11 -2.83913673e+11\n",
            " -2.28606282e+11 -2.83978925e+11 -2.43277595e+11 -1.07350212e+11\n",
            " -1.17266133e+11 -1.24171858e+11 -1.08914718e+11 -9.88481787e+10\n",
            " -1.18952040e+11 -1.25188207e+11 -1.25158293e+11 -1.15586847e+11\n",
            " -1.11170354e+11 -7.93636218e+11 -4.93867661e+11 -9.40254268e+11\n",
            " -9.50634138e+11 -9.62444810e+11 -9.27680180e+11 -5.00906205e+11\n",
            " -8.21003262e+11 -9.29750208e+11 -8.25484115e+11 -4.97817993e-03\n",
            "  2.33752012e-01 -3.58123779e-02 -6.85882568e-03 -4.18739319e-02\n",
            " -1.11103058e-02  3.07846069e-02 -4.25243378e-02 -4.65240479e-02\n",
            "  1.78524641e+11  1.81175314e+11  1.80924665e+11  1.77332916e+11\n",
            "  1.79075054e+11  1.77844703e+11  1.80673642e+11  1.51402001e+11\n",
            "  1.76132550e+11  1.77972404e+11 -6.17778927e+11 -6.09988096e+11\n",
            " -6.20209866e+11 -3.07375247e+11 -6.20637793e+11 -6.20637793e+11\n",
            " -3.12364499e+11 -5.36583628e+11 -5.31228320e+11 -3.05892060e+11\n",
            " -3.25110607e+11 -3.23838148e+11 -3.23462872e+11 -3.22032540e+11\n",
            " -2.99035229e+11 -3.24961184e+11 -1.25399408e+11 -3.18541079e+11\n",
            " -2.92435906e+11 -2.65264430e+11 -2.41787414e+12 -2.61638882e+12\n",
            " -5.62957932e+11 -5.13243497e+11 -2.86858770e+12 -3.86143575e+12\n",
            "  4.40200537e+12  5.95329099e+12  8.06427002e-03  2.84500122e-02\n",
            " -3.24554443e-02  1.54407252e+12  1.55609394e+12  1.51442505e+12\n",
            "  6.46328512e+11  6.52939307e+11  6.66740892e+11 -2.34289830e+12\n",
            " -1.00059721e+12  3.72924805e-02  2.03163147e-01  1.86523438e-01\n",
            " -6.02416992e-02 -4.15420532e-02 -5.42373657e-02  2.02957153e-01\n",
            "  6.44374847e-01  1.04559708e+00  4.97436523e-02  5.28030396e-01\n",
            "  4.20120239e-01  1.26647949e-01  3.14159393e-01  9.23912048e-01\n",
            "  8.33719254e-01  7.26455688e-01 -3.58276367e-02 -4.11796570e-02\n",
            "  1.48010254e-03 -7.38525391e-03]\n",
            "RMSE of Linear Regression model is 5.330991609667588\n"
          ]
        }
      ],
      "source": [
        "#Linear Regression model\n",
        "lin_reg = LinearRegression()\n",
        "\n",
        "lin_reg.fit(X_train, y_train)\n",
        "y_pred_lin = lin_reg.predict(X_test)\n",
        "\n",
        "lin_reg_rmse = np.sqrt(mean_squared_error(y_test, y_pred_lin))\n",
        "print(lin_reg.coef_)\n",
        "\n",
        "print(f\"RMSE of Linear Regression model is {lin_reg_rmse}\")"
      ]
    },
    {
      "cell_type": "code",
      "execution_count": 109,
      "metadata": {},
      "outputs": [
        {
          "data": {
            "text/html": [
              "<div>\n",
              "<style scoped>\n",
              "    .dataframe tbody tr th:only-of-type {\n",
              "        vertical-align: middle;\n",
              "    }\n",
              "\n",
              "    .dataframe tbody tr th {\n",
              "        vertical-align: top;\n",
              "    }\n",
              "\n",
              "    .dataframe thead th {\n",
              "        text-align: right;\n",
              "    }\n",
              "</style>\n",
              "<table border=\"1\" class=\"dataframe\">\n",
              "  <thead>\n",
              "    <tr style=\"text-align: right;\">\n",
              "      <th></th>\n",
              "      <th>Coefficients</th>\n",
              "    </tr>\n",
              "  </thead>\n",
              "  <tbody>\n",
              "    <tr>\n",
              "      <th>dept_id_HOUSEHOLD_2</th>\n",
              "      <td>-3.861436e+12</td>\n",
              "    </tr>\n",
              "    <tr>\n",
              "      <th>dept_id_HOUSEHOLD_1</th>\n",
              "      <td>-2.868588e+12</td>\n",
              "    </tr>\n",
              "    <tr>\n",
              "      <th>dept_id_FOODS_2</th>\n",
              "      <td>-2.616389e+12</td>\n",
              "    </tr>\n",
              "    <tr>\n",
              "      <th>dept_id_FOODS_1</th>\n",
              "      <td>-2.417874e+12</td>\n",
              "    </tr>\n",
              "    <tr>\n",
              "      <th>state_id_TX</th>\n",
              "      <td>-2.342898e+12</td>\n",
              "    </tr>\n",
              "    <tr>\n",
              "      <th>...</th>\n",
              "      <td>...</td>\n",
              "    </tr>\n",
              "    <tr>\n",
              "      <th>store_id_TX_3</th>\n",
              "      <td>1.514425e+12</td>\n",
              "    </tr>\n",
              "    <tr>\n",
              "      <th>store_id_TX_1</th>\n",
              "      <td>1.544073e+12</td>\n",
              "    </tr>\n",
              "    <tr>\n",
              "      <th>store_id_TX_2</th>\n",
              "      <td>1.556094e+12</td>\n",
              "    </tr>\n",
              "    <tr>\n",
              "      <th>cat_id_FOODS</th>\n",
              "      <td>4.402005e+12</td>\n",
              "    </tr>\n",
              "    <tr>\n",
              "      <th>cat_id_HOUSEHOLD</th>\n",
              "      <td>5.953291e+12</td>\n",
              "    </tr>\n",
              "  </tbody>\n",
              "</table>\n",
              "<p>122 rows × 1 columns</p>\n",
              "</div>"
            ],
            "text/plain": [
              "                     Coefficients\n",
              "dept_id_HOUSEHOLD_2 -3.861436e+12\n",
              "dept_id_HOUSEHOLD_1 -2.868588e+12\n",
              "dept_id_FOODS_2     -2.616389e+12\n",
              "dept_id_FOODS_1     -2.417874e+12\n",
              "state_id_TX         -2.342898e+12\n",
              "...                           ...\n",
              "store_id_TX_3        1.514425e+12\n",
              "store_id_TX_1        1.544073e+12\n",
              "store_id_TX_2        1.556094e+12\n",
              "cat_id_FOODS         4.402005e+12\n",
              "cat_id_HOUSEHOLD     5.953291e+12\n",
              "\n",
              "[122 rows x 1 columns]"
            ]
          },
          "execution_count": 109,
          "metadata": {},
          "output_type": "execute_result"
        }
      ],
      "source": [
        "pd.DataFrame(lin_reg.coef_, columns=[\"Coefficients\"], index=X_train.columns).sort_values(by = 'Coefficients')"
      ]
    },
    {
      "cell_type": "code",
      "execution_count": 110,
      "metadata": {},
      "outputs": [
        {
          "name": "stdout",
          "output_type": "stream",
          "text": [
            "[-5.24612507e+00  5.22650764e-01  4.87398145e+00 -9.19652871e-02\n",
            "  2.11425550e+00 -5.56825551e-04 -5.47282977e-02  1.01509990e+00\n",
            " -1.09244695e-01  1.08939360e-01  5.80918700e-02 -8.40798683e-02\n",
            " -9.70206921e-02 -2.82670822e+11 -2.42837682e+11 -2.83904350e+11\n",
            " -2.83839081e+11 -2.07017418e+11 -2.42683514e+11 -2.83913673e+11\n",
            " -2.28606282e+11 -2.83978925e+11 -2.43277595e+11 -1.07350212e+11\n",
            " -1.17266133e+11 -1.24171858e+11 -1.08914718e+11 -9.88481787e+10\n",
            " -1.18952040e+11 -1.25188207e+11 -1.25158293e+11 -1.15586847e+11\n",
            " -1.11170354e+11 -7.93636218e+11 -4.93867661e+11 -9.40254268e+11\n",
            " -9.50634138e+11 -9.62444810e+11 -9.27680180e+11 -5.00906205e+11\n",
            " -8.21003262e+11 -9.29750208e+11 -8.25484115e+11 -4.97817993e-03\n",
            "  2.33752012e-01 -3.58123779e-02 -6.85882568e-03 -4.18739319e-02\n",
            " -1.11103058e-02  3.07846069e-02 -4.25243378e-02 -4.65240479e-02\n",
            "  1.78524641e+11  1.81175314e+11  1.80924665e+11  1.77332916e+11\n",
            "  1.79075054e+11  1.77844703e+11  1.80673642e+11  1.51402001e+11\n",
            "  1.76132550e+11  1.77972404e+11 -6.17778927e+11 -6.09988096e+11\n",
            " -6.20209866e+11 -3.07375247e+11 -6.20637793e+11 -6.20637793e+11\n",
            " -3.12364499e+11 -5.36583628e+11 -5.31228320e+11 -3.05892060e+11\n",
            " -3.25110607e+11 -3.23838148e+11 -3.23462872e+11 -3.22032540e+11\n",
            " -2.99035229e+11 -3.24961184e+11 -1.25399408e+11 -3.18541079e+11\n",
            " -2.92435906e+11 -2.65264430e+11 -2.41787414e+12 -2.61638882e+12\n",
            " -5.62957932e+11 -5.13243497e+11 -2.86858770e+12 -3.86143575e+12\n",
            "  4.40200537e+12  5.95329099e+12  8.06427002e-03  2.84500122e-02\n",
            " -3.24554443e-02  1.54407252e+12  1.55609394e+12  1.51442505e+12\n",
            "  6.46328512e+11  6.52939307e+11  6.66740892e+11 -2.34289830e+12\n",
            " -1.00059721e+12  3.72924805e-02  2.03163147e-01  1.86523438e-01\n",
            " -6.02416992e-02 -4.15420532e-02 -5.42373657e-02  2.02957153e-01\n",
            "  6.44374847e-01  1.04559708e+00  4.97436523e-02  5.28030396e-01\n",
            "  4.20120239e-01  1.26647949e-01  3.14159393e-01  9.23912048e-01\n",
            "  8.33719254e-01  7.26455688e-01 -3.58276367e-02 -4.11796570e-02\n",
            "  1.48010254e-03 -7.38525391e-03]\n",
            "RMSE of Linear Regression model is 5.330598542697262\n"
          ]
        }
      ],
      "source": [
        "y_pred_lin[y_pred_lin<0] = 0\n",
        "lin_reg_rmse = np.sqrt(mean_squared_error(y_test, y_pred_lin))\n",
        "print(lin_reg.coef_)\n",
        "print(f\"RMSE of Linear Regression model is {lin_reg_rmse}\")"
      ]
    },
    {
      "cell_type": "code",
      "execution_count": 111,
      "metadata": {},
      "outputs": [
        {
          "name": "stdout",
          "output_type": "stream",
          "text": [
            "Importance of features:\n",
            "Reference category \n",
            " event_type = None \n",
            " weekday = Friday \n",
            " store_id = CA_1 \n",
            " dept_id = FOODS_1 \n",
            "\n"
          ]
        },
        {
          "data": {
            "image/png": "[encoded data removed]",
            "text/plain": [
              "<Figure size 900x1200 with 1 Axes>"
            ]
          },
          "metadata": {},
          "output_type": "display_data"
        }
      ],
      "source": [
        "print(\"Importance of features:\")\n",
        "print(\"Reference category \\n event_type = None \\n weekday = Friday \\n store_id = CA_1 \\n dept_id = FOODS_1 \\n\")\n",
        "\n",
        "coefs = pd.DataFrame(lin_reg.coef_, columns=[\"Coefficients\"], index=X_train.columns)\n",
        "coefs['Absolute_Coefficients'] = coefs['Coefficients'].abs()  \n",
        "coefs = coefs.sort_values(by=\"Absolute_Coefficients\", ascending=True) \n",
        "coefs.drop(columns=[\"Absolute_Coefficients\"], inplace=True)  \n",
        "coefs.plot(kind=\"barh\", figsize=(9, 12))\n",
        "plt.axvline(x=0, color=\".5\")\n",
        "plt.subplots_adjust(left=0.3)\n",
        "plt.show()"
      ]
    },
    {
      "cell_type": "code",
      "execution_count": null,
      "metadata": {
        "id": "_JI5s22LCA8y"
      },
      "outputs": [],
      "source": [
        "with open('../models/lin_reg_model.pkl', 'wb') as file:\n",
        "    pickle.dump(lin_reg, file)"
      ]
    },
    {
      "cell_type": "markdown",
      "metadata": {},
      "source": [
        "### Lasso regression"
      ]
    },
    {
      "cell_type": "code",
      "execution_count": 112,
      "metadata": {},
      "outputs": [
        {
          "name": "stdout",
          "output_type": "stream",
          "text": [
            "0.01\n",
            "5.333124714458712\n"
          ]
        }
      ],
      "source": [
        "alpha = 0.01\n",
        "print(alpha)\n",
        "lasso = Lasso(alpha=alpha,max_iter=2000)\n",
        "lasso.fit(X_train, y_train)\n",
        "y_pred_lasso = lasso.predict(X_test)\n",
        "lasso_rmse = np.sqrt(mean_squared_error(y_test, y_pred_lasso))\n",
        "\n",
        "print(lasso_rmse)"
      ]
    },
    {
      "cell_type": "code",
      "execution_count": 54,
      "metadata": {},
      "outputs": [
        {
          "data": {
            "text/html": [
              "<div>\n",
              "<style scoped>\n",
              "    .dataframe tbody tr th:only-of-type {\n",
              "        vertical-align: middle;\n",
              "    }\n",
              "\n",
              "    .dataframe tbody tr th {\n",
              "        vertical-align: top;\n",
              "    }\n",
              "\n",
              "    .dataframe thead th {\n",
              "        text-align: right;\n",
              "    }\n",
              "</style>\n",
              "<table border=\"1\" class=\"dataframe\">\n",
              "  <thead>\n",
              "    <tr style=\"text-align: right;\">\n",
              "      <th></th>\n",
              "      <th>Coefficients</th>\n",
              "    </tr>\n",
              "  </thead>\n",
              "  <tbody>\n",
              "    <tr>\n",
              "      <th>turnover_month_avg</th>\n",
              "      <td>0.693623</td>\n",
              "    </tr>\n",
              "    <tr>\n",
              "      <th>weekday_Sunday</th>\n",
              "      <td>0.484265</td>\n",
              "    </tr>\n",
              "    <tr>\n",
              "      <th>weekday_Saturday</th>\n",
              "      <td>0.472491</td>\n",
              "    </tr>\n",
              "    <tr>\n",
              "      <th>turnover_week_avg</th>\n",
              "      <td>0.324595</td>\n",
              "    </tr>\n",
              "    <tr>\n",
              "      <th>turnover_week_min</th>\n",
              "      <td>0.065953</td>\n",
              "    </tr>\n",
              "    <tr>\n",
              "      <th>...</th>\n",
              "      <td>...</td>\n",
              "    </tr>\n",
              "    <tr>\n",
              "      <th>turnover_d_3</th>\n",
              "      <td>-0.034599</td>\n",
              "    </tr>\n",
              "    <tr>\n",
              "      <th>turnover_d_2</th>\n",
              "      <td>-0.035744</td>\n",
              "    </tr>\n",
              "    <tr>\n",
              "      <th>turnover_month_min</th>\n",
              "      <td>-0.061419</td>\n",
              "    </tr>\n",
              "    <tr>\n",
              "      <th>weekday_Wednesday</th>\n",
              "      <td>-0.086608</td>\n",
              "    </tr>\n",
              "    <tr>\n",
              "      <th>weekday_Thursday</th>\n",
              "      <td>-0.128199</td>\n",
              "    </tr>\n",
              "  </tbody>\n",
              "</table>\n",
              "<p>122 rows × 1 columns</p>\n",
              "</div>"
            ],
            "text/plain": [
              "                    Coefficients\n",
              "turnover_month_avg      0.693623\n",
              "weekday_Sunday          0.484265\n",
              "weekday_Saturday        0.472491\n",
              "turnover_week_avg       0.324595\n",
              "turnover_week_min       0.065953\n",
              "...                          ...\n",
              "turnover_d_3           -0.034599\n",
              "turnover_d_2           -0.035744\n",
              "turnover_month_min     -0.061419\n",
              "weekday_Wednesday      -0.086608\n",
              "weekday_Thursday       -0.128199\n",
              "\n",
              "[122 rows x 1 columns]"
            ]
          },
          "execution_count": 54,
          "metadata": {},
          "output_type": "execute_result"
        }
      ],
      "source": [
        "coefs_lasso = pd.DataFrame(lasso.coef_, columns=[\"Coefficients\"], index=X_train.columns).sort_values(by = 'Coefficients',ascending=False)\n",
        "coefs_lasso"
      ]
    },
    {
      "cell_type": "code",
      "execution_count": 16,
      "metadata": {},
      "outputs": [
        {
          "data": {
            "text/plain": [
              "165"
            ]
          },
          "execution_count": 16,
          "metadata": {},
          "output_type": "execute_result"
        }
      ],
      "source": [
        "len(coefs_lasso) - len(coefs_lasso[coefs_lasso.Coefficients == 0])"
      ]
    },
    {
      "cell_type": "code",
      "execution_count": 85,
      "metadata": {},
      "outputs": [
        {
          "name": "stdout",
          "output_type": "stream",
          "text": [
            "0.001\n"
          ]
        },
        {
          "name": "stderr",
          "output_type": "stream",
          "text": [
            "\n",
            "KeyboardInterrupt\n",
            "\n"
          ]
        }
      ],
      "source": [
        "#Lasso Regression model\n",
        "sequence = [i /10000.0 for i in range(1, 10)]\n",
        "RMSE = pd.DataFrame(index=sequence)\n",
        "\n",
        "for alpha in sequence:\n",
        "    print(alpha)\n",
        "    lasso = Lasso(alpha=alpha)\n",
        "    lasso.fit(X_train, y_train)\n",
        "    y_pred_lasso = lasso.predict(X_test)\n",
        "    lasso_rmse = np.sqrt(mean_squared_error(y_test, y_pred_lasso))\n",
        "    RMSE.loc[alpha,'RMSE'] = lasso_rmse\n",
        "    "
      ]
    },
    {
      "cell_type": "code",
      "execution_count": 307,
      "metadata": {},
      "outputs": [
        {
          "data": {
            "text/html": [
              "<div>\n",
              "<style scoped>\n",
              "    .dataframe tbody tr th:only-of-type {\n",
              "        vertical-align: middle;\n",
              "    }\n",
              "\n",
              "    .dataframe tbody tr th {\n",
              "        vertical-align: top;\n",
              "    }\n",
              "\n",
              "    .dataframe thead th {\n",
              "        text-align: right;\n",
              "    }\n",
              "</style>\n",
              "<table border=\"1\" class=\"dataframe\">\n",
              "  <thead>\n",
              "    <tr style=\"text-align: right;\">\n",
              "      <th></th>\n",
              "      <th>RMSE</th>\n",
              "    </tr>\n",
              "  </thead>\n",
              "  <tbody>\n",
              "    <tr>\n",
              "      <th>0.01</th>\n",
              "      <td>4.500777</td>\n",
              "    </tr>\n",
              "    <tr>\n",
              "      <th>0.02</th>\n",
              "      <td>4.503627</td>\n",
              "    </tr>\n",
              "    <tr>\n",
              "      <th>0.03</th>\n",
              "      <td>4.506558</td>\n",
              "    </tr>\n",
              "    <tr>\n",
              "      <th>0.04</th>\n",
              "      <td>NaN</td>\n",
              "    </tr>\n",
              "    <tr>\n",
              "      <th>0.05</th>\n",
              "      <td>NaN</td>\n",
              "    </tr>\n",
              "    <tr>\n",
              "      <th>0.06</th>\n",
              "      <td>NaN</td>\n",
              "    </tr>\n",
              "    <tr>\n",
              "      <th>0.07</th>\n",
              "      <td>NaN</td>\n",
              "    </tr>\n",
              "    <tr>\n",
              "      <th>0.08</th>\n",
              "      <td>NaN</td>\n",
              "    </tr>\n",
              "    <tr>\n",
              "      <th>0.09</th>\n",
              "      <td>NaN</td>\n",
              "    </tr>\n",
              "  </tbody>\n",
              "</table>\n",
              "</div>"
            ],
            "text/plain": [
              "          RMSE\n",
              "0.01  4.500777\n",
              "0.02  4.503627\n",
              "0.03  4.506558\n",
              "0.04       NaN\n",
              "0.05       NaN\n",
              "0.06       NaN\n",
              "0.07       NaN\n",
              "0.08       NaN\n",
              "0.09       NaN"
            ]
          },
          "execution_count": 307,
          "metadata": {},
          "output_type": "execute_result"
        }
      ],
      "source": [
        "RMSE"
      ]
    },
    {
      "cell_type": "code",
      "execution_count": 16,
      "metadata": {},
      "outputs": [
        {
          "data": {
            "text/plain": [
              "<matplotlib.collections.PathCollection at 0x1e5c50968e0>"
            ]
          },
          "execution_count": 16,
          "metadata": {},
          "output_type": "execute_result"
        },
        {
          "data": {
            "image/png": "[encoded data removed]",
            "text/plain": [
              "<Figure size 640x480 with 1 Axes>"
            ]
          },
          "metadata": {},
          "output_type": "display_data"
        }
      ],
      "source": [
        "plt.title(\"RMSE for different values of lambda hyperparameter\")\n",
        "plt.xlabel(\"Lambda hyperparameter\")\n",
        "plt.ylabel(\"RMSE\")\n",
        "plt.scatter(sequence, RMSE['RMSE'])"
      ]
    },
    {
      "cell_type": "markdown",
      "metadata": {},
      "source": [
        "### Random Forest Regression"
      ]
    },
    {
      "cell_type": "code",
      "execution_count": 94,
      "metadata": {
        "colab": {
          "base_uri": "https://localhost:8080/"
        },
        "id": "Y47ObQiAZmAM",
        "outputId": "f503f0c7-5bde-47ef-fcf5-0cd7aafc3e4c"
      },
      "outputs": [
        {
          "name": "stdout",
          "output_type": "stream",
          "text": [
            "1\n",
            "2\n",
            "3\n",
            "4\n",
            "50 20 2 4 5 => RMSE:  5.561982804278414\n",
            "1\n",
            "2\n",
            "3\n",
            "4\n",
            "50 20 2 6 5 => RMSE:  5.5432130654377945\n",
            "1\n",
            "2\n",
            "3\n",
            "4\n",
            "50 20 8 4 5 => RMSE:  5.561982804278414\n",
            "1\n",
            "2\n",
            "3\n",
            "4\n",
            "50 20 8 6 5 => RMSE:  5.5432130654377945\n"
          ]
        }
      ],
      "source": [
        "#Random Forest model\n",
        "SEED = 88\n",
        "param_grid = {\n",
        "    'n_estimators': [50],\n",
        "    'max_depth': [20,], #25,30\n",
        "    'min_samples_split': [2,8],\n",
        "    'min_samples_leaf': [4,6],\n",
        "    'max_features': [5] #'sqrt', 'log2'\n",
        "}\n",
        "\n",
        "best_RMSE = 999\n",
        "best_params = {}\n",
        "\n",
        "for n_estimators in param_grid['n_estimators']:\n",
        "    for max_depth in param_grid['max_depth']:\n",
        "        for min_samples_split in param_grid['min_samples_split']:\n",
        "            for min_samples_leaf in param_grid['min_samples_leaf']:\n",
        "                for max_features in param_grid['max_features']:\n",
        "                    print(1)\n",
        "                    # Create and train a Random Forest model with the current hyperparameters\n",
        "                    rf = RandomForestRegressor(\n",
        "                        n_estimators=n_estimators,\n",
        "                        max_depth=max_depth,\n",
        "                        min_samples_split=min_samples_split,\n",
        "                        min_samples_leaf=min_samples_leaf,\n",
        "                        max_features=max_features,\n",
        "                        random_state=SEED                        \n",
        "                    )\n",
        "                    print(2)\n",
        "                    rf.fit(X_train, y_train)\n",
        "                    print(3)\n",
        "                    # Evaluate the model on the validation set\n",
        "                    y_pred_rf = rf.predict(X_test)\n",
        "                    RMSE = np.sqrt(mean_squared_error(y_test, y_pred_rf))\n",
        "                    print(4)\n",
        "                    # Update the best hyperparameters if this combination is better\n",
        "                    if RMSE < best_RMSE:\n",
        "                        best_RMSE = RMSE\n",
        "                        best_params = {\n",
        "                            'n_estimators': n_estimators,\n",
        "                            'max_depth': max_depth,\n",
        "                            'min_samples_split': min_samples_split,\n",
        "                            'min_samples_leaf': min_samples_leaf,\n",
        "                            'max_features': max_features\n",
        "                        }\n",
        "                    print(n_estimators, max_depth, min_samples_split, min_samples_leaf, max_features, '=> RMSE: ', RMSE)"
      ]
    },
    {
      "cell_type": "code",
      "execution_count": null,
      "metadata": {},
      "outputs": [
        {
          "name": "stdout",
          "output_type": "stream",
          "text": [
            "{'n_estimators': 200, 'max_depth': 20, 'min_samples_split': 10, 'min_samples_leaf': 1, 'max_features': 'sqrt'}\n"
          ]
        }
      ],
      "source": [
        "print(best_params)"
      ]
    },
    {
      "cell_type": "code",
      "execution_count": 154,
      "metadata": {},
      "outputs": [],
      "source": [
        "#best_params = {'n_estimators': 200, 'max_depth': 20, 'min_samples_split': 10, 'min_samples_leaf': 1, 'max_features': 'sqrt'}"
      ]
    },
    {
      "cell_type": "code",
      "execution_count": 69,
      "metadata": {},
      "outputs": [
        {
          "ename": "KeyError",
          "evalue": "'min_samples_split'",
          "output_type": "error",
          "traceback": [
            "\u001b[1;31m---------------------------------------------------------------------------\u001b[0m",
            "\u001b[1;31mKeyError\u001b[0m                                  Traceback (most recent call last)",
            "\u001b[1;32mc:\\Users\\zavre\\Desktop\\github\\Data_X_TimeSeriesPrediction\\notebooks\\team1_project_codebase_bez_agregace.ipynb Cell 88\u001b[0m line \u001b[0;36m4\n\u001b[0;32m      <a href='vscode-notebook-cell:/c%3A/Users/zavre/Desktop/github/Data_X_TimeSeriesPrediction/notebooks/team1_project_codebase_bez_agregace.ipynb#Y146sZmlsZQ%3D%3D?line=1'>2</a>\u001b[0m n_estimators \u001b[39m=\u001b[39m best_params[\u001b[39m\"\u001b[39m\u001b[39mn_estimators\u001b[39m\u001b[39m\"\u001b[39m]\n\u001b[0;32m      <a href='vscode-notebook-cell:/c%3A/Users/zavre/Desktop/github/Data_X_TimeSeriesPrediction/notebooks/team1_project_codebase_bez_agregace.ipynb#Y146sZmlsZQ%3D%3D?line=2'>3</a>\u001b[0m max_depth \u001b[39m=\u001b[39m best_params[\u001b[39m\"\u001b[39m\u001b[39mmax_depth\u001b[39m\u001b[39m\"\u001b[39m]\n\u001b[1;32m----> <a href='vscode-notebook-cell:/c%3A/Users/zavre/Desktop/github/Data_X_TimeSeriesPrediction/notebooks/team1_project_codebase_bez_agregace.ipynb#Y146sZmlsZQ%3D%3D?line=3'>4</a>\u001b[0m min_samples_split \u001b[39m=\u001b[39m best_params[\u001b[39m\"\u001b[39;49m\u001b[39mmin_samples_split\u001b[39;49m\u001b[39m\"\u001b[39;49m]\n\u001b[0;32m      <a href='vscode-notebook-cell:/c%3A/Users/zavre/Desktop/github/Data_X_TimeSeriesPrediction/notebooks/team1_project_codebase_bez_agregace.ipynb#Y146sZmlsZQ%3D%3D?line=4'>5</a>\u001b[0m min_samples_leaf \u001b[39m=\u001b[39m best_params[\u001b[39m\"\u001b[39m\u001b[39mmin_samples_leaf\u001b[39m\u001b[39m\"\u001b[39m]\n\u001b[0;32m      <a href='vscode-notebook-cell:/c%3A/Users/zavre/Desktop/github/Data_X_TimeSeriesPrediction/notebooks/team1_project_codebase_bez_agregace.ipynb#Y146sZmlsZQ%3D%3D?line=5'>6</a>\u001b[0m max_features \u001b[39m=\u001b[39m best_params[\u001b[39m\"\u001b[39m\u001b[39mmax_features\u001b[39m\u001b[39m\"\u001b[39m]\n",
            "\u001b[1;31mKeyError\u001b[0m: 'min_samples_split'"
          ]
        }
      ],
      "source": [
        "SEED=88\n",
        "n_estimators = best_params[\"n_estimators\"]\n",
        "max_depth = best_params[\"max_depth\"]\n",
        "min_samples_split = best_params[\"min_samples_split\"]\n",
        "min_samples_leaf = best_params[\"min_samples_leaf\"]\n",
        "max_features = best_params[\"max_features\"]\n",
        "\n",
        "rf = RandomForestRegressor(\n",
        "    n_estimators=n_estimators,\n",
        "    max_depth=max_depth,\n",
        "    min_samples_split=min_samples_split,\n",
        "    min_samples_leaf=min_samples_leaf,\n",
        "    max_features=max_features,\n",
        "    random_state=SEED\n",
        ")\n",
        "rf.fit(X_train, y_train)\n",
        "\n",
        "# Evaluate the model on the validation set\n",
        "y_pred_rf = rf.predict(X_validation)\n",
        "RMSE = np.sqrt(mean_squared_error(y_validation, y_pred_rf))\n",
        "\n",
        "print(RMSE)"
      ]
    },
    {
      "cell_type": "code",
      "execution_count": 180,
      "metadata": {},
      "outputs": [
        {
          "data": {
            "text/html": [
              "<div>\n",
              "<style scoped>\n",
              "    .dataframe tbody tr th:only-of-type {\n",
              "        vertical-align: middle;\n",
              "    }\n",
              "\n",
              "    .dataframe tbody tr th {\n",
              "        vertical-align: top;\n",
              "    }\n",
              "\n",
              "    .dataframe thead th {\n",
              "        text-align: right;\n",
              "    }\n",
              "</style>\n",
              "<table border=\"1\" class=\"dataframe\">\n",
              "  <thead>\n",
              "    <tr style=\"text-align: right;\">\n",
              "      <th></th>\n",
              "      <th>Variable</th>\n",
              "      <th>Importance</th>\n",
              "    </tr>\n",
              "  </thead>\n",
              "  <tbody>\n",
              "    <tr>\n",
              "      <th>1</th>\n",
              "      <td>turnover_month_avg</td>\n",
              "      <td>0.195346</td>\n",
              "    </tr>\n",
              "    <tr>\n",
              "      <th>4</th>\n",
              "      <td>turnover_week_avg</td>\n",
              "      <td>0.157446</td>\n",
              "    </tr>\n",
              "    <tr>\n",
              "      <th>2</th>\n",
              "      <td>turnover_month_max</td>\n",
              "      <td>0.104984</td>\n",
              "    </tr>\n",
              "    <tr>\n",
              "      <th>5</th>\n",
              "      <td>turnover_week_max</td>\n",
              "      <td>0.088007</td>\n",
              "    </tr>\n",
              "    <tr>\n",
              "      <th>6</th>\n",
              "      <td>turnover_week_min</td>\n",
              "      <td>0.073108</td>\n",
              "    </tr>\n",
              "    <tr>\n",
              "      <th>7</th>\n",
              "      <td>turnover_d_1</td>\n",
              "      <td>0.071616</td>\n",
              "    </tr>\n",
              "    <tr>\n",
              "      <th>8</th>\n",
              "      <td>turnover_d_2</td>\n",
              "      <td>0.056837</td>\n",
              "    </tr>\n",
              "    <tr>\n",
              "      <th>9</th>\n",
              "      <td>turnover_d_3</td>\n",
              "      <td>0.046527</td>\n",
              "    </tr>\n",
              "    <tr>\n",
              "      <th>3</th>\n",
              "      <td>turnover_month_min</td>\n",
              "      <td>0.041268</td>\n",
              "    </tr>\n",
              "    <tr>\n",
              "      <th>0</th>\n",
              "      <td>wm_yr_wk</td>\n",
              "      <td>0.028415</td>\n",
              "    </tr>\n",
              "  </tbody>\n",
              "</table>\n",
              "</div>"
            ],
            "text/plain": [
              "             Variable  Importance\n",
              "1  turnover_month_avg    0.195346\n",
              "4   turnover_week_avg    0.157446\n",
              "2  turnover_month_max    0.104984\n",
              "5   turnover_week_max    0.088007\n",
              "6   turnover_week_min    0.073108\n",
              "7        turnover_d_1    0.071616\n",
              "8        turnover_d_2    0.056837\n",
              "9        turnover_d_3    0.046527\n",
              "3  turnover_month_min    0.041268\n",
              "0            wm_yr_wk    0.028415"
            ]
          },
          "execution_count": 180,
          "metadata": {},
          "output_type": "execute_result"
        }
      ],
      "source": [
        "pd.DataFrame({'Variable':X_train.columns,\n",
        "              'Importance':rf.feature_importances_}).sort_values('Importance', ascending=False)[0:10]"
      ]
    },
    {
      "cell_type": "code",
      "execution_count": null,
      "metadata": {
        "id": "elNgSMCxCE1M"
      },
      "outputs": [],
      "source": [
        "with open('../models/rndm_forest_model.pkl', 'wb') as file:\n",
        "    pickle.dump(rf, file)"
      ]
    },
    {
      "cell_type": "markdown",
      "metadata": {},
      "source": [
        "### XGBoost model"
      ]
    },
    {
      "cell_type": "code",
      "execution_count": 115,
      "metadata": {
        "colab": {
          "base_uri": "https://localhost:8080/"
        },
        "id": "sVvxPavWaPTw",
        "outputId": "c07397f3-eb37-4752-f875-7f9ed5b7bffe"
      },
      "outputs": [
        {
          "name": "stdout",
          "output_type": "stream",
          "text": [
            "0.01 50 0 1 0.01 => RMSE:  7.073678999783503\n",
            "0.01 50 0 1 0.1 => RMSE:  7.073678999783503\n",
            "0.01 50 0 1 0.2 => RMSE:  7.073678999783503\n",
            "0.01 50 0 1 0.4 => RMSE:  7.073678999783503\n",
            "0.01 50 0 3 0.01 => RMSE:  7.073678999783503\n",
            "0.01 50 0 3 0.1 => RMSE:  7.073678999783503\n",
            "0.01 50 0 3 0.2 => RMSE:  7.073678999783503\n",
            "0.01 50 0 3 0.4 => RMSE:  7.073678999783503\n",
            "0.01 50 0 5 0.01 => RMSE:  7.073678999783503\n",
            "0.01 50 0 5 0.1 => RMSE:  7.073678999783503\n",
            "0.01 50 0 5 0.2 => RMSE:  7.073678999783503\n",
            "0.01 50 0 5 0.4 => RMSE:  7.073678999783503\n",
            "0.01 50 0 8 0.01 => RMSE:  7.073678999783503\n",
            "0.01 50 0 8 0.1 => RMSE:  7.073678999783503\n",
            "0.01 50 0 8 0.2 => RMSE:  7.073678999783503\n",
            "0.01 50 0 8 0.4 => RMSE:  7.073678999783503\n",
            "0.01 50 0 12 0.01 => RMSE:  7.073678999783503\n",
            "0.01 50 0 12 0.1 => RMSE:  7.073678999783503\n",
            "0.01 50 0 12 0.2 => RMSE:  7.073678999783503\n",
            "0.01 50 0 12 0.4 => RMSE:  7.073678999783503\n",
            "0.01 50 1 1 0.01 => RMSE:  6.635265162969329\n",
            "0.01 50 1 1 0.1 => RMSE:  6.635266763203482\n",
            "0.01 50 1 1 0.2 => RMSE:  6.635268496750964\n",
            "0.01 50 1 1 0.4 => RMSE:  6.635272043491277\n",
            "0.01 50 1 3 0.01 => RMSE:  6.2332227993605684\n",
            "0.01 50 1 3 0.1 => RMSE:  6.233239934671588\n",
            "0.01 50 1 3 0.2 => RMSE:  6.233259434359156\n",
            "0.01 50 1 3 0.4 => RMSE:  6.233298000566272\n",
            "0.01 50 1 5 0.01 => RMSE:  6.2107529299116955\n",
            "0.01 50 1 5 0.1 => RMSE:  6.210983531131074\n",
            "0.01 50 1 5 0.2 => RMSE:  6.211388308837936\n",
            "0.01 50 1 5 0.4 => RMSE:  6.211926279992575\n",
            "0.01 50 1 8 0.01 => RMSE:  6.204354320392056\n",
            "0.01 50 1 8 0.1 => RMSE:  6.204638716968541\n",
            "0.01 50 1 8 0.2 => RMSE:  6.205170673457184\n",
            "0.01 50 1 8 0.4 => RMSE:  6.205959626920078\n",
            "0.01 50 1 12 0.01 => RMSE:  6.202903814359073\n",
            "0.01 50 1 12 0.1 => RMSE:  6.203737426534595\n",
            "0.01 50 1 12 0.2 => RMSE:  6.204290390489507\n",
            "0.01 50 1 12 0.4 => RMSE:  6.205176043576607\n",
            "0.01 50 0.2 1 0.01 => RMSE:  6.624961943925478\n",
            "0.01 50 0.2 1 0.1 => RMSE:  6.624970805284661\n",
            "0.01 50 0.2 1 0.2 => RMSE:  6.624980647248357\n",
            "0.01 50 0.2 1 0.4 => RMSE:  6.62390409494869\n",
            "0.01 50 0.2 3 0.01 => RMSE:  6.237776737838794\n",
            "0.01 50 0.2 3 0.1 => RMSE:  6.237858870758401\n",
            "0.01 50 0.2 3 0.2 => RMSE:  6.237949915187719\n",
            "0.01 50 0.2 3 0.4 => RMSE:  6.238132276054781\n",
            "0.01 50 0.2 5 0.01 => RMSE:  6.217471157556581\n",
            "0.01 50 0.2 5 0.1 => RMSE:  6.217651893446344\n",
            "0.01 50 0.2 5 0.2 => RMSE:  6.21785292947207\n",
            "0.01 50 0.2 5 0.4 => RMSE:  6.218157883801805\n",
            "0.01 50 0.2 8 0.01 => RMSE:  6.212164689945345\n",
            "0.01 50 0.2 8 0.1 => RMSE:  6.212573439678555\n",
            "0.01 50 0.2 8 0.2 => RMSE:  6.213044811948519\n",
            "0.01 50 0.2 8 0.4 => RMSE:  6.213858600168712\n",
            "0.01 50 0.2 12 0.01 => RMSE:  6.211911864352828\n",
            "0.01 50 0.2 12 0.1 => RMSE:  6.212573856649757\n",
            "0.01 50 0.2 12 0.2 => RMSE:  6.213391962602944\n",
            "0.01 50 0.2 12 0.4 => RMSE:  6.214532930149922\n",
            "0.01 50 0.5 1 0.01 => RMSE:  6.630061243599367\n",
            "0.01 50 0.5 1 0.1 => RMSE:  6.629872146211431\n",
            "0.01 50 0.5 1 0.2 => RMSE:  6.629875719990254\n",
            "0.01 50 0.5 1 0.4 => RMSE:  6.6298829566582125\n",
            "0.01 50 0.5 3 0.01 => RMSE:  6.233912541704745\n",
            "0.01 50 0.5 3 0.1 => RMSE:  6.233947055882664\n",
            "0.01 50 0.5 3 0.2 => RMSE:  6.233985373063417\n",
            "0.01 50 0.5 3 0.4 => RMSE:  6.234061952352432\n",
            "0.01 50 0.5 5 0.01 => RMSE:  6.211338491133676\n",
            "0.01 50 0.5 5 0.1 => RMSE:  6.211492277059712\n",
            "0.01 50 0.5 5 0.2 => RMSE:  6.211688069787999\n",
            "0.01 50 0.5 5 0.4 => RMSE:  6.211975271688758\n",
            "0.01 50 0.5 8 0.01 => RMSE:  6.205430903559307\n",
            "0.01 50 0.5 8 0.1 => RMSE:  6.205706000217408\n",
            "0.01 50 0.5 8 0.2 => RMSE:  6.206053241790173\n",
            "0.01 50 0.5 8 0.4 => RMSE:  6.206566943167288\n",
            "0.01 50 0.5 12 0.01 => RMSE:  6.204841809722953\n",
            "0.01 50 0.5 12 0.1 => RMSE:  6.205281143014727\n",
            "0.01 50 0.5 12 0.2 => RMSE:  6.205783705694979\n",
            "0.01 50 0.5 12 0.4 => RMSE:  6.206532045293273\n",
            "0.01 50 0.3 1 0.01 => RMSE:  6.630115926160804\n",
            "0.01 50 0.3 1 0.1 => RMSE:  6.630121336310195\n",
            "0.01 50 0.3 1 0.2 => RMSE:  6.630127386603119\n",
            "0.01 50 0.3 1 0.4 => RMSE:  6.630139569368294\n",
            "0.01 50 0.3 3 0.01 => RMSE:  6.235232331258545\n",
            "0.01 50 0.3 3 0.1 => RMSE:  6.235288646076001\n",
            "0.01 50 0.3 3 0.2 => RMSE:  6.235351273379587\n",
            "0.01 50 0.3 3 0.4 => RMSE:  6.235476301035422\n",
            "0.01 50 0.3 5 0.01 => RMSE:  6.212987466536717\n",
            "0.01 50 0.3 5 0.1 => RMSE:  6.213079562052684\n",
            "0.01 50 0.3 5 0.2 => RMSE:  6.213217917284902\n",
            "0.01 50 0.3 5 0.4 => RMSE:  6.21346114894108\n",
            "0.01 50 0.3 8 0.01 => RMSE:  6.207742020264271\n",
            "0.01 50 0.3 8 0.1 => RMSE:  6.208048893887006\n",
            "0.01 50 0.3 8 0.2 => RMSE:  6.208296829396894\n",
            "0.01 50 0.3 8 0.4 => RMSE:  6.2088071506147475\n",
            "0.01 50 0.3 12 0.01 => RMSE:  6.206412997687892\n",
            "0.01 50 0.3 12 0.1 => RMSE:  6.206983193096069\n",
            "0.01 50 0.3 12 0.2 => RMSE:  6.207637315658263\n",
            "0.01 50 0.3 12 0.4 => RMSE:  6.208779717561784\n",
            "0.01 50 1 1 0.01 => RMSE:  6.635265162969329\n",
            "0.01 50 1 1 0.1 => RMSE:  6.635266763203482\n",
            "0.01 50 1 1 0.2 => RMSE:  6.635268496750964\n",
            "0.01 50 1 1 0.4 => RMSE:  6.635272043491277\n",
            "0.01 50 1 3 0.01 => RMSE:  6.2332227993605684\n",
            "0.01 50 1 3 0.1 => RMSE:  6.233239934671588\n",
            "0.01 50 1 3 0.2 => RMSE:  6.233259434359156\n",
            "0.01 50 1 3 0.4 => RMSE:  6.233298000566272\n",
            "0.01 50 1 5 0.01 => RMSE:  6.2107529299116955\n",
            "0.01 50 1 5 0.1 => RMSE:  6.210983531131074\n",
            "0.01 50 1 5 0.2 => RMSE:  6.211388308837936\n",
            "0.01 50 1 5 0.4 => RMSE:  6.211926279992575\n",
            "0.01 50 1 8 0.01 => RMSE:  6.204354320392056\n",
            "0.01 50 1 8 0.1 => RMSE:  6.204638716968541\n",
            "0.01 50 1 8 0.2 => RMSE:  6.205170673457184\n",
            "0.01 50 1 8 0.4 => RMSE:  6.205959626920078\n",
            "0.01 50 1 12 0.01 => RMSE:  6.202903814359073\n",
            "0.01 50 1 12 0.1 => RMSE:  6.203737426534595\n",
            "0.01 50 1 12 0.2 => RMSE:  6.204290390489507\n",
            "0.01 50 1 12 0.4 => RMSE:  6.205176043576607\n",
            "0.01 75 0 1 0.01 => RMSE:  7.073678999783503\n",
            "0.01 75 0 1 0.1 => RMSE:  7.073678999783503\n",
            "0.01 75 0 1 0.2 => RMSE:  7.073678999783503\n",
            "0.01 75 0 1 0.4 => RMSE:  7.073678999783503\n",
            "0.01 75 0 3 0.01 => RMSE:  7.073678999783503\n",
            "0.01 75 0 3 0.1 => RMSE:  7.073678999783503\n",
            "0.01 75 0 3 0.2 => RMSE:  7.073678999783503\n",
            "0.01 75 0 3 0.4 => RMSE:  7.073678999783503\n",
            "0.01 75 0 5 0.01 => RMSE:  7.073678999783503\n",
            "0.01 75 0 5 0.1 => RMSE:  7.073678999783503\n",
            "0.01 75 0 5 0.2 => RMSE:  7.073678999783503\n",
            "0.01 75 0 5 0.4 => RMSE:  7.073678999783503\n",
            "0.01 75 0 8 0.01 => RMSE:  7.073678999783503\n",
            "0.01 75 0 8 0.1 => RMSE:  7.073678999783503\n",
            "0.01 75 0 8 0.2 => RMSE:  7.073678999783503\n",
            "0.01 75 0 8 0.4 => RMSE:  7.073678999783503\n",
            "0.01 75 0 12 0.01 => RMSE:  7.073678999783503\n",
            "0.01 75 0 12 0.1 => RMSE:  7.073678999783503\n",
            "0.01 75 0 12 0.2 => RMSE:  7.073678999783503\n",
            "0.01 75 0 12 0.4 => RMSE:  7.073678999783503\n",
            "0.01 75 1 1 0.01 => RMSE:  6.4767270982300245\n",
            "0.01 75 1 1 0.1 => RMSE:  6.476729378218867\n",
            "0.01 75 1 1 0.2 => RMSE:  6.476732088740927\n",
            "0.01 75 1 1 0.4 => RMSE:  6.4767374175523456\n",
            "0.01 75 1 3 0.01 => RMSE:  6.00331354199389\n",
            "0.01 75 1 3 0.1 => RMSE:  6.003331127470859\n",
            "0.01 75 1 3 0.2 => RMSE:  6.003350746634685\n",
            "0.01 75 1 3 0.4 => RMSE:  6.003389741619283\n",
            "0.01 75 1 5 0.01 => RMSE:  5.979906713100966\n",
            "0.01 75 1 5 0.1 => RMSE:  5.980137375871963\n",
            "0.01 75 1 5 0.2 => RMSE:  5.980502426566727\n",
            "0.01 75 1 5 0.4 => RMSE:  5.981299656042343\n",
            "0.01 75 1 8 0.01 => RMSE:  5.973125596940829\n",
            "0.01 75 1 8 0.1 => RMSE:  5.973453508321078\n",
            "0.01 75 1 8 0.2 => RMSE:  5.973930139600295\n",
            "0.01 75 1 8 0.4 => RMSE:  5.974865612329571\n",
            "0.01 75 1 12 0.01 => RMSE:  5.972269364271678\n",
            "0.01 75 1 12 0.1 => RMSE:  5.973620872534207\n",
            "0.01 75 1 12 0.2 => RMSE:  5.974100540597033\n",
            "0.01 75 1 12 0.4 => RMSE:  5.97506706963964\n",
            "0.01 75 0.2 1 0.01 => RMSE:  6.463694520310803\n",
            "0.01 75 0.2 1 0.1 => RMSE:  6.463707404324675\n",
            "0.01 75 0.2 1 0.2 => RMSE:  6.4637217543485415\n",
            "0.01 75 0.2 1 0.4 => RMSE:  6.464221112497812\n",
            "0.01 75 0.2 3 0.01 => RMSE:  6.002235717268895\n",
            "0.01 75 0.2 3 0.1 => RMSE:  6.002321192698055\n",
            "0.01 75 0.2 3 0.2 => RMSE:  6.002415927222374\n",
            "0.01 75 0.2 3 0.4 => RMSE:  6.0026058321060045\n",
            "0.01 75 0.2 5 0.01 => RMSE:  5.98114304472988\n",
            "0.01 75 0.2 5 0.1 => RMSE:  5.981399295787289\n",
            "0.01 75 0.2 5 0.2 => RMSE:  5.981720101028637\n",
            "0.01 75 0.2 5 0.4 => RMSE:  5.982098106345402\n",
            "0.01 75 0.2 8 0.01 => RMSE:  5.975837265014544\n",
            "0.01 75 0.2 8 0.1 => RMSE:  5.97624460500897\n",
            "0.01 75 0.2 8 0.2 => RMSE:  5.97676495043193\n",
            "0.01 75 0.2 8 0.4 => RMSE:  5.977705857480884\n",
            "0.01 75 0.2 12 0.01 => RMSE:  5.975804233284378\n",
            "0.01 75 0.2 12 0.1 => RMSE:  5.976476093317412\n",
            "0.01 75 0.2 12 0.2 => RMSE:  5.977308601407686\n",
            "0.01 75 0.2 12 0.4 => RMSE:  5.978579475751385\n",
            "0.01 75 0.5 1 0.01 => RMSE:  6.471070595595986\n",
            "0.01 75 0.5 1 0.1 => RMSE:  6.472958070642655\n",
            "0.01 75 0.5 1 0.2 => RMSE:  6.4729633555522295\n",
            "0.01 75 0.5 1 0.4 => RMSE:  6.472973868075275\n",
            "0.01 75 0.5 3 0.01 => RMSE:  6.002945062708674\n",
            "0.01 75 0.5 3 0.1 => RMSE:  6.002980133518794\n",
            "0.01 75 0.5 3 0.2 => RMSE:  6.003019079755061\n",
            "0.01 75 0.5 3 0.4 => RMSE:  6.003097015909057\n",
            "0.01 75 0.5 5 0.01 => RMSE:  5.979402399010032\n",
            "0.01 75 0.5 5 0.1 => RMSE:  5.979567364430549\n",
            "0.01 75 0.5 5 0.2 => RMSE:  5.979778987001674\n",
            "0.01 75 0.5 5 0.4 => RMSE:  5.980197599446272\n",
            "0.01 75 0.5 8 0.01 => RMSE:  5.9732555258823\n",
            "0.01 75 0.5 8 0.1 => RMSE:  5.973539477364316\n",
            "0.01 75 0.5 8 0.2 => RMSE:  5.973884121133485\n",
            "0.01 75 0.5 8 0.4 => RMSE:  5.97442602331778\n",
            "0.01 75 0.5 12 0.01 => RMSE:  5.973617604934994\n",
            "0.01 75 0.5 12 0.1 => RMSE:  5.973993156129414\n",
            "0.01 75 0.5 12 0.2 => RMSE:  5.974404971874317\n",
            "0.01 75 0.5 12 0.4 => RMSE:  5.9751966704195665\n",
            "0.01 75 0.3 1 0.01 => RMSE:  6.470323877920796\n",
            "0.01 75 0.3 1 0.1 => RMSE:  6.470332098154914\n",
            "0.01 75 0.3 1 0.2 => RMSE:  6.470341135709638\n",
            "0.01 75 0.3 1 0.4 => RMSE:  6.470359545913998\n",
            "0.01 75 0.3 3 0.01 => RMSE:  6.00324708368851\n",
            "0.01 75 0.3 3 0.1 => RMSE:  6.0033245654061504\n",
            "0.01 75 0.3 3 0.2 => RMSE:  6.003388105878938\n",
            "0.01 75 0.3 3 0.4 => RMSE:  6.003514866347627\n",
            "0.01 75 0.3 5 0.01 => RMSE:  5.979869302275929\n",
            "0.01 75 0.3 5 0.1 => RMSE:  5.979993026157854\n",
            "0.01 75 0.3 5 0.2 => RMSE:  5.98014210163381\n",
            "0.01 75 0.3 5 0.4 => RMSE:  5.980497761435003\n",
            "0.01 75 0.3 8 0.01 => RMSE:  5.974226459538018\n",
            "0.01 75 0.3 8 0.1 => RMSE:  5.9746147476827325\n",
            "0.01 75 0.3 8 0.2 => RMSE:  5.974900913119746\n",
            "0.01 75 0.3 8 0.4 => RMSE:  5.975515354411235\n",
            "0.01 75 0.3 12 0.01 => RMSE:  5.97362364306924\n",
            "0.01 75 0.3 12 0.1 => RMSE:  5.9742160168045\n",
            "0.01 75 0.3 12 0.2 => RMSE:  5.974926002394061\n",
            "0.01 75 0.3 12 0.4 => RMSE:  5.976025022168632\n",
            "0.01 75 1 1 0.01 => RMSE:  6.4767270982300245\n",
            "0.01 75 1 1 0.1 => RMSE:  6.476729378218867\n",
            "0.01 75 1 1 0.2 => RMSE:  6.476732088740927\n",
            "0.01 75 1 1 0.4 => RMSE:  6.4767374175523456\n",
            "0.01 75 1 3 0.01 => RMSE:  6.00331354199389\n",
            "0.01 75 1 3 0.1 => RMSE:  6.003331127470859\n",
            "0.01 75 1 3 0.2 => RMSE:  6.003350746634685\n",
            "0.01 75 1 3 0.4 => RMSE:  6.003389741619283\n",
            "0.01 75 1 5 0.01 => RMSE:  5.979906713100966\n",
            "0.01 75 1 5 0.1 => RMSE:  5.980137375871963\n",
            "0.01 75 1 5 0.2 => RMSE:  5.980502426566727\n",
            "0.01 75 1 5 0.4 => RMSE:  5.981299656042343\n",
            "0.01 75 1 8 0.01 => RMSE:  5.973125596940829\n",
            "0.01 75 1 8 0.1 => RMSE:  5.973453508321078\n",
            "0.01 75 1 8 0.2 => RMSE:  5.973930139600295\n",
            "0.01 75 1 8 0.4 => RMSE:  5.974865612329571\n",
            "0.01 75 1 12 0.01 => RMSE:  5.972269364271678\n",
            "0.01 75 1 12 0.1 => RMSE:  5.973620872534207\n",
            "0.01 75 1 12 0.2 => RMSE:  5.974100540597033\n",
            "0.01 75 1 12 0.4 => RMSE:  5.97506706963964\n",
            "0.01 100 0 1 0.01 => RMSE:  7.073678999783503\n",
            "0.01 100 0 1 0.1 => RMSE:  7.073678999783503\n",
            "0.01 100 0 1 0.2 => RMSE:  7.073678999783503\n",
            "0.01 100 0 1 0.4 => RMSE:  7.073678999783503\n",
            "0.01 100 0 3 0.01 => RMSE:  7.073678999783503\n",
            "0.01 100 0 3 0.1 => RMSE:  7.073678999783503\n",
            "0.01 100 0 3 0.2 => RMSE:  7.073678999783503\n",
            "0.01 100 0 3 0.4 => RMSE:  7.073678999783503\n",
            "0.01 100 0 5 0.01 => RMSE:  7.073678999783503\n",
            "0.01 100 0 5 0.1 => RMSE:  7.073678999783503\n",
            "0.01 100 0 5 0.2 => RMSE:  7.073678999783503\n",
            "0.01 100 0 5 0.4 => RMSE:  7.073678999783503\n",
            "0.01 100 0 8 0.01 => RMSE:  7.073678999783503\n",
            "0.01 100 0 8 0.1 => RMSE:  7.073678999783503\n",
            "0.01 100 0 8 0.2 => RMSE:  7.073678999783503\n",
            "0.01 100 0 8 0.4 => RMSE:  7.073678999783503\n",
            "0.01 100 0 12 0.01 => RMSE:  7.073678999783503\n",
            "0.01 100 0 12 0.1 => RMSE:  7.073678999783503\n",
            "0.01 100 0 12 0.2 => RMSE:  7.073678999783503\n",
            "0.01 100 0 12 0.4 => RMSE:  7.073678999783503\n",
            "0.01 100 1 1 0.01 => RMSE:  6.345037440675082\n",
            "0.01 100 1 1 0.1 => RMSE:  6.345040502955491\n",
            "0.01 100 1 1 0.2 => RMSE:  6.345044084913191\n",
            "0.01 100 1 1 0.4 => RMSE:  6.345051097328834\n",
            "0.01 100 1 3 0.01 => RMSE:  5.850157170404674\n",
            "0.01 100 1 3 0.1 => RMSE:  5.850172445518308\n",
            "0.01 100 1 3 0.2 => RMSE:  5.850189675454104\n",
            "0.01 100 1 3 0.4 => RMSE:  5.8502244029895145\n",
            "0.01 100 1 5 0.01 => RMSE:  5.826812495748148\n",
            "0.01 100 1 5 0.1 => RMSE:  5.8271196466791215\n",
            "0.01 100 1 5 0.2 => RMSE:  5.8273786395088925\n",
            "0.01 100 1 5 0.4 => RMSE:  5.828179333714097\n",
            "0.01 100 1 8 0.01 => RMSE:  5.820530799399522\n",
            "0.01 100 1 8 0.1 => RMSE:  5.820855621313785\n",
            "0.01 100 1 8 0.2 => RMSE:  5.82128219999761\n",
            "0.01 100 1 8 0.4 => RMSE:  5.8220819617541615\n",
            "0.01 100 1 12 0.01 => RMSE:  5.820556611690664\n",
            "0.01 100 1 12 0.1 => RMSE:  5.822387121579803\n",
            "0.01 100 1 12 0.2 => RMSE:  5.822780369117987\n",
            "0.01 100 1 12 0.4 => RMSE:  5.823318979746163\n",
            "0.01 100 0.2 1 0.01 => RMSE:  6.323324808449207\n",
            "0.01 100 0.2 1 0.1 => RMSE:  6.3233433964779895\n",
            "0.01 100 0.2 1 0.2 => RMSE:  6.323364146298216\n",
            "0.01 100 0.2 1 0.4 => RMSE:  6.323362950802531\n",
            "0.01 100 0.2 3 0.01 => RMSE:  5.846739466290751\n",
            "0.01 100 0.2 3 0.1 => RMSE:  5.846816854051308\n",
            "0.01 100 0.2 3 0.2 => RMSE:  5.84690248229883\n",
            "0.01 100 0.2 3 0.4 => RMSE:  5.847074348804705\n",
            "0.01 100 0.2 5 0.01 => RMSE:  5.82674353028123\n",
            "0.01 100 0.2 5 0.1 => RMSE:  5.826990842581372\n",
            "0.01 100 0.2 5 0.2 => RMSE:  5.827321399385963\n",
            "0.01 100 0.2 5 0.4 => RMSE:  5.827652436807939\n",
            "0.01 100 0.2 8 0.01 => RMSE:  5.821706615506397\n",
            "0.01 100 0.2 8 0.1 => RMSE:  5.822043218488908\n",
            "0.01 100 0.2 8 0.2 => RMSE:  5.822559771780748\n",
            "0.01 100 0.2 8 0.4 => RMSE:  5.8234512111171695\n",
            "0.01 100 0.2 12 0.01 => RMSE:  5.822266791782224\n",
            "0.01 100 0.2 12 0.1 => RMSE:  5.822820139626629\n",
            "0.01 100 0.2 12 0.2 => RMSE:  5.823639555235504\n",
            "0.01 100 0.2 12 0.4 => RMSE:  5.824815177081513\n",
            "0.01 100 0.5 1 0.01 => RMSE:  6.334669038828922\n",
            "0.01 100 0.5 1 0.1 => RMSE:  6.3321652826529435\n",
            "0.01 100 0.5 1 0.2 => RMSE:  6.3321733077061415\n",
            "0.01 100 0.5 1 0.4 => RMSE:  6.332189555414293\n",
            "0.01 100 0.5 3 0.01 => RMSE:  5.84723353957243\n",
            "0.01 100 0.5 3 0.1 => RMSE:  5.847265044884704\n",
            "0.01 100 0.5 3 0.2 => RMSE:  5.847300061976799\n",
            "0.01 100 0.5 3 0.4 => RMSE:  5.847370137446625\n",
            "0.01 100 0.5 5 0.01 => RMSE:  5.824725599780469\n",
            "0.01 100 0.5 5 0.1 => RMSE:  5.824935539463211\n",
            "0.01 100 0.5 5 0.2 => RMSE:  5.825156752621695\n",
            "0.01 100 0.5 5 0.4 => RMSE:  5.825644686831377\n",
            "0.01 100 0.5 8 0.01 => RMSE:  5.818876960426914\n",
            "0.01 100 0.5 8 0.1 => RMSE:  5.819157702571883\n",
            "0.01 100 0.5 8 0.2 => RMSE:  5.819395313596721\n",
            "0.01 100 0.5 8 0.4 => RMSE:  5.82009639455938\n",
            "0.01 100 0.5 12 0.01 => RMSE:  5.8200291759246925\n",
            "0.01 100 0.5 12 0.1 => RMSE:  5.82038029351114\n",
            "0.01 100 0.5 12 0.2 => RMSE:  5.820765299804585\n",
            "0.01 100 0.5 12 0.4 => RMSE:  5.82153662452402\n",
            "0.01 100 0.3 1 0.01 => RMSE:  6.32575220419984\n",
            "0.01 100 0.3 1 0.1 => RMSE:  6.325765488526135\n",
            "0.01 100 0.3 1 0.2 => RMSE:  6.325780244344956\n",
            "0.01 100 0.3 1 0.4 => RMSE:  6.325809630799555\n",
            "0.01 100 0.3 3 0.01 => RMSE:  5.846701559145482\n",
            "0.01 100 0.3 3 0.1 => RMSE:  5.8467958826446\n",
            "0.01 100 0.3 3 0.2 => RMSE:  5.846853332041969\n",
            "0.01 100 0.3 3 0.4 => RMSE:  5.846968117738443\n",
            "0.01 100 0.3 5 0.01 => RMSE:  5.825269745419826\n",
            "0.01 100 0.3 5 0.1 => RMSE:  5.825402293862735\n",
            "0.01 100 0.3 5 0.2 => RMSE:  5.825568879778025\n",
            "0.01 100 0.3 5 0.4 => RMSE:  5.826048081555998\n",
            "0.01 100 0.3 8 0.01 => RMSE:  5.8198648528862345\n",
            "0.01 100 0.3 8 0.1 => RMSE:  5.820337057169749\n",
            "0.01 100 0.3 8 0.2 => RMSE:  5.820635555119516\n",
            "0.01 100 0.3 8 0.4 => RMSE:  5.821313637774215\n",
            "0.01 100 0.3 12 0.01 => RMSE:  5.820029335698657\n",
            "0.01 100 0.3 12 0.1 => RMSE:  5.820503839582714\n",
            "0.01 100 0.3 12 0.2 => RMSE:  5.821206031869186\n",
            "0.01 100 0.3 12 0.4 => RMSE:  5.822321300725642\n",
            "0.01 100 1 1 0.01 => RMSE:  6.345037440675082\n",
            "0.01 100 1 1 0.1 => RMSE:  6.345040502955491\n",
            "0.01 100 1 1 0.2 => RMSE:  6.345044084913191\n",
            "0.01 100 1 1 0.4 => RMSE:  6.345051097328834\n",
            "0.01 100 1 3 0.01 => RMSE:  5.850157170404674\n",
            "0.01 100 1 3 0.1 => RMSE:  5.850172445518308\n",
            "0.01 100 1 3 0.2 => RMSE:  5.850189675454104\n",
            "0.01 100 1 3 0.4 => RMSE:  5.8502244029895145\n",
            "0.01 100 1 5 0.01 => RMSE:  5.826812495748148\n",
            "0.01 100 1 5 0.1 => RMSE:  5.8271196466791215\n",
            "0.01 100 1 5 0.2 => RMSE:  5.8273786395088925\n",
            "0.01 100 1 5 0.4 => RMSE:  5.828179333714097\n",
            "0.01 100 1 8 0.01 => RMSE:  5.820530799399522\n",
            "0.01 100 1 8 0.1 => RMSE:  5.820855621313785\n",
            "0.01 100 1 8 0.2 => RMSE:  5.82128219999761\n",
            "0.01 100 1 8 0.4 => RMSE:  5.8220819617541615\n",
            "0.01 100 1 12 0.01 => RMSE:  5.820556611690664\n",
            "0.01 100 1 12 0.1 => RMSE:  5.822387121579803\n",
            "0.01 100 1 12 0.2 => RMSE:  5.822780369117987\n",
            "0.01 100 1 12 0.4 => RMSE:  5.823318979746163\n",
            "0.01 150 0 1 0.01 => RMSE:  7.073678999783503\n",
            "0.01 150 0 1 0.1 => RMSE:  7.073678999783503\n",
            "0.01 150 0 1 0.2 => RMSE:  7.073678999783503\n",
            "0.01 150 0 1 0.4 => RMSE:  7.073678999783503\n",
            "0.01 150 0 3 0.01 => RMSE:  7.073678999783503\n",
            "0.01 150 0 3 0.1 => RMSE:  7.073678999783503\n",
            "0.01 150 0 3 0.2 => RMSE:  7.073678999783503\n",
            "0.01 150 0 3 0.4 => RMSE:  7.073678999783503\n",
            "0.01 150 0 5 0.01 => RMSE:  7.073678999783503\n",
            "0.01 150 0 5 0.1 => RMSE:  7.073678999783503\n",
            "0.01 150 0 5 0.2 => RMSE:  7.073678999783503\n",
            "0.01 150 0 5 0.4 => RMSE:  7.073678999783503\n",
            "0.01 150 0 8 0.01 => RMSE:  7.073678999783503\n",
            "0.01 150 0 8 0.1 => RMSE:  7.073678999783503\n",
            "0.01 150 0 8 0.2 => RMSE:  7.073678999783503\n",
            "0.01 150 0 8 0.4 => RMSE:  7.073678999783503\n",
            "0.01 150 0 12 0.01 => RMSE:  7.073678999783503\n",
            "0.01 150 0 12 0.1 => RMSE:  7.073678999783503\n",
            "0.01 150 0 12 0.2 => RMSE:  7.073678999783503\n",
            "0.01 150 0 12 0.4 => RMSE:  7.073678999783503\n",
            "0.01 150 1 1 0.01 => RMSE:  6.120995262573891\n",
            "0.01 150 1 1 0.1 => RMSE:  6.1210007618524775\n",
            "0.01 150 1 1 0.2 => RMSE:  6.121007125223991\n",
            "0.01 150 1 1 0.4 => RMSE:  6.121019873510342\n",
            "0.01 150 1 3 0.01 => RMSE:  5.67683441176535\n",
            "0.01 150 1 3 0.1 => RMSE:  5.67684501475388\n",
            "0.01 150 1 3 0.2 => RMSE:  5.676856637568632\n",
            "0.01 150 1 3 0.4 => RMSE:  5.676879903682297\n",
            "0.01 150 1 5 0.01 => RMSE:  5.657344069511843\n",
            "0.01 150 1 5 0.1 => RMSE:  5.657426546662608\n",
            "0.01 150 1 5 0.2 => RMSE:  5.657684413266572\n",
            "0.01 150 1 5 0.4 => RMSE:  5.658216960941377\n",
            "0.01 150 1 8 0.01 => RMSE:  5.6522898799949\n",
            "0.01 150 1 8 0.1 => RMSE:  5.65253446556284\n",
            "0.01 150 1 8 0.2 => RMSE:  5.652845361850257\n",
            "0.01 150 1 8 0.4 => RMSE:  5.653482452520556\n",
            "0.01 150 1 12 0.01 => RMSE:  5.654843509482896\n",
            "0.01 150 1 12 0.1 => RMSE:  5.657439139140114\n",
            "0.01 150 1 12 0.2 => RMSE:  5.657475014624416\n",
            "0.01 150 1 12 0.4 => RMSE:  5.656837922556438\n",
            "0.01 150 0.2 1 0.01 => RMSE:  6.107350557725014\n",
            "0.01 150 0.2 1 0.1 => RMSE:  6.107379125311043\n",
            "0.01 150 0.2 1 0.2 => RMSE:  6.107410567001941\n",
            "0.01 150 0.2 1 0.4 => RMSE:  6.1041501333331505\n",
            "0.01 150 0.2 3 0.01 => RMSE:  5.676305297454429\n",
            "0.01 150 0.2 3 0.1 => RMSE:  5.6763616057453925\n",
            "0.01 150 0.2 3 0.2 => RMSE:  5.6764281461561525\n",
            "0.01 150 0.2 3 0.4 => RMSE:  5.676545492630949\n",
            "0.01 150 0.2 5 0.01 => RMSE:  5.659418270033098\n",
            "0.01 150 0.2 5 0.1 => RMSE:  5.65961820269761\n",
            "0.01 150 0.2 5 0.2 => RMSE:  5.6598446050025615\n",
            "0.01 150 0.2 5 0.4 => RMSE:  5.660245893832463\n",
            "0.01 150 0.2 8 0.01 => RMSE:  5.655996465614352\n",
            "0.01 150 0.2 8 0.1 => RMSE:  5.6562950334937145\n",
            "0.01 150 0.2 8 0.2 => RMSE:  5.656723112811998\n",
            "0.01 150 0.2 8 0.4 => RMSE:  5.657414696640698\n",
            "0.01 150 0.2 12 0.01 => RMSE:  5.658182940234546\n",
            "0.01 150 0.2 12 0.1 => RMSE:  5.658388740672926\n",
            "0.01 150 0.2 12 0.2 => RMSE:  5.658978217088606\n",
            "0.01 150 0.2 12 0.4 => RMSE:  5.659762939700655\n",
            "0.01 150 0.5 1 0.01 => RMSE:  6.114136628495222\n",
            "0.01 150 0.5 1 0.1 => RMSE:  6.116116745915675\n",
            "0.01 150 0.5 1 0.2 => RMSE:  6.116128847219314\n",
            "0.01 150 0.5 1 0.4 => RMSE:  6.116153119751039\n",
            "0.01 150 0.5 3 0.01 => RMSE:  5.672849844450996\n",
            "0.01 150 0.5 3 0.1 => RMSE:  5.672871938184294\n",
            "0.01 150 0.5 3 0.2 => RMSE:  5.67289637427328\n",
            "0.01 150 0.5 3 0.4 => RMSE:  5.672945404274631\n",
            "0.01 150 0.5 5 0.01 => RMSE:  5.655517101192198\n",
            "0.01 150 0.5 5 0.1 => RMSE:  5.655727811478437\n",
            "0.01 150 0.5 5 0.2 => RMSE:  5.655936630605111\n",
            "0.01 150 0.5 5 0.4 => RMSE:  5.656409420408438\n",
            "0.01 150 0.5 8 0.01 => RMSE:  5.651346393884246\n",
            "0.01 150 0.5 8 0.1 => RMSE:  5.651610547998329\n",
            "0.01 150 0.5 8 0.2 => RMSE:  5.651750134723305\n",
            "0.01 150 0.5 8 0.4 => RMSE:  5.652228558239641\n",
            "0.01 150 0.5 12 0.01 => RMSE:  5.65428120153598\n",
            "0.01 150 0.5 12 0.1 => RMSE:  5.654445578699008\n",
            "0.01 150 0.5 12 0.2 => RMSE:  5.654691169681334\n",
            "0.01 150 0.5 12 0.4 => RMSE:  5.655088905374122\n",
            "0.01 150 0.3 1 0.01 => RMSE:  6.1069872011294\n",
            "0.01 150 0.3 1 0.1 => RMSE:  6.1070069589404055\n",
            "0.01 150 0.3 1 0.2 => RMSE:  6.1070286222651085\n",
            "0.01 150 0.3 1 0.4 => RMSE:  6.107072483310326\n",
            "0.01 150 0.3 3 0.01 => RMSE:  5.674686315925565\n",
            "0.01 150 0.3 3 0.1 => RMSE:  5.6746120914310945\n",
            "0.01 150 0.3 3 0.2 => RMSE:  5.674663779426383\n",
            "0.01 150 0.3 3 0.4 => RMSE:  5.674742994047526\n",
            "0.01 150 0.3 5 0.01 => RMSE:  5.657110404648053\n",
            "0.01 150 0.3 5 0.1 => RMSE:  5.657173964225489\n",
            "0.01 150 0.3 5 0.2 => RMSE:  5.65731712749718\n",
            "0.01 150 0.3 5 0.4 => RMSE:  5.657742947429839\n",
            "0.01 150 0.3 8 0.01 => RMSE:  5.653204517274396\n",
            "0.01 150 0.3 8 0.1 => RMSE:  5.653605761463594\n",
            "0.01 150 0.3 8 0.2 => RMSE:  5.653868819418695\n",
            "0.01 150 0.3 8 0.4 => RMSE:  5.654405735181516\n",
            "0.01 150 0.3 12 0.01 => RMSE:  5.6556103341736\n",
            "0.01 150 0.3 12 0.1 => RMSE:  5.655862113864737\n",
            "0.01 150 0.3 12 0.2 => RMSE:  5.6562718820927484\n",
            "0.01 150 0.3 12 0.4 => RMSE:  5.656905482952255\n",
            "0.01 150 1 1 0.01 => RMSE:  6.120995262573891\n",
            "0.01 150 1 1 0.1 => RMSE:  6.1210007618524775\n",
            "0.01 150 1 1 0.2 => RMSE:  6.121007125223991\n",
            "0.01 150 1 1 0.4 => RMSE:  6.121019873510342\n",
            "0.01 150 1 3 0.01 => RMSE:  5.67683441176535\n",
            "0.01 150 1 3 0.1 => RMSE:  5.67684501475388\n",
            "0.01 150 1 3 0.2 => RMSE:  5.676856637568632\n",
            "0.01 150 1 3 0.4 => RMSE:  5.676879903682297\n",
            "0.01 150 1 5 0.01 => RMSE:  5.657344069511843\n",
            "0.01 150 1 5 0.1 => RMSE:  5.657426546662608\n",
            "0.01 150 1 5 0.2 => RMSE:  5.657684413266572\n",
            "0.01 150 1 5 0.4 => RMSE:  5.658216960941377\n",
            "0.01 150 1 8 0.01 => RMSE:  5.6522898799949\n",
            "0.01 150 1 8 0.1 => RMSE:  5.65253446556284\n",
            "0.01 150 1 8 0.2 => RMSE:  5.652845361850257\n",
            "0.01 150 1 8 0.4 => RMSE:  5.653482452520556\n",
            "0.01 150 1 12 0.01 => RMSE:  5.654843509482896\n",
            "0.01 150 1 12 0.1 => RMSE:  5.657439139140114\n",
            "0.01 150 1 12 0.2 => RMSE:  5.657475014624416\n",
            "0.01 150 1 12 0.4 => RMSE:  5.656837922556438\n",
            "0.01 200 0 1 0.01 => RMSE:  7.073678999783503\n",
            "0.01 200 0 1 0.1 => RMSE:  7.073678999783503\n",
            "0.01 200 0 1 0.2 => RMSE:  7.073678999783503\n",
            "0.01 200 0 1 0.4 => RMSE:  7.073678999783503\n",
            "0.01 200 0 3 0.01 => RMSE:  7.073678999783503\n",
            "0.01 200 0 3 0.1 => RMSE:  7.073678999783503\n",
            "0.01 200 0 3 0.2 => RMSE:  7.073678999783503\n",
            "0.01 200 0 3 0.4 => RMSE:  7.073678999783503\n",
            "0.01 200 0 5 0.01 => RMSE:  7.073678999783503\n",
            "0.01 200 0 5 0.1 => RMSE:  7.073678999783503\n",
            "0.01 200 0 5 0.2 => RMSE:  7.073678999783503\n",
            "0.01 200 0 5 0.4 => RMSE:  7.073678999783503\n",
            "0.01 200 0 8 0.01 => RMSE:  7.073678999783503\n",
            "0.01 200 0 8 0.1 => RMSE:  7.073678999783503\n",
            "0.01 200 0 8 0.2 => RMSE:  7.073678999783503\n",
            "0.01 200 0 8 0.4 => RMSE:  7.073678999783503\n",
            "0.01 200 0 12 0.01 => RMSE:  7.073678999783503\n",
            "0.01 200 0 12 0.1 => RMSE:  7.073678999783503\n",
            "0.01 200 0 12 0.2 => RMSE:  7.073678999783503\n",
            "0.01 200 0 12 0.4 => RMSE:  7.073678999783503\n",
            "0.01 200 1 1 0.01 => RMSE:  5.963645147258725\n",
            "0.01 200 1 1 0.1 => RMSE:  5.963651444087307\n",
            "0.01 200 1 1 0.2 => RMSE:  5.963658934855647\n",
            "0.01 200 1 1 0.4 => RMSE:  5.963673730716658\n",
            "0.01 200 1 3 0.01 => RMSE:  5.594818923966057\n",
            "0.01 200 1 3 0.1 => RMSE:  5.594825946624626\n",
            "0.01 200 1 3 0.2 => RMSE:  5.594748204083039\n",
            "0.01 200 1 3 0.4 => RMSE:  5.594714807951186\n",
            "0.01 200 1 5 0.01 => RMSE:  5.580158901477912\n",
            "0.01 200 1 5 0.1 => RMSE:  5.580357367778591\n",
            "0.01 200 1 5 0.2 => RMSE:  5.580590786587942\n",
            "0.01 200 1 5 0.4 => RMSE:  5.580822292474682\n",
            "0.01 200 1 8 0.01 => RMSE:  5.576262318085941\n",
            "0.01 200 1 8 0.1 => RMSE:  5.57635629225155\n",
            "0.01 200 1 8 0.2 => RMSE:  5.576546155787754\n",
            "0.01 200 1 8 0.4 => RMSE:  5.577123247466035\n",
            "0.01 200 1 12 0.01 => RMSE:  5.581089636414886\n",
            "0.01 200 1 12 0.1 => RMSE:  5.5839868603589204\n",
            "0.01 200 1 12 0.2 => RMSE:  5.583939695508462\n",
            "0.01 200 1 12 0.4 => RMSE:  5.583032680885959\n",
            "0.01 200 0.2 1 0.01 => RMSE:  5.949733546464378\n",
            "0.01 200 0.2 1 0.1 => RMSE:  5.949766515191761\n",
            "0.01 200 0.2 1 0.2 => RMSE:  5.949802770143032\n",
            "0.01 200 0.2 1 0.4 => RMSE:  5.95036325263087\n",
            "0.01 200 0.2 3 0.01 => RMSE:  5.595594592166707\n",
            "0.01 200 0.2 3 0.1 => RMSE:  5.595713636137164\n",
            "0.01 200 0.2 3 0.2 => RMSE:  5.595786043570122\n",
            "0.01 200 0.2 3 0.4 => RMSE:  5.59593557840941\n",
            "0.01 200 0.2 5 0.01 => RMSE:  5.582096737030327\n",
            "0.01 200 0.2 5 0.1 => RMSE:  5.58229757328885\n",
            "0.01 200 0.2 5 0.2 => RMSE:  5.58248919378449\n",
            "0.01 200 0.2 5 0.4 => RMSE:  5.582966037710027\n",
            "0.01 200 0.2 8 0.01 => RMSE:  5.580014379034226\n",
            "0.01 200 0.2 8 0.1 => RMSE:  5.5803374375445856\n",
            "0.01 200 0.2 8 0.2 => RMSE:  5.580782934533252\n",
            "0.01 200 0.2 8 0.4 => RMSE:  5.58128908202439\n",
            "0.01 200 0.2 12 0.01 => RMSE:  5.583490686511002\n",
            "0.01 200 0.2 12 0.1 => RMSE:  5.583487009416442\n",
            "0.01 200 0.2 12 0.2 => RMSE:  5.583814642793502\n",
            "0.01 200 0.2 12 0.4 => RMSE:  5.584299065580471\n",
            "0.01 200 0.5 1 0.01 => RMSE:  5.954590098122852\n",
            "0.01 200 0.5 1 0.1 => RMSE:  5.954820272900398\n",
            "0.01 200 0.5 1 0.2 => RMSE:  5.954834949094192\n",
            "0.01 200 0.5 1 0.4 => RMSE:  5.954864154093307\n",
            "0.01 200 0.5 3 0.01 => RMSE:  5.593389277679371\n",
            "0.01 200 0.5 3 0.1 => RMSE:  5.593406934239019\n",
            "0.01 200 0.5 3 0.2 => RMSE:  5.593426403388525\n",
            "0.01 200 0.5 3 0.4 => RMSE:  5.593480576655112\n",
            "0.01 200 0.5 5 0.01 => RMSE:  5.579762871961194\n",
            "0.01 200 0.5 5 0.1 => RMSE:  5.579935209786438\n",
            "0.01 200 0.5 5 0.2 => RMSE:  5.58020437302503\n",
            "0.01 200 0.5 5 0.4 => RMSE:  5.580554533901893\n",
            "0.01 200 0.5 8 0.01 => RMSE:  5.577136788688709\n",
            "0.01 200 0.5 8 0.1 => RMSE:  5.577319037181241\n",
            "0.01 200 0.5 8 0.2 => RMSE:  5.577366131057253\n",
            "0.01 200 0.5 8 0.4 => RMSE:  5.5776699619243155\n",
            "0.01 200 0.5 12 0.01 => RMSE:  5.581759617703023\n",
            "0.01 200 0.5 12 0.1 => RMSE:  5.581788811670715\n",
            "0.01 200 0.5 12 0.2 => RMSE:  5.581937508129188\n",
            "0.01 200 0.5 12 0.4 => RMSE:  5.5821173331749785\n",
            "0.01 200 0.3 1 0.01 => RMSE:  5.94695787476903\n",
            "0.01 200 0.3 1 0.1 => RMSE:  5.9469801707363885\n",
            "0.01 200 0.3 1 0.2 => RMSE:  5.94700508458413\n",
            "0.01 200 0.3 1 0.4 => RMSE:  5.947054884568843\n",
            "0.01 200 0.3 3 0.01 => RMSE:  5.594525711038967\n",
            "0.01 200 0.3 3 0.1 => RMSE:  5.594504695984834\n",
            "0.01 200 0.3 3 0.2 => RMSE:  5.59448715909852\n",
            "0.01 200 0.3 3 0.4 => RMSE:  5.594540293512615\n",
            "0.01 200 0.3 5 0.01 => RMSE:  5.580947235451456\n",
            "0.01 200 0.3 5 0.1 => RMSE:  5.581178128369921\n",
            "0.01 200 0.3 5 0.2 => RMSE:  5.581238671232451\n",
            "0.01 200 0.3 5 0.4 => RMSE:  5.581614645263214\n",
            "0.01 200 0.3 8 0.01 => RMSE:  5.578457374709894\n",
            "0.01 200 0.3 8 0.1 => RMSE:  5.578778718248982\n",
            "0.01 200 0.3 8 0.2 => RMSE:  5.578901108043248\n",
            "0.01 200 0.3 8 0.4 => RMSE:  5.579348066314192\n",
            "0.01 200 0.3 12 0.01 => RMSE:  5.582410703975672\n",
            "0.01 200 0.3 12 0.1 => RMSE:  5.582484192205874\n",
            "0.01 200 0.3 12 0.2 => RMSE:  5.582765119040122\n",
            "0.01 200 0.3 12 0.4 => RMSE:  5.583014243098219\n",
            "0.01 200 1 1 0.01 => RMSE:  5.963645147258725\n",
            "0.01 200 1 1 0.1 => RMSE:  5.963651444087307\n",
            "0.01 200 1 1 0.2 => RMSE:  5.963658934855647\n",
            "0.01 200 1 1 0.4 => RMSE:  5.963673730716658\n",
            "0.01 200 1 3 0.01 => RMSE:  5.594818923966057\n",
            "0.01 200 1 3 0.1 => RMSE:  5.594825946624626\n",
            "0.01 200 1 3 0.2 => RMSE:  5.594748204083039\n",
            "0.01 200 1 3 0.4 => RMSE:  5.594714807951186\n",
            "0.01 200 1 5 0.01 => RMSE:  5.580158901477912\n",
            "0.01 200 1 5 0.1 => RMSE:  5.580357367778591\n",
            "0.01 200 1 5 0.2 => RMSE:  5.580590786587942\n",
            "0.01 200 1 5 0.4 => RMSE:  5.580822292474682\n",
            "0.01 200 1 8 0.01 => RMSE:  5.576262318085941\n",
            "0.01 200 1 8 0.1 => RMSE:  5.57635629225155\n",
            "0.01 200 1 8 0.2 => RMSE:  5.576546155787754\n",
            "0.01 200 1 8 0.4 => RMSE:  5.577123247466035\n",
            "0.01 200 1 12 0.01 => RMSE:  5.581089636414886\n",
            "0.01 200 1 12 0.1 => RMSE:  5.5839868603589204\n",
            "0.01 200 1 12 0.2 => RMSE:  5.583939695508462\n",
            "0.01 200 1 12 0.4 => RMSE:  5.583032680885959\n",
            "0.1 50 0 1 0.01 => RMSE:  7.073678999783503\n",
            "0.1 50 0 1 0.1 => RMSE:  7.073678999783503\n",
            "0.1 50 0 1 0.2 => RMSE:  7.073678999783503\n",
            "0.1 50 0 1 0.4 => RMSE:  7.073678999783503\n",
            "0.1 50 0 3 0.01 => RMSE:  7.073678999783503\n",
            "0.1 50 0 3 0.1 => RMSE:  7.073678999783503\n",
            "0.1 50 0 3 0.2 => RMSE:  7.073678999783503\n",
            "0.1 50 0 3 0.4 => RMSE:  7.073678999783503\n",
            "0.1 50 0 5 0.01 => RMSE:  7.073678999783503\n",
            "0.1 50 0 5 0.1 => RMSE:  7.073678999783503\n",
            "0.1 50 0 5 0.2 => RMSE:  7.073678999783503\n",
            "0.1 50 0 5 0.4 => RMSE:  7.073678999783503\n",
            "0.1 50 0 8 0.01 => RMSE:  7.073678999783503\n",
            "0.1 50 0 8 0.1 => RMSE:  7.073678999783503\n",
            "0.1 50 0 8 0.2 => RMSE:  7.073678999783503\n",
            "0.1 50 0 8 0.4 => RMSE:  7.073678999783503\n",
            "0.1 50 0 12 0.01 => RMSE:  7.073678999783503\n",
            "0.1 50 0 12 0.1 => RMSE:  7.073678999783503\n",
            "0.1 50 0 12 0.2 => RMSE:  7.073678999783503\n",
            "0.1 50 0 12 0.4 => RMSE:  7.073678999783503\n",
            "0.1 50 1 1 0.01 => RMSE:  5.603732805370008\n",
            "0.1 50 1 1 0.1 => RMSE:  5.6037370810022\n",
            "0.1 50 1 1 0.2 => RMSE:  5.603741898093605\n",
            "0.1 50 1 1 0.4 => RMSE:  5.60375138620727\n",
            "0.1 50 1 3 0.01 => RMSE:  5.511308144261168\n",
            "0.1 50 1 3 0.1 => RMSE:  5.511303044750899\n",
            "0.1 50 1 3 0.2 => RMSE:  5.511299195801379\n",
            "0.1 50 1 3 0.4 => RMSE:  5.511601851911009\n",
            "0.1 50 1 5 0.01 => RMSE:  5.503886120756427\n",
            "0.1 50 1 5 0.1 => RMSE:  5.5039240368678515\n",
            "0.1 50 1 5 0.2 => RMSE:  5.504344968343801\n",
            "0.1 50 1 5 0.4 => RMSE:  5.504139640242191\n",
            "0.1 50 1 8 0.01 => RMSE:  5.504622651741984\n",
            "0.1 50 1 8 0.1 => RMSE:  5.504685917607698\n",
            "0.1 50 1 8 0.2 => RMSE:  5.5045736277755815\n",
            "0.1 50 1 8 0.4 => RMSE:  5.504252648433596\n",
            "0.1 50 1 12 0.01 => RMSE:  5.5156276781076325\n",
            "0.1 50 1 12 0.1 => RMSE:  5.517966532912905\n",
            "0.1 50 1 12 0.2 => RMSE:  5.517782398848706\n",
            "0.1 50 1 12 0.4 => RMSE:  5.515701197900233\n",
            "0.1 50 0.2 1 0.01 => RMSE:  5.587288205490582\n",
            "0.1 50 0.2 1 0.1 => RMSE:  5.587308458330733\n",
            "0.1 50 0.2 1 0.2 => RMSE:  5.58733100437444\n",
            "0.1 50 0.2 1 0.4 => RMSE:  5.590708152911362\n",
            "0.1 50 0.2 3 0.01 => RMSE:  5.5104728573905035\n",
            "0.1 50 0.2 3 0.1 => RMSE:  5.510574298359211\n",
            "0.1 50 0.2 3 0.2 => RMSE:  5.5106268499539555\n",
            "0.1 50 0.2 3 0.4 => RMSE:  5.510813830822068\n",
            "0.1 50 0.2 5 0.01 => RMSE:  5.509934684569809\n",
            "0.1 50 0.2 5 0.1 => RMSE:  5.510265589633588\n",
            "0.1 50 0.2 5 0.2 => RMSE:  5.509627523093468\n",
            "0.1 50 0.2 5 0.4 => RMSE:  5.509361865421795\n",
            "0.1 50 0.2 8 0.01 => RMSE:  5.513860476476405\n",
            "0.1 50 0.2 8 0.1 => RMSE:  5.513719883952521\n",
            "0.1 50 0.2 8 0.2 => RMSE:  5.511805816248825\n",
            "0.1 50 0.2 8 0.4 => RMSE:  5.513092447671398\n",
            "0.1 50 0.2 12 0.01 => RMSE:  5.52095150586691\n",
            "0.1 50 0.2 12 0.1 => RMSE:  5.521296326801305\n",
            "0.1 50 0.2 12 0.2 => RMSE:  5.520243913458099\n",
            "0.1 50 0.2 12 0.4 => RMSE:  5.521516825631209\n",
            "0.1 50 0.5 1 0.01 => RMSE:  5.5931653238671535\n",
            "0.1 50 0.5 1 0.1 => RMSE:  5.5931734261853\n",
            "0.1 50 0.5 1 0.2 => RMSE:  5.593182484110093\n",
            "0.1 50 0.5 1 0.4 => RMSE:  5.5932004468979\n",
            "0.1 50 0.5 3 0.01 => RMSE:  5.509078838519169\n",
            "0.1 50 0.5 3 0.1 => RMSE:  5.508702384104876\n",
            "0.1 50 0.5 3 0.2 => RMSE:  5.508918859085024\n",
            "0.1 50 0.5 3 0.4 => RMSE:  5.509186486118877\n",
            "0.1 50 0.5 5 0.01 => RMSE:  5.503198959772012\n",
            "0.1 50 0.5 5 0.1 => RMSE:  5.503359575926485\n",
            "0.1 50 0.5 5 0.2 => RMSE:  5.50315491892956\n",
            "0.1 50 0.5 5 0.4 => RMSE:  5.503922936761507\n",
            "0.1 50 0.5 8 0.01 => RMSE:  5.506423634593202\n",
            "0.1 50 0.5 8 0.1 => RMSE:  5.505551991563628\n",
            "0.1 50 0.5 8 0.2 => RMSE:  5.505636659291897\n",
            "0.1 50 0.5 8 0.4 => RMSE:  5.505376763260105\n",
            "0.1 50 0.5 12 0.01 => RMSE:  5.517495655531649\n",
            "0.1 50 0.5 12 0.1 => RMSE:  5.516720232705643\n",
            "0.1 50 0.5 12 0.2 => RMSE:  5.516436434860165\n",
            "0.1 50 0.5 12 0.4 => RMSE:  5.5164499852227875\n",
            "0.1 50 0.3 1 0.01 => RMSE:  5.594147137302124\n",
            "0.1 50 0.3 1 0.1 => RMSE:  5.594160909489753\n",
            "0.1 50 0.3 1 0.2 => RMSE:  5.590950959601432\n",
            "0.1 50 0.3 1 0.4 => RMSE:  5.594173375613729\n",
            "0.1 50 0.3 3 0.01 => RMSE:  5.508389123422057\n",
            "0.1 50 0.3 3 0.1 => RMSE:  5.509254278357388\n",
            "0.1 50 0.3 3 0.2 => RMSE:  5.509572126697438\n",
            "0.1 50 0.3 3 0.4 => RMSE:  5.50964335517865\n",
            "0.1 50 0.3 5 0.01 => RMSE:  5.503578293434677\n",
            "0.1 50 0.3 5 0.1 => RMSE:  5.5036247378245005\n",
            "0.1 50 0.3 5 0.2 => RMSE:  5.504002087793414\n",
            "0.1 50 0.3 5 0.4 => RMSE:  5.504957843827572\n",
            "0.1 50 0.3 8 0.01 => RMSE:  5.507366924791436\n",
            "0.1 50 0.3 8 0.1 => RMSE:  5.50784318393061\n",
            "0.1 50 0.3 8 0.2 => RMSE:  5.5065827445275755\n",
            "0.1 50 0.3 8 0.4 => RMSE:  5.506867239231436\n",
            "0.1 50 0.3 12 0.01 => RMSE:  5.51513791120895\n",
            "0.1 50 0.3 12 0.1 => RMSE:  5.515557600594516\n",
            "0.1 50 0.3 12 0.2 => RMSE:  5.515652076457449\n",
            "0.1 50 0.3 12 0.4 => RMSE:  5.514888418594217\n",
            "0.1 50 1 1 0.01 => RMSE:  5.603732805370008\n",
            "0.1 50 1 1 0.1 => RMSE:  5.6037370810022\n",
            "0.1 50 1 1 0.2 => RMSE:  5.603741898093605\n",
            "0.1 50 1 1 0.4 => RMSE:  5.60375138620727\n",
            "0.1 50 1 3 0.01 => RMSE:  5.511308144261168\n",
            "0.1 50 1 3 0.1 => RMSE:  5.511303044750899\n",
            "0.1 50 1 3 0.2 => RMSE:  5.511299195801379\n",
            "0.1 50 1 3 0.4 => RMSE:  5.511601851911009\n",
            "0.1 50 1 5 0.01 => RMSE:  5.503886120756427\n",
            "0.1 50 1 5 0.1 => RMSE:  5.5039240368678515\n",
            "0.1 50 1 5 0.2 => RMSE:  5.504344968343801\n",
            "0.1 50 1 5 0.4 => RMSE:  5.504139640242191\n",
            "0.1 50 1 8 0.01 => RMSE:  5.504622651741984\n",
            "0.1 50 1 8 0.1 => RMSE:  5.504685917607698\n",
            "0.1 50 1 8 0.2 => RMSE:  5.5045736277755815\n",
            "0.1 50 1 8 0.4 => RMSE:  5.504252648433596\n",
            "0.1 50 1 12 0.01 => RMSE:  5.5156276781076325\n",
            "0.1 50 1 12 0.1 => RMSE:  5.517966532912905\n",
            "0.1 50 1 12 0.2 => RMSE:  5.517782398848706\n",
            "0.1 50 1 12 0.4 => RMSE:  5.515701197900233\n",
            "0.1 75 0 1 0.01 => RMSE:  7.073678999783503\n",
            "0.1 75 0 1 0.1 => RMSE:  7.073678999783503\n",
            "0.1 75 0 1 0.2 => RMSE:  7.073678999783503\n",
            "0.1 75 0 1 0.4 => RMSE:  7.073678999783503\n",
            "0.1 75 0 3 0.01 => RMSE:  7.073678999783503\n",
            "0.1 75 0 3 0.1 => RMSE:  7.073678999783503\n",
            "0.1 75 0 3 0.2 => RMSE:  7.073678999783503\n",
            "0.1 75 0 3 0.4 => RMSE:  7.073678999783503\n",
            "0.1 75 0 5 0.01 => RMSE:  7.073678999783503\n",
            "0.1 75 0 5 0.1 => RMSE:  7.073678999783503\n",
            "0.1 75 0 5 0.2 => RMSE:  7.073678999783503\n",
            "0.1 75 0 5 0.4 => RMSE:  7.073678999783503\n",
            "0.1 75 0 8 0.01 => RMSE:  7.073678999783503\n",
            "0.1 75 0 8 0.1 => RMSE:  7.073678999783503\n",
            "0.1 75 0 8 0.2 => RMSE:  7.073678999783503\n",
            "0.1 75 0 8 0.4 => RMSE:  7.073678999783503\n",
            "0.1 75 0 12 0.01 => RMSE:  7.073678999783503\n",
            "0.1 75 0 12 0.1 => RMSE:  7.073678999783503\n",
            "0.1 75 0 12 0.2 => RMSE:  7.073678999783503\n",
            "0.1 75 0 12 0.4 => RMSE:  7.073678999783503\n",
            "0.1 75 1 1 0.01 => RMSE:  5.547688509887762\n",
            "0.1 75 1 1 0.1 => RMSE:  5.547690932198054\n",
            "0.1 75 1 1 0.2 => RMSE:  5.547693500951082\n",
            "0.1 75 1 1 0.4 => RMSE:  5.547698695146344\n",
            "0.1 75 1 3 0.01 => RMSE:  5.506782109615558\n",
            "0.1 75 1 3 0.1 => RMSE:  5.506655714835836\n",
            "0.1 75 1 3 0.2 => RMSE:  5.506716474064444\n",
            "0.1 75 1 3 0.4 => RMSE:  5.5066111449915205\n",
            "0.1 75 1 5 0.01 => RMSE:  5.501265481751482\n",
            "0.1 75 1 5 0.1 => RMSE:  5.501385078589783\n",
            "0.1 75 1 5 0.2 => RMSE:  5.501167289751639\n",
            "0.1 75 1 5 0.4 => RMSE:  5.501133036671932\n",
            "0.1 75 1 8 0.01 => RMSE:  5.503939591221196\n",
            "0.1 75 1 8 0.1 => RMSE:  5.503643729749087\n",
            "0.1 75 1 8 0.2 => RMSE:  5.503835239310303\n",
            "0.1 75 1 8 0.4 => RMSE:  5.503467348202994\n",
            "0.1 75 1 12 0.01 => RMSE:  5.516722391750816\n",
            "0.1 75 1 12 0.1 => RMSE:  5.519375134290141\n",
            "0.1 75 1 12 0.2 => RMSE:  5.519040874894573\n",
            "0.1 75 1 12 0.4 => RMSE:  5.516944555545882\n",
            "0.1 75 0.2 1 0.01 => RMSE:  5.529627526108373\n",
            "0.1 75 0.2 1 0.1 => RMSE:  5.5296392859995676\n",
            "0.1 75 0.2 1 0.2 => RMSE:  5.529652211777143\n",
            "0.1 75 0.2 1 0.4 => RMSE:  5.530339513158916\n",
            "0.1 75 0.2 3 0.01 => RMSE:  5.5006382761398855\n",
            "0.1 75 0.2 3 0.1 => RMSE:  5.500733704921569\n",
            "0.1 75 0.2 3 0.2 => RMSE:  5.500978442785357\n",
            "0.1 75 0.2 3 0.4 => RMSE:  5.501320622193093\n",
            "0.1 75 0.2 5 0.01 => RMSE:  5.49803700415509\n",
            "0.1 75 0.2 5 0.1 => RMSE:  5.497512432588269\n",
            "0.1 75 0.2 5 0.2 => RMSE:  5.498700558673574\n",
            "0.1 75 0.2 5 0.4 => RMSE:  5.498857065422473\n",
            "0.1 75 0.2 8 0.01 => RMSE:  5.50338970513319\n",
            "0.1 75 0.2 8 0.1 => RMSE:  5.503312077572841\n",
            "0.1 75 0.2 8 0.2 => RMSE:  5.502295710070001\n",
            "0.1 75 0.2 8 0.4 => RMSE:  5.50425167713064\n",
            "0.1 75 0.2 12 0.01 => RMSE:  5.514243339185607\n",
            "0.1 75 0.2 12 0.1 => RMSE:  5.512279112882322\n",
            "0.1 75 0.2 12 0.2 => RMSE:  5.51283044156512\n",
            "0.1 75 0.2 12 0.4 => RMSE:  5.512609967828305\n",
            "0.1 75 0.5 1 0.01 => RMSE:  5.535942554432449\n",
            "0.1 75 0.5 1 0.1 => RMSE:  5.535946995673164\n",
            "0.1 75 0.5 1 0.2 => RMSE:  5.535951867387484\n",
            "0.1 75 0.5 1 0.4 => RMSE:  5.535961459910673\n",
            "0.1 75 0.5 3 0.01 => RMSE:  5.502763231226799\n",
            "0.1 75 0.5 3 0.1 => RMSE:  5.502397555713744\n",
            "0.1 75 0.5 3 0.2 => RMSE:  5.502500394608643\n",
            "0.1 75 0.5 3 0.4 => RMSE:  5.50288969961134\n",
            "0.1 75 0.5 5 0.01 => RMSE:  5.5003762739669195\n",
            "0.1 75 0.5 5 0.1 => RMSE:  5.50020870674107\n",
            "0.1 75 0.5 5 0.2 => RMSE:  5.500428977551914\n",
            "0.1 75 0.5 5 0.4 => RMSE:  5.500806621852971\n",
            "0.1 75 0.5 8 0.01 => RMSE:  5.506124192312265\n",
            "0.1 75 0.5 8 0.1 => RMSE:  5.5075964824757575\n",
            "0.1 75 0.5 8 0.2 => RMSE:  5.505790099790365\n",
            "0.1 75 0.5 8 0.4 => RMSE:  5.50475160661324\n",
            "0.1 75 0.5 12 0.01 => RMSE:  5.520261017053655\n",
            "0.1 75 0.5 12 0.1 => RMSE:  5.518339078160042\n",
            "0.1 75 0.5 12 0.2 => RMSE:  5.518344636358345\n",
            "0.1 75 0.5 12 0.4 => RMSE:  5.518316278075461\n",
            "0.1 75 0.3 1 0.01 => RMSE:  5.5341550265189765\n",
            "0.1 75 0.3 1 0.1 => RMSE:  5.534162562288503\n",
            "0.1 75 0.3 1 0.2 => RMSE:  5.535260000311607\n",
            "0.1 75 0.3 1 0.4 => RMSE:  5.534252554434798\n",
            "0.1 75 0.3 3 0.01 => RMSE:  5.502333964992193\n",
            "0.1 75 0.3 3 0.1 => RMSE:  5.502806950154717\n",
            "0.1 75 0.3 3 0.2 => RMSE:  5.503007706495246\n",
            "0.1 75 0.3 3 0.4 => RMSE:  5.503097098402777\n",
            "0.1 75 0.3 5 0.01 => RMSE:  5.499640202499838\n",
            "0.1 75 0.3 5 0.1 => RMSE:  5.499516079575028\n",
            "0.1 75 0.3 5 0.2 => RMSE:  5.50003463809341\n",
            "0.1 75 0.3 5 0.4 => RMSE:  5.500906275321806\n",
            "0.1 75 0.3 8 0.01 => RMSE:  5.50519968588274\n",
            "0.1 75 0.3 8 0.1 => RMSE:  5.505969102252533\n",
            "0.1 75 0.3 8 0.2 => RMSE:  5.505496836655445\n",
            "0.1 75 0.3 8 0.4 => RMSE:  5.505127549506852\n",
            "0.1 75 0.3 12 0.01 => RMSE:  5.51852748980146\n",
            "0.1 75 0.3 12 0.1 => RMSE:  5.518314141104991\n",
            "0.1 75 0.3 12 0.2 => RMSE:  5.518255332053611\n",
            "0.1 75 0.3 12 0.4 => RMSE:  5.515413927170748\n",
            "0.1 75 1 1 0.01 => RMSE:  5.547688509887762\n",
            "0.1 75 1 1 0.1 => RMSE:  5.547690932198054\n",
            "0.1 75 1 1 0.2 => RMSE:  5.547693500951082\n",
            "0.1 75 1 1 0.4 => RMSE:  5.547698695146344\n",
            "0.1 75 1 3 0.01 => RMSE:  5.506782109615558\n",
            "0.1 75 1 3 0.1 => RMSE:  5.506655714835836\n",
            "0.1 75 1 3 0.2 => RMSE:  5.506716474064444\n",
            "0.1 75 1 3 0.4 => RMSE:  5.5066111449915205\n",
            "0.1 75 1 5 0.01 => RMSE:  5.501265481751482\n",
            "0.1 75 1 5 0.1 => RMSE:  5.501385078589783\n",
            "0.1 75 1 5 0.2 => RMSE:  5.501167289751639\n",
            "0.1 75 1 5 0.4 => RMSE:  5.501133036671932\n",
            "0.1 75 1 8 0.01 => RMSE:  5.503939591221196\n",
            "0.1 75 1 8 0.1 => RMSE:  5.503643729749087\n",
            "0.1 75 1 8 0.2 => RMSE:  5.503835239310303\n",
            "0.1 75 1 8 0.4 => RMSE:  5.503467348202994\n",
            "0.1 75 1 12 0.01 => RMSE:  5.516722391750816\n",
            "0.1 75 1 12 0.1 => RMSE:  5.519375134290141\n",
            "0.1 75 1 12 0.2 => RMSE:  5.519040874894573\n",
            "0.1 75 1 12 0.4 => RMSE:  5.516944555545882\n",
            "0.1 100 0 1 0.01 => RMSE:  7.073678999783503\n",
            "0.1 100 0 1 0.1 => RMSE:  7.073678999783503\n",
            "0.1 100 0 1 0.2 => RMSE:  7.073678999783503\n",
            "0.1 100 0 1 0.4 => RMSE:  7.073678999783503\n",
            "0.1 100 0 3 0.01 => RMSE:  7.073678999783503\n",
            "0.1 100 0 3 0.1 => RMSE:  7.073678999783503\n",
            "0.1 100 0 3 0.2 => RMSE:  7.073678999783503\n",
            "0.1 100 0 3 0.4 => RMSE:  7.073678999783503\n",
            "0.1 100 0 5 0.01 => RMSE:  7.073678999783503\n",
            "0.1 100 0 5 0.1 => RMSE:  7.073678999783503\n",
            "0.1 100 0 5 0.2 => RMSE:  7.073678999783503\n",
            "0.1 100 0 5 0.4 => RMSE:  7.073678999783503\n",
            "0.1 100 0 8 0.01 => RMSE:  7.073678999783503\n",
            "0.1 100 0 8 0.1 => RMSE:  7.073678999783503\n",
            "0.1 100 0 8 0.2 => RMSE:  7.073678999783503\n",
            "0.1 100 0 8 0.4 => RMSE:  7.073678999783503\n",
            "0.1 100 0 12 0.01 => RMSE:  7.073678999783503\n",
            "0.1 100 0 12 0.1 => RMSE:  7.073678999783503\n",
            "0.1 100 0 12 0.2 => RMSE:  7.073678999783503\n",
            "0.1 100 0 12 0.4 => RMSE:  7.073678999783503\n",
            "0.1 100 1 1 0.01 => RMSE:  5.5297536864781325\n",
            "0.1 100 1 1 0.1 => RMSE:  5.529755004530001\n",
            "0.1 100 1 1 0.2 => RMSE:  5.529756422089038\n",
            "0.1 100 1 1 0.4 => RMSE:  5.529759194234201\n",
            "0.1 100 1 3 0.01 => RMSE:  5.505542364356426\n",
            "0.1 100 1 3 0.1 => RMSE:  5.505618015808094\n",
            "0.1 100 1 3 0.2 => RMSE:  5.505411054930435\n",
            "0.1 100 1 3 0.4 => RMSE:  5.505065843757488\n",
            "0.1 100 1 5 0.01 => RMSE:  5.501141678555472\n",
            "0.1 100 1 5 0.1 => RMSE:  5.500895437433597\n",
            "0.1 100 1 5 0.2 => RMSE:  5.501256966581846\n",
            "0.1 100 1 5 0.4 => RMSE:  5.50053904380392\n",
            "0.1 100 1 8 0.01 => RMSE:  5.50457537267886\n",
            "0.1 100 1 8 0.1 => RMSE:  5.504487255634437\n",
            "0.1 100 1 8 0.2 => RMSE:  5.504221247837733\n",
            "0.1 100 1 8 0.4 => RMSE:  5.503748474007417\n",
            "0.1 100 1 12 0.01 => RMSE:  5.518882904359676\n",
            "0.1 100 1 12 0.1 => RMSE:  5.5211799695089745\n",
            "0.1 100 1 12 0.2 => RMSE:  5.521135824432\n",
            "0.1 100 1 12 0.4 => RMSE:  5.518973112502671\n",
            "0.1 100 0.2 1 0.01 => RMSE:  5.519322665731778\n",
            "0.1 100 0.2 1 0.1 => RMSE:  5.519346792676718\n",
            "0.1 100 0.2 1 0.2 => RMSE:  5.519507185079772\n",
            "0.1 100 0.2 1 0.4 => RMSE:  5.518896815377596\n",
            "0.1 100 0.2 3 0.01 => RMSE:  5.502234881184137\n",
            "0.1 100 0.2 3 0.1 => RMSE:  5.502240196263457\n",
            "0.1 100 0.2 3 0.2 => RMSE:  5.501988106732133\n",
            "0.1 100 0.2 3 0.4 => RMSE:  5.501748444930531\n",
            "0.1 100 0.2 5 0.01 => RMSE:  5.501570964503492\n",
            "0.1 100 0.2 5 0.1 => RMSE:  5.4998490856578455\n",
            "0.1 100 0.2 5 0.2 => RMSE:  5.500426808047815\n",
            "0.1 100 0.2 5 0.4 => RMSE:  5.5009031805753565\n",
            "0.1 100 0.2 8 0.01 => RMSE:  5.505502626129733\n",
            "0.1 100 0.2 8 0.1 => RMSE:  5.503889254986358\n",
            "0.1 100 0.2 8 0.2 => RMSE:  5.504525066107222\n",
            "0.1 100 0.2 8 0.4 => RMSE:  5.505532704271369\n",
            "0.1 100 0.2 12 0.01 => RMSE:  5.519310289271349\n",
            "0.1 100 0.2 12 0.1 => RMSE:  5.515821165563084\n",
            "0.1 100 0.2 12 0.2 => RMSE:  5.5168697529244035\n",
            "0.1 100 0.2 12 0.4 => RMSE:  5.517592545727713\n",
            "0.1 100 0.5 1 0.01 => RMSE:  5.524013556931772\n",
            "0.1 100 0.5 1 0.1 => RMSE:  5.524016398046958\n",
            "0.1 100 0.5 1 0.2 => RMSE:  5.524019411441135\n",
            "0.1 100 0.5 1 0.4 => RMSE:  5.524025265581168\n",
            "0.1 100 0.5 3 0.01 => RMSE:  5.5013432612056405\n",
            "0.1 100 0.5 3 0.1 => RMSE:  5.500869057698613\n",
            "0.1 100 0.5 3 0.2 => RMSE:  5.501375621240136\n",
            "0.1 100 0.5 3 0.4 => RMSE:  5.501460415590599\n",
            "0.1 100 0.5 5 0.01 => RMSE:  5.498864305584055\n",
            "0.1 100 0.5 5 0.1 => RMSE:  5.498726712896419\n",
            "0.1 100 0.5 5 0.2 => RMSE:  5.498861966188672\n",
            "0.1 100 0.5 5 0.4 => RMSE:  5.499412876885236\n",
            "0.1 100 0.5 8 0.01 => RMSE:  5.504778758748411\n",
            "0.1 100 0.5 8 0.1 => RMSE:  5.506146914487581\n",
            "0.1 100 0.5 8 0.2 => RMSE:  5.5045442025858256\n",
            "0.1 100 0.5 8 0.4 => RMSE:  5.5035209200381345\n",
            "0.1 100 0.5 12 0.01 => RMSE:  5.51657170710802\n",
            "0.1 100 0.5 12 0.1 => RMSE:  5.516094580096651\n",
            "0.1 100 0.5 12 0.2 => RMSE:  5.515752566358554\n",
            "0.1 100 0.5 12 0.4 => RMSE:  5.5161327674141525\n",
            "0.1 100 0.3 1 0.01 => RMSE:  5.519650307021212\n",
            "0.1 100 0.3 1 0.1 => RMSE:  5.519842477101618\n",
            "0.1 100 0.3 1 0.2 => RMSE:  5.520271600893518\n",
            "0.1 100 0.3 1 0.4 => RMSE:  5.519933088722748\n",
            "0.1 100 0.3 3 0.01 => RMSE:  5.499540519037567\n",
            "0.1 100 0.3 3 0.1 => RMSE:  5.499873656712043\n",
            "0.1 100 0.3 3 0.2 => RMSE:  5.499934696649605\n",
            "0.1 100 0.3 3 0.4 => RMSE:  5.500492782958516\n",
            "0.1 100 0.3 5 0.01 => RMSE:  5.497539406928684\n",
            "0.1 100 0.3 5 0.1 => RMSE:  5.4975128978063434\n",
            "0.1 100 0.3 5 0.2 => RMSE:  5.496805620618276\n",
            "0.1 100 0.3 5 0.4 => RMSE:  5.498324593367437\n",
            "0.1 100 0.3 8 0.01 => RMSE:  5.503516648472166\n",
            "0.1 100 0.3 8 0.1 => RMSE:  5.5030356497108395\n",
            "0.1 100 0.3 8 0.2 => RMSE:  5.503334079024373\n",
            "0.1 100 0.3 8 0.4 => RMSE:  5.502739075475845\n",
            "0.1 100 0.3 12 0.01 => RMSE:  5.517134924128476\n",
            "0.1 100 0.3 12 0.1 => RMSE:  5.5161316370705125\n",
            "0.1 100 0.3 12 0.2 => RMSE:  5.517207358359904\n",
            "0.1 100 0.3 12 0.4 => RMSE:  5.514982042551093\n",
            "0.1 100 1 1 0.01 => RMSE:  5.5297536864781325\n",
            "0.1 100 1 1 0.1 => RMSE:  5.529755004530001\n",
            "0.1 100 1 1 0.2 => RMSE:  5.529756422089038\n",
            "0.1 100 1 1 0.4 => RMSE:  5.529759194234201\n",
            "0.1 100 1 3 0.01 => RMSE:  5.505542364356426\n",
            "0.1 100 1 3 0.1 => RMSE:  5.505618015808094\n",
            "0.1 100 1 3 0.2 => RMSE:  5.505411054930435\n",
            "0.1 100 1 3 0.4 => RMSE:  5.505065843757488\n",
            "0.1 100 1 5 0.01 => RMSE:  5.501141678555472\n",
            "0.1 100 1 5 0.1 => RMSE:  5.500895437433597\n",
            "0.1 100 1 5 0.2 => RMSE:  5.501256966581846\n",
            "0.1 100 1 5 0.4 => RMSE:  5.50053904380392\n",
            "0.1 100 1 8 0.01 => RMSE:  5.50457537267886\n",
            "0.1 100 1 8 0.1 => RMSE:  5.504487255634437\n",
            "0.1 100 1 8 0.2 => RMSE:  5.504221247837733\n",
            "0.1 100 1 8 0.4 => RMSE:  5.503748474007417\n",
            "0.1 100 1 12 0.01 => RMSE:  5.518882904359676\n",
            "0.1 100 1 12 0.1 => RMSE:  5.5211799695089745\n",
            "0.1 100 1 12 0.2 => RMSE:  5.521135824432\n",
            "0.1 100 1 12 0.4 => RMSE:  5.518973112502671\n",
            "0.1 150 0 1 0.01 => RMSE:  7.073678999783503\n",
            "0.1 150 0 1 0.1 => RMSE:  7.073678999783503\n",
            "0.1 150 0 1 0.2 => RMSE:  7.073678999783503\n",
            "0.1 150 0 1 0.4 => RMSE:  7.073678999783503\n",
            "0.1 150 0 3 0.01 => RMSE:  7.073678999783503\n",
            "0.1 150 0 3 0.1 => RMSE:  7.073678999783503\n",
            "0.1 150 0 3 0.2 => RMSE:  7.073678999783503\n",
            "0.1 150 0 3 0.4 => RMSE:  7.073678999783503\n",
            "0.1 150 0 5 0.01 => RMSE:  7.073678999783503\n",
            "0.1 150 0 5 0.1 => RMSE:  7.073678999783503\n",
            "0.1 150 0 5 0.2 => RMSE:  7.073678999783503\n",
            "0.1 150 0 5 0.4 => RMSE:  7.073678999783503\n",
            "0.1 150 0 8 0.01 => RMSE:  7.073678999783503\n",
            "0.1 150 0 8 0.1 => RMSE:  7.073678999783503\n",
            "0.1 150 0 8 0.2 => RMSE:  7.073678999783503\n",
            "0.1 150 0 8 0.4 => RMSE:  7.073678999783503\n",
            "0.1 150 0 12 0.01 => RMSE:  7.073678999783503\n",
            "0.1 150 0 12 0.1 => RMSE:  7.073678999783503\n",
            "0.1 150 0 12 0.2 => RMSE:  7.073678999783503\n",
            "0.1 150 0 12 0.4 => RMSE:  7.073678999783503\n",
            "0.1 150 1 1 0.01 => RMSE:  5.52067844965745\n",
            "0.1 150 1 1 0.1 => RMSE:  5.520729428070308\n",
            "0.1 150 1 1 0.2 => RMSE:  5.520721263949381\n",
            "0.1 150 1 1 0.4 => RMSE:  5.520822450249726\n",
            "0.1 150 1 3 0.01 => RMSE:  5.504133323922912\n",
            "0.1 150 1 3 0.1 => RMSE:  5.5045823468621835\n",
            "0.1 150 1 3 0.2 => RMSE:  5.504084450682244\n",
            "0.1 150 1 3 0.4 => RMSE:  5.504243746053432\n",
            "0.1 150 1 5 0.01 => RMSE:  5.501082748219415\n",
            "0.1 150 1 5 0.1 => RMSE:  5.500891273986106\n",
            "0.1 150 1 5 0.2 => RMSE:  5.501847287928315\n",
            "0.1 150 1 5 0.4 => RMSE:  5.50081866668337\n",
            "0.1 150 1 8 0.01 => RMSE:  5.506360236642825\n",
            "0.1 150 1 8 0.1 => RMSE:  5.506254513954674\n",
            "0.1 150 1 8 0.2 => RMSE:  5.50608295308463\n",
            "0.1 150 1 8 0.4 => RMSE:  5.505661592967978\n",
            "0.1 150 1 12 0.01 => RMSE:  5.523759912029783\n",
            "0.1 150 1 12 0.1 => RMSE:  5.526554349670988\n",
            "0.1 150 1 12 0.2 => RMSE:  5.526127769422122\n",
            "0.1 150 1 12 0.4 => RMSE:  5.523484923275006\n",
            "0.1 150 0.2 1 0.01 => RMSE:  5.520539723885068\n",
            "0.1 150 0.2 1 0.1 => RMSE:  5.520559632323943\n",
            "0.1 150 0.2 1 0.2 => RMSE:  5.520405344074819\n",
            "0.1 150 0.2 1 0.4 => RMSE:  5.520961022229895\n",
            "0.1 150 0.2 3 0.01 => RMSE:  5.501925808054797\n",
            "0.1 150 0.2 3 0.1 => RMSE:  5.502251022665493\n",
            "0.1 150 0.2 3 0.2 => RMSE:  5.502794054545294\n",
            "0.1 150 0.2 3 0.4 => RMSE:  5.502943342774838\n",
            "0.1 150 0.2 5 0.01 => RMSE:  5.502845544778086\n",
            "0.1 150 0.2 5 0.1 => RMSE:  5.5035644712016865\n",
            "0.1 150 0.2 5 0.2 => RMSE:  5.50282563336842\n",
            "0.1 150 0.2 5 0.4 => RMSE:  5.50362544837335\n",
            "0.1 150 0.2 8 0.01 => RMSE:  5.512484430844168\n",
            "0.1 150 0.2 8 0.1 => RMSE:  5.51092022816386\n",
            "0.1 150 0.2 8 0.2 => RMSE:  5.511694757402517\n",
            "0.1 150 0.2 8 0.4 => RMSE:  5.509539985340413\n",
            "0.1 150 0.2 12 0.01 => RMSE:  5.52373610181901\n",
            "0.1 150 0.2 12 0.1 => RMSE:  5.522558453407571\n",
            "0.1 150 0.2 12 0.2 => RMSE:  5.5215689450777825\n",
            "0.1 150 0.2 12 0.4 => RMSE:  5.522092998605957\n",
            "0.1 150 0.5 1 0.01 => RMSE:  5.520073735095203\n",
            "0.1 150 0.5 1 0.1 => RMSE:  5.520107035299915\n",
            "0.1 150 0.5 1 0.2 => RMSE:  5.520170823290505\n",
            "0.1 150 0.5 1 0.4 => RMSE:  5.520244955405432\n",
            "0.1 150 0.5 3 0.01 => RMSE:  5.502164693028778\n",
            "0.1 150 0.5 3 0.1 => RMSE:  5.502264381141625\n",
            "0.1 150 0.5 3 0.2 => RMSE:  5.502364817396004\n",
            "0.1 150 0.5 3 0.4 => RMSE:  5.5031511744976385\n",
            "0.1 150 0.5 5 0.01 => RMSE:  5.499733129856853\n",
            "0.1 150 0.5 5 0.1 => RMSE:  5.500574058151783\n",
            "0.1 150 0.5 5 0.2 => RMSE:  5.499370080701321\n",
            "0.1 150 0.5 5 0.4 => RMSE:  5.5002867607566515\n",
            "0.1 150 0.5 8 0.01 => RMSE:  5.50795711966582\n",
            "0.1 150 0.5 8 0.1 => RMSE:  5.507771867509868\n",
            "0.1 150 0.5 8 0.2 => RMSE:  5.507514586806463\n",
            "0.1 150 0.5 8 0.4 => RMSE:  5.505752925192808\n",
            "0.1 150 0.5 12 0.01 => RMSE:  5.519444798896881\n",
            "0.1 150 0.5 12 0.1 => RMSE:  5.522571126174292\n",
            "0.1 150 0.5 12 0.2 => RMSE:  5.521731498171493\n",
            "0.1 150 0.5 12 0.4 => RMSE:  5.519881688446417\n",
            "0.1 150 0.3 1 0.01 => RMSE:  5.522769210295703\n",
            "0.1 150 0.3 1 0.1 => RMSE:  5.522808153252981\n",
            "0.1 150 0.3 1 0.2 => RMSE:  5.522512079270442\n",
            "0.1 150 0.3 1 0.4 => RMSE:  5.522974782016548\n",
            "0.1 150 0.3 3 0.01 => RMSE:  5.503550818531145\n",
            "0.1 150 0.3 3 0.1 => RMSE:  5.504325803023125\n",
            "0.1 150 0.3 3 0.2 => RMSE:  5.504652550203662\n",
            "0.1 150 0.3 3 0.4 => RMSE:  5.504196126648024\n",
            "0.1 150 0.3 5 0.01 => RMSE:  5.504783845917498\n",
            "0.1 150 0.3 5 0.1 => RMSE:  5.5043081502874465\n",
            "0.1 150 0.3 5 0.2 => RMSE:  5.5032907574220555\n",
            "0.1 150 0.3 5 0.4 => RMSE:  5.503599285646319\n",
            "0.1 150 0.3 8 0.01 => RMSE:  5.5136475264643465\n",
            "0.1 150 0.3 8 0.1 => RMSE:  5.513834283474482\n",
            "0.1 150 0.3 8 0.2 => RMSE:  5.512376439389801\n",
            "0.1 150 0.3 8 0.4 => RMSE:  5.511807543381641\n",
            "0.1 150 0.3 12 0.01 => RMSE:  5.5290497793671545\n",
            "0.1 150 0.3 12 0.1 => RMSE:  5.526458299773388\n",
            "0.1 150 0.3 12 0.2 => RMSE:  5.527346492705151\n",
            "0.1 150 0.3 12 0.4 => RMSE:  5.524688349084775\n",
            "0.1 150 1 1 0.01 => RMSE:  5.52067844965745\n",
            "0.1 150 1 1 0.1 => RMSE:  5.520729428070308\n",
            "0.1 150 1 1 0.2 => RMSE:  5.520721263949381\n",
            "0.1 150 1 1 0.4 => RMSE:  5.520822450249726\n",
            "0.1 150 1 3 0.01 => RMSE:  5.504133323922912\n",
            "0.1 150 1 3 0.1 => RMSE:  5.5045823468621835\n",
            "0.1 150 1 3 0.2 => RMSE:  5.504084450682244\n",
            "0.1 150 1 3 0.4 => RMSE:  5.504243746053432\n",
            "0.1 150 1 5 0.01 => RMSE:  5.501082748219415\n",
            "0.1 150 1 5 0.1 => RMSE:  5.500891273986106\n",
            "0.1 150 1 5 0.2 => RMSE:  5.501847287928315\n",
            "0.1 150 1 5 0.4 => RMSE:  5.50081866668337\n",
            "0.1 150 1 8 0.01 => RMSE:  5.506360236642825\n",
            "0.1 150 1 8 0.1 => RMSE:  5.506254513954674\n",
            "0.1 150 1 8 0.2 => RMSE:  5.50608295308463\n",
            "0.1 150 1 8 0.4 => RMSE:  5.505661592967978\n",
            "0.1 150 1 12 0.01 => RMSE:  5.523759912029783\n",
            "0.1 150 1 12 0.1 => RMSE:  5.526554349670988\n",
            "0.1 150 1 12 0.2 => RMSE:  5.526127769422122\n",
            "0.1 150 1 12 0.4 => RMSE:  5.523484923275006\n",
            "0.1 200 0 1 0.01 => RMSE:  7.073678999783503\n",
            "0.1 200 0 1 0.1 => RMSE:  7.073678999783503\n",
            "0.1 200 0 1 0.2 => RMSE:  7.073678999783503\n",
            "0.1 200 0 1 0.4 => RMSE:  7.073678999783503\n",
            "0.1 200 0 3 0.01 => RMSE:  7.073678999783503\n",
            "0.1 200 0 3 0.1 => RMSE:  7.073678999783503\n",
            "0.1 200 0 3 0.2 => RMSE:  7.073678999783503\n",
            "0.1 200 0 3 0.4 => RMSE:  7.073678999783503\n",
            "0.1 200 0 5 0.01 => RMSE:  7.073678999783503\n",
            "0.1 200 0 5 0.1 => RMSE:  7.073678999783503\n",
            "0.1 200 0 5 0.2 => RMSE:  7.073678999783503\n",
            "0.1 200 0 5 0.4 => RMSE:  7.073678999783503\n",
            "0.1 200 0 8 0.01 => RMSE:  7.073678999783503\n",
            "0.1 200 0 8 0.1 => RMSE:  7.073678999783503\n",
            "0.1 200 0 8 0.2 => RMSE:  7.073678999783503\n",
            "0.1 200 0 8 0.4 => RMSE:  7.073678999783503\n",
            "0.1 200 0 12 0.01 => RMSE:  7.073678999783503\n",
            "0.1 200 0 12 0.1 => RMSE:  7.073678999783503\n",
            "0.1 200 0 12 0.2 => RMSE:  7.073678999783503\n",
            "0.1 200 0 12 0.4 => RMSE:  7.073678999783503\n",
            "0.1 200 1 1 0.01 => RMSE:  5.519265268880371\n",
            "0.1 200 1 1 0.1 => RMSE:  5.519266445356045\n",
            "0.1 200 1 1 0.2 => RMSE:  5.519313204964902\n",
            "0.1 200 1 1 0.4 => RMSE:  5.519364077561112\n",
            "0.1 200 1 3 0.01 => RMSE:  5.503452149720197\n",
            "0.1 200 1 3 0.1 => RMSE:  5.503868735899361\n",
            "0.1 200 1 3 0.2 => RMSE:  5.503373325231708\n",
            "0.1 200 1 3 0.4 => RMSE:  5.50302273709649\n",
            "0.1 200 1 5 0.01 => RMSE:  5.501507364455064\n",
            "0.1 200 1 5 0.1 => RMSE:  5.501626543621965\n",
            "0.1 200 1 5 0.2 => RMSE:  5.502188120515716\n",
            "0.1 200 1 5 0.4 => RMSE:  5.50159111216571\n",
            "0.1 200 1 8 0.01 => RMSE:  5.5078756510306786\n",
            "0.1 200 1 8 0.1 => RMSE:  5.507652739699109\n",
            "0.1 200 1 8 0.2 => RMSE:  5.50804954420941\n",
            "0.1 200 1 8 0.4 => RMSE:  5.50721912682445\n",
            "0.1 200 1 12 0.01 => RMSE:  5.52816476115441\n",
            "0.1 200 1 12 0.1 => RMSE:  5.530988757201916\n",
            "0.1 200 1 12 0.2 => RMSE:  5.529440614842779\n",
            "0.1 200 1 12 0.4 => RMSE:  5.526669390084146\n",
            "0.1 200 0.2 1 0.01 => RMSE:  5.522790498755557\n",
            "0.1 200 0.2 1 0.1 => RMSE:  5.522832776291184\n",
            "0.1 200 0.2 1 0.2 => RMSE:  5.523119396958093\n",
            "0.1 200 0.2 1 0.4 => RMSE:  5.522531164502408\n",
            "0.1 200 0.2 3 0.01 => RMSE:  5.505768986705917\n",
            "0.1 200 0.2 3 0.1 => RMSE:  5.506259854569037\n",
            "0.1 200 0.2 3 0.2 => RMSE:  5.5070927167181996\n",
            "0.1 200 0.2 3 0.4 => RMSE:  5.506897800158987\n",
            "0.1 200 0.2 5 0.01 => RMSE:  5.508456896930767\n",
            "0.1 200 0.2 5 0.1 => RMSE:  5.507673536993417\n",
            "0.1 200 0.2 5 0.2 => RMSE:  5.50767334904321\n",
            "0.1 200 0.2 5 0.4 => RMSE:  5.508082541645435\n",
            "0.1 200 0.2 8 0.01 => RMSE:  5.51395880893467\n",
            "0.1 200 0.2 8 0.1 => RMSE:  5.513000293026019\n",
            "0.1 200 0.2 8 0.2 => RMSE:  5.513062398318869\n",
            "0.1 200 0.2 8 0.4 => RMSE:  5.5120077820785\n",
            "0.1 200 0.2 12 0.01 => RMSE:  5.528629739853392\n",
            "0.1 200 0.2 12 0.1 => RMSE:  5.527046779402578\n",
            "0.1 200 0.2 12 0.2 => RMSE:  5.52641934945471\n",
            "0.1 200 0.2 12 0.4 => RMSE:  5.527726900737434\n",
            "0.1 200 0.5 1 0.01 => RMSE:  5.520364654371714\n",
            "0.1 200 0.5 1 0.1 => RMSE:  5.5204171987217086\n",
            "0.1 200 0.5 1 0.2 => RMSE:  5.520194318236008\n",
            "0.1 200 0.5 1 0.4 => RMSE:  5.520389731640848\n",
            "0.1 200 0.5 3 0.01 => RMSE:  5.503013541954557\n",
            "0.1 200 0.5 3 0.1 => RMSE:  5.502439827437709\n",
            "0.1 200 0.5 3 0.2 => RMSE:  5.502649252485153\n",
            "0.1 200 0.5 3 0.4 => RMSE:  5.50330866165921\n",
            "0.1 200 0.5 5 0.01 => RMSE:  5.5013492480408\n",
            "0.1 200 0.5 5 0.1 => RMSE:  5.500877525068754\n",
            "0.1 200 0.5 5 0.2 => RMSE:  5.500554546721434\n",
            "0.1 200 0.5 5 0.4 => RMSE:  5.5005974012511025\n",
            "0.1 200 0.5 8 0.01 => RMSE:  5.5114251979219135\n",
            "0.1 200 0.5 8 0.1 => RMSE:  5.511708493928628\n",
            "0.1 200 0.5 8 0.2 => RMSE:  5.509153044622505\n",
            "0.1 200 0.5 8 0.4 => RMSE:  5.507866567362467\n",
            "0.1 200 0.5 12 0.01 => RMSE:  5.5232872264710124\n",
            "0.1 200 0.5 12 0.1 => RMSE:  5.5277398116176935\n",
            "0.1 200 0.5 12 0.2 => RMSE:  5.525504274957454\n",
            "0.1 200 0.5 12 0.4 => RMSE:  5.523316070653548\n",
            "0.1 200 0.3 1 0.01 => RMSE:  5.522638256167665\n",
            "0.1 200 0.3 1 0.1 => RMSE:  5.522864809583787\n",
            "0.1 200 0.3 1 0.2 => RMSE:  5.523241339025134\n",
            "0.1 200 0.3 1 0.4 => RMSE:  5.5229018039215685\n",
            "0.1 200 0.3 3 0.01 => RMSE:  5.504679921991943\n",
            "0.1 200 0.3 3 0.1 => RMSE:  5.50510070099459\n",
            "0.1 200 0.3 3 0.2 => RMSE:  5.505104512165777\n",
            "0.1 200 0.3 3 0.4 => RMSE:  5.5053105485879\n",
            "0.1 200 0.3 5 0.01 => RMSE:  5.507729811976538\n",
            "0.1 200 0.3 5 0.1 => RMSE:  5.507074338981469\n",
            "0.1 200 0.3 5 0.2 => RMSE:  5.506431854694783\n",
            "0.1 200 0.3 5 0.4 => RMSE:  5.506027148826329\n",
            "0.1 200 0.3 8 0.01 => RMSE:  5.509980391789283\n",
            "0.1 200 0.3 8 0.1 => RMSE:  5.512529295684527\n",
            "0.1 200 0.3 8 0.2 => RMSE:  5.511008061075768\n",
            "0.1 200 0.3 8 0.4 => RMSE:  5.5119645061298606\n",
            "0.1 200 0.3 12 0.01 => RMSE:  5.52730404878711\n",
            "0.1 200 0.3 12 0.1 => RMSE:  5.525410452392087\n",
            "0.1 200 0.3 12 0.2 => RMSE:  5.528699914947827\n",
            "0.1 200 0.3 12 0.4 => RMSE:  5.527421490480885\n",
            "0.1 200 1 1 0.01 => RMSE:  5.519265268880371\n",
            "0.1 200 1 1 0.1 => RMSE:  5.519266445356045\n",
            "0.1 200 1 1 0.2 => RMSE:  5.519313204964902\n",
            "0.1 200 1 1 0.4 => RMSE:  5.519364077561112\n",
            "0.1 200 1 3 0.01 => RMSE:  5.503452149720197\n",
            "0.1 200 1 3 0.1 => RMSE:  5.503868735899361\n",
            "0.1 200 1 3 0.2 => RMSE:  5.503373325231708\n",
            "0.1 200 1 3 0.4 => RMSE:  5.50302273709649\n",
            "0.1 200 1 5 0.01 => RMSE:  5.501507364455064\n",
            "0.1 200 1 5 0.1 => RMSE:  5.501626543621965\n",
            "0.1 200 1 5 0.2 => RMSE:  5.502188120515716\n",
            "0.1 200 1 5 0.4 => RMSE:  5.50159111216571\n",
            "0.1 200 1 8 0.01 => RMSE:  5.5078756510306786\n",
            "0.1 200 1 8 0.1 => RMSE:  5.507652739699109\n",
            "0.1 200 1 8 0.2 => RMSE:  5.50804954420941\n",
            "0.1 200 1 8 0.4 => RMSE:  5.50721912682445\n",
            "0.1 200 1 12 0.01 => RMSE:  5.52816476115441\n",
            "0.1 200 1 12 0.1 => RMSE:  5.530988757201916\n",
            "0.1 200 1 12 0.2 => RMSE:  5.529440614842779\n",
            "0.1 200 1 12 0.4 => RMSE:  5.526669390084146\n",
            "0.5 50 0 1 0.01 => RMSE:  7.073678999783503\n",
            "0.5 50 0 1 0.1 => RMSE:  7.073678999783503\n",
            "0.5 50 0 1 0.2 => RMSE:  7.073678999783503\n",
            "0.5 50 0 1 0.4 => RMSE:  7.073678999783503\n",
            "0.5 50 0 3 0.01 => RMSE:  7.073678999783503\n",
            "0.5 50 0 3 0.1 => RMSE:  7.073678999783503\n",
            "0.5 50 0 3 0.2 => RMSE:  7.073678999783503\n",
            "0.5 50 0 3 0.4 => RMSE:  7.073678999783503\n",
            "0.5 50 0 5 0.01 => RMSE:  7.073678999783503\n",
            "0.5 50 0 5 0.1 => RMSE:  7.073678999783503\n",
            "0.5 50 0 5 0.2 => RMSE:  7.073678999783503\n",
            "0.5 50 0 5 0.4 => RMSE:  7.073678999783503\n",
            "0.5 50 0 8 0.01 => RMSE:  7.073678999783503\n",
            "0.5 50 0 8 0.1 => RMSE:  7.073678999783503\n",
            "0.5 50 0 8 0.2 => RMSE:  7.073678999783503\n",
            "0.5 50 0 8 0.4 => RMSE:  7.073678999783503\n",
            "0.5 50 0 12 0.01 => RMSE:  7.073678999783503\n",
            "0.5 50 0 12 0.1 => RMSE:  7.073678999783503\n",
            "0.5 50 0 12 0.2 => RMSE:  7.073678999783503\n",
            "0.5 50 0 12 0.4 => RMSE:  7.073678999783503\n",
            "0.5 50 1 1 0.01 => RMSE:  5.541505146427952\n",
            "0.5 50 1 1 0.1 => RMSE:  5.541505739153304\n",
            "0.5 50 1 1 0.2 => RMSE:  5.5415067546929135\n",
            "0.5 50 1 1 0.4 => RMSE:  5.54150827533071\n",
            "0.5 50 1 3 0.01 => RMSE:  5.503329297862547\n",
            "0.5 50 1 3 0.1 => RMSE:  5.503199404262514\n",
            "0.5 50 1 3 0.2 => RMSE:  5.50249716121736\n",
            "0.5 50 1 3 0.4 => RMSE:  5.502769971110332\n",
            "0.5 50 1 5 0.01 => RMSE:  5.504627023517211\n",
            "0.5 50 1 5 0.1 => RMSE:  5.50447630772621\n",
            "0.5 50 1 5 0.2 => RMSE:  5.5050180053469076\n",
            "0.5 50 1 5 0.4 => RMSE:  5.505548853781616\n",
            "0.5 50 1 8 0.01 => RMSE:  5.514157284361962\n",
            "0.5 50 1 8 0.1 => RMSE:  5.516682068526336\n",
            "0.5 50 1 8 0.2 => RMSE:  5.514864178255242\n",
            "0.5 50 1 8 0.4 => RMSE:  5.5139309328748976\n",
            "0.5 50 1 12 0.01 => RMSE:  5.539736535217989\n",
            "0.5 50 1 12 0.1 => RMSE:  5.544285684048906\n",
            "0.5 50 1 12 0.2 => RMSE:  5.5371967886487905\n",
            "0.5 50 1 12 0.4 => RMSE:  5.5357114889726295\n",
            "0.5 50 0.2 1 0.01 => RMSE:  5.5289164201605\n",
            "0.5 50 0.2 1 0.1 => RMSE:  5.528920463753039\n",
            "0.5 50 0.2 1 0.2 => RMSE:  5.52892491802906\n",
            "0.5 50 0.2 1 0.4 => RMSE:  5.528933915481013\n",
            "0.5 50 0.2 3 0.01 => RMSE:  5.505999673873132\n",
            "0.5 50 0.2 3 0.1 => RMSE:  5.5079871131136295\n",
            "0.5 50 0.2 3 0.2 => RMSE:  5.50811085295414\n",
            "0.5 50 0.2 3 0.4 => RMSE:  5.507842346311432\n",
            "0.5 50 0.2 5 0.01 => RMSE:  5.515340202088661\n",
            "0.5 50 0.2 5 0.1 => RMSE:  5.511146804993054\n",
            "0.5 50 0.2 5 0.2 => RMSE:  5.514409254224241\n",
            "0.5 50 0.2 5 0.4 => RMSE:  5.515855976818224\n",
            "0.5 50 0.2 8 0.01 => RMSE:  5.526283493703878\n",
            "0.5 50 0.2 8 0.1 => RMSE:  5.522157132858104\n",
            "0.5 50 0.2 8 0.2 => RMSE:  5.5253715805270005\n",
            "0.5 50 0.2 8 0.4 => RMSE:  5.52303800707548\n",
            "0.5 50 0.2 12 0.01 => RMSE:  5.566831451824649\n",
            "0.5 50 0.2 12 0.1 => RMSE:  5.5771890124276755\n",
            "0.5 50 0.2 12 0.2 => RMSE:  5.560904542306502\n",
            "0.5 50 0.2 12 0.4 => RMSE:  5.551539835580507\n",
            "0.5 50 0.5 1 0.01 => RMSE:  5.530881197062891\n",
            "0.5 50 0.5 1 0.1 => RMSE:  5.530882164723425\n",
            "0.5 50 0.5 1 0.2 => RMSE:  5.530883397192196\n",
            "0.5 50 0.5 1 0.4 => RMSE:  5.530885719655832\n",
            "0.5 50 0.5 3 0.01 => RMSE:  5.500231537088393\n",
            "0.5 50 0.5 3 0.1 => RMSE:  5.499751401782998\n",
            "0.5 50 0.5 3 0.2 => RMSE:  5.500286346595844\n",
            "0.5 50 0.5 3 0.4 => RMSE:  5.500986088310742\n",
            "0.5 50 0.5 5 0.01 => RMSE:  5.501352126611131\n",
            "0.5 50 0.5 5 0.1 => RMSE:  5.503969692268795\n",
            "0.5 50 0.5 5 0.2 => RMSE:  5.501521147184948\n",
            "0.5 50 0.5 5 0.4 => RMSE:  5.500935985520494\n",
            "0.5 50 0.5 8 0.01 => RMSE:  5.516571923922863\n",
            "0.5 50 0.5 8 0.1 => RMSE:  5.514048930229972\n",
            "0.5 50 0.5 8 0.2 => RMSE:  5.509792352290842\n",
            "0.5 50 0.5 8 0.4 => RMSE:  5.51250193600464\n",
            "0.5 50 0.5 12 0.01 => RMSE:  5.539377438203712\n",
            "0.5 50 0.5 12 0.1 => RMSE:  5.534578815265035\n",
            "0.5 50 0.5 12 0.2 => RMSE:  5.535690289016371\n",
            "0.5 50 0.5 12 0.4 => RMSE:  5.539049459318628\n",
            "0.5 50 0.3 1 0.01 => RMSE:  5.5285351858733565\n",
            "0.5 50 0.3 1 0.1 => RMSE:  5.528537336535937\n",
            "0.5 50 0.3 1 0.2 => RMSE:  5.528539642739863\n",
            "0.5 50 0.3 1 0.4 => RMSE:  5.528544402331491\n",
            "0.5 50 0.3 3 0.01 => RMSE:  5.500151369845447\n",
            "0.5 50 0.3 3 0.1 => RMSE:  5.504121249247621\n",
            "0.5 50 0.3 3 0.2 => RMSE:  5.502605926180392\n",
            "0.5 50 0.3 3 0.4 => RMSE:  5.503772436762589\n",
            "0.5 50 0.3 5 0.01 => RMSE:  5.500478501407435\n",
            "0.5 50 0.3 5 0.1 => RMSE:  5.5001444822190075\n",
            "0.5 50 0.3 5 0.2 => RMSE:  5.4994729807213725\n",
            "0.5 50 0.3 5 0.4 => RMSE:  5.502535903607364\n",
            "0.5 50 0.3 8 0.01 => RMSE:  5.516831790875557\n",
            "0.5 50 0.3 8 0.1 => RMSE:  5.511926495951343\n",
            "0.5 50 0.3 8 0.2 => RMSE:  5.5089267749384305\n",
            "0.5 50 0.3 8 0.4 => RMSE:  5.508832312986125\n",
            "0.5 50 0.3 12 0.01 => RMSE:  5.540422410688224\n",
            "0.5 50 0.3 12 0.1 => RMSE:  5.545052253165604\n",
            "0.5 50 0.3 12 0.2 => RMSE:  5.541444359118494\n",
            "0.5 50 0.3 12 0.4 => RMSE:  5.540413780925886\n",
            "0.5 50 1 1 0.01 => RMSE:  5.541505146427952\n",
            "0.5 50 1 1 0.1 => RMSE:  5.541505739153304\n",
            "0.5 50 1 1 0.2 => RMSE:  5.5415067546929135\n",
            "0.5 50 1 1 0.4 => RMSE:  5.54150827533071\n",
            "0.5 50 1 3 0.01 => RMSE:  5.503329297862547\n",
            "0.5 50 1 3 0.1 => RMSE:  5.503199404262514\n",
            "0.5 50 1 3 0.2 => RMSE:  5.50249716121736\n",
            "0.5 50 1 3 0.4 => RMSE:  5.502769971110332\n",
            "0.5 50 1 5 0.01 => RMSE:  5.504627023517211\n",
            "0.5 50 1 5 0.1 => RMSE:  5.50447630772621\n",
            "0.5 50 1 5 0.2 => RMSE:  5.5050180053469076\n",
            "0.5 50 1 5 0.4 => RMSE:  5.505548853781616\n",
            "0.5 50 1 8 0.01 => RMSE:  5.514157284361962\n",
            "0.5 50 1 8 0.1 => RMSE:  5.516682068526336\n",
            "0.5 50 1 8 0.2 => RMSE:  5.514864178255242\n",
            "0.5 50 1 8 0.4 => RMSE:  5.5139309328748976\n",
            "0.5 50 1 12 0.01 => RMSE:  5.539736535217989\n",
            "0.5 50 1 12 0.1 => RMSE:  5.544285684048906\n",
            "0.5 50 1 12 0.2 => RMSE:  5.5371967886487905\n",
            "0.5 50 1 12 0.4 => RMSE:  5.5357114889726295\n",
            "0.5 75 0 1 0.01 => RMSE:  7.073678999783503\n",
            "0.5 75 0 1 0.1 => RMSE:  7.073678999783503\n",
            "0.5 75 0 1 0.2 => RMSE:  7.073678999783503\n",
            "0.5 75 0 1 0.4 => RMSE:  7.073678999783503\n",
            "0.5 75 0 3 0.01 => RMSE:  7.073678999783503\n",
            "0.5 75 0 3 0.1 => RMSE:  7.073678999783503\n",
            "0.5 75 0 3 0.2 => RMSE:  7.073678999783503\n",
            "0.5 75 0 3 0.4 => RMSE:  7.073678999783503\n",
            "0.5 75 0 5 0.01 => RMSE:  7.073678999783503\n",
            "0.5 75 0 5 0.1 => RMSE:  7.073678999783503\n",
            "0.5 75 0 5 0.2 => RMSE:  7.073678999783503\n",
            "0.5 75 0 5 0.4 => RMSE:  7.073678999783503\n",
            "0.5 75 0 8 0.01 => RMSE:  7.073678999783503\n",
            "0.5 75 0 8 0.1 => RMSE:  7.073678999783503\n",
            "0.5 75 0 8 0.2 => RMSE:  7.073678999783503\n",
            "0.5 75 0 8 0.4 => RMSE:  7.073678999783503\n",
            "0.5 75 0 12 0.01 => RMSE:  7.073678999783503\n",
            "0.5 75 0 12 0.1 => RMSE:  7.073678999783503\n",
            "0.5 75 0 12 0.2 => RMSE:  7.073678999783503\n",
            "0.5 75 0 12 0.4 => RMSE:  7.073678999783503\n",
            "0.5 75 1 1 0.01 => RMSE:  5.534919442097148\n",
            "0.5 75 1 1 0.1 => RMSE:  5.534919849180251\n",
            "0.5 75 1 1 0.2 => RMSE:  5.53492046355637\n",
            "0.5 75 1 1 0.4 => RMSE:  5.534921644265292\n",
            "0.5 75 1 3 0.01 => RMSE:  5.503038369451756\n",
            "0.5 75 1 3 0.1 => RMSE:  5.502573800444081\n",
            "0.5 75 1 3 0.2 => RMSE:  5.502850494446062\n",
            "0.5 75 1 3 0.4 => RMSE:  5.501454114589092\n",
            "0.5 75 1 5 0.01 => RMSE:  5.50684384650875\n",
            "0.5 75 1 5 0.1 => RMSE:  5.505563537343788\n",
            "0.5 75 1 5 0.2 => RMSE:  5.505996925573587\n",
            "0.5 75 1 5 0.4 => RMSE:  5.506665655732661\n",
            "0.5 75 1 8 0.01 => RMSE:  5.5184468352011455\n",
            "0.5 75 1 8 0.1 => RMSE:  5.521486715873185\n",
            "0.5 75 1 8 0.2 => RMSE:  5.520035308869863\n",
            "0.5 75 1 8 0.4 => RMSE:  5.517990983238859\n",
            "0.5 75 1 12 0.01 => RMSE:  5.548413455410956\n",
            "0.5 75 1 12 0.1 => RMSE:  5.551238086145035\n",
            "0.5 75 1 12 0.2 => RMSE:  5.54596542014338\n",
            "0.5 75 1 12 0.4 => RMSE:  5.544609950557258\n",
            "0.5 75 0.2 1 0.01 => RMSE:  5.523557114792573\n",
            "0.5 75 0.2 1 0.1 => RMSE:  5.523559728423733\n",
            "0.5 75 0.2 1 0.2 => RMSE:  5.523562536383878\n",
            "0.5 75 0.2 1 0.4 => RMSE:  5.5235683391706445\n",
            "0.5 75 0.2 3 0.01 => RMSE:  5.504136319293316\n",
            "0.5 75 0.2 3 0.1 => RMSE:  5.506459080890403\n",
            "0.5 75 0.2 3 0.2 => RMSE:  5.50327666399115\n",
            "0.5 75 0.2 3 0.4 => RMSE:  5.500091371937294\n",
            "0.5 75 0.2 5 0.01 => RMSE:  5.503602441212952\n",
            "0.5 75 0.2 5 0.1 => RMSE:  5.500096011088212\n",
            "0.5 75 0.2 5 0.2 => RMSE:  5.501205164054716\n",
            "0.5 75 0.2 5 0.4 => RMSE:  5.504473542206229\n",
            "0.5 75 0.2 8 0.01 => RMSE:  5.528020328557606\n",
            "0.5 75 0.2 8 0.1 => RMSE:  5.52463589150389\n",
            "0.5 75 0.2 8 0.2 => RMSE:  5.528863355563637\n",
            "0.5 75 0.2 8 0.4 => RMSE:  5.526201348808677\n",
            "0.5 75 0.2 12 0.01 => RMSE:  5.575636695116218\n",
            "0.5 75 0.2 12 0.1 => RMSE:  5.584546761532703\n",
            "0.5 75 0.2 12 0.2 => RMSE:  5.570278479306714\n",
            "0.5 75 0.2 12 0.4 => RMSE:  5.558500784019874\n",
            "0.5 75 0.5 1 0.01 => RMSE:  5.522687462297271\n",
            "0.5 75 0.5 1 0.1 => RMSE:  5.522688265991457\n",
            "0.5 75 0.5 1 0.2 => RMSE:  5.52268911485589\n",
            "0.5 75 0.5 1 0.4 => RMSE:  5.522690742381398\n",
            "0.5 75 0.5 3 0.01 => RMSE:  5.506934707290452\n",
            "0.5 75 0.5 3 0.1 => RMSE:  5.50487354638521\n",
            "0.5 75 0.5 3 0.2 => RMSE:  5.505604832892019\n",
            "0.5 75 0.5 3 0.4 => RMSE:  5.502985765920681\n",
            "0.5 75 0.5 5 0.01 => RMSE:  5.5069740719336036\n",
            "0.5 75 0.5 5 0.1 => RMSE:  5.508839584687656\n",
            "0.5 75 0.5 5 0.2 => RMSE:  5.507246899860224\n",
            "0.5 75 0.5 5 0.4 => RMSE:  5.506468774710077\n",
            "0.5 75 0.5 8 0.01 => RMSE:  5.5267173431826215\n",
            "0.5 75 0.5 8 0.1 => RMSE:  5.532873208534815\n",
            "0.5 75 0.5 8 0.2 => RMSE:  5.524885135841979\n",
            "0.5 75 0.5 8 0.4 => RMSE:  5.523454506058123\n",
            "0.5 75 0.5 12 0.01 => RMSE:  5.5445332563483\n",
            "0.5 75 0.5 12 0.1 => RMSE:  5.541429329516262\n",
            "0.5 75 0.5 12 0.2 => RMSE:  5.542332474242223\n",
            "0.5 75 0.5 12 0.4 => RMSE:  5.548464986390564\n",
            "0.5 75 0.3 1 0.01 => RMSE:  5.53256877160793\n",
            "0.5 75 0.3 1 0.1 => RMSE:  5.532569900586709\n",
            "0.5 75 0.3 1 0.2 => RMSE:  5.53257104138581\n",
            "0.5 75 0.3 1 0.4 => RMSE:  5.532573429379114\n",
            "0.5 75 0.3 3 0.01 => RMSE:  5.508451166118305\n",
            "0.5 75 0.3 3 0.1 => RMSE:  5.510476673199058\n",
            "0.5 75 0.3 3 0.2 => RMSE:  5.508357054623755\n",
            "0.5 75 0.3 3 0.4 => RMSE:  5.508909530881679\n",
            "0.5 75 0.3 5 0.01 => RMSE:  5.509468705545198\n",
            "0.5 75 0.3 5 0.1 => RMSE:  5.511856170487651\n",
            "0.5 75 0.3 5 0.2 => RMSE:  5.51111339776711\n",
            "0.5 75 0.3 5 0.4 => RMSE:  5.510763764375445\n",
            "0.5 75 0.3 8 0.01 => RMSE:  5.531470713569906\n",
            "0.5 75 0.3 8 0.1 => RMSE:  5.5263779938753625\n",
            "0.5 75 0.3 8 0.2 => RMSE:  5.528658644583264\n",
            "0.5 75 0.3 8 0.4 => RMSE:  5.525689208706355\n",
            "0.5 75 0.3 12 0.01 => RMSE:  5.564748588262886\n",
            "0.5 75 0.3 12 0.1 => RMSE:  5.566147245797156\n",
            "0.5 75 0.3 12 0.2 => RMSE:  5.562720175358328\n",
            "0.5 75 0.3 12 0.4 => RMSE:  5.561661705920351\n",
            "0.5 75 1 1 0.01 => RMSE:  5.534919442097148\n",
            "0.5 75 1 1 0.1 => RMSE:  5.534919849180251\n",
            "0.5 75 1 1 0.2 => RMSE:  5.53492046355637\n",
            "0.5 75 1 1 0.4 => RMSE:  5.534921644265292\n",
            "0.5 75 1 3 0.01 => RMSE:  5.503038369451756\n",
            "0.5 75 1 3 0.1 => RMSE:  5.502573800444081\n",
            "0.5 75 1 3 0.2 => RMSE:  5.502850494446062\n",
            "0.5 75 1 3 0.4 => RMSE:  5.501454114589092\n",
            "0.5 75 1 5 0.01 => RMSE:  5.50684384650875\n",
            "0.5 75 1 5 0.1 => RMSE:  5.505563537343788\n",
            "0.5 75 1 5 0.2 => RMSE:  5.505996925573587\n",
            "0.5 75 1 5 0.4 => RMSE:  5.506665655732661\n",
            "0.5 75 1 8 0.01 => RMSE:  5.5184468352011455\n",
            "0.5 75 1 8 0.1 => RMSE:  5.521486715873185\n",
            "0.5 75 1 8 0.2 => RMSE:  5.520035308869863\n",
            "0.5 75 1 8 0.4 => RMSE:  5.517990983238859\n",
            "0.5 75 1 12 0.01 => RMSE:  5.548413455410956\n",
            "0.5 75 1 12 0.1 => RMSE:  5.551238086145035\n",
            "0.5 75 1 12 0.2 => RMSE:  5.54596542014338\n",
            "0.5 75 1 12 0.4 => RMSE:  5.544609950557258\n",
            "0.5 100 0 1 0.01 => RMSE:  7.073678999783503\n",
            "0.5 100 0 1 0.1 => RMSE:  7.073678999783503\n",
            "0.5 100 0 1 0.2 => RMSE:  7.073678999783503\n",
            "0.5 100 0 1 0.4 => RMSE:  7.073678999783503\n",
            "0.5 100 0 3 0.01 => RMSE:  7.073678999783503\n",
            "0.5 100 0 3 0.1 => RMSE:  7.073678999783503\n",
            "0.5 100 0 3 0.2 => RMSE:  7.073678999783503\n",
            "0.5 100 0 3 0.4 => RMSE:  7.073678999783503\n",
            "0.5 100 0 5 0.01 => RMSE:  7.073678999783503\n",
            "0.5 100 0 5 0.1 => RMSE:  7.073678999783503\n",
            "0.5 100 0 5 0.2 => RMSE:  7.073678999783503\n",
            "0.5 100 0 5 0.4 => RMSE:  7.073678999783503\n",
            "0.5 100 0 8 0.01 => RMSE:  7.073678999783503\n",
            "0.5 100 0 8 0.1 => RMSE:  7.073678999783503\n",
            "0.5 100 0 8 0.2 => RMSE:  7.073678999783503\n",
            "0.5 100 0 8 0.4 => RMSE:  7.073678999783503\n",
            "0.5 100 0 12 0.01 => RMSE:  7.073678999783503\n",
            "0.5 100 0 12 0.1 => RMSE:  7.073678999783503\n",
            "0.5 100 0 12 0.2 => RMSE:  7.073678999783503\n",
            "0.5 100 0 12 0.4 => RMSE:  7.073678999783503\n",
            "0.5 100 1 1 0.01 => RMSE:  5.530512014833048\n",
            "0.5 100 1 1 0.1 => RMSE:  5.530512477646079\n",
            "0.5 100 1 1 0.2 => RMSE:  5.53051313227481\n",
            "0.5 100 1 1 0.4 => RMSE:  5.530514433035563\n",
            "0.5 100 1 3 0.01 => RMSE:  5.50297491441193\n",
            "0.5 100 1 3 0.1 => RMSE:  5.5023256140998935\n",
            "0.5 100 1 3 0.2 => RMSE:  5.5028464070942364\n",
            "0.5 100 1 3 0.4 => RMSE:  5.501737126980995\n",
            "0.5 100 1 5 0.01 => RMSE:  5.507950711519917\n",
            "0.5 100 1 5 0.1 => RMSE:  5.506867335858868\n",
            "0.5 100 1 5 0.2 => RMSE:  5.506909518260657\n",
            "0.5 100 1 5 0.4 => RMSE:  5.507368374905792\n",
            "0.5 100 1 8 0.01 => RMSE:  5.522856405465983\n",
            "0.5 100 1 8 0.1 => RMSE:  5.5259145085431065\n",
            "0.5 100 1 8 0.2 => RMSE:  5.523310387557188\n",
            "0.5 100 1 8 0.4 => RMSE:  5.52168841180152\n",
            "0.5 100 1 12 0.01 => RMSE:  5.553614626083125\n",
            "0.5 100 1 12 0.1 => RMSE:  5.556165434638882\n",
            "0.5 100 1 12 0.2 => RMSE:  5.551524156677917\n",
            "0.5 100 1 12 0.4 => RMSE:  5.550739593684638\n",
            "0.5 100 0.2 1 0.01 => RMSE:  5.521559000398319\n",
            "0.5 100 0.2 1 0.1 => RMSE:  5.521560348060067\n",
            "0.5 100 0.2 1 0.2 => RMSE:  5.521561749385407\n",
            "0.5 100 0.2 1 0.4 => RMSE:  5.521564577097447\n",
            "0.5 100 0.2 3 0.01 => RMSE:  5.508992017682569\n",
            "0.5 100 0.2 3 0.1 => RMSE:  5.512460754514771\n",
            "0.5 100 0.2 3 0.2 => RMSE:  5.507737421823307\n",
            "0.5 100 0.2 3 0.4 => RMSE:  5.510894939160612\n",
            "0.5 100 0.2 5 0.01 => RMSE:  5.511384717689313\n",
            "0.5 100 0.2 5 0.1 => RMSE:  5.507463873936713\n",
            "0.5 100 0.2 5 0.2 => RMSE:  5.506762844873882\n",
            "0.5 100 0.2 5 0.4 => RMSE:  5.506232767361755\n",
            "0.5 100 0.2 8 0.01 => RMSE:  5.542802979622499\n",
            "0.5 100 0.2 8 0.1 => RMSE:  5.53179681801092\n",
            "0.5 100 0.2 8 0.2 => RMSE:  5.539451280343278\n",
            "0.5 100 0.2 8 0.4 => RMSE:  5.534170137648267\n",
            "0.5 100 0.2 12 0.01 => RMSE:  5.583116623525402\n",
            "0.5 100 0.2 12 0.1 => RMSE:  5.584425552594442\n",
            "0.5 100 0.2 12 0.2 => RMSE:  5.58354575487407\n",
            "0.5 100 0.2 12 0.4 => RMSE:  5.57051806937631\n",
            "0.5 100 0.5 1 0.01 => RMSE:  5.528194381474404\n",
            "0.5 100 0.5 1 0.1 => RMSE:  5.528194117352864\n",
            "0.5 100 0.5 1 0.2 => RMSE:  5.528193892323229\n",
            "0.5 100 0.5 1 0.4 => RMSE:  5.528193495831456\n",
            "0.5 100 0.5 3 0.01 => RMSE:  5.504109089542483\n",
            "0.5 100 0.5 3 0.1 => RMSE:  5.504990907355593\n",
            "0.5 100 0.5 3 0.2 => RMSE:  5.502264708596586\n",
            "0.5 100 0.5 3 0.4 => RMSE:  5.500659738147128\n",
            "0.5 100 0.5 5 0.01 => RMSE:  5.513619407472664\n",
            "0.5 100 0.5 5 0.1 => RMSE:  5.509199594880453\n",
            "0.5 100 0.5 5 0.2 => RMSE:  5.508460749275246\n",
            "0.5 100 0.5 5 0.4 => RMSE:  5.508171494523342\n",
            "0.5 100 0.5 8 0.01 => RMSE:  5.526106457729128\n",
            "0.5 100 0.5 8 0.1 => RMSE:  5.52956343489944\n",
            "0.5 100 0.5 8 0.2 => RMSE:  5.52996562716318\n",
            "0.5 100 0.5 8 0.4 => RMSE:  5.524701212057215\n",
            "0.5 100 0.5 12 0.01 => RMSE:  5.550637656967404\n",
            "0.5 100 0.5 12 0.1 => RMSE:  5.548480795405587\n",
            "0.5 100 0.5 12 0.2 => RMSE:  5.547054984432981\n",
            "0.5 100 0.5 12 0.4 => RMSE:  5.546563736565978\n",
            "0.5 100 0.3 1 0.01 => RMSE:  5.526324928697784\n",
            "0.5 100 0.3 1 0.1 => RMSE:  5.526325140179538\n",
            "0.5 100 0.3 1 0.2 => RMSE:  5.52632522776913\n",
            "0.5 100 0.3 1 0.4 => RMSE:  5.526325600911944\n",
            "0.5 100 0.3 3 0.01 => RMSE:  5.499523347716968\n",
            "0.5 100 0.3 3 0.1 => RMSE:  5.503978049663823\n",
            "0.5 100 0.3 3 0.2 => RMSE:  5.498489034399606\n",
            "0.5 100 0.3 3 0.4 => RMSE:  5.502374386090233\n",
            "0.5 100 0.3 5 0.01 => RMSE:  5.510944159967383\n",
            "0.5 100 0.3 5 0.1 => RMSE:  5.508338200414573\n",
            "0.5 100 0.3 5 0.2 => RMSE:  5.507061763427925\n",
            "0.5 100 0.3 5 0.4 => RMSE:  5.509973326437842\n",
            "0.5 100 0.3 8 0.01 => RMSE:  5.530370517510388\n",
            "0.5 100 0.3 8 0.1 => RMSE:  5.529879672278663\n",
            "0.5 100 0.3 8 0.2 => RMSE:  5.5226555783843985\n",
            "0.5 100 0.3 8 0.4 => RMSE:  5.5259474370995\n",
            "0.5 100 0.3 12 0.01 => RMSE:  5.5759997890633235\n",
            "0.5 100 0.3 12 0.1 => RMSE:  5.569395937383246\n",
            "0.5 100 0.3 12 0.2 => RMSE:  5.562335231973069\n",
            "0.5 100 0.3 12 0.4 => RMSE:  5.56050658252108\n",
            "0.5 100 1 1 0.01 => RMSE:  5.530512014833048\n",
            "0.5 100 1 1 0.1 => RMSE:  5.530512477646079\n",
            "0.5 100 1 1 0.2 => RMSE:  5.53051313227481\n",
            "0.5 100 1 1 0.4 => RMSE:  5.530514433035563\n",
            "0.5 100 1 3 0.01 => RMSE:  5.50297491441193\n",
            "0.5 100 1 3 0.1 => RMSE:  5.5023256140998935\n",
            "0.5 100 1 3 0.2 => RMSE:  5.5028464070942364\n",
            "0.5 100 1 3 0.4 => RMSE:  5.501737126980995\n",
            "0.5 100 1 5 0.01 => RMSE:  5.507950711519917\n",
            "0.5 100 1 5 0.1 => RMSE:  5.506867335858868\n",
            "0.5 100 1 5 0.2 => RMSE:  5.506909518260657\n",
            "0.5 100 1 5 0.4 => RMSE:  5.507368374905792\n",
            "0.5 100 1 8 0.01 => RMSE:  5.522856405465983\n",
            "0.5 100 1 8 0.1 => RMSE:  5.5259145085431065\n",
            "0.5 100 1 8 0.2 => RMSE:  5.523310387557188\n",
            "0.5 100 1 8 0.4 => RMSE:  5.52168841180152\n",
            "0.5 100 1 12 0.01 => RMSE:  5.553614626083125\n",
            "0.5 100 1 12 0.1 => RMSE:  5.556165434638882\n",
            "0.5 100 1 12 0.2 => RMSE:  5.551524156677917\n",
            "0.5 100 1 12 0.4 => RMSE:  5.550739593684638\n",
            "0.5 150 0 1 0.01 => RMSE:  7.073678999783503\n",
            "0.5 150 0 1 0.1 => RMSE:  7.073678999783503\n",
            "0.5 150 0 1 0.2 => RMSE:  7.073678999783503\n",
            "0.5 150 0 1 0.4 => RMSE:  7.073678999783503\n",
            "0.5 150 0 3 0.01 => RMSE:  7.073678999783503\n",
            "0.5 150 0 3 0.1 => RMSE:  7.073678999783503\n",
            "0.5 150 0 3 0.2 => RMSE:  7.073678999783503\n",
            "0.5 150 0 3 0.4 => RMSE:  7.073678999783503\n",
            "0.5 150 0 5 0.01 => RMSE:  7.073678999783503\n",
            "0.5 150 0 5 0.1 => RMSE:  7.073678999783503\n",
            "0.5 150 0 5 0.2 => RMSE:  7.073678999783503\n",
            "0.5 150 0 5 0.4 => RMSE:  7.073678999783503\n",
            "0.5 150 0 8 0.01 => RMSE:  7.073678999783503\n",
            "0.5 150 0 8 0.1 => RMSE:  7.073678999783503\n",
            "0.5 150 0 8 0.2 => RMSE:  7.073678999783503\n",
            "0.5 150 0 8 0.4 => RMSE:  7.073678999783503\n",
            "0.5 150 0 12 0.01 => RMSE:  7.073678999783503\n",
            "0.5 150 0 12 0.1 => RMSE:  7.073678999783503\n",
            "0.5 150 0 12 0.2 => RMSE:  7.073678999783503\n",
            "0.5 150 0 12 0.4 => RMSE:  7.073678999783503\n",
            "0.5 150 1 1 0.01 => RMSE:  5.5263148184420094\n",
            "0.5 150 1 1 0.1 => RMSE:  5.52637496075234\n",
            "0.5 150 1 1 0.2 => RMSE:  5.526448358889887\n",
            "0.5 150 1 1 0.4 => RMSE:  5.525952286028633\n",
            "0.5 150 1 3 0.01 => RMSE:  5.503155384748596\n",
            "0.5 150 1 3 0.1 => RMSE:  5.501938317259939\n",
            "0.5 150 1 3 0.2 => RMSE:  5.502594019808626\n",
            "0.5 150 1 3 0.4 => RMSE:  5.502110575536813\n",
            "0.5 150 1 5 0.01 => RMSE:  5.510351783525688\n",
            "0.5 150 1 5 0.1 => RMSE:  5.508924414099351\n",
            "0.5 150 1 5 0.2 => RMSE:  5.50879092538651\n",
            "0.5 150 1 5 0.4 => RMSE:  5.5093737458349725\n",
            "0.5 150 1 8 0.01 => RMSE:  5.528961074813059\n",
            "0.5 150 1 8 0.1 => RMSE:  5.531994101093403\n",
            "0.5 150 1 8 0.2 => RMSE:  5.529759650845455\n",
            "0.5 150 1 8 0.4 => RMSE:  5.528474693219162\n",
            "0.5 150 1 12 0.01 => RMSE:  5.559244973726831\n",
            "0.5 150 1 12 0.1 => RMSE:  5.56254102935053\n",
            "0.5 150 1 12 0.2 => RMSE:  5.558013632546292\n",
            "0.5 150 1 12 0.4 => RMSE:  5.557426234279533\n",
            "0.5 150 0.2 1 0.01 => RMSE:  5.5177689314736815\n",
            "0.5 150 0.2 1 0.1 => RMSE:  5.51784175279748\n",
            "0.5 150 0.2 1 0.2 => RMSE:  5.517912686820879\n",
            "0.5 150 0.2 1 0.4 => RMSE:  5.518030186197112\n",
            "0.5 150 0.2 3 0.01 => RMSE:  5.506136993187341\n",
            "0.5 150 0.2 3 0.1 => RMSE:  5.50282524836542\n",
            "0.5 150 0.2 3 0.2 => RMSE:  5.506247507613221\n",
            "0.5 150 0.2 3 0.4 => RMSE:  5.50363269490482\n",
            "0.5 150 0.2 5 0.01 => RMSE:  5.514446528276897\n",
            "0.5 150 0.2 5 0.1 => RMSE:  5.514592104999833\n",
            "0.5 150 0.2 5 0.2 => RMSE:  5.5123804653678095\n",
            "0.5 150 0.2 5 0.4 => RMSE:  5.515853547568748\n",
            "0.5 150 0.2 8 0.01 => RMSE:  5.551099132289384\n",
            "0.5 150 0.2 8 0.1 => RMSE:  5.536312539985284\n",
            "0.5 150 0.2 8 0.2 => RMSE:  5.536887386513349\n",
            "0.5 150 0.2 8 0.4 => RMSE:  5.530594102559924\n",
            "0.5 150 0.2 12 0.01 => RMSE:  5.579010920890437\n",
            "0.5 150 0.2 12 0.1 => RMSE:  5.611694901260675\n",
            "0.5 150 0.2 12 0.2 => RMSE:  5.58578586278808\n",
            "0.5 150 0.2 12 0.4 => RMSE:  5.570536463900912\n",
            "0.5 150 0.5 1 0.01 => RMSE:  5.516257044083513\n",
            "0.5 150 0.5 1 0.1 => RMSE:  5.516328311258225\n",
            "0.5 150 0.5 1 0.2 => RMSE:  5.516397386504748\n",
            "0.5 150 0.5 1 0.4 => RMSE:  5.5172735395057915\n",
            "0.5 150 0.5 3 0.01 => RMSE:  5.499375122700565\n",
            "0.5 150 0.5 3 0.1 => RMSE:  5.498352893847661\n",
            "0.5 150 0.5 3 0.2 => RMSE:  5.499227897170456\n",
            "0.5 150 0.5 3 0.4 => RMSE:  5.497835675001506\n",
            "0.5 150 0.5 5 0.01 => RMSE:  5.511624838645246\n",
            "0.5 150 0.5 5 0.1 => RMSE:  5.508449403085163\n",
            "0.5 150 0.5 5 0.2 => RMSE:  5.5027892722968454\n",
            "0.5 150 0.5 5 0.4 => RMSE:  5.501552737023818\n",
            "0.5 150 0.5 8 0.01 => RMSE:  5.515643431593637\n",
            "0.5 150 0.5 8 0.1 => RMSE:  5.517416084900663\n",
            "0.5 150 0.5 8 0.2 => RMSE:  5.5262306693172425\n",
            "0.5 150 0.5 8 0.4 => RMSE:  5.512126801935211\n",
            "0.5 150 0.5 12 0.01 => RMSE:  5.549769015974188\n",
            "0.5 150 0.5 12 0.1 => RMSE:  5.541509324187631\n",
            "0.5 150 0.5 12 0.2 => RMSE:  5.540708295429187\n",
            "0.5 150 0.5 12 0.4 => RMSE:  5.547413960279494\n",
            "0.5 150 0.3 1 0.01 => RMSE:  5.522422996649093\n",
            "0.5 150 0.3 1 0.1 => RMSE:  5.5224959495680865\n",
            "0.5 150 0.3 1 0.2 => RMSE:  5.524517940394861\n",
            "0.5 150 0.3 1 0.4 => RMSE:  5.524520069967121\n",
            "0.5 150 0.3 3 0.01 => RMSE:  5.501493730576092\n",
            "0.5 150 0.3 3 0.1 => RMSE:  5.503401138715794\n",
            "0.5 150 0.3 3 0.2 => RMSE:  5.503311973291083\n",
            "0.5 150 0.3 3 0.4 => RMSE:  5.501099376227546\n",
            "0.5 150 0.3 5 0.01 => RMSE:  5.515850456642619\n",
            "0.5 150 0.3 5 0.1 => RMSE:  5.508363922560253\n",
            "0.5 150 0.3 5 0.2 => RMSE:  5.512629952319962\n",
            "0.5 150 0.3 5 0.4 => RMSE:  5.514829084163033\n",
            "0.5 150 0.3 8 0.01 => RMSE:  5.535431326349499\n",
            "0.5 150 0.3 8 0.1 => RMSE:  5.528539681726279\n",
            "0.5 150 0.3 8 0.2 => RMSE:  5.534866828691765\n",
            "0.5 150 0.3 8 0.4 => RMSE:  5.531726545761329\n",
            "0.5 150 0.3 12 0.01 => RMSE:  5.643580061107412\n",
            "0.5 150 0.3 12 0.1 => RMSE:  5.577016995112548\n",
            "0.5 150 0.3 12 0.2 => RMSE:  5.588620854626184\n",
            "0.5 150 0.3 12 0.4 => RMSE:  5.575888929315018\n",
            "0.5 150 1 1 0.01 => RMSE:  5.5263148184420094\n",
            "0.5 150 1 1 0.1 => RMSE:  5.52637496075234\n",
            "0.5 150 1 1 0.2 => RMSE:  5.526448358889887\n",
            "0.5 150 1 1 0.4 => RMSE:  5.525952286028633\n",
            "0.5 150 1 3 0.01 => RMSE:  5.503155384748596\n",
            "0.5 150 1 3 0.1 => RMSE:  5.501938317259939\n",
            "0.5 150 1 3 0.2 => RMSE:  5.502594019808626\n",
            "0.5 150 1 3 0.4 => RMSE:  5.502110575536813\n",
            "0.5 150 1 5 0.01 => RMSE:  5.510351783525688\n",
            "0.5 150 1 5 0.1 => RMSE:  5.508924414099351\n",
            "0.5 150 1 5 0.2 => RMSE:  5.50879092538651\n",
            "0.5 150 1 5 0.4 => RMSE:  5.5093737458349725\n",
            "0.5 150 1 8 0.01 => RMSE:  5.528961074813059\n",
            "0.5 150 1 8 0.1 => RMSE:  5.531994101093403\n",
            "0.5 150 1 8 0.2 => RMSE:  5.529759650845455\n",
            "0.5 150 1 8 0.4 => RMSE:  5.528474693219162\n",
            "0.5 150 1 12 0.01 => RMSE:  5.559244973726831\n",
            "0.5 150 1 12 0.1 => RMSE:  5.56254102935053\n",
            "0.5 150 1 12 0.2 => RMSE:  5.558013632546292\n",
            "0.5 150 1 12 0.4 => RMSE:  5.557426234279533\n",
            "0.5 200 0 1 0.01 => RMSE:  7.073678999783503\n",
            "0.5 200 0 1 0.1 => RMSE:  7.073678999783503\n",
            "0.5 200 0 1 0.2 => RMSE:  7.073678999783503\n",
            "0.5 200 0 1 0.4 => RMSE:  7.073678999783503\n",
            "0.5 200 0 3 0.01 => RMSE:  7.073678999783503\n",
            "0.5 200 0 3 0.1 => RMSE:  7.073678999783503\n",
            "0.5 200 0 3 0.2 => RMSE:  7.073678999783503\n",
            "0.5 200 0 3 0.4 => RMSE:  7.073678999783503\n",
            "0.5 200 0 5 0.01 => RMSE:  7.073678999783503\n",
            "0.5 200 0 5 0.1 => RMSE:  7.073678999783503\n",
            "0.5 200 0 5 0.2 => RMSE:  7.073678999783503\n",
            "0.5 200 0 5 0.4 => RMSE:  7.073678999783503\n",
            "0.5 200 0 8 0.01 => RMSE:  7.073678999783503\n",
            "0.5 200 0 8 0.1 => RMSE:  7.073678999783503\n",
            "0.5 200 0 8 0.2 => RMSE:  7.073678999783503\n",
            "0.5 200 0 8 0.4 => RMSE:  7.073678999783503\n",
            "0.5 200 0 12 0.01 => RMSE:  7.073678999783503\n",
            "0.5 200 0 12 0.1 => RMSE:  7.073678999783503\n",
            "0.5 200 0 12 0.2 => RMSE:  7.073678999783503\n",
            "0.5 200 0 12 0.4 => RMSE:  7.073678999783503\n",
            "0.5 200 1 1 0.01 => RMSE:  5.522881127472588\n",
            "0.5 200 1 1 0.1 => RMSE:  5.522953497627223\n",
            "0.5 200 1 1 0.2 => RMSE:  5.523025384610461\n",
            "0.5 200 1 1 0.4 => RMSE:  5.523141508916571\n",
            "0.5 200 1 3 0.01 => RMSE:  5.503050114908172\n",
            "0.5 200 1 3 0.1 => RMSE:  5.502364208121105\n",
            "0.5 200 1 3 0.2 => RMSE:  5.502862782228157\n",
            "0.5 200 1 3 0.4 => RMSE:  5.502230840060288\n",
            "0.5 200 1 5 0.01 => RMSE:  5.511980058261597\n",
            "0.5 200 1 5 0.1 => RMSE:  5.511230195909347\n",
            "0.5 200 1 5 0.2 => RMSE:  5.510225163987979\n",
            "0.5 200 1 5 0.4 => RMSE:  5.511004163748462\n",
            "0.5 200 1 8 0.01 => RMSE:  5.534619577375952\n",
            "0.5 200 1 8 0.1 => RMSE:  5.53815385466554\n",
            "0.5 200 1 8 0.2 => RMSE:  5.5345204703301105\n",
            "0.5 200 1 8 0.4 => RMSE:  5.5342217003795575\n",
            "0.5 200 1 12 0.01 => RMSE:  5.5619378298542355\n",
            "0.5 200 1 12 0.1 => RMSE:  5.565448654779349\n",
            "0.5 200 1 12 0.2 => RMSE:  5.561626400502489\n",
            "0.5 200 1 12 0.4 => RMSE:  5.560725649459988\n",
            "0.5 200 0.2 1 0.01 => RMSE:  5.526120874169942\n",
            "0.5 200 0.2 1 0.1 => RMSE:  5.526191334086316\n",
            "0.5 200 0.2 1 0.2 => RMSE:  5.526259647218477\n",
            "0.5 200 0.2 1 0.4 => RMSE:  5.526372052823928\n",
            "0.5 200 0.2 3 0.01 => RMSE:  5.511706357502188\n",
            "0.5 200 0.2 3 0.1 => RMSE:  5.514627109582311\n",
            "0.5 200 0.2 3 0.2 => RMSE:  5.5102268171288165\n",
            "0.5 200 0.2 3 0.4 => RMSE:  5.514275924882688\n",
            "0.5 200 0.2 5 0.01 => RMSE:  5.5264786582515875\n",
            "0.5 200 0.2 5 0.1 => RMSE:  5.528505908909003\n",
            "0.5 200 0.2 5 0.2 => RMSE:  5.524724532914604\n",
            "0.5 200 0.2 5 0.4 => RMSE:  5.52370552996771\n",
            "0.5 200 0.2 8 0.01 => RMSE:  5.552968470498799\n",
            "0.5 200 0.2 8 0.1 => RMSE:  5.545901255680946\n",
            "0.5 200 0.2 8 0.2 => RMSE:  5.544760338806069\n",
            "0.5 200 0.2 8 0.4 => RMSE:  5.546520159684136\n",
            "0.5 200 0.2 12 0.01 => RMSE:  5.611120328519115\n",
            "0.5 200 0.2 12 0.1 => RMSE:  5.629810558617015\n",
            "0.5 200 0.2 12 0.2 => RMSE:  5.625816044082192\n",
            "0.5 200 0.2 12 0.4 => RMSE:  5.5869444174762295\n",
            "0.5 200 0.5 1 0.01 => RMSE:  5.523518450725004\n",
            "0.5 200 0.5 1 0.1 => RMSE:  5.523586797235626\n",
            "0.5 200 0.5 1 0.2 => RMSE:  5.5236530138288575\n",
            "0.5 200 0.5 1 0.4 => RMSE:  5.523991491741787\n",
            "0.5 200 0.5 3 0.01 => RMSE:  5.5009686579599215\n",
            "0.5 200 0.5 3 0.1 => RMSE:  5.502258787290619\n",
            "0.5 200 0.5 3 0.2 => RMSE:  5.5010706504289795\n",
            "0.5 200 0.5 3 0.4 => RMSE:  5.502304237409537\n",
            "0.5 200 0.5 5 0.01 => RMSE:  5.514207304919462\n",
            "0.5 200 0.5 5 0.1 => RMSE:  5.509870457423457\n",
            "0.5 200 0.5 5 0.2 => RMSE:  5.5070312398861665\n",
            "0.5 200 0.5 5 0.4 => RMSE:  5.506237724556318\n",
            "0.5 200 0.5 8 0.01 => RMSE:  5.5213274941861705\n",
            "0.5 200 0.5 8 0.1 => RMSE:  5.524605057252055\n",
            "0.5 200 0.5 8 0.2 => RMSE:  5.532812219030396\n",
            "0.5 200 0.5 8 0.4 => RMSE:  5.51853454715007\n",
            "0.5 200 0.5 12 0.01 => RMSE:  5.577695879253663\n",
            "0.5 200 0.5 12 0.1 => RMSE:  5.554695776888219\n",
            "0.5 200 0.5 12 0.2 => RMSE:  5.55611279760506\n",
            "0.5 200 0.5 12 0.4 => RMSE:  5.565344070487621\n",
            "0.5 200 0.3 1 0.01 => RMSE:  5.529987697105246\n",
            "0.5 200 0.3 1 0.1 => RMSE:  5.530054573261673\n",
            "0.5 200 0.3 1 0.2 => RMSE:  5.529919117848414\n",
            "0.5 200 0.3 1 0.4 => RMSE:  5.530025049651049\n",
            "0.5 200 0.3 3 0.01 => RMSE:  5.511295843431838\n",
            "0.5 200 0.3 3 0.1 => RMSE:  5.5120679059897375\n",
            "0.5 200 0.3 3 0.2 => RMSE:  5.510090901084618\n",
            "0.5 200 0.3 3 0.4 => RMSE:  5.510061681756241\n",
            "0.5 200 0.3 5 0.01 => RMSE:  5.521081078851885\n",
            "0.5 200 0.3 5 0.1 => RMSE:  5.517993775142296\n",
            "0.5 200 0.3 5 0.2 => RMSE:  5.51984929941728\n",
            "0.5 200 0.3 5 0.4 => RMSE:  5.521602470520822\n",
            "0.5 200 0.3 8 0.01 => RMSE:  5.5486028346934395\n",
            "0.5 200 0.3 8 0.1 => RMSE:  5.540220622537762\n",
            "0.5 200 0.3 8 0.2 => RMSE:  5.552873724590148\n",
            "0.5 200 0.3 8 0.4 => RMSE:  5.538786703384172\n",
            "0.5 200 0.3 12 0.01 => RMSE:  5.626490204741057\n",
            "0.5 200 0.3 12 0.1 => RMSE:  5.595260651916476\n",
            "0.5 200 0.3 12 0.2 => RMSE:  5.604027907943939\n",
            "0.5 200 0.3 12 0.4 => RMSE:  5.633628227567855\n",
            "0.5 200 1 1 0.01 => RMSE:  5.522881127472588\n",
            "0.5 200 1 1 0.1 => RMSE:  5.522953497627223\n",
            "0.5 200 1 1 0.2 => RMSE:  5.523025384610461\n",
            "0.5 200 1 1 0.4 => RMSE:  5.523141508916571\n",
            "0.5 200 1 3 0.01 => RMSE:  5.503050114908172\n",
            "0.5 200 1 3 0.1 => RMSE:  5.502364208121105\n",
            "0.5 200 1 3 0.2 => RMSE:  5.502862782228157\n",
            "0.5 200 1 3 0.4 => RMSE:  5.502230840060288\n",
            "0.5 200 1 5 0.01 => RMSE:  5.511980058261597\n",
            "0.5 200 1 5 0.1 => RMSE:  5.511230195909347\n",
            "0.5 200 1 5 0.2 => RMSE:  5.510225163987979\n",
            "0.5 200 1 5 0.4 => RMSE:  5.511004163748462\n",
            "0.5 200 1 8 0.01 => RMSE:  5.534619577375952\n",
            "0.5 200 1 8 0.1 => RMSE:  5.53815385466554\n",
            "0.5 200 1 8 0.2 => RMSE:  5.5345204703301105\n",
            "0.5 200 1 8 0.4 => RMSE:  5.5342217003795575\n",
            "0.5 200 1 12 0.01 => RMSE:  5.5619378298542355\n",
            "0.5 200 1 12 0.1 => RMSE:  5.565448654779349\n",
            "0.5 200 1 12 0.2 => RMSE:  5.561626400502489\n",
            "0.5 200 1 12 0.4 => RMSE:  5.560725649459988\n"
          ]
        }
      ],
      "source": [
        "SEED = 88\n",
        "\n",
        "param_grid = {'learning_rate': [0.01,0.1,0.5], # 0.05,0.1,   alias eta, Step size shrinkage used in update to prevents overfitting.\n",
        "    'n_estimators': [50,75,100,150,200], # \n",
        "    'subsample': [0,1,0.2,0.5,0.3,1], #     Subsample ratio of the training instances\n",
        "    'max_depth': [1, 3, 5,8,12],\n",
        "    'reg_lambda':[0.01,0.1,0.2,0.4]\n",
        "    }\n",
        "\n",
        "best_RMSE = 999\n",
        "best_params = {}\n",
        "\n",
        "for learning_rate in param_grid['learning_rate']:\n",
        "    for n_estimators in param_grid['n_estimators']:\n",
        "        for subsample in param_grid['subsample']:\n",
        "            for max_depth in param_grid['max_depth']:\n",
        "                for reg_lambda in param_grid['reg_lambda']:\n",
        "                    # Create and train a Random Forest model with the current hyperparameters\n",
        "                    xgb = xgboost.XGBRegressor(random_state=SEED, \n",
        "                                        objective='reg:squarederror',\n",
        "                                        learning_rate=learning_rate,\n",
        "                                        n_estimators=n_estimators,\n",
        "                                        subsample=subsample,\n",
        "                                        max_depth=max_depth,\n",
        "                                        reg_lambda = reg_lambda)\n",
        "                    \n",
        "                    xgb.fit(X_train[['turnover_month_avg','turnover_week_avg']], y_train)\n",
        "\n",
        "                    # Evaluate the model on the validation set\n",
        "                    y_pred_xgb = xgb.predict(X_test[['turnover_month_avg','turnover_week_avg']])\n",
        "                    RMSE = np.sqrt(mean_squared_error(y_test, y_pred_xgb))\n",
        "\n",
        "                    # Update the best hyperparameters if this combination is better\n",
        "                    if RMSE < best_RMSE:\n",
        "                        best_RMSE = RMSE\n",
        "                        best_params = {\n",
        "                            'learning_rate': learning_rate,\n",
        "                            'n_estimators': n_estimators,\n",
        "                            'subsample': subsample,\n",
        "                            'max_depth': max_depth\n",
        "                        }\n",
        "                    print(learning_rate,n_estimators,subsample,max_depth,reg_lambda, '=> RMSE: ', RMSE)"
      ]
    },
    {
      "cell_type": "code",
      "execution_count": 116,
      "metadata": {},
      "outputs": [
        {
          "name": "stdout",
          "output_type": "stream",
          "text": [
            "{'learning_rate': 0.1, 'n_estimators': 100, 'subsample': 0.3, 'max_depth': 5} 5.496805620618276\n"
          ]
        }
      ],
      "source": [
        "print(best_params, best_RMSE)"
      ]
    },
    {
      "cell_type": "code",
      "execution_count": 195,
      "metadata": {},
      "outputs": [],
      "source": [
        "with open('../models/xgb_model.pkl', 'wb') as file:\n",
        "    pickle.dump(xgb, file)"
      ]
    },
    {
      "cell_type": "code",
      "execution_count": 25,
      "metadata": {},
      "outputs": [
        {
          "data": {
            "text/html": [
              "<div>\n",
              "<style scoped>\n",
              "    .dataframe tbody tr th:only-of-type {\n",
              "        vertical-align: middle;\n",
              "    }\n",
              "\n",
              "    .dataframe tbody tr th {\n",
              "        vertical-align: top;\n",
              "    }\n",
              "\n",
              "    .dataframe thead th {\n",
              "        text-align: right;\n",
              "    }\n",
              "</style>\n",
              "<table border=\"1\" class=\"dataframe\">\n",
              "  <thead>\n",
              "    <tr style=\"text-align: right;\">\n",
              "      <th></th>\n",
              "      <th>Variable</th>\n",
              "      <th>Importance</th>\n",
              "    </tr>\n",
              "  </thead>\n",
              "  <tbody>\n",
              "    <tr>\n",
              "      <th>4</th>\n",
              "      <td>turnover_month_avg</td>\n",
              "      <td>0.158901</td>\n",
              "    </tr>\n",
              "    <tr>\n",
              "      <th>340</th>\n",
              "      <td>id_HOBBIES_1_155_WI_2_validation</td>\n",
              "      <td>0.060545</td>\n",
              "    </tr>\n",
              "    <tr>\n",
              "      <th>798</th>\n",
              "      <td>state_id_TX</td>\n",
              "      <td>0.031296</td>\n",
              "    </tr>\n",
              "    <tr>\n",
              "      <th>7</th>\n",
              "      <td>turnover_week_avg</td>\n",
              "      <td>0.030058</td>\n",
              "    </tr>\n",
              "    <tr>\n",
              "      <th>332</th>\n",
              "      <td>id_HOBBIES_1_155_CA_1_validation</td>\n",
              "      <td>0.020906</td>\n",
              "    </tr>\n",
              "    <tr>\n",
              "      <th>789</th>\n",
              "      <td>store_id_CA_2</td>\n",
              "      <td>0.017096</td>\n",
              "    </tr>\n",
              "    <tr>\n",
              "      <th>804</th>\n",
              "      <td>weekday_Tuesday</td>\n",
              "      <td>0.016731</td>\n",
              "    </tr>\n",
              "    <tr>\n",
              "      <th>808</th>\n",
              "      <td>month_December</td>\n",
              "      <td>0.016250</td>\n",
              "    </tr>\n",
              "    <tr>\n",
              "      <th>802</th>\n",
              "      <td>weekday_Sunday</td>\n",
              "      <td>0.015276</td>\n",
              "    </tr>\n",
              "    <tr>\n",
              "      <th>806</th>\n",
              "      <td>month_April</td>\n",
              "      <td>0.015146</td>\n",
              "    </tr>\n",
              "    <tr>\n",
              "      <th>801</th>\n",
              "      <td>weekday_Saturday</td>\n",
              "      <td>0.014601</td>\n",
              "    </tr>\n",
              "    <tr>\n",
              "      <th>726</th>\n",
              "      <td>item_id_FOODS_2_256</td>\n",
              "      <td>0.013712</td>\n",
              "    </tr>\n",
              "    <tr>\n",
              "      <th>811</th>\n",
              "      <td>month_June</td>\n",
              "      <td>0.013702</td>\n",
              "    </tr>\n",
              "    <tr>\n",
              "      <th>161</th>\n",
              "      <td>id_FOODS_2_256_WI_2_validation</td>\n",
              "      <td>0.012974</td>\n",
              "    </tr>\n",
              "    <tr>\n",
              "      <th>5</th>\n",
              "      <td>turnover_month_max</td>\n",
              "      <td>0.012872</td>\n",
              "    </tr>\n",
              "    <tr>\n",
              "      <th>818</th>\n",
              "      <td>event_type_National</td>\n",
              "      <td>0.012870</td>\n",
              "    </tr>\n",
              "    <tr>\n",
              "      <th>819</th>\n",
              "      <td>event_type_Religious</td>\n",
              "      <td>0.012839</td>\n",
              "    </tr>\n",
              "    <tr>\n",
              "      <th>796</th>\n",
              "      <td>store_id_WI_2</td>\n",
              "      <td>0.012809</td>\n",
              "    </tr>\n",
              "    <tr>\n",
              "      <th>813</th>\n",
              "      <td>month_May</td>\n",
              "      <td>0.012771</td>\n",
              "    </tr>\n",
              "    <tr>\n",
              "      <th>1</th>\n",
              "      <td>wm_yr_wk</td>\n",
              "      <td>0.012634</td>\n",
              "    </tr>\n",
              "    <tr>\n",
              "      <th>0</th>\n",
              "      <td>d</td>\n",
              "      <td>0.012505</td>\n",
              "    </tr>\n",
              "    <tr>\n",
              "      <th>8</th>\n",
              "      <td>turnover_week_max</td>\n",
              "      <td>0.012438</td>\n",
              "    </tr>\n",
              "    <tr>\n",
              "      <th>807</th>\n",
              "      <td>month_August</td>\n",
              "      <td>0.011917</td>\n",
              "    </tr>\n",
              "    <tr>\n",
              "      <th>809</th>\n",
              "      <td>month_February</td>\n",
              "      <td>0.011885</td>\n",
              "    </tr>\n",
              "    <tr>\n",
              "      <th>805</th>\n",
              "      <td>weekday_Wednesday</td>\n",
              "      <td>0.011760</td>\n",
              "    </tr>\n",
              "    <tr>\n",
              "      <th>814</th>\n",
              "      <td>month_November</td>\n",
              "      <td>0.011482</td>\n",
              "    </tr>\n",
              "    <tr>\n",
              "      <th>9</th>\n",
              "      <td>turnover_week_min</td>\n",
              "      <td>0.011376</td>\n",
              "    </tr>\n",
              "    <tr>\n",
              "      <th>810</th>\n",
              "      <td>month_July</td>\n",
              "      <td>0.011276</td>\n",
              "    </tr>\n",
              "    <tr>\n",
              "      <th>815</th>\n",
              "      <td>month_October</td>\n",
              "      <td>0.011219</td>\n",
              "    </tr>\n",
              "    <tr>\n",
              "      <th>820</th>\n",
              "      <td>event_type_Sporting</td>\n",
              "      <td>0.011206</td>\n",
              "    </tr>\n",
              "    <tr>\n",
              "      <th>800</th>\n",
              "      <td>weekday_Friday</td>\n",
              "      <td>0.011108</td>\n",
              "    </tr>\n",
              "    <tr>\n",
              "      <th>10</th>\n",
              "      <td>turnover_d_1</td>\n",
              "      <td>0.011083</td>\n",
              "    </tr>\n",
              "    <tr>\n",
              "      <th>812</th>\n",
              "      <td>month_March</td>\n",
              "      <td>0.010990</td>\n",
              "    </tr>\n",
              "    <tr>\n",
              "      <th>788</th>\n",
              "      <td>cat_id_HOUSEHOLD</td>\n",
              "      <td>0.010783</td>\n",
              "    </tr>\n",
              "    <tr>\n",
              "      <th>11</th>\n",
              "      <td>turnover_d_2</td>\n",
              "      <td>0.010656</td>\n",
              "    </tr>\n",
              "    <tr>\n",
              "      <th>335</th>\n",
              "      <td>id_HOBBIES_1_155_CA_4_validation</td>\n",
              "      <td>0.010626</td>\n",
              "    </tr>\n",
              "    <tr>\n",
              "      <th>720</th>\n",
              "      <td>item_id_FOODS_1_174</td>\n",
              "      <td>0.010435</td>\n",
              "    </tr>\n",
              "    <tr>\n",
              "      <th>816</th>\n",
              "      <td>month_September</td>\n",
              "      <td>0.010377</td>\n",
              "    </tr>\n",
              "    <tr>\n",
              "      <th>803</th>\n",
              "      <td>weekday_Thursday</td>\n",
              "      <td>0.010157</td>\n",
              "    </tr>\n",
              "    <tr>\n",
              "      <th>817</th>\n",
              "      <td>event_type_Cultural</td>\n",
              "      <td>0.010123</td>\n",
              "    </tr>\n",
              "    <tr>\n",
              "      <th>333</th>\n",
              "      <td>id_HOBBIES_1_155_CA_2_validation</td>\n",
              "      <td>0.009645</td>\n",
              "    </tr>\n",
              "    <tr>\n",
              "      <th>334</th>\n",
              "      <td>id_HOBBIES_1_155_CA_3_validation</td>\n",
              "      <td>0.009556</td>\n",
              "    </tr>\n",
              "    <tr>\n",
              "      <th>6</th>\n",
              "      <td>turnover_month_min</td>\n",
              "      <td>0.009338</td>\n",
              "    </tr>\n",
              "    <tr>\n",
              "      <th>12</th>\n",
              "      <td>turnover_d_3</td>\n",
              "      <td>0.009323</td>\n",
              "    </tr>\n",
              "    <tr>\n",
              "      <th>785</th>\n",
              "      <td>dept_id_HOUSEHOLD_1</td>\n",
              "      <td>0.009038</td>\n",
              "    </tr>\n",
              "    <tr>\n",
              "      <th>792</th>\n",
              "      <td>store_id_TX_1</td>\n",
              "      <td>0.008925</td>\n",
              "    </tr>\n",
              "    <tr>\n",
              "      <th>337</th>\n",
              "      <td>id_HOBBIES_1_155_TX_2_validation</td>\n",
              "      <td>0.008161</td>\n",
              "    </tr>\n",
              "    <tr>\n",
              "      <th>162</th>\n",
              "      <td>id_FOODS_2_256_WI_3_validation</td>\n",
              "      <td>0.007914</td>\n",
              "    </tr>\n",
              "    <tr>\n",
              "      <th>782</th>\n",
              "      <td>dept_id_FOODS_2</td>\n",
              "      <td>0.007601</td>\n",
              "    </tr>\n",
              "    <tr>\n",
              "      <th>790</th>\n",
              "      <td>store_id_CA_3</td>\n",
              "      <td>0.007303</td>\n",
              "    </tr>\n",
              "  </tbody>\n",
              "</table>\n",
              "</div>"
            ],
            "text/plain": [
              "                             Variable  Importance\n",
              "4                  turnover_month_avg    0.158901\n",
              "340  id_HOBBIES_1_155_WI_2_validation    0.060545\n",
              "798                       state_id_TX    0.031296\n",
              "7                   turnover_week_avg    0.030058\n",
              "332  id_HOBBIES_1_155_CA_1_validation    0.020906\n",
              "789                     store_id_CA_2    0.017096\n",
              "804                   weekday_Tuesday    0.016731\n",
              "808                    month_December    0.016250\n",
              "802                    weekday_Sunday    0.015276\n",
              "806                       month_April    0.015146\n",
              "801                  weekday_Saturday    0.014601\n",
              "726               item_id_FOODS_2_256    0.013712\n",
              "811                        month_June    0.013702\n",
              "161    id_FOODS_2_256_WI_2_validation    0.012974\n",
              "5                  turnover_month_max    0.012872\n",
              "818               event_type_National    0.012870\n",
              "819              event_type_Religious    0.012839\n",
              "796                     store_id_WI_2    0.012809\n",
              "813                         month_May    0.012771\n",
              "1                            wm_yr_wk    0.012634\n",
              "0                                   d    0.012505\n",
              "8                   turnover_week_max    0.012438\n",
              "807                      month_August    0.011917\n",
              "809                    month_February    0.011885\n",
              "805                 weekday_Wednesday    0.011760\n",
              "814                    month_November    0.011482\n",
              "9                   turnover_week_min    0.011376\n",
              "810                        month_July    0.011276\n",
              "815                     month_October    0.011219\n",
              "820               event_type_Sporting    0.011206\n",
              "800                    weekday_Friday    0.011108\n",
              "10                       turnover_d_1    0.011083\n",
              "812                       month_March    0.010990\n",
              "788                  cat_id_HOUSEHOLD    0.010783\n",
              "11                       turnover_d_2    0.010656\n",
              "335  id_HOBBIES_1_155_CA_4_validation    0.010626\n",
              "720               item_id_FOODS_1_174    0.010435\n",
              "816                   month_September    0.010377\n",
              "803                  weekday_Thursday    0.010157\n",
              "817               event_type_Cultural    0.010123\n",
              "333  id_HOBBIES_1_155_CA_2_validation    0.009645\n",
              "334  id_HOBBIES_1_155_CA_3_validation    0.009556\n",
              "6                  turnover_month_min    0.009338\n",
              "12                       turnover_d_3    0.009323\n",
              "785               dept_id_HOUSEHOLD_1    0.009038\n",
              "792                     store_id_TX_1    0.008925\n",
              "337  id_HOBBIES_1_155_TX_2_validation    0.008161\n",
              "162    id_FOODS_2_256_WI_3_validation    0.007914\n",
              "782                   dept_id_FOODS_2    0.007601\n",
              "790                     store_id_CA_3    0.007303"
            ]
          },
          "execution_count": 25,
          "metadata": {},
          "output_type": "execute_result"
        }
      ],
      "source": [
        "pd.DataFrame({'Variable':X_train.columns,\n",
        "              'Importance':xgb.feature_importances_}).sort_values('Importance', ascending=False).head(50)"
      ]
    }
  ],
  "metadata": {
    "colab": {
      "provenance": []
    },
    "kernelspec": {
      "display_name": "Python 3",
      "name": "python3"
    },
    "language_info": {
      "codemirror_mode": {
        "name": "ipython",
        "version": 3
      },
      "file_extension": ".py",
      "mimetype": "text/x-python",
      "name": "python",
      "nbconvert_exporter": "python",
      "pygments_lexer": "ipython3",
      "version": "3.9.1"
    }
  },
  "nbformat": 4,
  "nbformat_minor": 0
}
