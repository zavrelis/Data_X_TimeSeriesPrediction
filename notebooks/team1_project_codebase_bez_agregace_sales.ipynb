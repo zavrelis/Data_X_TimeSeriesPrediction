{
  "cells": [
    {
      "cell_type": "markdown",
      "metadata": {
        "id": "gPMzaRvPYi-B"
      },
      "source": [
        "**Importing libraries and loading the data**"
      ]
    },
    {
      "cell_type": "code",
      "execution_count": 145,
      "metadata": {
        "id": "S_7oo79WogGe"
      },
      "outputs": [],
      "source": [
        "import pandas as pd\n",
        "import numpy as np\n",
        "import datetime as dt\n",
        "import seaborn  as sns\n",
        "import matplotlib.pyplot as plt\n",
        "import time\n",
        "from sklearn.linear_model import LinearRegression, Lasso, Ridge \n",
        "from sklearn.ensemble import RandomForestRegressor\n",
        "from sklearn.metrics import mean_squared_error\n",
        "from sklearn.model_selection import train_test_split\n",
        "from sklearn.preprocessing import StandardScaler\n",
        "import math\n",
        "import xgboost\n",
        "import pickle"
      ]
    },
    {
      "cell_type": "code",
      "execution_count": 146,
      "metadata": {
        "colab": {
          "base_uri": "https://localhost:8080/"
        },
        "id": "kU-s6rZAqRal",
        "outputId": "7cb83734-fe24-442d-f0e9-b2b2c54a002f"
      },
      "outputs": [],
      "source": [
        "#from google.colab import drive\n",
        "#drive.mount('/content/drive')"
      ]
    },
    {
      "cell_type": "code",
      "execution_count": 147,
      "metadata": {
        "id": "hybxpH58VGEA"
      },
      "outputs": [],
      "source": [
        "#loading all needed datasets from kaggle\n",
        "calendar = pd.read_csv('../data/raw/calendar.csv')\n",
        "sell_prices = pd.read_csv('../data/raw/sell_prices.csv')\n",
        "sales_validation = pd.read_csv('../data/raw/sales_train_validation.csv')"
      ]
    },
    {
      "cell_type": "markdown",
      "metadata": {
        "id": "nhNtzx2dYyqI"
      },
      "source": [
        "## Exploratory Data Analysis"
      ]
    },
    {
      "cell_type": "code",
      "execution_count": 148,
      "metadata": {
        "colab": {
          "base_uri": "https://localhost:8080/"
        },
        "id": "7tT_I5lBcVpv",
        "outputId": "6ffb5649-5ac9-47f6-a619-c735ca034b71"
      },
      "outputs": [
        {
          "data": {
            "text/plain": [
              "<bound method DataFrame.info of                                   id        item_id    dept_id   cat_id  \\\n",
              "0      HOBBIES_1_001_CA_1_validation  HOBBIES_1_001  HOBBIES_1  HOBBIES   \n",
              "1      HOBBIES_1_002_CA_1_validation  HOBBIES_1_002  HOBBIES_1  HOBBIES   \n",
              "2      HOBBIES_1_003_CA_1_validation  HOBBIES_1_003  HOBBIES_1  HOBBIES   \n",
              "3      HOBBIES_1_004_CA_1_validation  HOBBIES_1_004  HOBBIES_1  HOBBIES   \n",
              "4      HOBBIES_1_005_CA_1_validation  HOBBIES_1_005  HOBBIES_1  HOBBIES   \n",
              "...                              ...            ...        ...      ...   \n",
              "30485    FOODS_3_823_WI_3_validation    FOODS_3_823    FOODS_3    FOODS   \n",
              "30486    FOODS_3_824_WI_3_validation    FOODS_3_824    FOODS_3    FOODS   \n",
              "30487    FOODS_3_825_WI_3_validation    FOODS_3_825    FOODS_3    FOODS   \n",
              "30488    FOODS_3_826_WI_3_validation    FOODS_3_826    FOODS_3    FOODS   \n",
              "30489    FOODS_3_827_WI_3_validation    FOODS_3_827    FOODS_3    FOODS   \n",
              "\n",
              "      store_id state_id  d_1  d_2  d_3  d_4  ...  d_1904  d_1905  d_1906  \\\n",
              "0         CA_1       CA    0    0    0    0  ...       1       3       0   \n",
              "1         CA_1       CA    0    0    0    0  ...       0       0       0   \n",
              "2         CA_1       CA    0    0    0    0  ...       2       1       2   \n",
              "3         CA_1       CA    0    0    0    0  ...       1       0       5   \n",
              "4         CA_1       CA    0    0    0    0  ...       2       1       1   \n",
              "...        ...      ...  ...  ...  ...  ...  ...     ...     ...     ...   \n",
              "30485     WI_3       WI    0    0    2    2  ...       2       0       0   \n",
              "30486     WI_3       WI    0    0    0    0  ...       0       0       0   \n",
              "30487     WI_3       WI    0    6    0    2  ...       2       1       0   \n",
              "30488     WI_3       WI    0    0    0    0  ...       0       0       1   \n",
              "30489     WI_3       WI    0    0    0    0  ...       0       0       0   \n",
              "\n",
              "       d_1907  d_1908  d_1909  d_1910  d_1911  d_1912  d_1913  \n",
              "0           1       1       1       3       0       1       1  \n",
              "1           0       0       1       0       0       0       0  \n",
              "2           1       1       1       0       1       1       1  \n",
              "3           4       1       0       1       3       7       2  \n",
              "4           0       1       1       2       2       2       4  \n",
              "...       ...     ...     ...     ...     ...     ...     ...  \n",
              "30485       0       0       0       1       0       0       1  \n",
              "30486       0       0       0       0       0       1       0  \n",
              "30487       2       0       1       0       0       1       0  \n",
              "30488       0       0       1       0       3       1       3  \n",
              "30489       0       0       0       0       0       0       0  \n",
              "\n",
              "[30490 rows x 1919 columns]>"
            ]
          },
          "execution_count": 148,
          "metadata": {},
          "output_type": "execute_result"
        }
      ],
      "source": [
        "sales_validation.info"
      ]
    },
    {
      "cell_type": "code",
      "execution_count": 149,
      "metadata": {
        "colab": {
          "base_uri": "https://localhost:8080/"
        },
        "id": "JOcN7VPhgYgQ",
        "outputId": "efa33c73-9ce6-48ba-daca-8f486b89b4c4"
      },
      "outputs": [
        {
          "name": "stdout",
          "output_type": "stream",
          "text": [
            "Number of \n",
            " unique states: 3 \n",
            " unique stores: 10 \n",
            " unique departments: 7 \n",
            " unique item categories: 3 \n",
            " unique items: 3049\n"
          ]
        }
      ],
      "source": [
        "unique_items = len(sales_validation['item_id'].unique())\n",
        "unique_item_categories = len(sales_validation['cat_id'].unique())\n",
        "unique_departments = len(sales_validation['dept_id'].unique())\n",
        "unique_stores = len(sales_validation['store_id'].unique())\n",
        "unique_states = len(sales_validation['state_id'].unique())\n",
        "\n",
        "print(f'Number of \\n unique states: {unique_states} \\n unique stores: {unique_stores} \\n unique departments: {unique_departments} \\n unique item categories: {unique_item_categories} \\n unique items: {unique_items}')"
      ]
    },
    {
      "cell_type": "code",
      "execution_count": 150,
      "metadata": {
        "colab": {
          "base_uri": "https://localhost:8080/"
        },
        "id": "gQsuhDUAkhOv",
        "outputId": "131ee67e-bfa5-4cac-9514-19d79a3c41d8"
      },
      "outputs": [
        {
          "name": "stdout",
          "output_type": "stream",
          "text": [
            "['HOBBIES' 'HOUSEHOLD' 'FOODS']\n",
            "['HOBBIES_1' 'HOBBIES_2' 'HOUSEHOLD_1' 'HOUSEHOLD_2' 'FOODS_1' 'FOODS_2'\n",
            " 'FOODS_3']\n",
            "['CA_1' 'CA_2' 'CA_3' 'CA_4' 'TX_1' 'TX_2' 'TX_3' 'WI_1' 'WI_2' 'WI_3']\n",
            "['CA' 'TX' 'WI']\n"
          ]
        }
      ],
      "source": [
        "for col in [sales_validation['cat_id'],sales_validation['dept_id'],sales_validation['store_id'],sales_validation['state_id']]:\n",
        "  print (col.unique())"
      ]
    },
    {
      "cell_type": "code",
      "execution_count": 151,
      "metadata": {
        "colab": {
          "base_uri": "https://localhost:8080/"
        },
        "id": "k21p_4Se8ANn",
        "outputId": "7d4e5006-ca92-49fb-a772-b1e08168990a"
      },
      "outputs": [
        {
          "name": "stdout",
          "output_type": "stream",
          "text": [
            "Data types in sales_validation are: \n",
            " int64     1913\n",
            "object       6\n",
            "dtype: int64\n"
          ]
        }
      ],
      "source": [
        "# Inspection of data types\n",
        "print(\"Data types in sales_validation are: \\n\", sales_validation.dtypes.value_counts())"
      ]
    },
    {
      "cell_type": "code",
      "execution_count": 152,
      "metadata": {
        "colab": {
          "base_uri": "https://localhost:8080/"
        },
        "id": "mGMbQZA3Uzrc",
        "outputId": "e5b3dba6-ed3c-454f-ac00-568cf61aead9"
      },
      "outputs": [
        {
          "name": "stdout",
          "output_type": "stream",
          "text": [
            "The number of duplicated rows is 0.\n"
          ]
        }
      ],
      "source": [
        "duplicated_rows_count = sales_validation.duplicated().sum()\n",
        "print(f'The number of duplicated rows is {duplicated_rows_count}.')"
      ]
    },
    {
      "cell_type": "code",
      "execution_count": 153,
      "metadata": {
        "colab": {
          "base_uri": "https://localhost:8080/"
        },
        "id": "hUVNOsuBohpA",
        "outputId": "b56be4ac-e1c5-4858-eaad-eb5428c595c1"
      },
      "outputs": [
        {
          "data": {
            "text/plain": [
              "0        0\n",
              "20322    0\n",
              "20334    0\n",
              "20333    0\n",
              "20332    0\n",
              "        ..\n",
              "10159    0\n",
              "10158    0\n",
              "10157    0\n",
              "10156    0\n",
              "30489    0\n",
              "Length: 30490, dtype: int64"
            ]
          },
          "execution_count": 153,
          "metadata": {},
          "output_type": "execute_result"
        }
      ],
      "source": [
        "# Checking for null values column-wise\n",
        "sales_validation.isna().sum(axis=1).sort_values(ascending=False)"
      ]
    },
    {
      "cell_type": "code",
      "execution_count": 154,
      "metadata": {
        "colab": {
          "base_uri": "https://localhost:8080/"
        },
        "id": "XZIXLMQTryq0",
        "outputId": "cac2a880-2722-43df-b569-b2a15a2e1720"
      },
      "outputs": [
        {
          "data": {
            "text/plain": [
              "id        0\n",
              "d_1270    0\n",
              "d_1282    0\n",
              "d_1281    0\n",
              "d_1280    0\n",
              "         ..\n",
              "d_630     0\n",
              "d_629     0\n",
              "d_628     0\n",
              "d_627     0\n",
              "d_1913    0\n",
              "Length: 1919, dtype: int64"
            ]
          },
          "execution_count": 154,
          "metadata": {},
          "output_type": "execute_result"
        }
      ],
      "source": [
        "# Checking for null values row-wise\n",
        "sales_validation.isna().sum().sort_values(ascending=False)"
      ]
    },
    {
      "cell_type": "code",
      "execution_count": 155,
      "metadata": {
        "colab": {
          "base_uri": "https://localhost:8080/"
        },
        "id": "darh13TVJdMl",
        "outputId": "eb6b41d7-4f35-40b7-d8da-2f21d5b6961e"
      },
      "outputs": [
        {
          "data": {
            "text/plain": [
              "<bound method DataFrame.info of             date  wm_yr_wk    weekday  wday  month  year       d  \\\n",
              "0     2011-01-29     11101   Saturday     1      1  2011     d_1   \n",
              "1     2011-01-30     11101     Sunday     2      1  2011     d_2   \n",
              "2     2011-01-31     11101     Monday     3      1  2011     d_3   \n",
              "3     2011-02-01     11101    Tuesday     4      2  2011     d_4   \n",
              "4     2011-02-02     11101  Wednesday     5      2  2011     d_5   \n",
              "...          ...       ...        ...   ...    ...   ...     ...   \n",
              "1964  2016-06-15     11620  Wednesday     5      6  2016  d_1965   \n",
              "1965  2016-06-16     11620   Thursday     6      6  2016  d_1966   \n",
              "1966  2016-06-17     11620     Friday     7      6  2016  d_1967   \n",
              "1967  2016-06-18     11621   Saturday     1      6  2016  d_1968   \n",
              "1968  2016-06-19     11621     Sunday     2      6  2016  d_1969   \n",
              "\n",
              "      event_name_1 event_type_1  event_name_2 event_type_2  snap_CA  snap_TX  \\\n",
              "0              NaN          NaN           NaN          NaN        0        0   \n",
              "1              NaN          NaN           NaN          NaN        0        0   \n",
              "2              NaN          NaN           NaN          NaN        0        0   \n",
              "3              NaN          NaN           NaN          NaN        1        1   \n",
              "4              NaN          NaN           NaN          NaN        1        0   \n",
              "...            ...          ...           ...          ...      ...      ...   \n",
              "1964           NaN          NaN           NaN          NaN        0        1   \n",
              "1965           NaN          NaN           NaN          NaN        0        0   \n",
              "1966           NaN          NaN           NaN          NaN        0        0   \n",
              "1967           NaN          NaN           NaN          NaN        0        0   \n",
              "1968  NBAFinalsEnd     Sporting  Father's day     Cultural        0        0   \n",
              "\n",
              "      snap_WI  \n",
              "0           0  \n",
              "1           0  \n",
              "2           0  \n",
              "3           0  \n",
              "4           1  \n",
              "...       ...  \n",
              "1964        1  \n",
              "1965        0  \n",
              "1966        0  \n",
              "1967        0  \n",
              "1968        0  \n",
              "\n",
              "[1969 rows x 14 columns]>"
            ]
          },
          "execution_count": 155,
          "metadata": {},
          "output_type": "execute_result"
        }
      ],
      "source": [
        "calendar.info"
      ]
    },
    {
      "cell_type": "code",
      "execution_count": 156,
      "metadata": {
        "colab": {
          "base_uri": "https://localhost:8080/"
        },
        "id": "sObXrpa9R4cH",
        "outputId": "5ad27bf2-a789-45c5-df48-01ef18ddf099"
      },
      "outputs": [
        {
          "name": "stdout",
          "output_type": "stream",
          "text": [
            "Number of \n",
            " unique years: 6 \n",
            " unique events: 36 \n",
            " unique types of events: 5\n"
          ]
        }
      ],
      "source": [
        "unique_year = len(calendar['year'].unique())\n",
        "unique_events = len(calendar['event_name_1'].unique()) + len(calendar['event_name_2'].unique())\n",
        "unique_states = len(calendar['event_type_1'].unique())\n",
        "print(f'Number of \\n unique years: {unique_year} \\n unique events: {unique_events} \\n unique types of events: {unique_states}')"
      ]
    },
    {
      "cell_type": "code",
      "execution_count": 157,
      "metadata": {
        "colab": {
          "base_uri": "https://localhost:8080/"
        },
        "id": "MKFPVXx2Teo2",
        "outputId": "1551d74e-daee-4212-a003-c01a9bc7d79b"
      },
      "outputs": [
        {
          "name": "stdout",
          "output_type": "stream",
          "text": [
            "[2011 2012 2013 2014 2015 2016]\n",
            "[nan 'SuperBowl' 'ValentinesDay' 'PresidentsDay' 'LentStart' 'LentWeek2'\n",
            " 'StPatricksDay' 'Purim End' 'OrthodoxEaster' 'Pesach End' 'Cinco De Mayo'\n",
            " \"Mother's day\" 'MemorialDay' 'NBAFinalsStart' 'NBAFinalsEnd'\n",
            " \"Father's day\" 'IndependenceDay' 'Ramadan starts' 'Eid al-Fitr'\n",
            " 'LaborDay' 'ColumbusDay' 'Halloween' 'EidAlAdha' 'VeteransDay'\n",
            " 'Thanksgiving' 'Christmas' 'Chanukah End' 'NewYear' 'OrthodoxChristmas'\n",
            " 'MartinLutherKingDay' 'Easter']\n",
            "[nan 'Sporting' 'Cultural' 'National' 'Religious']\n",
            "[nan 'Easter' 'Cinco De Mayo' 'OrthodoxEaster' \"Father's day\"]\n"
          ]
        }
      ],
      "source": [
        "for col in [calendar['year'],calendar['event_name_1'],calendar['event_type_1'],calendar['event_name_2']]:\n",
        "  print (col.unique())"
      ]
    },
    {
      "cell_type": "code",
      "execution_count": 158,
      "metadata": {
        "colab": {
          "base_uri": "https://localhost:8080/"
        },
        "id": "0fZYOHgcT3Jj",
        "outputId": "408c6184-b3d9-4f69-db5b-ffee25f8dfb8"
      },
      "outputs": [
        {
          "name": "stdout",
          "output_type": "stream",
          "text": [
            "Data types in calendar are: \n",
            " object    7\n",
            "int64     7\n",
            "dtype: int64\n"
          ]
        }
      ],
      "source": [
        "# Inspection of data types\n",
        "print(\"Data types in calendar are: \\n\", calendar.dtypes.value_counts())"
      ]
    },
    {
      "cell_type": "code",
      "execution_count": 159,
      "metadata": {
        "colab": {
          "base_uri": "https://localhost:8080/"
        },
        "id": "tc_MY_0YUCfp",
        "outputId": "526d5dd9-ee6d-4ce7-8919-966d998381d3"
      },
      "outputs": [
        {
          "data": {
            "text/plain": [
              "date            object\n",
              "wm_yr_wk         int64\n",
              "weekday         object\n",
              "wday             int64\n",
              "month            int64\n",
              "year             int64\n",
              "d               object\n",
              "event_name_1    object\n",
              "event_type_1    object\n",
              "event_name_2    object\n",
              "event_type_2    object\n",
              "snap_CA          int64\n",
              "snap_TX          int64\n",
              "snap_WI          int64\n",
              "dtype: object"
            ]
          },
          "execution_count": 159,
          "metadata": {},
          "output_type": "execute_result"
        }
      ],
      "source": [
        "calendar.dtypes.head(14)"
      ]
    },
    {
      "cell_type": "code",
      "execution_count": 160,
      "metadata": {
        "colab": {
          "base_uri": "https://localhost:8080/"
        },
        "id": "HKiH7pE_URr6",
        "outputId": "5e5db1ab-bb04-4b09-e9ef-e21ab1a6639a"
      },
      "outputs": [
        {
          "name": "stdout",
          "output_type": "stream",
          "text": [
            "The number of duplicated rows is 0.\n"
          ]
        }
      ],
      "source": [
        "duplicated_rows_count = calendar.duplicated().sum()\n",
        "print(f'The number of duplicated rows is {duplicated_rows_count}.')"
      ]
    },
    {
      "cell_type": "code",
      "execution_count": 161,
      "metadata": {
        "colab": {
          "base_uri": "https://localhost:8080/"
        },
        "id": "mK6Ij8D5UT3m",
        "outputId": "b0926e1f-e0fd-4f4a-b5ed-d5acc49e610f"
      },
      "outputs": [
        {
          "data": {
            "text/plain": [
              "0       4\n",
              "1281    4\n",
              "1293    4\n",
              "1292    4\n",
              "1291    4\n",
              "       ..\n",
              "85      0\n",
              "1233    0\n",
              "827     0\n",
              "1177    0\n",
              "1968    0\n",
              "Length: 1969, dtype: int64"
            ]
          },
          "execution_count": 161,
          "metadata": {},
          "output_type": "execute_result"
        }
      ],
      "source": [
        "#Checking for null values column-wise\n",
        "calendar.isna().sum(axis=1).sort_values(ascending=False)"
      ]
    },
    {
      "cell_type": "code",
      "execution_count": 162,
      "metadata": {
        "colab": {
          "base_uri": "https://localhost:8080/"
        },
        "id": "X9sv3K-_UjpE",
        "outputId": "73939fb2-f50c-48fb-82a2-d31983b0fe71"
      },
      "outputs": [
        {
          "data": {
            "text/plain": [
              "event_name_2    1964\n",
              "event_type_2    1964\n",
              "event_name_1    1807\n",
              "event_type_1    1807\n",
              "date               0\n",
              "wm_yr_wk           0\n",
              "weekday            0\n",
              "wday               0\n",
              "month              0\n",
              "year               0\n",
              "d                  0\n",
              "snap_CA            0\n",
              "snap_TX            0\n",
              "snap_WI            0\n",
              "dtype: int64"
            ]
          },
          "execution_count": 162,
          "metadata": {},
          "output_type": "execute_result"
        }
      ],
      "source": [
        "# Checking for null values row-wise\n",
        "calendar.isna().sum().sort_values(ascending=False)"
      ]
    },
    {
      "cell_type": "code",
      "execution_count": 163,
      "metadata": {
        "colab": {
          "base_uri": "https://localhost:8080/"
        },
        "id": "YbGr0xfQljCO",
        "outputId": "ff99281b-675d-4fb9-92ed-ecc776991857"
      },
      "outputs": [
        {
          "data": {
            "text/plain": [
              "<bound method DataFrame.info of         store_id        item_id  wm_yr_wk  sell_price\n",
              "0           CA_1  HOBBIES_1_001     11325        9.58\n",
              "1           CA_1  HOBBIES_1_001     11326        9.58\n",
              "2           CA_1  HOBBIES_1_001     11327        8.26\n",
              "3           CA_1  HOBBIES_1_001     11328        8.26\n",
              "4           CA_1  HOBBIES_1_001     11329        8.26\n",
              "...          ...            ...       ...         ...\n",
              "6841116     WI_3    FOODS_3_827     11617        1.00\n",
              "6841117     WI_3    FOODS_3_827     11618        1.00\n",
              "6841118     WI_3    FOODS_3_827     11619        1.00\n",
              "6841119     WI_3    FOODS_3_827     11620        1.00\n",
              "6841120     WI_3    FOODS_3_827     11621        1.00\n",
              "\n",
              "[6841121 rows x 4 columns]>"
            ]
          },
          "execution_count": 163,
          "metadata": {},
          "output_type": "execute_result"
        }
      ],
      "source": [
        "sell_prices.info"
      ]
    },
    {
      "cell_type": "code",
      "execution_count": 164,
      "metadata": {
        "colab": {
          "base_uri": "https://localhost:8080/"
        },
        "id": "1iogIgiamThO",
        "outputId": "34730505-e3d8-45ac-b645-80057b12bba1"
      },
      "outputs": [
        {
          "name": "stdout",
          "output_type": "stream",
          "text": [
            "Number of \n",
            " unique stores: 10 \n",
            " unique item ids: 3049 \n",
            " unique id_weeks: 282 \n",
            " unique sell_prices 1048\n"
          ]
        }
      ],
      "source": [
        "unique_store_sell = len(sell_prices['store_id'].unique())\n",
        "unique_item_sell = len(sell_prices['item_id'].unique())\n",
        "unique_id_week = len(sell_prices['wm_yr_wk'].unique())\n",
        "unique_sell_price = len(sell_prices['sell_price'].unique())\n",
        "print(f'Number of \\n unique stores: {unique_store_sell} \\n unique item ids: {unique_item_sell} \\n unique id_weeks: {unique_id_week} \\n unique sell_prices {unique_sell_price}')"
      ]
    },
    {
      "cell_type": "code",
      "execution_count": 165,
      "metadata": {
        "colab": {
          "base_uri": "https://localhost:8080/"
        },
        "id": "3cFqXYyFmT1G",
        "outputId": "5d769ff5-ecc3-4f91-e668-e1e87ce67632"
      },
      "outputs": [
        {
          "name": "stdout",
          "output_type": "stream",
          "text": [
            "['CA_1' 'CA_2' 'CA_3' 'CA_4' 'TX_1' 'TX_2' 'TX_3' 'WI_1' 'WI_2' 'WI_3']\n",
            "['HOBBIES_1_001' 'HOBBIES_1_002' 'HOBBIES_1_003' ... 'FOODS_3_825'\n",
            " 'FOODS_3_826' 'FOODS_3_827']\n",
            "[11325 11326 11327 11328 11329 11330 11331 11332 11333 11334 11335 11336\n",
            " 11337 11338 11339 11340 11341 11342 11343 11344 11345 11346 11347 11348\n",
            " 11349 11350 11351 11352 11353 11401 11402 11403 11404 11405 11406 11407\n",
            " 11408 11409 11410 11411 11412 11413 11414 11415 11416 11417 11418 11419\n",
            " 11420 11421 11422 11423 11424 11425 11426 11427 11428 11429 11430 11431\n",
            " 11432 11433 11434 11435 11436 11437 11438 11439 11440 11441 11442 11443\n",
            " 11444 11445 11446 11447 11448 11449 11450 11451 11452 11501 11502 11503\n",
            " 11504 11505 11506 11507 11508 11509 11510 11511 11512 11513 11514 11515\n",
            " 11516 11517 11518 11519 11520 11521 11522 11523 11524 11525 11526 11527\n",
            " 11528 11529 11530 11531 11532 11533 11534 11535 11536 11537 11538 11539\n",
            " 11540 11541 11542 11543 11544 11545 11546 11547 11548 11549 11550 11551\n",
            " 11552 11601 11602 11603 11604 11605 11606 11607 11608 11609 11610 11611\n",
            " 11612 11613 11614 11615 11616 11617 11618 11619 11620 11621 11121 11122\n",
            " 11123 11124 11125 11126 11127 11128 11129 11130 11131 11132 11133 11134\n",
            " 11135 11136 11137 11138 11139 11140 11141 11142 11143 11144 11145 11146\n",
            " 11147 11148 11149 11150 11151 11152 11201 11202 11203 11204 11205 11206\n",
            " 11207 11208 11209 11210 11211 11212 11213 11214 11215 11216 11217 11218\n",
            " 11219 11220 11221 11222 11223 11224 11225 11226 11227 11228 11229 11230\n",
            " 11231 11232 11233 11234 11235 11236 11237 11238 11239 11240 11241 11242\n",
            " 11243 11244 11245 11246 11247 11248 11249 11250 11251 11252 11301 11302\n",
            " 11303 11304 11305 11306 11307 11308 11309 11310 11311 11312 11313 11314\n",
            " 11315 11316 11317 11318 11319 11320 11321 11322 11323 11324 11106 11107\n",
            " 11108 11109 11110 11111 11112 11113 11114 11115 11116 11117 11118 11119\n",
            " 11120 11101 11102 11103 11104 11105]\n",
            "[  9.58   8.26   8.38 ... 107.32   8.07  18.47]\n"
          ]
        }
      ],
      "source": [
        "for col in [sell_prices['store_id'],sell_prices['item_id'],sell_prices['wm_yr_wk'],sell_prices['sell_price']]:\n",
        "  print (col.unique())"
      ]
    },
    {
      "cell_type": "code",
      "execution_count": 166,
      "metadata": {
        "colab": {
          "base_uri": "https://localhost:8080/"
        },
        "id": "U70NK0V_mULc",
        "outputId": "5f83b042-7870-4575-b177-e1d6d92e26e7"
      },
      "outputs": [
        {
          "name": "stdout",
          "output_type": "stream",
          "text": [
            "Data types in sell_prices are: \n",
            " object     2\n",
            "int64      1\n",
            "float64    1\n",
            "dtype: int64\n"
          ]
        }
      ],
      "source": [
        "# Inspection of data types\n",
        "print(\"Data types in sell_prices are: \\n\", sell_prices.dtypes.value_counts())"
      ]
    },
    {
      "cell_type": "code",
      "execution_count": 167,
      "metadata": {
        "colab": {
          "base_uri": "https://localhost:8080/"
        },
        "id": "_jyem4D_mUcx",
        "outputId": "a7aa8138-8297-4348-cdda-6f4c55836f37"
      },
      "outputs": [
        {
          "data": {
            "text/plain": [
              "store_id       object\n",
              "item_id        object\n",
              "wm_yr_wk        int64\n",
              "sell_price    float64\n",
              "dtype: object"
            ]
          },
          "execution_count": 167,
          "metadata": {},
          "output_type": "execute_result"
        }
      ],
      "source": [
        "sell_prices.dtypes.head(14)"
      ]
    },
    {
      "cell_type": "code",
      "execution_count": 168,
      "metadata": {
        "colab": {
          "base_uri": "https://localhost:8080/"
        },
        "id": "OlqohLeYmUth",
        "outputId": "c79b6b86-736e-4db3-cdeb-1a9056a43c2c"
      },
      "outputs": [
        {
          "name": "stdout",
          "output_type": "stream",
          "text": [
            "The number of duplicated rows is 0.\n"
          ]
        }
      ],
      "source": [
        "duplicated_rows_count = sell_prices.duplicated().sum()\n",
        "print(f'The number of duplicated rows is {duplicated_rows_count}.')"
      ]
    },
    {
      "cell_type": "code",
      "execution_count": 169,
      "metadata": {
        "colab": {
          "base_uri": "https://localhost:8080/"
        },
        "id": "C0QbJNPGwT56",
        "outputId": "dc3f9f05-2a1d-4104-e5e2-b895c161ae0f"
      },
      "outputs": [
        {
          "data": {
            "text/plain": [
              "0          0\n",
              "4560678    0\n",
              "4560754    0\n",
              "4560753    0\n",
              "4560752    0\n",
              "          ..\n",
              "2280371    0\n",
              "2280370    0\n",
              "2280369    0\n",
              "2280368    0\n",
              "6841120    0\n",
              "Length: 6841121, dtype: int64"
            ]
          },
          "execution_count": 169,
          "metadata": {},
          "output_type": "execute_result"
        }
      ],
      "source": [
        "#Checking for null values column-wise\n",
        "sell_prices.isna().sum(axis=1).sort_values(ascending=False)"
      ]
    },
    {
      "cell_type": "code",
      "execution_count": 170,
      "metadata": {
        "colab": {
          "base_uri": "https://localhost:8080/"
        },
        "id": "RjRq7y5ZwUOE",
        "outputId": "a917d2ac-00ef-4b56-c139-e29eb8bbe1e4"
      },
      "outputs": [
        {
          "data": {
            "text/plain": [
              "store_id      0\n",
              "item_id       0\n",
              "wm_yr_wk      0\n",
              "sell_price    0\n",
              "dtype: int64"
            ]
          },
          "execution_count": 170,
          "metadata": {},
          "output_type": "execute_result"
        }
      ],
      "source": [
        "# Checking for null values row-wise\n",
        "sell_prices.isna().sum().sort_values(ascending=False)"
      ]
    },
    {
      "cell_type": "code",
      "execution_count": 171,
      "metadata": {
        "colab": {
          "base_uri": "https://localhost:8080/"
        },
        "id": "I4rciWNpedp2",
        "outputId": "a8b8a792-7805-408c-a572-b18aa18cb439"
      },
      "outputs": [
        {
          "name": "stdout",
          "output_type": "stream",
          "text": [
            "   Unnamed: 0        item_id    dept_id\n",
            "0          48  HOBBIES_1_049  HOBBIES_1\n",
            "1         381  HOBBIES_1_390  HOBBIES_1\n",
            "2         150  HOBBIES_1_155  HOBBIES_1\n",
            "3         287  HOBBIES_1_296  HOBBIES_1\n",
            "4         415  HOBBIES_1_424  HOBBIES_1\n"
          ]
        }
      ],
      "source": [
        "item = pd.read_csv('../data/raw/item_id_sample.csv') #asi bude treba nahravat opakovane\n",
        "print(item.head())"
      ]
    },
    {
      "cell_type": "code",
      "execution_count": 172,
      "metadata": {
        "colab": {
          "base_uri": "https://localhost:8080/"
        },
        "id": "IUq3jNGJTCaf",
        "outputId": "33778b86-f958-43e9-d8b1-b987afd34269"
      },
      "outputs": [
        {
          "name": "stdout",
          "output_type": "stream",
          "text": [
            "Unique values in Unnamed: 0:\n",
            "[  48  381  150  287  415   56  195  187  154  397  418  443  522  546\n",
            "  444  468  551  426  491  515  704  786 1082 1038  771  662  887  818\n",
            "  865  815 1241 1529 1562 1484 1229 1356 1521 1327 1155 1295 1627 1714\n",
            " 1676 1777 1782 1681 1783 1621 1745 1659 2149 2192 2002 2043 2145 1932\n",
            " 2153 2212 2082 1944 2403 2749 2883 2951 2979 2538 2629 2511 2442 2639]\n",
            "Unique values in item_id:\n",
            "['HOBBIES_1_049' 'HOBBIES_1_390' 'HOBBIES_1_155' 'HOBBIES_1_296'\n",
            " 'HOBBIES_1_424' 'HOBBIES_1_057' 'HOBBIES_1_202' 'HOBBIES_1_193'\n",
            " 'HOBBIES_1_159' 'HOBBIES_1_406' 'HOBBIES_2_003' 'HOBBIES_2_028'\n",
            " 'HOBBIES_2_107' 'HOBBIES_2_131' 'HOBBIES_2_029' 'HOBBIES_2_053'\n",
            " 'HOBBIES_2_136' 'HOBBIES_2_011' 'HOBBIES_2_076' 'HOBBIES_2_100'\n",
            " 'HOUSEHOLD_1_144' 'HOUSEHOLD_1_226' 'HOUSEHOLD_1_527' 'HOUSEHOLD_1_483'\n",
            " 'HOUSEHOLD_1_211' 'HOUSEHOLD_1_101' 'HOUSEHOLD_1_329' 'HOUSEHOLD_1_259'\n",
            " 'HOUSEHOLD_1_307' 'HOUSEHOLD_1_256' 'HOUSEHOLD_2_145' 'HOUSEHOLD_2_434'\n",
            " 'HOUSEHOLD_2_467' 'HOUSEHOLD_2_389' 'HOUSEHOLD_2_133' 'HOUSEHOLD_2_261'\n",
            " 'HOUSEHOLD_2_426' 'HOUSEHOLD_2_232' 'HOUSEHOLD_2_059' 'HOUSEHOLD_2_200'\n",
            " 'FOODS_1_017' 'FOODS_1_105' 'FOODS_1_066' 'FOODS_1_169' 'FOODS_1_174'\n",
            " 'FOODS_1_071' 'FOODS_1_175' 'FOODS_1_011' 'FOODS_1_136' 'FOODS_1_049'\n",
            " 'FOODS_2_323' 'FOODS_2_366' 'FOODS_2_176' 'FOODS_2_217' 'FOODS_2_319'\n",
            " 'FOODS_2_106' 'FOODS_2_327' 'FOODS_2_386' 'FOODS_2_256' 'FOODS_2_118'\n",
            " 'FOODS_3_179' 'FOODS_3_525' 'FOODS_3_659' 'FOODS_3_729' 'FOODS_3_758'\n",
            " 'FOODS_3_314' 'FOODS_3_405' 'FOODS_3_287' 'FOODS_3_218' 'FOODS_3_415']\n",
            "Unique values in dept_id:\n",
            "['HOBBIES_1' 'HOBBIES_2' 'HOUSEHOLD_1' 'HOUSEHOLD_2' 'FOODS_1' 'FOODS_2'\n",
            " 'FOODS_3']\n"
          ]
        }
      ],
      "source": [
        "# prints all unique values in all columns\n",
        "for column in item.columns:\n",
        "    unique_vals = item[column].unique()\n",
        "    print(f\"Unique values in {column}:\")\n",
        "    print(unique_vals)\n",
        "\n",
        "    # item dataset is probably some sort of list of item ids which we should include in our analysis"
      ]
    },
    {
      "cell_type": "code",
      "execution_count": 173,
      "metadata": {
        "colab": {
          "base_uri": "https://localhost:8080/"
        },
        "id": "GfylWPr6dQ36",
        "outputId": "3e723701-927b-4a21-b1cb-79bbe2d4d686"
      },
      "outputs": [
        {
          "name": "stdout",
          "output_type": "stream",
          "text": [
            "Data types in item_ids are: \n",
            " Unnamed: 0     int64\n",
            "item_id       object\n",
            "dept_id       object\n",
            "dtype: object\n"
          ]
        }
      ],
      "source": [
        "print(\"Data types in item_ids are: \\n\", item.dtypes)"
      ]
    },
    {
      "cell_type": "code",
      "execution_count": 174,
      "metadata": {
        "colab": {
          "base_uri": "https://localhost:8080/"
        },
        "id": "bVcVtvhodt-l",
        "outputId": "6c202817-f211-4004-ac8d-38fdf672ea87"
      },
      "outputs": [
        {
          "name": "stdout",
          "output_type": "stream",
          "text": [
            "Unique item_ids in 'sales_validation' that are NOT in 'item': ['HOBBIES_1_001' 'HOBBIES_1_002' 'HOBBIES_1_003' ... 'FOODS_3_825'\n",
            " 'FOODS_3_826' 'FOODS_3_827']\n",
            "Unique dept_ids in 'sales_validation' that are NOT in 'item': []\n"
          ]
        }
      ],
      "source": [
        "# lets find out what combination of item id and dept id are missing from item!\n",
        "unique_item_ids_not_in_item = sales_validation.loc[~sales_validation['item_id'].isin(item['item_id']), 'item_id'].unique()\n",
        "unique_dept_ids_not_in_item = sales_validation.loc[~sales_validation['dept_id'].isin(item['dept_id']), 'dept_id'].unique()\n",
        "print(\"Unique item_ids in 'sales_validation' that are NOT in 'item':\", unique_item_ids_not_in_item)\n",
        "print(\"Unique dept_ids in 'sales_validation' that are NOT in 'item':\", unique_dept_ids_not_in_item)\n"
      ]
    },
    {
      "cell_type": "code",
      "execution_count": 175,
      "metadata": {
        "colab": {
          "base_uri": "https://localhost:8080/"
        },
        "id": "9Td8M2xVeyy4",
        "outputId": "6c10be8d-fb3c-4c89-a141-f87cb122f7a0"
      },
      "outputs": [
        {
          "name": "stdout",
          "output_type": "stream",
          "text": [
            "Number of rows before filtering: 30490\n",
            "Number of rows after filtering: 700\n",
            "                              id        item_id    dept_id   cat_id store_id  \\\n",
            "0  HOBBIES_1_049_CA_1_validation  HOBBIES_1_049  HOBBIES_1  HOBBIES     CA_1   \n",
            "1  HOBBIES_1_049_CA_2_validation  HOBBIES_1_049  HOBBIES_1  HOBBIES     CA_2   \n",
            "2  HOBBIES_1_049_CA_3_validation  HOBBIES_1_049  HOBBIES_1  HOBBIES     CA_3   \n",
            "3  HOBBIES_1_049_CA_4_validation  HOBBIES_1_049  HOBBIES_1  HOBBIES     CA_4   \n",
            "4  HOBBIES_1_049_TX_1_validation  HOBBIES_1_049  HOBBIES_1  HOBBIES     TX_1   \n",
            "\n",
            "  state_id  d_1  d_2  d_3  d_4  ...  d_1904  d_1905  d_1906  d_1907  d_1908  \\\n",
            "0       CA    0    0    0    0  ...       0       0       1       0       1   \n",
            "1       CA    0    0    0    0  ...       0       1       0       0       0   \n",
            "2       CA    0    0    0    0  ...       0       2       0       1       2   \n",
            "3       CA    0    0    0    0  ...       2       0       0       1       0   \n",
            "4       TX    0    0    0    0  ...       0       1       1       0       0   \n",
            "\n",
            "   d_1909  d_1910  d_1911  d_1912  d_1913  \n",
            "0       1       0       1       0       0  \n",
            "1       1       0       0       1       2  \n",
            "2       1       1       0       1       4  \n",
            "3       0       0       0       0       0  \n",
            "4       0       0       0       1       0  \n",
            "\n",
            "[5 rows x 1919 columns]\n"
          ]
        }
      ],
      "source": [
        "# by using merge we can as join the two datasets together as filter out all the useless combinations\n",
        "filtered_df = pd.merge(sales_validation, item[['item_id', 'dept_id']],\n",
        "                                     how='inner',\n",
        "                                     on=['item_id', 'dept_id'])\n",
        "\n",
        "# diagnostic stuff\n",
        "print(\"Number of rows before filtering:\", len(sales_validation))\n",
        "print(\"Number of rows after filtering:\", len(filtered_df))\n",
        "\n",
        "print(filtered_df.head())\n"
      ]
    },
    {
      "cell_type": "code",
      "execution_count": 176,
      "metadata": {
        "colab": {
          "base_uri": "https://localhost:8080/"
        },
        "id": "4qRe6Ca3fl_H",
        "outputId": "1c065ff4-12dd-4b08-d071-41b92d9cf8f5"
      },
      "outputs": [
        {
          "name": "stdout",
          "output_type": "stream",
          "text": [
            "Index(['id', 'item_id', 'dept_id', 'cat_id', 'store_id', 'state_id', 'd_1',\n",
            "       'd_2', 'd_3', 'd_4',\n",
            "       ...\n",
            "       'd_1904', 'd_1905', 'd_1906', 'd_1907', 'd_1908', 'd_1909', 'd_1910',\n",
            "       'd_1911', 'd_1912', 'd_1913'],\n",
            "      dtype='object', length=1919)\n",
            "(700, 1919)\n"
          ]
        }
      ],
      "source": [
        "print(filtered_df.columns)\n",
        "print(filtered_df.shape)"
      ]
    },
    {
      "cell_type": "code",
      "execution_count": 177,
      "metadata": {
        "colab": {
          "base_uri": "https://localhost:8080/"
        },
        "id": "9uCZOjdQfRVd",
        "outputId": "6c54efb4-47d9-48d5-870c-6def7eaddbb4"
      },
      "outputs": [
        {
          "name": "stdout",
          "output_type": "stream",
          "text": [
            "         date  wm_yr_wk    weekday  wday  month  year    d event_name_1  \\\n",
            "0  2011-01-29     11101   Saturday     1      1  2011  d_1          NaN   \n",
            "1  2011-01-30     11101     Sunday     2      1  2011  d_2          NaN   \n",
            "2  2011-01-31     11101     Monday     3      1  2011  d_3          NaN   \n",
            "3  2011-02-01     11101    Tuesday     4      2  2011  d_4          NaN   \n",
            "4  2011-02-02     11101  Wednesday     5      2  2011  d_5          NaN   \n",
            "\n",
            "  event_type_1 event_name_2 event_type_2  snap_CA  snap_TX  snap_WI  \n",
            "0          NaN          NaN          NaN        0        0        0  \n",
            "1          NaN          NaN          NaN        0        0        0  \n",
            "2          NaN          NaN          NaN        0        0        0  \n",
            "3          NaN          NaN          NaN        1        1        0  \n",
            "4          NaN          NaN          NaN        1        0        1  \n",
            "1969\n"
          ]
        }
      ],
      "source": [
        "print(calendar.head())\n",
        "print(len(calendar))"
      ]
    },
    {
      "cell_type": "code",
      "execution_count": 178,
      "metadata": {
        "colab": {
          "base_uri": "https://localhost:8080/"
        },
        "id": "VHzHPsK2gySw",
        "outputId": "65c409f7-bd64-455b-9c19-c3d1f5f41d4b"
      },
      "outputs": [
        {
          "name": "stdout",
          "output_type": "stream",
          "text": [
            "                              id        item_id    dept_id   cat_id store_id  \\\n",
            "0  HOBBIES_1_049_CA_1_validation  HOBBIES_1_049  HOBBIES_1  HOBBIES     CA_1   \n",
            "1  HOBBIES_1_049_CA_2_validation  HOBBIES_1_049  HOBBIES_1  HOBBIES     CA_2   \n",
            "2  HOBBIES_1_049_CA_3_validation  HOBBIES_1_049  HOBBIES_1  HOBBIES     CA_3   \n",
            "3  HOBBIES_1_049_CA_4_validation  HOBBIES_1_049  HOBBIES_1  HOBBIES     CA_4   \n",
            "4  HOBBIES_1_049_TX_1_validation  HOBBIES_1_049  HOBBIES_1  HOBBIES     TX_1   \n",
            "\n",
            "  state_id    d  sales  \n",
            "0       CA  d_1      0  \n",
            "1       CA  d_1      0  \n",
            "2       CA  d_1      0  \n",
            "3       CA  d_1      0  \n",
            "4       TX  d_1      0  \n",
            "['d_1' 'd_2' 'd_3' ... 'd_1911' 'd_1912' 'd_1913']\n",
            "[ 0  2  5  1  3 16  4 17  7  6 10  9 12 13  8 18 11 14 19 43 23 24 20 15\n",
            " 41 22 37 21 27 36 61 30 25 34 31 28 26 35 39 84 33 29 48]\n",
            "1339100\n"
          ]
        }
      ],
      "source": [
        "melted_filtered_df = pd.melt(filtered_df,\n",
        "                             id_vars=['id', 'item_id', 'dept_id', 'cat_id', 'store_id', 'state_id'],\n",
        "                             var_name='d',\n",
        "                             value_name='sales')\n",
        "print(melted_filtered_df.head())\n",
        "print(melted_filtered_df.d.unique()) # error check\n",
        "print(melted_filtered_df.sales.unique())\n",
        "print(len(melted_filtered_df))"
      ]
    },
    {
      "cell_type": "code",
      "execution_count": 179,
      "metadata": {
        "colab": {
          "base_uri": "https://localhost:8080/"
        },
        "id": "qBE5e7gNg5RU",
        "outputId": "fd431038-db91-49bc-aba9-738db8dd5124"
      },
      "outputs": [
        {
          "name": "stdout",
          "output_type": "stream",
          "text": [
            "                              id        item_id    dept_id   cat_id store_id  \\\n",
            "0  HOBBIES_1_049_CA_1_validation  HOBBIES_1_049  HOBBIES_1  HOBBIES     CA_1   \n",
            "1  HOBBIES_1_049_CA_2_validation  HOBBIES_1_049  HOBBIES_1  HOBBIES     CA_2   \n",
            "2  HOBBIES_1_049_CA_3_validation  HOBBIES_1_049  HOBBIES_1  HOBBIES     CA_3   \n",
            "3  HOBBIES_1_049_CA_4_validation  HOBBIES_1_049  HOBBIES_1  HOBBIES     CA_4   \n",
            "4  HOBBIES_1_049_TX_1_validation  HOBBIES_1_049  HOBBIES_1  HOBBIES     TX_1   \n",
            "\n",
            "  state_id    d  sales        date  wm_yr_wk  ... wday  month  year  \\\n",
            "0       CA  d_1      0  2011-01-29     11101  ...    1      1  2011   \n",
            "1       CA  d_1      0  2011-01-29     11101  ...    1      1  2011   \n",
            "2       CA  d_1      0  2011-01-29     11101  ...    1      1  2011   \n",
            "3       CA  d_1      0  2011-01-29     11101  ...    1      1  2011   \n",
            "4       TX  d_1      0  2011-01-29     11101  ...    1      1  2011   \n",
            "\n",
            "   event_name_1 event_type_1 event_name_2 event_type_2 snap_CA  snap_TX  \\\n",
            "0           NaN          NaN          NaN          NaN       0        0   \n",
            "1           NaN          NaN          NaN          NaN       0        0   \n",
            "2           NaN          NaN          NaN          NaN       0        0   \n",
            "3           NaN          NaN          NaN          NaN       0        0   \n",
            "4           NaN          NaN          NaN          NaN       0        0   \n",
            "\n",
            "   snap_WI  \n",
            "0        0  \n",
            "1        0  \n",
            "2        0  \n",
            "3        0  \n",
            "4        0  \n",
            "\n",
            "[5 rows x 21 columns]\n",
            "Index(['id', 'item_id', 'dept_id', 'cat_id', 'store_id', 'state_id', 'd',\n",
            "       'sales', 'date', 'wm_yr_wk', 'weekday', 'wday', 'month', 'year',\n",
            "       'event_name_1', 'event_type_1', 'event_name_2', 'event_type_2',\n",
            "       'snap_CA', 'snap_TX', 'snap_WI'],\n",
            "      dtype='object')\n",
            "1339100\n"
          ]
        }
      ],
      "source": [
        "merged_df = pd.merge(melted_filtered_df, calendar, how='inner', on='d')\n",
        "print(merged_df.head())\n",
        "print(merged_df.columns) # see we have four different columns connected into events.let's make them 2!\n",
        "print(len(merged_df))"
      ]
    },
    {
      "cell_type": "code",
      "execution_count": 180,
      "metadata": {
        "colab": {
          "base_uri": "https://localhost:8080/"
        },
        "id": "xpIbe5tbiutC",
        "outputId": "5de320ff-09b1-4d81-85fb-ae72761f6d77"
      },
      "outputs": [
        {
          "name": "stdout",
          "output_type": "stream",
          "text": [
            "[nan 'Sporting' 'Cultural' 'National' 'Religious']\n",
            "[nan 'Cultural' 'Religious']\n",
            "[nan 'SuperBowl' 'ValentinesDay' 'PresidentsDay' 'LentStart' 'LentWeek2'\n",
            " 'StPatricksDay' 'Purim End' 'OrthodoxEaster' 'Pesach End' 'Cinco De Mayo'\n",
            " \"Mother's day\" 'MemorialDay' 'NBAFinalsStart' 'NBAFinalsEnd'\n",
            " \"Father's day\" 'IndependenceDay' 'Ramadan starts' 'Eid al-Fitr'\n",
            " 'LaborDay' 'ColumbusDay' 'Halloween' 'EidAlAdha' 'VeteransDay'\n",
            " 'Thanksgiving' 'Christmas' 'Chanukah End' 'NewYear' 'OrthodoxChristmas'\n",
            " 'MartinLutherKingDay' 'Easter']\n",
            "[nan 'Easter' 'Cinco De Mayo' 'OrthodoxEaster' \"Father's day\"]\n"
          ]
        }
      ],
      "source": [
        "print(merged_df.event_type_1.unique())\n",
        "print(merged_df.event_type_2.unique())\n",
        "print(merged_df.event_name_1.unique())\n",
        "print(merged_df.event_name_2.unique())"
      ]
    },
    {
      "cell_type": "code",
      "execution_count": 181,
      "metadata": {
        "id": "jG2je2t_iX4Y"
      },
      "outputs": [],
      "source": [
        "# melt (aka make them long-form rather than wide-form)\n",
        "df_event_name_melted = pd.melt(merged_df,\n",
        "                               id_vars=['id', 'item_id', 'dept_id', 'cat_id', 'store_id', 'state_id', 'd', 'sales', 'date'],\n",
        "                               value_vars=['event_name_1', 'event_name_2'],\n",
        "                               var_name='event_name_type',\n",
        "                               value_name='event_name')\n",
        "df_event_type_melted = pd.melt(merged_df,\n",
        "                               id_vars=['id', 'item_id', 'dept_id', 'cat_id', 'store_id', 'state_id', 'd', 'sales', 'date'],\n",
        "                               value_vars=['event_type_1', 'event_type_2'],\n",
        "                               var_name='event_type_type',\n",
        "                               value_name='event_type')\n",
        "df_event_name_melted.drop('event_name_type', axis=1, inplace=True)\n",
        "df_event_type_melted.drop('event_type_type', axis=1, inplace=True)\n",
        "\n",
        "sort_columns = ['id', 'item_id', 'dept_id', 'cat_id', 'store_id', 'state_id', 'd', 'sales', 'date']\n",
        "\n",
        "df_event_name_melted.sort_values(by=sort_columns, inplace=True)\n",
        "df_event_type_melted.sort_values(by=sort_columns, inplace=True)\n",
        "\n",
        "cols_event_name = ['event_name']\n",
        "cols_event_type = ['event_type']\n",
        "\n",
        "final_df = pd.concat([df_event_name_melted[sort_columns],\n",
        "                      merged_df[['wm_yr_wk', 'weekday', 'wday', 'month', 'year', 'snap_CA', 'snap_TX', 'snap_WI']],\n",
        "                      df_event_name_melted[cols_event_name],\n",
        "                      df_event_type_melted[cols_event_type]], axis=1)\n",
        "final_df.dropna(subset=['weekday', 'month'], inplace=True)\n"
      ]
    },
    {
      "cell_type": "code",
      "execution_count": 182,
      "metadata": {
        "colab": {
          "base_uri": "https://localhost:8080/"
        },
        "id": "chGLmjx4iiga",
        "outputId": "45d795f4-d5d4-4c7f-9c92-3a27e5ebe592"
      },
      "outputs": [
        {
          "name": "stdout",
          "output_type": "stream",
          "text": [
            "                              id        item_id    dept_id   cat_id store_id  \\\n",
            "0  HOBBIES_1_049_CA_1_validation  HOBBIES_1_049  HOBBIES_1  HOBBIES     CA_1   \n",
            "1  HOBBIES_1_049_CA_2_validation  HOBBIES_1_049  HOBBIES_1  HOBBIES     CA_2   \n",
            "2  HOBBIES_1_049_CA_3_validation  HOBBIES_1_049  HOBBIES_1  HOBBIES     CA_3   \n",
            "3  HOBBIES_1_049_CA_4_validation  HOBBIES_1_049  HOBBIES_1  HOBBIES     CA_4   \n",
            "4  HOBBIES_1_049_TX_1_validation  HOBBIES_1_049  HOBBIES_1  HOBBIES     TX_1   \n",
            "\n",
            "  state_id    d  sales        date  wm_yr_wk   weekday  wday  month    year  \\\n",
            "0       CA  d_1      0  2011-01-29   11101.0  Saturday   1.0    1.0  2011.0   \n",
            "1       CA  d_1      0  2011-01-29   11101.0  Saturday   1.0    1.0  2011.0   \n",
            "2       CA  d_1      0  2011-01-29   11101.0  Saturday   1.0    1.0  2011.0   \n",
            "3       CA  d_1      0  2011-01-29   11101.0  Saturday   1.0    1.0  2011.0   \n",
            "4       TX  d_1      0  2011-01-29   11101.0  Saturday   1.0    1.0  2011.0   \n",
            "\n",
            "   snap_CA  snap_TX  snap_WI event_name event_type  \n",
            "0      0.0      0.0      0.0        NaN        NaN  \n",
            "1      0.0      0.0      0.0        NaN        NaN  \n",
            "2      0.0      0.0      0.0        NaN        NaN  \n",
            "3      0.0      0.0      0.0        NaN        NaN  \n",
            "4      0.0      0.0      0.0        NaN        NaN  \n",
            "Index(['id', 'item_id', 'dept_id', 'cat_id', 'store_id', 'state_id', 'd',\n",
            "       'sales', 'date', 'wm_yr_wk', 'weekday', 'wday', 'month', 'year',\n",
            "       'snap_CA', 'snap_TX', 'snap_WI', 'event_name', 'event_type'],\n",
            "      dtype='object')\n",
            "[nan 'Sporting' 'Cultural' 'National' 'Religious']\n",
            "[nan 'SuperBowl' 'ValentinesDay' 'PresidentsDay' 'LentStart' 'LentWeek2'\n",
            " 'StPatricksDay' 'Purim End' 'OrthodoxEaster' 'Pesach End' 'Cinco De Mayo'\n",
            " \"Mother's day\" 'MemorialDay' 'NBAFinalsStart' 'NBAFinalsEnd'\n",
            " \"Father's day\" 'IndependenceDay' 'Ramadan starts' 'Eid al-Fitr'\n",
            " 'LaborDay' 'ColumbusDay' 'Halloween' 'EidAlAdha' 'VeteransDay'\n",
            " 'Thanksgiving' 'Christmas' 'Chanukah End' 'NewYear' 'OrthodoxChristmas'\n",
            " 'MartinLutherKingDay' 'Easter']\n"
          ]
        }
      ],
      "source": [
        "print(final_df.head())\n",
        "print(final_df.columns)\n",
        "print(final_df.event_type.unique()) #error check\n",
        "print(final_df.event_name.unique()) #error check"
      ]
    },
    {
      "cell_type": "code",
      "execution_count": 183,
      "metadata": {
        "colab": {
          "base_uri": "https://localhost:8080/"
        },
        "id": "YlrwH3EEjssq",
        "outputId": "5d2a9a6e-753b-4816-a84d-ae8bdb14a973"
      },
      "outputs": [
        {
          "name": "stdout",
          "output_type": "stream",
          "text": [
            "Sum of NaN values in each column:\n",
            "id                  0\n",
            "item_id             0\n",
            "dept_id             0\n",
            "cat_id              0\n",
            "store_id            0\n",
            "state_id            0\n",
            "d                   0\n",
            "sales               0\n",
            "date                0\n",
            "wm_yr_wk            0\n",
            "weekday             0\n",
            "wday                0\n",
            "month               0\n",
            "year                0\n",
            "snap_CA             0\n",
            "snap_TX             0\n",
            "snap_WI             0\n",
            "event_name    1231300\n",
            "event_type    1231300\n",
            "dtype: int64\n",
            "total rows: 1339100\n"
          ]
        }
      ],
      "source": [
        "nan_count = final_df.isna().sum()\n",
        "\n",
        "# sum of nan values in all columns\n",
        "print(\"Sum of NaN values in each column:\")\n",
        "print(nan_count)\n",
        "print(f\"total rows: {len(final_df)}\")"
      ]
    },
    {
      "cell_type": "code",
      "execution_count": 184,
      "metadata": {
        "colab": {
          "base_uri": "https://localhost:8080/"
        },
        "id": "SSY9i9ddsC50",
        "outputId": "1790f139-463d-4933-e168-2bb3a2340bf1"
      },
      "outputs": [
        {
          "name": "stdout",
          "output_type": "stream",
          "text": [
            "  store_id        item_id  wm_yr_wk  sell_price\n",
            "0     CA_1  HOBBIES_1_001     11325        9.58\n",
            "1     CA_1  HOBBIES_1_001     11326        9.58\n",
            "2     CA_1  HOBBIES_1_001     11327        8.26\n",
            "3     CA_1  HOBBIES_1_001     11328        8.26\n",
            "4     CA_1  HOBBIES_1_001     11329        8.26\n",
            "store_id       object\n",
            "item_id        object\n",
            "wm_yr_wk        int64\n",
            "sell_price    float64\n",
            "dtype: object\n"
          ]
        }
      ],
      "source": [
        "# sell prices dataframe is still missing, so here we go!\n",
        "print(sell_prices.head())\n",
        "print(sell_prices.dtypes)"
      ]
    },
    {
      "cell_type": "code",
      "execution_count": 185,
      "metadata": {
        "colab": {
          "base_uri": "https://localhost:8080/"
        },
        "id": "6fmntdrrsIAy",
        "outputId": "0e77efd4-9cc9-4763-a91b-bd71e34ff853"
      },
      "outputs": [
        {
          "name": "stdout",
          "output_type": "stream",
          "text": [
            "                              id        item_id    dept_id   cat_id store_id  \\\n",
            "0  HOBBIES_1_049_CA_1_validation  HOBBIES_1_049  HOBBIES_1  HOBBIES     CA_1   \n",
            "1  HOBBIES_1_049_CA_2_validation  HOBBIES_1_049  HOBBIES_1  HOBBIES     CA_2   \n",
            "2  HOBBIES_1_049_CA_3_validation  HOBBIES_1_049  HOBBIES_1  HOBBIES     CA_3   \n",
            "3  HOBBIES_1_049_CA_4_validation  HOBBIES_1_049  HOBBIES_1  HOBBIES     CA_4   \n",
            "4  HOBBIES_1_049_TX_1_validation  HOBBIES_1_049  HOBBIES_1  HOBBIES     TX_1   \n",
            "\n",
            "  state_id    d  sales        date wm_yr_wk   weekday  wday  month    year  \\\n",
            "0       CA  d_1      0  2011-01-29    11101  Saturday   1.0    1.0  2011.0   \n",
            "1       CA  d_1      0  2011-01-29    11101  Saturday   1.0    1.0  2011.0   \n",
            "2       CA  d_1      0  2011-01-29    11101  Saturday   1.0    1.0  2011.0   \n",
            "3       CA  d_1      0  2011-01-29    11101  Saturday   1.0    1.0  2011.0   \n",
            "4       TX  d_1      0  2011-01-29    11101  Saturday   1.0    1.0  2011.0   \n",
            "\n",
            "   snap_CA  snap_TX  snap_WI event_name event_type  \n",
            "0      0.0      0.0      0.0        NaN        NaN  \n",
            "1      0.0      0.0      0.0        NaN        NaN  \n",
            "2      0.0      0.0      0.0        NaN        NaN  \n",
            "3      0.0      0.0      0.0        NaN        NaN  \n",
            "4      0.0      0.0      0.0        NaN        NaN  \n"
          ]
        }
      ],
      "source": [
        "#print(final_df.head()) # the wm_yr_wk column is float and has decimal places, in comparison to sell_prices wm_yr_wk col which does not have decimal places\n",
        "#print(final_df.dtypes)\n",
        "final_df['wm_yr_wk'] = final_df['wm_yr_wk'].astype(int)\n",
        "final_df['wm_yr_wk'] = final_df['wm_yr_wk'].astype('object')\n",
        "print(final_df.head())"
      ]
    },
    {
      "cell_type": "code",
      "execution_count": 186,
      "metadata": {
        "colab": {
          "base_uri": "https://localhost:8080/"
        },
        "id": "h4ECjfT_uxO3",
        "outputId": "0907d2e1-bc90-4a4f-e638-bb8b52b59f98"
      },
      "outputs": [
        {
          "name": "stdout",
          "output_type": "stream",
          "text": [
            "store_id      0\n",
            "item_id       0\n",
            "wm_yr_wk      0\n",
            "sell_price    0\n",
            "dtype: int64\n"
          ]
        }
      ],
      "source": [
        "print(sell_prices.isna().sum())"
      ]
    },
    {
      "cell_type": "code",
      "execution_count": 187,
      "metadata": {
        "id": "ISaOtAKWs_dq"
      },
      "outputs": [],
      "source": [
        "final_df = pd.merge(final_df,\n",
        "                    sell_prices[['store_id', 'item_id', 'wm_yr_wk', 'sell_price']],\n",
        "                    on=['store_id', 'item_id', 'wm_yr_wk'],\n",
        "                    how='left')"
      ]
    },
    {
      "cell_type": "code",
      "execution_count": 188,
      "metadata": {
        "colab": {
          "base_uri": "https://localhost:8080/"
        },
        "id": "oj_Dqh1R0Qtx",
        "outputId": "018358c3-2593-4b02-c5ed-4fdc44949298"
      },
      "outputs": [
        {
          "name": "stdout",
          "output_type": "stream",
          "text": [
            "                              id        item_id    dept_id   cat_id store_id  \\\n",
            "0  HOBBIES_1_049_CA_1_validation  HOBBIES_1_049  HOBBIES_1  HOBBIES     CA_1   \n",
            "1  HOBBIES_1_049_CA_2_validation  HOBBIES_1_049  HOBBIES_1  HOBBIES     CA_2   \n",
            "2  HOBBIES_1_049_CA_3_validation  HOBBIES_1_049  HOBBIES_1  HOBBIES     CA_3   \n",
            "3  HOBBIES_1_049_CA_4_validation  HOBBIES_1_049  HOBBIES_1  HOBBIES     CA_4   \n",
            "4  HOBBIES_1_049_TX_1_validation  HOBBIES_1_049  HOBBIES_1  HOBBIES     TX_1   \n",
            "\n",
            "  state_id    d  sales        date wm_yr_wk   weekday  wday  month    year  \\\n",
            "0       CA  d_1      0  2011-01-29    11101  Saturday   1.0    1.0  2011.0   \n",
            "1       CA  d_1      0  2011-01-29    11101  Saturday   1.0    1.0  2011.0   \n",
            "2       CA  d_1      0  2011-01-29    11101  Saturday   1.0    1.0  2011.0   \n",
            "3       CA  d_1      0  2011-01-29    11101  Saturday   1.0    1.0  2011.0   \n",
            "4       TX  d_1      0  2011-01-29    11101  Saturday   1.0    1.0  2011.0   \n",
            "\n",
            "   snap_CA  snap_TX  snap_WI event_name event_type  sell_price  \n",
            "0      0.0      0.0      0.0        NaN        NaN         NaN  \n",
            "1      0.0      0.0      0.0        NaN        NaN         NaN  \n",
            "2      0.0      0.0      0.0        NaN        NaN         NaN  \n",
            "3      0.0      0.0      0.0        NaN        NaN         NaN  \n",
            "4      0.0      0.0      0.0        NaN        NaN         NaN  \n"
          ]
        }
      ],
      "source": [
        "print(final_df.head())"
      ]
    },
    {
      "cell_type": "code",
      "execution_count": 189,
      "metadata": {
        "colab": {
          "base_uri": "https://localhost:8080/"
        },
        "id": "IyJrIGxTt_N_",
        "outputId": "15cfc6ab-ceff-4284-cfab-203bf77fe7cf"
      },
      "outputs": [
        {
          "name": "stdout",
          "output_type": "stream",
          "text": [
            "id                  0\n",
            "item_id             0\n",
            "dept_id             0\n",
            "cat_id              0\n",
            "store_id            0\n",
            "state_id            0\n",
            "d                   0\n",
            "sales               0\n",
            "date                0\n",
            "wm_yr_wk            0\n",
            "weekday             0\n",
            "wday                0\n",
            "month               0\n",
            "year                0\n",
            "snap_CA             0\n",
            "snap_TX             0\n",
            "snap_WI             0\n",
            "event_name    1231300\n",
            "event_type    1231300\n",
            "sell_price     202188\n",
            "dtype: int64\n",
            "id            1339100\n",
            "item_id       1339100\n",
            "dept_id       1339100\n",
            "cat_id        1339100\n",
            "store_id      1339100\n",
            "state_id      1339100\n",
            "d             1339100\n",
            "sales         1339100\n",
            "date          1339100\n",
            "wm_yr_wk      1339100\n",
            "weekday       1339100\n",
            "wday          1339100\n",
            "month         1339100\n",
            "year          1339100\n",
            "snap_CA       1339100\n",
            "snap_TX       1339100\n",
            "snap_WI       1339100\n",
            "event_name     107800\n",
            "event_type     107800\n",
            "sell_price    1136912\n",
            "dtype: int64\n",
            "(1339100, 20)\n",
            "2016-04-24\n"
          ]
        }
      ],
      "source": [
        "final_df = final_df.drop_duplicates()\n",
        "print(final_df.isna().sum())\n",
        "\n",
        "print(final_df.notna().sum())\n",
        "print(final_df.shape)\n",
        "print(final_df.date.max())"
      ]
    },
    {
      "cell_type": "code",
      "execution_count": 190,
      "metadata": {
        "colab": {
          "base_uri": "https://localhost:8080/",
          "height": 446
        },
        "id": "6vwm_GAiugtK",
        "outputId": "f99e0ed5-1156-4a52-e8af-0662704b08e8"
      },
      "outputs": [
        {
          "name": "stdout",
          "output_type": "stream",
          "text": [
            "id                 0\n",
            "item_id            0\n",
            "dept_id            0\n",
            "cat_id             0\n",
            "store_id           0\n",
            "state_id           0\n",
            "d                  0\n",
            "sales              0\n",
            "date               0\n",
            "wm_yr_wk           0\n",
            "weekday            0\n",
            "wday               0\n",
            "month              0\n",
            "year               0\n",
            "snap_CA            0\n",
            "snap_TX            0\n",
            "snap_WI            0\n",
            "event_name    185439\n",
            "event_type    185439\n",
            "sell_price    202188\n",
            "dtype: int64\n"
          ]
        },
        {
          "data": {
            "text/plain": [
              "'2015-12-25'"
            ]
          },
          "execution_count": 190,
          "metadata": {},
          "output_type": "execute_result"
        }
      ],
      "source": [
        "filtered_df = final_df[final_df['sell_price'].isna()]\n",
        "filtered_df.drop_duplicates()\n",
        "print(filtered_df.isna().sum())\n",
        "filtered_df.date.max()\n"
      ]
    },
    {
      "cell_type": "code",
      "execution_count": 191,
      "metadata": {
        "colab": {
          "base_uri": "https://localhost:8080/"
        },
        "id": "LaG4nAYVwRlp",
        "outputId": "a0d5992c-409c-40d1-81ca-533502e54c1f"
      },
      "outputs": [
        {
          "name": "stdout",
          "output_type": "stream",
          "text": [
            "Unique item_ids in 'sales_validation' that are NOT in 'item': []\n",
            "Unique dept_ids in 'sales_validation' that are NOT in 'item': []\n"
          ]
        }
      ],
      "source": [
        "unique_item_ids_not_in_item = filtered_df.loc[~filtered_df['item_id'].isin(item['item_id']), 'item_id'].unique()\n",
        "unique_dept_ids_not_in_item = filtered_df.loc[~filtered_df['dept_id'].isin(item['dept_id']), 'dept_id'].unique()\n",
        "print(\"Unique item_ids in 'sales_validation' that are NOT in 'item':\", unique_item_ids_not_in_item)\n",
        "print(\"Unique dept_ids in 'sales_validation' that are NOT in 'item':\", unique_dept_ids_not_in_item)\n"
      ]
    },
    {
      "cell_type": "code",
      "execution_count": 192,
      "metadata": {
        "colab": {
          "base_uri": "https://localhost:8080/"
        },
        "id": "fpaeA0-9zcan",
        "outputId": "0c2ce119-6ad7-458f-a8cf-390678344803"
      },
      "outputs": [
        {
          "name": "stdout",
          "output_type": "stream",
          "text": [
            "0             1\n",
            "1             1\n",
            "2             1\n",
            "3             1\n",
            "4             1\n",
            "           ... \n",
            "1339095    1913\n",
            "1339096    1913\n",
            "1339097    1913\n",
            "1339098    1913\n",
            "1339099    1913\n",
            "Name: d, Length: 1339100, dtype: int32\n"
          ]
        }
      ],
      "source": [
        "#change column d type from string to inteager\n",
        "final_df.d = final_df.d.str.replace(\"d_\",\"\")\n",
        "final_df.d = final_df.d.astype(int)\n",
        "print(final_df.d)"
      ]
    },
    {
      "cell_type": "code",
      "execution_count": 193,
      "metadata": {},
      "outputs": [],
      "source": [
        "final_df['date'] = pd.to_datetime(final_df['date']) \n",
        "final_df[\"month\"] = final_df['date'].dt.strftime('%B')"
      ]
    },
    {
      "cell_type": "code",
      "execution_count": 194,
      "metadata": {
        "colab": {
          "base_uri": "https://localhost:8080/"
        },
        "id": "cW8yrjl7Erj3",
        "outputId": "1d53be00-69fd-49ba-c0eb-b09214d3cb24"
      },
      "outputs": [
        {
          "name": "stdout",
          "output_type": "stream",
          "text": [
            "Count of na values in column turnover: 0\n"
          ]
        }
      ],
      "source": [
        "#new column turnover\n",
        "final_df[\"turnover\"] = final_df.sales * final_df.sell_price\n",
        "final_df = final_df.dropna(subset=[\"turnover\"])\n",
        "print(f\"Count of na values in column turnover: {final_df.turnover.isna().sum()}\")"
      ]
    },
    {
      "cell_type": "code",
      "execution_count": 195,
      "metadata": {
        "colab": {
          "base_uri": "https://localhost:8080/"
        },
        "id": "1wshL6oyGCUJ",
        "outputId": "a2266b1b-e2d8-4b8e-defe-f3d2ae6abb05"
      },
      "outputs": [
        {
          "data": {
            "text/plain": [
              "1078812"
            ]
          },
          "execution_count": 195,
          "metadata": {},
          "output_type": "execute_result"
        }
      ],
      "source": [
        "#Drop rows where date is higher than 1.2.2016\n",
        "final_df = final_df[final_df.date <= \"2016-02-01\"]\n",
        "\n",
        "#Length of dataframe after drop\n",
        "len(final_df)"
      ]
    },
    {
      "cell_type": "code",
      "execution_count": 196,
      "metadata": {},
      "outputs": [
        {
          "data": {
            "text/plain": [
              "Index(['id', 'item_id', 'dept_id', 'cat_id', 'store_id', 'state_id', 'd',\n",
              "       'sales', 'date', 'wm_yr_wk', 'weekday', 'wday', 'month', 'year',\n",
              "       'snap_CA', 'snap_TX', 'snap_WI', 'event_name', 'event_type',\n",
              "       'sell_price', 'turnover'],\n",
              "      dtype='object')"
            ]
          },
          "execution_count": 196,
          "metadata": {},
          "output_type": "execute_result"
        }
      ],
      "source": [
        "final_df.columns"
      ]
    },
    {
      "cell_type": "code",
      "execution_count": 197,
      "metadata": {
        "id": "IHJyWT5QS--F"
      },
      "outputs": [],
      "source": [
        "#Droping columns\n",
        "final_df = final_df.drop([\"snap_TX\", \"snap_CA\", \"snap_WI\", \"event_name\", \"wday\"],axis =1)"
      ]
    },
    {
      "cell_type": "code",
      "execution_count": 198,
      "metadata": {
        "id": "kHgCahOOKQRh"
      },
      "outputs": [],
      "source": [
        "#Rolling windows and lagged variables\n",
        "\n",
        "new_columns = [\"sales_d_1\", \"sales_d_2\", \"sales_d_3\",\n",
        "               \"sales_month_avg\", \"sales_month_max\", \"sales_month_min\",\n",
        "               \"sales_week_avg\", \"sales_week_max\", \"sales_week_min\"]\n",
        "\n",
        "# Calculate rolling statistics and lag values for turnover column\n",
        "final_df[new_columns[0]] = final_df.groupby('id')['sales'].shift(1)\n",
        "final_df[new_columns[1]] = final_df.groupby('id')['sales'].shift(2)\n",
        "final_df[new_columns[2]] = final_df.groupby('id')['sales'].shift(3)\n",
        "final_df[new_columns[3]] = final_df.groupby('id')['sales_d_1'].transform(lambda x: x.rolling(30).mean())\n",
        "final_df[new_columns[6]] = final_df.groupby('id')['sales_d_1'].transform(lambda x: x.rolling(7).mean())\n",
        "\n",
        "\n",
        "# Sort the DataFrame by 'date' and reset the index\n",
        "final_df = final_df.sort_values(by=\"date\").reset_index(drop=True)\n"
      ]
    },
    {
      "cell_type": "code",
      "execution_count": 199,
      "metadata": {},
      "outputs": [],
      "source": [
        "#save dataframe\n",
        "#final_df.to_csv('../data/interim/final_df_interim_full_not_agre_sales.csv')"
      ]
    },
    {
      "cell_type": "code",
      "execution_count": 287,
      "metadata": {
        "id": "lJ1gUtT-UIrp"
      },
      "outputs": [],
      "source": [
        "#Load pre-counted dataframe\n",
        "final_df = pd.read_csv('../data/interim/final_df_interim_full_not_agre_sales.csv')\n",
        "#final_df.date = pd.to_datetime(final_df.date)"
      ]
    },
    {
      "cell_type": "code",
      "execution_count": 288,
      "metadata": {},
      "outputs": [],
      "source": [
        "final_df.dropna(axis = 0, subset=[\"sales_d_1\", \"sales_d_2\", \"sales_d_3\",\n",
        "               \"sales_month_avg\", \"sales_week_avg\"], inplace=True)"
      ]
    },
    {
      "cell_type": "code",
      "execution_count": 289,
      "metadata": {
        "id": "d7p8uQHsUvVU"
      },
      "outputs": [],
      "source": [
        "#Modeling - data preparation\n",
        "final_df = final_df.sort_values(by='date')\n",
        "final_df.d = final_df.d - final_df.d.min() + 1\n",
        "final_df = final_df[['item_id', 'dept_id', 'store_id',  #categorical - product definition, out because of high correlation - 'state_id', 'cat_id', 'id',\n",
        "                     'weekday', 'month', 'event_type', #categorical - time definition and event - sesonality\n",
        "                     'd',  #trend ,out because of high correlation - 'wm_yr_wk', 'year',\n",
        "                     'sell_price','sales','turnover',\n",
        "                     \"sales_d_1\", \"sales_d_2\", \"sales_d_3\",\n",
        "                     \"sales_week_avg\", \"sales_month_avg\"]]"
      ]
    },
    {
      "cell_type": "code",
      "execution_count": 290,
      "metadata": {},
      "outputs": [],
      "source": [
        "#Make dummy variables (one-hot encoding)\n",
        "#final_df = pd.get_dummies(final_df, columns=['id','item_id', 'dept_id', 'cat_id', 'store_id', 'state_id','weekday', 'month', 'event_type'], drop_first=False)\n",
        "\n",
        "final_df = pd.get_dummies(final_df, columns=['item_id', 'dept_id', 'store_id', 'weekday', 'month', 'event_type'], drop_first=False)"
      ]
    },
    {
      "cell_type": "code",
      "execution_count": 291,
      "metadata": {},
      "outputs": [],
      "source": [
        "final_df = final_df.drop(columns=['item_id_HOBBIES_1_049', 'dept_id_HOBBIES_1', 'store_id_CA_1', 'weekday_Monday', 'month_January'])"
      ]
    },
    {
      "cell_type": "code",
      "execution_count": 292,
      "metadata": {},
      "outputs": [],
      "source": [
        "#Dataframe to train+validation and test data\n",
        "X = final_df.drop(columns=['sales'])\n",
        "y = final_df.sales\n",
        "X_train, X_test, y_train, y_test = train_test_split(X, y, test_size=0.2, shuffle=False)"
      ]
    },
    {
      "cell_type": "code",
      "execution_count": 296,
      "metadata": {},
      "outputs": [],
      "source": [
        "turnover_train = X_train.turnover\n",
        "turnover_test = X_test.turnover\n",
        "\n",
        "X_train = X_train.drop(columns=['turnover'])\n",
        "X_test = X_test.drop(columns=['turnover'])"
      ]
    },
    {
      "cell_type": "markdown",
      "metadata": {
        "id": "08DL8gPjacBq"
      },
      "source": [
        "## Modeling"
      ]
    },
    {
      "cell_type": "markdown",
      "metadata": {},
      "source": [
        "### Baseline model"
      ]
    },
    {
      "cell_type": "code",
      "execution_count": 297,
      "metadata": {},
      "outputs": [
        {
          "name": "stdout",
          "output_type": "stream",
          "text": [
            "RMSE of baseline model for sales is 1.4402969704813904\n",
            "RMSE of baseline model for turnover is 7.540213610627589\n"
          ]
        }
      ],
      "source": [
        "#Baseline model based on only zeros\n",
        "y_pred = pd.Series(np.zeros(len(y_test)))\n",
        "rmse_baseline_sales = np.sqrt(mean_squared_error(y_test, y_pred))\n",
        "\n",
        "print(f\"RMSE of baseline model for sales is {rmse_baseline_sales}\")\n",
        "\n",
        "rmse_baseline_turnover = np.sqrt(mean_squared_error(turnover_test, y_pred))\n",
        "print(f\"RMSE of baseline model for turnover is {rmse_baseline_turnover}\")"
      ]
    },
    {
      "cell_type": "code",
      "execution_count": 298,
      "metadata": {},
      "outputs": [
        {
          "name": "stdout",
          "output_type": "stream",
          "text": [
            "RMSE of better baseline model is 1.07639247619992\n",
            "RMSE of baseline model for turnover is 5.342454237117144\n"
          ]
        }
      ],
      "source": [
        "#Baseline model based on average monthly value\n",
        "y_pred = X_test.sales_month_avg\n",
        "rmse_baseline = np.sqrt(mean_squared_error(y_test, y_pred))\n",
        "\n",
        "print(f\"RMSE of better baseline model is {rmse_baseline}\")\n",
        "\n",
        "rmse_baseline_turnover = np.sqrt(mean_squared_error(turnover_test, y_pred*X_test.sell_price))\n",
        "print(f\"RMSE of baseline model for turnover is {rmse_baseline_turnover}\")"
      ]
    },
    {
      "cell_type": "markdown",
      "metadata": {},
      "source": [
        "### Linear regression"
      ]
    },
    {
      "cell_type": "code",
      "execution_count": 225,
      "metadata": {},
      "outputs": [],
      "source": [
        "scaler = StandardScaler()\n",
        "\n",
        "X_train_std = scaler.fit_transform(X_train)\n",
        "X_test_std = scaler.transform(X_test)\n",
        "\n",
        "X_train_lin = pd.DataFrame(X_train_std, columns=X_train.columns)\n",
        "X_test_lin = pd.DataFrame(X_test_std, columns=X_test.columns)"
      ]
    },
    {
      "cell_type": "code",
      "execution_count": 267,
      "metadata": {
        "colab": {
          "base_uri": "https://localhost:8080/"
        },
        "id": "BKYnpmBDYxtJ",
        "outputId": "3fb532af-09a3-4faf-f114-b5545f097805"
      },
      "outputs": [
        {
          "name": "stdout",
          "output_type": "stream",
          "text": [
            "[-9.17407422e-03 -8.48190359e-02  8.81555359e-02  4.75215813e-02\n",
            "  3.80220414e-02  4.36476610e-01  2.17583944e+10  1.86922655e+10\n",
            "  2.18533444e+10  2.18483203e+10  1.59350250e+10  1.86803985e+10\n",
            "  2.18540620e+10  1.75968131e+10  2.18590847e+10  1.87261275e+10\n",
            "  1.13576605e+10  1.24067656e+10  1.31373919e+10  1.15231853e+10\n",
            "  1.04581447e+10  1.25851347e+10  1.32449217e+10  1.32417567e+10\n",
            "  1.22290970e+10  1.17618318e+10  4.97559820e+10  3.09623854e+10\n",
            "  5.89480083e+10  5.95987607e+10  6.03392153e+10  5.81596924e+10\n",
            "  3.14036577e+10  5.14717229e+10  5.82894701e+10  5.17526441e+10\n",
            " -4.62722778e-03  4.22096252e-02 -1.52158737e-02  1.14631653e-03\n",
            " -1.28393173e-02 -2.97069550e-03  1.54228210e-02 -1.87721252e-02\n",
            " -1.48649216e-02  1.41340483e+10  1.43439058e+10  1.43240615e+10\n",
            "  1.40396977e+10  1.41776252e+10  1.40802166e+10  1.43041877e+10\n",
            "  1.19867105e+10  1.39446630e+10  1.40903268e+10  3.19002670e+10\n",
            "  3.14979717e+10  3.20257935e+10  1.58719439e+10  3.20478904e+10\n",
            "  3.20478904e+10  1.61295740e+10  2.77075832e+10  2.74310510e+10\n",
            "  1.57953565e+10 -6.91016992e+10 -6.88312403e+10 -6.87514760e+10\n",
            " -6.84474614e+10 -6.35594226e+10 -6.90699396e+10 -2.66534282e+10\n",
            " -6.77053575e+10 -6.21567479e+10 -5.63814974e+10 -5.88224937e+10\n",
            " -3.64106488e+10 -1.54836439e+11 -4.06342133e+10 -8.08581063e+10\n",
            "  1.86272063e+11  3.01551819e-03  9.08660889e-03 -1.21059418e-02\n",
            " -1.46303177e-02 -6.72054291e-03 -1.10206604e-02 -4.95815277e-03\n",
            " -6.52122498e-03 -1.15566254e-02  1.70526505e-02  5.60340881e-02\n",
            "  4.99496460e-02 -7.38334656e-03 -1.18045807e-02 -9.39178467e-03\n",
            " -9.87243652e-03 -2.33459473e-03 -8.26072693e-03  1.01470947e-03\n",
            " -4.24575806e-03 -6.16455078e-03 -8.89396667e-03 -8.27980042e-03\n",
            " -1.21994019e-02 -7.15255737e-03 -5.47218323e-03 -1.00860596e-02\n",
            " -1.07955933e-02 -5.41687012e-04 -2.50244141e-03]\n",
            "RMSE of Linear Regression model is 1.0668636515507912\n",
            "RMSE of baseline model for turnover is 5.378948250995778\n"
          ]
        }
      ],
      "source": [
        "#Linear Regression model\n",
        "lin_reg = LinearRegression()\n",
        "\n",
        "lin_reg.fit(X_train_lin, y_train)\n",
        "y_pred_lin = lin_reg.predict(X_test_lin)\n",
        "\n",
        "lin_reg_rmse_sales = np.sqrt(mean_squared_error(y_test, y_pred_lin))\n",
        "print(lin_reg.coef_)\n",
        "\n",
        "print(f\"RMSE of Linear Regression model is {lin_reg_rmse_sales}\")\n",
        "\n",
        "lin_reg_rmse_turnover = np.sqrt(mean_squared_error(turnover_test, y_pred_lin*X_test.sell_price))\n",
        "print(f\"RMSE of baseline model for turnover is {lin_reg_rmse_turnover}\")"
      ]
    },
    {
      "cell_type": "code",
      "execution_count": 271,
      "metadata": {},
      "outputs": [
        {
          "name": "stdout",
          "output_type": "stream",
          "text": [
            "RMSE of Linear Regression model is 1.0667956913930299\n",
            "RMSE of baseline model for turnover is 5.378544828914339\n"
          ]
        },
        {
          "data": {
            "text/plain": [
              "(array([2.01827e+05, 8.80500e+03, 6.73000e+02, 1.06000e+02, 2.70000e+01,\n",
              "        3.40000e+01, 5.20000e+01, 2.80000e+01, 1.00000e+01, 1.00000e+00]),\n",
              " array([ 0.        ,  1.89337661,  3.78675322,  5.68012983,  7.57350644,\n",
              "         9.46688305, 11.36025966, 13.25363627, 15.14701288, 17.04038949,\n",
              "        18.9337661 ]),\n",
              " <BarContainer object of 10 artists>)"
            ]
          },
          "execution_count": 271,
          "metadata": {},
          "output_type": "execute_result"
        },
        {
          "data": {
            "image/png": "[encoded data removed]",
            "text/plain": [
              "<Figure size 640x480 with 1 Axes>"
            ]
          },
          "metadata": {},
          "output_type": "display_data"
        }
      ],
      "source": [
        "y_pred_lin[y_pred_lin<0] = 0\n",
        "lin_reg_rmse = np.sqrt(mean_squared_error(y_test, y_pred_lin))\n",
        "print(f\"RMSE of Linear Regression model is {lin_reg_rmse}\")\n",
        "\n",
        "lin_reg_rmse_turnover = np.sqrt(mean_squared_error(turnover_test, y_pred_lin*X_test.sell_price))\n",
        "print(f\"RMSE of Linear Regression for turnover is {lin_reg_rmse_turnover}\")\n",
        "\n",
        "\n",
        "plt.hist(y_pred_lin)\n"
      ]
    },
    {
      "cell_type": "code",
      "execution_count": 228,
      "metadata": {},
      "outputs": [
        {
          "name": "stdout",
          "output_type": "stream",
          "text": [
            "[-1.72015777e-02 -1.20478672e-02  4.55966024e-02  2.49384014e-02\n",
            "  2.66130339e-02  1.71403283e-01 -6.38067294e-03 -7.84046467e-03\n",
            "  4.01374974e-03  1.95480509e-02  8.16060966e-03  1.35024587e-02\n",
            " -1.63814523e-02 -2.45307518e-02  1.50946978e-02  1.27792797e-02\n",
            "  2.68823891e-02  4.92054946e-03  8.53626913e-03  2.53664198e-02\n",
            "  1.11058148e-02 -8.11487395e-03 -1.53423659e-02  3.25596184e-02\n",
            " -1.04085983e-02 -9.40658259e-03 -1.17250189e-02  6.68806539e-03\n",
            "  2.21731016e-03  5.46180301e-03  1.08018072e-02  2.69894014e-02\n",
            "  2.21629005e-02  3.21311513e-02  1.07320905e-02 -1.82484999e-02\n",
            "  5.62263110e-03  2.09221917e-02 -1.36249708e-03 -2.30958076e-02\n",
            "  2.72419295e-02 -1.62751343e-02 -1.80791149e-02 -2.30953188e-02\n",
            "  1.88880185e-02 -1.28526154e-02 -1.92705977e-02 -1.13535995e-02\n",
            " -1.40583212e-02 -9.88793318e-03 -9.31387766e-03 -1.62264975e-02\n",
            " -9.58674598e-03 -8.01606057e-03 -1.82043274e-02  9.04217302e-03\n",
            " -2.05190951e-02 -6.05191339e-03  2.53580925e-02  9.12124724e-03\n",
            "  2.07582574e-02  2.22997888e-02  1.37894389e-02 -8.50843402e-03\n",
            "  1.03537299e-02  2.63251122e-02 -1.71330735e-02  3.63975113e-03\n",
            " -6.44208066e-03 -9.60153052e-03 -2.03556799e-02  5.25057219e-03\n",
            " -4.60214984e-03 -6.02322847e-03  1.01162656e-02  6.65197716e-03\n",
            "  2.12807679e-02  2.79803696e-02 -4.44136761e-02  1.83071505e-02\n",
            " -8.28239271e-03  1.34750769e-02  3.95066343e-02 -1.98579938e-02\n",
            " -2.64304130e-02 -1.71051267e-04 -1.61948385e-02  3.41900218e-03\n",
            " -8.75867482e-03 -1.60724345e-02  2.66070362e-03  3.03857547e-02\n",
            "  2.70646011e-02 -1.48074528e-02 -1.65206292e-02 -1.65935211e-02\n",
            " -1.98371783e-03  4.36355689e-03 -3.75883298e-03  7.83937984e-03\n",
            "  2.95955241e-04 -1.82353647e-03  2.37643865e-03 -3.34391525e-03\n",
            " -4.93398772e-03 -5.35423682e-03  5.30831173e-03 -3.54091811e-03\n",
            " -9.10824551e-03  8.65150465e-04 -3.34954883e-04]\n",
            "RMSE of linear regression model is 5.452200931550774\n",
            "RMSE of linear regression model for turnover is 12.01572058239588\n"
          ]
        },
        {
          "data": {
            "image/png": "[encoded data removed]",
            "text/plain": [
              "<Figure size 640x480 with 1 Axes>"
            ]
          },
          "metadata": {},
          "output_type": "display_data"
        }
      ],
      "source": [
        "from sklearn.linear_model import PoissonRegressor\n",
        "\n",
        "#Poisson Regression model\n",
        "pois_reg = PoissonRegressor()\n",
        "\n",
        "pois_reg.fit(X_train_lin, y_train)\n",
        "y_pred_pois = pois_reg.predict(X_test_lin)\n",
        "\n",
        "pois_reg_rmse = np.sqrt(mean_squared_error(y_test, y_pred_pois))\n",
        "print(pois_reg.coef_)\n",
        "\n",
        "print(f\"RMSE of linear regression model is {pois_reg_rmse}\")\n",
        "\n",
        "pois_reg_rmse_turnover = np.sqrt(mean_squared_error(turnover_test, y_pred_pois*X_test.sell_price))\n",
        "print(f\"RMSE of linear regression model for turnover is {pois_reg_rmse_turnover}\")\n",
        "\n",
        "\n",
        "plt.scatter(y_test, y_pred_pois)\n",
        "plt.xlabel('Actual values')\n",
        "plt.ylabel('Predicted values')\n",
        "plt.title('Poisson Regression: Actual vs Predicted')\n",
        "plt.show()"
      ]
    },
    {
      "cell_type": "code",
      "execution_count": 229,
      "metadata": {},
      "outputs": [
        {
          "name": "stdout",
          "output_type": "stream",
          "text": [
            "22\n"
          ]
        }
      ],
      "source": [
        "print(len(y_pred_pois[y_pred_pois > 160]))\n",
        "y_pred_pois[y_pred_pois > 160] = 80"
      ]
    },
    {
      "cell_type": "code",
      "execution_count": 230,
      "metadata": {},
      "outputs": [
        {
          "name": "stdout",
          "output_type": "stream",
          "text": [
            "[-1.72015777e-02 -1.20478672e-02  4.55966024e-02  2.49384014e-02\n",
            "  2.66130339e-02  1.71403283e-01 -6.38067294e-03 -7.84046467e-03\n",
            "  4.01374974e-03  1.95480509e-02  8.16060966e-03  1.35024587e-02\n",
            " -1.63814523e-02 -2.45307518e-02  1.50946978e-02  1.27792797e-02\n",
            "  2.68823891e-02  4.92054946e-03  8.53626913e-03  2.53664198e-02\n",
            "  1.11058148e-02 -8.11487395e-03 -1.53423659e-02  3.25596184e-02\n",
            " -1.04085983e-02 -9.40658259e-03 -1.17250189e-02  6.68806539e-03\n",
            "  2.21731016e-03  5.46180301e-03  1.08018072e-02  2.69894014e-02\n",
            "  2.21629005e-02  3.21311513e-02  1.07320905e-02 -1.82484999e-02\n",
            "  5.62263110e-03  2.09221917e-02 -1.36249708e-03 -2.30958076e-02\n",
            "  2.72419295e-02 -1.62751343e-02 -1.80791149e-02 -2.30953188e-02\n",
            "  1.88880185e-02 -1.28526154e-02 -1.92705977e-02 -1.13535995e-02\n",
            " -1.40583212e-02 -9.88793318e-03 -9.31387766e-03 -1.62264975e-02\n",
            " -9.58674598e-03 -8.01606057e-03 -1.82043274e-02  9.04217302e-03\n",
            " -2.05190951e-02 -6.05191339e-03  2.53580925e-02  9.12124724e-03\n",
            "  2.07582574e-02  2.22997888e-02  1.37894389e-02 -8.50843402e-03\n",
            "  1.03537299e-02  2.63251122e-02 -1.71330735e-02  3.63975113e-03\n",
            " -6.44208066e-03 -9.60153052e-03 -2.03556799e-02  5.25057219e-03\n",
            " -4.60214984e-03 -6.02322847e-03  1.01162656e-02  6.65197716e-03\n",
            "  2.12807679e-02  2.79803696e-02 -4.44136761e-02  1.83071505e-02\n",
            " -8.28239271e-03  1.34750769e-02  3.95066343e-02 -1.98579938e-02\n",
            " -2.64304130e-02 -1.71051267e-04 -1.61948385e-02  3.41900218e-03\n",
            " -8.75867482e-03 -1.60724345e-02  2.66070362e-03  3.03857547e-02\n",
            "  2.70646011e-02 -1.48074528e-02 -1.65206292e-02 -1.65935211e-02\n",
            " -1.98371783e-03  4.36355689e-03 -3.75883298e-03  7.83937984e-03\n",
            "  2.95955241e-04 -1.82353647e-03  2.37643865e-03 -3.34391525e-03\n",
            " -4.93398772e-03 -5.35423682e-03  5.30831173e-03 -3.54091811e-03\n",
            " -9.10824551e-03  8.65150465e-04 -3.34954883e-04]\n",
            "RMSE of Poisson Regression model is 1.9463588135910084\n",
            "RMSE of baseline model for turnover is 6.611660091614984\n"
          ]
        },
        {
          "data": {
            "image/png": "[encoded data removed]",
            "text/plain": [
              "<Figure size 640x480 with 1 Axes>"
            ]
          },
          "metadata": {},
          "output_type": "display_data"
        }
      ],
      "source": [
        "pois_reg_rmse = np.sqrt(mean_squared_error(y_test, y_pred_pois))\n",
        "print(pois_reg.coef_)\n",
        "\n",
        "print(f\"RMSE of Poisson Regression model is {pois_reg_rmse}\")\n",
        "\n",
        "pois_reg_rmse_turnover = np.sqrt(mean_squared_error(turnover_test, y_pred_pois*X_test.sell_price))\n",
        "print(f\"RMSE of baseline model for turnover is {pois_reg_rmse_turnover}\")\n",
        "\n",
        "\n",
        "plt.scatter(y_test, y_pred_pois)\n",
        "plt.xlabel('Actual values')\n",
        "plt.ylabel('Predicted values')\n",
        "plt.title('Poisson Regression: Actual vs Predicted')\n",
        "plt.show()"
      ]
    },
    {
      "cell_type": "code",
      "execution_count": 231,
      "metadata": {},
      "outputs": [
        {
          "data": {
            "text/html": [
              "<div>\n",
              "<style scoped>\n",
              "    .dataframe tbody tr th:only-of-type {\n",
              "        vertical-align: middle;\n",
              "    }\n",
              "\n",
              "    .dataframe tbody tr th {\n",
              "        vertical-align: top;\n",
              "    }\n",
              "\n",
              "    .dataframe thead th {\n",
              "        text-align: right;\n",
              "    }\n",
              "</style>\n",
              "<table border=\"1\" class=\"dataframe\">\n",
              "  <thead>\n",
              "    <tr style=\"text-align: right;\">\n",
              "      <th></th>\n",
              "      <th>Coefficients</th>\n",
              "    </tr>\n",
              "  </thead>\n",
              "  <tbody>\n",
              "    <tr>\n",
              "      <th>dept_id_HOBBIES_2</th>\n",
              "      <td>-0.044414</td>\n",
              "    </tr>\n",
              "    <tr>\n",
              "      <th>store_id_TX_1</th>\n",
              "      <td>-0.026430</td>\n",
              "    </tr>\n",
              "    <tr>\n",
              "      <th>item_id_FOODS_1_169</th>\n",
              "      <td>-0.024531</td>\n",
              "    </tr>\n",
              "    <tr>\n",
              "      <th>item_id_HOBBIES_1_193</th>\n",
              "      <td>-0.023096</td>\n",
              "    </tr>\n",
              "    <tr>\n",
              "      <th>item_id_HOBBIES_1_406</th>\n",
              "      <td>-0.023095</td>\n",
              "    </tr>\n",
              "    <tr>\n",
              "      <th>...</th>\n",
              "      <td>...</td>\n",
              "    </tr>\n",
              "    <tr>\n",
              "      <th>item_id_FOODS_3_659</th>\n",
              "      <td>0.032131</td>\n",
              "    </tr>\n",
              "    <tr>\n",
              "      <th>item_id_FOODS_2_327</th>\n",
              "      <td>0.032560</td>\n",
              "    </tr>\n",
              "    <tr>\n",
              "      <th>store_id_CA_3</th>\n",
              "      <td>0.039507</td>\n",
              "    </tr>\n",
              "    <tr>\n",
              "      <th>sales_d_1</th>\n",
              "      <td>0.045597</td>\n",
              "    </tr>\n",
              "    <tr>\n",
              "      <th>sales_month_avg</th>\n",
              "      <td>0.171403</td>\n",
              "    </tr>\n",
              "  </tbody>\n",
              "</table>\n",
              "<p>111 rows × 1 columns</p>\n",
              "</div>"
            ],
            "text/plain": [
              "                       Coefficients\n",
              "dept_id_HOBBIES_2         -0.044414\n",
              "store_id_TX_1             -0.026430\n",
              "item_id_FOODS_1_169       -0.024531\n",
              "item_id_HOBBIES_1_193     -0.023096\n",
              "item_id_HOBBIES_1_406     -0.023095\n",
              "...                             ...\n",
              "item_id_FOODS_3_659        0.032131\n",
              "item_id_FOODS_2_327        0.032560\n",
              "store_id_CA_3              0.039507\n",
              "sales_d_1                  0.045597\n",
              "sales_month_avg            0.171403\n",
              "\n",
              "[111 rows x 1 columns]"
            ]
          },
          "execution_count": 231,
          "metadata": {},
          "output_type": "execute_result"
        }
      ],
      "source": [
        "pd.DataFrame(pois_reg.coef_, columns=[\"Coefficients\"], index=X_train.columns).sort_values(by = 'Coefficients')"
      ]
    },
    {
      "cell_type": "code",
      "execution_count": 232,
      "metadata": {},
      "outputs": [
        {
          "name": "stdout",
          "output_type": "stream",
          "text": [
            "Importance of features:\n",
            "Reference category \n",
            " event_type = None \n",
            " weekday = Friday \n",
            " store_id = CA_1 \n",
            " dept_id = FOODS_1 \n",
            "\n"
          ]
        },
        {
          "data": {
            "image/png": "[encoded data removed]",
            "text/plain": [
              "<Figure size 900x1200 with 1 Axes>"
            ]
          },
          "metadata": {},
          "output_type": "display_data"
        }
      ],
      "source": [
        "print(\"Importance of features:\")\n",
        "print(\"Reference category \\n event_type = None \\n weekday = Friday \\n store_id = CA_1 \\n dept_id = FOODS_1 \\n\")\n",
        "\n",
        "coefs = pd.DataFrame(lin_reg.coef_, columns=[\"Coefficients\"], index=X_train.columns)\n",
        "coefs['Absolute_Coefficients'] = coefs['Coefficients'].abs()  \n",
        "coefs = coefs.sort_values(by=\"Absolute_Coefficients\", ascending=True) \n",
        "coefs.drop(columns=[\"Absolute_Coefficients\"], inplace=True)  \n",
        "coefs.plot(kind=\"barh\", figsize=(9, 12))\n",
        "plt.axvline(x=0, color=\".5\")\n",
        "plt.subplots_adjust(left=0.3)\n",
        "plt.show()"
      ]
    },
    {
      "cell_type": "code",
      "execution_count": null,
      "metadata": {
        "id": "_JI5s22LCA8y"
      },
      "outputs": [],
      "source": [
        "with open('../models/lin_reg_model.pkl', 'wb') as file:\n",
        "    pickle.dump(lin_reg, file)"
      ]
    },
    {
      "cell_type": "markdown",
      "metadata": {},
      "source": [
        "### Lasso regression"
      ]
    },
    {
      "cell_type": "code",
      "execution_count": 299,
      "metadata": {},
      "outputs": [
        {
          "name": "stdout",
          "output_type": "stream",
          "text": [
            "0.1\n",
            "[-1.46647394e-05 -0.00000000e+00  4.55650861e-02  7.03120379e-03\n",
            "  0.00000000e+00  2.15004216e-01  3.73090787e-01 -0.00000000e+00\n",
            " -0.00000000e+00  0.00000000e+00  0.00000000e+00  0.00000000e+00\n",
            "  0.00000000e+00 -0.00000000e+00 -0.00000000e+00  0.00000000e+00\n",
            "  0.00000000e+00  0.00000000e+00  0.00000000e+00  0.00000000e+00\n",
            "  0.00000000e+00  0.00000000e+00 -0.00000000e+00 -0.00000000e+00\n",
            "  0.00000000e+00 -0.00000000e+00 -0.00000000e+00 -0.00000000e+00\n",
            "  0.00000000e+00  0.00000000e+00  0.00000000e+00  0.00000000e+00\n",
            "  0.00000000e+00  0.00000000e+00  0.00000000e+00  0.00000000e+00\n",
            " -0.00000000e+00  0.00000000e+00  0.00000000e+00 -0.00000000e+00\n",
            " -0.00000000e+00  0.00000000e+00 -0.00000000e+00 -0.00000000e+00\n",
            " -0.00000000e+00  0.00000000e+00 -0.00000000e+00 -0.00000000e+00\n",
            " -0.00000000e+00 -0.00000000e+00 -0.00000000e+00 -0.00000000e+00\n",
            " -0.00000000e+00 -0.00000000e+00 -0.00000000e+00 -0.00000000e+00\n",
            "  0.00000000e+00 -0.00000000e+00 -0.00000000e+00  0.00000000e+00\n",
            "  0.00000000e+00  0.00000000e+00  0.00000000e+00  0.00000000e+00\n",
            " -0.00000000e+00  0.00000000e+00  0.00000000e+00 -0.00000000e+00\n",
            " -0.00000000e+00 -0.00000000e+00 -0.00000000e+00 -0.00000000e+00\n",
            "  0.00000000e+00 -0.00000000e+00 -0.00000000e+00  0.00000000e+00\n",
            "  0.00000000e+00  0.00000000e+00  0.00000000e+00 -0.00000000e+00\n",
            "  0.00000000e+00 -0.00000000e+00  0.00000000e+00  0.00000000e+00\n",
            " -0.00000000e+00 -0.00000000e+00 -0.00000000e+00 -0.00000000e+00\n",
            "  0.00000000e+00 -0.00000000e+00 -0.00000000e+00  0.00000000e+00\n",
            "  0.00000000e+00  0.00000000e+00 -0.00000000e+00 -0.00000000e+00\n",
            " -0.00000000e+00 -0.00000000e+00  0.00000000e+00 -0.00000000e+00\n",
            "  0.00000000e+00  0.00000000e+00 -0.00000000e+00  0.00000000e+00\n",
            " -0.00000000e+00 -0.00000000e+00 -0.00000000e+00  0.00000000e+00\n",
            " -0.00000000e+00 -0.00000000e+00 -0.00000000e+00  0.00000000e+00]\n",
            "RMSE of Poisson Regression model is 1.089544918994465\n",
            "RMSE of baseline model for turnover is 5.525687029915426\n"
          ]
        }
      ],
      "source": [
        "alpha = 0.1\n",
        "print(alpha)\n",
        "lasso = Lasso(alpha=alpha)\n",
        "lasso.fit(X_train, y_train)\n",
        "y_pred_lasso = lasso.predict(X_test)\n",
        "lasso_rmse = np.sqrt(mean_squared_error(y_test, y_pred_lasso))\n",
        "\n",
        "lasso_rmse = np.sqrt(mean_squared_error(y_test, y_pred_lasso))\n",
        "print(lasso.coef_)\n",
        "\n",
        "print(f\"RMSE of Poisson Regression model is {lasso_rmse}\")\n",
        "\n",
        "lasso_rmse_turnover = np.sqrt(mean_squared_error(turnover_test, y_pred_lasso*X_test.sell_price))\n",
        "print(f\"RMSE of baseline model for turnover is {lasso_rmse_turnover}\")"
      ]
    },
    {
      "cell_type": "code",
      "execution_count": 256,
      "metadata": {},
      "outputs": [],
      "source": [
        "coefs_lasso = pd.DataFrame(lasso.coef_, columns=[\"Coefficients\"], index=X_train.columns).sort_values(by = 'Coefficients',ascending=False)"
      ]
    },
    {
      "cell_type": "code",
      "execution_count": 257,
      "metadata": {},
      "outputs": [
        {
          "data": {
            "text/plain": [
              "1"
            ]
          },
          "execution_count": 257,
          "metadata": {},
          "output_type": "execute_result"
        }
      ],
      "source": [
        "len(coefs_lasso) - len(coefs_lasso[coefs_lasso.Coefficients == 0])"
      ]
    },
    {
      "cell_type": "code",
      "execution_count": 300,
      "metadata": {},
      "outputs": [
        {
          "name": "stdout",
          "output_type": "stream",
          "text": [
            "0.0001\n"
          ]
        },
        {
          "ename": "KeyboardInterrupt",
          "evalue": "",
          "output_type": "error",
          "traceback": [
            "\u001b[1;31m---------------------------------------------------------------------------\u001b[0m",
            "\u001b[1;31mKeyboardInterrupt\u001b[0m                         Traceback (most recent call last)",
            "\u001b[1;32mc:\\Users\\zavre\\Desktop\\github\\Data_X_TimeSeriesPrediction\\notebooks\\team1_project_codebase_bez_agregace_sales.ipynb Cell 83\u001b[0m line \u001b[0;36m8\n\u001b[0;32m      <a href='vscode-notebook-cell:/c%3A/Users/zavre/Desktop/github/Data_X_TimeSeriesPrediction/notebooks/team1_project_codebase_bez_agregace_sales.ipynb#Y146sZmlsZQ%3D%3D?line=5'>6</a>\u001b[0m \u001b[39mprint\u001b[39m(alpha)\n\u001b[0;32m      <a href='vscode-notebook-cell:/c%3A/Users/zavre/Desktop/github/Data_X_TimeSeriesPrediction/notebooks/team1_project_codebase_bez_agregace_sales.ipynb#Y146sZmlsZQ%3D%3D?line=6'>7</a>\u001b[0m lasso \u001b[39m=\u001b[39m Lasso(alpha\u001b[39m=\u001b[39malpha)\n\u001b[1;32m----> <a href='vscode-notebook-cell:/c%3A/Users/zavre/Desktop/github/Data_X_TimeSeriesPrediction/notebooks/team1_project_codebase_bez_agregace_sales.ipynb#Y146sZmlsZQ%3D%3D?line=7'>8</a>\u001b[0m lasso\u001b[39m.\u001b[39;49mfit(X_train, y_train)\n\u001b[0;32m      <a href='vscode-notebook-cell:/c%3A/Users/zavre/Desktop/github/Data_X_TimeSeriesPrediction/notebooks/team1_project_codebase_bez_agregace_sales.ipynb#Y146sZmlsZQ%3D%3D?line=8'>9</a>\u001b[0m y_pred_lasso \u001b[39m=\u001b[39m lasso\u001b[39m.\u001b[39mpredict(X_test)\n\u001b[0;32m     <a href='vscode-notebook-cell:/c%3A/Users/zavre/Desktop/github/Data_X_TimeSeriesPrediction/notebooks/team1_project_codebase_bez_agregace_sales.ipynb#Y146sZmlsZQ%3D%3D?line=9'>10</a>\u001b[0m lasso_rmse \u001b[39m=\u001b[39m np\u001b[39m.\u001b[39msqrt(mean_squared_error(y_test, y_pred_lasso))\n",
            "File \u001b[1;32mc:\\Users\\zavre\\AppData\\Local\\Programs\\Python\\Python39\\lib\\site-packages\\sklearn\\linear_model\\_coordinate_descent.py:1004\u001b[0m, in \u001b[0;36mElasticNet.fit\u001b[1;34m(self, X, y, sample_weight, check_input)\u001b[0m\n\u001b[0;32m   1002\u001b[0m \u001b[39melse\u001b[39;00m:\n\u001b[0;32m   1003\u001b[0m     this_Xy \u001b[39m=\u001b[39m \u001b[39mNone\u001b[39;00m\n\u001b[1;32m-> 1004\u001b[0m _, this_coef, this_dual_gap, this_iter \u001b[39m=\u001b[39m \u001b[39mself\u001b[39;49m\u001b[39m.\u001b[39;49mpath(\n\u001b[0;32m   1005\u001b[0m     X,\n\u001b[0;32m   1006\u001b[0m     y[:, k],\n\u001b[0;32m   1007\u001b[0m     l1_ratio\u001b[39m=\u001b[39;49m\u001b[39mself\u001b[39;49m\u001b[39m.\u001b[39;49ml1_ratio,\n\u001b[0;32m   1008\u001b[0m     eps\u001b[39m=\u001b[39;49m\u001b[39mNone\u001b[39;49;00m,\n\u001b[0;32m   1009\u001b[0m     n_alphas\u001b[39m=\u001b[39;49m\u001b[39mNone\u001b[39;49;00m,\n\u001b[0;32m   1010\u001b[0m     alphas\u001b[39m=\u001b[39;49m[alpha],\n\u001b[0;32m   1011\u001b[0m     precompute\u001b[39m=\u001b[39;49mprecompute,\n\u001b[0;32m   1012\u001b[0m     Xy\u001b[39m=\u001b[39;49mthis_Xy,\n\u001b[0;32m   1013\u001b[0m     copy_X\u001b[39m=\u001b[39;49m\u001b[39mTrue\u001b[39;49;00m,\n\u001b[0;32m   1014\u001b[0m     coef_init\u001b[39m=\u001b[39;49mcoef_[k],\n\u001b[0;32m   1015\u001b[0m     verbose\u001b[39m=\u001b[39;49m\u001b[39mFalse\u001b[39;49;00m,\n\u001b[0;32m   1016\u001b[0m     return_n_iter\u001b[39m=\u001b[39;49m\u001b[39mTrue\u001b[39;49;00m,\n\u001b[0;32m   1017\u001b[0m     positive\u001b[39m=\u001b[39;49m\u001b[39mself\u001b[39;49m\u001b[39m.\u001b[39;49mpositive,\n\u001b[0;32m   1018\u001b[0m     check_input\u001b[39m=\u001b[39;49m\u001b[39mFalse\u001b[39;49;00m,\n\u001b[0;32m   1019\u001b[0m     \u001b[39m# from here on **params\u001b[39;49;00m\n\u001b[0;32m   1020\u001b[0m     tol\u001b[39m=\u001b[39;49m\u001b[39mself\u001b[39;49m\u001b[39m.\u001b[39;49mtol,\n\u001b[0;32m   1021\u001b[0m     X_offset\u001b[39m=\u001b[39;49mX_offset,\n\u001b[0;32m   1022\u001b[0m     X_scale\u001b[39m=\u001b[39;49mX_scale,\n\u001b[0;32m   1023\u001b[0m     max_iter\u001b[39m=\u001b[39;49m\u001b[39mself\u001b[39;49m\u001b[39m.\u001b[39;49mmax_iter,\n\u001b[0;32m   1024\u001b[0m     random_state\u001b[39m=\u001b[39;49m\u001b[39mself\u001b[39;49m\u001b[39m.\u001b[39;49mrandom_state,\n\u001b[0;32m   1025\u001b[0m     selection\u001b[39m=\u001b[39;49m\u001b[39mself\u001b[39;49m\u001b[39m.\u001b[39;49mselection,\n\u001b[0;32m   1026\u001b[0m     sample_weight\u001b[39m=\u001b[39;49msample_weight,\n\u001b[0;32m   1027\u001b[0m )\n\u001b[0;32m   1028\u001b[0m coef_[k] \u001b[39m=\u001b[39m this_coef[:, \u001b[39m0\u001b[39m]\n\u001b[0;32m   1029\u001b[0m dual_gaps_[k] \u001b[39m=\u001b[39m this_dual_gap[\u001b[39m0\u001b[39m]\n",
            "File \u001b[1;32mc:\\Users\\zavre\\AppData\\Local\\Programs\\Python\\Python39\\lib\\site-packages\\sklearn\\linear_model\\_coordinate_descent.py:631\u001b[0m, in \u001b[0;36menet_path\u001b[1;34m(X, y, l1_ratio, eps, n_alphas, alphas, precompute, Xy, copy_X, coef_init, verbose, return_n_iter, positive, check_input, **params)\u001b[0m\n\u001b[0;32m    617\u001b[0m     model \u001b[39m=\u001b[39m cd_fast\u001b[39m.\u001b[39menet_coordinate_descent_gram(\n\u001b[0;32m    618\u001b[0m         coef_,\n\u001b[0;32m    619\u001b[0m         l1_reg,\n\u001b[1;32m   (...)\u001b[0m\n\u001b[0;32m    628\u001b[0m         positive,\n\u001b[0;32m    629\u001b[0m     )\n\u001b[0;32m    630\u001b[0m \u001b[39melif\u001b[39;00m precompute \u001b[39mis\u001b[39;00m \u001b[39mFalse\u001b[39;00m:\n\u001b[1;32m--> 631\u001b[0m     model \u001b[39m=\u001b[39m cd_fast\u001b[39m.\u001b[39;49menet_coordinate_descent(\n\u001b[0;32m    632\u001b[0m         coef_, l1_reg, l2_reg, X, y, max_iter, tol, rng, random, positive\n\u001b[0;32m    633\u001b[0m     )\n\u001b[0;32m    634\u001b[0m \u001b[39melse\u001b[39;00m:\n\u001b[0;32m    635\u001b[0m     \u001b[39mraise\u001b[39;00m \u001b[39mValueError\u001b[39;00m(\n\u001b[0;32m    636\u001b[0m         \u001b[39m\"\u001b[39m\u001b[39mPrecompute should be one of True, False, \u001b[39m\u001b[39m'\u001b[39m\u001b[39mauto\u001b[39m\u001b[39m'\u001b[39m\u001b[39m or array-like. Got \u001b[39m\u001b[39m%r\u001b[39;00m\u001b[39m\"\u001b[39m\n\u001b[0;32m    637\u001b[0m         \u001b[39m%\u001b[39m precompute\n\u001b[0;32m    638\u001b[0m     )\n",
            "\u001b[1;31mKeyboardInterrupt\u001b[0m: "
          ]
        }
      ],
      "source": [
        "#Lasso Regression model\n",
        "sequence = [i /10000.0 for i in range(1, 100)]\n",
        "RMSE_lasso = pd.DataFrame(index=sequence)\n",
        "\n",
        "for alpha in sequence:\n",
        "    print(alpha)\n",
        "    lasso = Lasso(alpha=alpha)\n",
        "    lasso.fit(X_train, y_train)\n",
        "    y_pred_lasso = lasso.predict(X_test)\n",
        "    lasso_rmse = np.sqrt(mean_squared_error(y_test, y_pred_lasso))\n",
        "    RMSE_lasso.loc[alpha,'RMSE'] = lasso_rmse\n",
        "    "
      ]
    },
    {
      "cell_type": "code",
      "execution_count": 248,
      "metadata": {},
      "outputs": [
        {
          "data": {
            "text/plain": [
              "[<matplotlib.lines.Line2D at 0x2d581dc0dc0>]"
            ]
          },
          "execution_count": 248,
          "metadata": {},
          "output_type": "execute_result"
        },
        {
          "data": {
            "image/png": "[encoded data removed]",
            "text/plain": [
              "<Figure size 640x480 with 1 Axes>"
            ]
          },
          "metadata": {},
          "output_type": "display_data"
        }
      ],
      "source": [
        "plt.title(\"RMSE for different values of lambda hyperparameter\")\n",
        "plt.xlabel(\"Lambda hyperparameter\")\n",
        "plt.ylabel(\"RMSE\")\n",
        "plt.plot(sequence, RMSE_lasso['RMSE'])"
      ]
    },
    {
      "cell_type": "markdown",
      "metadata": {},
      "source": [
        "### Random Forest Regression"
      ]
    },
    {
      "cell_type": "code",
      "execution_count": 301,
      "metadata": {
        "colab": {
          "base_uri": "https://localhost:8080/"
        },
        "id": "Y47ObQiAZmAM",
        "outputId": "f503f0c7-5bde-47ef-fcf5-0cd7aafc3e4c"
      },
      "outputs": [
        {
          "name": "stdout",
          "output_type": "stream",
          "text": [
            "300 20 2 4 None => RMSE:  1.0647791418185848\n"
          ]
        }
      ],
      "source": [
        "#Random Forest model\n",
        "SEED = 88\n",
        "param_grid = {\n",
        "    'n_estimators': [300],\n",
        "    'max_depth': [20], #,25,30\n",
        "    'min_samples_split': [2], #,8\n",
        "    'min_samples_leaf': [4], #,6\n",
        "    'max_features': [None] #, 'sqrt', 'log2'\n",
        "}\n",
        "\n",
        "best_RMSE = 999\n",
        "best_params = {}\n",
        "\n",
        "for n_estimators in param_grid['n_estimators']:\n",
        "    for max_depth in param_grid['max_depth']:\n",
        "        for min_samples_split in param_grid['min_samples_split']:\n",
        "            for min_samples_leaf in param_grid['min_samples_leaf']:\n",
        "                for max_features in param_grid['max_features']:\n",
        "                    # Create and train a Random Forest model with the current hyperparameters\n",
        "                    rf = RandomForestRegressor(\n",
        "                        n_estimators=n_estimators,\n",
        "                        max_depth=max_depth,\n",
        "                        min_samples_split=min_samples_split,\n",
        "                        min_samples_leaf=min_samples_leaf,\n",
        "                        max_features=max_features,\n",
        "                        random_state=SEED                        \n",
        "                    )\n",
        "                    rf.fit(X_train, y_train)\n",
        "\n",
        "                    # Evaluate the model on the validation set\n",
        "                    y_pred_rf = rf.predict(X_test)\n",
        "                    RMSE = np.sqrt(mean_squared_error(y_test, y_pred_rf))\n",
        "\n",
        "                    # Update the best hyperparameters if this combination is better\n",
        "                    if RMSE < best_RMSE:\n",
        "                        best_RMSE = RMSE\n",
        "                        best_params = {\n",
        "                            'n_estimators': n_estimators,\n",
        "                            'max_depth': max_depth,\n",
        "                            'min_samples_split': min_samples_split,\n",
        "                            'min_samples_leaf': min_samples_leaf,\n",
        "                            'max_features': max_features\n",
        "                        }\n",
        "                    print(n_estimators, max_depth, min_samples_split, min_samples_leaf, max_features, '=> RMSE: ', RMSE)"
      ]
    },
    {
      "cell_type": "code",
      "execution_count": 153,
      "metadata": {},
      "outputs": [
        {
          "name": "stdout",
          "output_type": "stream",
          "text": [
            "{'n_estimators': 200, 'max_depth': 20, 'min_samples_split': 10, 'min_samples_leaf': 1, 'max_features': 'sqrt'}\n"
          ]
        }
      ],
      "source": [
        "print(best_params)"
      ]
    },
    {
      "cell_type": "code",
      "execution_count": 154,
      "metadata": {},
      "outputs": [],
      "source": [
        "#best_params = {'n_estimators': 200, 'max_depth': 20, 'min_samples_split': 10, 'min_samples_leaf': 1, 'max_features': 'sqrt'}"
      ]
    },
    {
      "cell_type": "code",
      "execution_count": 155,
      "metadata": {},
      "outputs": [
        {
          "name": "stdout",
          "output_type": "stream",
          "text": [
            "17.435519803485423\n"
          ]
        }
      ],
      "source": [
        "SEED=88\n",
        "n_estimators = best_params[\"n_estimators\"]\n",
        "max_depth = best_params[\"max_depth\"]\n",
        "min_samples_split = best_params[\"min_samples_split\"]\n",
        "min_samples_leaf = best_params[\"min_samples_leaf\"]\n",
        "max_features = best_params[\"max_features\"]\n",
        "\n",
        "rf = RandomForestRegressor(\n",
        "    n_estimators=n_estimators,\n",
        "    max_depth=max_depth,\n",
        "    min_samples_split=min_samples_split,\n",
        "    min_samples_leaf=min_samples_leaf,\n",
        "    max_features=max_features,\n",
        "    random_state=SEED\n",
        ")\n",
        "rf.fit(X_train, y_train)\n",
        "\n",
        "# Evaluate the model on the validation set\n",
        "y_pred_rf = rf.predict(X_test)\n",
        "RMSE = np.sqrt(mean_squared_error(y_test, y_pred_rf))\n",
        "\n",
        "print(RMSE)"
      ]
    },
    {
      "cell_type": "code",
      "execution_count": 180,
      "metadata": {},
      "outputs": [
        {
          "data": {
            "text/html": [
              "<div>\n",
              "<style scoped>\n",
              "    .dataframe tbody tr th:only-of-type {\n",
              "        vertical-align: middle;\n",
              "    }\n",
              "\n",
              "    .dataframe tbody tr th {\n",
              "        vertical-align: top;\n",
              "    }\n",
              "\n",
              "    .dataframe thead th {\n",
              "        text-align: right;\n",
              "    }\n",
              "</style>\n",
              "<table border=\"1\" class=\"dataframe\">\n",
              "  <thead>\n",
              "    <tr style=\"text-align: right;\">\n",
              "      <th></th>\n",
              "      <th>Variable</th>\n",
              "      <th>Importance</th>\n",
              "    </tr>\n",
              "  </thead>\n",
              "  <tbody>\n",
              "    <tr>\n",
              "      <th>1</th>\n",
              "      <td>turnover_month_avg</td>\n",
              "      <td>0.195346</td>\n",
              "    </tr>\n",
              "    <tr>\n",
              "      <th>4</th>\n",
              "      <td>turnover_week_avg</td>\n",
              "      <td>0.157446</td>\n",
              "    </tr>\n",
              "    <tr>\n",
              "      <th>2</th>\n",
              "      <td>turnover_month_max</td>\n",
              "      <td>0.104984</td>\n",
              "    </tr>\n",
              "    <tr>\n",
              "      <th>5</th>\n",
              "      <td>turnover_week_max</td>\n",
              "      <td>0.088007</td>\n",
              "    </tr>\n",
              "    <tr>\n",
              "      <th>6</th>\n",
              "      <td>turnover_week_min</td>\n",
              "      <td>0.073108</td>\n",
              "    </tr>\n",
              "    <tr>\n",
              "      <th>7</th>\n",
              "      <td>turnover_d_1</td>\n",
              "      <td>0.071616</td>\n",
              "    </tr>\n",
              "    <tr>\n",
              "      <th>8</th>\n",
              "      <td>turnover_d_2</td>\n",
              "      <td>0.056837</td>\n",
              "    </tr>\n",
              "    <tr>\n",
              "      <th>9</th>\n",
              "      <td>turnover_d_3</td>\n",
              "      <td>0.046527</td>\n",
              "    </tr>\n",
              "    <tr>\n",
              "      <th>3</th>\n",
              "      <td>turnover_month_min</td>\n",
              "      <td>0.041268</td>\n",
              "    </tr>\n",
              "    <tr>\n",
              "      <th>0</th>\n",
              "      <td>wm_yr_wk</td>\n",
              "      <td>0.028415</td>\n",
              "    </tr>\n",
              "  </tbody>\n",
              "</table>\n",
              "</div>"
            ],
            "text/plain": [
              "             Variable  Importance\n",
              "1  turnover_month_avg    0.195346\n",
              "4   turnover_week_avg    0.157446\n",
              "2  turnover_month_max    0.104984\n",
              "5   turnover_week_max    0.088007\n",
              "6   turnover_week_min    0.073108\n",
              "7        turnover_d_1    0.071616\n",
              "8        turnover_d_2    0.056837\n",
              "9        turnover_d_3    0.046527\n",
              "3  turnover_month_min    0.041268\n",
              "0            wm_yr_wk    0.028415"
            ]
          },
          "execution_count": 180,
          "metadata": {},
          "output_type": "execute_result"
        }
      ],
      "source": [
        "pd.DataFrame({'Variable':X_train.columns,\n",
        "              'Importance':rf.feature_importances_}).sort_values('Importance', ascending=False)[0:10]"
      ]
    },
    {
      "cell_type": "code",
      "execution_count": null,
      "metadata": {
        "id": "elNgSMCxCE1M"
      },
      "outputs": [],
      "source": [
        "with open('../models/rndm_forest_model.pkl', 'wb') as file:\n",
        "    pickle.dump(rf, file)"
      ]
    },
    {
      "cell_type": "markdown",
      "metadata": {},
      "source": [
        "### XGBoost model"
      ]
    },
    {
      "cell_type": "code",
      "execution_count": 275,
      "metadata": {
        "colab": {
          "base_uri": "https://localhost:8080/"
        },
        "id": "sVvxPavWaPTw",
        "outputId": "c07397f3-eb37-4752-f875-7f9ed5b7bffe"
      },
      "outputs": [
        {
          "name": "stdout",
          "output_type": "stream",
          "text": [
            "0.01 350 0.01 2 => RMSE_sales:  1.1217972260955247 RMSE_turnover:  5.544208139121052\n",
            "0.01 350 0.01 5 => RMSE_sales:  1.1112278773118578 RMSE_turnover:  5.51079127156508\n",
            "0.01 350 0.01 10 => RMSE_sales:  1.1256406511678103 RMSE_turnover:  5.588251210630875\n",
            "0.01 350 0.01 15 => RMSE_sales:  1.1360969972878638 RMSE_turnover:  5.646362482942343\n",
            "0.01 350 0.05 2 => RMSE_sales:  1.1298270575218188 RMSE_turnover:  5.579686873161013\n",
            "0.01 350 0.05 5 => RMSE_sales:  1.0967796555681129 RMSE_turnover:  5.459185632765746\n",
            "0.01 350 0.05 10 => RMSE_sales:  1.108885552886605 RMSE_turnover:  5.509680731136841\n",
            "0.01 350 0.05 15 => RMSE_sales:  1.123336676856168 RMSE_turnover:  5.609679709819391\n",
            "0.01 350 0.1 2 => RMSE_sales:  1.1319013358984868 RMSE_turnover:  5.5944510229864095\n",
            "0.01 350 0.1 5 => RMSE_sales:  1.0917125717581244 RMSE_turnover:  5.451101364217219\n",
            "0.01 350 0.1 10 => RMSE_sales:  1.1045523253464058 RMSE_turnover:  5.511007904313389\n",
            "0.01 350 0.1 15 => RMSE_sales:  1.1139279978505674 RMSE_turnover:  5.565110944604561\n",
            "0.01 350 0.15 2 => RMSE_sales:  1.1334486461311954 RMSE_turnover:  5.605044986493951\n",
            "0.01 350 0.15 5 => RMSE_sales:  1.0906030149779633 RMSE_turnover:  5.453145769506723\n",
            "0.01 350 0.15 10 => RMSE_sales:  1.0966431452323868 RMSE_turnover:  5.485843113607144\n",
            "0.01 350 0.15 15 => RMSE_sales:  1.1063151959892898 RMSE_turnover:  5.539985808248949\n",
            "0.01 350 0.2 2 => RMSE_sales:  1.1340039179381312 RMSE_turnover:  5.608452833676511\n",
            "0.01 350 0.2 5 => RMSE_sales:  1.0901241905465513 RMSE_turnover:  5.453232890121734\n",
            "0.01 350 0.2 10 => RMSE_sales:  1.0931577802161054 RMSE_turnover:  5.455107723128258\n",
            "0.01 350 0.2 15 => RMSE_sales:  1.1030224012769736 RMSE_turnover:  5.517167804988578\n",
            "0.01 350 0.3 2 => RMSE_sales:  1.1343767321428515 RMSE_turnover:  5.611572846489974\n",
            "0.01 350 0.3 5 => RMSE_sales:  1.0895369862871276 RMSE_turnover:  5.454508616519072\n",
            "0.01 350 0.3 10 => RMSE_sales:  1.0908646056698883 RMSE_turnover:  5.4583546687104825\n",
            "0.01 350 0.3 15 => RMSE_sales:  1.099466849788537 RMSE_turnover:  5.513115503287644\n",
            "0.01 350 0.4 2 => RMSE_sales:  1.1346996806346805 RMSE_turnover:  5.613234391143337\n",
            "0.01 350 0.4 5 => RMSE_sales:  1.0891682842177308 RMSE_turnover:  5.45540781783421\n",
            "0.01 350 0.4 10 => RMSE_sales:  1.0867592523747733 RMSE_turnover:  5.436698555068387\n",
            "0.01 350 0.4 15 => RMSE_sales:  1.0966868561175773 RMSE_turnover:  5.490337069133813\n",
            "0.01 400 0.01 2 => RMSE_sales:  1.1150729459634232 RMSE_turnover:  5.510852795115281\n",
            "0.01 400 0.01 5 => RMSE_sales:  1.1027113440226222 RMSE_turnover:  5.474564580394978\n",
            "0.01 400 0.01 10 => RMSE_sales:  1.116786438812141 RMSE_turnover:  5.544234913379\n",
            "0.01 400 0.01 15 => RMSE_sales:  1.1277529483177664 RMSE_turnover:  5.602951449330679\n",
            "0.01 400 0.05 2 => RMSE_sales:  1.1233681617053957 RMSE_turnover:  5.540318250574377\n",
            "0.01 400 0.05 5 => RMSE_sales:  1.0882857152734022 RMSE_turnover:  5.4268313726033535\n",
            "0.01 400 0.05 10 => RMSE_sales:  1.1003878918256136 RMSE_turnover:  5.469097763128665\n",
            "0.01 400 0.05 15 => RMSE_sales:  1.1132146375268803 RMSE_turnover:  5.556793243336205\n",
            "0.01 400 0.1 2 => RMSE_sales:  1.1263786990719535 RMSE_turnover:  5.558212839461929\n",
            "0.01 400 0.1 5 => RMSE_sales:  1.083541060149184 RMSE_turnover:  5.420464761344857\n",
            "0.01 400 0.1 10 => RMSE_sales:  1.0953263983865948 RMSE_turnover:  5.475219883894294\n",
            "0.01 400 0.1 15 => RMSE_sales:  1.1046696608594488 RMSE_turnover:  5.523541424370555\n",
            "0.01 400 0.15 2 => RMSE_sales:  1.1270145852330822 RMSE_turnover:  5.561406387992044\n",
            "0.01 400 0.15 5 => RMSE_sales:  1.0827717444947742 RMSE_turnover:  5.423592781564927\n",
            "0.01 400 0.15 10 => RMSE_sales:  1.0868075288933305 RMSE_turnover:  5.446672652476893\n",
            "0.01 400 0.15 15 => RMSE_sales:  1.0963416072930323 RMSE_turnover:  5.499835906209465\n",
            "0.01 400 0.2 2 => RMSE_sales:  1.1282797038505774 RMSE_turnover:  5.569974988107742\n",
            "0.01 400 0.2 5 => RMSE_sales:  1.0824613586389158 RMSE_turnover:  5.423025935438421\n",
            "0.01 400 0.2 10 => RMSE_sales:  1.0844267635738625 RMSE_turnover:  5.4224576197535646\n",
            "0.01 400 0.2 15 => RMSE_sales:  1.0929251886526457 RMSE_turnover:  5.474631106870187\n",
            "0.01 400 0.3 2 => RMSE_sales:  1.1287895559796088 RMSE_turnover:  5.574530319147294\n",
            "0.01 400 0.3 5 => RMSE_sales:  1.0817494836512245 RMSE_turnover:  5.425472864790669\n",
            "0.01 400 0.3 10 => RMSE_sales:  1.0815736253691741 RMSE_turnover:  5.421573199530851\n",
            "0.01 400 0.3 15 => RMSE_sales:  1.089975293655828 RMSE_turnover:  5.470903678505104\n",
            "0.01 400 0.4 2 => RMSE_sales:  1.1293835514357535 RMSE_turnover:  5.5783457366665194\n",
            "0.01 400 0.4 5 => RMSE_sales:  1.081677132733149 RMSE_turnover:  5.4264876504255115\n",
            "0.01 400 0.4 10 => RMSE_sales:  1.0782420742056784 RMSE_turnover:  5.401744087424794\n",
            "0.01 400 0.4 15 => RMSE_sales:  1.0876510937063064 RMSE_turnover:  5.453374836750028\n",
            "0.01 450 0.01 2 => RMSE_sales:  1.1103798460448033 RMSE_turnover:  5.489581459156129\n",
            "0.01 450 0.01 5 => RMSE_sales:  1.0965242222674754 RMSE_turnover:  5.447820863434367\n",
            "0.01 450 0.01 10 => RMSE_sales:  1.1092409887687154 RMSE_turnover:  5.505495132550613\n",
            "0.01 450 0.01 15 => RMSE_sales:  1.1202597733293904 RMSE_turnover:  5.559081947936311\n",
            "0.01 450 0.05 2 => RMSE_sales:  1.1183457540392843 RMSE_turnover:  5.516589210222088\n",
            "0.01 450 0.05 5 => RMSE_sales:  1.0820566788973474 RMSE_turnover:  5.406180576394226\n",
            "0.01 450 0.05 10 => RMSE_sales:  1.093186352987979 RMSE_turnover:  5.442354030206235\n",
            "0.01 450 0.05 15 => RMSE_sales:  1.1045323478370555 RMSE_turnover:  5.516179374902337\n",
            "0.01 450 0.1 2 => RMSE_sales:  1.1209088549096686 RMSE_turnover:  5.526325825452598\n",
            "0.01 450 0.1 5 => RMSE_sales:  1.0772633041246515 RMSE_turnover:  5.399971085214052\n",
            "0.01 450 0.1 10 => RMSE_sales:  1.0877085086472333 RMSE_turnover:  5.446366043267889\n",
            "0.01 450 0.1 15 => RMSE_sales:  1.095750296949941 RMSE_turnover:  5.4832258282363435\n",
            "0.01 450 0.15 2 => RMSE_sales:  1.1217866364614222 RMSE_turnover:  5.529591969018269\n",
            "0.01 450 0.15 5 => RMSE_sales:  1.0767908861200175 RMSE_turnover:  5.403580877994147\n",
            "0.01 450 0.15 10 => RMSE_sales:  1.0794437705672841 RMSE_turnover:  5.420362715066221\n",
            "0.01 450 0.15 15 => RMSE_sales:  1.0884834102071792 RMSE_turnover:  5.468616511489896\n",
            "0.01 450 0.2 2 => RMSE_sales:  1.1231894746624278 RMSE_turnover:  5.537288600810655\n",
            "0.01 450 0.2 5 => RMSE_sales:  1.0768388766198833 RMSE_turnover:  5.403165854158742\n",
            "0.01 450 0.2 10 => RMSE_sales:  1.0768816180668979 RMSE_turnover:  5.395746216166811\n",
            "0.01 450 0.2 15 => RMSE_sales:  1.0849084190920986 RMSE_turnover:  5.442945815134952\n",
            "0.01 450 0.3 2 => RMSE_sales:  1.1232476675669563 RMSE_turnover:  5.537981648187467\n",
            "0.01 450 0.3 5 => RMSE_sales:  1.0767398415706375 RMSE_turnover:  5.405439595994085\n",
            "0.01 450 0.3 10 => RMSE_sales:  1.074515361454403 RMSE_turnover:  5.396982847952206\n",
            "0.01 450 0.3 15 => RMSE_sales:  1.0823307340591712 RMSE_turnover:  5.443740462207849\n",
            "0.01 450 0.4 2 => RMSE_sales:  1.123638238984745 RMSE_turnover:  5.5401657986466395\n",
            "0.01 450 0.4 5 => RMSE_sales:  1.0765592475878767 RMSE_turnover:  5.407052219782595\n",
            "0.01 450 0.4 10 => RMSE_sales:  1.0716296342334395 RMSE_turnover:  5.3754326406970305\n",
            "0.01 450 0.4 15 => RMSE_sales:  1.0802149925743632 RMSE_turnover:  5.420426675684749\n",
            "0.01 500 0.01 2 => RMSE_sales:  1.105497467817124 RMSE_turnover:  5.467733833752039\n",
            "0.01 500 0.01 5 => RMSE_sales:  1.0901684133242404 RMSE_turnover:  5.4241954767403\n",
            "0.01 500 0.01 10 => RMSE_sales:  1.1016488009900534 RMSE_turnover:  5.468026600674593\n",
            "0.01 500 0.01 15 => RMSE_sales:  1.1109606773158793 RMSE_turnover:  5.514426206052173\n",
            "0.01 500 0.05 2 => RMSE_sales:  1.1136920656470444 RMSE_turnover:  5.496139678296148\n",
            "0.01 500 0.05 5 => RMSE_sales:  1.077272292682492 RMSE_turnover:  5.3907211716021814\n",
            "0.01 500 0.05 10 => RMSE_sales:  1.0876092640750077 RMSE_turnover:  5.422207687179973\n",
            "0.01 500 0.05 15 => RMSE_sales:  1.0966408197826354 RMSE_turnover:  5.4906219479811265\n",
            "0.01 500 0.1 2 => RMSE_sales:  1.1167302559032226 RMSE_turnover:  5.5056954426522156\n",
            "0.01 500 0.1 5 => RMSE_sales:  1.0724619056128628 RMSE_turnover:  5.386453421018545\n",
            "0.01 500 0.1 10 => RMSE_sales:  1.0816836428627867 RMSE_turnover:  5.427890089453107\n",
            "0.01 500 0.1 15 => RMSE_sales:  1.0884859664208983 RMSE_turnover:  5.460898700842098\n",
            "0.01 500 0.15 2 => RMSE_sales:  1.1176288454143426 RMSE_turnover:  5.508222719053621\n",
            "0.01 500 0.15 5 => RMSE_sales:  1.0726993666994946 RMSE_turnover:  5.390455651702154\n",
            "0.01 500 0.15 10 => RMSE_sales:  1.0737649769253856 RMSE_turnover:  5.4023812244617035\n",
            "0.01 500 0.15 15 => RMSE_sales:  1.0818591167920453 RMSE_turnover:  5.444954018096443\n",
            "0.01 500 0.2 2 => RMSE_sales:  1.1186395072733477 RMSE_turnover:  5.514061349895296\n",
            "0.01 500 0.2 5 => RMSE_sales:  1.0730320155974706 RMSE_turnover:  5.389934295668792\n",
            "0.01 500 0.2 10 => RMSE_sales:  1.0711040750531557 RMSE_turnover:  5.378807191794452\n",
            "0.01 500 0.2 15 => RMSE_sales:  1.0776311240840397 RMSE_turnover:  5.417288756671477\n",
            "0.01 500 0.3 2 => RMSE_sales:  1.1189730286412318 RMSE_turnover:  5.513607590735036\n",
            "0.01 500 0.3 5 => RMSE_sales:  1.0727213050668438 RMSE_turnover:  5.391830774061137\n",
            "0.01 500 0.3 10 => RMSE_sales:  1.069098498081369 RMSE_turnover:  5.379039492316325\n",
            "0.01 500 0.3 15 => RMSE_sales:  1.0768195484955534 RMSE_turnover:  5.421809755894296\n",
            "0.01 500 0.4 2 => RMSE_sales:  1.1192761249542613 RMSE_turnover:  5.514538395930398\n",
            "0.01 500 0.4 5 => RMSE_sales:  1.0726991554316205 RMSE_turnover:  5.392425178365259\n",
            "0.01 500 0.4 10 => RMSE_sales:  1.06659864557401 RMSE_turnover:  5.358950254799081\n",
            "0.01 500 0.4 15 => RMSE_sales:  1.0752555619354291 RMSE_turnover:  5.40381231073253\n",
            "0.1 350 0.01 2 => RMSE_sales:  1.073583960101459 RMSE_turnover:  5.3742486045086375\n",
            "0.1 350 0.01 5 => RMSE_sales:  1.1262744552261033 RMSE_turnover:  5.448511519569053\n",
            "0.1 350 0.01 10 => RMSE_sales:  1.1497825278859133 RMSE_turnover:  5.801197912655549\n",
            "0.1 350 0.01 15 => RMSE_sales:  1.434738233082615 RMSE_turnover:  7.930934744603815\n",
            "0.1 350 0.05 2 => RMSE_sales:  1.0832455281057074 RMSE_turnover:  5.37779187135659\n",
            "0.1 350 0.05 5 => RMSE_sales:  1.1494685333853136 RMSE_turnover:  5.422217357182149\n",
            "0.1 350 0.05 10 => RMSE_sales:  1.1624077645182183 RMSE_turnover:  5.408690371626672\n",
            "0.1 350 0.05 15 => RMSE_sales:  1.1653829125766606 RMSE_turnover:  5.715722143998752\n",
            "0.1 350 0.1 2 => RMSE_sales:  1.069641817534942 RMSE_turnover:  5.3607412871049664\n",
            "0.1 350 0.1 5 => RMSE_sales:  1.0700730926119837 RMSE_turnover:  5.332363470809673\n",
            "0.1 350 0.1 10 => RMSE_sales:  1.0829003149214713 RMSE_turnover:  5.315743277309449\n",
            "0.1 350 0.1 15 => RMSE_sales:  1.1338255392242163 RMSE_turnover:  5.543150364226284\n",
            "0.1 350 0.15 2 => RMSE_sales:  1.0676516502835527 RMSE_turnover:  5.366129278094544\n",
            "0.1 350 0.15 5 => RMSE_sales:  1.063766790432771 RMSE_turnover:  5.280794419835884\n",
            "0.1 350 0.15 10 => RMSE_sales:  1.0937517827637944 RMSE_turnover:  5.328867154574349\n",
            "0.1 350 0.15 15 => RMSE_sales:  1.1125914740302685 RMSE_turnover:  5.4928646760197415\n",
            "0.1 350 0.2 2 => RMSE_sales:  1.0612163253720899 RMSE_turnover:  5.347896974220086\n",
            "0.1 350 0.2 5 => RMSE_sales:  1.0590641138317498 RMSE_turnover:  5.262025184445964\n",
            "0.1 350 0.2 10 => RMSE_sales:  1.084346280676916 RMSE_turnover:  5.296494426249851\n",
            "0.1 350 0.2 15 => RMSE_sales:  1.1024736882695676 RMSE_turnover:  5.461806501665176\n",
            "0.1 350 0.3 2 => RMSE_sales:  1.062314193238247 RMSE_turnover:  5.352542113645788\n",
            "0.1 350 0.3 5 => RMSE_sales:  1.0546860499380069 RMSE_turnover:  5.274682832605064\n",
            "0.1 350 0.3 10 => RMSE_sales:  1.072987023532991 RMSE_turnover:  5.300040706983717\n",
            "0.1 350 0.3 15 => RMSE_sales:  1.101813426691194 RMSE_turnover:  5.53965816914921\n",
            "0.1 350 0.4 2 => RMSE_sales:  1.0628747907688785 RMSE_turnover:  5.348848643964738\n",
            "0.1 350 0.4 5 => RMSE_sales:  1.0600311911445939 RMSE_turnover:  5.273247642798941\n",
            "0.1 350 0.4 10 => RMSE_sales:  1.0679110218108043 RMSE_turnover:  5.2704408439068775\n",
            "0.1 350 0.4 15 => RMSE_sales:  1.1004873795112258 RMSE_turnover:  5.503230284785283\n",
            "0.1 400 0.01 2 => RMSE_sales:  1.0953284059842736 RMSE_turnover:  5.422953454342877\n",
            "0.1 400 0.01 5 => RMSE_sales:  1.133175857565827 RMSE_turnover:  5.543325679667837\n",
            "0.1 400 0.01 10 => RMSE_sales:  1.176179681256049 RMSE_turnover:  5.719129614069739\n",
            "0.1 400 0.01 15 => RMSE_sales:  1.5212402258405762 RMSE_turnover:  7.781876414239821\n",
            "0.1 400 0.05 2 => RMSE_sales:  1.097025392848842 RMSE_turnover:  5.392396704562652\n",
            "0.1 400 0.05 5 => RMSE_sales:  1.1491583195952486 RMSE_turnover:  5.423293817959506\n",
            "0.1 400 0.05 10 => RMSE_sales:  1.146702150949582 RMSE_turnover:  5.440544981526208\n",
            "0.1 400 0.05 15 => RMSE_sales:  1.1855250255556362 RMSE_turnover:  5.840501738696676\n",
            "0.1 400 0.1 2 => RMSE_sales:  1.0678977411259707 RMSE_turnover:  5.355088969207876\n",
            "0.1 400 0.1 5 => RMSE_sales:  1.0683119617454084 RMSE_turnover:  5.325032032691491\n",
            "0.1 400 0.1 10 => RMSE_sales:  1.0893231218390917 RMSE_turnover:  5.327024127151493\n",
            "0.1 400 0.1 15 => RMSE_sales:  1.1448759575686562 RMSE_turnover:  5.587103497633703\n",
            "0.1 400 0.15 2 => RMSE_sales:  1.065442120068935 RMSE_turnover:  5.3600735513373445\n",
            "0.1 400 0.15 5 => RMSE_sales:  1.0622355482239385 RMSE_turnover:  5.2633014473132524\n",
            "0.1 400 0.15 10 => RMSE_sales:  1.097741539463871 RMSE_turnover:  5.3570100272627945\n",
            "0.1 400 0.15 15 => RMSE_sales:  1.117420582300084 RMSE_turnover:  5.509258938324041\n",
            "0.1 400 0.2 2 => RMSE_sales:  1.0613255926424616 RMSE_turnover:  5.348208086945465\n",
            "0.1 400 0.2 5 => RMSE_sales:  1.0598354366369203 RMSE_turnover:  5.256349410110766\n",
            "0.1 400 0.2 10 => RMSE_sales:  1.0883856425924783 RMSE_turnover:  5.31053699885171\n",
            "0.1 400 0.2 15 => RMSE_sales:  1.1067606727251298 RMSE_turnover:  5.493331142760652\n",
            "0.1 400 0.3 2 => RMSE_sales:  1.0622869011943556 RMSE_turnover:  5.352244803815608\n",
            "0.1 400 0.3 5 => RMSE_sales:  1.05465519930137 RMSE_turnover:  5.269386531192943\n",
            "0.1 400 0.3 10 => RMSE_sales:  1.0775670242012734 RMSE_turnover:  5.318952466912891\n",
            "0.1 400 0.3 15 => RMSE_sales:  1.1066318206152816 RMSE_turnover:  5.566211214245051\n",
            "0.1 400 0.4 2 => RMSE_sales:  1.0633756663928244 RMSE_turnover:  5.348464572354247\n",
            "0.1 400 0.4 5 => RMSE_sales:  1.0592207475501632 RMSE_turnover:  5.2529543575754705\n",
            "0.1 400 0.4 10 => RMSE_sales:  1.0713761266429762 RMSE_turnover:  5.2806290754247875\n",
            "0.1 400 0.4 15 => RMSE_sales:  1.106892802730244 RMSE_turnover:  5.552239667841263\n",
            "0.1 450 0.01 2 => RMSE_sales:  1.0832406572568076 RMSE_turnover:  5.412071377559857\n",
            "0.1 450 0.01 5 => RMSE_sales:  1.1663387681317214 RMSE_turnover:  5.5904512559682065\n",
            "0.1 450 0.01 10 => RMSE_sales:  1.2435477932251746 RMSE_turnover:  6.063184526067724\n",
            "0.1 450 0.01 15 => RMSE_sales:  1.684248537225683 RMSE_turnover:  10.052250496109115\n",
            "0.1 450 0.05 2 => RMSE_sales:  1.0819171885654917 RMSE_turnover:  5.398712330020696\n",
            "0.1 450 0.05 5 => RMSE_sales:  1.1443796634535905 RMSE_turnover:  5.44711870340568\n",
            "0.1 450 0.05 10 => RMSE_sales:  1.1500199050345041 RMSE_turnover:  5.4746615248676695\n",
            "0.1 450 0.05 15 => RMSE_sales:  1.2054385354603927 RMSE_turnover:  5.942743507086843\n",
            "0.1 450 0.1 2 => RMSE_sales:  1.0666399446262083 RMSE_turnover:  5.356576756256672\n",
            "0.1 450 0.1 5 => RMSE_sales:  1.0793262637158747 RMSE_turnover:  5.365046375489561\n",
            "0.1 450 0.1 10 => RMSE_sales:  1.093646313278255 RMSE_turnover:  5.3406930780621575\n",
            "0.1 450 0.1 15 => RMSE_sales:  1.1487513706312362 RMSE_turnover:  5.593934096607938\n",
            "0.1 450 0.15 2 => RMSE_sales:  1.0655330705682782 RMSE_turnover:  5.360047849562798\n",
            "0.1 450 0.15 5 => RMSE_sales:  1.062666276096031 RMSE_turnover:  5.245278666703471\n",
            "0.1 450 0.15 10 => RMSE_sales:  1.1149982007931247 RMSE_turnover:  5.366448718518465\n",
            "0.1 450 0.15 15 => RMSE_sales:  1.1231411716723638 RMSE_turnover:  5.513579883188016\n",
            "0.1 450 0.2 2 => RMSE_sales:  1.0636807492164453 RMSE_turnover:  5.35381356819894\n",
            "0.1 450 0.2 5 => RMSE_sales:  1.0595471917465484 RMSE_turnover:  5.2453010861627005\n",
            "0.1 450 0.2 10 => RMSE_sales:  1.0928357719957855 RMSE_turnover:  5.317112469240685\n",
            "0.1 450 0.2 15 => RMSE_sales:  1.1102908686945125 RMSE_turnover:  5.500342639216409\n",
            "0.1 450 0.3 2 => RMSE_sales:  1.0636439549909125 RMSE_turnover:  5.3528376672009435\n",
            "0.1 450 0.3 5 => RMSE_sales:  1.056092313222403 RMSE_turnover:  5.257816256084629\n",
            "0.1 450 0.3 10 => RMSE_sales:  1.0817987998601153 RMSE_turnover:  5.353690164783888\n",
            "0.1 450 0.3 15 => RMSE_sales:  1.1111264905572376 RMSE_turnover:  5.590946302057101\n",
            "0.1 450 0.4 2 => RMSE_sales:  1.0645957491956868 RMSE_turnover:  5.3469050655716535\n",
            "0.1 450 0.4 5 => RMSE_sales:  1.0596161349945414 RMSE_turnover:  5.247253243350644\n",
            "0.1 450 0.4 10 => RMSE_sales:  1.076533991860583 RMSE_turnover:  5.295440935226894\n",
            "0.1 450 0.4 15 => RMSE_sales:  1.1139138509362996 RMSE_turnover:  5.568311590914763\n",
            "0.1 500 0.01 2 => RMSE_sales:  1.090227177307466 RMSE_turnover:  5.3980441287873395\n",
            "0.1 500 0.01 5 => RMSE_sales:  1.172376898942994 RMSE_turnover:  5.603490516047342\n",
            "0.1 500 0.01 10 => RMSE_sales:  1.3167936368165065 RMSE_turnover:  6.194894762442277\n",
            "0.1 500 0.01 15 => RMSE_sales:  1.6789832659813528 RMSE_turnover:  9.388061357612568\n",
            "0.1 500 0.05 2 => RMSE_sales:  1.085549673236841 RMSE_turnover:  5.411173486992338\n",
            "0.1 500 0.05 5 => RMSE_sales:  1.1773198375000533 RMSE_turnover:  5.467773792039149\n",
            "0.1 500 0.05 10 => RMSE_sales:  1.2271576531539596 RMSE_turnover:  5.5742715354793475\n",
            "0.1 500 0.05 15 => RMSE_sales:  1.2392300162139924 RMSE_turnover:  6.051967139066388\n",
            "0.1 500 0.1 2 => RMSE_sales:  1.0658424999551255 RMSE_turnover:  5.358969668953081\n",
            "0.1 500 0.1 5 => RMSE_sales:  1.0795269805747256 RMSE_turnover:  5.359013715635263\n",
            "0.1 500 0.1 10 => RMSE_sales:  1.117831164175095 RMSE_turnover:  5.387304744059203\n",
            "0.1 500 0.1 15 => RMSE_sales:  1.1637307271061206 RMSE_turnover:  5.654392569762236\n",
            "0.1 500 0.15 2 => RMSE_sales:  1.0678486399984495 RMSE_turnover:  5.364803712617922\n",
            "0.1 500 0.15 5 => RMSE_sales:  1.0643526395254792 RMSE_turnover:  5.239673142381189\n",
            "0.1 500 0.15 10 => RMSE_sales:  1.117686204908985 RMSE_turnover:  5.408841247223711\n",
            "0.1 500 0.15 15 => RMSE_sales:  1.128463286509296 RMSE_turnover:  5.5542652959952905\n",
            "0.1 500 0.2 2 => RMSE_sales:  1.066211585100351 RMSE_turnover:  5.357873861937372\n",
            "0.1 500 0.2 5 => RMSE_sales:  1.0620362328603925 RMSE_turnover:  5.253250205780125\n",
            "0.1 500 0.2 10 => RMSE_sales:  1.098314668071451 RMSE_turnover:  5.3409290494784685\n",
            "0.1 500 0.2 15 => RMSE_sales:  1.1153717698408807 RMSE_turnover:  5.519993578996036\n",
            "0.1 500 0.3 2 => RMSE_sales:  1.0643900255014072 RMSE_turnover:  5.35244631219398\n",
            "0.1 500 0.3 5 => RMSE_sales:  1.0573650130638477 RMSE_turnover:  5.245283883244582\n",
            "0.1 500 0.3 10 => RMSE_sales:  1.0864965499534363 RMSE_turnover:  5.350823921633812\n",
            "0.1 500 0.3 15 => RMSE_sales:  1.1157927548735735 RMSE_turnover:  5.623761841729423\n",
            "0.1 500 0.4 2 => RMSE_sales:  1.0662983529529328 RMSE_turnover:  5.3492756439710085\n",
            "0.1 500 0.4 5 => RMSE_sales:  1.0600738428322272 RMSE_turnover:  5.245165301902949\n",
            "0.1 500 0.4 10 => RMSE_sales:  1.079266902128359 RMSE_turnover:  5.310448647205977\n",
            "0.1 500 0.4 15 => RMSE_sales:  1.1184199239726815 RMSE_turnover:  5.598117300002469\n",
            "0.15 350 0.01 2 => RMSE_sales:  1.1157011364476994 RMSE_turnover:  5.519046927309785\n",
            "0.15 350 0.01 5 => RMSE_sales:  1.1633138698510799 RMSE_turnover:  5.84015838247829\n",
            "0.15 350 0.01 10 => RMSE_sales:  1.997626699272748 RMSE_turnover:  11.196001495586351\n",
            "0.15 350 0.01 15 => RMSE_sales:  2.8848754289222747 RMSE_turnover:  12.962473043399857\n",
            "0.15 350 0.05 2 => RMSE_sales:  1.0865346679369277 RMSE_turnover:  5.378145179619763\n",
            "0.15 350 0.05 5 => RMSE_sales:  1.1312757569637553 RMSE_turnover:  5.529733816055976\n",
            "0.15 350 0.05 10 => RMSE_sales:  1.3022019988146034 RMSE_turnover:  6.416548458451651\n",
            "0.15 350 0.05 15 => RMSE_sales:  1.3571639831650084 RMSE_turnover:  6.753772426910223\n",
            "0.15 350 0.1 2 => RMSE_sales:  1.085042333217653 RMSE_turnover:  5.370947935139169\n",
            "0.15 350 0.1 5 => RMSE_sales:  1.115149320499467 RMSE_turnover:  5.394116224415293\n",
            "0.15 350 0.1 10 => RMSE_sales:  1.181690470281961 RMSE_turnover:  5.6213839502753595\n",
            "0.15 350 0.1 15 => RMSE_sales:  1.3761081162018867 RMSE_turnover:  6.149211223037545\n",
            "0.15 350 0.15 2 => RMSE_sales:  1.0689508665502783 RMSE_turnover:  5.362786113614249\n",
            "0.15 350 0.15 5 => RMSE_sales:  1.076885535337344 RMSE_turnover:  5.356350731501049\n",
            "0.15 350 0.15 10 => RMSE_sales:  1.178065880971517 RMSE_turnover:  5.654336557774046\n",
            "0.15 350 0.15 15 => RMSE_sales:  1.178182174036522 RMSE_turnover:  5.859540473398537\n",
            "0.15 350 0.2 2 => RMSE_sales:  1.0692409316233575 RMSE_turnover:  5.3602599557777015\n",
            "0.15 350 0.2 5 => RMSE_sales:  1.0706320367194575 RMSE_turnover:  5.243983531388797\n",
            "0.15 350 0.2 10 => RMSE_sales:  1.105006117262131 RMSE_turnover:  5.326935898989778\n",
            "0.15 350 0.2 15 => RMSE_sales:  1.1433466905008542 RMSE_turnover:  5.66844731289277\n",
            "0.15 350 0.3 2 => RMSE_sales:  1.0702417780113826 RMSE_turnover:  5.354381220051391\n",
            "0.15 350 0.3 5 => RMSE_sales:  1.0643545307134499 RMSE_turnover:  5.302696007836196\n",
            "0.15 350 0.3 10 => RMSE_sales:  1.0809024303919388 RMSE_turnover:  5.34602652096246\n",
            "0.15 350 0.3 15 => RMSE_sales:  1.1360193224753832 RMSE_turnover:  5.635504402264764\n",
            "0.15 350 0.4 2 => RMSE_sales:  1.0743967195443815 RMSE_turnover:  5.352629334631916\n",
            "0.15 350 0.4 5 => RMSE_sales:  1.0618367480513022 RMSE_turnover:  5.248271852198722\n",
            "0.15 350 0.4 10 => RMSE_sales:  1.0867387302741234 RMSE_turnover:  5.354452267976438\n",
            "0.15 350 0.4 15 => RMSE_sales:  1.1330771239231863 RMSE_turnover:  5.673969004898147\n",
            "0.15 400 0.01 2 => RMSE_sales:  1.2139279662331033 RMSE_turnover:  5.750247133213171\n",
            "0.15 400 0.01 5 => RMSE_sales:  1.1721210609644712 RMSE_turnover:  5.884420883928956\n",
            "0.15 400 0.01 10 => RMSE_sales:  2.359057094936064 RMSE_turnover:  11.950461145744777\n",
            "0.15 400 0.01 15 => RMSE_sales:  3.8196063811795202 RMSE_turnover:  18.140542750035184\n",
            "0.15 400 0.05 2 => RMSE_sales:  1.1069063652100588 RMSE_turnover:  5.38466384168623\n",
            "0.15 400 0.05 5 => RMSE_sales:  1.1568943381291024 RMSE_turnover:  5.6252579096403\n",
            "0.15 400 0.05 10 => RMSE_sales:  1.2937134744415173 RMSE_turnover:  6.585923102267197\n",
            "0.15 400 0.05 15 => RMSE_sales:  1.431190371702892 RMSE_turnover:  7.000939269054457\n",
            "0.15 400 0.1 2 => RMSE_sales:  1.0755479777020958 RMSE_turnover:  5.361693524179527\n",
            "0.15 400 0.1 5 => RMSE_sales:  1.1544880180350896 RMSE_turnover:  5.493104690215647\n",
            "0.15 400 0.1 10 => RMSE_sales:  1.1998630127156888 RMSE_turnover:  5.68079423704995\n",
            "0.15 400 0.1 15 => RMSE_sales:  1.432849479785245 RMSE_turnover:  6.1685102352013965\n",
            "0.15 400 0.15 2 => RMSE_sales:  1.065516517569664 RMSE_turnover:  5.360254490905464\n",
            "0.15 400 0.15 5 => RMSE_sales:  1.0848550371165373 RMSE_turnover:  5.338552545639235\n",
            "0.15 400 0.15 10 => RMSE_sales:  1.1934721338836638 RMSE_turnover:  5.697093122401239\n",
            "0.15 400 0.15 15 => RMSE_sales:  1.1848499235961605 RMSE_turnover:  5.9298968350017836\n",
            "0.15 400 0.2 2 => RMSE_sales:  1.0652298837746963 RMSE_turnover:  5.357076036787556\n",
            "0.15 400 0.2 5 => RMSE_sales:  1.069284212298608 RMSE_turnover:  5.241571794858413\n",
            "0.15 400 0.2 10 => RMSE_sales:  1.112214847549019 RMSE_turnover:  5.350077043705687\n",
            "0.15 400 0.2 15 => RMSE_sales:  1.1560770406374838 RMSE_turnover:  5.703455787156066\n",
            "0.15 400 0.3 2 => RMSE_sales:  1.0705172581109592 RMSE_turnover:  5.354388037512093\n",
            "0.15 400 0.3 5 => RMSE_sales:  1.0677123973643619 RMSE_turnover:  5.288482328344038\n",
            "0.15 400 0.3 10 => RMSE_sales:  1.0878464504186296 RMSE_turnover:  5.358960118402586\n",
            "0.15 400 0.3 15 => RMSE_sales:  1.1445411470588072 RMSE_turnover:  5.673496461360377\n",
            "0.15 400 0.4 2 => RMSE_sales:  1.0726871290209552 RMSE_turnover:  5.35560345082339\n",
            "0.15 400 0.4 5 => RMSE_sales:  1.0627596854760637 RMSE_turnover:  5.235563901528787\n",
            "0.15 400 0.4 10 => RMSE_sales:  1.092291580779704 RMSE_turnover:  5.38735475574846\n",
            "0.15 400 0.4 15 => RMSE_sales:  1.1409198177175839 RMSE_turnover:  5.734375759322383\n",
            "0.15 450 0.01 2 => RMSE_sales:  1.140278254737784 RMSE_turnover:  5.6294504801892415\n",
            "0.15 450 0.01 5 => RMSE_sales:  1.2194888967111794 RMSE_turnover:  6.1475401025142276\n",
            "0.15 450 0.01 10 => RMSE_sales:  1.8725760214226017 RMSE_turnover:  10.31347984572036\n",
            "0.15 450 0.01 15 => RMSE_sales:  4.827842398771446 RMSE_turnover:  19.42610503129967\n",
            "0.15 450 0.05 2 => RMSE_sales:  1.0974060406359527 RMSE_turnover:  5.394902713268948\n",
            "0.15 450 0.05 5 => RMSE_sales:  1.163509278525232 RMSE_turnover:  5.5744138657427875\n",
            "0.15 450 0.05 10 => RMSE_sales:  1.441574458247697 RMSE_turnover:  7.323209955817515\n",
            "0.15 450 0.05 15 => RMSE_sales:  1.471542286148418 RMSE_turnover:  7.381260378538713\n",
            "0.15 450 0.1 2 => RMSE_sales:  1.0796716183639374 RMSE_turnover:  5.369795760120129\n",
            "0.15 450 0.1 5 => RMSE_sales:  1.1553515304408772 RMSE_turnover:  5.498943606970524\n",
            "0.15 450 0.1 10 => RMSE_sales:  1.2499305750715346 RMSE_turnover:  5.782491412626639\n",
            "0.15 450 0.1 15 => RMSE_sales:  1.4010370477919618 RMSE_turnover:  6.430517483076573\n",
            "0.15 450 0.15 2 => RMSE_sales:  1.0670358862495923 RMSE_turnover:  5.362682496457892\n",
            "0.15 450 0.15 5 => RMSE_sales:  1.080737292643233 RMSE_turnover:  5.31134159928858\n",
            "0.15 450 0.15 10 => RMSE_sales:  1.192797085839928 RMSE_turnover:  5.719857719855728\n",
            "0.15 450 0.15 15 => RMSE_sales:  1.1942879506541757 RMSE_turnover:  6.07522136198675\n",
            "0.15 450 0.2 2 => RMSE_sales:  1.0668445783836829 RMSE_turnover:  5.358721588190863\n",
            "0.15 450 0.2 5 => RMSE_sales:  1.0691906262119621 RMSE_turnover:  5.242565110047544\n",
            "0.15 450 0.2 10 => RMSE_sales:  1.1166068968281024 RMSE_turnover:  5.361931093108467\n",
            "0.15 450 0.2 15 => RMSE_sales:  1.1689617031759838 RMSE_turnover:  5.723064532905485\n",
            "0.15 450 0.3 2 => RMSE_sales:  1.0726603903146803 RMSE_turnover:  5.362167198130229\n",
            "0.15 450 0.3 5 => RMSE_sales:  1.071829378584429 RMSE_turnover:  5.295426625363141\n",
            "0.15 450 0.3 10 => RMSE_sales:  1.0935331248278286 RMSE_turnover:  5.4064553739903\n",
            "0.15 450 0.3 15 => RMSE_sales:  1.1514662986367603 RMSE_turnover:  5.7038036225785\n",
            "0.15 450 0.4 2 => RMSE_sales:  1.073857722513735 RMSE_turnover:  5.353312503018357\n",
            "0.15 450 0.4 5 => RMSE_sales:  1.0672009069552735 RMSE_turnover:  5.240729622117998\n",
            "0.15 450 0.4 10 => RMSE_sales:  1.0960745327021906 RMSE_turnover:  5.381188831664604\n",
            "0.15 450 0.4 15 => RMSE_sales:  1.148959730966204 RMSE_turnover:  5.757465704590187\n",
            "0.15 500 0.01 2 => RMSE_sales:  1.1566276351555294 RMSE_turnover:  5.626448246718409\n",
            "0.15 500 0.01 5 => RMSE_sales:  1.2458719691085667 RMSE_turnover:  6.167776218082104\n",
            "0.15 500 0.01 10 => RMSE_sales:  1.8842365711217601 RMSE_turnover:  10.221357083804413\n",
            "0.15 500 0.01 15 => RMSE_sales:  5.980624966589289 RMSE_turnover:  25.46921857068212\n",
            "0.15 500 0.05 2 => RMSE_sales:  1.1041324291781425 RMSE_turnover:  5.414072555752403\n",
            "0.15 500 0.05 5 => RMSE_sales:  1.1717364711228326 RMSE_turnover:  5.511160860675834\n",
            "0.15 500 0.05 10 => RMSE_sales:  1.431697463761506 RMSE_turnover:  6.703349130890816\n",
            "0.15 500 0.05 15 => RMSE_sales:  1.5801208216360243 RMSE_turnover:  7.372174333916629\n",
            "0.15 500 0.1 2 => RMSE_sales:  1.0825098632770564 RMSE_turnover:  5.38211379767706\n",
            "0.15 500 0.1 5 => RMSE_sales:  1.192313748156805 RMSE_turnover:  5.533147011492779\n",
            "0.15 500 0.1 10 => RMSE_sales:  1.3121744734951457 RMSE_turnover:  5.978165934197465\n",
            "0.15 500 0.1 15 => RMSE_sales:  1.5523851891538059 RMSE_turnover:  6.716728888279869\n",
            "0.15 500 0.15 2 => RMSE_sales:  1.0791494061115607 RMSE_turnover:  5.3792454382327755\n",
            "0.15 500 0.15 5 => RMSE_sales:  1.0819228643130354 RMSE_turnover:  5.305815507872001\n",
            "0.15 500 0.15 10 => RMSE_sales:  1.1797165727069134 RMSE_turnover:  5.660547752600739\n",
            "0.15 500 0.15 15 => RMSE_sales:  1.2122136139385344 RMSE_turnover:  6.185751503680612\n",
            "0.15 500 0.2 2 => RMSE_sales:  1.0706528594399416 RMSE_turnover:  5.3649858874926455\n",
            "0.15 500 0.2 5 => RMSE_sales:  1.07640265504092 RMSE_turnover:  5.263131675111898\n",
            "0.15 500 0.2 10 => RMSE_sales:  1.1219062521575416 RMSE_turnover:  5.3809831949739815\n",
            "0.15 500 0.2 15 => RMSE_sales:  1.179676998790224 RMSE_turnover:  5.7382540936513555\n",
            "0.15 500 0.3 2 => RMSE_sales:  1.078434469448687 RMSE_turnover:  5.365395144712869\n",
            "0.15 500 0.3 5 => RMSE_sales:  1.0752076981197254 RMSE_turnover:  5.2868283844354425\n",
            "0.15 500 0.3 10 => RMSE_sales:  1.098277550226116 RMSE_turnover:  5.425200260793394\n",
            "0.15 500 0.3 15 => RMSE_sales:  1.156862920136206 RMSE_turnover:  5.731423323620687\n",
            "0.15 500 0.4 2 => RMSE_sales:  1.0846079406898683 RMSE_turnover:  5.365341367303029\n",
            "0.15 500 0.4 5 => RMSE_sales:  1.0667143723675832 RMSE_turnover:  5.229680526389014\n",
            "0.15 500 0.4 10 => RMSE_sales:  1.1006362218646457 RMSE_turnover:  5.388406194119909\n",
            "0.15 500 0.4 15 => RMSE_sales:  1.1567020616050774 RMSE_turnover:  5.792305596704099\n",
            "0.25 350 0.01 2 => RMSE_sales:  1.2270819749668067 RMSE_turnover:  5.930549318395497\n",
            "0.25 350 0.01 5 => RMSE_sales:  1.6511306267887562 RMSE_turnover:  10.327247987069265\n",
            "0.25 350 0.01 10 => RMSE_sales:  12.591524247191051 RMSE_turnover:  32.882987856727716\n",
            "0.25 350 0.01 15 => RMSE_sales:  33.02818080325177 RMSE_turnover:  108.4993281326967\n",
            "0.25 350 0.05 2 => RMSE_sales:  1.2057088866635697 RMSE_turnover:  5.519469994241649\n",
            "0.25 350 0.05 5 => RMSE_sales:  1.2703209996092228 RMSE_turnover:  6.324052961223758\n",
            "0.25 350 0.05 10 => RMSE_sales:  3.09499710255562 RMSE_turnover:  13.379531142769151\n",
            "0.25 350 0.05 15 => RMSE_sales:  3.7241317149596775 RMSE_turnover:  24.743223593419536\n",
            "0.25 350 0.1 2 => RMSE_sales:  1.0962912094432167 RMSE_turnover:  5.380696535791583\n",
            "0.25 350 0.1 5 => RMSE_sales:  1.1575954330571037 RMSE_turnover:  5.474785117228834\n",
            "0.25 350 0.1 10 => RMSE_sales:  2.231990480079563 RMSE_turnover:  7.216134443878918\n",
            "0.25 350 0.1 15 => RMSE_sales:  1.8154807532048867 RMSE_turnover:  8.460585166101687\n",
            "0.25 350 0.15 2 => RMSE_sales:  1.0721461325147335 RMSE_turnover:  5.364280521869765\n",
            "0.25 350 0.15 5 => RMSE_sales:  1.258483202719906 RMSE_turnover:  5.451556555555885\n",
            "0.25 350 0.15 10 => RMSE_sales:  1.425548589258764 RMSE_turnover:  6.238332166189014\n",
            "0.25 350 0.15 15 => RMSE_sales:  1.8347543148028065 RMSE_turnover:  7.524269513247038\n",
            "0.25 350 0.2 2 => RMSE_sales:  1.0903501559728013 RMSE_turnover:  5.393822715609057\n",
            "0.25 350 0.2 5 => RMSE_sales:  1.1205403113662002 RMSE_turnover:  5.346713554642004\n",
            "0.25 350 0.2 10 => RMSE_sales:  1.1880696401797843 RMSE_turnover:  5.726250480978406\n",
            "0.25 350 0.2 15 => RMSE_sales:  1.3079682492058067 RMSE_turnover:  6.664813512156034\n",
            "0.25 350 0.3 2 => RMSE_sales:  1.0772118734068112 RMSE_turnover:  5.36589770594566\n",
            "0.25 350 0.3 5 => RMSE_sales:  1.121103290072052 RMSE_turnover:  5.270678689997049\n",
            "0.25 350 0.3 10 => RMSE_sales:  1.1465555511179797 RMSE_turnover:  5.595752820004561\n",
            "0.25 350 0.3 15 => RMSE_sales:  1.2395615812445562 RMSE_turnover:  6.116540711854384\n",
            "0.25 350 0.4 2 => RMSE_sales:  1.0845647734199448 RMSE_turnover:  5.361438250588615\n",
            "0.25 350 0.4 5 => RMSE_sales:  1.0906649460914628 RMSE_turnover:  5.278398731937048\n",
            "0.25 350 0.4 10 => RMSE_sales:  1.12545578512264 RMSE_turnover:  5.479380816146788\n",
            "0.25 350 0.4 15 => RMSE_sales:  1.235203412725031 RMSE_turnover:  6.085002423141186\n",
            "0.25 400 0.01 2 => RMSE_sales:  1.2628892622169416 RMSE_turnover:  6.1430028052387255\n",
            "0.25 400 0.01 5 => RMSE_sales:  2.0201417911259947 RMSE_turnover:  12.19218772012149\n",
            "0.25 400 0.01 10 => RMSE_sales:  18.021968513178138 RMSE_turnover:  67.08965520392512\n",
            "0.25 400 0.01 15 => RMSE_sales:  51.22582490914657 RMSE_turnover:  182.40722128285373\n",
            "0.25 400 0.05 2 => RMSE_sales:  1.180815048535746 RMSE_turnover:  5.5223497332449405\n",
            "0.25 400 0.05 5 => RMSE_sales:  1.3717713118744763 RMSE_turnover:  6.798032071439238\n",
            "0.25 400 0.05 10 => RMSE_sales:  3.828142377554232 RMSE_turnover:  13.980454124043336\n",
            "0.25 400 0.05 15 => RMSE_sales:  6.065884316222184 RMSE_turnover:  39.278734083250924\n",
            "0.25 400 0.1 2 => RMSE_sales:  1.089840137779768 RMSE_turnover:  5.368962302583437\n",
            "0.25 400 0.1 5 => RMSE_sales:  1.1815884664637368 RMSE_turnover:  5.5289256584968935\n",
            "0.25 400 0.1 10 => RMSE_sales:  2.3928330832983327 RMSE_turnover:  7.5088103718530546\n",
            "0.25 400 0.1 15 => RMSE_sales:  2.0690886874515932 RMSE_turnover:  9.93428693475834\n",
            "0.25 400 0.15 2 => RMSE_sales:  1.078198605011866 RMSE_turnover:  5.377028631427092\n",
            "0.25 400 0.15 5 => RMSE_sales:  1.311167021492672 RMSE_turnover:  5.538911882219931\n",
            "0.25 400 0.15 10 => RMSE_sales:  1.376218177190603 RMSE_turnover:  6.21884056232904\n",
            "0.25 400 0.15 15 => RMSE_sales:  1.9927211357267272 RMSE_turnover:  8.135945112362922\n",
            "0.25 400 0.2 2 => RMSE_sales:  1.075425695226496 RMSE_turnover:  5.380121435510941\n",
            "0.25 400 0.2 5 => RMSE_sales:  1.122690032598991 RMSE_turnover:  5.3733888976792255\n",
            "0.25 400 0.2 10 => RMSE_sales:  1.2246273057770036 RMSE_turnover:  5.787701945891796\n",
            "0.25 400 0.2 15 => RMSE_sales:  1.3288725772337437 RMSE_turnover:  6.703797532800366\n",
            "0.25 400 0.3 2 => RMSE_sales:  1.0770181114208706 RMSE_turnover:  5.364637278975307\n",
            "0.25 400 0.3 5 => RMSE_sales:  1.113925128584557 RMSE_turnover:  5.284817100147315\n",
            "0.25 400 0.3 10 => RMSE_sales:  1.1583345320692104 RMSE_turnover:  5.6432800220311\n",
            "0.25 400 0.3 15 => RMSE_sales:  1.2575808560229063 RMSE_turnover:  6.204099925252707\n",
            "0.25 400 0.4 2 => RMSE_sales:  1.0966586344008913 RMSE_turnover:  5.371342838143948\n",
            "0.25 400 0.4 5 => RMSE_sales:  1.0951431581565003 RMSE_turnover:  5.275187948219039\n",
            "0.25 400 0.4 10 => RMSE_sales:  1.1376988210262182 RMSE_turnover:  5.52187177438605\n",
            "0.25 400 0.4 15 => RMSE_sales:  1.2540233645884802 RMSE_turnover:  6.158481295914092\n",
            "0.25 450 0.01 2 => RMSE_sales:  1.3750796738652413 RMSE_turnover:  6.244997515570944\n",
            "0.25 450 0.01 5 => RMSE_sales:  2.2931621396900637 RMSE_turnover:  14.178284393064194\n",
            "0.25 450 0.01 10 => RMSE_sales:  24.249179235207 RMSE_turnover:  122.17037256049834\n",
            "0.25 450 0.01 15 => RMSE_sales:  110.34767983139852 RMSE_turnover:  410.88536176940323\n",
            "0.25 450 0.05 2 => RMSE_sales:  1.215430119734519 RMSE_turnover:  5.600868045599879\n",
            "0.25 450 0.05 5 => RMSE_sales:  1.3345465425047829 RMSE_turnover:  6.466590369187787\n",
            "0.25 450 0.05 10 => RMSE_sales:  3.96418799892236 RMSE_turnover:  20.77495472055219\n",
            "0.25 450 0.05 15 => RMSE_sales:  7.5798748539507015 RMSE_turnover:  62.455426298318024\n",
            "0.25 450 0.1 2 => RMSE_sales:  1.1040869936167612 RMSE_turnover:  5.4004696042632165\n",
            "0.25 450 0.1 5 => RMSE_sales:  1.2206624929153778 RMSE_turnover:  5.680149639516698\n",
            "0.25 450 0.1 10 => RMSE_sales:  3.5812164310277597 RMSE_turnover:  9.304564034399613\n",
            "0.25 450 0.1 15 => RMSE_sales:  2.3709208830860264 RMSE_turnover:  12.301031453037444\n",
            "0.25 450 0.15 2 => RMSE_sales:  1.086948310318007 RMSE_turnover:  5.389593686096966\n",
            "0.25 450 0.15 5 => RMSE_sales:  1.3861894082671582 RMSE_turnover:  5.617228034079746\n",
            "0.25 450 0.15 10 => RMSE_sales:  1.3754732552390965 RMSE_turnover:  6.323604375456514\n",
            "0.25 450 0.15 15 => RMSE_sales:  2.2092877867099965 RMSE_turnover:  9.179485497722037\n",
            "0.25 450 0.2 2 => RMSE_sales:  1.0852129415039216 RMSE_turnover:  5.384788366519351\n",
            "0.25 450 0.2 5 => RMSE_sales:  1.1351834857277823 RMSE_turnover:  5.3749970413752095\n",
            "0.25 450 0.2 10 => RMSE_sales:  1.2417663523520055 RMSE_turnover:  6.0162640629720165\n",
            "0.25 450 0.2 15 => RMSE_sales:  1.3556385386617513 RMSE_turnover:  6.969655145276531\n",
            "0.25 450 0.3 2 => RMSE_sales:  1.0799174888614265 RMSE_turnover:  5.370157517523869\n",
            "0.25 450 0.3 5 => RMSE_sales:  1.1027805884356674 RMSE_turnover:  5.280211633263224\n",
            "0.25 450 0.3 10 => RMSE_sales:  1.1628579003113049 RMSE_turnover:  5.760862989582212\n",
            "0.25 450 0.3 15 => RMSE_sales:  1.2684285748977888 RMSE_turnover:  6.2699144498462465\n",
            "0.25 450 0.4 2 => RMSE_sales:  1.096622038970969 RMSE_turnover:  5.374059186763016\n",
            "0.25 450 0.4 5 => RMSE_sales:  1.1078053020324488 RMSE_turnover:  5.2810502374424235\n",
            "0.25 450 0.4 10 => RMSE_sales:  1.1458423465042358 RMSE_turnover:  5.5831427541142675\n",
            "0.25 450 0.4 15 => RMSE_sales:  1.3020691399076094 RMSE_turnover:  6.241245062503681\n",
            "0.25 500 0.01 2 => RMSE_sales:  1.1940531254824356 RMSE_turnover:  5.913573190272037\n",
            "0.25 500 0.01 5 => RMSE_sales:  2.952142010994943 RMSE_turnover:  18.55118486653607\n",
            "0.25 500 0.01 10 => RMSE_sales:  41.33981600656749 RMSE_turnover:  219.41270052584676\n",
            "0.25 500 0.01 15 => RMSE_sales:  221.57209861004674 RMSE_turnover:  735.5492474378576\n",
            "0.25 500 0.05 2 => RMSE_sales:  1.3188819015950002 RMSE_turnover:  5.7079934947454465\n",
            "0.25 500 0.05 5 => RMSE_sales:  2.2309200900286643 RMSE_turnover:  7.6819839140257296\n",
            "0.25 500 0.05 10 => RMSE_sales:  5.770877166681989 RMSE_turnover:  24.616544504101544\n",
            "0.25 500 0.05 15 => RMSE_sales:  11.49897703240358 RMSE_turnover:  126.53636452239617\n",
            "0.25 500 0.1 2 => RMSE_sales:  1.1083036674811957 RMSE_turnover:  5.416194077060399\n",
            "0.25 500 0.1 5 => RMSE_sales:  1.2637930836207123 RMSE_turnover:  5.800792651967829\n",
            "0.25 500 0.1 10 => RMSE_sales:  4.287332521512353 RMSE_turnover:  10.723264544232062\n",
            "0.25 500 0.1 15 => RMSE_sales:  2.9716266903979527 RMSE_turnover:  13.552734691844416\n",
            "0.25 500 0.15 2 => RMSE_sales:  1.1123017955425885 RMSE_turnover:  5.417869878179145\n",
            "0.25 500 0.15 5 => RMSE_sales:  1.4974982828844412 RMSE_turnover:  5.70520178620937\n",
            "0.25 500 0.15 10 => RMSE_sales:  1.4661521547383172 RMSE_turnover:  6.437056081307723\n",
            "0.25 500 0.15 15 => RMSE_sales:  2.5970710968321806 RMSE_turnover:  9.380860304685976\n",
            "0.25 500 0.2 2 => RMSE_sales:  1.0969858015581821 RMSE_turnover:  5.389224242295386\n",
            "0.25 500 0.2 5 => RMSE_sales:  1.135453238789045 RMSE_turnover:  5.3651781892854595\n",
            "0.25 500 0.2 10 => RMSE_sales:  1.2900286996833707 RMSE_turnover:  6.02228817858525\n",
            "0.25 500 0.2 15 => RMSE_sales:  1.4173082279938258 RMSE_turnover:  7.24782485798536\n",
            "0.25 500 0.3 2 => RMSE_sales:  1.0914830962578401 RMSE_turnover:  5.381579732858376\n",
            "0.25 500 0.3 5 => RMSE_sales:  1.1132613494701016 RMSE_turnover:  5.309877934118138\n",
            "0.25 500 0.3 10 => RMSE_sales:  1.172656422431114 RMSE_turnover:  5.808629586856952\n",
            "0.25 500 0.3 15 => RMSE_sales:  1.2815472176463867 RMSE_turnover:  6.345272850753608\n",
            "0.25 500 0.4 2 => RMSE_sales:  1.107113703485633 RMSE_turnover:  5.383631433312261\n",
            "0.25 500 0.4 5 => RMSE_sales:  1.1110776205504018 RMSE_turnover:  5.27045126327786\n",
            "0.25 500 0.4 10 => RMSE_sales:  1.1549803713948799 RMSE_turnover:  5.626196081160251\n",
            "0.25 500 0.4 15 => RMSE_sales:  1.3054417155927887 RMSE_turnover:  6.349014163295441\n",
            "0.4 350 0.01 2 => RMSE_sales:  1.3988879103836818 RMSE_turnover:  5.977804153401181\n",
            "0.4 350 0.01 5 => RMSE_sales:  6.125150562851335 RMSE_turnover:  38.76287927967387\n",
            "0.4 350 0.01 10 => RMSE_sales:  355.5937601030215 RMSE_turnover:  3822.22739491579\n",
            "0.4 350 0.01 15 => RMSE_sales:  13237.880735068193 RMSE_turnover:  108937.29636839304\n",
            "0.4 350 0.05 2 => RMSE_sales:  1.1404770560547044 RMSE_turnover:  5.4806088691361055\n",
            "0.4 350 0.05 5 => RMSE_sales:  3.3216959564159354 RMSE_turnover:  12.091014594930808\n",
            "0.4 350 0.05 10 => RMSE_sales:  184.25931153301016 RMSE_turnover:  382.1905510983068\n",
            "0.4 350 0.05 15 => RMSE_sales:  1653.464846648552 RMSE_turnover:  5948.240477834382\n",
            "0.4 350 0.1 2 => RMSE_sales:  1.2060434114767766 RMSE_turnover:  5.5587397391378826\n",
            "0.4 350 0.1 5 => RMSE_sales:  5.486407514770459 RMSE_turnover:  12.611448359760146\n",
            "0.4 350 0.1 10 => RMSE_sales:  17.31448260515846 RMSE_turnover:  49.21184654250453\n",
            "0.4 350 0.1 15 => RMSE_sales:  49.52425265804993 RMSE_turnover:  236.68946952118483\n",
            "0.4 350 0.15 2 => RMSE_sales:  1.0845561141595326 RMSE_turnover:  5.381388893359428\n",
            "0.4 350 0.15 5 => RMSE_sales:  1.633792134666301 RMSE_turnover:  6.068850322592116\n",
            "0.4 350 0.15 10 => RMSE_sales:  3.0586833895314967 RMSE_turnover:  15.897617794385019\n",
            "0.4 350 0.15 15 => RMSE_sales:  3.747882139991384 RMSE_turnover:  17.759129083742586\n",
            "0.4 350 0.2 2 => RMSE_sales:  1.1444711958565241 RMSE_turnover:  5.429416859334311\n",
            "0.4 350 0.2 5 => RMSE_sales:  1.1742860808688567 RMSE_turnover:  5.442114805067612\n",
            "0.4 350 0.2 10 => RMSE_sales:  1.599997231161692 RMSE_turnover:  8.113207342469096\n",
            "0.4 350 0.2 15 => RMSE_sales:  2.9001870300122907 RMSE_turnover:  13.473919511835428\n",
            "0.4 350 0.3 2 => RMSE_sales:  1.103113890205539 RMSE_turnover:  5.404971774050416\n",
            "0.4 350 0.3 5 => RMSE_sales:  1.107637421057084 RMSE_turnover:  5.278790956955425\n",
            "0.4 350 0.3 10 => RMSE_sales:  1.9782272149069915 RMSE_turnover:  7.069269140926351\n",
            "0.4 350 0.3 15 => RMSE_sales:  1.9391664244644706 RMSE_turnover:  10.279362614118899\n",
            "0.4 350 0.4 2 => RMSE_sales:  1.1042718749978604 RMSE_turnover:  5.382119902825523\n",
            "0.4 350 0.4 5 => RMSE_sales:  1.1795382805752312 RMSE_turnover:  5.383656157119304\n",
            "0.4 350 0.4 10 => RMSE_sales:  1.2284986449886997 RMSE_turnover:  5.8676905827911625\n",
            "0.4 350 0.4 15 => RMSE_sales:  1.4969810217861574 RMSE_turnover:  6.7555693846482825\n",
            "0.4 400 0.01 2 => RMSE_sales:  2.474766119337133 RMSE_turnover:  8.288053772165073\n",
            "0.4 400 0.01 5 => RMSE_sales:  16.44950834651522 RMSE_turnover:  63.450361885852125\n",
            "0.4 400 0.01 10 => RMSE_sales:  972.9933484830599 RMSE_turnover:  9595.039517345669\n",
            "0.4 400 0.01 15 => RMSE_sales:  119970.6789653124 RMSE_turnover:  782595.6767936442\n",
            "0.4 400 0.05 2 => RMSE_sales:  1.218714417839156 RMSE_turnover:  5.5306669869169625\n",
            "0.4 400 0.05 5 => RMSE_sales:  3.5858424544992364 RMSE_turnover:  11.591306267203523\n",
            "0.4 400 0.05 10 => RMSE_sales:  98.77177439983802 RMSE_turnover:  353.7646492511289\n",
            "0.4 400 0.05 15 => RMSE_sales:  8898.204798768606 RMSE_turnover:  73135.52702738218\n",
            "0.4 400 0.1 2 => RMSE_sales:  1.3174907497601414 RMSE_turnover:  5.782566945050979\n",
            "0.4 400 0.1 5 => RMSE_sales:  3.5807960791136346 RMSE_turnover:  9.041827740877862\n",
            "0.4 400 0.1 10 => RMSE_sales:  17.184560886193612 RMSE_turnover:  51.28825177796031\n",
            "0.4 400 0.1 15 => RMSE_sales:  56.410850470869065 RMSE_turnover:  185.02456033551968\n",
            "0.4 400 0.15 2 => RMSE_sales:  1.0821324191878707 RMSE_turnover:  5.375294618743971\n",
            "0.4 400 0.15 5 => RMSE_sales:  1.5447842303760078 RMSE_turnover:  5.941759450387499\n",
            "0.4 400 0.15 10 => RMSE_sales:  2.7378433905192914 RMSE_turnover:  13.239638064689244\n",
            "0.4 400 0.15 15 => RMSE_sales:  4.886860766516026 RMSE_turnover:  16.82288451921226\n",
            "0.4 400 0.2 2 => RMSE_sales:  1.1403499855551043 RMSE_turnover:  5.424083376937075\n",
            "0.4 400 0.2 5 => RMSE_sales:  1.173611531153289 RMSE_turnover:  5.471478708154256\n",
            "0.4 400 0.2 10 => RMSE_sales:  1.4974381591041115 RMSE_turnover:  7.837582942556007\n",
            "0.4 400 0.2 15 => RMSE_sales:  3.2858772894372827 RMSE_turnover:  13.967031297543945\n",
            "0.4 400 0.3 2 => RMSE_sales:  1.1093598865826717 RMSE_turnover:  5.404317119968182\n",
            "0.4 400 0.3 5 => RMSE_sales:  1.1415562920283064 RMSE_turnover:  5.345326636321067\n",
            "0.4 400 0.3 10 => RMSE_sales:  1.8460705057223334 RMSE_turnover:  6.953149074765068\n",
            "0.4 400 0.3 15 => RMSE_sales:  2.037344296687819 RMSE_turnover:  10.378054754996965\n",
            "0.4 400 0.4 2 => RMSE_sales:  1.0901798420811633 RMSE_turnover:  5.384266114091076\n",
            "0.4 400 0.4 5 => RMSE_sales:  1.1633926860850403 RMSE_turnover:  5.370757664239647\n",
            "0.4 400 0.4 10 => RMSE_sales:  1.2559282870480781 RMSE_turnover:  5.988732388452126\n",
            "0.4 400 0.4 15 => RMSE_sales:  2.0647835619119967 RMSE_turnover:  6.874480892585847\n",
            "0.4 450 0.01 2 => RMSE_sales:  2.4868744430340204 RMSE_turnover:  7.661439651153379\n",
            "0.4 450 0.01 5 => RMSE_sales:  22.64486654690547 RMSE_turnover:  96.77028742384623\n",
            "0.4 450 0.01 10 => RMSE_sales:  3740.4792786874586 RMSE_turnover:  18422.574390772133\n",
            "0.4 450 0.01 15 => RMSE_sales:  544793.5217130097 RMSE_turnover:  2911698.7761133197\n",
            "0.4 450 0.05 2 => RMSE_sales:  1.1448885135487137 RMSE_turnover:  5.5478865189305475\n",
            "0.4 450 0.05 5 => RMSE_sales:  6.1546024271011515 RMSE_turnover:  20.903307127677017\n",
            "0.4 450 0.05 10 => RMSE_sales:  131.4771081362815 RMSE_turnover:  608.4994326322691\n",
            "0.4 450 0.05 15 => RMSE_sales:  205774.77607004644 RMSE_turnover:  583592.1787624364\n",
            "0.4 450 0.1 2 => RMSE_sales:  1.5184870358802482 RMSE_turnover:  6.262930711046503\n",
            "0.4 450 0.1 5 => RMSE_sales:  4.6041673454617005 RMSE_turnover:  11.002613732710607\n",
            "0.4 450 0.1 10 => RMSE_sales:  28.829799509870796 RMSE_turnover:  73.70050054489327\n",
            "0.4 450 0.1 15 => RMSE_sales:  125.71975632544557 RMSE_turnover:  331.3869304735963\n",
            "0.4 450 0.15 2 => RMSE_sales:  1.0803502735410297 RMSE_turnover:  5.3801393061782\n",
            "0.4 450 0.15 5 => RMSE_sales:  1.8603024184015167 RMSE_turnover:  6.364613530920704\n",
            "0.4 450 0.15 10 => RMSE_sales:  3.008689972647677 RMSE_turnover:  14.560277360337029\n",
            "0.4 450 0.15 15 => RMSE_sales:  5.234126527730828 RMSE_turnover:  22.62281399909656\n",
            "0.4 450 0.2 2 => RMSE_sales:  1.1088570214989766 RMSE_turnover:  5.404530313404189\n",
            "0.4 450 0.2 5 => RMSE_sales:  1.196520700431377 RMSE_turnover:  5.564004770097554\n",
            "0.4 450 0.2 10 => RMSE_sales:  1.750504346149696 RMSE_turnover:  8.982650074253758\n",
            "0.4 450 0.2 15 => RMSE_sales:  4.38653309351209 RMSE_turnover:  17.248280245196298\n",
            "0.4 450 0.3 2 => RMSE_sales:  1.1016594504030846 RMSE_turnover:  5.393495715112027\n",
            "0.4 450 0.3 5 => RMSE_sales:  1.1231036471087668 RMSE_turnover:  5.343919444390744\n",
            "0.4 450 0.3 10 => RMSE_sales:  1.7328159767803082 RMSE_turnover:  6.836990345086926\n",
            "0.4 450 0.3 15 => RMSE_sales:  2.112708048312562 RMSE_turnover:  10.320061194438999\n",
            "0.4 450 0.4 2 => RMSE_sales:  1.0995660044992142 RMSE_turnover:  5.390566228188861\n",
            "0.4 450 0.4 5 => RMSE_sales:  1.1504908291652527 RMSE_turnover:  5.371549871326749\n",
            "0.4 450 0.4 10 => RMSE_sales:  1.2738772954478745 RMSE_turnover:  6.0332079371192835\n",
            "0.4 450 0.4 15 => RMSE_sales:  2.927806146179426 RMSE_turnover:  7.276695653172414\n",
            "0.4 500 0.01 2 => RMSE_sales:  1.4589687396367943 RMSE_turnover:  6.348040748417542\n",
            "0.4 500 0.01 5 => RMSE_sales:  52.80571390081549 RMSE_turnover:  183.16633110794703\n",
            "0.4 500 0.01 10 => RMSE_sales:  16977.964370653797 RMSE_turnover:  59704.542404958\n",
            "0.4 500 0.01 15 => RMSE_sales:  2165885.500152031 RMSE_turnover:  13637560.334081307\n",
            "0.4 500 0.05 2 => RMSE_sales:  1.208742670819912 RMSE_turnover:  5.599896918862912\n",
            "0.4 500 0.05 5 => RMSE_sales:  5.788049558166786 RMSE_turnover:  22.88315274410605\n",
            "0.4 500 0.05 10 => RMSE_sales:  679.5407201175815 RMSE_turnover:  1427.6780834207357\n",
            "0.4 500 0.05 15 => RMSE_sales:  83396.20427653643 RMSE_turnover:  665956.3277542158\n",
            "0.4 500 0.1 2 => RMSE_sales:  1.5447382580062208 RMSE_turnover:  6.1152688710878165\n",
            "0.4 500 0.1 5 => RMSE_sales:  7.077295743083093 RMSE_turnover:  15.55972519113057\n",
            "0.4 500 0.1 10 => RMSE_sales:  68.59623556298926 RMSE_turnover:  163.3473434602041\n",
            "0.4 500 0.1 15 => RMSE_sales:  397.0622500599582 RMSE_turnover:  800.9474606181337\n",
            "0.4 500 0.15 2 => RMSE_sales:  1.0936381470607666 RMSE_turnover:  5.4052784468764115\n",
            "0.4 500 0.15 5 => RMSE_sales:  2.4660956110725483 RMSE_turnover:  7.273603585530579\n",
            "0.4 500 0.15 10 => RMSE_sales:  3.5524259171499413 RMSE_turnover:  17.93115322128145\n",
            "0.4 500 0.15 15 => RMSE_sales:  6.038033620317434 RMSE_turnover:  26.789882170814565\n",
            "0.4 500 0.2 2 => RMSE_sales:  1.130294751981532 RMSE_turnover:  5.434073295737491\n",
            "0.4 500 0.2 5 => RMSE_sales:  1.3773532968820406 RMSE_turnover:  5.813572831923587\n",
            "0.4 500 0.2 10 => RMSE_sales:  1.8955512268199524 RMSE_turnover:  9.14002954211535\n",
            "0.4 500 0.2 15 => RMSE_sales:  4.5983576629968965 RMSE_turnover:  18.98361054206632\n",
            "0.4 500 0.3 2 => RMSE_sales:  1.112703351630744 RMSE_turnover:  5.406575870493331\n",
            "0.4 500 0.3 5 => RMSE_sales:  1.2207901516974553 RMSE_turnover:  5.4499193042766505\n",
            "0.4 500 0.3 10 => RMSE_sales:  1.7620424720642016 RMSE_turnover:  7.113836408277757\n",
            "0.4 500 0.3 15 => RMSE_sales:  2.9176093330840844 RMSE_turnover:  11.347338643731513\n",
            "0.4 500 0.4 2 => RMSE_sales:  1.1002420929556507 RMSE_turnover:  5.3934075986257835\n",
            "0.4 500 0.4 5 => RMSE_sales:  1.1739528181103205 RMSE_turnover:  5.393523299109729\n",
            "0.4 500 0.4 10 => RMSE_sales:  1.3218563540620272 RMSE_turnover:  6.111738773336711\n",
            "0.4 500 0.4 15 => RMSE_sales:  2.923993446743876 RMSE_turnover:  7.387223157535552\n",
            "0.6 350 0.01 2 => RMSE_sales:  7.993190132450489 RMSE_turnover:  23.354501439447848\n",
            "0.6 350 0.01 5 => RMSE_sales:  156.76640870038602 RMSE_turnover:  852.9599754148171\n",
            "0.6 350 0.01 10 => RMSE_sales:  3606955.5129276966 RMSE_turnover:  5270884.488589334\n",
            "0.6 350 0.01 15 => RMSE_sales:  12324064.775202496 RMSE_turnover:  199918837.86534166\n",
            "0.6 350 0.05 2 => RMSE_sales:  1.5805445674414973 RMSE_turnover:  6.7812434076864125\n",
            "0.6 350 0.05 5 => RMSE_sales:  137.9828938399113 RMSE_turnover:  283.82766751886334\n",
            "0.6 350 0.05 10 => RMSE_sales:  3497158.9695806447 RMSE_turnover:  9842757.266850468\n",
            "0.6 350 0.05 15 => RMSE_sales:  20124277.800415535 RMSE_turnover:  62841880.69966397\n",
            "0.6 350 0.1 2 => RMSE_sales:  1.5742791091125612 RMSE_turnover:  6.083410991911874\n",
            "0.6 350 0.1 5 => RMSE_sales:  17.821680313587745 RMSE_turnover:  37.51058163201821\n",
            "0.6 350 0.1 10 => RMSE_sales:  20036.19306551884 RMSE_turnover:  45329.95059381904\n",
            "0.6 350 0.1 15 => RMSE_sales:  1397403.7538147601 RMSE_turnover:  3636566.4106523003\n",
            "0.6 350 0.15 2 => RMSE_sales:  1.4516934457576254 RMSE_turnover:  5.708341072389953\n",
            "0.6 350 0.15 5 => RMSE_sales:  15.294555246182325 RMSE_turnover:  30.97847909098511\n",
            "0.6 350 0.15 10 => RMSE_sales:  519.1235771944389 RMSE_turnover:  1108.350235195566\n",
            "0.6 350 0.15 15 => RMSE_sales:  708.7554945849098 RMSE_turnover:  10187.58848406791\n",
            "0.6 350 0.2 2 => RMSE_sales:  1.2053986870207885 RMSE_turnover:  5.545013460617138\n",
            "0.6 350 0.2 5 => RMSE_sales:  18.443242451640206 RMSE_turnover:  37.261898894743126\n",
            "0.6 350 0.2 10 => RMSE_sales:  17.27223665350476 RMSE_turnover:  37.08854169527454\n",
            "0.6 350 0.2 15 => RMSE_sales:  34.75260291842915 RMSE_turnover:  378.48037338928566\n",
            "0.6 350 0.3 2 => RMSE_sales:  1.458138295086551 RMSE_turnover:  5.760697918360487\n",
            "0.6 350 0.3 5 => RMSE_sales:  1.4343746909339576 RMSE_turnover:  5.7583701830841365\n",
            "0.6 350 0.3 10 => RMSE_sales:  2.3624766647160684 RMSE_turnover:  8.485509260711583\n",
            "0.6 350 0.3 15 => RMSE_sales:  5.239344643342497 RMSE_turnover:  29.30297099905712\n",
            "0.6 350 0.4 2 => RMSE_sales:  1.196975707551964 RMSE_turnover:  5.470753796765993\n",
            "0.6 350 0.4 5 => RMSE_sales:  1.25252960562223 RMSE_turnover:  5.54601433110388\n",
            "0.6 350 0.4 10 => RMSE_sales:  1.643037388188771 RMSE_turnover:  7.275204368223262\n",
            "0.6 350 0.4 15 => RMSE_sales:  2.2436450193744046 RMSE_turnover:  10.647081406644201\n",
            "0.6 400 0.01 2 => RMSE_sales:  17.604003740679207 RMSE_turnover:  39.48791073910144\n",
            "0.6 400 0.01 5 => RMSE_sales:  363.66843001590513 RMSE_turnover:  2296.195662709697\n",
            "0.6 400 0.01 10 => RMSE_sales:  15630985.595877413 RMSE_turnover:  16432984.212440083\n",
            "0.6 400 0.01 15 => RMSE_sales:  3559026864.422103 RMSE_turnover:  67279529935.46902\n",
            "0.6 400 0.05 2 => RMSE_sales:  3.623658817719811 RMSE_turnover:  10.068046807060727\n",
            "0.6 400 0.05 5 => RMSE_sales:  65.00919391660673 RMSE_turnover:  173.29000738269295\n",
            "0.6 400 0.05 10 => RMSE_sales:  5757561.235727704 RMSE_turnover:  42468542.756110296\n",
            "0.6 400 0.05 15 => RMSE_sales:  103587268.06443498 RMSE_turnover:  430022508.4105498\n",
            "0.6 400 0.1 2 => RMSE_sales:  1.3501787345970822 RMSE_turnover:  5.828300023849121\n",
            "0.6 400 0.1 5 => RMSE_sales:  14.315155870357376 RMSE_turnover:  34.96036867712977\n",
            "0.6 400 0.1 10 => RMSE_sales:  65017.417315605286 RMSE_turnover:  132759.27950257796\n",
            "0.6 400 0.1 15 => RMSE_sales:  38859300.367664635 RMSE_turnover:  79167327.91083327\n",
            "0.6 400 0.15 2 => RMSE_sales:  1.3765869149563321 RMSE_turnover:  5.637759577913869\n",
            "0.6 400 0.15 5 => RMSE_sales:  33.408678286131966 RMSE_turnover:  66.92052274431403\n",
            "0.6 400 0.15 10 => RMSE_sales:  2424.3439068156677 RMSE_turnover:  4872.511838392379\n",
            "0.6 400 0.15 15 => RMSE_sales:  2833.9994392671824 RMSE_turnover:  24794.230629622314\n",
            "0.6 400 0.2 2 => RMSE_sales:  1.204821565777639 RMSE_turnover:  5.532605196286373\n",
            "0.6 400 0.2 5 => RMSE_sales:  9.351487009624321 RMSE_turnover:  19.635987342735184\n",
            "0.6 400 0.2 10 => RMSE_sales:  36.97647254848556 RMSE_turnover:  76.01442864933811\n",
            "0.6 400 0.2 15 => RMSE_sales:  52.31055274868822 RMSE_turnover:  410.44720562729134\n",
            "0.6 400 0.3 2 => RMSE_sales:  1.4594399097451662 RMSE_turnover:  5.750515165899829\n",
            "0.6 400 0.3 5 => RMSE_sales:  1.4194737499827508 RMSE_turnover:  5.7856225166946205\n",
            "0.6 400 0.3 10 => RMSE_sales:  2.8954505303196987 RMSE_turnover:  9.572431102203614\n",
            "0.6 400 0.3 15 => RMSE_sales:  6.448987047402274 RMSE_turnover:  37.99984027806922\n",
            "0.6 400 0.4 2 => RMSE_sales:  1.17546123360398 RMSE_turnover:  5.446244648201775\n",
            "0.6 400 0.4 5 => RMSE_sales:  1.231440245717452 RMSE_turnover:  5.529008818815577\n",
            "0.6 400 0.4 10 => RMSE_sales:  1.7376945262725416 RMSE_turnover:  7.354160882154449\n",
            "0.6 400 0.4 15 => RMSE_sales:  2.462713258626451 RMSE_turnover:  10.82661464229278\n",
            "0.6 450 0.01 2 => RMSE_sales:  5.871912653032054 RMSE_turnover:  17.901818157262273\n",
            "0.6 450 0.01 5 => RMSE_sales:  610.153354086014 RMSE_turnover:  5174.120779358964\n",
            "0.6 450 0.01 10 => RMSE_sales:  39201368.14725246 RMSE_turnover:  92556347.3716734\n",
            "0.6 450 0.01 15 => RMSE_sales:  18876600860.20495 RMSE_turnover:  348506357057.2012\n",
            "0.6 450 0.05 2 => RMSE_sales:  2.2836241439499414 RMSE_turnover:  7.561822925027956\n",
            "0.6 450 0.05 5 => RMSE_sales:  686.5131134477332 RMSE_turnover:  2784.6034280171716\n",
            "0.6 450 0.05 10 => RMSE_sales:  117638597.10999724 RMSE_turnover:  432707968.9708831\n",
            "0.6 450 0.05 15 => RMSE_sales:  491809469.644175 RMSE_turnover:  4340266601.808356\n",
            "0.6 450 0.1 2 => RMSE_sales:  1.3697227659424336 RMSE_turnover:  5.819990824940801\n",
            "0.6 450 0.1 5 => RMSE_sales:  131.33714038343027 RMSE_turnover:  260.00555814532595\n",
            "0.6 450 0.1 10 => RMSE_sales:  190833.87159002686 RMSE_turnover:  457033.2878389076\n",
            "0.6 450 0.1 15 => RMSE_sales:  104486972.01369514 RMSE_turnover:  209399052.05993795\n",
            "0.6 450 0.15 2 => RMSE_sales:  1.2717151823136854 RMSE_turnover:  5.535176048641363\n",
            "0.6 450 0.15 5 => RMSE_sales:  52.434333299333765 RMSE_turnover:  104.57787445999017\n",
            "0.6 450 0.15 10 => RMSE_sales:  374.2698188881095 RMSE_turnover:  1519.19900967386\n",
            "0.6 450 0.15 15 => RMSE_sales:  25045.540437406627 RMSE_turnover:  467283.9599311508\n",
            "0.6 450 0.2 2 => RMSE_sales:  1.1598190265969976 RMSE_turnover:  5.514286037688595\n",
            "0.6 450 0.2 5 => RMSE_sales:  14.362783023237855 RMSE_turnover:  29.301526364999344\n",
            "0.6 450 0.2 10 => RMSE_sales:  21.033840963781 RMSE_turnover:  49.426788001964326\n",
            "0.6 450 0.2 15 => RMSE_sales:  70.93500776926835 RMSE_turnover:  433.18607909466516\n",
            "0.6 450 0.3 2 => RMSE_sales:  1.4012611768579406 RMSE_turnover:  5.695176446810646\n",
            "0.6 450 0.3 5 => RMSE_sales:  1.472796173662843 RMSE_turnover:  5.82802881402667\n",
            "0.6 450 0.3 10 => RMSE_sales:  3.0435811164071245 RMSE_turnover:  10.772144834201397\n",
            "0.6 450 0.3 15 => RMSE_sales:  7.999557410957909 RMSE_turnover:  48.59387464330947\n",
            "0.6 450 0.4 2 => RMSE_sales:  1.1649637294951793 RMSE_turnover:  5.448481848971365\n",
            "0.6 450 0.4 5 => RMSE_sales:  1.211556733373579 RMSE_turnover:  5.533676697959385\n",
            "0.6 450 0.4 10 => RMSE_sales:  1.8005739935421212 RMSE_turnover:  7.650879598687758\n",
            "0.6 450 0.4 15 => RMSE_sales:  2.747465296097924 RMSE_turnover:  12.229795314266806\n",
            "0.6 500 0.01 2 => RMSE_sales:  7.188993160738172 RMSE_turnover:  21.07811937761983\n",
            "0.6 500 0.01 5 => RMSE_sales:  3024.519875741588 RMSE_turnover:  8225.98968361073\n",
            "0.6 500 0.01 10 => RMSE_sales:  1209462627.2472663 RMSE_turnover:  2032209815.2507665\n",
            "0.6 500 0.01 15 => RMSE_sales:  76094328292.39536 RMSE_turnover:  1379364026219.378\n",
            "0.6 500 0.05 2 => RMSE_sales:  10.368809147693245 RMSE_turnover:  23.61796500762165\n",
            "0.6 500 0.05 5 => RMSE_sales:  9452.756463747843 RMSE_turnover:  27572.450038372877\n",
            "0.6 500 0.05 10 => RMSE_sales:  2567961964.4827704 RMSE_turnover:  9667641254.34928\n",
            "0.6 500 0.05 15 => RMSE_sales:  29964095242.424377 RMSE_turnover:  59752444419.49804\n",
            "0.6 500 0.1 2 => RMSE_sales:  1.4097294449455857 RMSE_turnover:  5.929108980322535\n",
            "0.6 500 0.1 5 => RMSE_sales:  59.72228399194555 RMSE_turnover:  119.03421490518208\n",
            "0.6 500 0.1 10 => RMSE_sales:  825828.3933175358 RMSE_turnover:  1656956.6587331963\n",
            "0.6 500 0.1 15 => RMSE_sales:  62159058.016886055 RMSE_turnover:  288185686.097297\n",
            "0.6 500 0.15 2 => RMSE_sales:  1.2213440277789405 RMSE_turnover:  5.491745218734371\n",
            "0.6 500 0.15 5 => RMSE_sales:  98.3730339458299 RMSE_turnover:  195.7899532830576\n",
            "0.6 500 0.15 10 => RMSE_sales:  537.1213508510257 RMSE_turnover:  2054.185195264368\n",
            "0.6 500 0.15 15 => RMSE_sales:  72613.70286257565 RMSE_turnover:  1351836.2245646764\n",
            "0.6 500 0.2 2 => RMSE_sales:  1.1478136013882585 RMSE_turnover:  5.480841847219295\n",
            "0.6 500 0.2 5 => RMSE_sales:  11.516279419433545 RMSE_turnover:  23.707483244611797\n",
            "0.6 500 0.2 10 => RMSE_sales:  19.064408171915552 RMSE_turnover:  46.811180967427354\n",
            "0.6 500 0.2 15 => RMSE_sales:  110.37895111024534 RMSE_turnover:  597.049255535033\n",
            "0.6 500 0.3 2 => RMSE_sales:  1.5948870758471825 RMSE_turnover:  5.8888771931325286\n",
            "0.6 500 0.3 5 => RMSE_sales:  1.4075562810433806 RMSE_turnover:  5.80246176817495\n",
            "0.6 500 0.3 10 => RMSE_sales:  3.6235404302669925 RMSE_turnover:  11.089039952040743\n",
            "0.6 500 0.3 15 => RMSE_sales:  8.875879501905892 RMSE_turnover:  59.044098324171244\n",
            "0.6 500 0.4 2 => RMSE_sales:  1.1820454355372645 RMSE_turnover:  5.471395649141655\n",
            "0.6 500 0.4 5 => RMSE_sales:  1.2107122580091776 RMSE_turnover:  5.536107180808344\n",
            "0.6 500 0.4 10 => RMSE_sales:  1.9742187246457155 RMSE_turnover:  7.954064467322495\n",
            "0.6 500 0.4 15 => RMSE_sales:  4.387317865608001 RMSE_turnover:  27.78013854376645\n",
            "0.8 350 0.01 2 => RMSE_sales:  22.022857628498546 RMSE_turnover:  135.13496799168715\n",
            "0.8 350 0.01 5 => RMSE_sales:  12124.61457588901 RMSE_turnover:  41420.913673674506\n",
            "0.8 350 0.01 10 => RMSE_sales:  1571068228.2934961 RMSE_turnover:  28650769144.38455\n",
            "0.8 350 0.01 15 => RMSE_sales:  13352391821.826818 RMSE_turnover:  26319218537.532154\n",
            "0.8 350 0.05 2 => RMSE_sales:  7.371980737344891 RMSE_turnover:  17.223978159205657\n",
            "0.8 350 0.05 5 => RMSE_sales:  6795.639525907689 RMSE_turnover:  13430.173234836182\n",
            "0.8 350 0.05 10 => RMSE_sales:  1774727934900.908 RMSE_turnover:  3549467190427.9478\n",
            "0.8 350 0.05 15 => RMSE_sales:  3934795229.194666 RMSE_turnover:  44840960496.655685\n",
            "0.8 350 0.1 2 => RMSE_sales:  6.7481259144605215 RMSE_turnover:  14.440100641401992\n",
            "0.8 350 0.1 5 => RMSE_sales:  1543.5386671603824 RMSE_turnover:  3791.5355718259034\n",
            "0.8 350 0.1 10 => RMSE_sales:  40945906.93716385 RMSE_turnover:  78366434.02555299\n",
            "0.8 350 0.1 15 => RMSE_sales:  20061095546.17473 RMSE_turnover:  48081437397.52355\n",
            "0.8 350 0.15 2 => RMSE_sales:  2.665495764770155 RMSE_turnover:  7.261897203343897\n",
            "0.8 350 0.15 5 => RMSE_sales:  67.93841695991692 RMSE_turnover:  137.07470568544912\n",
            "0.8 350 0.15 10 => RMSE_sales:  3505899.293235361 RMSE_turnover:  3096158.3296893323\n",
            "0.8 350 0.15 15 => RMSE_sales:  320142457.8666124 RMSE_turnover:  4020328217.1890087\n",
            "0.8 350 0.2 2 => RMSE_sales:  1.7770833891422417 RMSE_turnover:  6.41393638696308\n",
            "0.8 350 0.2 5 => RMSE_sales:  19.58686587171486 RMSE_turnover:  40.233133788104055\n",
            "0.8 350 0.2 10 => RMSE_sales:  1523.6976270950845 RMSE_turnover:  8337.98500162782\n",
            "0.8 350 0.2 15 => RMSE_sales:  52661.716857221 RMSE_turnover:  49874.01835328753\n",
            "0.8 350 0.3 2 => RMSE_sales:  1.2764045012342233 RMSE_turnover:  5.540864150124787\n",
            "0.8 350 0.3 5 => RMSE_sales:  7.9997452542686895 RMSE_turnover:  16.872897270438344\n",
            "0.8 350 0.3 10 => RMSE_sales:  10.637032710552706 RMSE_turnover:  26.87034646609787\n",
            "0.8 350 0.3 15 => RMSE_sales:  125.51453377591461 RMSE_turnover:  2137.7479582148603\n",
            "0.8 350 0.4 2 => RMSE_sales:  1.1447052649075617 RMSE_turnover:  5.397174643618356\n",
            "0.8 350 0.4 5 => RMSE_sales:  1.4353033518748208 RMSE_turnover:  5.927395199515411\n",
            "0.8 350 0.4 10 => RMSE_sales:  3.531915947059293 RMSE_turnover:  9.945975332514255\n",
            "0.8 350 0.4 15 => RMSE_sales:  13.632873877174395 RMSE_turnover:  62.557873700759515\n",
            "0.8 400 0.01 2 => RMSE_sales:  43.34929182797324 RMSE_turnover:  263.09269832511285\n",
            "0.8 400 0.01 5 => RMSE_sales:  147393.95203939694 RMSE_turnover:  833714.117367996\n",
            "0.8 400 0.01 10 => RMSE_sales:  21676567169.732643 RMSE_turnover:  410576590050.56836\n",
            "0.8 400 0.01 15 => RMSE_sales:  66907838308.43018 RMSE_turnover:  586796605576.3463\n",
            "0.8 400 0.05 2 => RMSE_sales:  8.833421366808409 RMSE_turnover:  22.651883092893893\n",
            "0.8 400 0.05 5 => RMSE_sales:  530386.4921799175 RMSE_turnover:  1097246.7621925343\n",
            "0.8 400 0.05 10 => RMSE_sales:  6016469075931.401 RMSE_turnover:  12032967150707.102\n",
            "0.8 400 0.05 15 => RMSE_sales:  141551486404.22778 RMSE_turnover:  311405968941.29156\n",
            "0.8 400 0.1 2 => RMSE_sales:  8.851078480393804 RMSE_turnover:  18.392253885421\n",
            "0.8 400 0.1 5 => RMSE_sales:  1763.0745615526746 RMSE_turnover:  6391.30994321971\n",
            "0.8 400 0.1 10 => RMSE_sales:  433123796.32830447 RMSE_turnover:  936214609.2600738\n",
            "0.8 400 0.1 15 => RMSE_sales:  428176111578.2072 RMSE_turnover:  1387994445165.9163\n",
            "0.8 400 0.15 2 => RMSE_sales:  4.215630649755707 RMSE_turnover:  9.79025039948607\n",
            "0.8 400 0.15 5 => RMSE_sales:  103.20526218243344 RMSE_turnover:  211.95791734278393\n",
            "0.8 400 0.15 10 => RMSE_sales:  1258149.2079799792 RMSE_turnover:  2554080.5058502164\n",
            "0.8 400 0.15 15 => RMSE_sales:  6467350643.919129 RMSE_turnover:  47090925688.53314\n",
            "0.8 400 0.2 2 => RMSE_sales:  1.7561332140698263 RMSE_turnover:  6.216702394970285\n",
            "0.8 400 0.2 5 => RMSE_sales:  8.0071422861494 RMSE_turnover:  18.58206788938905\n",
            "0.8 400 0.2 10 => RMSE_sales:  1346.8158430057154 RMSE_turnover:  6443.758028568026\n",
            "0.8 400 0.2 15 => RMSE_sales:  714182.6694284246 RMSE_turnover:  626621.4759820104\n",
            "0.8 400 0.3 2 => RMSE_sales:  1.2569265439663018 RMSE_turnover:  5.520252223194309\n",
            "0.8 400 0.3 5 => RMSE_sales:  8.494645510848988 RMSE_turnover:  17.719405227688124\n",
            "0.8 400 0.3 10 => RMSE_sales:  12.96714317926425 RMSE_turnover:  39.327675601485\n",
            "0.8 400 0.3 15 => RMSE_sales:  116.48980352323245 RMSE_turnover:  1235.9082045121017\n",
            "0.8 400 0.4 2 => RMSE_sales:  1.1416918217505496 RMSE_turnover:  5.387200124569557\n",
            "0.8 400 0.4 5 => RMSE_sales:  1.4707011708395925 RMSE_turnover:  5.897642548516058\n",
            "0.8 400 0.4 10 => RMSE_sales:  3.293642735693672 RMSE_turnover:  10.106844395974084\n",
            "0.8 400 0.4 15 => RMSE_sales:  34.577671255878265 RMSE_turnover:  133.81213274561236\n",
            "0.8 450 0.01 2 => RMSE_sales:  48.445884313319155 RMSE_turnover:  283.61155754132636\n",
            "0.8 450 0.01 5 => RMSE_sales:  121637.57350269845 RMSE_turnover:  351424.05549288256\n",
            "0.8 450 0.01 10 => RMSE_sales:  158454074461.7131 RMSE_turnover:  1308130416913.488\n",
            "0.8 450 0.01 15 => RMSE_sales:  5127293201231.964 RMSE_turnover:  10101031528407.938\n",
            "0.8 450 0.05 2 => RMSE_sales:  4.853583046148207 RMSE_turnover:  17.77814864179612\n",
            "0.8 450 0.05 5 => RMSE_sales:  22427344.433557782 RMSE_turnover:  44850477.01457861\n",
            "0.8 450 0.05 10 => RMSE_sales:  113398629745682.77 RMSE_turnover:  226801717757773.28\n",
            "0.8 450 0.05 15 => RMSE_sales:  6587188752100.696 RMSE_turnover:  17485034460544.398\n",
            "0.8 450 0.1 2 => RMSE_sales:  8.28831779895045 RMSE_turnover:  17.212771889017958\n",
            "0.8 450 0.1 5 => RMSE_sales:  23670.80672387797 RMSE_turnover:  48101.83109710771\n",
            "0.8 450 0.1 10 => RMSE_sales:  23844175132.221073 RMSE_turnover:  70080640017.98886\n",
            "0.8 450 0.1 15 => RMSE_sales:  31825683576348.293 RMSE_turnover:  488167117614930.25\n",
            "0.8 450 0.15 2 => RMSE_sales:  20.39188176896004 RMSE_turnover:  40.51366811787118\n",
            "0.8 450 0.15 5 => RMSE_sales:  291.1515665075988 RMSE_turnover:  696.6926165968442\n",
            "0.8 450 0.15 10 => RMSE_sales:  44305643.23480252 RMSE_turnover:  87351681.4095042\n",
            "0.8 450 0.15 15 => RMSE_sales:  19702207190.220943 RMSE_turnover:  210315141424.18622\n",
            "0.8 450 0.2 2 => RMSE_sales:  2.036440626268902 RMSE_turnover:  6.575958638254749\n",
            "0.8 450 0.2 5 => RMSE_sales:  94.47246840498902 RMSE_turnover:  189.37358101893528\n",
            "0.8 450 0.2 10 => RMSE_sales:  4458.651662921555 RMSE_turnover:  15771.071191145209\n",
            "0.8 450 0.2 15 => RMSE_sales:  1352102.4336532261 RMSE_turnover:  1215338.461426253\n",
            "0.8 450 0.3 2 => RMSE_sales:  1.2082508169497916 RMSE_turnover:  5.485035424839115\n",
            "0.8 450 0.3 5 => RMSE_sales:  8.409327451737976 RMSE_turnover:  17.582551408983857\n",
            "0.8 450 0.3 10 => RMSE_sales:  25.160743801539436 RMSE_turnover:  49.35706971151096\n",
            "0.8 450 0.3 15 => RMSE_sales:  145.88537493885985 RMSE_turnover:  1018.5565476192131\n",
            "0.8 450 0.4 2 => RMSE_sales:  1.1350274366414075 RMSE_turnover:  5.397151988676293\n",
            "0.8 450 0.4 5 => RMSE_sales:  1.6446957291707975 RMSE_turnover:  6.236310899977966\n",
            "0.8 450 0.4 10 => RMSE_sales:  8.70320415121728 RMSE_turnover:  11.953490376686712\n",
            "0.8 450 0.4 15 => RMSE_sales:  47.82293613521697 RMSE_turnover:  132.83524856222132\n",
            "0.8 500 0.01 2 => RMSE_sales:  47.500862776821634 RMSE_turnover:  170.93300902221446\n",
            "0.8 500 0.01 5 => RMSE_sales:  541539.2495517255 RMSE_turnover:  2609378.2135668388\n",
            "0.8 500 0.01 10 => RMSE_sales:  438425895933.3368 RMSE_turnover:  8284164774746.989\n",
            "0.8 500 0.01 15 => RMSE_sales:  76914745313237.05 RMSE_turnover:  151522051547063.97\n",
            "0.8 500 0.05 2 => RMSE_sales:  16.517621297723835 RMSE_turnover:  55.40573341599983\n",
            "0.8 500 0.05 5 => RMSE_sales:  11141495368.699165 RMSE_turnover:  22282935520.72569\n",
            "0.8 500 0.05 10 => RMSE_sales:  4172155558750638.5 RMSE_turnover:  8344311000075717.0\n",
            "0.8 500 0.05 15 => RMSE_sales:  70731374091434.77 RMSE_turnover:  202595570703025.16\n",
            "0.8 500 0.1 2 => RMSE_sales:  6.382333587221431 RMSE_turnover:  21.35041044172523\n",
            "0.8 500 0.1 5 => RMSE_sales:  252402.87431633583 RMSE_turnover:  498578.0365176152\n",
            "0.8 500 0.1 10 => RMSE_sales:  675068184588.214 RMSE_turnover:  1350858611764.3933\n",
            "0.8 500 0.1 15 => RMSE_sales:  755255557086605.5 RMSE_turnover:  2197511732185867.5\n",
            "0.8 500 0.15 2 => RMSE_sales:  56.01049438452864 RMSE_turnover:  110.47029453665591\n",
            "0.8 500 0.15 5 => RMSE_sales:  764.158394305989 RMSE_turnover:  1639.6325297102367\n",
            "0.8 500 0.15 10 => RMSE_sales:  1545266498.308557 RMSE_turnover:  3044201593.6307125\n",
            "0.8 500 0.15 15 => RMSE_sales:  1057950102260.7651 RMSE_turnover:  4355570533292.952\n",
            "0.8 500 0.2 2 => RMSE_sales:  2.0656161290809254 RMSE_turnover:  6.587128855906307\n",
            "0.8 500 0.2 5 => RMSE_sales:  495.4437378985288 RMSE_turnover:  991.0106142592274\n",
            "0.8 500 0.2 10 => RMSE_sales:  12166.886815292464 RMSE_turnover:  66666.29817554017\n",
            "0.8 500 0.2 15 => RMSE_sales:  3380686.284746953 RMSE_turnover:  3003324.180400854\n",
            "0.8 500 0.3 2 => RMSE_sales:  1.2381286519873267 RMSE_turnover:  5.513686647224371\n",
            "0.8 500 0.3 5 => RMSE_sales:  6.9769965388269375 RMSE_turnover:  15.074051440318641\n",
            "0.8 500 0.3 10 => RMSE_sales:  42.213576560096264 RMSE_turnover:  74.33528796729108\n",
            "0.8 500 0.3 15 => RMSE_sales:  197.58803696344657 RMSE_turnover:  2006.3975719056348\n",
            "0.8 500 0.4 2 => RMSE_sales:  1.1391233343901244 RMSE_turnover:  5.3978561792283415\n",
            "0.8 500 0.4 5 => RMSE_sales:  1.8638929717820985 RMSE_turnover:  6.4838677252875305\n",
            "0.8 500 0.4 10 => RMSE_sales:  7.772935225177 RMSE_turnover:  14.554965419446777\n",
            "0.8 500 0.4 15 => RMSE_sales:  51.79987963147987 RMSE_turnover:  248.08575286985246\n",
            "0.01 350 0.01 2 => RMSE_sales:  1.0761328944521396 RMSE_turnover:  5.380933034270561\n",
            "0.01 350 0.01 5 => RMSE_sales:  1.065541196019149 RMSE_turnover:  5.339158602383795\n",
            "0.01 350 0.01 10 => RMSE_sales:  1.0664699141754221 RMSE_turnover:  5.343509236763588\n",
            "0.01 350 0.01 15 => RMSE_sales:  1.0699001267729904 RMSE_turnover:  5.341331966262463\n",
            "0.01 350 0.05 2 => RMSE_sales:  1.0852301377773368 RMSE_turnover:  5.4061236374669805\n",
            "0.01 350 0.05 5 => RMSE_sales:  1.0618444834132594 RMSE_turnover:  5.3427705959422696\n",
            "0.01 350 0.05 10 => RMSE_sales:  1.0608550881702061 RMSE_turnover:  5.323783148389694\n",
            "0.01 350 0.05 15 => RMSE_sales:  1.0636572482273567 RMSE_turnover:  5.322682393408632\n",
            "0.01 350 0.1 2 => RMSE_sales:  1.086689368239451 RMSE_turnover:  5.408209906612364\n",
            "0.01 350 0.1 5 => RMSE_sales:  1.0611707182312264 RMSE_turnover:  5.344753269649824\n",
            "0.01 350 0.1 10 => RMSE_sales:  1.058599116958486 RMSE_turnover:  5.308088483968307\n",
            "0.01 350 0.1 15 => RMSE_sales:  1.0609582305162406 RMSE_turnover:  5.31564254299366\n",
            "0.01 350 0.15 2 => RMSE_sales:  1.0888482556479873 RMSE_turnover:  5.409295427816565\n",
            "0.01 350 0.15 5 => RMSE_sales:  1.0613365632318996 RMSE_turnover:  5.354570897411334\n",
            "0.01 350 0.15 10 => RMSE_sales:  1.0577762814990126 RMSE_turnover:  5.3272127546914625\n",
            "0.01 350 0.15 15 => RMSE_sales:  1.0621935490844088 RMSE_turnover:  5.3211144475237315\n",
            "0.01 350 0.2 2 => RMSE_sales:  1.0900786951724004 RMSE_turnover:  5.413992483987048\n",
            "0.01 350 0.2 5 => RMSE_sales:  1.06095840797067 RMSE_turnover:  5.353893318292693\n",
            "0.01 350 0.2 10 => RMSE_sales:  1.0581067128748194 RMSE_turnover:  5.31805451609579\n",
            "0.01 350 0.2 15 => RMSE_sales:  1.0619410964931562 RMSE_turnover:  5.314217535701446\n",
            "0.01 350 0.3 2 => RMSE_sales:  1.0919746167805915 RMSE_turnover:  5.417493318459511\n",
            "0.01 350 0.3 5 => RMSE_sales:  1.061676802917586 RMSE_turnover:  5.356223359332892\n",
            "0.01 350 0.3 10 => RMSE_sales:  1.0569886359562843 RMSE_turnover:  5.314992299783511\n",
            "0.01 350 0.3 15 => RMSE_sales:  1.0644993351147662 RMSE_turnover:  5.332644985872148\n",
            "0.01 350 0.4 2 => RMSE_sales:  1.0919667263164952 RMSE_turnover:  5.417413988977668\n",
            "0.01 350 0.4 5 => RMSE_sales:  1.061545618341311 RMSE_turnover:  5.357539451794726\n",
            "0.01 350 0.4 10 => RMSE_sales:  1.0568871029798954 RMSE_turnover:  5.306698525822855\n",
            "0.01 350 0.4 15 => RMSE_sales:  1.0648034568258122 RMSE_turnover:  5.332909461106402\n",
            "0.01 400 0.01 2 => RMSE_sales:  1.0721481776719022 RMSE_turnover:  5.367112728265798\n",
            "0.01 400 0.01 5 => RMSE_sales:  1.0633011936806114 RMSE_turnover:  5.336980789894514\n",
            "0.01 400 0.01 10 => RMSE_sales:  1.063947546597587 RMSE_turnover:  5.3319690299275555\n",
            "0.01 400 0.01 15 => RMSE_sales:  1.0674225309251282 RMSE_turnover:  5.326079465096268\n",
            "0.01 400 0.05 2 => RMSE_sales:  1.081890356543525 RMSE_turnover:  5.3927864146906375\n",
            "0.01 400 0.05 5 => RMSE_sales:  1.0613466489121526 RMSE_turnover:  5.3412057799474075\n",
            "0.01 400 0.05 10 => RMSE_sales:  1.0604483569160277 RMSE_turnover:  5.320752015464654\n",
            "0.01 400 0.05 15 => RMSE_sales:  1.0637328046216277 RMSE_turnover:  5.319324337140441\n",
            "0.01 400 0.1 2 => RMSE_sales:  1.084153405404939 RMSE_turnover:  5.398094217168642\n",
            "0.01 400 0.1 5 => RMSE_sales:  1.0600534191947035 RMSE_turnover:  5.342295060999041\n",
            "0.01 400 0.1 10 => RMSE_sales:  1.0579376740997548 RMSE_turnover:  5.30542246339784\n",
            "0.01 400 0.1 15 => RMSE_sales:  1.060575010885496 RMSE_turnover:  5.31830151609715\n",
            "0.01 400 0.15 2 => RMSE_sales:  1.0854239035293984 RMSE_turnover:  5.397865234268442\n",
            "0.01 400 0.15 5 => RMSE_sales:  1.0601126976327042 RMSE_turnover:  5.352499367818685\n",
            "0.01 400 0.15 10 => RMSE_sales:  1.05747358522775 RMSE_turnover:  5.326125656698892\n",
            "0.01 400 0.15 15 => RMSE_sales:  1.06178457941723 RMSE_turnover:  5.319911295598502\n",
            "0.01 400 0.2 2 => RMSE_sales:  1.0869564386252946 RMSE_turnover:  5.403193226003437\n",
            "0.01 400 0.2 5 => RMSE_sales:  1.0600258920645786 RMSE_turnover:  5.351282084942158\n",
            "0.01 400 0.2 10 => RMSE_sales:  1.0575047735491772 RMSE_turnover:  5.316072777045815\n",
            "0.01 400 0.2 15 => RMSE_sales:  1.0618727458036556 RMSE_turnover:  5.314985215892103\n",
            "0.01 400 0.3 2 => RMSE_sales:  1.0888358718129463 RMSE_turnover:  5.406518965393385\n",
            "0.01 400 0.3 5 => RMSE_sales:  1.0609507862806216 RMSE_turnover:  5.353179469786223\n",
            "0.01 400 0.3 10 => RMSE_sales:  1.0570045917256692 RMSE_turnover:  5.308302011535267\n",
            "0.01 400 0.3 15 => RMSE_sales:  1.0648938073797323 RMSE_turnover:  5.330498485333173\n",
            "0.01 400 0.4 2 => RMSE_sales:  1.0894041531629457 RMSE_turnover:  5.4075054080534715\n",
            "0.01 400 0.4 5 => RMSE_sales:  1.06053701314307 RMSE_turnover:  5.352448762232057\n",
            "0.01 400 0.4 10 => RMSE_sales:  1.0562382780064834 RMSE_turnover:  5.301395202958498\n",
            "0.01 400 0.4 15 => RMSE_sales:  1.0647176645538847 RMSE_turnover:  5.326775807349844\n",
            "0.01 450 0.01 2 => RMSE_sales:  1.0709881939027937 RMSE_turnover:  5.36364753172482\n",
            "0.01 450 0.01 5 => RMSE_sales:  1.0631623653475688 RMSE_turnover:  5.338374290991933\n",
            "0.01 450 0.01 10 => RMSE_sales:  1.0634479056754038 RMSE_turnover:  5.33271366119444\n",
            "0.01 450 0.01 15 => RMSE_sales:  1.067310895292517 RMSE_turnover:  5.32074678367952\n",
            "0.01 450 0.05 2 => RMSE_sales:  1.0799831693976036 RMSE_turnover:  5.3854398286177\n",
            "0.01 450 0.05 5 => RMSE_sales:  1.060820027542132 RMSE_turnover:  5.33928096009811\n",
            "0.01 450 0.05 10 => RMSE_sales:  1.0600468674807055 RMSE_turnover:  5.321234308750518\n",
            "0.01 450 0.05 15 => RMSE_sales:  1.063779086821492 RMSE_turnover:  5.318838972610504\n",
            "0.01 450 0.1 2 => RMSE_sales:  1.0821197484894534 RMSE_turnover:  5.3901901433421955\n",
            "0.01 450 0.1 5 => RMSE_sales:  1.0597144744301532 RMSE_turnover:  5.340529638628423\n",
            "0.01 450 0.1 10 => RMSE_sales:  1.0577858046744955 RMSE_turnover:  5.308746417309693\n",
            "0.01 450 0.1 15 => RMSE_sales:  1.0604620917669285 RMSE_turnover:  5.314793257202402\n",
            "0.01 450 0.15 2 => RMSE_sales:  1.0825765412723025 RMSE_turnover:  5.3893203346069996\n",
            "0.01 450 0.15 5 => RMSE_sales:  1.059432281991342 RMSE_turnover:  5.351300417759504\n",
            "0.01 450 0.15 10 => RMSE_sales:  1.0573425599430097 RMSE_turnover:  5.3245404513358885\n",
            "0.01 450 0.15 15 => RMSE_sales:  1.0617006418699269 RMSE_turnover:  5.319229569558279\n",
            "0.01 450 0.2 2 => RMSE_sales:  1.0843219812455878 RMSE_turnover:  5.3960407903784215\n",
            "0.01 450 0.2 5 => RMSE_sales:  1.059900100762773 RMSE_turnover:  5.350680807019445\n",
            "0.01 450 0.2 10 => RMSE_sales:  1.057409914641579 RMSE_turnover:  5.312564079967683\n",
            "0.01 450 0.2 15 => RMSE_sales:  1.0619379398293511 RMSE_turnover:  5.314932551963331\n",
            "0.01 450 0.3 2 => RMSE_sales:  1.086120422475549 RMSE_turnover:  5.3982001430602224\n",
            "0.01 450 0.3 5 => RMSE_sales:  1.060261028944611 RMSE_turnover:  5.351551262445517\n",
            "0.01 450 0.3 10 => RMSE_sales:  1.0571331612589288 RMSE_turnover:  5.301306877394546\n",
            "0.01 450 0.3 15 => RMSE_sales:  1.0654762831608249 RMSE_turnover:  5.324450520538426\n",
            "0.01 450 0.4 2 => RMSE_sales:  1.0866257017842886 RMSE_turnover:  5.398956578362527\n",
            "0.01 450 0.4 5 => RMSE_sales:  1.0599723981061686 RMSE_turnover:  5.350707254016222\n",
            "0.01 450 0.4 10 => RMSE_sales:  1.055757858618197 RMSE_turnover:  5.2924770185427\n",
            "0.01 450 0.4 15 => RMSE_sales:  1.0653553818480417 RMSE_turnover:  5.32321516304039\n",
            "0.01 500 0.01 2 => RMSE_sales:  1.070053029805219 RMSE_turnover:  5.360852576819259\n",
            "0.01 500 0.01 5 => RMSE_sales:  1.0620560202637503 RMSE_turnover:  5.339219825001426\n",
            "0.01 500 0.01 10 => RMSE_sales:  1.063240883480523 RMSE_turnover:  5.32769581879585\n",
            "0.01 500 0.01 15 => RMSE_sales:  1.0667278851941855 RMSE_turnover:  5.317048079338422\n",
            "0.01 500 0.05 2 => RMSE_sales:  1.0782427554573328 RMSE_turnover:  5.378973971848302\n",
            "0.01 500 0.05 5 => RMSE_sales:  1.0608371223504844 RMSE_turnover:  5.340289128704953\n",
            "0.01 500 0.05 10 => RMSE_sales:  1.0604749230163977 RMSE_turnover:  5.320499269730931\n",
            "0.01 500 0.05 15 => RMSE_sales:  1.0644277567941542 RMSE_turnover:  5.316428943409859\n",
            "0.01 500 0.1 2 => RMSE_sales:  1.0808937710711957 RMSE_turnover:  5.384954394028015\n",
            "0.01 500 0.1 5 => RMSE_sales:  1.0595578105141117 RMSE_turnover:  5.339643296549394\n",
            "0.01 500 0.1 10 => RMSE_sales:  1.0577905014292153 RMSE_turnover:  5.307780807513098\n",
            "0.01 500 0.1 15 => RMSE_sales:  1.0610556926767212 RMSE_turnover:  5.313059180966165\n",
            "0.01 500 0.15 2 => RMSE_sales:  1.0806927629592602 RMSE_turnover:  5.382941328221746\n",
            "0.01 500 0.15 5 => RMSE_sales:  1.0591464784176525 RMSE_turnover:  5.350505271540458\n",
            "0.01 500 0.15 10 => RMSE_sales:  1.0575188580258537 RMSE_turnover:  5.318246253274194\n",
            "0.01 500 0.15 15 => RMSE_sales:  1.0622170464422958 RMSE_turnover:  5.3176072949147875\n",
            "0.01 500 0.2 2 => RMSE_sales:  1.0822669999919352 RMSE_turnover:  5.390160478820696\n",
            "0.01 500 0.2 5 => RMSE_sales:  1.0594712192760463 RMSE_turnover:  5.3502816236526805\n",
            "0.01 500 0.2 10 => RMSE_sales:  1.0579779012488835 RMSE_turnover:  5.312380248629715\n",
            "0.01 500 0.2 15 => RMSE_sales:  1.0628679746106007 RMSE_turnover:  5.316466074094071\n",
            "0.01 500 0.3 2 => RMSE_sales:  1.0837929856603412 RMSE_turnover:  5.391447981001126\n",
            "0.01 500 0.3 5 => RMSE_sales:  1.059887922150413 RMSE_turnover:  5.349955201093746\n",
            "0.01 500 0.3 10 => RMSE_sales:  1.0573230106773226 RMSE_turnover:  5.297542008271714\n",
            "0.01 500 0.3 15 => RMSE_sales:  1.0659167775626122 RMSE_turnover:  5.3217229219685045\n",
            "0.01 500 0.4 2 => RMSE_sales:  1.0847439758350323 RMSE_turnover:  5.3930102577524925\n",
            "0.01 500 0.4 5 => RMSE_sales:  1.0599244998470583 RMSE_turnover:  5.349155449331278\n",
            "0.01 500 0.4 10 => RMSE_sales:  1.0556990463670297 RMSE_turnover:  5.286681324757806\n",
            "0.01 500 0.4 15 => RMSE_sales:  1.0659894974360145 RMSE_turnover:  5.324584887175246\n",
            "0.1 350 0.01 2 => RMSE_sales:  1.080368220613518 RMSE_turnover:  5.409788236202765\n",
            "0.1 350 0.01 5 => RMSE_sales:  1.1165079154831947 RMSE_turnover:  5.7012795860247385\n",
            "0.1 350 0.01 10 => RMSE_sales:  1.2483448980252163 RMSE_turnover:  6.593244607070983\n",
            "0.1 350 0.01 15 => RMSE_sales:  1.392321117894395 RMSE_turnover:  7.1164293456019765\n",
            "0.1 350 0.05 2 => RMSE_sales:  1.0740845153034746 RMSE_turnover:  5.377428076435014\n",
            "0.1 350 0.05 5 => RMSE_sales:  1.0816099326207753 RMSE_turnover:  5.480082744657679\n",
            "0.1 350 0.05 10 => RMSE_sales:  1.1574816820954417 RMSE_turnover:  5.808225681675257\n",
            "0.1 350 0.05 15 => RMSE_sales:  1.2546798361527611 RMSE_turnover:  6.1153930154540515\n",
            "0.1 350 0.1 2 => RMSE_sales:  1.0788345139509283 RMSE_turnover:  5.378016877345879\n",
            "0.1 350 0.1 5 => RMSE_sales:  1.078075584233402 RMSE_turnover:  5.403379082880211\n",
            "0.1 350 0.1 10 => RMSE_sales:  1.1217330630662843 RMSE_turnover:  5.576471122580041\n",
            "0.1 350 0.1 15 => RMSE_sales:  1.2107733174992887 RMSE_turnover:  5.944928514972064\n",
            "0.1 350 0.15 2 => RMSE_sales:  1.0759994604423164 RMSE_turnover:  5.362912542511194\n",
            "0.1 350 0.15 5 => RMSE_sales:  1.0715507501650694 RMSE_turnover:  5.386639885498296\n",
            "0.1 350 0.15 10 => RMSE_sales:  1.122932983427409 RMSE_turnover:  5.492306096473888\n",
            "0.1 350 0.15 15 => RMSE_sales:  1.1978952331930997 RMSE_turnover:  5.845421973366901\n",
            "0.1 350 0.2 2 => RMSE_sales:  1.0734114490127928 RMSE_turnover:  5.368943938250318\n",
            "0.1 350 0.2 5 => RMSE_sales:  1.0715262196793014 RMSE_turnover:  5.368308186986029\n",
            "0.1 350 0.2 10 => RMSE_sales:  1.1068718734699876 RMSE_turnover:  5.398607225575866\n",
            "0.1 350 0.2 15 => RMSE_sales:  1.1939471633348095 RMSE_turnover:  5.728042027568966\n",
            "0.1 350 0.3 2 => RMSE_sales:  1.0776605946474063 RMSE_turnover:  5.371190958849329\n",
            "0.1 350 0.3 5 => RMSE_sales:  1.0673290449467012 RMSE_turnover:  5.335743558645984\n",
            "0.1 350 0.3 10 => RMSE_sales:  1.1098514285614167 RMSE_turnover:  5.51250246775598\n",
            "0.1 350 0.3 15 => RMSE_sales:  1.1731553465699969 RMSE_turnover:  5.815726288191434\n",
            "0.1 350 0.4 2 => RMSE_sales:  1.0754675992965295 RMSE_turnover:  5.360696874538995\n",
            "0.1 350 0.4 5 => RMSE_sales:  1.0625794002840214 RMSE_turnover:  5.3291990969130705\n",
            "0.1 350 0.4 10 => RMSE_sales:  1.1079472543301174 RMSE_turnover:  5.458430709850596\n",
            "0.1 350 0.4 15 => RMSE_sales:  1.1797953522672446 RMSE_turnover:  5.731940722493022\n",
            "0.1 400 0.01 2 => RMSE_sales:  1.1018458288339907 RMSE_turnover:  5.611505423718322\n",
            "0.1 400 0.01 5 => RMSE_sales:  1.1396171049948773 RMSE_turnover:  5.903167932420497\n",
            "0.1 400 0.01 10 => RMSE_sales:  1.287196594427822 RMSE_turnover:  7.11713237430704\n",
            "0.1 400 0.01 15 => RMSE_sales:  1.4368763223922878 RMSE_turnover:  7.396452495418342\n",
            "0.1 400 0.05 2 => RMSE_sales:  1.07551941303684 RMSE_turnover:  5.371084034856146\n",
            "0.1 400 0.05 5 => RMSE_sales:  1.0928848020322117 RMSE_turnover:  5.597900821417712\n",
            "0.1 400 0.05 10 => RMSE_sales:  1.1617678430597993 RMSE_turnover:  5.775989974887887\n",
            "0.1 400 0.05 15 => RMSE_sales:  1.2751747751338816 RMSE_turnover:  6.186560565796018\n",
            "0.1 400 0.1 2 => RMSE_sales:  1.0771481048608689 RMSE_turnover:  5.374891479141048\n",
            "0.1 400 0.1 5 => RMSE_sales:  1.082193471736338 RMSE_turnover:  5.435091005809067\n",
            "0.1 400 0.1 10 => RMSE_sales:  1.1276189726671766 RMSE_turnover:  5.628791968934775\n",
            "0.1 400 0.1 15 => RMSE_sales:  1.221301077816175 RMSE_turnover:  5.996076207648481\n",
            "0.1 400 0.15 2 => RMSE_sales:  1.0766179637320716 RMSE_turnover:  5.361870731414795\n",
            "0.1 400 0.15 5 => RMSE_sales:  1.0704162312440983 RMSE_turnover:  5.380681523430163\n",
            "0.1 400 0.15 10 => RMSE_sales:  1.1315942240585277 RMSE_turnover:  5.546422973425169\n",
            "0.1 400 0.15 15 => RMSE_sales:  1.2133828975678471 RMSE_turnover:  5.880077287540341\n",
            "0.1 400 0.2 2 => RMSE_sales:  1.07328442427614 RMSE_turnover:  5.367840647157987\n",
            "0.1 400 0.2 5 => RMSE_sales:  1.0721361946917838 RMSE_turnover:  5.373137705799007\n",
            "0.1 400 0.2 10 => RMSE_sales:  1.1125530585540429 RMSE_turnover:  5.445097734729479\n",
            "0.1 400 0.2 15 => RMSE_sales:  1.2064719679691218 RMSE_turnover:  5.78849993773821\n",
            "0.1 400 0.3 2 => RMSE_sales:  1.0776785950577208 RMSE_turnover:  5.37313837228168\n",
            "0.1 400 0.3 5 => RMSE_sales:  1.0702793193678635 RMSE_turnover:  5.360279233915156\n",
            "0.1 400 0.3 10 => RMSE_sales:  1.1178938809212362 RMSE_turnover:  5.569364181790088\n",
            "0.1 400 0.3 15 => RMSE_sales:  1.1847323273188195 RMSE_turnover:  5.8475486291050895\n",
            "0.1 400 0.4 2 => RMSE_sales:  1.075615154614596 RMSE_turnover:  5.3630867847104104\n",
            "0.1 400 0.4 5 => RMSE_sales:  1.0624959314771694 RMSE_turnover:  5.332327753599807\n",
            "0.1 400 0.4 10 => RMSE_sales:  1.1151810230866466 RMSE_turnover:  5.508107468770475\n",
            "0.1 400 0.4 15 => RMSE_sales:  1.191538565020348 RMSE_turnover:  5.782887886131809\n",
            "0.1 450 0.01 2 => RMSE_sales:  1.100417894922722 RMSE_turnover:  5.623519727913363\n",
            "0.1 450 0.01 5 => RMSE_sales:  1.13486677983388 RMSE_turnover:  5.796363995584923\n",
            "0.1 450 0.01 10 => RMSE_sales:  1.2988736267284864 RMSE_turnover:  7.381579202566031\n",
            "0.1 450 0.01 15 => RMSE_sales:  1.45703874438311 RMSE_turnover:  7.458789238671196\n",
            "0.1 450 0.05 2 => RMSE_sales:  1.0729999790918399 RMSE_turnover:  5.376807417299621\n",
            "0.1 450 0.05 5 => RMSE_sales:  1.0958633229658847 RMSE_turnover:  5.619368680846413\n",
            "0.1 450 0.05 10 => RMSE_sales:  1.163264929625802 RMSE_turnover:  5.829923359613352\n",
            "0.1 450 0.05 15 => RMSE_sales:  1.2858824734506713 RMSE_turnover:  6.30360571140609\n",
            "0.1 450 0.1 2 => RMSE_sales:  1.0756467353264365 RMSE_turnover:  5.37869123232703\n",
            "0.1 450 0.1 5 => RMSE_sales:  1.0800382677914602 RMSE_turnover:  5.430328439863913\n",
            "0.1 450 0.1 10 => RMSE_sales:  1.134604537715697 RMSE_turnover:  5.6775335594470775\n",
            "0.1 450 0.1 15 => RMSE_sales:  1.2348348794146733 RMSE_turnover:  6.070937190464533\n",
            "0.1 450 0.15 2 => RMSE_sales:  1.0770199458600953 RMSE_turnover:  5.365860672738227\n",
            "0.1 450 0.15 5 => RMSE_sales:  1.0729250247258375 RMSE_turnover:  5.382911958554769\n",
            "0.1 450 0.15 10 => RMSE_sales:  1.1443836926060507 RMSE_turnover:  5.5735211779525295\n",
            "0.1 450 0.15 15 => RMSE_sales:  1.2246572957749189 RMSE_turnover:  5.95930575833591\n",
            "0.1 450 0.2 2 => RMSE_sales:  1.0732433987476784 RMSE_turnover:  5.3682723561532\n",
            "0.1 450 0.2 5 => RMSE_sales:  1.0729686682876394 RMSE_turnover:  5.363188157958158\n",
            "0.1 450 0.2 10 => RMSE_sales:  1.1220220644666936 RMSE_turnover:  5.478642653620331\n",
            "0.1 450 0.2 15 => RMSE_sales:  1.2196966734589427 RMSE_turnover:  5.824961086195396\n",
            "0.1 450 0.3 2 => RMSE_sales:  1.07917342249509 RMSE_turnover:  5.374554702506556\n",
            "0.1 450 0.3 5 => RMSE_sales:  1.0717647336482399 RMSE_turnover:  5.362130969615244\n",
            "0.1 450 0.3 10 => RMSE_sales:  1.1245297507759484 RMSE_turnover:  5.613366121683542\n",
            "0.1 450 0.3 15 => RMSE_sales:  1.1960911234555671 RMSE_turnover:  5.893903984464309\n",
            "0.1 450 0.4 2 => RMSE_sales:  1.0742299311861552 RMSE_turnover:  5.361429025356386\n",
            "0.1 450 0.4 5 => RMSE_sales:  1.0628909092882428 RMSE_turnover:  5.334843068922279\n",
            "0.1 450 0.4 10 => RMSE_sales:  1.120995886587987 RMSE_turnover:  5.53671935814563\n",
            "0.1 450 0.4 15 => RMSE_sales:  1.2025546080337504 RMSE_turnover:  5.81989453289532\n",
            "0.1 500 0.01 2 => RMSE_sales:  1.101410398020752 RMSE_turnover:  5.6384556828667325\n",
            "0.1 500 0.01 5 => RMSE_sales:  1.1363430844516635 RMSE_turnover:  5.867965723457761\n",
            "0.1 500 0.01 10 => RMSE_sales:  1.3299855421603972 RMSE_turnover:  7.498740191498515\n",
            "0.1 500 0.01 15 => RMSE_sales:  1.5073540353459978 RMSE_turnover:  7.667886316442962\n",
            "0.1 500 0.05 2 => RMSE_sales:  1.074475252007409 RMSE_turnover:  5.376354168235108\n",
            "0.1 500 0.05 5 => RMSE_sales:  1.1017581275507706 RMSE_turnover:  5.607397287236925\n",
            "0.1 500 0.05 10 => RMSE_sales:  1.177536909493133 RMSE_turnover:  5.862410171929649\n",
            "0.1 500 0.05 15 => RMSE_sales:  1.3175340204021415 RMSE_turnover:  6.4259512802673076\n",
            "0.1 500 0.1 2 => RMSE_sales:  1.0764274571781673 RMSE_turnover:  5.3792349453533586\n",
            "0.1 500 0.1 5 => RMSE_sales:  1.0860075963654083 RMSE_turnover:  5.438115561495082\n",
            "0.1 500 0.1 10 => RMSE_sales:  1.1443148017677753 RMSE_turnover:  5.708478964482155\n",
            "0.1 500 0.1 15 => RMSE_sales:  1.2512874821225963 RMSE_turnover:  6.171995962594972\n",
            "0.1 500 0.15 2 => RMSE_sales:  1.0775325124570099 RMSE_turnover:  5.367432026009347\n",
            "0.1 500 0.15 5 => RMSE_sales:  1.0749448508472579 RMSE_turnover:  5.398225241465723\n",
            "0.1 500 0.15 10 => RMSE_sales:  1.1533963911560285 RMSE_turnover:  5.635342796184585\n",
            "0.1 500 0.15 15 => RMSE_sales:  1.2391243084703942 RMSE_turnover:  6.052285353115818\n",
            "0.1 500 0.2 2 => RMSE_sales:  1.0739863240271337 RMSE_turnover:  5.3726823654428655\n",
            "0.1 500 0.2 5 => RMSE_sales:  1.0752995996219652 RMSE_turnover:  5.375344619264895\n",
            "0.1 500 0.2 10 => RMSE_sales:  1.1283556566224242 RMSE_turnover:  5.516518178468289\n",
            "0.1 500 0.2 15 => RMSE_sales:  1.2310024281404612 RMSE_turnover:  5.897623747766838\n",
            "0.1 500 0.3 2 => RMSE_sales:  1.0795767270845131 RMSE_turnover:  5.375671609727391\n",
            "0.1 500 0.3 5 => RMSE_sales:  1.072723239930207 RMSE_turnover:  5.378949033003114\n",
            "0.1 500 0.3 10 => RMSE_sales:  1.1322953906197188 RMSE_turnover:  5.636509379535423\n",
            "0.1 500 0.3 15 => RMSE_sales:  1.2084432050505598 RMSE_turnover:  5.952478991005373\n",
            "0.1 500 0.4 2 => RMSE_sales:  1.077147298594803 RMSE_turnover:  5.364550275460163\n",
            "0.1 500 0.4 5 => RMSE_sales:  1.063805454709767 RMSE_turnover:  5.33659990909819\n",
            "0.1 500 0.4 10 => RMSE_sales:  1.1274296070104983 RMSE_turnover:  5.557823552612354\n",
            "0.1 500 0.4 15 => RMSE_sales:  1.2125646424427112 RMSE_turnover:  5.855106325294944\n",
            "0.15 350 0.01 2 => RMSE_sales:  1.094081325553806 RMSE_turnover:  5.473376287664665\n",
            "0.15 350 0.01 5 => RMSE_sales:  1.1444902827890533 RMSE_turnover:  5.745917509464992\n",
            "0.15 350 0.01 10 => RMSE_sales:  1.4209434886856045 RMSE_turnover:  7.305844975288317\n",
            "0.15 350 0.01 15 => RMSE_sales:  1.7488156643703598 RMSE_turnover:  9.028794685627245\n",
            "0.15 350 0.05 2 => RMSE_sales:  1.0808372212965307 RMSE_turnover:  5.396944676054165\n",
            "0.15 350 0.05 5 => RMSE_sales:  1.1000678176944794 RMSE_turnover:  5.5094568953863305\n",
            "0.15 350 0.05 10 => RMSE_sales:  1.2318370474730138 RMSE_turnover:  6.05805907811034\n",
            "0.15 350 0.05 15 => RMSE_sales:  1.4109305360600364 RMSE_turnover:  7.044846466736182\n",
            "0.15 350 0.1 2 => RMSE_sales:  1.0777600864173782 RMSE_turnover:  5.377175469856503\n",
            "0.15 350 0.1 5 => RMSE_sales:  1.0843488617847414 RMSE_turnover:  5.391275708932795\n",
            "0.15 350 0.1 10 => RMSE_sales:  1.185687053350428 RMSE_turnover:  5.974951355146053\n",
            "0.15 350 0.1 15 => RMSE_sales:  1.3369597673050926 RMSE_turnover:  6.695686618295668\n",
            "0.15 350 0.15 2 => RMSE_sales:  1.078936758622581 RMSE_turnover:  5.385629522477215\n",
            "0.15 350 0.15 5 => RMSE_sales:  1.0797814788399231 RMSE_turnover:  5.367611594930464\n",
            "0.15 350 0.15 10 => RMSE_sales:  1.1806956853073425 RMSE_turnover:  5.929517850410967\n",
            "0.15 350 0.15 15 => RMSE_sales:  1.3118511910177408 RMSE_turnover:  6.38311779228398\n",
            "0.15 350 0.2 2 => RMSE_sales:  1.071505299709399 RMSE_turnover:  5.367757986140959\n",
            "0.15 350 0.2 5 => RMSE_sales:  1.0778818563672916 RMSE_turnover:  5.377645236537318\n",
            "0.15 350 0.2 10 => RMSE_sales:  1.1650377876676912 RMSE_turnover:  5.83454096841013\n",
            "0.15 350 0.2 15 => RMSE_sales:  1.2876188358353677 RMSE_turnover:  6.228274814736014\n",
            "0.15 350 0.3 2 => RMSE_sales:  1.0803855116722976 RMSE_turnover:  5.3749328353260974\n",
            "0.15 350 0.3 5 => RMSE_sales:  1.0692142048508861 RMSE_turnover:  5.319303541255483\n",
            "0.15 350 0.3 10 => RMSE_sales:  1.153663322196088 RMSE_turnover:  5.701358929586495\n",
            "0.15 350 0.3 15 => RMSE_sales:  1.2479226104220862 RMSE_turnover:  6.153430532638272\n",
            "0.15 350 0.4 2 => RMSE_sales:  1.0704184784878528 RMSE_turnover:  5.355673130331535\n",
            "0.15 350 0.4 5 => RMSE_sales:  1.0713409863277188 RMSE_turnover:  5.389350832244188\n",
            "0.15 350 0.4 10 => RMSE_sales:  1.160250862063692 RMSE_turnover:  5.710598161511747\n",
            "0.15 350 0.4 15 => RMSE_sales:  1.2437742168022907 RMSE_turnover:  5.987465853013028\n",
            "0.15 400 0.01 2 => RMSE_sales:  1.1403744864237735 RMSE_turnover:  5.889475392609591\n",
            "0.15 400 0.01 5 => RMSE_sales:  1.1619696666996215 RMSE_turnover:  5.784620346802541\n",
            "0.15 400 0.01 10 => RMSE_sales:  1.4774471098781143 RMSE_turnover:  7.789831355407475\n",
            "0.15 400 0.01 15 => RMSE_sales:  1.8412032038433244 RMSE_turnover:  9.642851758022639\n",
            "0.15 400 0.05 2 => RMSE_sales:  1.0777336209497705 RMSE_turnover:  5.39103924208626\n",
            "0.15 400 0.05 5 => RMSE_sales:  1.1033504081536145 RMSE_turnover:  5.525262550492254\n",
            "0.15 400 0.05 10 => RMSE_sales:  1.2430396960073578 RMSE_turnover:  6.159870156519385\n",
            "0.15 400 0.05 15 => RMSE_sales:  1.4507431767465997 RMSE_turnover:  7.36448017456716\n",
            "0.15 400 0.1 2 => RMSE_sales:  1.0771285946564595 RMSE_turnover:  5.37880365605722\n",
            "0.15 400 0.1 5 => RMSE_sales:  1.0838607042985593 RMSE_turnover:  5.399937043857384\n",
            "0.15 400 0.1 10 => RMSE_sales:  1.1886760557373646 RMSE_turnover:  5.996400097522295\n",
            "0.15 400 0.1 15 => RMSE_sales:  1.3618784279558829 RMSE_turnover:  6.914166915184298\n",
            "0.15 400 0.15 2 => RMSE_sales:  1.0820414616335503 RMSE_turnover:  5.390402709882169\n",
            "0.15 400 0.15 5 => RMSE_sales:  1.080562636311321 RMSE_turnover:  5.37267863412255\n",
            "0.15 400 0.15 10 => RMSE_sales:  1.1925107245369528 RMSE_turnover:  6.148986751773127\n",
            "0.15 400 0.15 15 => RMSE_sales:  1.3333558945431427 RMSE_turnover:  6.480607248358842\n",
            "0.15 400 0.2 2 => RMSE_sales:  1.0719767735205252 RMSE_turnover:  5.362853330437562\n",
            "0.15 400 0.2 5 => RMSE_sales:  1.0786983296494845 RMSE_turnover:  5.41739776918633\n",
            "0.15 400 0.2 10 => RMSE_sales:  1.1736460952977978 RMSE_turnover:  5.883705494869025\n",
            "0.15 400 0.2 15 => RMSE_sales:  1.3036946464075925 RMSE_turnover:  6.276717223681215\n",
            "0.15 400 0.3 2 => RMSE_sales:  1.0786557660838691 RMSE_turnover:  5.373540663952902\n",
            "0.15 400 0.3 5 => RMSE_sales:  1.0725956117040412 RMSE_turnover:  5.3314489512252115\n",
            "0.15 400 0.3 10 => RMSE_sales:  1.1668635526917197 RMSE_turnover:  5.774517850920809\n",
            "0.15 400 0.3 15 => RMSE_sales:  1.264328578640151 RMSE_turnover:  6.211911039896351\n",
            "0.15 400 0.4 2 => RMSE_sales:  1.0694417199906396 RMSE_turnover:  5.356050893661227\n",
            "0.15 400 0.4 5 => RMSE_sales:  1.0741118956635332 RMSE_turnover:  5.421522515697751\n",
            "0.15 400 0.4 10 => RMSE_sales:  1.1737133088284917 RMSE_turnover:  5.790562355318855\n",
            "0.15 400 0.4 15 => RMSE_sales:  1.2557928693378435 RMSE_turnover:  6.04520412926523\n",
            "0.15 450 0.01 2 => RMSE_sales:  1.1321614798946844 RMSE_turnover:  5.871344288531784\n",
            "0.15 450 0.01 5 => RMSE_sales:  1.1539999765965272 RMSE_turnover:  5.814313195886469\n",
            "0.15 450 0.01 10 => RMSE_sales:  1.4914691322410671 RMSE_turnover:  7.98060330751402\n",
            "0.15 450 0.01 15 => RMSE_sales:  1.9039291469056605 RMSE_turnover:  10.24753469143828\n",
            "0.15 450 0.05 2 => RMSE_sales:  1.0735828477424603 RMSE_turnover:  5.393879200359068\n",
            "0.15 450 0.05 5 => RMSE_sales:  1.1035136843243407 RMSE_turnover:  5.520503063535477\n",
            "0.15 450 0.05 10 => RMSE_sales:  1.2537862344667268 RMSE_turnover:  6.307588339033172\n",
            "0.15 450 0.05 15 => RMSE_sales:  1.4624785842784356 RMSE_turnover:  7.404557694029449\n",
            "0.15 450 0.1 2 => RMSE_sales:  1.07800497274388 RMSE_turnover:  5.381326180736283\n",
            "0.15 450 0.1 5 => RMSE_sales:  1.0865729839358045 RMSE_turnover:  5.415112495821282\n",
            "0.15 450 0.1 10 => RMSE_sales:  1.208060823581916 RMSE_turnover:  6.176347629611061\n",
            "0.15 450 0.1 15 => RMSE_sales:  1.3840270306568037 RMSE_turnover:  6.984698053506588\n",
            "0.15 450 0.15 2 => RMSE_sales:  1.0831261572655955 RMSE_turnover:  5.395446075130381\n",
            "0.15 450 0.15 5 => RMSE_sales:  1.0822471525561863 RMSE_turnover:  5.380824041996555\n",
            "0.15 450 0.15 10 => RMSE_sales:  1.2055904915365976 RMSE_turnover:  6.18742059344333\n",
            "0.15 450 0.15 15 => RMSE_sales:  1.3529864905261202 RMSE_turnover:  6.564868212797821\n",
            "0.15 450 0.2 2 => RMSE_sales:  1.0719409055151659 RMSE_turnover:  5.363467613734771\n",
            "0.15 450 0.2 5 => RMSE_sales:  1.0816279098962465 RMSE_turnover:  5.450267388540042\n",
            "0.15 450 0.2 10 => RMSE_sales:  1.1901281274755264 RMSE_turnover:  5.9069895922086015\n",
            "0.15 450 0.2 15 => RMSE_sales:  1.3232409159093386 RMSE_turnover:  6.332317458137861\n",
            "0.15 450 0.3 2 => RMSE_sales:  1.0781837115961768 RMSE_turnover:  5.37373518770439\n",
            "0.15 450 0.3 5 => RMSE_sales:  1.0791740713179736 RMSE_turnover:  5.381654426350609\n",
            "0.15 450 0.3 10 => RMSE_sales:  1.1812400135268077 RMSE_turnover:  5.834076165204168\n",
            "0.15 450 0.3 15 => RMSE_sales:  1.2785436416750158 RMSE_turnover:  6.293689699248287\n",
            "0.15 450 0.4 2 => RMSE_sales:  1.0686499612112221 RMSE_turnover:  5.352212900647892\n",
            "0.15 450 0.4 5 => RMSE_sales:  1.0741143129245365 RMSE_turnover:  5.377972048807115\n",
            "0.15 450 0.4 10 => RMSE_sales:  1.1842419857395214 RMSE_turnover:  5.832175626610132\n",
            "0.15 450 0.4 15 => RMSE_sales:  1.2652584617304803 RMSE_turnover:  6.094634342518262\n",
            "0.15 500 0.01 2 => RMSE_sales:  1.1477449147033736 RMSE_turnover:  6.043487270757697\n",
            "0.15 500 0.01 5 => RMSE_sales:  1.1654716510575993 RMSE_turnover:  5.893325708384633\n",
            "0.15 500 0.01 10 => RMSE_sales:  1.543041042450281 RMSE_turnover:  8.403453031816541\n",
            "0.15 500 0.01 15 => RMSE_sales:  2.0257910873675766 RMSE_turnover:  10.87107421402533\n",
            "0.15 500 0.05 2 => RMSE_sales:  1.072363920716927 RMSE_turnover:  5.379648561575049\n",
            "0.15 500 0.05 5 => RMSE_sales:  1.1075040519170445 RMSE_turnover:  5.548231231354317\n",
            "0.15 500 0.05 10 => RMSE_sales:  1.2630908375981234 RMSE_turnover:  6.340146467940349\n",
            "0.15 500 0.05 15 => RMSE_sales:  1.5000220558612485 RMSE_turnover:  7.561571917281711\n",
            "0.15 500 0.1 2 => RMSE_sales:  1.0807799213747216 RMSE_turnover:  5.388763715047499\n",
            "0.15 500 0.1 5 => RMSE_sales:  1.0905334936196704 RMSE_turnover:  5.449735503712326\n",
            "0.15 500 0.1 10 => RMSE_sales:  1.218812880580899 RMSE_turnover:  6.288002802268504\n",
            "0.15 500 0.1 15 => RMSE_sales:  1.413423955773321 RMSE_turnover:  7.154590457243629\n",
            "0.15 500 0.15 2 => RMSE_sales:  1.0900441910157534 RMSE_turnover:  5.408503533116805\n",
            "0.15 500 0.15 5 => RMSE_sales:  1.0909526613464093 RMSE_turnover:  5.41147370458322\n",
            "0.15 500 0.15 10 => RMSE_sales:  1.2128959818221903 RMSE_turnover:  6.126709379931866\n",
            "0.15 500 0.15 15 => RMSE_sales:  1.3774440216790598 RMSE_turnover:  6.671766249696736\n",
            "0.15 500 0.2 2 => RMSE_sales:  1.0733872148185932 RMSE_turnover:  5.3661094804543685\n",
            "0.15 500 0.2 5 => RMSE_sales:  1.0832606127144153 RMSE_turnover:  5.442256157115343\n",
            "0.15 500 0.2 10 => RMSE_sales:  1.2026681006631712 RMSE_turnover:  5.936194842730104\n",
            "0.15 500 0.2 15 => RMSE_sales:  1.3392206755721319 RMSE_turnover:  6.419554907004567\n",
            "0.15 500 0.3 2 => RMSE_sales:  1.0794933963531321 RMSE_turnover:  5.377318124067019\n",
            "0.15 500 0.3 5 => RMSE_sales:  1.081085257554898 RMSE_turnover:  5.403517795736728\n",
            "0.15 500 0.3 10 => RMSE_sales:  1.1902281830779315 RMSE_turnover:  5.831140263283068\n",
            "0.15 500 0.3 15 => RMSE_sales:  1.2922667325520591 RMSE_turnover:  6.358318700158738\n",
            "0.15 500 0.4 2 => RMSE_sales:  1.0695660700201564 RMSE_turnover:  5.35727224687802\n",
            "0.15 500 0.4 5 => RMSE_sales:  1.076896259651478 RMSE_turnover:  5.398512470881681\n",
            "0.15 500 0.4 10 => RMSE_sales:  1.1940722661419745 RMSE_turnover:  5.8735892650665935\n",
            "0.15 500 0.4 15 => RMSE_sales:  1.2773952516369202 RMSE_turnover:  6.1385973568973\n",
            "0.25 350 0.01 2 => RMSE_sales:  1.142295447150591 RMSE_turnover:  5.809297785790375\n",
            "0.25 350 0.01 5 => RMSE_sales:  1.3064324210753413 RMSE_turnover:  7.1262056025272935\n",
            "0.25 350 0.01 10 => RMSE_sales:  2.3064426710916592 RMSE_turnover:  14.383971410204401\n",
            "0.25 350 0.01 15 => RMSE_sales:  5.158090304423655 RMSE_turnover:  30.532203638858984\n",
            "0.25 350 0.05 2 => RMSE_sales:  1.0722366866300688 RMSE_turnover:  5.393727961948268\n",
            "0.25 350 0.05 5 => RMSE_sales:  1.122006518102267 RMSE_turnover:  5.599635708977016\n",
            "0.25 350 0.05 10 => RMSE_sales:  1.387284653131463 RMSE_turnover:  7.1862285332667035\n",
            "0.25 350 0.05 15 => RMSE_sales:  2.0149487489595796 RMSE_turnover:  10.572236914581055\n",
            "0.25 350 0.1 2 => RMSE_sales:  1.0957312850619612 RMSE_turnover:  5.411625172858133\n",
            "0.25 350 0.1 5 => RMSE_sales:  1.1287865374211528 RMSE_turnover:  5.586732828543876\n",
            "0.25 350 0.1 10 => RMSE_sales:  1.321012897734516 RMSE_turnover:  6.689574306458108\n",
            "0.25 350 0.1 15 => RMSE_sales:  1.6174177954297906 RMSE_turnover:  8.099049435390553\n",
            "0.25 350 0.15 2 => RMSE_sales:  1.073882395754965 RMSE_turnover:  5.376503701152848\n",
            "0.25 350 0.15 5 => RMSE_sales:  1.1240450132992628 RMSE_turnover:  5.565099928399347\n",
            "0.25 350 0.15 10 => RMSE_sales:  1.3265092292427343 RMSE_turnover:  6.76556075560719\n",
            "0.25 350 0.15 15 => RMSE_sales:  1.5641697914972654 RMSE_turnover:  8.093362795318006\n",
            "0.25 350 0.2 2 => RMSE_sales:  1.0755540142256985 RMSE_turnover:  5.403994360207094\n",
            "0.25 350 0.2 5 => RMSE_sales:  1.0952724491073844 RMSE_turnover:  5.395343119620958\n",
            "0.25 350 0.2 10 => RMSE_sales:  1.3037006839203316 RMSE_turnover:  6.600656929129456\n",
            "0.25 350 0.2 15 => RMSE_sales:  1.5211163297732437 RMSE_turnover:  7.596271632742741\n",
            "0.25 350 0.3 2 => RMSE_sales:  1.0793508931642728 RMSE_turnover:  5.381260750900632\n",
            "0.25 350 0.3 5 => RMSE_sales:  1.1066271481574845 RMSE_turnover:  5.447009101059054\n",
            "0.25 350 0.3 10 => RMSE_sales:  1.2691560504997619 RMSE_turnover:  6.089842962181741\n",
            "0.25 350 0.3 15 => RMSE_sales:  1.4249376331590557 RMSE_turnover:  6.744792796529147\n",
            "0.25 350 0.4 2 => RMSE_sales:  1.0733803684296805 RMSE_turnover:  5.37152854278582\n",
            "0.25 350 0.4 5 => RMSE_sales:  1.1043701405198727 RMSE_turnover:  5.448088490705155\n",
            "0.25 350 0.4 10 => RMSE_sales:  1.2638741177703197 RMSE_turnover:  6.032705297172187\n",
            "0.25 350 0.4 15 => RMSE_sales:  1.3877446805237406 RMSE_turnover:  6.676372218482505\n",
            "0.25 400 0.01 2 => RMSE_sales:  1.1595829373827882 RMSE_turnover:  5.8822031807761075\n",
            "0.25 400 0.01 5 => RMSE_sales:  1.3145451967861668 RMSE_turnover:  6.821132310334525\n",
            "0.25 400 0.01 10 => RMSE_sales:  2.6794421109004083 RMSE_turnover:  16.466957142942956\n",
            "0.25 400 0.01 15 => RMSE_sales:  7.031922086400986 RMSE_turnover:  43.17994010382768\n",
            "0.25 400 0.05 2 => RMSE_sales:  1.076074381404622 RMSE_turnover:  5.38262840791394\n",
            "0.25 400 0.05 5 => RMSE_sales:  1.1212899809893961 RMSE_turnover:  5.603959558422174\n",
            "0.25 400 0.05 10 => RMSE_sales:  1.424599054118973 RMSE_turnover:  7.507392314872498\n",
            "0.25 400 0.05 15 => RMSE_sales:  2.1252312986935107 RMSE_turnover:  11.553925316927497\n",
            "0.25 400 0.1 2 => RMSE_sales:  1.0942321600530056 RMSE_turnover:  5.4197273197011855\n",
            "0.25 400 0.1 5 => RMSE_sales:  1.1250908409541396 RMSE_turnover:  5.648648416723051\n",
            "0.25 400 0.1 10 => RMSE_sales:  1.3504542932659618 RMSE_turnover:  6.727562245783984\n",
            "0.25 400 0.1 15 => RMSE_sales:  1.6802359011881132 RMSE_turnover:  8.434014626991281\n",
            "0.25 400 0.15 2 => RMSE_sales:  1.076694903552453 RMSE_turnover:  5.372900643587129\n",
            "0.25 400 0.15 5 => RMSE_sales:  1.1323031161956825 RMSE_turnover:  5.661935938041412\n",
            "0.25 400 0.15 10 => RMSE_sales:  1.3483587199624243 RMSE_turnover:  6.931023528129703\n",
            "0.25 400 0.15 15 => RMSE_sales:  1.6042597323513543 RMSE_turnover:  8.326573627312571\n",
            "0.25 400 0.2 2 => RMSE_sales:  1.0754121036731676 RMSE_turnover:  5.39478230015642\n",
            "0.25 400 0.2 5 => RMSE_sales:  1.1046141185135738 RMSE_turnover:  5.431130680171919\n",
            "0.25 400 0.2 10 => RMSE_sales:  1.3310534146433617 RMSE_turnover:  6.744033909426741\n",
            "0.25 400 0.2 15 => RMSE_sales:  1.5531321694726206 RMSE_turnover:  7.72608487247562\n",
            "0.25 400 0.3 2 => RMSE_sales:  1.0777450812982028 RMSE_turnover:  5.3749554814011224\n",
            "0.25 400 0.3 5 => RMSE_sales:  1.1166294109158648 RMSE_turnover:  5.488006229509717\n",
            "0.25 400 0.3 10 => RMSE_sales:  1.2948079774268813 RMSE_turnover:  6.192186769233022\n",
            "0.25 400 0.3 15 => RMSE_sales:  1.4415591329642397 RMSE_turnover:  6.818388907655789\n",
            "0.25 400 0.4 2 => RMSE_sales:  1.0709857525876323 RMSE_turnover:  5.373291169232496\n",
            "0.25 400 0.4 5 => RMSE_sales:  1.1108129794401191 RMSE_turnover:  5.480982682999088\n",
            "0.25 400 0.4 10 => RMSE_sales:  1.2826255748525877 RMSE_turnover:  6.070024333964432\n",
            "0.25 400 0.4 15 => RMSE_sales:  1.402189928405279 RMSE_turnover:  6.747683750623732\n",
            "0.25 450 0.01 2 => RMSE_sales:  1.147599037621358 RMSE_turnover:  5.807770539207282\n",
            "0.25 450 0.01 5 => RMSE_sales:  1.3556229773772268 RMSE_turnover:  7.0735992912258885\n",
            "0.25 450 0.01 10 => RMSE_sales:  2.9524971645960965 RMSE_turnover:  18.806327615385502\n",
            "0.25 450 0.01 15 => RMSE_sales:  8.542447725901848 RMSE_turnover:  53.314281520371125\n",
            "0.25 450 0.05 2 => RMSE_sales:  1.0721258544313321 RMSE_turnover:  5.400501599952313\n",
            "0.25 450 0.05 5 => RMSE_sales:  1.1277270633963012 RMSE_turnover:  5.670581327496567\n",
            "0.25 450 0.05 10 => RMSE_sales:  1.4583661311698124 RMSE_turnover:  7.66001017649188\n",
            "0.25 450 0.05 15 => RMSE_sales:  2.2410473086820426 RMSE_turnover:  12.618816656480671\n",
            "0.25 450 0.1 2 => RMSE_sales:  1.0964147025312747 RMSE_turnover:  5.421937863803063\n",
            "0.25 450 0.1 5 => RMSE_sales:  1.1291608107356008 RMSE_turnover:  5.80715962686226\n",
            "0.25 450 0.1 10 => RMSE_sales:  1.38407045052625 RMSE_turnover:  6.799059674628232\n",
            "0.25 450 0.1 15 => RMSE_sales:  1.7380174454288462 RMSE_turnover:  8.769714731224125\n",
            "0.25 450 0.15 2 => RMSE_sales:  1.080406515390536 RMSE_turnover:  5.388784664291382\n",
            "0.25 450 0.15 5 => RMSE_sales:  1.138158563985341 RMSE_turnover:  5.7550758690532895\n",
            "0.25 450 0.15 10 => RMSE_sales:  1.381716304862752 RMSE_turnover:  7.0999383629480795\n",
            "0.25 450 0.15 15 => RMSE_sales:  1.6405456881237344 RMSE_turnover:  8.559959675847008\n",
            "0.25 450 0.2 2 => RMSE_sales:  1.0767740263377656 RMSE_turnover:  5.407119676412244\n",
            "0.25 450 0.2 5 => RMSE_sales:  1.1122908370781477 RMSE_turnover:  5.503884164826578\n",
            "0.25 450 0.2 10 => RMSE_sales:  1.354708718279983 RMSE_turnover:  6.859436605474096\n",
            "0.25 450 0.2 15 => RMSE_sales:  1.5755115261904438 RMSE_turnover:  7.848524114019636\n",
            "0.25 450 0.3 2 => RMSE_sales:  1.0759223571649439 RMSE_turnover:  5.373436139760108\n",
            "0.25 450 0.3 5 => RMSE_sales:  1.1200374214781716 RMSE_turnover:  5.498007173471949\n",
            "0.25 450 0.3 10 => RMSE_sales:  1.3123557450014023 RMSE_turnover:  6.272517707829617\n",
            "0.25 450 0.3 15 => RMSE_sales:  1.4575137049273357 RMSE_turnover:  6.887765058018466\n",
            "0.25 450 0.4 2 => RMSE_sales:  1.0720800945482698 RMSE_turnover:  5.373482104037484\n",
            "0.25 450 0.4 5 => RMSE_sales:  1.11277556883198 RMSE_turnover:  5.488418220483706\n",
            "0.25 450 0.4 10 => RMSE_sales:  1.2981753293927363 RMSE_turnover:  6.134288569051663\n",
            "0.25 450 0.4 15 => RMSE_sales:  1.413948964261081 RMSE_turnover:  6.793816385259846\n",
            "0.25 500 0.01 2 => RMSE_sales:  1.1396171917733096 RMSE_turnover:  5.85001042515611\n",
            "0.25 500 0.01 5 => RMSE_sales:  1.3731377422353126 RMSE_turnover:  7.261080800416775\n",
            "0.25 500 0.01 10 => RMSE_sales:  3.2504669644401525 RMSE_turnover:  23.9169751424895\n",
            "0.25 500 0.01 15 => RMSE_sales:  11.460792184806488 RMSE_turnover:  70.18631995230749\n",
            "0.25 500 0.05 2 => RMSE_sales:  1.084191950556386 RMSE_turnover:  5.423389337118811\n",
            "0.25 500 0.05 5 => RMSE_sales:  1.1304537347794001 RMSE_turnover:  5.6772113655058885\n",
            "0.25 500 0.05 10 => RMSE_sales:  1.4949417745977147 RMSE_turnover:  7.846182409151667\n",
            "0.25 500 0.05 15 => RMSE_sales:  2.360800309593593 RMSE_turnover:  13.394406730592493\n",
            "0.25 500 0.1 2 => RMSE_sales:  1.098434439685961 RMSE_turnover:  5.420546974374185\n",
            "0.25 500 0.1 5 => RMSE_sales:  1.1397816446315234 RMSE_turnover:  5.886826924977847\n",
            "0.25 500 0.1 10 => RMSE_sales:  1.4115144625401175 RMSE_turnover:  6.993295805935065\n",
            "0.25 500 0.1 15 => RMSE_sales:  1.8111558901600615 RMSE_turnover:  9.17311581458952\n",
            "0.25 500 0.15 2 => RMSE_sales:  1.081922374999207 RMSE_turnover:  5.387635523028341\n",
            "0.25 500 0.15 5 => RMSE_sales:  1.1442540626263946 RMSE_turnover:  5.645834684106345\n",
            "0.25 500 0.15 10 => RMSE_sales:  1.4104104928111418 RMSE_turnover:  7.184251145830151\n",
            "0.25 500 0.15 15 => RMSE_sales:  1.6758849105686207 RMSE_turnover:  8.739594866192942\n",
            "0.25 500 0.2 2 => RMSE_sales:  1.0762739865104367 RMSE_turnover:  5.412143155801801\n",
            "0.25 500 0.2 5 => RMSE_sales:  1.1197062832543627 RMSE_turnover:  5.572633030429244\n",
            "0.25 500 0.2 10 => RMSE_sales:  1.3689861871807423 RMSE_turnover:  6.895425812287356\n",
            "0.25 500 0.2 15 => RMSE_sales:  1.6039569886391405 RMSE_turnover:  7.9340086159897805\n",
            "0.25 500 0.3 2 => RMSE_sales:  1.075919144321987 RMSE_turnover:  5.379093355762955\n",
            "0.25 500 0.3 5 => RMSE_sales:  1.1249637282174945 RMSE_turnover:  5.520847844662297\n",
            "0.25 500 0.3 10 => RMSE_sales:  1.3313848715127237 RMSE_turnover:  6.3683912714217525\n",
            "0.25 500 0.3 15 => RMSE_sales:  1.4725642041494609 RMSE_turnover:  6.967928717934865\n",
            "0.25 500 0.4 2 => RMSE_sales:  1.072940489667901 RMSE_turnover:  5.373970039918952\n",
            "0.25 500 0.4 5 => RMSE_sales:  1.115848329007979 RMSE_turnover:  5.491452339545643\n",
            "0.25 500 0.4 10 => RMSE_sales:  1.3132080704289713 RMSE_turnover:  6.2064924594226145\n",
            "0.25 500 0.4 15 => RMSE_sales:  1.4268531802484337 RMSE_turnover:  6.832943149695682\n",
            "0.4 350 0.01 2 => RMSE_sales:  1.1590678537267947 RMSE_turnover:  5.8227499941630585\n",
            "0.4 350 0.01 5 => RMSE_sales:  2.2198866973368037 RMSE_turnover:  11.540105832588294\n",
            "0.4 350 0.01 10 => RMSE_sales:  21.250914257850727 RMSE_turnover:  135.69162140774696\n",
            "0.4 350 0.01 15 => RMSE_sales:  352.0683952395307 RMSE_turnover:  2068.9554110019085\n",
            "0.4 350 0.05 2 => RMSE_sales:  1.126193856163324 RMSE_turnover:  5.590458240872377\n",
            "0.4 350 0.05 5 => RMSE_sales:  1.3595792409433967 RMSE_turnover:  6.574866360110775\n",
            "0.4 350 0.05 10 => RMSE_sales:  3.7223592160772796 RMSE_turnover:  18.789323439867307\n",
            "0.4 350 0.05 15 => RMSE_sales:  14.483653073116605 RMSE_turnover:  87.05307881287122\n",
            "0.4 350 0.1 2 => RMSE_sales:  1.0993885774213363 RMSE_turnover:  5.432603884559927\n",
            "0.4 350 0.1 5 => RMSE_sales:  1.2544814281831647 RMSE_turnover:  6.385829542624973\n",
            "0.4 350 0.1 10 => RMSE_sales:  1.7356521258595068 RMSE_turnover:  9.576744215400797\n",
            "0.4 350 0.1 15 => RMSE_sales:  3.1534517202263666 RMSE_turnover:  20.250988151308658\n",
            "0.4 350 0.15 2 => RMSE_sales:  1.092809779918179 RMSE_turnover:  5.414298752446862\n",
            "0.4 350 0.15 5 => RMSE_sales:  1.1860709243977279 RMSE_turnover:  6.066121170502159\n",
            "0.4 350 0.15 10 => RMSE_sales:  1.6491950257835224 RMSE_turnover:  8.999135928037344\n",
            "0.4 350 0.15 15 => RMSE_sales:  2.2096483549890853 RMSE_turnover:  11.699610282322352\n",
            "0.4 350 0.2 2 => RMSE_sales:  1.087413651080379 RMSE_turnover:  5.409536144258117\n",
            "0.4 350 0.2 5 => RMSE_sales:  1.1854765449687876 RMSE_turnover:  6.136447513653514\n",
            "0.4 350 0.2 10 => RMSE_sales:  1.5094419294267731 RMSE_turnover:  7.888427821907197\n",
            "0.4 350 0.2 15 => RMSE_sales:  1.9889685753362256 RMSE_turnover:  9.773128487124175\n",
            "0.4 350 0.3 2 => RMSE_sales:  1.0856420529851116 RMSE_turnover:  5.423012364400142\n",
            "0.4 350 0.3 5 => RMSE_sales:  1.1691222188908548 RMSE_turnover:  5.741163663615066\n",
            "0.4 350 0.3 10 => RMSE_sales:  1.4723367978845308 RMSE_turnover:  7.380411631168161\n",
            "0.4 350 0.3 15 => RMSE_sales:  1.7118260920696267 RMSE_turnover:  8.377951904069056\n",
            "0.4 350 0.4 2 => RMSE_sales:  1.0850141244261602 RMSE_turnover:  5.400321392966509\n",
            "0.4 350 0.4 5 => RMSE_sales:  1.1480291806509164 RMSE_turnover:  5.873146560692453\n",
            "0.4 350 0.4 10 => RMSE_sales:  1.424230071480793 RMSE_turnover:  7.279024711668735\n",
            "0.4 350 0.4 15 => RMSE_sales:  1.5740697937644634 RMSE_turnover:  7.504940071308037\n",
            "0.4 400 0.01 2 => RMSE_sales:  1.1792151869959446 RMSE_turnover:  5.940738497129162\n",
            "0.4 400 0.01 5 => RMSE_sales:  2.244938139509794 RMSE_turnover:  11.700132935830732\n",
            "0.4 400 0.01 10 => RMSE_sales:  37.58194445029749 RMSE_turnover:  252.58973206547498\n",
            "0.4 400 0.01 15 => RMSE_sales:  975.9419075610948 RMSE_turnover:  6396.70594474378\n",
            "0.4 400 0.05 2 => RMSE_sales:  1.1380162745527231 RMSE_turnover:  5.625852620896087\n",
            "0.4 400 0.05 5 => RMSE_sales:  1.4797218394476181 RMSE_turnover:  6.617934902593118\n",
            "0.4 400 0.05 10 => RMSE_sales:  4.716913241833581 RMSE_turnover:  22.378942396073345\n",
            "0.4 400 0.05 15 => RMSE_sales:  22.991179339485992 RMSE_turnover:  149.89757662731975\n",
            "0.4 400 0.1 2 => RMSE_sales:  1.0934870155057643 RMSE_turnover:  5.415510322785525\n",
            "0.4 400 0.1 5 => RMSE_sales:  1.2587848024534976 RMSE_turnover:  6.261146076141957\n",
            "0.4 400 0.1 10 => RMSE_sales:  1.812936161530015 RMSE_turnover:  9.942667156024616\n",
            "0.4 400 0.1 15 => RMSE_sales:  3.7790734266746253 RMSE_turnover:  24.049254285600696\n",
            "0.4 400 0.15 2 => RMSE_sales:  1.087750158520664 RMSE_turnover:  5.408294538642243\n",
            "0.4 400 0.15 5 => RMSE_sales:  1.1978255887000833 RMSE_turnover:  6.098754641825339\n",
            "0.4 400 0.15 10 => RMSE_sales:  1.718157340378386 RMSE_turnover:  9.270517736482356\n",
            "0.4 400 0.15 15 => RMSE_sales:  2.321313160305674 RMSE_turnover:  12.690252190647357\n",
            "0.4 400 0.2 2 => RMSE_sales:  1.085570065784038 RMSE_turnover:  5.417291484500663\n",
            "0.4 400 0.2 5 => RMSE_sales:  1.1867198063780378 RMSE_turnover:  6.1352949132037535\n",
            "0.4 400 0.2 10 => RMSE_sales:  1.5758726482552545 RMSE_turnover:  8.158344422729709\n",
            "0.4 400 0.2 15 => RMSE_sales:  2.06626349325998 RMSE_turnover:  10.028026268117436\n",
            "0.4 400 0.3 2 => RMSE_sales:  1.0833275366596813 RMSE_turnover:  5.412533886347737\n",
            "0.4 400 0.3 5 => RMSE_sales:  1.1721736102235665 RMSE_turnover:  5.845774126076744\n",
            "0.4 400 0.3 10 => RMSE_sales:  1.499699057586759 RMSE_turnover:  7.47441863984289\n",
            "0.4 400 0.3 15 => RMSE_sales:  1.7318194489323508 RMSE_turnover:  8.509172483936439\n",
            "0.4 400 0.4 2 => RMSE_sales:  1.0830888166156394 RMSE_turnover:  5.408481599576973\n",
            "0.4 400 0.4 5 => RMSE_sales:  1.1556755128472675 RMSE_turnover:  5.88758294146086\n",
            "0.4 400 0.4 10 => RMSE_sales:  1.446946654947902 RMSE_turnover:  7.3469828258528596\n",
            "0.4 400 0.4 15 => RMSE_sales:  1.5896736543701862 RMSE_turnover:  7.564795652216842\n",
            "0.4 450 0.01 2 => RMSE_sales:  1.1759523106156284 RMSE_turnover:  5.878544614693811\n",
            "0.4 450 0.01 5 => RMSE_sales:  2.5174938244315546 RMSE_turnover:  14.920746996526182\n",
            "0.4 450 0.01 10 => RMSE_sales:  63.75347088313016 RMSE_turnover:  475.6399757502125\n",
            "0.4 450 0.01 15 => RMSE_sales:  2893.137863247891 RMSE_turnover:  18158.43598878203\n",
            "0.4 450 0.05 2 => RMSE_sales:  1.129735431304661 RMSE_turnover:  5.5462077628965405\n",
            "0.4 450 0.05 5 => RMSE_sales:  1.472991285269724 RMSE_turnover:  6.787013543165561\n",
            "0.4 450 0.05 10 => RMSE_sales:  6.1027243747015705 RMSE_turnover:  28.75509558560564\n",
            "0.4 450 0.05 15 => RMSE_sales:  38.55332816764244 RMSE_turnover:  248.23515890622184\n",
            "0.4 450 0.1 2 => RMSE_sales:  1.0856750869078606 RMSE_turnover:  5.398967073129564\n",
            "0.4 450 0.1 5 => RMSE_sales:  1.260109471602928 RMSE_turnover:  6.243506699868327\n",
            "0.4 450 0.1 10 => RMSE_sales:  1.8290124139986463 RMSE_turnover:  10.02841908894481\n",
            "0.4 450 0.1 15 => RMSE_sales:  4.626434649889247 RMSE_turnover:  28.50302826867068\n",
            "0.4 450 0.15 2 => RMSE_sales:  1.0916687023761285 RMSE_turnover:  5.4205453808687505\n",
            "0.4 450 0.15 5 => RMSE_sales:  1.2002214643241005 RMSE_turnover:  6.048482195610002\n",
            "0.4 450 0.15 10 => RMSE_sales:  1.7542981072733772 RMSE_turnover:  9.364107580455698\n",
            "0.4 450 0.15 15 => RMSE_sales:  2.440742729141134 RMSE_turnover:  12.989270297951467\n",
            "0.4 450 0.2 2 => RMSE_sales:  1.090046813429861 RMSE_turnover:  5.427969420866278\n",
            "0.4 450 0.2 5 => RMSE_sales:  1.1951805207381319 RMSE_turnover:  6.2590467316787315\n",
            "0.4 450 0.2 10 => RMSE_sales:  1.620283048250269 RMSE_turnover:  8.39129058337451\n",
            "0.4 450 0.2 15 => RMSE_sales:  2.1368641237796444 RMSE_turnover:  10.452173244525481\n",
            "0.4 450 0.3 2 => RMSE_sales:  1.0855443746792037 RMSE_turnover:  5.421041503630205\n",
            "0.4 450 0.3 5 => RMSE_sales:  1.185650528362402 RMSE_turnover:  5.86797372078405\n",
            "0.4 450 0.3 10 => RMSE_sales:  1.5219137466349004 RMSE_turnover:  7.495605040819881\n",
            "0.4 450 0.3 15 => RMSE_sales:  1.7525226874949038 RMSE_turnover:  8.595014253795103\n",
            "0.4 450 0.4 2 => RMSE_sales:  1.0814965507108052 RMSE_turnover:  5.402549390099821\n",
            "0.4 450 0.4 5 => RMSE_sales:  1.1599104998013468 RMSE_turnover:  5.874996545981157\n",
            "0.4 450 0.4 10 => RMSE_sales:  1.4684559525629715 RMSE_turnover:  7.445657519124796\n",
            "0.4 450 0.4 15 => RMSE_sales:  1.5985882990592206 RMSE_turnover:  7.590932373799245\n",
            "0.4 500 0.01 2 => RMSE_sales:  1.1953817073288164 RMSE_turnover:  5.933928116471538\n",
            "0.4 500 0.01 5 => RMSE_sales:  3.263517392087625 RMSE_turnover:  17.277068608167266\n",
            "0.4 500 0.01 10 => RMSE_sales:  116.56144953208901 RMSE_turnover:  776.9853374926412\n",
            "0.4 500 0.01 15 => RMSE_sales:  8741.430835744035 RMSE_turnover:  55963.295949904765\n",
            "0.4 500 0.05 2 => RMSE_sales:  1.1255739161625276 RMSE_turnover:  5.552112629645145\n",
            "0.4 500 0.05 5 => RMSE_sales:  1.5819762034151963 RMSE_turnover:  6.877672724999232\n",
            "0.4 500 0.05 10 => RMSE_sales:  8.806861530947927 RMSE_turnover:  41.21509648084341\n",
            "0.4 500 0.05 15 => RMSE_sales:  67.13572932267107 RMSE_turnover:  422.3966492492671\n",
            "0.4 500 0.1 2 => RMSE_sales:  1.0923218410890687 RMSE_turnover:  5.402187087952527\n",
            "0.4 500 0.1 5 => RMSE_sales:  1.2853749823988034 RMSE_turnover:  6.3135983840420975\n",
            "0.4 500 0.1 10 => RMSE_sales:  1.9200334647556265 RMSE_turnover:  10.548850237777229\n",
            "0.4 500 0.1 15 => RMSE_sales:  5.208640681846134 RMSE_turnover:  33.442982459810125\n",
            "0.4 500 0.15 2 => RMSE_sales:  1.0931418085237905 RMSE_turnover:  5.41203601954709\n",
            "0.4 500 0.15 5 => RMSE_sales:  1.2010661233438857 RMSE_turnover:  6.046380989162489\n",
            "0.4 500 0.15 10 => RMSE_sales:  1.8261123053598818 RMSE_turnover:  9.720516366564357\n",
            "0.4 500 0.15 15 => RMSE_sales:  2.563673005508022 RMSE_turnover:  13.573503595413946\n",
            "0.4 500 0.2 2 => RMSE_sales:  1.0937871243175823 RMSE_turnover:  5.430862596217444\n",
            "0.4 500 0.2 5 => RMSE_sales:  1.1984950519763984 RMSE_turnover:  6.263386575995397\n",
            "0.4 500 0.2 10 => RMSE_sales:  1.660542590138304 RMSE_turnover:  8.459617790723438\n",
            "0.4 500 0.2 15 => RMSE_sales:  2.1858413686444322 RMSE_turnover:  10.773817547206857\n",
            "0.4 500 0.3 2 => RMSE_sales:  1.0856001737893675 RMSE_turnover:  5.42137937809183\n",
            "0.4 500 0.3 5 => RMSE_sales:  1.1976921635481406 RMSE_turnover:  5.930094938020208\n",
            "0.4 500 0.3 10 => RMSE_sales:  1.552154221668141 RMSE_turnover:  7.600059104268227\n",
            "0.4 500 0.3 15 => RMSE_sales:  1.7707011339029763 RMSE_turnover:  8.63726434861683\n",
            "0.4 500 0.4 2 => RMSE_sales:  1.08227579012234 RMSE_turnover:  5.40674880955746\n",
            "0.4 500 0.4 5 => RMSE_sales:  1.1672800192271393 RMSE_turnover:  5.882596497200098\n",
            "0.4 500 0.4 10 => RMSE_sales:  1.4923432923234619 RMSE_turnover:  7.571660719423701\n",
            "0.4 500 0.4 15 => RMSE_sales:  1.608856740880556 RMSE_turnover:  7.62530437694148\n",
            "0.6 350 0.01 2 => RMSE_sales:  1.7346207464983794 RMSE_turnover:  7.692343908053757\n",
            "0.6 350 0.01 5 => RMSE_sales:  22.952131670950227 RMSE_turnover:  97.50944773335462\n",
            "0.6 350 0.01 10 => RMSE_sales:  49003.29363781681 RMSE_turnover:  327458.4807764908\n",
            "0.6 350 0.01 15 => RMSE_sales:  13477520.206155904 RMSE_turnover:  81290433.12916544\n",
            "0.6 350 0.05 2 => RMSE_sales:  1.2082628818132286 RMSE_turnover:  5.875627756561063\n",
            "0.6 350 0.05 5 => RMSE_sales:  9.79316129879686 RMSE_turnover:  37.548494624187704\n",
            "0.6 350 0.05 10 => RMSE_sales:  461.38895798872807 RMSE_turnover:  1776.8926860254255\n",
            "0.6 350 0.05 15 => RMSE_sales:  42932.10504759499 RMSE_turnover:  264518.6667374401\n",
            "0.6 350 0.1 2 => RMSE_sales:  1.1480679531877325 RMSE_turnover:  5.528500515953318\n",
            "0.6 350 0.1 5 => RMSE_sales:  1.7898032656565432 RMSE_turnover:  8.09232502031911\n",
            "0.6 350 0.1 10 => RMSE_sales:  77.55860956122588 RMSE_turnover:  282.99866849719166\n",
            "0.6 350 0.1 15 => RMSE_sales:  995.4165088371077 RMSE_turnover:  5894.488145980828\n",
            "0.6 350 0.15 2 => RMSE_sales:  1.1607357736003157 RMSE_turnover:  5.929693293505895\n",
            "0.6 350 0.15 5 => RMSE_sales:  1.3977264536788239 RMSE_turnover:  6.293074139967435\n",
            "0.6 350 0.15 10 => RMSE_sales:  3.361919622291231 RMSE_turnover:  13.677811729059512\n",
            "0.6 350 0.15 15 => RMSE_sales:  14.727101041699296 RMSE_turnover:  78.19091199662475\n",
            "0.6 350 0.2 2 => RMSE_sales:  1.1078778904283404 RMSE_turnover:  5.424019958447442\n",
            "0.6 350 0.2 5 => RMSE_sales:  1.261121740202553 RMSE_turnover:  6.305198089707863\n",
            "0.6 350 0.2 10 => RMSE_sales:  1.9814555530701794 RMSE_turnover:  10.91979691511278\n",
            "0.6 350 0.2 15 => RMSE_sales:  3.6918130379693155 RMSE_turnover:  22.37262578787399\n",
            "0.6 350 0.3 2 => RMSE_sales:  1.0890844536094446 RMSE_turnover:  5.394834957415149\n",
            "0.6 350 0.3 5 => RMSE_sales:  1.232505829354132 RMSE_turnover:  6.54965181852442\n",
            "0.6 350 0.3 10 => RMSE_sales:  1.8210499777494125 RMSE_turnover:  9.44548469120948\n",
            "0.6 350 0.3 15 => RMSE_sales:  2.4029688129565305 RMSE_turnover:  12.474978320216303\n",
            "0.6 350 0.4 2 => RMSE_sales:  1.1007256310746372 RMSE_turnover:  5.45657415137938\n",
            "0.6 350 0.4 5 => RMSE_sales:  1.2394276383786127 RMSE_turnover:  5.937566484352942\n",
            "0.6 350 0.4 10 => RMSE_sales:  1.657055571649353 RMSE_turnover:  8.235247434779696\n",
            "0.6 350 0.4 15 => RMSE_sales:  1.9855090835086562 RMSE_turnover:  9.638773028167295\n",
            "0.6 400 0.01 2 => RMSE_sales:  1.8344535476589723 RMSE_turnover:  7.912590171884088\n",
            "0.6 400 0.01 5 => RMSE_sales:  47.67953649699475 RMSE_turnover:  193.42152015984053\n",
            "0.6 400 0.01 10 => RMSE_sales:  246796.0690238705 RMSE_turnover:  1523662.3476766085\n",
            "0.6 400 0.01 15 => RMSE_sales:  156991859.960512 RMSE_turnover:  986109808.0518637\n",
            "0.6 400 0.05 2 => RMSE_sales:  1.2513285920578388 RMSE_turnover:  5.919163964646902\n",
            "0.6 400 0.05 5 => RMSE_sales:  21.24789198122712 RMSE_turnover:  80.31662461193832\n",
            "0.6 400 0.05 10 => RMSE_sales:  1544.4404847302828 RMSE_turnover:  6817.789347287872\n",
            "0.6 400 0.05 15 => RMSE_sales:  244810.41505264767 RMSE_turnover:  1288764.2917749379\n",
            "0.6 400 0.1 2 => RMSE_sales:  1.1488845888004202 RMSE_turnover:  5.486839448223006\n",
            "0.6 400 0.1 5 => RMSE_sales:  2.503791015410501 RMSE_turnover:  10.348056764497988\n",
            "0.6 400 0.1 10 => RMSE_sales:  190.53133687762084 RMSE_turnover:  862.2165570928568\n",
            "0.6 400 0.1 15 => RMSE_sales:  4121.730496340921 RMSE_turnover:  23057.46229018656\n",
            "0.6 400 0.15 2 => RMSE_sales:  1.1285642094190365 RMSE_turnover:  5.507824464311679\n",
            "0.6 400 0.15 5 => RMSE_sales:  1.4377290845519297 RMSE_turnover:  6.364108817794856\n",
            "0.6 400 0.15 10 => RMSE_sales:  4.035699586217061 RMSE_turnover:  17.15668735746188\n",
            "0.6 400 0.15 15 => RMSE_sales:  25.48361076867154 RMSE_turnover:  125.0599562266911\n",
            "0.6 400 0.2 2 => RMSE_sales:  1.1003892521264926 RMSE_turnover:  5.405815259671279\n",
            "0.6 400 0.2 5 => RMSE_sales:  1.2844117750890758 RMSE_turnover:  6.442934244434325\n",
            "0.6 400 0.2 10 => RMSE_sales:  2.1184902925790965 RMSE_turnover:  12.1217173002528\n",
            "0.6 400 0.2 15 => RMSE_sales:  4.0566619230461995 RMSE_turnover:  25.00129285532098\n",
            "0.6 400 0.3 2 => RMSE_sales:  1.0915233919370324 RMSE_turnover:  5.403220449917285\n",
            "0.6 400 0.3 5 => RMSE_sales:  1.2522429231113734 RMSE_turnover:  6.6013295415347475\n",
            "0.6 400 0.3 10 => RMSE_sales:  1.8820903489972944 RMSE_turnover:  9.956596384859722\n",
            "0.6 400 0.3 15 => RMSE_sales:  2.443076330348547 RMSE_turnover:  12.45640270485524\n",
            "0.6 400 0.4 2 => RMSE_sales:  1.0980868661629462 RMSE_turnover:  5.452318516399996\n",
            "0.6 400 0.4 5 => RMSE_sales:  1.2498842509938641 RMSE_turnover:  6.011463382036876\n",
            "0.6 400 0.4 10 => RMSE_sales:  1.6893302206522742 RMSE_turnover:  8.364771572553135\n",
            "0.6 400 0.4 15 => RMSE_sales:  2.005676731387035 RMSE_turnover:  9.746910759423667\n",
            "0.6 450 0.01 2 => RMSE_sales:  1.8457889369751421 RMSE_turnover:  7.306763912238833\n",
            "0.6 450 0.01 5 => RMSE_sales:  98.78142029673059 RMSE_turnover:  467.25537526274314\n",
            "0.6 450 0.01 10 => RMSE_sales:  1197229.6271030488 RMSE_turnover:  7304829.817705911\n",
            "0.6 450 0.01 15 => RMSE_sales:  2018111068.9269407 RMSE_turnover:  12968826180.752754\n",
            "0.6 450 0.05 2 => RMSE_sales:  1.2721072522569588 RMSE_turnover:  6.007748029038364\n",
            "0.6 450 0.05 5 => RMSE_sales:  35.49257197504744 RMSE_turnover:  123.86332664155738\n",
            "0.6 450 0.05 10 => RMSE_sales:  4076.0837105258543 RMSE_turnover:  16040.400284524367\n",
            "0.6 450 0.05 15 => RMSE_sales:  1643069.649474891 RMSE_turnover:  9198963.40269623\n",
            "0.6 450 0.1 2 => RMSE_sales:  1.1620906180587751 RMSE_turnover:  5.550844347997734\n",
            "0.6 450 0.1 5 => RMSE_sales:  3.4165094679074572 RMSE_turnover:  14.188373006840319\n",
            "0.6 450 0.1 10 => RMSE_sales:  388.88844523866845 RMSE_turnover:  1725.825595218773\n",
            "0.6 450 0.1 15 => RMSE_sales:  15121.024980069273 RMSE_turnover:  77349.94641143536\n",
            "0.6 450 0.15 2 => RMSE_sales:  1.1279608348952244 RMSE_turnover:  5.478631770840461\n",
            "0.6 450 0.15 5 => RMSE_sales:  1.4692582940224963 RMSE_turnover:  6.3899965744089675\n",
            "0.6 450 0.15 10 => RMSE_sales:  5.505460042645458 RMSE_turnover:  22.741359418534763\n",
            "0.6 450 0.15 15 => RMSE_sales:  41.47472158187464 RMSE_turnover:  191.99223079187206\n",
            "0.6 450 0.2 2 => RMSE_sales:  1.104424018335098 RMSE_turnover:  5.435836468631465\n",
            "0.6 450 0.2 5 => RMSE_sales:  1.3170121264859007 RMSE_turnover:  6.513128123906117\n",
            "0.6 450 0.2 10 => RMSE_sales:  2.190136866627177 RMSE_turnover:  12.237191218563522\n",
            "0.6 450 0.2 15 => RMSE_sales:  4.463286707942116 RMSE_turnover:  27.78544498215971\n",
            "0.6 450 0.3 2 => RMSE_sales:  1.0975597361751588 RMSE_turnover:  5.413607207656773\n",
            "0.6 450 0.3 5 => RMSE_sales:  1.2782652795859688 RMSE_turnover:  6.7774112448973165\n",
            "0.6 450 0.3 10 => RMSE_sales:  1.9362434724346835 RMSE_turnover:  10.178445843189628\n",
            "0.6 450 0.3 15 => RMSE_sales:  2.482691571311376 RMSE_turnover:  12.750628109511313\n",
            "0.6 450 0.4 2 => RMSE_sales:  1.1032208201815838 RMSE_turnover:  5.450116797017943\n",
            "0.6 450 0.4 5 => RMSE_sales:  1.2457772209558466 RMSE_turnover:  6.013101263491287\n",
            "0.6 450 0.4 10 => RMSE_sales:  1.730519306815166 RMSE_turnover:  8.50834606030341\n",
            "0.6 450 0.4 15 => RMSE_sales:  2.0235913545077198 RMSE_turnover:  9.867337329882936\n",
            "0.6 500 0.01 2 => RMSE_sales:  2.6312285411758682 RMSE_turnover:  9.91523775960489\n",
            "0.6 500 0.01 5 => RMSE_sales:  328.79387251563384 RMSE_turnover:  1617.7968525022407\n",
            "0.6 500 0.01 10 => RMSE_sales:  5305784.032354803 RMSE_turnover:  39290608.203134894\n",
            "0.6 500 0.01 15 => RMSE_sales:  25270757999.34572 RMSE_turnover:  170647985733.45013\n",
            "0.6 500 0.05 2 => RMSE_sales:  1.3232283421132394 RMSE_turnover:  6.32908171963468\n",
            "0.6 500 0.05 5 => RMSE_sales:  51.30000996842138 RMSE_turnover:  201.06352683780474\n",
            "0.6 500 0.05 10 => RMSE_sales:  12570.652268892214 RMSE_turnover:  50118.91059013945\n",
            "0.6 500 0.05 15 => RMSE_sales:  10331200.364198603 RMSE_turnover:  63041750.125995584\n",
            "0.6 500 0.1 2 => RMSE_sales:  1.1796952830737515 RMSE_turnover:  5.5720458735187215\n",
            "0.6 500 0.1 5 => RMSE_sales:  4.720987300220354 RMSE_turnover:  15.784844704011752\n",
            "0.6 500 0.1 10 => RMSE_sales:  914.1359673817885 RMSE_turnover:  3807.6414331157644\n",
            "0.6 500 0.1 15 => RMSE_sales:  53318.71232296094 RMSE_turnover:  274386.5840788291\n",
            "0.6 500 0.15 2 => RMSE_sales:  1.1284506553165807 RMSE_turnover:  5.474122972705025\n",
            "0.6 500 0.15 5 => RMSE_sales:  1.5121662326222896 RMSE_turnover:  6.510993613605867\n",
            "0.6 500 0.15 10 => RMSE_sales:  6.809297759475337 RMSE_turnover:  24.202865829400277\n",
            "0.6 500 0.15 15 => RMSE_sales:  69.67138183753282 RMSE_turnover:  353.2108998321996\n",
            "0.6 500 0.2 2 => RMSE_sales:  1.106870054949086 RMSE_turnover:  5.434679784735296\n",
            "0.6 500 0.2 5 => RMSE_sales:  1.3367981117058132 RMSE_turnover:  6.493222806196395\n",
            "0.6 500 0.2 10 => RMSE_sales:  2.3209568712184137 RMSE_turnover:  13.106529742311206\n",
            "0.6 500 0.2 15 => RMSE_sales:  4.942037896617442 RMSE_turnover:  32.221126661870834\n",
            "0.6 500 0.3 2 => RMSE_sales:  1.0981539031964267 RMSE_turnover:  5.413389876509675\n",
            "0.6 500 0.3 5 => RMSE_sales:  1.2756489311236672 RMSE_turnover:  6.634542219844584\n",
            "0.6 500 0.3 10 => RMSE_sales:  1.9959995382837563 RMSE_turnover:  10.46695582901261\n",
            "0.6 500 0.3 15 => RMSE_sales:  2.5396068401360026 RMSE_turnover:  13.027703436115532\n",
            "0.6 500 0.4 2 => RMSE_sales:  1.1139692995246742 RMSE_turnover:  5.521321359079556\n",
            "0.6 500 0.4 5 => RMSE_sales:  1.2572283323457385 RMSE_turnover:  6.132076646405003\n",
            "0.6 500 0.4 10 => RMSE_sales:  1.759748657168294 RMSE_turnover:  8.623366834338112\n",
            "0.6 500 0.4 15 => RMSE_sales:  2.036361251296646 RMSE_turnover:  9.922269215236952\n",
            "0.8 350 0.01 2 => RMSE_sales:  10.518752642793158 RMSE_turnover:  38.92211425689822\n",
            "0.8 350 0.01 5 => RMSE_sales:  11119.155353289008 RMSE_turnover:  62784.22544956448\n",
            "0.8 350 0.01 10 => RMSE_sales:  5798532230.5097 RMSE_turnover:  34679178969.76639\n",
            "0.8 350 0.01 15 => RMSE_sales:  160776375315450.0 RMSE_turnover:  957888020323881.0\n",
            "0.8 350 0.05 2 => RMSE_sales:  6.854713733878304 RMSE_turnover:  18.15851105670309\n",
            "0.8 350 0.05 5 => RMSE_sales:  1034.506189781171 RMSE_turnover:  3209.159093357171\n",
            "0.8 350 0.05 10 => RMSE_sales:  17052134.881151512 RMSE_turnover:  87527507.82853746\n",
            "0.8 350 0.05 15 => RMSE_sales:  93305996469.51485 RMSE_turnover:  550412317211.798\n",
            "0.8 350 0.1 2 => RMSE_sales:  1.5012835488192802 RMSE_turnover:  6.0106647290372095\n",
            "0.8 350 0.1 5 => RMSE_sales:  450.014899667297 RMSE_turnover:  1571.1720706932028\n",
            "0.8 350 0.1 10 => RMSE_sales:  394587.52264258044 RMSE_turnover:  1854448.7941374746\n",
            "0.8 350 0.1 15 => RMSE_sales:  82145558.23510948 RMSE_turnover:  289749555.1463904\n",
            "0.8 350 0.15 2 => RMSE_sales:  1.3062315222637848 RMSE_turnover:  5.812915177553148\n",
            "0.8 350 0.15 5 => RMSE_sales:  8.360288690293757 RMSE_turnover:  22.852699269968554\n",
            "0.8 350 0.15 10 => RMSE_sales:  21960.64980669656 RMSE_turnover:  82546.25338244502\n",
            "0.8 350 0.15 15 => RMSE_sales:  601887.7125822584 RMSE_turnover:  2524946.309918616\n",
            "0.8 350 0.2 2 => RMSE_sales:  1.2053429964015066 RMSE_turnover:  5.576939138297891\n",
            "0.8 350 0.2 5 => RMSE_sales:  2.554243093737672 RMSE_turnover:  8.93893876712539\n",
            "0.8 350 0.2 10 => RMSE_sales:  19.525658866269104 RMSE_turnover:  69.42297541864262\n",
            "0.8 350 0.2 15 => RMSE_sales:  1218.961464244428 RMSE_turnover:  5961.21968647859\n",
            "0.8 350 0.3 2 => RMSE_sales:  1.126261170906617 RMSE_turnover:  5.640809564329642\n",
            "0.8 350 0.3 5 => RMSE_sales:  1.3257681775372723 RMSE_turnover:  6.47138173452016\n",
            "0.8 350 0.3 10 => RMSE_sales:  2.438210918132983 RMSE_turnover:  14.57588150414653\n",
            "0.8 350 0.3 15 => RMSE_sales:  4.324048027981389 RMSE_turnover:  26.327708975749253\n",
            "0.8 350 0.4 2 => RMSE_sales:  1.1029781143748196 RMSE_turnover:  5.49105505742672\n",
            "0.8 350 0.4 5 => RMSE_sales:  1.3358333078518592 RMSE_turnover:  7.115188496418845\n",
            "0.8 350 0.4 10 => RMSE_sales:  2.1263583348992214 RMSE_turnover:  10.4442740880164\n",
            "0.8 350 0.4 15 => RMSE_sales:  2.703773438837676 RMSE_turnover:  13.194486004942743\n",
            "0.8 400 0.01 2 => RMSE_sales:  17.337369191757762 RMSE_turnover:  60.393252838382814\n",
            "0.8 400 0.01 5 => RMSE_sales:  57195.84009066446 RMSE_turnover:  293516.07360884786\n",
            "0.8 400 0.01 10 => RMSE_sales:  424333770901.0462 RMSE_turnover:  2899022379507.985\n",
            "0.8 400 0.01 15 => RMSE_sales:  1.5769036432612094e+16 RMSE_turnover:  1.0873286817808936e+17\n",
            "0.8 400 0.05 2 => RMSE_sales:  11.201614806226639 RMSE_turnover:  29.972835486697402\n",
            "0.8 400 0.05 5 => RMSE_sales:  3375.2514534679544 RMSE_turnover:  10102.049138438513\n",
            "0.8 400 0.05 10 => RMSE_sales:  451845643.5300906 RMSE_turnover:  2229301574.360829\n",
            "0.8 400 0.05 15 => RMSE_sales:  7354197885188.15 RMSE_turnover:  43418312287955.19\n",
            "0.8 400 0.1 2 => RMSE_sales:  2.2074666796176463 RMSE_turnover:  7.062855586572443\n",
            "0.8 400 0.1 5 => RMSE_sales:  1645.409487487991 RMSE_turnover:  4242.780248226058\n",
            "0.8 400 0.1 10 => RMSE_sales:  4595359.5520555265 RMSE_turnover:  19546942.14206385\n",
            "0.8 400 0.1 15 => RMSE_sales:  1590549513.9152899 RMSE_turnover:  9203184913.042196\n",
            "0.8 400 0.15 2 => RMSE_sales:  1.4174969423473964 RMSE_turnover:  6.027389942701899\n",
            "0.8 400 0.15 5 => RMSE_sales:  15.921531838353525 RMSE_turnover:  43.59060356931694\n"
          ]
        },
        {
          "ename": "KeyboardInterrupt",
          "evalue": "",
          "output_type": "error",
          "traceback": [
            "\u001b[1;31m---------------------------------------------------------------------------\u001b[0m",
            "\u001b[1;31mKeyboardInterrupt\u001b[0m                         Traceback (most recent call last)",
            "\u001b[1;32mc:\\Users\\zavre\\Desktop\\github\\Data_X_TimeSeriesPrediction\\notebooks\\team1_project_codebase_bez_agregace_sales.ipynb Cell 94\u001b[0m line \u001b[0;36m3\n\u001b[0;32m     <a href='vscode-notebook-cell:/c%3A/Users/zavre/Desktop/github/Data_X_TimeSeriesPrediction/notebooks/team1_project_codebase_bez_agregace_sales.ipynb#Y165sZmlsZQ%3D%3D?line=20'>21</a>\u001b[0m \u001b[39mfor\u001b[39;00m max_depth \u001b[39min\u001b[39;00m param_grid[\u001b[39m'\u001b[39m\u001b[39mmax_depth\u001b[39m\u001b[39m'\u001b[39m]:\n\u001b[0;32m     <a href='vscode-notebook-cell:/c%3A/Users/zavre/Desktop/github/Data_X_TimeSeriesPrediction/notebooks/team1_project_codebase_bez_agregace_sales.ipynb#Y165sZmlsZQ%3D%3D?line=21'>22</a>\u001b[0m         \u001b[39m# Create and train a Random Forest model with the current hyperparameters\u001b[39;00m\n\u001b[0;32m     <a href='vscode-notebook-cell:/c%3A/Users/zavre/Desktop/github/Data_X_TimeSeriesPrediction/notebooks/team1_project_codebase_bez_agregace_sales.ipynb#Y165sZmlsZQ%3D%3D?line=22'>23</a>\u001b[0m         xgb \u001b[39m=\u001b[39m xgboost\u001b[39m.\u001b[39mXGBRegressor(random_state\u001b[39m=\u001b[39mSEED, \n\u001b[0;32m     <a href='vscode-notebook-cell:/c%3A/Users/zavre/Desktop/github/Data_X_TimeSeriesPrediction/notebooks/team1_project_codebase_bez_agregace_sales.ipynb#Y165sZmlsZQ%3D%3D?line=23'>24</a>\u001b[0m                             objective\u001b[39m=\u001b[39mobjective,\n\u001b[0;32m     <a href='vscode-notebook-cell:/c%3A/Users/zavre/Desktop/github/Data_X_TimeSeriesPrediction/notebooks/team1_project_codebase_bez_agregace_sales.ipynb#Y165sZmlsZQ%3D%3D?line=24'>25</a>\u001b[0m                             learning_rate\u001b[39m=\u001b[39mlearning_rate,\n\u001b[0;32m     <a href='vscode-notebook-cell:/c%3A/Users/zavre/Desktop/github/Data_X_TimeSeriesPrediction/notebooks/team1_project_codebase_bez_agregace_sales.ipynb#Y165sZmlsZQ%3D%3D?line=25'>26</a>\u001b[0m                             n_estimators\u001b[39m=\u001b[39mn_estimators,\n\u001b[0;32m     <a href='vscode-notebook-cell:/c%3A/Users/zavre/Desktop/github/Data_X_TimeSeriesPrediction/notebooks/team1_project_codebase_bez_agregace_sales.ipynb#Y165sZmlsZQ%3D%3D?line=26'>27</a>\u001b[0m                             subsample\u001b[39m=\u001b[39msubsample,\n\u001b[0;32m     <a href='vscode-notebook-cell:/c%3A/Users/zavre/Desktop/github/Data_X_TimeSeriesPrediction/notebooks/team1_project_codebase_bez_agregace_sales.ipynb#Y165sZmlsZQ%3D%3D?line=27'>28</a>\u001b[0m                             max_depth\u001b[39m=\u001b[39mmax_depth)\n\u001b[1;32m---> <a href='vscode-notebook-cell:/c%3A/Users/zavre/Desktop/github/Data_X_TimeSeriesPrediction/notebooks/team1_project_codebase_bez_agregace_sales.ipynb#Y165sZmlsZQ%3D%3D?line=29'>30</a>\u001b[0m         xgb\u001b[39m.\u001b[39;49mfit(X_train, y_train)\n\u001b[0;32m     <a href='vscode-notebook-cell:/c%3A/Users/zavre/Desktop/github/Data_X_TimeSeriesPrediction/notebooks/team1_project_codebase_bez_agregace_sales.ipynb#Y165sZmlsZQ%3D%3D?line=31'>32</a>\u001b[0m         \u001b[39m# Evaluate the model on the validation set\u001b[39;00m\n\u001b[0;32m     <a href='vscode-notebook-cell:/c%3A/Users/zavre/Desktop/github/Data_X_TimeSeriesPrediction/notebooks/team1_project_codebase_bez_agregace_sales.ipynb#Y165sZmlsZQ%3D%3D?line=32'>33</a>\u001b[0m         y_pred_xgb \u001b[39m=\u001b[39m xgb\u001b[39m.\u001b[39mpredict(X_test)\n",
            "File \u001b[1;32mc:\\Users\\zavre\\AppData\\Local\\Programs\\Python\\Python39\\lib\\site-packages\\xgboost\\core.py:729\u001b[0m, in \u001b[0;36mrequire_keyword_args.<locals>.throw_if.<locals>.inner_f\u001b[1;34m(*args, **kwargs)\u001b[0m\n\u001b[0;32m    727\u001b[0m \u001b[39mfor\u001b[39;00m k, arg \u001b[39min\u001b[39;00m \u001b[39mzip\u001b[39m(sig\u001b[39m.\u001b[39mparameters, args):\n\u001b[0;32m    728\u001b[0m     kwargs[k] \u001b[39m=\u001b[39m arg\n\u001b[1;32m--> 729\u001b[0m \u001b[39mreturn\u001b[39;00m func(\u001b[39m*\u001b[39m\u001b[39m*\u001b[39mkwargs)\n",
            "File \u001b[1;32mc:\\Users\\zavre\\AppData\\Local\\Programs\\Python\\Python39\\lib\\site-packages\\xgboost\\sklearn.py:1086\u001b[0m, in \u001b[0;36mXGBModel.fit\u001b[1;34m(self, X, y, sample_weight, base_margin, eval_set, eval_metric, early_stopping_rounds, verbose, xgb_model, sample_weight_eval_set, base_margin_eval_set, feature_weights, callbacks)\u001b[0m\n\u001b[0;32m   1075\u001b[0m     obj \u001b[39m=\u001b[39m \u001b[39mNone\u001b[39;00m\n\u001b[0;32m   1077\u001b[0m (\n\u001b[0;32m   1078\u001b[0m     model,\n\u001b[0;32m   1079\u001b[0m     metric,\n\u001b[1;32m   (...)\u001b[0m\n\u001b[0;32m   1084\u001b[0m     xgb_model, eval_metric, params, early_stopping_rounds, callbacks\n\u001b[0;32m   1085\u001b[0m )\n\u001b[1;32m-> 1086\u001b[0m \u001b[39mself\u001b[39m\u001b[39m.\u001b[39m_Booster \u001b[39m=\u001b[39m train(\n\u001b[0;32m   1087\u001b[0m     params,\n\u001b[0;32m   1088\u001b[0m     train_dmatrix,\n\u001b[0;32m   1089\u001b[0m     \u001b[39mself\u001b[39;49m\u001b[39m.\u001b[39;49mget_num_boosting_rounds(),\n\u001b[0;32m   1090\u001b[0m     evals\u001b[39m=\u001b[39;49mevals,\n\u001b[0;32m   1091\u001b[0m     early_stopping_rounds\u001b[39m=\u001b[39;49mearly_stopping_rounds,\n\u001b[0;32m   1092\u001b[0m     evals_result\u001b[39m=\u001b[39;49mevals_result,\n\u001b[0;32m   1093\u001b[0m     obj\u001b[39m=\u001b[39;49mobj,\n\u001b[0;32m   1094\u001b[0m     custom_metric\u001b[39m=\u001b[39;49mmetric,\n\u001b[0;32m   1095\u001b[0m     verbose_eval\u001b[39m=\u001b[39;49mverbose,\n\u001b[0;32m   1096\u001b[0m     xgb_model\u001b[39m=\u001b[39;49mmodel,\n\u001b[0;32m   1097\u001b[0m     callbacks\u001b[39m=\u001b[39;49mcallbacks,\n\u001b[0;32m   1098\u001b[0m )\n\u001b[0;32m   1100\u001b[0m \u001b[39mself\u001b[39m\u001b[39m.\u001b[39m_set_evaluation_result(evals_result)\n\u001b[0;32m   1101\u001b[0m \u001b[39mreturn\u001b[39;00m \u001b[39mself\u001b[39m\n",
            "File \u001b[1;32mc:\\Users\\zavre\\AppData\\Local\\Programs\\Python\\Python39\\lib\\site-packages\\xgboost\\core.py:729\u001b[0m, in \u001b[0;36mrequire_keyword_args.<locals>.throw_if.<locals>.inner_f\u001b[1;34m(*args, **kwargs)\u001b[0m\n\u001b[0;32m    727\u001b[0m \u001b[39mfor\u001b[39;00m k, arg \u001b[39min\u001b[39;00m \u001b[39mzip\u001b[39m(sig\u001b[39m.\u001b[39mparameters, args):\n\u001b[0;32m    728\u001b[0m     kwargs[k] \u001b[39m=\u001b[39m arg\n\u001b[1;32m--> 729\u001b[0m \u001b[39mreturn\u001b[39;00m func(\u001b[39m*\u001b[39m\u001b[39m*\u001b[39mkwargs)\n",
            "File \u001b[1;32mc:\\Users\\zavre\\AppData\\Local\\Programs\\Python\\Python39\\lib\\site-packages\\xgboost\\training.py:181\u001b[0m, in \u001b[0;36mtrain\u001b[1;34m(params, dtrain, num_boost_round, evals, obj, feval, maximize, early_stopping_rounds, evals_result, verbose_eval, xgb_model, callbacks, custom_metric)\u001b[0m\n\u001b[0;32m    179\u001b[0m \u001b[39mif\u001b[39;00m cb_container\u001b[39m.\u001b[39mbefore_iteration(bst, i, dtrain, evals):\n\u001b[0;32m    180\u001b[0m     \u001b[39mbreak\u001b[39;00m\n\u001b[1;32m--> 181\u001b[0m bst\u001b[39m.\u001b[39;49mupdate(dtrain, i, obj)\n\u001b[0;32m    182\u001b[0m \u001b[39mif\u001b[39;00m cb_container\u001b[39m.\u001b[39mafter_iteration(bst, i, dtrain, evals):\n\u001b[0;32m    183\u001b[0m     \u001b[39mbreak\u001b[39;00m\n",
            "File \u001b[1;32mc:\\Users\\zavre\\AppData\\Local\\Programs\\Python\\Python39\\lib\\site-packages\\xgboost\\core.py:2050\u001b[0m, in \u001b[0;36mBooster.update\u001b[1;34m(self, dtrain, iteration, fobj)\u001b[0m\n\u001b[0;32m   2046\u001b[0m \u001b[39mself\u001b[39m\u001b[39m.\u001b[39m_assign_dmatrix_features(dtrain)\n\u001b[0;32m   2048\u001b[0m \u001b[39mif\u001b[39;00m fobj \u001b[39mis\u001b[39;00m \u001b[39mNone\u001b[39;00m:\n\u001b[0;32m   2049\u001b[0m     _check_call(\n\u001b[1;32m-> 2050\u001b[0m         _LIB\u001b[39m.\u001b[39;49mXGBoosterUpdateOneIter(\n\u001b[0;32m   2051\u001b[0m             \u001b[39mself\u001b[39;49m\u001b[39m.\u001b[39;49mhandle, ctypes\u001b[39m.\u001b[39;49mc_int(iteration), dtrain\u001b[39m.\u001b[39;49mhandle\n\u001b[0;32m   2052\u001b[0m         )\n\u001b[0;32m   2053\u001b[0m     )\n\u001b[0;32m   2054\u001b[0m \u001b[39melse\u001b[39;00m:\n\u001b[0;32m   2055\u001b[0m     pred \u001b[39m=\u001b[39m \u001b[39mself\u001b[39m\u001b[39m.\u001b[39mpredict(dtrain, output_margin\u001b[39m=\u001b[39m\u001b[39mTrue\u001b[39;00m, training\u001b[39m=\u001b[39m\u001b[39mTrue\u001b[39;00m)\n",
            "\u001b[1;31mKeyboardInterrupt\u001b[0m: "
          ]
        }
      ],
      "source": [
        "SEED = 88\n",
        "\n",
        "param_grid = {\n",
        "    'objective':['count:poisson','reg:squarederror'],\n",
        "    'learning_rate': [0.01,0.1,0.15,0.25,0.4,0.6,0.8], # 0.05,0.1,   alias eta, Step size shrinkage used in update to prevents overfitting.\n",
        "    'n_estimators': [350,400,450,500], # \n",
        "    'subsample': [0.01,0.05,0.1,0.15,0.2,0.3,0.4], #     Subsample ratio of the training instances\n",
        "    'max_depth': [2,5,10,15]\n",
        "    }\n",
        "\n",
        "best_RMSE_sales = 999\n",
        "best_RMSE_turnover = 999\n",
        "\n",
        "best_params_sales = {}\n",
        "best_params_turnover = {}\n",
        "\n",
        "for objective in param_grid['objective']:\n",
        "    for learning_rate in param_grid['learning_rate']:\n",
        "        for n_estimators in param_grid['n_estimators']:\n",
        "            for subsample in param_grid['subsample']:\n",
        "                for max_depth in param_grid['max_depth']:\n",
        "                        # Create and train a Random Forest model with the current hyperparameters\n",
        "                        xgb = xgboost.XGBRegressor(random_state=SEED, \n",
        "                                            objective=objective,\n",
        "                                            learning_rate=learning_rate,\n",
        "                                            n_estimators=n_estimators,\n",
        "                                            subsample=subsample,\n",
        "                                            max_depth=max_depth)\n",
        "                        \n",
        "                        xgb.fit(X_train, y_train)\n",
        "\n",
        "                        # Evaluate the model on the validation set\n",
        "                        y_pred_xgb = xgb.predict(X_test)\n",
        "                        RMSE_sales = np.sqrt(mean_squared_error(y_test, y_pred_xgb))\n",
        "\n",
        "                        # Update the best hyperparameters if this combination is better\n",
        "                        if RMSE_sales < best_RMSE_sales:\n",
        "                            best_RMSE_sales = RMSE_sales\n",
        "                            best_params_sales = {\n",
        "                                'learning_rate': learning_rate,\n",
        "                                'n_estimators': n_estimators,\n",
        "                                'subsample': subsample,\n",
        "                                'max_depth': max_depth\n",
        "                            }\n",
        "\n",
        "                        RMSE_turnover = np.sqrt(mean_squared_error(turnover_test, y_pred_xgb*X_test.sell_price)) \n",
        "\n",
        "                        if RMSE_turnover < best_RMSE_turnover:\n",
        "                            best_RMSE_turnover = RMSE_turnover\n",
        "                            best_params_turnover = {\n",
        "                                'learning_rate': learning_rate,\n",
        "                                'n_estimators': n_estimators,\n",
        "                                'subsample': subsample,\n",
        "                                'max_depth': max_depth\n",
        "                            }\n",
        "                        print(learning_rate,n_estimators,subsample,max_depth, '=> RMSE_sales: ', RMSE_sales, 'RMSE_turnover: ', RMSE_turnover)"
      ]
    },
    {
      "cell_type": "code",
      "execution_count": 274,
      "metadata": {},
      "outputs": [
        {
          "name": "stdout",
          "output_type": "stream",
          "text": [
            "{'learning_rate': 0.1, 'n_estimators': 300, 'subsample': 0.3, 'max_depth': 5} 1.0531512249641555\n",
            "{'learning_rate': 0.15, 'n_estimators': 300, 'subsample': 0.2, 'max_depth': 5} 5.233752024367919\n"
          ]
        }
      ],
      "source": [
        "print(best_params_sales, best_RMSE_sales)\n",
        "#{'learning_rate': 0.1, 'n_estimators': 300, 'subsample': 0.3, 'max_depth': 5} 1.0531512249641555\n",
        "\n",
        "print(best_params_turnover, best_RMSE_turnover)\n",
        "#{'learning_rate': 0.15, 'n_estimators': 300, 'subsample': 0.2, 'max_depth': 5} 5.233752024367919"
      ]
    },
    {
      "cell_type": "code",
      "execution_count": 194,
      "metadata": {},
      "outputs": [
        {
          "name": "stdout",
          "output_type": "stream",
          "text": [
            "17.23579145884144\n"
          ]
        }
      ],
      "source": [
        "SEED=88\n",
        "learning_rate = best_params[\"learning_rate\"]\n",
        "n_estimators = best_params[\"n_estimators\"]\n",
        "subsample = best_params[\"subsample\"]\n",
        "max_depth = best_params[\"max_depth\"]\n",
        "\n",
        "\n",
        "xgb = xgboost.XGBRegressor(random_state=SEED, \n",
        "                    objective='reg:squarederror',\n",
        "                    learning_rate=learning_rate,\n",
        "                    n_estimators=n_estimators,\n",
        "                    subsample=subsample,\n",
        "                    max_depth=max_depth)\n",
        "\n",
        "xgb.fit(X_train, y_train)\n",
        "\n",
        "# Evaluate the model on the validation set\n",
        "y_pred_xgb = xgb.predict(X_validation)\n",
        "RMSE = np.sqrt(mean_squared_error(y_validation, y_pred_xgb))\n",
        "\n",
        "print(RMSE)"
      ]
    },
    {
      "cell_type": "code",
      "execution_count": 195,
      "metadata": {},
      "outputs": [],
      "source": [
        "with open('../models/xgb_model.pkl', 'wb') as file:\n",
        "    pickle.dump(xgb, file)"
      ]
    },
    {
      "cell_type": "code",
      "execution_count": 196,
      "metadata": {},
      "outputs": [
        {
          "data": {
            "text/html": [
              "<div>\n",
              "<style scoped>\n",
              "    .dataframe tbody tr th:only-of-type {\n",
              "        vertical-align: middle;\n",
              "    }\n",
              "\n",
              "    .dataframe tbody tr th {\n",
              "        vertical-align: top;\n",
              "    }\n",
              "\n",
              "    .dataframe thead th {\n",
              "        text-align: right;\n",
              "    }\n",
              "</style>\n",
              "<table border=\"1\" class=\"dataframe\">\n",
              "  <thead>\n",
              "    <tr style=\"text-align: right;\">\n",
              "      <th></th>\n",
              "      <th>Variable</th>\n",
              "      <th>Importance</th>\n",
              "    </tr>\n",
              "  </thead>\n",
              "  <tbody>\n",
              "    <tr>\n",
              "      <th>1</th>\n",
              "      <td>turnover_month_avg</td>\n",
              "      <td>0.219421</td>\n",
              "    </tr>\n",
              "    <tr>\n",
              "      <th>4</th>\n",
              "      <td>turnover_week_avg</td>\n",
              "      <td>0.076776</td>\n",
              "    </tr>\n",
              "    <tr>\n",
              "      <th>32</th>\n",
              "      <td>weekday_Tuesday</td>\n",
              "      <td>0.037002</td>\n",
              "    </tr>\n",
              "    <tr>\n",
              "      <th>23</th>\n",
              "      <td>store_id_WI_2</td>\n",
              "      <td>0.032692</td>\n",
              "    </tr>\n",
              "    <tr>\n",
              "      <th>30</th>\n",
              "      <td>weekday_Sunday</td>\n",
              "      <td>0.031809</td>\n",
              "    </tr>\n",
              "    <tr>\n",
              "      <th>29</th>\n",
              "      <td>weekday_Saturday</td>\n",
              "      <td>0.029204</td>\n",
              "    </tr>\n",
              "    <tr>\n",
              "      <th>36</th>\n",
              "      <td>month_December</td>\n",
              "      <td>0.024540</td>\n",
              "    </tr>\n",
              "    <tr>\n",
              "      <th>5</th>\n",
              "      <td>turnover_week_max</td>\n",
              "      <td>0.020291</td>\n",
              "    </tr>\n",
              "    <tr>\n",
              "      <th>10</th>\n",
              "      <td>dept_id_FOODS_2</td>\n",
              "      <td>0.019780</td>\n",
              "    </tr>\n",
              "    <tr>\n",
              "      <th>31</th>\n",
              "      <td>weekday_Thursday</td>\n",
              "      <td>0.019676</td>\n",
              "    </tr>\n",
              "  </tbody>\n",
              "</table>\n",
              "</div>"
            ],
            "text/plain": [
              "              Variable  Importance\n",
              "1   turnover_month_avg    0.219421\n",
              "4    turnover_week_avg    0.076776\n",
              "32     weekday_Tuesday    0.037002\n",
              "23       store_id_WI_2    0.032692\n",
              "30      weekday_Sunday    0.031809\n",
              "29    weekday_Saturday    0.029204\n",
              "36      month_December    0.024540\n",
              "5    turnover_week_max    0.020291\n",
              "10     dept_id_FOODS_2    0.019780\n",
              "31    weekday_Thursday    0.019676"
            ]
          },
          "execution_count": 196,
          "metadata": {},
          "output_type": "execute_result"
        }
      ],
      "source": [
        "pd.DataFrame({'Variable':X_train.columns,\n",
        "              'Importance':xgb.feature_importances_}).sort_values('Importance', ascending=False)[0:10]"
      ]
    }
  ],
  "metadata": {
    "colab": {
      "provenance": []
    },
    "kernelspec": {
      "display_name": "Python 3",
      "name": "python3"
    },
    "language_info": {
      "codemirror_mode": {
        "name": "ipython",
        "version": 3
      },
      "file_extension": ".py",
      "mimetype": "text/x-python",
      "name": "python",
      "nbconvert_exporter": "python",
      "pygments_lexer": "ipython3",
      "version": "3.9.1"
    }
  },
  "nbformat": 4,
  "nbformat_minor": 0
}
