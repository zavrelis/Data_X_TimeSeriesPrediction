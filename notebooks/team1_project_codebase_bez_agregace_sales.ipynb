{
  "cells": [
    {
      "cell_type": "markdown",
      "metadata": {
        "id": "gPMzaRvPYi-B"
      },
      "source": [
        "**Importing libraries and loading the data**"
      ]
    },
    {
      "cell_type": "code",
      "execution_count": 2,
      "metadata": {
        "id": "S_7oo79WogGe"
      },
      "outputs": [],
      "source": [
        "import pandas as pd\n",
        "import numpy as np\n",
        "import datetime as dt\n",
        "import seaborn  as sns\n",
        "import matplotlib.pyplot as plt\n",
        "import time\n",
        "from sklearn.linear_model import LinearRegression, Lasso, Ridge \n",
        "from sklearn.ensemble import RandomForestRegressor\n",
        "from sklearn.metrics import mean_squared_error\n",
        "from sklearn.model_selection import train_test_split\n",
        "from sklearn.preprocessing import StandardScaler\n",
        "import math\n",
        "import xgboost\n",
        "import pickle"
      ]
    },
    {
      "cell_type": "code",
      "execution_count": 58,
      "metadata": {
        "colab": {
          "base_uri": "https://localhost:8080/"
        },
        "id": "kU-s6rZAqRal",
        "outputId": "7cb83734-fe24-442d-f0e9-b2b2c54a002f"
      },
      "outputs": [],
      "source": [
        "#from google.colab import drive\n",
        "#drive.mount('/content/drive')"
      ]
    },
    {
      "cell_type": "code",
      "execution_count": 59,
      "metadata": {
        "id": "hybxpH58VGEA"
      },
      "outputs": [],
      "source": [
        "#loading all needed datasets from kaggle\n",
        "calendar = pd.read_csv('../data/raw/calendar.csv')\n",
        "sell_prices = pd.read_csv('../data/raw/sell_prices.csv')\n",
        "sales_validation = pd.read_csv('../data/raw/sales_train_validation.csv')"
      ]
    },
    {
      "cell_type": "markdown",
      "metadata": {
        "id": "nhNtzx2dYyqI"
      },
      "source": [
        "## Exploratory Data Analysis"
      ]
    },
    {
      "cell_type": "code",
      "execution_count": 60,
      "metadata": {
        "colab": {
          "base_uri": "https://localhost:8080/"
        },
        "id": "7tT_I5lBcVpv",
        "outputId": "6ffb5649-5ac9-47f6-a619-c735ca034b71"
      },
      "outputs": [
        {
          "data": {
            "text/plain": [
              "<bound method DataFrame.info of                                   id        item_id    dept_id   cat_id  \\\n",
              "0      HOBBIES_1_001_CA_1_validation  HOBBIES_1_001  HOBBIES_1  HOBBIES   \n",
              "1      HOBBIES_1_002_CA_1_validation  HOBBIES_1_002  HOBBIES_1  HOBBIES   \n",
              "2      HOBBIES_1_003_CA_1_validation  HOBBIES_1_003  HOBBIES_1  HOBBIES   \n",
              "3      HOBBIES_1_004_CA_1_validation  HOBBIES_1_004  HOBBIES_1  HOBBIES   \n",
              "4      HOBBIES_1_005_CA_1_validation  HOBBIES_1_005  HOBBIES_1  HOBBIES   \n",
              "...                              ...            ...        ...      ...   \n",
              "30485    FOODS_3_823_WI_3_validation    FOODS_3_823    FOODS_3    FOODS   \n",
              "30486    FOODS_3_824_WI_3_validation    FOODS_3_824    FOODS_3    FOODS   \n",
              "30487    FOODS_3_825_WI_3_validation    FOODS_3_825    FOODS_3    FOODS   \n",
              "30488    FOODS_3_826_WI_3_validation    FOODS_3_826    FOODS_3    FOODS   \n",
              "30489    FOODS_3_827_WI_3_validation    FOODS_3_827    FOODS_3    FOODS   \n",
              "\n",
              "      store_id state_id  d_1  d_2  d_3  d_4  ...  d_1904  d_1905  d_1906  \\\n",
              "0         CA_1       CA    0    0    0    0  ...       1       3       0   \n",
              "1         CA_1       CA    0    0    0    0  ...       0       0       0   \n",
              "2         CA_1       CA    0    0    0    0  ...       2       1       2   \n",
              "3         CA_1       CA    0    0    0    0  ...       1       0       5   \n",
              "4         CA_1       CA    0    0    0    0  ...       2       1       1   \n",
              "...        ...      ...  ...  ...  ...  ...  ...     ...     ...     ...   \n",
              "30485     WI_3       WI    0    0    2    2  ...       2       0       0   \n",
              "30486     WI_3       WI    0    0    0    0  ...       0       0       0   \n",
              "30487     WI_3       WI    0    6    0    2  ...       2       1       0   \n",
              "30488     WI_3       WI    0    0    0    0  ...       0       0       1   \n",
              "30489     WI_3       WI    0    0    0    0  ...       0       0       0   \n",
              "\n",
              "       d_1907  d_1908  d_1909  d_1910  d_1911  d_1912  d_1913  \n",
              "0           1       1       1       3       0       1       1  \n",
              "1           0       0       1       0       0       0       0  \n",
              "2           1       1       1       0       1       1       1  \n",
              "3           4       1       0       1       3       7       2  \n",
              "4           0       1       1       2       2       2       4  \n",
              "...       ...     ...     ...     ...     ...     ...     ...  \n",
              "30485       0       0       0       1       0       0       1  \n",
              "30486       0       0       0       0       0       1       0  \n",
              "30487       2       0       1       0       0       1       0  \n",
              "30488       0       0       1       0       3       1       3  \n",
              "30489       0       0       0       0       0       0       0  \n",
              "\n",
              "[30490 rows x 1919 columns]>"
            ]
          },
          "execution_count": 60,
          "metadata": {},
          "output_type": "execute_result"
        }
      ],
      "source": [
        "sales_validation.info"
      ]
    },
    {
      "cell_type": "code",
      "execution_count": 61,
      "metadata": {
        "colab": {
          "base_uri": "https://localhost:8080/"
        },
        "id": "JOcN7VPhgYgQ",
        "outputId": "efa33c73-9ce6-48ba-daca-8f486b89b4c4"
      },
      "outputs": [
        {
          "name": "stdout",
          "output_type": "stream",
          "text": [
            "Number of \n",
            " unique states: 3 \n",
            " unique stores: 10 \n",
            " unique departments: 7 \n",
            " unique item categories: 3 \n",
            " unique items: 3049\n"
          ]
        }
      ],
      "source": [
        "unique_items = len(sales_validation['item_id'].unique())\n",
        "unique_item_categories = len(sales_validation['cat_id'].unique())\n",
        "unique_departments = len(sales_validation['dept_id'].unique())\n",
        "unique_stores = len(sales_validation['store_id'].unique())\n",
        "unique_states = len(sales_validation['state_id'].unique())\n",
        "\n",
        "print(f'Number of \\n unique states: {unique_states} \\n unique stores: {unique_stores} \\n unique departments: {unique_departments} \\n unique item categories: {unique_item_categories} \\n unique items: {unique_items}')"
      ]
    },
    {
      "cell_type": "code",
      "execution_count": 62,
      "metadata": {
        "colab": {
          "base_uri": "https://localhost:8080/"
        },
        "id": "gQsuhDUAkhOv",
        "outputId": "131ee67e-bfa5-4cac-9514-19d79a3c41d8"
      },
      "outputs": [
        {
          "name": "stdout",
          "output_type": "stream",
          "text": [
            "['HOBBIES' 'HOUSEHOLD' 'FOODS']\n",
            "['HOBBIES_1' 'HOBBIES_2' 'HOUSEHOLD_1' 'HOUSEHOLD_2' 'FOODS_1' 'FOODS_2'\n",
            " 'FOODS_3']\n",
            "['CA_1' 'CA_2' 'CA_3' 'CA_4' 'TX_1' 'TX_2' 'TX_3' 'WI_1' 'WI_2' 'WI_3']\n",
            "['CA' 'TX' 'WI']\n"
          ]
        }
      ],
      "source": [
        "for col in [sales_validation['cat_id'],sales_validation['dept_id'],sales_validation['store_id'],sales_validation['state_id']]:\n",
        "  print (col.unique())"
      ]
    },
    {
      "cell_type": "code",
      "execution_count": 63,
      "metadata": {
        "colab": {
          "base_uri": "https://localhost:8080/"
        },
        "id": "k21p_4Se8ANn",
        "outputId": "7d4e5006-ca92-49fb-a772-b1e08168990a"
      },
      "outputs": [
        {
          "name": "stdout",
          "output_type": "stream",
          "text": [
            "Data types in sales_validation are: \n",
            " int64     1913\n",
            "object       6\n",
            "dtype: int64\n"
          ]
        }
      ],
      "source": [
        "# Inspection of data types\n",
        "print(\"Data types in sales_validation are: \\n\", sales_validation.dtypes.value_counts())"
      ]
    },
    {
      "cell_type": "code",
      "execution_count": 64,
      "metadata": {
        "colab": {
          "base_uri": "https://localhost:8080/"
        },
        "id": "mGMbQZA3Uzrc",
        "outputId": "e5b3dba6-ed3c-454f-ac00-568cf61aead9"
      },
      "outputs": [
        {
          "name": "stdout",
          "output_type": "stream",
          "text": [
            "The number of duplicated rows is 0.\n"
          ]
        }
      ],
      "source": [
        "duplicated_rows_count = sales_validation.duplicated().sum()\n",
        "print(f'The number of duplicated rows is {duplicated_rows_count}.')"
      ]
    },
    {
      "cell_type": "code",
      "execution_count": 65,
      "metadata": {
        "colab": {
          "base_uri": "https://localhost:8080/"
        },
        "id": "hUVNOsuBohpA",
        "outputId": "b56be4ac-e1c5-4858-eaad-eb5428c595c1"
      },
      "outputs": [
        {
          "data": {
            "text/plain": [
              "0        0\n",
              "20322    0\n",
              "20334    0\n",
              "20333    0\n",
              "20332    0\n",
              "        ..\n",
              "10159    0\n",
              "10158    0\n",
              "10157    0\n",
              "10156    0\n",
              "30489    0\n",
              "Length: 30490, dtype: int64"
            ]
          },
          "execution_count": 65,
          "metadata": {},
          "output_type": "execute_result"
        }
      ],
      "source": [
        "# Checking for null values column-wise\n",
        "sales_validation.isna().sum(axis=1).sort_values(ascending=False)"
      ]
    },
    {
      "cell_type": "code",
      "execution_count": 66,
      "metadata": {
        "colab": {
          "base_uri": "https://localhost:8080/"
        },
        "id": "XZIXLMQTryq0",
        "outputId": "cac2a880-2722-43df-b569-b2a15a2e1720"
      },
      "outputs": [
        {
          "data": {
            "text/plain": [
              "id        0\n",
              "d_1270    0\n",
              "d_1282    0\n",
              "d_1281    0\n",
              "d_1280    0\n",
              "         ..\n",
              "d_630     0\n",
              "d_629     0\n",
              "d_628     0\n",
              "d_627     0\n",
              "d_1913    0\n",
              "Length: 1919, dtype: int64"
            ]
          },
          "execution_count": 66,
          "metadata": {},
          "output_type": "execute_result"
        }
      ],
      "source": [
        "# Checking for null values row-wise\n",
        "sales_validation.isna().sum().sort_values(ascending=False)"
      ]
    },
    {
      "cell_type": "code",
      "execution_count": 67,
      "metadata": {
        "colab": {
          "base_uri": "https://localhost:8080/"
        },
        "id": "darh13TVJdMl",
        "outputId": "eb6b41d7-4f35-40b7-d8da-2f21d5b6961e"
      },
      "outputs": [
        {
          "data": {
            "text/plain": [
              "<bound method DataFrame.info of             date  wm_yr_wk    weekday  wday  month  year       d  \\\n",
              "0     2011-01-29     11101   Saturday     1      1  2011     d_1   \n",
              "1     2011-01-30     11101     Sunday     2      1  2011     d_2   \n",
              "2     2011-01-31     11101     Monday     3      1  2011     d_3   \n",
              "3     2011-02-01     11101    Tuesday     4      2  2011     d_4   \n",
              "4     2011-02-02     11101  Wednesday     5      2  2011     d_5   \n",
              "...          ...       ...        ...   ...    ...   ...     ...   \n",
              "1964  2016-06-15     11620  Wednesday     5      6  2016  d_1965   \n",
              "1965  2016-06-16     11620   Thursday     6      6  2016  d_1966   \n",
              "1966  2016-06-17     11620     Friday     7      6  2016  d_1967   \n",
              "1967  2016-06-18     11621   Saturday     1      6  2016  d_1968   \n",
              "1968  2016-06-19     11621     Sunday     2      6  2016  d_1969   \n",
              "\n",
              "      event_name_1 event_type_1  event_name_2 event_type_2  snap_CA  snap_TX  \\\n",
              "0              NaN          NaN           NaN          NaN        0        0   \n",
              "1              NaN          NaN           NaN          NaN        0        0   \n",
              "2              NaN          NaN           NaN          NaN        0        0   \n",
              "3              NaN          NaN           NaN          NaN        1        1   \n",
              "4              NaN          NaN           NaN          NaN        1        0   \n",
              "...            ...          ...           ...          ...      ...      ...   \n",
              "1964           NaN          NaN           NaN          NaN        0        1   \n",
              "1965           NaN          NaN           NaN          NaN        0        0   \n",
              "1966           NaN          NaN           NaN          NaN        0        0   \n",
              "1967           NaN          NaN           NaN          NaN        0        0   \n",
              "1968  NBAFinalsEnd     Sporting  Father's day     Cultural        0        0   \n",
              "\n",
              "      snap_WI  \n",
              "0           0  \n",
              "1           0  \n",
              "2           0  \n",
              "3           0  \n",
              "4           1  \n",
              "...       ...  \n",
              "1964        1  \n",
              "1965        0  \n",
              "1966        0  \n",
              "1967        0  \n",
              "1968        0  \n",
              "\n",
              "[1969 rows x 14 columns]>"
            ]
          },
          "execution_count": 67,
          "metadata": {},
          "output_type": "execute_result"
        }
      ],
      "source": [
        "calendar.info"
      ]
    },
    {
      "cell_type": "code",
      "execution_count": 68,
      "metadata": {
        "colab": {
          "base_uri": "https://localhost:8080/"
        },
        "id": "sObXrpa9R4cH",
        "outputId": "5ad27bf2-a789-45c5-df48-01ef18ddf099"
      },
      "outputs": [
        {
          "name": "stdout",
          "output_type": "stream",
          "text": [
            "Number of \n",
            " unique years: 6 \n",
            " unique events: 36 \n",
            " unique types of events: 5\n"
          ]
        }
      ],
      "source": [
        "unique_year = len(calendar['year'].unique())\n",
        "unique_events = len(calendar['event_name_1'].unique()) + len(calendar['event_name_2'].unique())\n",
        "unique_states = len(calendar['event_type_1'].unique())\n",
        "print(f'Number of \\n unique years: {unique_year} \\n unique events: {unique_events} \\n unique types of events: {unique_states}')"
      ]
    },
    {
      "cell_type": "code",
      "execution_count": 69,
      "metadata": {
        "colab": {
          "base_uri": "https://localhost:8080/"
        },
        "id": "MKFPVXx2Teo2",
        "outputId": "1551d74e-daee-4212-a003-c01a9bc7d79b"
      },
      "outputs": [
        {
          "name": "stdout",
          "output_type": "stream",
          "text": [
            "[2011 2012 2013 2014 2015 2016]\n",
            "[nan 'SuperBowl' 'ValentinesDay' 'PresidentsDay' 'LentStart' 'LentWeek2'\n",
            " 'StPatricksDay' 'Purim End' 'OrthodoxEaster' 'Pesach End' 'Cinco De Mayo'\n",
            " \"Mother's day\" 'MemorialDay' 'NBAFinalsStart' 'NBAFinalsEnd'\n",
            " \"Father's day\" 'IndependenceDay' 'Ramadan starts' 'Eid al-Fitr'\n",
            " 'LaborDay' 'ColumbusDay' 'Halloween' 'EidAlAdha' 'VeteransDay'\n",
            " 'Thanksgiving' 'Christmas' 'Chanukah End' 'NewYear' 'OrthodoxChristmas'\n",
            " 'MartinLutherKingDay' 'Easter']\n",
            "[nan 'Sporting' 'Cultural' 'National' 'Religious']\n",
            "[nan 'Easter' 'Cinco De Mayo' 'OrthodoxEaster' \"Father's day\"]\n"
          ]
        }
      ],
      "source": [
        "for col in [calendar['year'],calendar['event_name_1'],calendar['event_type_1'],calendar['event_name_2']]:\n",
        "  print (col.unique())"
      ]
    },
    {
      "cell_type": "code",
      "execution_count": 70,
      "metadata": {
        "colab": {
          "base_uri": "https://localhost:8080/"
        },
        "id": "0fZYOHgcT3Jj",
        "outputId": "408c6184-b3d9-4f69-db5b-ffee25f8dfb8"
      },
      "outputs": [
        {
          "name": "stdout",
          "output_type": "stream",
          "text": [
            "Data types in calendar are: \n",
            " int64     7\n",
            "object    7\n",
            "dtype: int64\n"
          ]
        }
      ],
      "source": [
        "# Inspection of data types\n",
        "print(\"Data types in calendar are: \\n\", calendar.dtypes.value_counts())"
      ]
    },
    {
      "cell_type": "code",
      "execution_count": 71,
      "metadata": {
        "colab": {
          "base_uri": "https://localhost:8080/"
        },
        "id": "tc_MY_0YUCfp",
        "outputId": "526d5dd9-ee6d-4ce7-8919-966d998381d3"
      },
      "outputs": [
        {
          "data": {
            "text/plain": [
              "date            object\n",
              "wm_yr_wk         int64\n",
              "weekday         object\n",
              "wday             int64\n",
              "month            int64\n",
              "year             int64\n",
              "d               object\n",
              "event_name_1    object\n",
              "event_type_1    object\n",
              "event_name_2    object\n",
              "event_type_2    object\n",
              "snap_CA          int64\n",
              "snap_TX          int64\n",
              "snap_WI          int64\n",
              "dtype: object"
            ]
          },
          "execution_count": 71,
          "metadata": {},
          "output_type": "execute_result"
        }
      ],
      "source": [
        "calendar.dtypes.head(14)"
      ]
    },
    {
      "cell_type": "code",
      "execution_count": 72,
      "metadata": {
        "colab": {
          "base_uri": "https://localhost:8080/"
        },
        "id": "HKiH7pE_URr6",
        "outputId": "5e5db1ab-bb04-4b09-e9ef-e21ab1a6639a"
      },
      "outputs": [
        {
          "name": "stdout",
          "output_type": "stream",
          "text": [
            "The number of duplicated rows is 0.\n"
          ]
        }
      ],
      "source": [
        "duplicated_rows_count = calendar.duplicated().sum()\n",
        "print(f'The number of duplicated rows is {duplicated_rows_count}.')"
      ]
    },
    {
      "cell_type": "code",
      "execution_count": 73,
      "metadata": {
        "colab": {
          "base_uri": "https://localhost:8080/"
        },
        "id": "mK6Ij8D5UT3m",
        "outputId": "b0926e1f-e0fd-4f4a-b5ed-d5acc49e610f"
      },
      "outputs": [
        {
          "data": {
            "text/plain": [
              "0       4\n",
              "1281    4\n",
              "1293    4\n",
              "1292    4\n",
              "1291    4\n",
              "       ..\n",
              "85      0\n",
              "1233    0\n",
              "827     0\n",
              "1177    0\n",
              "1968    0\n",
              "Length: 1969, dtype: int64"
            ]
          },
          "execution_count": 73,
          "metadata": {},
          "output_type": "execute_result"
        }
      ],
      "source": [
        "#Checking for null values column-wise\n",
        "calendar.isna().sum(axis=1).sort_values(ascending=False)"
      ]
    },
    {
      "cell_type": "code",
      "execution_count": 74,
      "metadata": {
        "colab": {
          "base_uri": "https://localhost:8080/"
        },
        "id": "X9sv3K-_UjpE",
        "outputId": "73939fb2-f50c-48fb-82a2-d31983b0fe71"
      },
      "outputs": [
        {
          "data": {
            "text/plain": [
              "event_name_2    1964\n",
              "event_type_2    1964\n",
              "event_name_1    1807\n",
              "event_type_1    1807\n",
              "date               0\n",
              "wm_yr_wk           0\n",
              "weekday            0\n",
              "wday               0\n",
              "month              0\n",
              "year               0\n",
              "d                  0\n",
              "snap_CA            0\n",
              "snap_TX            0\n",
              "snap_WI            0\n",
              "dtype: int64"
            ]
          },
          "execution_count": 74,
          "metadata": {},
          "output_type": "execute_result"
        }
      ],
      "source": [
        "# Checking for null values row-wise\n",
        "calendar.isna().sum().sort_values(ascending=False)"
      ]
    },
    {
      "cell_type": "code",
      "execution_count": 75,
      "metadata": {
        "colab": {
          "base_uri": "https://localhost:8080/"
        },
        "id": "YbGr0xfQljCO",
        "outputId": "ff99281b-675d-4fb9-92ed-ecc776991857"
      },
      "outputs": [
        {
          "data": {
            "text/plain": [
              "<bound method DataFrame.info of         store_id        item_id  wm_yr_wk  sell_price\n",
              "0           CA_1  HOBBIES_1_001     11325        9.58\n",
              "1           CA_1  HOBBIES_1_001     11326        9.58\n",
              "2           CA_1  HOBBIES_1_001     11327        8.26\n",
              "3           CA_1  HOBBIES_1_001     11328        8.26\n",
              "4           CA_1  HOBBIES_1_001     11329        8.26\n",
              "...          ...            ...       ...         ...\n",
              "6841116     WI_3    FOODS_3_827     11617        1.00\n",
              "6841117     WI_3    FOODS_3_827     11618        1.00\n",
              "6841118     WI_3    FOODS_3_827     11619        1.00\n",
              "6841119     WI_3    FOODS_3_827     11620        1.00\n",
              "6841120     WI_3    FOODS_3_827     11621        1.00\n",
              "\n",
              "[6841121 rows x 4 columns]>"
            ]
          },
          "execution_count": 75,
          "metadata": {},
          "output_type": "execute_result"
        }
      ],
      "source": [
        "sell_prices.info"
      ]
    },
    {
      "cell_type": "code",
      "execution_count": 76,
      "metadata": {
        "colab": {
          "base_uri": "https://localhost:8080/"
        },
        "id": "1iogIgiamThO",
        "outputId": "34730505-e3d8-45ac-b645-80057b12bba1"
      },
      "outputs": [
        {
          "name": "stdout",
          "output_type": "stream",
          "text": [
            "Number of \n",
            " unique stores: 10 \n",
            " unique item ids: 3049 \n",
            " unique id_weeks: 282 \n",
            " unique sell_prices 1048\n"
          ]
        }
      ],
      "source": [
        "unique_store_sell = len(sell_prices['store_id'].unique())\n",
        "unique_item_sell = len(sell_prices['item_id'].unique())\n",
        "unique_id_week = len(sell_prices['wm_yr_wk'].unique())\n",
        "unique_sell_price = len(sell_prices['sell_price'].unique())\n",
        "print(f'Number of \\n unique stores: {unique_store_sell} \\n unique item ids: {unique_item_sell} \\n unique id_weeks: {unique_id_week} \\n unique sell_prices {unique_sell_price}')"
      ]
    },
    {
      "cell_type": "code",
      "execution_count": 77,
      "metadata": {
        "colab": {
          "base_uri": "https://localhost:8080/"
        },
        "id": "3cFqXYyFmT1G",
        "outputId": "5d769ff5-ecc3-4f91-e668-e1e87ce67632"
      },
      "outputs": [
        {
          "name": "stdout",
          "output_type": "stream",
          "text": [
            "['CA_1' 'CA_2' 'CA_3' 'CA_4' 'TX_1' 'TX_2' 'TX_3' 'WI_1' 'WI_2' 'WI_3']\n",
            "['HOBBIES_1_001' 'HOBBIES_1_002' 'HOBBIES_1_003' ... 'FOODS_3_825'\n",
            " 'FOODS_3_826' 'FOODS_3_827']\n",
            "[11325 11326 11327 11328 11329 11330 11331 11332 11333 11334 11335 11336\n",
            " 11337 11338 11339 11340 11341 11342 11343 11344 11345 11346 11347 11348\n",
            " 11349 11350 11351 11352 11353 11401 11402 11403 11404 11405 11406 11407\n",
            " 11408 11409 11410 11411 11412 11413 11414 11415 11416 11417 11418 11419\n",
            " 11420 11421 11422 11423 11424 11425 11426 11427 11428 11429 11430 11431\n",
            " 11432 11433 11434 11435 11436 11437 11438 11439 11440 11441 11442 11443\n",
            " 11444 11445 11446 11447 11448 11449 11450 11451 11452 11501 11502 11503\n",
            " 11504 11505 11506 11507 11508 11509 11510 11511 11512 11513 11514 11515\n",
            " 11516 11517 11518 11519 11520 11521 11522 11523 11524 11525 11526 11527\n",
            " 11528 11529 11530 11531 11532 11533 11534 11535 11536 11537 11538 11539\n",
            " 11540 11541 11542 11543 11544 11545 11546 11547 11548 11549 11550 11551\n",
            " 11552 11601 11602 11603 11604 11605 11606 11607 11608 11609 11610 11611\n",
            " 11612 11613 11614 11615 11616 11617 11618 11619 11620 11621 11121 11122\n",
            " 11123 11124 11125 11126 11127 11128 11129 11130 11131 11132 11133 11134\n",
            " 11135 11136 11137 11138 11139 11140 11141 11142 11143 11144 11145 11146\n",
            " 11147 11148 11149 11150 11151 11152 11201 11202 11203 11204 11205 11206\n",
            " 11207 11208 11209 11210 11211 11212 11213 11214 11215 11216 11217 11218\n",
            " 11219 11220 11221 11222 11223 11224 11225 11226 11227 11228 11229 11230\n",
            " 11231 11232 11233 11234 11235 11236 11237 11238 11239 11240 11241 11242\n",
            " 11243 11244 11245 11246 11247 11248 11249 11250 11251 11252 11301 11302\n",
            " 11303 11304 11305 11306 11307 11308 11309 11310 11311 11312 11313 11314\n",
            " 11315 11316 11317 11318 11319 11320 11321 11322 11323 11324 11106 11107\n",
            " 11108 11109 11110 11111 11112 11113 11114 11115 11116 11117 11118 11119\n",
            " 11120 11101 11102 11103 11104 11105]\n",
            "[  9.58   8.26   8.38 ... 107.32   8.07  18.47]\n"
          ]
        }
      ],
      "source": [
        "for col in [sell_prices['store_id'],sell_prices['item_id'],sell_prices['wm_yr_wk'],sell_prices['sell_price']]:\n",
        "  print (col.unique())"
      ]
    },
    {
      "cell_type": "code",
      "execution_count": 78,
      "metadata": {
        "colab": {
          "base_uri": "https://localhost:8080/"
        },
        "id": "U70NK0V_mULc",
        "outputId": "5f83b042-7870-4575-b177-e1d6d92e26e7"
      },
      "outputs": [
        {
          "name": "stdout",
          "output_type": "stream",
          "text": [
            "Data types in sell_prices are: \n",
            " object     2\n",
            "float64    1\n",
            "int64      1\n",
            "dtype: int64\n"
          ]
        }
      ],
      "source": [
        "# Inspection of data types\n",
        "print(\"Data types in sell_prices are: \\n\", sell_prices.dtypes.value_counts())"
      ]
    },
    {
      "cell_type": "code",
      "execution_count": 79,
      "metadata": {
        "colab": {
          "base_uri": "https://localhost:8080/"
        },
        "id": "_jyem4D_mUcx",
        "outputId": "a7aa8138-8297-4348-cdda-6f4c55836f37"
      },
      "outputs": [
        {
          "data": {
            "text/plain": [
              "store_id       object\n",
              "item_id        object\n",
              "wm_yr_wk        int64\n",
              "sell_price    float64\n",
              "dtype: object"
            ]
          },
          "execution_count": 79,
          "metadata": {},
          "output_type": "execute_result"
        }
      ],
      "source": [
        "sell_prices.dtypes.head(14)"
      ]
    },
    {
      "cell_type": "code",
      "execution_count": 80,
      "metadata": {
        "colab": {
          "base_uri": "https://localhost:8080/"
        },
        "id": "OlqohLeYmUth",
        "outputId": "c79b6b86-736e-4db3-cdeb-1a9056a43c2c"
      },
      "outputs": [
        {
          "name": "stdout",
          "output_type": "stream",
          "text": [
            "The number of duplicated rows is 0.\n"
          ]
        }
      ],
      "source": [
        "duplicated_rows_count = sell_prices.duplicated().sum()\n",
        "print(f'The number of duplicated rows is {duplicated_rows_count}.')"
      ]
    },
    {
      "cell_type": "code",
      "execution_count": 81,
      "metadata": {
        "colab": {
          "base_uri": "https://localhost:8080/"
        },
        "id": "C0QbJNPGwT56",
        "outputId": "dc3f9f05-2a1d-4104-e5e2-b895c161ae0f"
      },
      "outputs": [
        {
          "data": {
            "text/plain": [
              "0          0\n",
              "4560678    0\n",
              "4560754    0\n",
              "4560753    0\n",
              "4560752    0\n",
              "          ..\n",
              "2280371    0\n",
              "2280370    0\n",
              "2280369    0\n",
              "2280368    0\n",
              "6841120    0\n",
              "Length: 6841121, dtype: int64"
            ]
          },
          "execution_count": 81,
          "metadata": {},
          "output_type": "execute_result"
        }
      ],
      "source": [
        "#Checking for null values column-wise\n",
        "sell_prices.isna().sum(axis=1).sort_values(ascending=False)"
      ]
    },
    {
      "cell_type": "code",
      "execution_count": 82,
      "metadata": {
        "colab": {
          "base_uri": "https://localhost:8080/"
        },
        "id": "RjRq7y5ZwUOE",
        "outputId": "a917d2ac-00ef-4b56-c139-e29eb8bbe1e4"
      },
      "outputs": [
        {
          "data": {
            "text/plain": [
              "store_id      0\n",
              "item_id       0\n",
              "wm_yr_wk      0\n",
              "sell_price    0\n",
              "dtype: int64"
            ]
          },
          "execution_count": 82,
          "metadata": {},
          "output_type": "execute_result"
        }
      ],
      "source": [
        "# Checking for null values row-wise\n",
        "sell_prices.isna().sum().sort_values(ascending=False)"
      ]
    },
    {
      "cell_type": "code",
      "execution_count": 83,
      "metadata": {
        "colab": {
          "base_uri": "https://localhost:8080/"
        },
        "id": "I4rciWNpedp2",
        "outputId": "a8b8a792-7805-408c-a572-b18aa18cb439"
      },
      "outputs": [
        {
          "name": "stdout",
          "output_type": "stream",
          "text": [
            "   Unnamed: 0        item_id    dept_id\n",
            "0          48  HOBBIES_1_049  HOBBIES_1\n",
            "1         381  HOBBIES_1_390  HOBBIES_1\n",
            "2         150  HOBBIES_1_155  HOBBIES_1\n",
            "3         287  HOBBIES_1_296  HOBBIES_1\n",
            "4         415  HOBBIES_1_424  HOBBIES_1\n"
          ]
        }
      ],
      "source": [
        "item = pd.read_csv('../data/raw/item_id_sample.csv') #asi bude treba nahravat opakovane\n",
        "print(item.head())"
      ]
    },
    {
      "cell_type": "code",
      "execution_count": 84,
      "metadata": {
        "colab": {
          "base_uri": "https://localhost:8080/"
        },
        "id": "IUq3jNGJTCaf",
        "outputId": "33778b86-f958-43e9-d8b1-b987afd34269"
      },
      "outputs": [
        {
          "name": "stdout",
          "output_type": "stream",
          "text": [
            "Unique values in Unnamed: 0:\n",
            "[  48  381  150  287  415   56  195  187  154  397  418  443  522  546\n",
            "  444  468  551  426  491  515  704  786 1082 1038  771  662  887  818\n",
            "  865  815 1241 1529 1562 1484 1229 1356 1521 1327 1155 1295 1627 1714\n",
            " 1676 1777 1782 1681 1783 1621 1745 1659 2149 2192 2002 2043 2145 1932\n",
            " 2153 2212 2082 1944 2403 2749 2883 2951 2979 2538 2629 2511 2442 2639]\n",
            "Unique values in item_id:\n",
            "['HOBBIES_1_049' 'HOBBIES_1_390' 'HOBBIES_1_155' 'HOBBIES_1_296'\n",
            " 'HOBBIES_1_424' 'HOBBIES_1_057' 'HOBBIES_1_202' 'HOBBIES_1_193'\n",
            " 'HOBBIES_1_159' 'HOBBIES_1_406' 'HOBBIES_2_003' 'HOBBIES_2_028'\n",
            " 'HOBBIES_2_107' 'HOBBIES_2_131' 'HOBBIES_2_029' 'HOBBIES_2_053'\n",
            " 'HOBBIES_2_136' 'HOBBIES_2_011' 'HOBBIES_2_076' 'HOBBIES_2_100'\n",
            " 'HOUSEHOLD_1_144' 'HOUSEHOLD_1_226' 'HOUSEHOLD_1_527' 'HOUSEHOLD_1_483'\n",
            " 'HOUSEHOLD_1_211' 'HOUSEHOLD_1_101' 'HOUSEHOLD_1_329' 'HOUSEHOLD_1_259'\n",
            " 'HOUSEHOLD_1_307' 'HOUSEHOLD_1_256' 'HOUSEHOLD_2_145' 'HOUSEHOLD_2_434'\n",
            " 'HOUSEHOLD_2_467' 'HOUSEHOLD_2_389' 'HOUSEHOLD_2_133' 'HOUSEHOLD_2_261'\n",
            " 'HOUSEHOLD_2_426' 'HOUSEHOLD_2_232' 'HOUSEHOLD_2_059' 'HOUSEHOLD_2_200'\n",
            " 'FOODS_1_017' 'FOODS_1_105' 'FOODS_1_066' 'FOODS_1_169' 'FOODS_1_174'\n",
            " 'FOODS_1_071' 'FOODS_1_175' 'FOODS_1_011' 'FOODS_1_136' 'FOODS_1_049'\n",
            " 'FOODS_2_323' 'FOODS_2_366' 'FOODS_2_176' 'FOODS_2_217' 'FOODS_2_319'\n",
            " 'FOODS_2_106' 'FOODS_2_327' 'FOODS_2_386' 'FOODS_2_256' 'FOODS_2_118'\n",
            " 'FOODS_3_179' 'FOODS_3_525' 'FOODS_3_659' 'FOODS_3_729' 'FOODS_3_758'\n",
            " 'FOODS_3_314' 'FOODS_3_405' 'FOODS_3_287' 'FOODS_3_218' 'FOODS_3_415']\n",
            "Unique values in dept_id:\n",
            "['HOBBIES_1' 'HOBBIES_2' 'HOUSEHOLD_1' 'HOUSEHOLD_2' 'FOODS_1' 'FOODS_2'\n",
            " 'FOODS_3']\n"
          ]
        }
      ],
      "source": [
        "# prints all unique values in all columns\n",
        "for column in item.columns:\n",
        "    unique_vals = item[column].unique()\n",
        "    print(f\"Unique values in {column}:\")\n",
        "    print(unique_vals)\n",
        "\n",
        "    # item dataset is probably some sort of list of item ids which we should include in our analysis"
      ]
    },
    {
      "cell_type": "code",
      "execution_count": 85,
      "metadata": {
        "colab": {
          "base_uri": "https://localhost:8080/"
        },
        "id": "GfylWPr6dQ36",
        "outputId": "3e723701-927b-4a21-b1cb-79bbe2d4d686"
      },
      "outputs": [
        {
          "name": "stdout",
          "output_type": "stream",
          "text": [
            "Data types in item_ids are: \n",
            " Unnamed: 0     int64\n",
            "item_id       object\n",
            "dept_id       object\n",
            "dtype: object\n"
          ]
        }
      ],
      "source": [
        "print(\"Data types in item_ids are: \\n\", item.dtypes)"
      ]
    },
    {
      "cell_type": "code",
      "execution_count": 86,
      "metadata": {
        "colab": {
          "base_uri": "https://localhost:8080/"
        },
        "id": "bVcVtvhodt-l",
        "outputId": "6c202817-f211-4004-ac8d-38fdf672ea87"
      },
      "outputs": [
        {
          "name": "stdout",
          "output_type": "stream",
          "text": [
            "Unique item_ids in 'sales_validation' that are NOT in 'item': ['HOBBIES_1_001' 'HOBBIES_1_002' 'HOBBIES_1_003' ... 'FOODS_3_825'\n",
            " 'FOODS_3_826' 'FOODS_3_827']\n",
            "Unique dept_ids in 'sales_validation' that are NOT in 'item': []\n"
          ]
        }
      ],
      "source": [
        "# lets find out what combination of item id and dept id are missing from item!\n",
        "unique_item_ids_not_in_item = sales_validation.loc[~sales_validation['item_id'].isin(item['item_id']), 'item_id'].unique()\n",
        "unique_dept_ids_not_in_item = sales_validation.loc[~sales_validation['dept_id'].isin(item['dept_id']), 'dept_id'].unique()\n",
        "print(\"Unique item_ids in 'sales_validation' that are NOT in 'item':\", unique_item_ids_not_in_item)\n",
        "print(\"Unique dept_ids in 'sales_validation' that are NOT in 'item':\", unique_dept_ids_not_in_item)\n"
      ]
    },
    {
      "cell_type": "code",
      "execution_count": 87,
      "metadata": {
        "colab": {
          "base_uri": "https://localhost:8080/"
        },
        "id": "9Td8M2xVeyy4",
        "outputId": "6c10be8d-fb3c-4c89-a141-f87cb122f7a0"
      },
      "outputs": [
        {
          "name": "stdout",
          "output_type": "stream",
          "text": [
            "Number of rows before filtering: 30490\n",
            "Number of rows after filtering: 700\n",
            "                              id        item_id    dept_id   cat_id store_id  \\\n",
            "0  HOBBIES_1_049_CA_1_validation  HOBBIES_1_049  HOBBIES_1  HOBBIES     CA_1   \n",
            "1  HOBBIES_1_049_CA_2_validation  HOBBIES_1_049  HOBBIES_1  HOBBIES     CA_2   \n",
            "2  HOBBIES_1_049_CA_3_validation  HOBBIES_1_049  HOBBIES_1  HOBBIES     CA_3   \n",
            "3  HOBBIES_1_049_CA_4_validation  HOBBIES_1_049  HOBBIES_1  HOBBIES     CA_4   \n",
            "4  HOBBIES_1_049_TX_1_validation  HOBBIES_1_049  HOBBIES_1  HOBBIES     TX_1   \n",
            "\n",
            "  state_id  d_1  d_2  d_3  d_4  ...  d_1904  d_1905  d_1906  d_1907  d_1908  \\\n",
            "0       CA    0    0    0    0  ...       0       0       1       0       1   \n",
            "1       CA    0    0    0    0  ...       0       1       0       0       0   \n",
            "2       CA    0    0    0    0  ...       0       2       0       1       2   \n",
            "3       CA    0    0    0    0  ...       2       0       0       1       0   \n",
            "4       TX    0    0    0    0  ...       0       1       1       0       0   \n",
            "\n",
            "   d_1909  d_1910  d_1911  d_1912  d_1913  \n",
            "0       1       0       1       0       0  \n",
            "1       1       0       0       1       2  \n",
            "2       1       1       0       1       4  \n",
            "3       0       0       0       0       0  \n",
            "4       0       0       0       1       0  \n",
            "\n",
            "[5 rows x 1919 columns]\n"
          ]
        }
      ],
      "source": [
        "# by using merge we can as join the two datasets together as filter out all the useless combinations\n",
        "filtered_df = pd.merge(sales_validation, item[['item_id', 'dept_id']],\n",
        "                                     how='inner',\n",
        "                                     on=['item_id', 'dept_id'])\n",
        "\n",
        "# diagnostic stuff\n",
        "print(\"Number of rows before filtering:\", len(sales_validation))\n",
        "print(\"Number of rows after filtering:\", len(filtered_df))\n",
        "\n",
        "print(filtered_df.head())\n"
      ]
    },
    {
      "cell_type": "code",
      "execution_count": 88,
      "metadata": {
        "colab": {
          "base_uri": "https://localhost:8080/"
        },
        "id": "4qRe6Ca3fl_H",
        "outputId": "1c065ff4-12dd-4b08-d071-41b92d9cf8f5"
      },
      "outputs": [
        {
          "name": "stdout",
          "output_type": "stream",
          "text": [
            "Index(['id', 'item_id', 'dept_id', 'cat_id', 'store_id', 'state_id', 'd_1',\n",
            "       'd_2', 'd_3', 'd_4',\n",
            "       ...\n",
            "       'd_1904', 'd_1905', 'd_1906', 'd_1907', 'd_1908', 'd_1909', 'd_1910',\n",
            "       'd_1911', 'd_1912', 'd_1913'],\n",
            "      dtype='object', length=1919)\n",
            "(700, 1919)\n"
          ]
        }
      ],
      "source": [
        "print(filtered_df.columns)\n",
        "print(filtered_df.shape)"
      ]
    },
    {
      "cell_type": "code",
      "execution_count": 89,
      "metadata": {
        "colab": {
          "base_uri": "https://localhost:8080/"
        },
        "id": "9uCZOjdQfRVd",
        "outputId": "6c54efb4-47d9-48d5-870c-6def7eaddbb4"
      },
      "outputs": [
        {
          "name": "stdout",
          "output_type": "stream",
          "text": [
            "         date  wm_yr_wk    weekday  wday  month  year    d event_name_1  \\\n",
            "0  2011-01-29     11101   Saturday     1      1  2011  d_1          NaN   \n",
            "1  2011-01-30     11101     Sunday     2      1  2011  d_2          NaN   \n",
            "2  2011-01-31     11101     Monday     3      1  2011  d_3          NaN   \n",
            "3  2011-02-01     11101    Tuesday     4      2  2011  d_4          NaN   \n",
            "4  2011-02-02     11101  Wednesday     5      2  2011  d_5          NaN   \n",
            "\n",
            "  event_type_1 event_name_2 event_type_2  snap_CA  snap_TX  snap_WI  \n",
            "0          NaN          NaN          NaN        0        0        0  \n",
            "1          NaN          NaN          NaN        0        0        0  \n",
            "2          NaN          NaN          NaN        0        0        0  \n",
            "3          NaN          NaN          NaN        1        1        0  \n",
            "4          NaN          NaN          NaN        1        0        1  \n",
            "1969\n"
          ]
        }
      ],
      "source": [
        "print(calendar.head())\n",
        "print(len(calendar))"
      ]
    },
    {
      "cell_type": "code",
      "execution_count": 90,
      "metadata": {
        "colab": {
          "base_uri": "https://localhost:8080/"
        },
        "id": "VHzHPsK2gySw",
        "outputId": "65c409f7-bd64-455b-9c19-c3d1f5f41d4b"
      },
      "outputs": [
        {
          "name": "stdout",
          "output_type": "stream",
          "text": [
            "                              id        item_id    dept_id   cat_id store_id  \\\n",
            "0  HOBBIES_1_049_CA_1_validation  HOBBIES_1_049  HOBBIES_1  HOBBIES     CA_1   \n",
            "1  HOBBIES_1_049_CA_2_validation  HOBBIES_1_049  HOBBIES_1  HOBBIES     CA_2   \n",
            "2  HOBBIES_1_049_CA_3_validation  HOBBIES_1_049  HOBBIES_1  HOBBIES     CA_3   \n",
            "3  HOBBIES_1_049_CA_4_validation  HOBBIES_1_049  HOBBIES_1  HOBBIES     CA_4   \n",
            "4  HOBBIES_1_049_TX_1_validation  HOBBIES_1_049  HOBBIES_1  HOBBIES     TX_1   \n",
            "\n",
            "  state_id    d  sales  \n",
            "0       CA  d_1      0  \n",
            "1       CA  d_1      0  \n",
            "2       CA  d_1      0  \n",
            "3       CA  d_1      0  \n",
            "4       TX  d_1      0  \n",
            "['d_1' 'd_2' 'd_3' ... 'd_1911' 'd_1912' 'd_1913']\n",
            "[ 0  2  5  1  3 16  4 17  7  6 10  9 12 13  8 18 11 14 19 43 23 24 20 15\n",
            " 41 22 37 21 27 36 61 30 25 34 31 28 26 35 39 84 33 29 48]\n",
            "1339100\n"
          ]
        }
      ],
      "source": [
        "melted_filtered_df = pd.melt(filtered_df,\n",
        "                             id_vars=['id', 'item_id', 'dept_id', 'cat_id', 'store_id', 'state_id'],\n",
        "                             var_name='d',\n",
        "                             value_name='sales')\n",
        "print(melted_filtered_df.head())\n",
        "print(melted_filtered_df.d.unique()) # error check\n",
        "print(melted_filtered_df.sales.unique())\n",
        "print(len(melted_filtered_df))"
      ]
    },
    {
      "cell_type": "code",
      "execution_count": 91,
      "metadata": {
        "colab": {
          "base_uri": "https://localhost:8080/"
        },
        "id": "qBE5e7gNg5RU",
        "outputId": "fd431038-db91-49bc-aba9-738db8dd5124"
      },
      "outputs": [
        {
          "name": "stdout",
          "output_type": "stream",
          "text": [
            "                              id        item_id    dept_id   cat_id store_id  \\\n",
            "0  HOBBIES_1_049_CA_1_validation  HOBBIES_1_049  HOBBIES_1  HOBBIES     CA_1   \n",
            "1  HOBBIES_1_049_CA_2_validation  HOBBIES_1_049  HOBBIES_1  HOBBIES     CA_2   \n",
            "2  HOBBIES_1_049_CA_3_validation  HOBBIES_1_049  HOBBIES_1  HOBBIES     CA_3   \n",
            "3  HOBBIES_1_049_CA_4_validation  HOBBIES_1_049  HOBBIES_1  HOBBIES     CA_4   \n",
            "4  HOBBIES_1_049_TX_1_validation  HOBBIES_1_049  HOBBIES_1  HOBBIES     TX_1   \n",
            "\n",
            "  state_id    d  sales        date  wm_yr_wk  ... wday  month  year  \\\n",
            "0       CA  d_1      0  2011-01-29     11101  ...    1      1  2011   \n",
            "1       CA  d_1      0  2011-01-29     11101  ...    1      1  2011   \n",
            "2       CA  d_1      0  2011-01-29     11101  ...    1      1  2011   \n",
            "3       CA  d_1      0  2011-01-29     11101  ...    1      1  2011   \n",
            "4       TX  d_1      0  2011-01-29     11101  ...    1      1  2011   \n",
            "\n",
            "   event_name_1 event_type_1 event_name_2 event_type_2 snap_CA  snap_TX  \\\n",
            "0           NaN          NaN          NaN          NaN       0        0   \n",
            "1           NaN          NaN          NaN          NaN       0        0   \n",
            "2           NaN          NaN          NaN          NaN       0        0   \n",
            "3           NaN          NaN          NaN          NaN       0        0   \n",
            "4           NaN          NaN          NaN          NaN       0        0   \n",
            "\n",
            "   snap_WI  \n",
            "0        0  \n",
            "1        0  \n",
            "2        0  \n",
            "3        0  \n",
            "4        0  \n",
            "\n",
            "[5 rows x 21 columns]\n",
            "Index(['id', 'item_id', 'dept_id', 'cat_id', 'store_id', 'state_id', 'd',\n",
            "       'sales', 'date', 'wm_yr_wk', 'weekday', 'wday', 'month', 'year',\n",
            "       'event_name_1', 'event_type_1', 'event_name_2', 'event_type_2',\n",
            "       'snap_CA', 'snap_TX', 'snap_WI'],\n",
            "      dtype='object')\n",
            "1339100\n"
          ]
        }
      ],
      "source": [
        "merged_df = pd.merge(melted_filtered_df, calendar, how='inner', on='d')\n",
        "print(merged_df.head())\n",
        "print(merged_df.columns) # see we have four different columns connected into events.let's make them 2!\n",
        "print(len(merged_df))"
      ]
    },
    {
      "cell_type": "code",
      "execution_count": 92,
      "metadata": {
        "colab": {
          "base_uri": "https://localhost:8080/"
        },
        "id": "xpIbe5tbiutC",
        "outputId": "5de320ff-09b1-4d81-85fb-ae72761f6d77"
      },
      "outputs": [
        {
          "name": "stdout",
          "output_type": "stream",
          "text": [
            "[nan 'Sporting' 'Cultural' 'National' 'Religious']\n",
            "[nan 'Cultural' 'Religious']\n",
            "[nan 'SuperBowl' 'ValentinesDay' 'PresidentsDay' 'LentStart' 'LentWeek2'\n",
            " 'StPatricksDay' 'Purim End' 'OrthodoxEaster' 'Pesach End' 'Cinco De Mayo'\n",
            " \"Mother's day\" 'MemorialDay' 'NBAFinalsStart' 'NBAFinalsEnd'\n",
            " \"Father's day\" 'IndependenceDay' 'Ramadan starts' 'Eid al-Fitr'\n",
            " 'LaborDay' 'ColumbusDay' 'Halloween' 'EidAlAdha' 'VeteransDay'\n",
            " 'Thanksgiving' 'Christmas' 'Chanukah End' 'NewYear' 'OrthodoxChristmas'\n",
            " 'MartinLutherKingDay' 'Easter']\n",
            "[nan 'Easter' 'Cinco De Mayo' 'OrthodoxEaster' \"Father's day\"]\n"
          ]
        }
      ],
      "source": [
        "print(merged_df.event_type_1.unique())\n",
        "print(merged_df.event_type_2.unique())\n",
        "print(merged_df.event_name_1.unique())\n",
        "print(merged_df.event_name_2.unique())"
      ]
    },
    {
      "cell_type": "code",
      "execution_count": 93,
      "metadata": {
        "id": "jG2je2t_iX4Y"
      },
      "outputs": [],
      "source": [
        "# melt (aka make them long-form rather than wide-form)\n",
        "df_event_name_melted = pd.melt(merged_df,\n",
        "                               id_vars=['id', 'item_id', 'dept_id', 'cat_id', 'store_id', 'state_id', 'd', 'sales', 'date'],\n",
        "                               value_vars=['event_name_1', 'event_name_2'],\n",
        "                               var_name='event_name_type',\n",
        "                               value_name='event_name')\n",
        "df_event_type_melted = pd.melt(merged_df,\n",
        "                               id_vars=['id', 'item_id', 'dept_id', 'cat_id', 'store_id', 'state_id', 'd', 'sales', 'date'],\n",
        "                               value_vars=['event_type_1', 'event_type_2'],\n",
        "                               var_name='event_type_type',\n",
        "                               value_name='event_type')\n",
        "df_event_name_melted.drop('event_name_type', axis=1, inplace=True)\n",
        "df_event_type_melted.drop('event_type_type', axis=1, inplace=True)\n",
        "\n",
        "sort_columns = ['id', 'item_id', 'dept_id', 'cat_id', 'store_id', 'state_id', 'd', 'sales', 'date']\n",
        "\n",
        "df_event_name_melted.sort_values(by=sort_columns, inplace=True)\n",
        "df_event_type_melted.sort_values(by=sort_columns, inplace=True)\n",
        "\n",
        "cols_event_name = ['event_name']\n",
        "cols_event_type = ['event_type']\n",
        "\n",
        "final_df = pd.concat([df_event_name_melted[sort_columns],\n",
        "                      merged_df[['wm_yr_wk', 'weekday', 'wday', 'month', 'year', 'snap_CA', 'snap_TX', 'snap_WI']],\n",
        "                      df_event_name_melted[cols_event_name],\n",
        "                      df_event_type_melted[cols_event_type]], axis=1)\n",
        "final_df.dropna(subset=['weekday', 'month'], inplace=True)\n"
      ]
    },
    {
      "cell_type": "code",
      "execution_count": 94,
      "metadata": {
        "colab": {
          "base_uri": "https://localhost:8080/"
        },
        "id": "chGLmjx4iiga",
        "outputId": "45d795f4-d5d4-4c7f-9c92-3a27e5ebe592"
      },
      "outputs": [
        {
          "name": "stdout",
          "output_type": "stream",
          "text": [
            "                              id        item_id    dept_id   cat_id store_id  \\\n",
            "0  HOBBIES_1_049_CA_1_validation  HOBBIES_1_049  HOBBIES_1  HOBBIES     CA_1   \n",
            "1  HOBBIES_1_049_CA_2_validation  HOBBIES_1_049  HOBBIES_1  HOBBIES     CA_2   \n",
            "2  HOBBIES_1_049_CA_3_validation  HOBBIES_1_049  HOBBIES_1  HOBBIES     CA_3   \n",
            "3  HOBBIES_1_049_CA_4_validation  HOBBIES_1_049  HOBBIES_1  HOBBIES     CA_4   \n",
            "4  HOBBIES_1_049_TX_1_validation  HOBBIES_1_049  HOBBIES_1  HOBBIES     TX_1   \n",
            "\n",
            "  state_id    d  sales        date  wm_yr_wk   weekday  wday  month    year  \\\n",
            "0       CA  d_1      0  2011-01-29   11101.0  Saturday   1.0    1.0  2011.0   \n",
            "1       CA  d_1      0  2011-01-29   11101.0  Saturday   1.0    1.0  2011.0   \n",
            "2       CA  d_1      0  2011-01-29   11101.0  Saturday   1.0    1.0  2011.0   \n",
            "3       CA  d_1      0  2011-01-29   11101.0  Saturday   1.0    1.0  2011.0   \n",
            "4       TX  d_1      0  2011-01-29   11101.0  Saturday   1.0    1.0  2011.0   \n",
            "\n",
            "   snap_CA  snap_TX  snap_WI event_name event_type  \n",
            "0      0.0      0.0      0.0        NaN        NaN  \n",
            "1      0.0      0.0      0.0        NaN        NaN  \n",
            "2      0.0      0.0      0.0        NaN        NaN  \n",
            "3      0.0      0.0      0.0        NaN        NaN  \n",
            "4      0.0      0.0      0.0        NaN        NaN  \n",
            "Index(['id', 'item_id', 'dept_id', 'cat_id', 'store_id', 'state_id', 'd',\n",
            "       'sales', 'date', 'wm_yr_wk', 'weekday', 'wday', 'month', 'year',\n",
            "       'snap_CA', 'snap_TX', 'snap_WI', 'event_name', 'event_type'],\n",
            "      dtype='object')\n",
            "[nan 'Sporting' 'Cultural' 'National' 'Religious']\n",
            "[nan 'SuperBowl' 'ValentinesDay' 'PresidentsDay' 'LentStart' 'LentWeek2'\n",
            " 'StPatricksDay' 'Purim End' 'OrthodoxEaster' 'Pesach End' 'Cinco De Mayo'\n",
            " \"Mother's day\" 'MemorialDay' 'NBAFinalsStart' 'NBAFinalsEnd'\n",
            " \"Father's day\" 'IndependenceDay' 'Ramadan starts' 'Eid al-Fitr'\n",
            " 'LaborDay' 'ColumbusDay' 'Halloween' 'EidAlAdha' 'VeteransDay'\n",
            " 'Thanksgiving' 'Christmas' 'Chanukah End' 'NewYear' 'OrthodoxChristmas'\n",
            " 'MartinLutherKingDay' 'Easter']\n"
          ]
        }
      ],
      "source": [
        "print(final_df.head())\n",
        "print(final_df.columns)\n",
        "print(final_df.event_type.unique()) #error check\n",
        "print(final_df.event_name.unique()) #error check"
      ]
    },
    {
      "cell_type": "code",
      "execution_count": 95,
      "metadata": {
        "colab": {
          "base_uri": "https://localhost:8080/"
        },
        "id": "YlrwH3EEjssq",
        "outputId": "5d2a9a6e-753b-4816-a84d-ae8bdb14a973"
      },
      "outputs": [
        {
          "name": "stdout",
          "output_type": "stream",
          "text": [
            "Sum of NaN values in each column:\n",
            "id                  0\n",
            "item_id             0\n",
            "dept_id             0\n",
            "cat_id              0\n",
            "store_id            0\n",
            "state_id            0\n",
            "d                   0\n",
            "sales               0\n",
            "date                0\n",
            "wm_yr_wk            0\n",
            "weekday             0\n",
            "wday                0\n",
            "month               0\n",
            "year                0\n",
            "snap_CA             0\n",
            "snap_TX             0\n",
            "snap_WI             0\n",
            "event_name    1231300\n",
            "event_type    1231300\n",
            "dtype: int64\n",
            "total rows: 1339100\n"
          ]
        }
      ],
      "source": [
        "nan_count = final_df.isna().sum()\n",
        "\n",
        "# sum of nan values in all columns\n",
        "print(\"Sum of NaN values in each column:\")\n",
        "print(nan_count)\n",
        "print(f\"total rows: {len(final_df)}\")"
      ]
    },
    {
      "cell_type": "code",
      "execution_count": 96,
      "metadata": {
        "colab": {
          "base_uri": "https://localhost:8080/"
        },
        "id": "SSY9i9ddsC50",
        "outputId": "1790f139-463d-4933-e168-2bb3a2340bf1"
      },
      "outputs": [
        {
          "name": "stdout",
          "output_type": "stream",
          "text": [
            "  store_id        item_id  wm_yr_wk  sell_price\n",
            "0     CA_1  HOBBIES_1_001     11325        9.58\n",
            "1     CA_1  HOBBIES_1_001     11326        9.58\n",
            "2     CA_1  HOBBIES_1_001     11327        8.26\n",
            "3     CA_1  HOBBIES_1_001     11328        8.26\n",
            "4     CA_1  HOBBIES_1_001     11329        8.26\n",
            "store_id       object\n",
            "item_id        object\n",
            "wm_yr_wk        int64\n",
            "sell_price    float64\n",
            "dtype: object\n"
          ]
        }
      ],
      "source": [
        "# sell prices dataframe is still missing, so here we go!\n",
        "print(sell_prices.head())\n",
        "print(sell_prices.dtypes)"
      ]
    },
    {
      "cell_type": "code",
      "execution_count": 97,
      "metadata": {
        "colab": {
          "base_uri": "https://localhost:8080/"
        },
        "id": "6fmntdrrsIAy",
        "outputId": "0e77efd4-9cc9-4763-a91b-bd71e34ff853"
      },
      "outputs": [
        {
          "name": "stdout",
          "output_type": "stream",
          "text": [
            "                              id        item_id    dept_id   cat_id store_id  \\\n",
            "0  HOBBIES_1_049_CA_1_validation  HOBBIES_1_049  HOBBIES_1  HOBBIES     CA_1   \n",
            "1  HOBBIES_1_049_CA_2_validation  HOBBIES_1_049  HOBBIES_1  HOBBIES     CA_2   \n",
            "2  HOBBIES_1_049_CA_3_validation  HOBBIES_1_049  HOBBIES_1  HOBBIES     CA_3   \n",
            "3  HOBBIES_1_049_CA_4_validation  HOBBIES_1_049  HOBBIES_1  HOBBIES     CA_4   \n",
            "4  HOBBIES_1_049_TX_1_validation  HOBBIES_1_049  HOBBIES_1  HOBBIES     TX_1   \n",
            "\n",
            "  state_id    d  sales        date wm_yr_wk   weekday  wday  month    year  \\\n",
            "0       CA  d_1      0  2011-01-29    11101  Saturday   1.0    1.0  2011.0   \n",
            "1       CA  d_1      0  2011-01-29    11101  Saturday   1.0    1.0  2011.0   \n",
            "2       CA  d_1      0  2011-01-29    11101  Saturday   1.0    1.0  2011.0   \n",
            "3       CA  d_1      0  2011-01-29    11101  Saturday   1.0    1.0  2011.0   \n",
            "4       TX  d_1      0  2011-01-29    11101  Saturday   1.0    1.0  2011.0   \n",
            "\n",
            "   snap_CA  snap_TX  snap_WI event_name event_type  \n",
            "0      0.0      0.0      0.0        NaN        NaN  \n",
            "1      0.0      0.0      0.0        NaN        NaN  \n",
            "2      0.0      0.0      0.0        NaN        NaN  \n",
            "3      0.0      0.0      0.0        NaN        NaN  \n",
            "4      0.0      0.0      0.0        NaN        NaN  \n"
          ]
        }
      ],
      "source": [
        "#print(final_df.head()) # the wm_yr_wk column is float and has decimal places, in comparison to sell_prices wm_yr_wk col which does not have decimal places\n",
        "#print(final_df.dtypes)\n",
        "final_df['wm_yr_wk'] = final_df['wm_yr_wk'].astype(int)\n",
        "final_df['wm_yr_wk'] = final_df['wm_yr_wk'].astype('object')\n",
        "print(final_df.head())"
      ]
    },
    {
      "cell_type": "code",
      "execution_count": 98,
      "metadata": {
        "colab": {
          "base_uri": "https://localhost:8080/"
        },
        "id": "h4ECjfT_uxO3",
        "outputId": "0907d2e1-bc90-4a4f-e638-bb8b52b59f98"
      },
      "outputs": [
        {
          "name": "stdout",
          "output_type": "stream",
          "text": [
            "store_id      0\n",
            "item_id       0\n",
            "wm_yr_wk      0\n",
            "sell_price    0\n",
            "dtype: int64\n"
          ]
        }
      ],
      "source": [
        "print(sell_prices.isna().sum())"
      ]
    },
    {
      "cell_type": "code",
      "execution_count": 99,
      "metadata": {
        "id": "ISaOtAKWs_dq"
      },
      "outputs": [],
      "source": [
        "final_df = pd.merge(final_df,\n",
        "                    sell_prices[['store_id', 'item_id', 'wm_yr_wk', 'sell_price']],\n",
        "                    on=['store_id', 'item_id', 'wm_yr_wk'],\n",
        "                    how='left')"
      ]
    },
    {
      "cell_type": "code",
      "execution_count": 100,
      "metadata": {
        "colab": {
          "base_uri": "https://localhost:8080/"
        },
        "id": "oj_Dqh1R0Qtx",
        "outputId": "018358c3-2593-4b02-c5ed-4fdc44949298"
      },
      "outputs": [
        {
          "name": "stdout",
          "output_type": "stream",
          "text": [
            "                              id        item_id    dept_id   cat_id store_id  \\\n",
            "0  HOBBIES_1_049_CA_1_validation  HOBBIES_1_049  HOBBIES_1  HOBBIES     CA_1   \n",
            "1  HOBBIES_1_049_CA_2_validation  HOBBIES_1_049  HOBBIES_1  HOBBIES     CA_2   \n",
            "2  HOBBIES_1_049_CA_3_validation  HOBBIES_1_049  HOBBIES_1  HOBBIES     CA_3   \n",
            "3  HOBBIES_1_049_CA_4_validation  HOBBIES_1_049  HOBBIES_1  HOBBIES     CA_4   \n",
            "4  HOBBIES_1_049_TX_1_validation  HOBBIES_1_049  HOBBIES_1  HOBBIES     TX_1   \n",
            "\n",
            "  state_id    d  sales        date wm_yr_wk   weekday  wday  month    year  \\\n",
            "0       CA  d_1      0  2011-01-29    11101  Saturday   1.0    1.0  2011.0   \n",
            "1       CA  d_1      0  2011-01-29    11101  Saturday   1.0    1.0  2011.0   \n",
            "2       CA  d_1      0  2011-01-29    11101  Saturday   1.0    1.0  2011.0   \n",
            "3       CA  d_1      0  2011-01-29    11101  Saturday   1.0    1.0  2011.0   \n",
            "4       TX  d_1      0  2011-01-29    11101  Saturday   1.0    1.0  2011.0   \n",
            "\n",
            "   snap_CA  snap_TX  snap_WI event_name event_type  sell_price  \n",
            "0      0.0      0.0      0.0        NaN        NaN         NaN  \n",
            "1      0.0      0.0      0.0        NaN        NaN         NaN  \n",
            "2      0.0      0.0      0.0        NaN        NaN         NaN  \n",
            "3      0.0      0.0      0.0        NaN        NaN         NaN  \n",
            "4      0.0      0.0      0.0        NaN        NaN         NaN  \n"
          ]
        }
      ],
      "source": [
        "print(final_df.head())"
      ]
    },
    {
      "cell_type": "code",
      "execution_count": 101,
      "metadata": {
        "colab": {
          "base_uri": "https://localhost:8080/"
        },
        "id": "IyJrIGxTt_N_",
        "outputId": "15cfc6ab-ceff-4284-cfab-203bf77fe7cf"
      },
      "outputs": [
        {
          "name": "stdout",
          "output_type": "stream",
          "text": [
            "id                  0\n",
            "item_id             0\n",
            "dept_id             0\n",
            "cat_id              0\n",
            "store_id            0\n",
            "state_id            0\n",
            "d                   0\n",
            "sales               0\n",
            "date                0\n",
            "wm_yr_wk            0\n",
            "weekday             0\n",
            "wday                0\n",
            "month               0\n",
            "year                0\n",
            "snap_CA             0\n",
            "snap_TX             0\n",
            "snap_WI             0\n",
            "event_name    1231300\n",
            "event_type    1231300\n",
            "sell_price     202188\n",
            "dtype: int64\n",
            "id            1339100\n",
            "item_id       1339100\n",
            "dept_id       1339100\n",
            "cat_id        1339100\n",
            "store_id      1339100\n",
            "state_id      1339100\n",
            "d             1339100\n",
            "sales         1339100\n",
            "date          1339100\n",
            "wm_yr_wk      1339100\n",
            "weekday       1339100\n",
            "wday          1339100\n",
            "month         1339100\n",
            "year          1339100\n",
            "snap_CA       1339100\n",
            "snap_TX       1339100\n",
            "snap_WI       1339100\n",
            "event_name     107800\n",
            "event_type     107800\n",
            "sell_price    1136912\n",
            "dtype: int64\n",
            "(1339100, 20)\n",
            "2016-04-24\n"
          ]
        }
      ],
      "source": [
        "final_df = final_df.drop_duplicates()\n",
        "print(final_df.isna().sum())\n",
        "\n",
        "print(final_df.notna().sum())\n",
        "print(final_df.shape)\n",
        "print(final_df.date.max())"
      ]
    },
    {
      "cell_type": "code",
      "execution_count": 102,
      "metadata": {
        "colab": {
          "base_uri": "https://localhost:8080/",
          "height": 446
        },
        "id": "6vwm_GAiugtK",
        "outputId": "f99e0ed5-1156-4a52-e8af-0662704b08e8"
      },
      "outputs": [
        {
          "name": "stdout",
          "output_type": "stream",
          "text": [
            "id                 0\n",
            "item_id            0\n",
            "dept_id            0\n",
            "cat_id             0\n",
            "store_id           0\n",
            "state_id           0\n",
            "d                  0\n",
            "sales              0\n",
            "date               0\n",
            "wm_yr_wk           0\n",
            "weekday            0\n",
            "wday               0\n",
            "month              0\n",
            "year               0\n",
            "snap_CA            0\n",
            "snap_TX            0\n",
            "snap_WI            0\n",
            "event_name    185439\n",
            "event_type    185439\n",
            "sell_price    202188\n",
            "dtype: int64\n"
          ]
        },
        {
          "data": {
            "text/plain": [
              "'2015-12-25'"
            ]
          },
          "execution_count": 102,
          "metadata": {},
          "output_type": "execute_result"
        }
      ],
      "source": [
        "filtered_df = final_df[final_df['sell_price'].isna()]\n",
        "filtered_df.drop_duplicates()\n",
        "print(filtered_df.isna().sum())\n",
        "filtered_df.date.max()\n"
      ]
    },
    {
      "cell_type": "code",
      "execution_count": 103,
      "metadata": {
        "colab": {
          "base_uri": "https://localhost:8080/"
        },
        "id": "LaG4nAYVwRlp",
        "outputId": "a0d5992c-409c-40d1-81ca-533502e54c1f"
      },
      "outputs": [
        {
          "name": "stdout",
          "output_type": "stream",
          "text": [
            "Unique item_ids in 'sales_validation' that are NOT in 'item': []\n",
            "Unique dept_ids in 'sales_validation' that are NOT in 'item': []\n"
          ]
        }
      ],
      "source": [
        "unique_item_ids_not_in_item = filtered_df.loc[~filtered_df['item_id'].isin(item['item_id']), 'item_id'].unique()\n",
        "unique_dept_ids_not_in_item = filtered_df.loc[~filtered_df['dept_id'].isin(item['dept_id']), 'dept_id'].unique()\n",
        "print(\"Unique item_ids in 'sales_validation' that are NOT in 'item':\", unique_item_ids_not_in_item)\n",
        "print(\"Unique dept_ids in 'sales_validation' that are NOT in 'item':\", unique_dept_ids_not_in_item)\n"
      ]
    },
    {
      "cell_type": "code",
      "execution_count": 104,
      "metadata": {
        "colab": {
          "base_uri": "https://localhost:8080/"
        },
        "id": "fpaeA0-9zcan",
        "outputId": "0c2ce119-6ad7-458f-a8cf-390678344803"
      },
      "outputs": [
        {
          "name": "stdout",
          "output_type": "stream",
          "text": [
            "0             1\n",
            "1             1\n",
            "2             1\n",
            "3             1\n",
            "4             1\n",
            "           ... \n",
            "1339095    1913\n",
            "1339096    1913\n",
            "1339097    1913\n",
            "1339098    1913\n",
            "1339099    1913\n",
            "Name: d, Length: 1339100, dtype: int32\n"
          ]
        }
      ],
      "source": [
        "#change column d type from string to inteager\n",
        "final_df.d = final_df.d.str.replace(\"d_\",\"\")\n",
        "final_df.d = final_df.d.astype(int)\n",
        "print(final_df.d)"
      ]
    },
    {
      "cell_type": "code",
      "execution_count": 105,
      "metadata": {},
      "outputs": [],
      "source": [
        "final_df['date'] = pd.to_datetime(final_df['date']) \n",
        "final_df[\"month\"] = final_df['date'].dt.strftime('%B')"
      ]
    },
    {
      "cell_type": "code",
      "execution_count": 106,
      "metadata": {
        "colab": {
          "base_uri": "https://localhost:8080/"
        },
        "id": "cW8yrjl7Erj3",
        "outputId": "1d53be00-69fd-49ba-c0eb-b09214d3cb24"
      },
      "outputs": [
        {
          "name": "stdout",
          "output_type": "stream",
          "text": [
            "Count of na values in column turnover: 0\n"
          ]
        }
      ],
      "source": [
        "#new column turnover\n",
        "final_df[\"turnover\"] = final_df.sales * final_df.sell_price\n",
        "final_df = final_df.dropna(subset=[\"turnover\"])\n",
        "print(f\"Count of na values in column turnover: {final_df.turnover.isna().sum()}\")"
      ]
    },
    {
      "cell_type": "code",
      "execution_count": 107,
      "metadata": {
        "colab": {
          "base_uri": "https://localhost:8080/"
        },
        "id": "1wshL6oyGCUJ",
        "outputId": "a2266b1b-e2d8-4b8e-defe-f3d2ae6abb05"
      },
      "outputs": [
        {
          "data": {
            "text/plain": [
              "1078812"
            ]
          },
          "execution_count": 107,
          "metadata": {},
          "output_type": "execute_result"
        }
      ],
      "source": [
        "#Drop rows where date is higher than 1.2.2016\n",
        "final_df = final_df[final_df.date <= \"2016-02-01\"]\n",
        "\n",
        "#Length of dataframe after drop\n",
        "len(final_df)"
      ]
    },
    {
      "cell_type": "code",
      "execution_count": 108,
      "metadata": {},
      "outputs": [
        {
          "data": {
            "text/plain": [
              "Index(['id', 'item_id', 'dept_id', 'cat_id', 'store_id', 'state_id', 'd',\n",
              "       'sales', 'date', 'wm_yr_wk', 'weekday', 'wday', 'month', 'year',\n",
              "       'snap_CA', 'snap_TX', 'snap_WI', 'event_name', 'event_type',\n",
              "       'sell_price', 'turnover'],\n",
              "      dtype='object')"
            ]
          },
          "execution_count": 108,
          "metadata": {},
          "output_type": "execute_result"
        }
      ],
      "source": [
        "final_df.columns"
      ]
    },
    {
      "cell_type": "code",
      "execution_count": 109,
      "metadata": {
        "id": "IHJyWT5QS--F"
      },
      "outputs": [],
      "source": [
        "#Droping columns\n",
        "final_df = final_df.drop([\"snap_TX\", \"snap_CA\", \"snap_WI\", \"event_name\", \"wday\"],axis =1)"
      ]
    },
    {
      "cell_type": "code",
      "execution_count": 110,
      "metadata": {
        "id": "kHgCahOOKQRh"
      },
      "outputs": [],
      "source": [
        "#Rolling windows and lagged variables\n",
        "\n",
        "new_columns = [\"sales_d_1\", \"sales_d_2\", \"sales_d_3\",\n",
        "               \"sales_month_avg\", \"sales_month_max\", \"sales_month_min\",\n",
        "               \"sales_week_avg\", \"sales_week_max\", \"sales_week_min\"]\n",
        "\n",
        "# Calculate rolling statistics and lag values for turnover column\n",
        "final_df[new_columns[0]] = final_df.groupby('id')['sales'].shift(1)\n",
        "final_df[new_columns[1]] = final_df.groupby('id')['sales'].shift(2)\n",
        "final_df[new_columns[2]] = final_df.groupby('id')['sales'].shift(3)\n",
        "final_df[new_columns[3]] = final_df.groupby('id')['sales_d_1'].transform(lambda x: x.rolling(30).mean())\n",
        "final_df[new_columns[4]] = final_df.groupby('id')['sales_d_1'].transform(lambda x: x.rolling(30).max())\n",
        "final_df[new_columns[5]] = final_df.groupby('id')['sales_d_1'].transform(lambda x: x.rolling(30).min())\n",
        "final_df[new_columns[6]] = final_df.groupby('id')['sales_d_1'].transform(lambda x: x.rolling(7).mean())\n",
        "final_df[new_columns[7]] = final_df.groupby('id')['sales_d_1'].transform(lambda x: x.rolling(7).max())\n",
        "final_df[new_columns[8]] = final_df.groupby('id')['sales_d_1'].transform(lambda x: x.rolling(7).min())\n",
        "\n",
        "\n",
        "# Sort the DataFrame by 'date' and reset the index\n",
        "final_df = final_df.sort_values(by=\"date\").reset_index(drop=True)\n"
      ]
    },
    {
      "cell_type": "code",
      "execution_count": 111,
      "metadata": {},
      "outputs": [],
      "source": [
        "#save dataframe\n",
        "#final_df.to_csv('../data/interim/final_df_interim_full_not_agre_sales.csv')"
      ]
    },
    {
      "cell_type": "code",
      "execution_count": 3,
      "metadata": {
        "id": "lJ1gUtT-UIrp"
      },
      "outputs": [],
      "source": [
        "#Load pre-counted dataframe\n",
        "final_df = pd.read_csv('../data/interim/final_df_interim_full_not_agre_sales.csv')\n",
        "#final_df.date = pd.to_datetime(final_df.date)"
      ]
    },
    {
      "cell_type": "code",
      "execution_count": 4,
      "metadata": {},
      "outputs": [],
      "source": [
        "final_df.dropna(axis = 0, subset=[\"sales_d_1\", \"sales_d_2\", \"sales_d_3\",\n",
        "               \"sales_month_avg\", \"sales_month_max\", \"sales_month_min\",\n",
        "               \"sales_week_avg\", \"sales_week_max\", \"sales_week_min\"], inplace=True)"
      ]
    },
    {
      "cell_type": "code",
      "execution_count": 5,
      "metadata": {
        "id": "d7p8uQHsUvVU"
      },
      "outputs": [],
      "source": [
        "#Modeling - data preparation\n",
        "final_df = final_df.sort_values(by='date')\n",
        "final_df.d = final_df.d - final_df.d.min() + 1\n",
        "final_df = final_df[['id','item_id', 'dept_id', 'cat_id', 'store_id', 'state_id', #categorical - product definition\n",
        "                     'weekday', 'month', 'event_type', #categorical - time definition and event - sesonality\n",
        "                     'd','wm_yr_wk', 'year', #trend\n",
        "                     'sell_price','sales','turnover',\n",
        "                     \"sales_d_1\", \"sales_d_2\", \"sales_d_3\",\n",
        "                     \"sales_month_avg\", \"sales_month_max\", \"sales_month_min\",\n",
        "                     \"sales_week_avg\", \"sales_week_max\", \"sales_week_min\"]]"
      ]
    },
    {
      "cell_type": "code",
      "execution_count": 6,
      "metadata": {},
      "outputs": [],
      "source": [
        "final_df = final_df[final_df.d>=1000]"
      ]
    },
    {
      "cell_type": "code",
      "execution_count": 7,
      "metadata": {},
      "outputs": [],
      "source": [
        "#Make dummy variables (one-hot encoding)\n",
        "final_df = pd.get_dummies(final_df, columns=['id','item_id', 'dept_id', 'cat_id', 'store_id', 'state_id','weekday', 'month', 'event_type'], drop_first=False)"
      ]
    },
    {
      "cell_type": "code",
      "execution_count": 8,
      "metadata": {},
      "outputs": [],
      "source": [
        "final_df = final_df.drop(columns=['id_HOBBIES_1_049_CA_1_validation','item_id_HOBBIES_1_049', 'dept_id_HOBBIES_1', 'cat_id_HOBBIES', 'store_id_CA_1', 'state_id_CA', 'weekday_Monday', 'month_January'])"
      ]
    },
    {
      "cell_type": "code",
      "execution_count": 9,
      "metadata": {},
      "outputs": [],
      "source": [
        "#Dataframe to train+validation and test data\n",
        "X = final_df.drop(columns=['sales'])\n",
        "y = final_df.sales\n",
        "X_train, X_test, y_train, y_test = train_test_split(X, y, test_size=0.2, shuffle=False)"
      ]
    },
    {
      "cell_type": "code",
      "execution_count": 10,
      "metadata": {},
      "outputs": [],
      "source": [
        "turnover_train = X_train.turnover\n",
        "turnover_test = X_test.turnover\n",
        "\n",
        "X_train = X_train.drop(columns=['turnover'])\n",
        "X_test = X_test.drop(columns=['turnover'])"
      ]
    },
    {
      "cell_type": "markdown",
      "metadata": {
        "id": "08DL8gPjacBq"
      },
      "source": [
        "## Modeling"
      ]
    },
    {
      "cell_type": "markdown",
      "metadata": {},
      "source": [
        "### Baseline model"
      ]
    },
    {
      "cell_type": "code",
      "execution_count": 14,
      "metadata": {},
      "outputs": [
        {
          "name": "stdout",
          "output_type": "stream",
          "text": [
            "RMSE of baseline model is 1.4542003102081968\n"
          ]
        }
      ],
      "source": [
        "#Baseline model based on only zeros\n",
        "y_pred = pd.Series(np.zeros(len(y_test)))\n",
        "rmse_baseline = np.sqrt(mean_squared_error(y_test, y_pred))\n",
        "\n",
        "print(f\"RMSE of baseline model is {rmse_baseline}\")"
      ]
    },
    {
      "cell_type": "code",
      "execution_count": 15,
      "metadata": {},
      "outputs": [
        {
          "name": "stdout",
          "output_type": "stream",
          "text": [
            "RMSE of better baseline model is 1.0993212846595246\n"
          ]
        }
      ],
      "source": [
        "#Baseline model based on average monthly value\n",
        "y_pred = X_test.sales_month_avg\n",
        "rmse_baseline = np.sqrt(mean_squared_error(y_test, y_pred))\n",
        "\n",
        "print(f\"RMSE of better baseline model is {rmse_baseline}\")"
      ]
    },
    {
      "cell_type": "markdown",
      "metadata": {},
      "source": [
        "### Linear regression"
      ]
    },
    {
      "cell_type": "code",
      "execution_count": 34,
      "metadata": {},
      "outputs": [],
      "source": [
        "scaler = StandardScaler()\n",
        "\n",
        "X_train_std = scaler.fit_transform(X_train)\n",
        "X_test_std = scaler.transform(X_test)\n",
        "\n",
        "X_train = pd.DataFrame(X_train_std, columns=X_train.columns)\n",
        "X_test = pd.DataFrame(X_test_std, columns=X_test.columns)"
      ]
    },
    {
      "cell_type": "code",
      "execution_count": 40,
      "metadata": {
        "colab": {
          "base_uri": "https://localhost:8080/"
        },
        "id": "BKYnpmBDYxtJ",
        "outputId": "3fb532af-09a3-4faf-f114-b5545f097805"
      },
      "outputs": [
        {
          "name": "stdout",
          "output_type": "stream",
          "text": [
            "[-7.46246206e-01  3.33916431e-01  5.00502555e-01 -2.38207894e-01\n",
            "  4.21513033e-02 -3.26569472e-05 -5.05866088e-03  3.14339240e-01\n",
            "  2.18359546e-03 -5.06666889e-03  2.36180173e-01 -6.95527488e-02\n",
            "  1.59968902e-02  9.83767574e+10  1.55624458e+11  9.06113795e+10\n",
            "  1.13968244e+11  1.48512671e+11  1.94573739e+11  1.41518983e+11\n",
            "  1.25200450e+11  1.66624883e+11  1.53877672e+11 -1.34369093e+11\n",
            " -7.71213932e+10 -1.42134471e+11 -1.18777607e+11 -8.42331794e+10\n",
            " -3.81721119e+10 -9.12268676e+10 -1.07545400e+11 -6.61209679e+10\n",
            " -7.88681790e+10 -4.32184017e+10  1.40292984e+10 -5.09837796e+10\n",
            " -2.76269152e+10  6.91751220e+09  5.29785797e+10 -7.61759535e+07\n",
            " -1.63947087e+10  2.50297237e+10  1.22825127e+10 -3.15701442e+10\n",
            "  2.56775560e+10 -3.93355221e+10 -1.59786577e+10  1.85657697e+10\n",
            "  6.46268372e+10  1.15720816e+10 -4.74645119e+09  3.66779812e+10\n",
            "  2.39307702e+10 -2.93469537e+10  2.79007464e+10 -3.71123316e+10\n",
            " -1.24000006e+10  2.07889602e+10  6.68500277e+10  1.37952721e+10\n",
            " -2.52326071e+09  3.89011717e+10  2.61539607e+10 -1.74578354e+09\n",
            "  5.55019166e+10 -9.51116142e+09  1.38457030e+10  4.83901304e+10\n",
            "  9.44511979e+10  4.13964423e+10  2.50779095e+10  6.65023419e+10\n",
            "  5.37551309e+10 -8.97923041e+10 -3.25446040e+10 -9.75576820e+10\n",
            " -7.42008176e+10 -3.96563902e+10  6.40467733e+09 -4.66500783e+10\n",
            " -6.29686111e+10 -2.15441787e+10 -3.42913897e+10 -1.80591007e+11\n",
            " -1.23343307e+11 -1.88356385e+11 -1.64999520e+11 -1.30455093e+11\n",
            " -8.43940256e+10 -1.37448781e+11 -1.53767314e+11 -1.12342882e+11\n",
            " -1.25090093e+11  4.68126048e+10  1.04060305e+11  3.90472269e+10\n",
            "  6.24040914e+10  9.69485188e+10  1.43009586e+11  8.99548306e+10\n",
            "  7.36362979e+10  1.15060730e+11  1.02313519e+11 -6.76768071e+10\n",
            " -1.04291069e+10 -7.54421850e+10 -5.20853206e+10 -1.75408932e+10\n",
            "  2.85201743e+10 -2.45345813e+10 -4.08531141e+10  5.71318341e+08\n",
            " -1.21758927e+10 -2.33291030e+10  1.11012215e+10 -3.10944809e+10\n",
            " -7.73761652e+09  2.68068109e+10  7.28678784e+10  1.98131227e+10\n",
            "  3.49458998e+09  4.49190224e+10  3.21718114e+10  1.14747481e+11\n",
            "  5.33610007e+10  1.06982103e+11  1.30338967e+11  1.64883395e+11\n",
            "  2.10944462e+11  5.66753493e+10  1.41571174e+11  1.82995606e+11\n",
            "  1.70248395e+11 -7.91952767e+10 -6.80917129e+09 -8.69606546e+10\n",
            " -6.36037902e+10 -2.90593628e+10  1.70017047e+10 -3.60530509e+10\n",
            " -5.23715837e+10 -1.09471513e+10 -2.36943623e+10 -5.28828598e+10\n",
            "  3.57716171e+09 -6.06482377e+10 -3.72913733e+10 -2.74694586e+09\n",
            "  4.33141217e+10 -9.74063401e+09 -2.60591668e+10  1.53652657e+10\n",
            "  2.61805460e+09 -8.17481642e+10  1.13815033e+11 -8.95135421e+10\n",
            " -2.17005942e+10 -3.16122503e+10  1.44488172e+10 -3.86059384e+10\n",
            " -5.49244712e+10 -1.35000388e+10 -2.62472498e+10  4.18137689e+10\n",
            "  3.07335304e+10  3.40483911e+10  5.74052555e+10  9.19496829e+10\n",
            "  1.38010750e+11  8.49559947e+10  6.86374620e+10  1.10061894e+11\n",
            "  9.73146833e+10  1.20995000e+10  2.26966530e+10  4.33412210e+09\n",
            "  2.76909865e+10  6.22354139e+10  1.08296481e+11  5.52417258e+10\n",
            "  3.89231930e+10  8.03476254e+10  6.76004144e+10 -1.74752748e+10\n",
            "  1.23392784e+10 -2.52406527e+10 -1.88378830e+09  3.26606391e+10\n",
            "  7.87217066e+10  2.56669510e+10  9.34841821e+09  5.07728506e+10\n",
            "  3.80256396e+10  6.17529262e+10  3.69195955e+10  5.39875483e+10\n",
            "  7.73444127e+10  1.11888840e+11  1.57949908e+11  1.04895152e+11\n",
            "  8.85766192e+10  1.30001052e+11  1.17253841e+11 -8.93857878e+10\n",
            " -1.05184784e+10 -9.71511657e+10 -7.37943013e+10 -3.92498739e+10\n",
            "  6.81119361e+09 -4.62435621e+10 -6.25620948e+10 -2.11376624e+10\n",
            " -3.38848734e+10 -6.41694921e+09  1.57700915e+10 -1.41823271e+10\n",
            "  9.17453731e+09  4.37189647e+10  8.97800322e+10  3.67252766e+10\n",
            "  2.04067438e+10  6.18311762e+10  4.90839652e+10 -8.69249800e+10\n",
            " -3.05733374e+10 -9.64468202e+10 -7.44303324e+10 -4.05710903e+10\n",
            "  1.50146068e+09 -4.75654831e+10 -6.06467152e+10 -2.41828609e+10\n",
            " -3.63592859e+10  5.08299638e+10  1.08077664e+11  4.30645859e+10\n",
            "  6.64214503e+10  1.00965878e+11  1.47026945e+11  9.39721896e+10\n",
            "  7.76536568e+10  1.19078089e+11  1.06330878e+11 -8.44559489e+10\n",
            " -2.72082487e+10 -9.22213268e+10 -6.88644624e+10 -3.43200350e+10\n",
            "  1.17410326e+10 -4.13137231e+10 -5.76322559e+10 -1.62078234e+10\n",
            " -2.89550345e+10 -2.88096347e+09  5.43667367e+10 -1.06463414e+10\n",
            "  1.27105231e+10  4.72549505e+10  9.33160180e+10  4.02612623e+10\n",
            "  2.39427296e+10  6.53671620e+10  5.26199509e+10 -4.93988750e+10\n",
            "  7.84882520e+09 -5.71642529e+10 -3.38073885e+10  7.37038972e+08\n",
            "  4.67981065e+10 -6.25664918e+09 -2.25751819e+10  1.88492505e+10\n",
            "  6.10203944e+09 -2.62456117e+10  2.36685144e+10 -3.42664221e+10\n",
            " -1.21160401e+10  1.93597785e+10  6.39369991e+10  1.39268881e+10\n",
            " -1.44627147e+09  3.68976434e+10  2.54198502e+10 -1.49586389e+10\n",
            "  4.22890613e+10 -2.27240168e+10  6.32847654e+08  3.51772751e+10\n",
            "  8.12383426e+10  1.98898305e+10  1.18650542e+10  5.32894866e+10\n",
            "  4.05422755e+10  1.25290103e+10  6.97767104e+10  4.76363238e+09\n",
            "  2.81204968e+10  6.26649242e+10  1.08725992e+11  5.56712361e+10\n",
            "  3.93527033e+10  8.07771357e+10  6.80299247e+10  8.39746423e+10\n",
            "  1.41222342e+11  7.62092644e+10  9.95661288e+10  1.34110556e+11\n",
            "  1.80171624e+11  1.27116868e+11  1.10798335e+11  1.52222768e+11\n",
            "  1.39475557e+11  5.72919950e+10 -7.77138627e+09  7.08418155e+09\n",
            "  5.01747061e+10  9.62714129e+10  4.31756066e+10  2.68444476e+10\n",
            "  6.83009318e+10  5.55438577e+10 -3.28378952e+10  2.44540998e+10\n",
            " -4.06092815e+10 -1.72343450e+10  1.73368109e+10  6.34335177e+10\n",
            "  1.03377114e+10 -5.99344764e+09  3.54630365e+10  2.27059624e+10\n",
            " -2.82463811e+10  2.90456139e+10 -3.60177673e+10 -1.26428308e+10\n",
            "  2.19283250e+10  6.80250318e+10  1.49292256e+10 -1.40193348e+09\n",
            "  4.00545507e+10  2.72974766e+10 -8.70769592e+10 -2.97849642e+10\n",
            " -9.48483454e+10 -7.14734089e+10 -3.69022531e+10  9.19445373e+09\n",
            " -4.39013525e+10 -6.02325116e+10 -1.87760274e+10 -3.15331015e+10\n",
            " -4.92490748e+10  8.04292021e+09 -5.70204611e+10 -3.36455245e+10\n",
            "  9.25631312e+08  4.70223381e+10 -6.07346814e+09 -2.24046272e+10\n",
            "  1.90518570e+10  6.29478289e+09 -3.91880912e+10  1.81039038e+10\n",
            " -4.69594775e+10 -2.35845409e+10  1.09866149e+10  5.70833217e+10\n",
            "  3.98751543e+09 -1.23436436e+10  2.91128405e+10  1.63557665e+10\n",
            " -1.33859131e+11 -7.65671356e+10 -1.41630517e+11 -1.18255580e+11\n",
            " -8.36844245e+10 -3.75877177e+10 -9.06835239e+10 -1.07014683e+11\n",
            " -6.55581988e+10 -7.83152729e+10 -5.80940545e+10 -8.02059475e+08\n",
            " -6.58654407e+10 -4.24905042e+10 -7.91934837e+09  3.81773584e+10\n",
            " -1.49184478e+10 -3.12496069e+10  1.02068773e+10 -2.55019679e+09\n",
            " -1.29845405e+10  4.43074545e+10 -2.07559267e+10  2.61900981e+09\n",
            "  3.71901656e+10  8.32868724e+10  3.01910662e+10  1.38599071e+10\n",
            "  5.53163913e+10  4.25593172e+10 -1.75786998e+11 -1.18495003e+11\n",
            " -1.83558384e+11 -1.60183448e+11 -1.25612292e+11 -7.95155849e+10\n",
            " -1.32611391e+11 -1.48942550e+11 -1.07486066e+11 -1.20243140e+11\n",
            " -4.42603558e+10  1.30316392e+10 -5.20317421e+10 -2.86568055e+10\n",
            "  5.91435030e+09  5.20110571e+10 -1.08474915e+09 -1.74159082e+10\n",
            "  2.40405760e+10  1.12835019e+10 -3.61995941e+10  2.10924009e+10\n",
            " -4.39709803e+10 -2.05960438e+10  1.39751120e+10  6.00718188e+10\n",
            "  6.97601258e+09 -9.35514648e+09  3.21013377e+10  1.93442636e+10\n",
            " -3.26695288e+10  2.46224662e+10 -4.04409151e+10 -1.70659785e+10\n",
            "  1.75051773e+10  6.36018841e+10  1.05060779e+10 -5.82508120e+09\n",
            "  3.56314030e+10  2.28743289e+10 -2.72311590e+10  3.00608360e+10\n",
            " -3.50025453e+10 -1.16276088e+10  2.29435471e+10  6.90402538e+10\n",
            "  1.59444476e+10 -3.86711453e+08  4.10697727e+10  2.83126986e+10\n",
            "  1.81695143e+11  2.38987138e+11  1.73923757e+11  1.97298693e+11\n",
            "  2.31869849e+11  2.77966556e+11  2.24870750e+11  2.08539591e+11\n",
            "  2.49996075e+11  2.37239001e+11 -2.71448504e+10  3.01471446e+10\n",
            " -3.49162367e+10 -1.15413002e+10  2.30298557e+10  6.91265625e+10\n",
            "  1.60307562e+10 -3.00402850e+08  4.11560813e+10  2.83990072e+10\n",
            " -3.67308602e+10  2.05611348e+10 -4.45022465e+10 -2.11273099e+10\n",
            "  1.34438459e+10  5.95405527e+10  6.44474643e+09 -9.88641263e+09\n",
            "  3.15700715e+10  1.88129975e+10 -3.18580294e+10  2.54339656e+10\n",
            " -3.96294156e+10 -1.62419121e+10  1.83166767e+10  6.44133835e+10\n",
            "  1.13175773e+10 -5.01358177e+09  3.64429024e+10  2.36858283e+10\n",
            " -3.31145797e+10  2.41774153e+10 -4.08859659e+10 -1.75110294e+10\n",
            "  1.70601264e+10  6.31568332e+10  1.00610270e+10 -6.27013206e+09\n",
            "  3.51863521e+10  2.24292780e+10 -1.20501302e+11 -6.32093074e+10\n",
            " -1.28272689e+11 -1.04897752e+11 -7.03265963e+10 -2.42298895e+10\n",
            " -7.73256957e+10 -9.36568548e+10 -5.22003706e+10 -6.49574447e+10\n",
            " -3.20581692e+10  2.52338258e+10 -3.98295555e+10 -1.64546189e+10\n",
            "  1.81165369e+10  6.42132437e+10  1.11174374e+10 -5.21372163e+09\n",
            "  3.62427625e+10  2.34856885e+10 -9.24132198e+10 -3.51212248e+10\n",
            " -1.00184606e+11 -7.68096695e+10 -4.22385137e+10  3.85819308e+09\n",
            " -4.92376132e+10 -6.55687722e+10 -2.41122881e+10 -3.68693621e+10\n",
            "  4.77913217e+10  1.05083317e+11  4.00199354e+10  6.33948719e+10\n",
            "  9.79660278e+10  1.44062735e+11  9.09669283e+10  7.46357692e+10\n",
            "  1.16092253e+11  1.03335179e+11 -1.75395441e+11 -1.24432355e+11\n",
            " -1.82308341e+11 -1.61515578e+11 -1.30763415e+11 -8.97589003e+10\n",
            " -1.36989340e+11 -1.51516435e+11 -1.14639550e+11 -1.25987380e+11\n",
            " -1.46507334e+10  4.26412616e+10 -2.24221197e+10  9.52816842e+08\n",
            "  3.55239727e+10  8.16206795e+10  2.85248732e+10  1.21937142e+10\n",
            "  5.36501983e+10  4.08931242e+10  5.74270960e+10  1.14719091e+11\n",
            "  4.96557098e+10  7.30306463e+10  1.07601802e+11  1.53698509e+11\n",
            "  1.00602703e+11  8.42715436e+10  1.25728028e+11  1.12970954e+11\n",
            " -5.40656361e+10 -2.39387539e+09 -6.10724803e+10 -3.97299273e+10\n",
            " -8.82707286e+09  3.25159798e+10 -1.51376071e+10 -2.98621213e+10\n",
            "  7.51591087e+09 -3.98613363e+09 -8.94295117e+10 -3.21375167e+10\n",
            " -9.72008979e+10 -7.38259614e+10 -3.92548056e+10  6.84190123e+09\n",
            " -4.62539050e+10 -6.25850641e+10 -2.11285799e+10 -3.38856540e+10\n",
            " -8.93839207e+10 -3.20919257e+10 -9.71553069e+10 -7.37803704e+10\n",
            " -3.92092146e+10  6.88749221e+09 -4.62083140e+10 -6.25394731e+10\n",
            " -2.10829889e+10 -3.38400630e+10  2.13526461e+11  2.64489547e+11\n",
            "  2.09421381e+11  2.09592381e+11  2.59918586e+11  3.03228542e+11\n",
            "  2.55356254e+11  2.32481724e+11  2.78009772e+11  2.62934523e+11\n",
            " -7.43963884e+09  4.98523562e+10 -1.52110251e+10  8.15759958e+09\n",
            "  4.27020270e+10  8.88317740e+10  3.57359678e+10  1.94048087e+10\n",
            "  6.08612929e+10  4.81042188e+10  1.83025876e+11  2.40317871e+11\n",
            "  1.75254490e+11  1.98629427e+11  2.33020285e+11  2.79081353e+11\n",
            "  2.26026597e+11  2.09708064e+11  2.51132497e+11  2.38385286e+11\n",
            "  4.96795712e+10  1.06927271e+11  4.19141933e+10  6.52710577e+10\n",
            "  9.98927163e+10  1.45876553e+11  9.28217970e+10  7.65032642e+10\n",
            "  1.17927697e+11  1.05180486e+11  4.56178955e+09  6.18094897e+10\n",
            " -3.20358833e+09  2.01532761e+10  5.46977035e+10  1.00758771e+11\n",
            "  4.77040153e+10  3.13854826e+10  7.28099150e+10  6.00627040e+10\n",
            " -1.72741523e+11 -1.15493823e+11 -1.80506901e+11 -1.57150037e+11\n",
            " -1.22605609e+11 -7.66037674e+10 -1.29699574e+11 -1.46030733e+11\n",
            " -1.04493398e+11 -1.17240609e+11  6.41378843e+10  1.21385585e+11\n",
            "  5.63725065e+10  7.97293709e+10  1.14273798e+11  1.60334866e+11\n",
            "  1.07280110e+11  9.09615774e+10  1.32386010e+11  1.19638799e+11\n",
            "  7.49238755e+08  4.41219621e+10 -5.13406460e+09  1.24425616e+10\n",
            "  3.83659997e+10  7.36312069e+10  3.34351950e+10  2.08716320e+10\n",
            "  5.24562428e+10  4.23920979e+10 -6.75132233e+10 -1.02655231e+10\n",
            " -7.52786012e+10 -5.19217368e+10 -1.73773093e+10  2.86837582e+10\n",
            " -2.43709975e+10 -4.06895303e+10  7.34902172e+08 -1.20123089e+10\n",
            "  5.54277334e+10  1.12675434e+11  4.76623555e+10  7.10192199e+10\n",
            "  1.05563647e+11  1.51624715e+11  5.70697907e+10  8.22514264e+10\n",
            "  1.23675859e+11  1.10928648e+11 -6.49628185e+11 -5.92380485e+11\n",
            " -6.57393563e+11 -6.34036698e+11 -5.99492271e+11 -5.53431203e+11\n",
            " -6.06485959e+11 -6.22804492e+11 -5.81380059e+11 -5.94127270e+11\n",
            " -5.15698288e+11  2.15366540e+11 -7.09417422e+10 -1.07529425e+11\n",
            " -1.13449405e+11 -2.01209037e+11  7.53489082e+10  3.60551578e+11\n",
            " -3.53733045e+11  5.88317147e+09  8.77794638e+10 -3.10380584e+11\n",
            "  2.55201598e+11  1.81733841e+11  2.46712025e+11 -1.07555249e+11\n",
            " -1.84896822e+10  7.01794524e+10 -1.67328184e+11  2.85918450e+11\n",
            "  1.33872747e+11  3.81176339e+11 -3.95438977e+10  3.85395031e+11\n",
            "  1.29164458e+11  2.75279239e+11  1.93151469e+11  1.62911576e+11\n",
            "  8.07610611e+10 -1.43652772e+11  1.03144169e+11  8.87221754e+10\n",
            "  2.73509630e+11  1.54691854e+11  1.23090200e+11  4.20452915e+11\n",
            "  1.82474027e+11  4.07845761e+10  5.52148781e+11  2.13720861e+11\n",
            "  1.88401925e+11  1.77313954e+11  1.60231978e+11 -4.96007701e+11\n",
            "  1.59960882e+11  1.90070638e+11  1.74751703e+11  1.78711863e+11\n",
            "  4.53194464e+11 -1.76801355e+11  1.27744843e+10 -4.27609432e+11\n",
            "  3.04508777e+11 -2.31478291e+11 -4.57875499e+11 -8.03190111e+10\n",
            "  3.40262613e+09  3.25942437e+09 -9.15719369e+11 -8.45652270e+10\n",
            " -6.82519885e+11 -2.63929624e+11 -1.22192563e+11  4.34824407e+11\n",
            " -3.09323665e+11 -8.40005960e+10  1.04198183e+11 -2.72562935e+11\n",
            "  1.93264656e+12  5.22625189e+11 -1.33190242e+11 -4.29349118e+11\n",
            " -2.19582649e+11  4.11124559e+11 -7.46713873e+10  1.17589697e+11\n",
            "  4.97113501e+11 -4.20070931e+11  6.10873440e+10 -1.20936924e+11\n",
            " -2.38616613e+11 -6.00954170e+11 -1.81394952e+11  3.58829873e+10\n",
            " -2.89782419e+11 -1.89575180e+11 -2.35934190e+11 -3.75701270e+11\n",
            "  8.11767578e-03  4.64477539e-02  4.83093262e-02 -1.17950439e-02\n",
            " -1.09367371e-02 -1.52893066e-02 -6.48498535e-03  1.07795715e-01\n",
            "  2.17582703e-01 -5.24826050e-02  8.12911987e-02  5.13305664e-02\n",
            " -3.42178345e-02  2.15911865e-02  1.51916504e-01  1.23762131e-01\n",
            "  1.00702286e-01 -8.16345215e-03 -1.44195557e-02 -5.72204590e-04\n",
            " -9.14382935e-03]\n",
            "RMSE of Linear Regression model is 15920132027.433197\n"
          ]
        }
      ],
      "source": [
        "#Linear Regression model\n",
        "lin_reg = LinearRegression()\n",
        "\n",
        "lin_reg.fit(X_train, y_train)\n",
        "y_pred_lin = lin_reg.predict(X_test)\n",
        "\n",
        "lin_reg_rmse = np.sqrt(mean_squared_error(y_test, y_pred_lin))\n",
        "print(lin_reg.coef_)\n",
        "\n",
        "print(f\"RMSE of Linear Regression model is {lin_reg_rmse}\")"
      ]
    },
    {
      "cell_type": "code",
      "execution_count": 41,
      "metadata": {},
      "outputs": [
        {
          "name": "stdout",
          "output_type": "stream",
          "text": [
            "2152\n",
            "RMSE of Linear Regression model is 15920132027.433197\n"
          ]
        }
      ],
      "source": [
        "y_pred_lin[y_pred_lin<0] = 0\n",
        "lin_reg_rmse = np.sqrt(mean_squared_error(y_test, y_pred_lin))\n",
        "print(f\"RMSE of Linear Regression model is {lin_reg_rmse}\")"
      ]
    },
    {
      "cell_type": "code",
      "execution_count": 23,
      "metadata": {},
      "outputs": [
        {
          "name": "stdout",
          "output_type": "stream",
          "text": [
            "13387383335.035881\n"
          ]
        }
      ],
      "source": [
        "y_pred_lin = y_pred_lin*X_test.sell_price\n",
        "lin_reg_rmse_turnover = np.sqrt(mean_squared_error(turnover_test, y_pred_lin))\n",
        "\n",
        "print(lin_reg_rmse_turnover) "
      ]
    },
    {
      "cell_type": "code",
      "execution_count": 24,
      "metadata": {},
      "outputs": [
        {
          "name": "stdout",
          "output_type": "stream",
          "text": [
            "[-7.46246206e-01  3.33916431e-01  5.00502555e-01 -2.38207894e-01\n",
            "  4.21513033e-02 -3.26569472e-05 -5.05866088e-03  3.14339240e-01\n",
            "  2.18359546e-03 -5.06666889e-03  2.36180173e-01 -6.95527488e-02\n",
            "  1.59968902e-02  9.83767574e+10  1.55624458e+11  9.06113795e+10\n",
            "  1.13968244e+11  1.48512671e+11  1.94573739e+11  1.41518983e+11\n",
            "  1.25200450e+11  1.66624883e+11  1.53877672e+11 -1.34369093e+11\n",
            " -7.71213932e+10 -1.42134471e+11 -1.18777607e+11 -8.42331794e+10\n",
            " -3.81721119e+10 -9.12268676e+10 -1.07545400e+11 -6.61209679e+10\n",
            " -7.88681790e+10 -4.32184017e+10  1.40292984e+10 -5.09837796e+10\n",
            " -2.76269152e+10  6.91751220e+09  5.29785797e+10 -7.61759535e+07\n",
            " -1.63947087e+10  2.50297237e+10  1.22825127e+10 -3.15701442e+10\n",
            "  2.56775560e+10 -3.93355221e+10 -1.59786577e+10  1.85657697e+10\n",
            "  6.46268372e+10  1.15720816e+10 -4.74645119e+09  3.66779812e+10\n",
            "  2.39307702e+10 -2.93469537e+10  2.79007464e+10 -3.71123316e+10\n",
            " -1.24000006e+10  2.07889602e+10  6.68500277e+10  1.37952721e+10\n",
            " -2.52326071e+09  3.89011717e+10  2.61539607e+10 -1.74578354e+09\n",
            "  5.55019166e+10 -9.51116142e+09  1.38457030e+10  4.83901304e+10\n",
            "  9.44511979e+10  4.13964423e+10  2.50779095e+10  6.65023419e+10\n",
            "  5.37551309e+10 -8.97923041e+10 -3.25446040e+10 -9.75576820e+10\n",
            " -7.42008176e+10 -3.96563902e+10  6.40467733e+09 -4.66500783e+10\n",
            " -6.29686111e+10 -2.15441787e+10 -3.42913897e+10 -1.80591007e+11\n",
            " -1.23343307e+11 -1.88356385e+11 -1.64999520e+11 -1.30455093e+11\n",
            " -8.43940256e+10 -1.37448781e+11 -1.53767314e+11 -1.12342882e+11\n",
            " -1.25090093e+11  4.68126048e+10  1.04060305e+11  3.90472269e+10\n",
            "  6.24040914e+10  9.69485188e+10  1.43009586e+11  8.99548306e+10\n",
            "  7.36362979e+10  1.15060730e+11  1.02313519e+11 -6.76768071e+10\n",
            " -1.04291069e+10 -7.54421850e+10 -5.20853206e+10 -1.75408932e+10\n",
            "  2.85201743e+10 -2.45345813e+10 -4.08531141e+10  5.71318341e+08\n",
            " -1.21758927e+10 -2.33291030e+10  1.11012215e+10 -3.10944809e+10\n",
            " -7.73761652e+09  2.68068109e+10  7.28678784e+10  1.98131227e+10\n",
            "  3.49458998e+09  4.49190224e+10  3.21718114e+10  1.14747481e+11\n",
            "  5.33610007e+10  1.06982103e+11  1.30338967e+11  1.64883395e+11\n",
            "  2.10944462e+11  5.66753493e+10  1.41571174e+11  1.82995606e+11\n",
            "  1.70248395e+11 -7.91952767e+10 -6.80917129e+09 -8.69606546e+10\n",
            " -6.36037902e+10 -2.90593628e+10  1.70017047e+10 -3.60530509e+10\n",
            " -5.23715837e+10 -1.09471513e+10 -2.36943623e+10 -5.28828598e+10\n",
            "  3.57716171e+09 -6.06482377e+10 -3.72913733e+10 -2.74694586e+09\n",
            "  4.33141217e+10 -9.74063401e+09 -2.60591668e+10  1.53652657e+10\n",
            "  2.61805460e+09 -8.17481642e+10  1.13815033e+11 -8.95135421e+10\n",
            " -2.17005942e+10 -3.16122503e+10  1.44488172e+10 -3.86059384e+10\n",
            " -5.49244712e+10 -1.35000388e+10 -2.62472498e+10  4.18137689e+10\n",
            "  3.07335304e+10  3.40483911e+10  5.74052555e+10  9.19496829e+10\n",
            "  1.38010750e+11  8.49559947e+10  6.86374620e+10  1.10061894e+11\n",
            "  9.73146833e+10  1.20995000e+10  2.26966530e+10  4.33412210e+09\n",
            "  2.76909865e+10  6.22354139e+10  1.08296481e+11  5.52417258e+10\n",
            "  3.89231930e+10  8.03476254e+10  6.76004144e+10 -1.74752748e+10\n",
            "  1.23392784e+10 -2.52406527e+10 -1.88378830e+09  3.26606391e+10\n",
            "  7.87217066e+10  2.56669510e+10  9.34841821e+09  5.07728506e+10\n",
            "  3.80256396e+10  6.17529262e+10  3.69195955e+10  5.39875483e+10\n",
            "  7.73444127e+10  1.11888840e+11  1.57949908e+11  1.04895152e+11\n",
            "  8.85766192e+10  1.30001052e+11  1.17253841e+11 -8.93857878e+10\n",
            " -1.05184784e+10 -9.71511657e+10 -7.37943013e+10 -3.92498739e+10\n",
            "  6.81119361e+09 -4.62435621e+10 -6.25620948e+10 -2.11376624e+10\n",
            " -3.38848734e+10 -6.41694921e+09  1.57700915e+10 -1.41823271e+10\n",
            "  9.17453731e+09  4.37189647e+10  8.97800322e+10  3.67252766e+10\n",
            "  2.04067438e+10  6.18311762e+10  4.90839652e+10 -8.69249800e+10\n",
            " -3.05733374e+10 -9.64468202e+10 -7.44303324e+10 -4.05710903e+10\n",
            "  1.50146068e+09 -4.75654831e+10 -6.06467152e+10 -2.41828609e+10\n",
            " -3.63592859e+10  5.08299638e+10  1.08077664e+11  4.30645859e+10\n",
            "  6.64214503e+10  1.00965878e+11  1.47026945e+11  9.39721896e+10\n",
            "  7.76536568e+10  1.19078089e+11  1.06330878e+11 -8.44559489e+10\n",
            " -2.72082487e+10 -9.22213268e+10 -6.88644624e+10 -3.43200350e+10\n",
            "  1.17410326e+10 -4.13137231e+10 -5.76322559e+10 -1.62078234e+10\n",
            " -2.89550345e+10 -2.88096347e+09  5.43667367e+10 -1.06463414e+10\n",
            "  1.27105231e+10  4.72549505e+10  9.33160180e+10  4.02612623e+10\n",
            "  2.39427296e+10  6.53671620e+10  5.26199509e+10 -4.93988750e+10\n",
            "  7.84882520e+09 -5.71642529e+10 -3.38073885e+10  7.37038972e+08\n",
            "  4.67981065e+10 -6.25664918e+09 -2.25751819e+10  1.88492505e+10\n",
            "  6.10203944e+09 -2.62456117e+10  2.36685144e+10 -3.42664221e+10\n",
            " -1.21160401e+10  1.93597785e+10  6.39369991e+10  1.39268881e+10\n",
            " -1.44627147e+09  3.68976434e+10  2.54198502e+10 -1.49586389e+10\n",
            "  4.22890613e+10 -2.27240168e+10  6.32847654e+08  3.51772751e+10\n",
            "  8.12383426e+10  1.98898305e+10  1.18650542e+10  5.32894866e+10\n",
            "  4.05422755e+10  1.25290103e+10  6.97767104e+10  4.76363238e+09\n",
            "  2.81204968e+10  6.26649242e+10  1.08725992e+11  5.56712361e+10\n",
            "  3.93527033e+10  8.07771357e+10  6.80299247e+10  8.39746423e+10\n",
            "  1.41222342e+11  7.62092644e+10  9.95661288e+10  1.34110556e+11\n",
            "  1.80171624e+11  1.27116868e+11  1.10798335e+11  1.52222768e+11\n",
            "  1.39475557e+11  5.72919950e+10 -7.77138627e+09  7.08418155e+09\n",
            "  5.01747061e+10  9.62714129e+10  4.31756066e+10  2.68444476e+10\n",
            "  6.83009318e+10  5.55438577e+10 -3.28378952e+10  2.44540998e+10\n",
            " -4.06092815e+10 -1.72343450e+10  1.73368109e+10  6.34335177e+10\n",
            "  1.03377114e+10 -5.99344764e+09  3.54630365e+10  2.27059624e+10\n",
            " -2.82463811e+10  2.90456139e+10 -3.60177673e+10 -1.26428308e+10\n",
            "  2.19283250e+10  6.80250318e+10  1.49292256e+10 -1.40193348e+09\n",
            "  4.00545507e+10  2.72974766e+10 -8.70769592e+10 -2.97849642e+10\n",
            " -9.48483454e+10 -7.14734089e+10 -3.69022531e+10  9.19445373e+09\n",
            " -4.39013525e+10 -6.02325116e+10 -1.87760274e+10 -3.15331015e+10\n",
            " -4.92490748e+10  8.04292021e+09 -5.70204611e+10 -3.36455245e+10\n",
            "  9.25631312e+08  4.70223381e+10 -6.07346814e+09 -2.24046272e+10\n",
            "  1.90518570e+10  6.29478289e+09 -3.91880912e+10  1.81039038e+10\n",
            " -4.69594775e+10 -2.35845409e+10  1.09866149e+10  5.70833217e+10\n",
            "  3.98751543e+09 -1.23436436e+10  2.91128405e+10  1.63557665e+10\n",
            " -1.33859131e+11 -7.65671356e+10 -1.41630517e+11 -1.18255580e+11\n",
            " -8.36844245e+10 -3.75877177e+10 -9.06835239e+10 -1.07014683e+11\n",
            " -6.55581988e+10 -7.83152729e+10 -5.80940545e+10 -8.02059475e+08\n",
            " -6.58654407e+10 -4.24905042e+10 -7.91934837e+09  3.81773584e+10\n",
            " -1.49184478e+10 -3.12496069e+10  1.02068773e+10 -2.55019679e+09\n",
            " -1.29845405e+10  4.43074545e+10 -2.07559267e+10  2.61900981e+09\n",
            "  3.71901656e+10  8.32868724e+10  3.01910662e+10  1.38599071e+10\n",
            "  5.53163913e+10  4.25593172e+10 -1.75786998e+11 -1.18495003e+11\n",
            " -1.83558384e+11 -1.60183448e+11 -1.25612292e+11 -7.95155849e+10\n",
            " -1.32611391e+11 -1.48942550e+11 -1.07486066e+11 -1.20243140e+11\n",
            " -4.42603558e+10  1.30316392e+10 -5.20317421e+10 -2.86568055e+10\n",
            "  5.91435030e+09  5.20110571e+10 -1.08474915e+09 -1.74159082e+10\n",
            "  2.40405760e+10  1.12835019e+10 -3.61995941e+10  2.10924009e+10\n",
            " -4.39709803e+10 -2.05960438e+10  1.39751120e+10  6.00718188e+10\n",
            "  6.97601258e+09 -9.35514648e+09  3.21013377e+10  1.93442636e+10\n",
            " -3.26695288e+10  2.46224662e+10 -4.04409151e+10 -1.70659785e+10\n",
            "  1.75051773e+10  6.36018841e+10  1.05060779e+10 -5.82508120e+09\n",
            "  3.56314030e+10  2.28743289e+10 -2.72311590e+10  3.00608360e+10\n",
            " -3.50025453e+10 -1.16276088e+10  2.29435471e+10  6.90402538e+10\n",
            "  1.59444476e+10 -3.86711453e+08  4.10697727e+10  2.83126986e+10\n",
            "  1.81695143e+11  2.38987138e+11  1.73923757e+11  1.97298693e+11\n",
            "  2.31869849e+11  2.77966556e+11  2.24870750e+11  2.08539591e+11\n",
            "  2.49996075e+11  2.37239001e+11 -2.71448504e+10  3.01471446e+10\n",
            " -3.49162367e+10 -1.15413002e+10  2.30298557e+10  6.91265625e+10\n",
            "  1.60307562e+10 -3.00402850e+08  4.11560813e+10  2.83990072e+10\n",
            " -3.67308602e+10  2.05611348e+10 -4.45022465e+10 -2.11273099e+10\n",
            "  1.34438459e+10  5.95405527e+10  6.44474643e+09 -9.88641263e+09\n",
            "  3.15700715e+10  1.88129975e+10 -3.18580294e+10  2.54339656e+10\n",
            " -3.96294156e+10 -1.62419121e+10  1.83166767e+10  6.44133835e+10\n",
            "  1.13175773e+10 -5.01358177e+09  3.64429024e+10  2.36858283e+10\n",
            " -3.31145797e+10  2.41774153e+10 -4.08859659e+10 -1.75110294e+10\n",
            "  1.70601264e+10  6.31568332e+10  1.00610270e+10 -6.27013206e+09\n",
            "  3.51863521e+10  2.24292780e+10 -1.20501302e+11 -6.32093074e+10\n",
            " -1.28272689e+11 -1.04897752e+11 -7.03265963e+10 -2.42298895e+10\n",
            " -7.73256957e+10 -9.36568548e+10 -5.22003706e+10 -6.49574447e+10\n",
            " -3.20581692e+10  2.52338258e+10 -3.98295555e+10 -1.64546189e+10\n",
            "  1.81165369e+10  6.42132437e+10  1.11174374e+10 -5.21372163e+09\n",
            "  3.62427625e+10  2.34856885e+10 -9.24132198e+10 -3.51212248e+10\n",
            " -1.00184606e+11 -7.68096695e+10 -4.22385137e+10  3.85819308e+09\n",
            " -4.92376132e+10 -6.55687722e+10 -2.41122881e+10 -3.68693621e+10\n",
            "  4.77913217e+10  1.05083317e+11  4.00199354e+10  6.33948719e+10\n",
            "  9.79660278e+10  1.44062735e+11  9.09669283e+10  7.46357692e+10\n",
            "  1.16092253e+11  1.03335179e+11 -1.75395441e+11 -1.24432355e+11\n",
            " -1.82308341e+11 -1.61515578e+11 -1.30763415e+11 -8.97589003e+10\n",
            " -1.36989340e+11 -1.51516435e+11 -1.14639550e+11 -1.25987380e+11\n",
            " -1.46507334e+10  4.26412616e+10 -2.24221197e+10  9.52816842e+08\n",
            "  3.55239727e+10  8.16206795e+10  2.85248732e+10  1.21937142e+10\n",
            "  5.36501983e+10  4.08931242e+10  5.74270960e+10  1.14719091e+11\n",
            "  4.96557098e+10  7.30306463e+10  1.07601802e+11  1.53698509e+11\n",
            "  1.00602703e+11  8.42715436e+10  1.25728028e+11  1.12970954e+11\n",
            " -5.40656361e+10 -2.39387539e+09 -6.10724803e+10 -3.97299273e+10\n",
            " -8.82707286e+09  3.25159798e+10 -1.51376071e+10 -2.98621213e+10\n",
            "  7.51591087e+09 -3.98613363e+09 -8.94295117e+10 -3.21375167e+10\n",
            " -9.72008979e+10 -7.38259614e+10 -3.92548056e+10  6.84190123e+09\n",
            " -4.62539050e+10 -6.25850641e+10 -2.11285799e+10 -3.38856540e+10\n",
            " -8.93839207e+10 -3.20919257e+10 -9.71553069e+10 -7.37803704e+10\n",
            " -3.92092146e+10  6.88749221e+09 -4.62083140e+10 -6.25394731e+10\n",
            " -2.10829889e+10 -3.38400630e+10  2.13526461e+11  2.64489547e+11\n",
            "  2.09421381e+11  2.09592381e+11  2.59918586e+11  3.03228542e+11\n",
            "  2.55356254e+11  2.32481724e+11  2.78009772e+11  2.62934523e+11\n",
            " -7.43963884e+09  4.98523562e+10 -1.52110251e+10  8.15759958e+09\n",
            "  4.27020270e+10  8.88317740e+10  3.57359678e+10  1.94048087e+10\n",
            "  6.08612929e+10  4.81042188e+10  1.83025876e+11  2.40317871e+11\n",
            "  1.75254490e+11  1.98629427e+11  2.33020285e+11  2.79081353e+11\n",
            "  2.26026597e+11  2.09708064e+11  2.51132497e+11  2.38385286e+11\n",
            "  4.96795712e+10  1.06927271e+11  4.19141933e+10  6.52710577e+10\n",
            "  9.98927163e+10  1.45876553e+11  9.28217970e+10  7.65032642e+10\n",
            "  1.17927697e+11  1.05180486e+11  4.56178955e+09  6.18094897e+10\n",
            " -3.20358833e+09  2.01532761e+10  5.46977035e+10  1.00758771e+11\n",
            "  4.77040153e+10  3.13854826e+10  7.28099150e+10  6.00627040e+10\n",
            " -1.72741523e+11 -1.15493823e+11 -1.80506901e+11 -1.57150037e+11\n",
            " -1.22605609e+11 -7.66037674e+10 -1.29699574e+11 -1.46030733e+11\n",
            " -1.04493398e+11 -1.17240609e+11  6.41378843e+10  1.21385585e+11\n",
            "  5.63725065e+10  7.97293709e+10  1.14273798e+11  1.60334866e+11\n",
            "  1.07280110e+11  9.09615774e+10  1.32386010e+11  1.19638799e+11\n",
            "  7.49238755e+08  4.41219621e+10 -5.13406460e+09  1.24425616e+10\n",
            "  3.83659997e+10  7.36312069e+10  3.34351950e+10  2.08716320e+10\n",
            "  5.24562428e+10  4.23920979e+10 -6.75132233e+10 -1.02655231e+10\n",
            " -7.52786012e+10 -5.19217368e+10 -1.73773093e+10  2.86837582e+10\n",
            " -2.43709975e+10 -4.06895303e+10  7.34902172e+08 -1.20123089e+10\n",
            "  5.54277334e+10  1.12675434e+11  4.76623555e+10  7.10192199e+10\n",
            "  1.05563647e+11  1.51624715e+11  5.70697907e+10  8.22514264e+10\n",
            "  1.23675859e+11  1.10928648e+11 -6.49628185e+11 -5.92380485e+11\n",
            " -6.57393563e+11 -6.34036698e+11 -5.99492271e+11 -5.53431203e+11\n",
            " -6.06485959e+11 -6.22804492e+11 -5.81380059e+11 -5.94127270e+11\n",
            " -5.15698288e+11  2.15366540e+11 -7.09417422e+10 -1.07529425e+11\n",
            " -1.13449405e+11 -2.01209037e+11  7.53489082e+10  3.60551578e+11\n",
            " -3.53733045e+11  5.88317147e+09  8.77794638e+10 -3.10380584e+11\n",
            "  2.55201598e+11  1.81733841e+11  2.46712025e+11 -1.07555249e+11\n",
            " -1.84896822e+10  7.01794524e+10 -1.67328184e+11  2.85918450e+11\n",
            "  1.33872747e+11  3.81176339e+11 -3.95438977e+10  3.85395031e+11\n",
            "  1.29164458e+11  2.75279239e+11  1.93151469e+11  1.62911576e+11\n",
            "  8.07610611e+10 -1.43652772e+11  1.03144169e+11  8.87221754e+10\n",
            "  2.73509630e+11  1.54691854e+11  1.23090200e+11  4.20452915e+11\n",
            "  1.82474027e+11  4.07845761e+10  5.52148781e+11  2.13720861e+11\n",
            "  1.88401925e+11  1.77313954e+11  1.60231978e+11 -4.96007701e+11\n",
            "  1.59960882e+11  1.90070638e+11  1.74751703e+11  1.78711863e+11\n",
            "  4.53194464e+11 -1.76801355e+11  1.27744843e+10 -4.27609432e+11\n",
            "  3.04508777e+11 -2.31478291e+11 -4.57875499e+11 -8.03190111e+10\n",
            "  3.40262613e+09  3.25942437e+09 -9.15719369e+11 -8.45652270e+10\n",
            " -6.82519885e+11 -2.63929624e+11 -1.22192563e+11  4.34824407e+11\n",
            " -3.09323665e+11 -8.40005960e+10  1.04198183e+11 -2.72562935e+11\n",
            "  1.93264656e+12  5.22625189e+11 -1.33190242e+11 -4.29349118e+11\n",
            " -2.19582649e+11  4.11124559e+11 -7.46713873e+10  1.17589697e+11\n",
            "  4.97113501e+11 -4.20070931e+11  6.10873440e+10 -1.20936924e+11\n",
            " -2.38616613e+11 -6.00954170e+11 -1.81394952e+11  3.58829873e+10\n",
            " -2.89782419e+11 -1.89575180e+11 -2.35934190e+11 -3.75701270e+11\n",
            "  8.11767578e-03  4.64477539e-02  4.83093262e-02 -1.17950439e-02\n",
            " -1.09367371e-02 -1.52893066e-02 -6.48498535e-03  1.07795715e-01\n",
            "  2.17582703e-01 -5.24826050e-02  8.12911987e-02  5.13305664e-02\n",
            " -3.42178345e-02  2.15911865e-02  1.51916504e-01  1.23762131e-01\n",
            "  1.00702286e-01 -8.16345215e-03 -1.44195557e-02 -5.72204590e-04\n",
            " -9.14382935e-03]\n",
            "RMSE of Poisson Regression model is 1.132163951694151\n"
          ]
        }
      ],
      "source": [
        "from sklearn.linear_model import PoissonRegressor\n",
        "\n",
        "#Poisson Regression model\n",
        "pois_reg = PoissonRegressor()\n",
        "\n",
        "pois_reg.fit(X_train, y_train)\n",
        "y_pred_pois = pois_reg.predict(X_test)\n",
        "\n",
        "pois_reg_rmse = np.sqrt(mean_squared_error(y_test, y_pred_pois))\n",
        "print(lin_reg.coef_)\n",
        "\n",
        "print(f\"RMSE of Poisson Regression model is {pois_reg_rmse}\")"
      ]
    },
    {
      "cell_type": "code",
      "execution_count": 43,
      "metadata": {},
      "outputs": [
        {
          "data": {
            "text/html": [
              "<div>\n",
              "<style scoped>\n",
              "    .dataframe tbody tr th:only-of-type {\n",
              "        vertical-align: middle;\n",
              "    }\n",
              "\n",
              "    .dataframe tbody tr th {\n",
              "        vertical-align: top;\n",
              "    }\n",
              "\n",
              "    .dataframe thead th {\n",
              "        text-align: right;\n",
              "    }\n",
              "</style>\n",
              "<table border=\"1\" class=\"dataframe\">\n",
              "  <thead>\n",
              "    <tr style=\"text-align: right;\">\n",
              "      <th></th>\n",
              "      <th>Coefficients</th>\n",
              "    </tr>\n",
              "  </thead>\n",
              "  <tbody>\n",
              "    <tr>\n",
              "      <th>id_HOUSEHOLD_2_389_CA_2_validation</th>\n",
              "      <td>-0.035506</td>\n",
              "    </tr>\n",
              "    <tr>\n",
              "      <th>dept_id_HOBBIES_2</th>\n",
              "      <td>-0.024155</td>\n",
              "    </tr>\n",
              "    <tr>\n",
              "      <th>item_id_HOUSEHOLD_1_144</th>\n",
              "      <td>-0.022779</td>\n",
              "    </tr>\n",
              "    <tr>\n",
              "      <th>store_id_WI_3</th>\n",
              "      <td>-0.019514</td>\n",
              "    </tr>\n",
              "    <tr>\n",
              "      <th>item_id_HOBBIES_1_406</th>\n",
              "      <td>-0.018746</td>\n",
              "    </tr>\n",
              "    <tr>\n",
              "      <th>...</th>\n",
              "      <td>...</td>\n",
              "    </tr>\n",
              "    <tr>\n",
              "      <th>weekday_Saturday</th>\n",
              "      <td>0.027292</td>\n",
              "    </tr>\n",
              "    <tr>\n",
              "      <th>weekday_Sunday</th>\n",
              "      <td>0.027967</td>\n",
              "    </tr>\n",
              "    <tr>\n",
              "      <th>sales_month_max</th>\n",
              "      <td>0.048651</td>\n",
              "    </tr>\n",
              "    <tr>\n",
              "      <th>sales_week_avg</th>\n",
              "      <td>0.071717</td>\n",
              "    </tr>\n",
              "    <tr>\n",
              "      <th>sales_month_avg</th>\n",
              "      <td>0.108314</td>\n",
              "    </tr>\n",
              "  </tbody>\n",
              "</table>\n",
              "<p>821 rows × 1 columns</p>\n",
              "</div>"
            ],
            "text/plain": [
              "                                    Coefficients\n",
              "id_HOUSEHOLD_2_389_CA_2_validation     -0.035506\n",
              "dept_id_HOBBIES_2                      -0.024155\n",
              "item_id_HOUSEHOLD_1_144                -0.022779\n",
              "store_id_WI_3                          -0.019514\n",
              "item_id_HOBBIES_1_406                  -0.018746\n",
              "...                                          ...\n",
              "weekday_Saturday                        0.027292\n",
              "weekday_Sunday                          0.027967\n",
              "sales_month_max                         0.048651\n",
              "sales_week_avg                          0.071717\n",
              "sales_month_avg                         0.108314\n",
              "\n",
              "[821 rows x 1 columns]"
            ]
          },
          "execution_count": 43,
          "metadata": {},
          "output_type": "execute_result"
        }
      ],
      "source": [
        "pd.DataFrame(pois_reg.coef_, columns=[\"Coefficients\"], index=X_train.columns).sort_values(by = 'Coefficients')"
      ]
    },
    {
      "cell_type": "code",
      "execution_count": 44,
      "metadata": {},
      "outputs": [
        {
          "name": "stdout",
          "output_type": "stream",
          "text": [
            "Importance of features:\n",
            "Reference category \n",
            " event_type = None \n",
            " weekday = Friday \n",
            " store_id = CA_1 \n",
            " dept_id = FOODS_1 \n",
            "\n"
          ]
        },
        {
          "data": {
            "image/png": "[encoded data removed]",
            "text/plain": [
              "<Figure size 900x1200 with 1 Axes>"
            ]
          },
          "metadata": {},
          "output_type": "display_data"
        }
      ],
      "source": [
        "print(\"Importance of features:\")\n",
        "print(\"Reference category \\n event_type = None \\n weekday = Friday \\n store_id = CA_1 \\n dept_id = FOODS_1 \\n\")\n",
        "\n",
        "coefs = pd.DataFrame(lin_reg.coef_, columns=[\"Coefficients\"], index=X_train.columns)\n",
        "coefs['Absolute_Coefficients'] = coefs['Coefficients'].abs()  \n",
        "coefs = coefs.sort_values(by=\"Absolute_Coefficients\", ascending=True) \n",
        "coefs.drop(columns=[\"Absolute_Coefficients\"], inplace=True)  \n",
        "coefs.plot(kind=\"barh\", figsize=(9, 12))\n",
        "plt.axvline(x=0, color=\".5\")\n",
        "plt.subplots_adjust(left=0.3)\n",
        "plt.show()"
      ]
    },
    {
      "cell_type": "code",
      "execution_count": null,
      "metadata": {
        "id": "_JI5s22LCA8y"
      },
      "outputs": [],
      "source": [
        "with open('../models/lin_reg_model.pkl', 'wb') as file:\n",
        "    pickle.dump(lin_reg, file)"
      ]
    },
    {
      "cell_type": "markdown",
      "metadata": {},
      "source": [
        "### Lasso regression"
      ]
    },
    {
      "cell_type": "code",
      "execution_count": 46,
      "metadata": {},
      "outputs": [
        {
          "name": "stdout",
          "output_type": "stream",
          "text": [
            "0.01\n",
            "1.0812934858815548\n"
          ]
        }
      ],
      "source": [
        "alpha = 0.01\n",
        "print(alpha)\n",
        "lasso = Lasso(alpha=alpha)\n",
        "lasso.fit(X_train, y_train)\n",
        "y_pred_lasso = lasso.predict(X_test)\n",
        "lasso_rmse = np.sqrt(mean_squared_error(y_test, y_pred_lasso))\n",
        "\n",
        "print(lasso_rmse)"
      ]
    },
    {
      "cell_type": "code",
      "execution_count": 17,
      "metadata": {},
      "outputs": [],
      "source": [
        "coefs_lasso = pd.DataFrame(lasso.coef_, columns=[\"Coefficients\"], index=X_train.columns).sort_values(by = 'Coefficients',ascending=False)"
      ]
    },
    {
      "cell_type": "code",
      "execution_count": 18,
      "metadata": {},
      "outputs": [
        {
          "data": {
            "text/plain": [
              "9"
            ]
          },
          "execution_count": 18,
          "metadata": {},
          "output_type": "execute_result"
        }
      ],
      "source": [
        "len(coefs_lasso) - len(coefs_lasso[coefs_lasso.Coefficients == 0])"
      ]
    },
    {
      "cell_type": "code",
      "execution_count": null,
      "metadata": {},
      "outputs": [],
      "source": [
        "y_pred_lasso = y_pred_lasso*X_test.sell_price\n",
        "lin_reg_rmse_turnover = np.sqrt(mean_squared_error(turnover_test, y_pred_lasso))\n",
        "\n",
        "print(lin_reg_rmse_turnover) "
      ]
    },
    {
      "cell_type": "code",
      "execution_count": null,
      "metadata": {},
      "outputs": [],
      "source": [
        "#Lasso Regression model\n",
        "sequence = [i /10000.0 for i in range(1, 10)]\n",
        "RMSE = pd.DataFrame(index=sequence)\n",
        "\n",
        "for alpha in sequence:\n",
        "    print(alpha)\n",
        "    lasso = Lasso(alpha=alpha)\n",
        "    lasso.fit(X_train, y_train)\n",
        "    y_pred_lasso = lasso.predict(X_test)\n",
        "    lasso_rmse = np.sqrt(mean_squared_error(y_test, y_pred_lasso))\n",
        "    RMSE.loc[alpha,'RMSE'] = lasso_rmse\n",
        "    "
      ]
    },
    {
      "cell_type": "code",
      "execution_count": 307,
      "metadata": {},
      "outputs": [
        {
          "data": {
            "text/html": [
              "<div>\n",
              "<style scoped>\n",
              "    .dataframe tbody tr th:only-of-type {\n",
              "        vertical-align: middle;\n",
              "    }\n",
              "\n",
              "    .dataframe tbody tr th {\n",
              "        vertical-align: top;\n",
              "    }\n",
              "\n",
              "    .dataframe thead th {\n",
              "        text-align: right;\n",
              "    }\n",
              "</style>\n",
              "<table border=\"1\" class=\"dataframe\">\n",
              "  <thead>\n",
              "    <tr style=\"text-align: right;\">\n",
              "      <th></th>\n",
              "      <th>RMSE</th>\n",
              "    </tr>\n",
              "  </thead>\n",
              "  <tbody>\n",
              "    <tr>\n",
              "      <th>0.01</th>\n",
              "      <td>4.500777</td>\n",
              "    </tr>\n",
              "    <tr>\n",
              "      <th>0.02</th>\n",
              "      <td>4.503627</td>\n",
              "    </tr>\n",
              "    <tr>\n",
              "      <th>0.03</th>\n",
              "      <td>4.506558</td>\n",
              "    </tr>\n",
              "    <tr>\n",
              "      <th>0.04</th>\n",
              "      <td>NaN</td>\n",
              "    </tr>\n",
              "    <tr>\n",
              "      <th>0.05</th>\n",
              "      <td>NaN</td>\n",
              "    </tr>\n",
              "    <tr>\n",
              "      <th>0.06</th>\n",
              "      <td>NaN</td>\n",
              "    </tr>\n",
              "    <tr>\n",
              "      <th>0.07</th>\n",
              "      <td>NaN</td>\n",
              "    </tr>\n",
              "    <tr>\n",
              "      <th>0.08</th>\n",
              "      <td>NaN</td>\n",
              "    </tr>\n",
              "    <tr>\n",
              "      <th>0.09</th>\n",
              "      <td>NaN</td>\n",
              "    </tr>\n",
              "  </tbody>\n",
              "</table>\n",
              "</div>"
            ],
            "text/plain": [
              "          RMSE\n",
              "0.01  4.500777\n",
              "0.02  4.503627\n",
              "0.03  4.506558\n",
              "0.04       NaN\n",
              "0.05       NaN\n",
              "0.06       NaN\n",
              "0.07       NaN\n",
              "0.08       NaN\n",
              "0.09       NaN"
            ]
          },
          "execution_count": 307,
          "metadata": {},
          "output_type": "execute_result"
        }
      ],
      "source": [
        "RMSE"
      ]
    },
    {
      "cell_type": "code",
      "execution_count": 16,
      "metadata": {},
      "outputs": [
        {
          "data": {
            "text/plain": [
              "<matplotlib.collections.PathCollection at 0x1e5c50968e0>"
            ]
          },
          "execution_count": 16,
          "metadata": {},
          "output_type": "execute_result"
        },
        {
          "data": {
            "image/png": "[encoded data removed]",
            "text/plain": [
              "<Figure size 640x480 with 1 Axes>"
            ]
          },
          "metadata": {},
          "output_type": "display_data"
        }
      ],
      "source": [
        "plt.title(\"RMSE for different values of lambda hyperparameter\")\n",
        "plt.xlabel(\"Lambda hyperparameter\")\n",
        "plt.ylabel(\"RMSE\")\n",
        "plt.scatter(sequence, RMSE['RMSE'])"
      ]
    },
    {
      "cell_type": "markdown",
      "metadata": {},
      "source": [
        "### Random Forest Regression"
      ]
    },
    {
      "cell_type": "code",
      "execution_count": 47,
      "metadata": {
        "colab": {
          "base_uri": "https://localhost:8080/"
        },
        "id": "Y47ObQiAZmAM",
        "outputId": "f503f0c7-5bde-47ef-fcf5-0cd7aafc3e4c"
      },
      "outputs": [
        {
          "ename": "KeyboardInterrupt",
          "evalue": "",
          "output_type": "error",
          "traceback": [
            "\u001b[1;31m---------------------------------------------------------------------------\u001b[0m",
            "\u001b[1;31mKeyboardInterrupt\u001b[0m                         Traceback (most recent call last)",
            "\u001b[1;32mc:\\Users\\zavre\\Desktop\\github\\Data_X_TimeSeriesPrediction\\notebooks\\team1_project_codebase_bez_agregace_sales.ipynb Cell 88\u001b[0m line \u001b[0;36m2\n\u001b[0;32m     <a href='vscode-notebook-cell:/c%3A/Users/zavre/Desktop/github/Data_X_TimeSeriesPrediction/notebooks/team1_project_codebase_bez_agregace_sales.ipynb#Y145sZmlsZQ%3D%3D?line=17'>18</a>\u001b[0m \u001b[39mfor\u001b[39;00m max_features \u001b[39min\u001b[39;00m param_grid[\u001b[39m'\u001b[39m\u001b[39mmax_features\u001b[39m\u001b[39m'\u001b[39m]:\n\u001b[0;32m     <a href='vscode-notebook-cell:/c%3A/Users/zavre/Desktop/github/Data_X_TimeSeriesPrediction/notebooks/team1_project_codebase_bez_agregace_sales.ipynb#Y145sZmlsZQ%3D%3D?line=18'>19</a>\u001b[0m     \u001b[39m# Create and train a Random Forest model with the current hyperparameters\u001b[39;00m\n\u001b[0;32m     <a href='vscode-notebook-cell:/c%3A/Users/zavre/Desktop/github/Data_X_TimeSeriesPrediction/notebooks/team1_project_codebase_bez_agregace_sales.ipynb#Y145sZmlsZQ%3D%3D?line=19'>20</a>\u001b[0m     rf \u001b[39m=\u001b[39m RandomForestRegressor(\n\u001b[0;32m     <a href='vscode-notebook-cell:/c%3A/Users/zavre/Desktop/github/Data_X_TimeSeriesPrediction/notebooks/team1_project_codebase_bez_agregace_sales.ipynb#Y145sZmlsZQ%3D%3D?line=20'>21</a>\u001b[0m         n_estimators\u001b[39m=\u001b[39mn_estimators,\n\u001b[0;32m     <a href='vscode-notebook-cell:/c%3A/Users/zavre/Desktop/github/Data_X_TimeSeriesPrediction/notebooks/team1_project_codebase_bez_agregace_sales.ipynb#Y145sZmlsZQ%3D%3D?line=21'>22</a>\u001b[0m         max_depth\u001b[39m=\u001b[39mmax_depth,\n\u001b[1;32m   (...)\u001b[0m\n\u001b[0;32m     <a href='vscode-notebook-cell:/c%3A/Users/zavre/Desktop/github/Data_X_TimeSeriesPrediction/notebooks/team1_project_codebase_bez_agregace_sales.ipynb#Y145sZmlsZQ%3D%3D?line=25'>26</a>\u001b[0m         random_state\u001b[39m=\u001b[39mSEED                        \n\u001b[0;32m     <a href='vscode-notebook-cell:/c%3A/Users/zavre/Desktop/github/Data_X_TimeSeriesPrediction/notebooks/team1_project_codebase_bez_agregace_sales.ipynb#Y145sZmlsZQ%3D%3D?line=26'>27</a>\u001b[0m     )\n\u001b[1;32m---> <a href='vscode-notebook-cell:/c%3A/Users/zavre/Desktop/github/Data_X_TimeSeriesPrediction/notebooks/team1_project_codebase_bez_agregace_sales.ipynb#Y145sZmlsZQ%3D%3D?line=27'>28</a>\u001b[0m     rf\u001b[39m.\u001b[39;49mfit(X_train, y_train)\n\u001b[0;32m     <a href='vscode-notebook-cell:/c%3A/Users/zavre/Desktop/github/Data_X_TimeSeriesPrediction/notebooks/team1_project_codebase_bez_agregace_sales.ipynb#Y145sZmlsZQ%3D%3D?line=29'>30</a>\u001b[0m     \u001b[39m# Evaluate the model on the validation set\u001b[39;00m\n\u001b[0;32m     <a href='vscode-notebook-cell:/c%3A/Users/zavre/Desktop/github/Data_X_TimeSeriesPrediction/notebooks/team1_project_codebase_bez_agregace_sales.ipynb#Y145sZmlsZQ%3D%3D?line=30'>31</a>\u001b[0m     y_pred_rf \u001b[39m=\u001b[39m rf\u001b[39m.\u001b[39mpredict(X_validation)\n",
            "File \u001b[1;32mc:\\Users\\zavre\\AppData\\Local\\Programs\\Python\\Python39\\lib\\site-packages\\sklearn\\ensemble\\_forest.py:473\u001b[0m, in \u001b[0;36mBaseForest.fit\u001b[1;34m(self, X, y, sample_weight)\u001b[0m\n\u001b[0;32m    462\u001b[0m trees \u001b[39m=\u001b[39m [\n\u001b[0;32m    463\u001b[0m     \u001b[39mself\u001b[39m\u001b[39m.\u001b[39m_make_estimator(append\u001b[39m=\u001b[39m\u001b[39mFalse\u001b[39;00m, random_state\u001b[39m=\u001b[39mrandom_state)\n\u001b[0;32m    464\u001b[0m     \u001b[39mfor\u001b[39;00m i \u001b[39min\u001b[39;00m \u001b[39mrange\u001b[39m(n_more_estimators)\n\u001b[0;32m    465\u001b[0m ]\n\u001b[0;32m    467\u001b[0m \u001b[39m# Parallel loop: we prefer the threading backend as the Cython code\u001b[39;00m\n\u001b[0;32m    468\u001b[0m \u001b[39m# for fitting the trees is internally releasing the Python GIL\u001b[39;00m\n\u001b[0;32m    469\u001b[0m \u001b[39m# making threading more efficient than multiprocessing in\u001b[39;00m\n\u001b[0;32m    470\u001b[0m \u001b[39m# that case. However, for joblib 0.12+ we respect any\u001b[39;00m\n\u001b[0;32m    471\u001b[0m \u001b[39m# parallel_backend contexts set at a higher level,\u001b[39;00m\n\u001b[0;32m    472\u001b[0m \u001b[39m# since correctness does not rely on using threads.\u001b[39;00m\n\u001b[1;32m--> 473\u001b[0m trees \u001b[39m=\u001b[39m Parallel(\n\u001b[0;32m    474\u001b[0m     n_jobs\u001b[39m=\u001b[39;49m\u001b[39mself\u001b[39;49m\u001b[39m.\u001b[39;49mn_jobs,\n\u001b[0;32m    475\u001b[0m     verbose\u001b[39m=\u001b[39;49m\u001b[39mself\u001b[39;49m\u001b[39m.\u001b[39;49mverbose,\n\u001b[0;32m    476\u001b[0m     prefer\u001b[39m=\u001b[39;49m\u001b[39m\"\u001b[39;49m\u001b[39mthreads\u001b[39;49m\u001b[39m\"\u001b[39;49m,\n\u001b[0;32m    477\u001b[0m )(\n\u001b[0;32m    478\u001b[0m     delayed(_parallel_build_trees)(\n\u001b[0;32m    479\u001b[0m         t,\n\u001b[0;32m    480\u001b[0m         \u001b[39mself\u001b[39;49m\u001b[39m.\u001b[39;49mbootstrap,\n\u001b[0;32m    481\u001b[0m         X,\n\u001b[0;32m    482\u001b[0m         y,\n\u001b[0;32m    483\u001b[0m         sample_weight,\n\u001b[0;32m    484\u001b[0m         i,\n\u001b[0;32m    485\u001b[0m         \u001b[39mlen\u001b[39;49m(trees),\n\u001b[0;32m    486\u001b[0m         verbose\u001b[39m=\u001b[39;49m\u001b[39mself\u001b[39;49m\u001b[39m.\u001b[39;49mverbose,\n\u001b[0;32m    487\u001b[0m         class_weight\u001b[39m=\u001b[39;49m\u001b[39mself\u001b[39;49m\u001b[39m.\u001b[39;49mclass_weight,\n\u001b[0;32m    488\u001b[0m         n_samples_bootstrap\u001b[39m=\u001b[39;49mn_samples_bootstrap,\n\u001b[0;32m    489\u001b[0m     )\n\u001b[0;32m    490\u001b[0m     \u001b[39mfor\u001b[39;49;00m i, t \u001b[39min\u001b[39;49;00m \u001b[39menumerate\u001b[39;49m(trees)\n\u001b[0;32m    491\u001b[0m )\n\u001b[0;32m    493\u001b[0m \u001b[39m# Collect newly grown trees\u001b[39;00m\n\u001b[0;32m    494\u001b[0m \u001b[39mself\u001b[39m\u001b[39m.\u001b[39mestimators_\u001b[39m.\u001b[39mextend(trees)\n",
            "File \u001b[1;32mc:\\Users\\zavre\\AppData\\Local\\Programs\\Python\\Python39\\lib\\site-packages\\sklearn\\utils\\parallel.py:63\u001b[0m, in \u001b[0;36mParallel.__call__\u001b[1;34m(self, iterable)\u001b[0m\n\u001b[0;32m     58\u001b[0m config \u001b[39m=\u001b[39m get_config()\n\u001b[0;32m     59\u001b[0m iterable_with_config \u001b[39m=\u001b[39m (\n\u001b[0;32m     60\u001b[0m     (_with_config(delayed_func, config), args, kwargs)\n\u001b[0;32m     61\u001b[0m     \u001b[39mfor\u001b[39;00m delayed_func, args, kwargs \u001b[39min\u001b[39;00m iterable\n\u001b[0;32m     62\u001b[0m )\n\u001b[1;32m---> 63\u001b[0m \u001b[39mreturn\u001b[39;00m \u001b[39msuper\u001b[39;49m()\u001b[39m.\u001b[39;49m\u001b[39m__call__\u001b[39;49m(iterable_with_config)\n",
            "File \u001b[1;32mc:\\Users\\zavre\\AppData\\Local\\Programs\\Python\\Python39\\lib\\site-packages\\joblib\\parallel.py:1088\u001b[0m, in \u001b[0;36mParallel.__call__\u001b[1;34m(self, iterable)\u001b[0m\n\u001b[0;32m   1085\u001b[0m \u001b[39mif\u001b[39;00m \u001b[39mself\u001b[39m\u001b[39m.\u001b[39mdispatch_one_batch(iterator):\n\u001b[0;32m   1086\u001b[0m     \u001b[39mself\u001b[39m\u001b[39m.\u001b[39m_iterating \u001b[39m=\u001b[39m \u001b[39mself\u001b[39m\u001b[39m.\u001b[39m_original_iterator \u001b[39mis\u001b[39;00m \u001b[39mnot\u001b[39;00m \u001b[39mNone\u001b[39;00m\n\u001b[1;32m-> 1088\u001b[0m \u001b[39mwhile\u001b[39;00m \u001b[39mself\u001b[39;49m\u001b[39m.\u001b[39;49mdispatch_one_batch(iterator):\n\u001b[0;32m   1089\u001b[0m     \u001b[39mpass\u001b[39;00m\n\u001b[0;32m   1091\u001b[0m \u001b[39mif\u001b[39;00m pre_dispatch \u001b[39m==\u001b[39m \u001b[39m\"\u001b[39m\u001b[39mall\u001b[39m\u001b[39m\"\u001b[39m \u001b[39mor\u001b[39;00m n_jobs \u001b[39m==\u001b[39m \u001b[39m1\u001b[39m:\n\u001b[0;32m   1092\u001b[0m     \u001b[39m# The iterable was consumed all at once by the above for loop.\u001b[39;00m\n\u001b[0;32m   1093\u001b[0m     \u001b[39m# No need to wait for async callbacks to trigger to\u001b[39;00m\n\u001b[0;32m   1094\u001b[0m     \u001b[39m# consumption.\u001b[39;00m\n",
            "File \u001b[1;32mc:\\Users\\zavre\\AppData\\Local\\Programs\\Python\\Python39\\lib\\site-packages\\joblib\\parallel.py:901\u001b[0m, in \u001b[0;36mParallel.dispatch_one_batch\u001b[1;34m(self, iterator)\u001b[0m\n\u001b[0;32m    899\u001b[0m     \u001b[39mreturn\u001b[39;00m \u001b[39mFalse\u001b[39;00m\n\u001b[0;32m    900\u001b[0m \u001b[39melse\u001b[39;00m:\n\u001b[1;32m--> 901\u001b[0m     \u001b[39mself\u001b[39;49m\u001b[39m.\u001b[39;49m_dispatch(tasks)\n\u001b[0;32m    902\u001b[0m     \u001b[39mreturn\u001b[39;00m \u001b[39mTrue\u001b[39;00m\n",
            "File \u001b[1;32mc:\\Users\\zavre\\AppData\\Local\\Programs\\Python\\Python39\\lib\\site-packages\\joblib\\parallel.py:819\u001b[0m, in \u001b[0;36mParallel._dispatch\u001b[1;34m(self, batch)\u001b[0m\n\u001b[0;32m    817\u001b[0m \u001b[39mwith\u001b[39;00m \u001b[39mself\u001b[39m\u001b[39m.\u001b[39m_lock:\n\u001b[0;32m    818\u001b[0m     job_idx \u001b[39m=\u001b[39m \u001b[39mlen\u001b[39m(\u001b[39mself\u001b[39m\u001b[39m.\u001b[39m_jobs)\n\u001b[1;32m--> 819\u001b[0m     job \u001b[39m=\u001b[39m \u001b[39mself\u001b[39;49m\u001b[39m.\u001b[39;49m_backend\u001b[39m.\u001b[39;49mapply_async(batch, callback\u001b[39m=\u001b[39;49mcb)\n\u001b[0;32m    820\u001b[0m     \u001b[39m# A job can complete so quickly than its callback is\u001b[39;00m\n\u001b[0;32m    821\u001b[0m     \u001b[39m# called before we get here, causing self._jobs to\u001b[39;00m\n\u001b[0;32m    822\u001b[0m     \u001b[39m# grow. To ensure correct results ordering, .insert is\u001b[39;00m\n\u001b[0;32m    823\u001b[0m     \u001b[39m# used (rather than .append) in the following line\u001b[39;00m\n\u001b[0;32m    824\u001b[0m     \u001b[39mself\u001b[39m\u001b[39m.\u001b[39m_jobs\u001b[39m.\u001b[39minsert(job_idx, job)\n",
            "File \u001b[1;32mc:\\Users\\zavre\\AppData\\Local\\Programs\\Python\\Python39\\lib\\site-packages\\joblib\\_parallel_backends.py:208\u001b[0m, in \u001b[0;36mSequentialBackend.apply_async\u001b[1;34m(self, func, callback)\u001b[0m\n\u001b[0;32m    206\u001b[0m \u001b[39mdef\u001b[39;00m \u001b[39mapply_async\u001b[39m(\u001b[39mself\u001b[39m, func, callback\u001b[39m=\u001b[39m\u001b[39mNone\u001b[39;00m):\n\u001b[0;32m    207\u001b[0m \u001b[39m    \u001b[39m\u001b[39m\"\"\"Schedule a func to be run\"\"\"\u001b[39;00m\n\u001b[1;32m--> 208\u001b[0m     result \u001b[39m=\u001b[39m ImmediateResult(func)\n\u001b[0;32m    209\u001b[0m     \u001b[39mif\u001b[39;00m callback:\n\u001b[0;32m    210\u001b[0m         callback(result)\n",
            "File \u001b[1;32mc:\\Users\\zavre\\AppData\\Local\\Programs\\Python\\Python39\\lib\\site-packages\\joblib\\_parallel_backends.py:597\u001b[0m, in \u001b[0;36mImmediateResult.__init__\u001b[1;34m(self, batch)\u001b[0m\n\u001b[0;32m    594\u001b[0m \u001b[39mdef\u001b[39;00m \u001b[39m__init__\u001b[39m(\u001b[39mself\u001b[39m, batch):\n\u001b[0;32m    595\u001b[0m     \u001b[39m# Don't delay the application, to avoid keeping the input\u001b[39;00m\n\u001b[0;32m    596\u001b[0m     \u001b[39m# arguments in memory\u001b[39;00m\n\u001b[1;32m--> 597\u001b[0m     \u001b[39mself\u001b[39m\u001b[39m.\u001b[39mresults \u001b[39m=\u001b[39m batch()\n",
            "File \u001b[1;32mc:\\Users\\zavre\\AppData\\Local\\Programs\\Python\\Python39\\lib\\site-packages\\joblib\\parallel.py:288\u001b[0m, in \u001b[0;36mBatchedCalls.__call__\u001b[1;34m(self)\u001b[0m\n\u001b[0;32m    284\u001b[0m \u001b[39mdef\u001b[39;00m \u001b[39m__call__\u001b[39m(\u001b[39mself\u001b[39m):\n\u001b[0;32m    285\u001b[0m     \u001b[39m# Set the default nested backend to self._backend but do not set the\u001b[39;00m\n\u001b[0;32m    286\u001b[0m     \u001b[39m# change the default number of processes to -1\u001b[39;00m\n\u001b[0;32m    287\u001b[0m     \u001b[39mwith\u001b[39;00m parallel_backend(\u001b[39mself\u001b[39m\u001b[39m.\u001b[39m_backend, n_jobs\u001b[39m=\u001b[39m\u001b[39mself\u001b[39m\u001b[39m.\u001b[39m_n_jobs):\n\u001b[1;32m--> 288\u001b[0m         \u001b[39mreturn\u001b[39;00m [func(\u001b[39m*\u001b[39margs, \u001b[39m*\u001b[39m\u001b[39m*\u001b[39mkwargs)\n\u001b[0;32m    289\u001b[0m                 \u001b[39mfor\u001b[39;00m func, args, kwargs \u001b[39min\u001b[39;00m \u001b[39mself\u001b[39m\u001b[39m.\u001b[39mitems]\n",
            "File \u001b[1;32mc:\\Users\\zavre\\AppData\\Local\\Programs\\Python\\Python39\\lib\\site-packages\\joblib\\parallel.py:288\u001b[0m, in \u001b[0;36m<listcomp>\u001b[1;34m(.0)\u001b[0m\n\u001b[0;32m    284\u001b[0m \u001b[39mdef\u001b[39;00m \u001b[39m__call__\u001b[39m(\u001b[39mself\u001b[39m):\n\u001b[0;32m    285\u001b[0m     \u001b[39m# Set the default nested backend to self._backend but do not set the\u001b[39;00m\n\u001b[0;32m    286\u001b[0m     \u001b[39m# change the default number of processes to -1\u001b[39;00m\n\u001b[0;32m    287\u001b[0m     \u001b[39mwith\u001b[39;00m parallel_backend(\u001b[39mself\u001b[39m\u001b[39m.\u001b[39m_backend, n_jobs\u001b[39m=\u001b[39m\u001b[39mself\u001b[39m\u001b[39m.\u001b[39m_n_jobs):\n\u001b[1;32m--> 288\u001b[0m         \u001b[39mreturn\u001b[39;00m [func(\u001b[39m*\u001b[39margs, \u001b[39m*\u001b[39m\u001b[39m*\u001b[39mkwargs)\n\u001b[0;32m    289\u001b[0m                 \u001b[39mfor\u001b[39;00m func, args, kwargs \u001b[39min\u001b[39;00m \u001b[39mself\u001b[39m\u001b[39m.\u001b[39mitems]\n",
            "File \u001b[1;32mc:\\Users\\zavre\\AppData\\Local\\Programs\\Python\\Python39\\lib\\site-packages\\sklearn\\utils\\parallel.py:123\u001b[0m, in \u001b[0;36m_FuncWrapper.__call__\u001b[1;34m(self, *args, **kwargs)\u001b[0m\n\u001b[0;32m    121\u001b[0m     config \u001b[39m=\u001b[39m {}\n\u001b[0;32m    122\u001b[0m \u001b[39mwith\u001b[39;00m config_context(\u001b[39m*\u001b[39m\u001b[39m*\u001b[39mconfig):\n\u001b[1;32m--> 123\u001b[0m     \u001b[39mreturn\u001b[39;00m \u001b[39mself\u001b[39m\u001b[39m.\u001b[39mfunction(\u001b[39m*\u001b[39margs, \u001b[39m*\u001b[39m\u001b[39m*\u001b[39mkwargs)\n",
            "File \u001b[1;32mc:\\Users\\zavre\\AppData\\Local\\Programs\\Python\\Python39\\lib\\site-packages\\sklearn\\ensemble\\_forest.py:184\u001b[0m, in \u001b[0;36m_parallel_build_trees\u001b[1;34m(tree, bootstrap, X, y, sample_weight, tree_idx, n_trees, verbose, class_weight, n_samples_bootstrap)\u001b[0m\n\u001b[0;32m    181\u001b[0m     \u001b[39melif\u001b[39;00m class_weight \u001b[39m==\u001b[39m \u001b[39m\"\u001b[39m\u001b[39mbalanced_subsample\u001b[39m\u001b[39m\"\u001b[39m:\n\u001b[0;32m    182\u001b[0m         curr_sample_weight \u001b[39m*\u001b[39m\u001b[39m=\u001b[39m compute_sample_weight(\u001b[39m\"\u001b[39m\u001b[39mbalanced\u001b[39m\u001b[39m\"\u001b[39m, y, indices\u001b[39m=\u001b[39mindices)\n\u001b[1;32m--> 184\u001b[0m     tree\u001b[39m.\u001b[39;49mfit(X, y, sample_weight\u001b[39m=\u001b[39;49mcurr_sample_weight, check_input\u001b[39m=\u001b[39;49m\u001b[39mFalse\u001b[39;49;00m)\n\u001b[0;32m    185\u001b[0m \u001b[39melse\u001b[39;00m:\n\u001b[0;32m    186\u001b[0m     tree\u001b[39m.\u001b[39mfit(X, y, sample_weight\u001b[39m=\u001b[39msample_weight, check_input\u001b[39m=\u001b[39m\u001b[39mFalse\u001b[39;00m)\n",
            "File \u001b[1;32mc:\\Users\\zavre\\AppData\\Local\\Programs\\Python\\Python39\\lib\\site-packages\\sklearn\\tree\\_classes.py:1247\u001b[0m, in \u001b[0;36mDecisionTreeRegressor.fit\u001b[1;34m(self, X, y, sample_weight, check_input)\u001b[0m\n\u001b[0;32m   1218\u001b[0m \u001b[39mdef\u001b[39;00m \u001b[39mfit\u001b[39m(\u001b[39mself\u001b[39m, X, y, sample_weight\u001b[39m=\u001b[39m\u001b[39mNone\u001b[39;00m, check_input\u001b[39m=\u001b[39m\u001b[39mTrue\u001b[39;00m):\n\u001b[0;32m   1219\u001b[0m \u001b[39m    \u001b[39m\u001b[39m\"\"\"Build a decision tree regressor from the training set (X, y).\u001b[39;00m\n\u001b[0;32m   1220\u001b[0m \n\u001b[0;32m   1221\u001b[0m \u001b[39m    Parameters\u001b[39;00m\n\u001b[1;32m   (...)\u001b[0m\n\u001b[0;32m   1244\u001b[0m \u001b[39m        Fitted estimator.\u001b[39;00m\n\u001b[0;32m   1245\u001b[0m \u001b[39m    \"\"\"\u001b[39;00m\n\u001b[1;32m-> 1247\u001b[0m     \u001b[39msuper\u001b[39;49m()\u001b[39m.\u001b[39;49mfit(\n\u001b[0;32m   1248\u001b[0m         X,\n\u001b[0;32m   1249\u001b[0m         y,\n\u001b[0;32m   1250\u001b[0m         sample_weight\u001b[39m=\u001b[39;49msample_weight,\n\u001b[0;32m   1251\u001b[0m         check_input\u001b[39m=\u001b[39;49mcheck_input,\n\u001b[0;32m   1252\u001b[0m     )\n\u001b[0;32m   1253\u001b[0m     \u001b[39mreturn\u001b[39;00m \u001b[39mself\u001b[39m\n",
            "File \u001b[1;32mc:\\Users\\zavre\\AppData\\Local\\Programs\\Python\\Python39\\lib\\site-packages\\sklearn\\tree\\_classes.py:379\u001b[0m, in \u001b[0;36mBaseDecisionTree.fit\u001b[1;34m(self, X, y, sample_weight, check_input)\u001b[0m\n\u001b[0;32m    368\u001b[0m \u001b[39melse\u001b[39;00m:\n\u001b[0;32m    369\u001b[0m     builder \u001b[39m=\u001b[39m BestFirstTreeBuilder(\n\u001b[0;32m    370\u001b[0m         splitter,\n\u001b[0;32m    371\u001b[0m         min_samples_split,\n\u001b[1;32m   (...)\u001b[0m\n\u001b[0;32m    376\u001b[0m         \u001b[39mself\u001b[39m\u001b[39m.\u001b[39mmin_impurity_decrease,\n\u001b[0;32m    377\u001b[0m     )\n\u001b[1;32m--> 379\u001b[0m builder\u001b[39m.\u001b[39;49mbuild(\u001b[39mself\u001b[39;49m\u001b[39m.\u001b[39;49mtree_, X, y, sample_weight)\n\u001b[0;32m    381\u001b[0m \u001b[39mif\u001b[39;00m \u001b[39mself\u001b[39m\u001b[39m.\u001b[39mn_outputs_ \u001b[39m==\u001b[39m \u001b[39m1\u001b[39m \u001b[39mand\u001b[39;00m is_classifier(\u001b[39mself\u001b[39m):\n\u001b[0;32m    382\u001b[0m     \u001b[39mself\u001b[39m\u001b[39m.\u001b[39mn_classes_ \u001b[39m=\u001b[39m \u001b[39mself\u001b[39m\u001b[39m.\u001b[39mn_classes_[\u001b[39m0\u001b[39m]\n",
            "\u001b[1;31mKeyboardInterrupt\u001b[0m: "
          ]
        }
      ],
      "source": [
        "#Random Forest model\n",
        "SEED = 88\n",
        "param_grid = {\n",
        "    'n_estimators': [300],\n",
        "    'max_depth': [20,25,30],\n",
        "    'min_samples_split': [2,8,],\n",
        "    'min_samples_leaf': [4,6],\n",
        "    'max_features': [None, 'sqrt', 'log2']\n",
        "}\n",
        "\n",
        "best_RMSE = 999\n",
        "best_params = {}\n",
        "\n",
        "for n_estimators in param_grid['n_estimators']:\n",
        "    for max_depth in param_grid['max_depth']:\n",
        "        for min_samples_split in param_grid['min_samples_split']:\n",
        "            for min_samples_leaf in param_grid['min_samples_leaf']:\n",
        "                for max_features in param_grid['max_features']:\n",
        "                    # Create and train a Random Forest model with the current hyperparameters\n",
        "                    rf = RandomForestRegressor(\n",
        "                        n_estimators=n_estimators,\n",
        "                        max_depth=max_depth,\n",
        "                        min_samples_split=min_samples_split,\n",
        "                        min_samples_leaf=min_samples_leaf,\n",
        "                        max_features=max_features,\n",
        "                        random_state=SEED                        \n",
        "                    )\n",
        "                    rf.fit(X_train, y_train)\n",
        "\n",
        "                    # Evaluate the model on the validation set\n",
        "                    y_pred_rf = rf.predict(X_validation)\n",
        "                    RMSE = np.sqrt(mean_squared_error(y_validation, y_pred_rf))\n",
        "\n",
        "                    # Update the best hyperparameters if this combination is better\n",
        "                    if RMSE < best_RMSE:\n",
        "                        best_RMSE = RMSE\n",
        "                        best_params = {\n",
        "                            'n_estimators': n_estimators,\n",
        "                            'max_depth': max_depth,\n",
        "                            'min_samples_split': min_samples_split,\n",
        "                            'min_samples_leaf': min_samples_leaf,\n",
        "                            'max_features': max_features\n",
        "                        }\n",
        "                    print(n_estimators, max_depth, min_samples_split, min_samples_leaf, max_features, '=> RMSE: ', RMSE)"
      ]
    },
    {
      "cell_type": "code",
      "execution_count": 153,
      "metadata": {},
      "outputs": [
        {
          "name": "stdout",
          "output_type": "stream",
          "text": [
            "{'n_estimators': 200, 'max_depth': 20, 'min_samples_split': 10, 'min_samples_leaf': 1, 'max_features': 'sqrt'}\n"
          ]
        }
      ],
      "source": [
        "print(best_params)"
      ]
    },
    {
      "cell_type": "code",
      "execution_count": 154,
      "metadata": {},
      "outputs": [],
      "source": [
        "#best_params = {'n_estimators': 200, 'max_depth': 20, 'min_samples_split': 10, 'min_samples_leaf': 1, 'max_features': 'sqrt'}"
      ]
    },
    {
      "cell_type": "code",
      "execution_count": 155,
      "metadata": {},
      "outputs": [
        {
          "name": "stdout",
          "output_type": "stream",
          "text": [
            "17.435519803485423\n"
          ]
        }
      ],
      "source": [
        "SEED=88\n",
        "n_estimators = best_params[\"n_estimators\"]\n",
        "max_depth = best_params[\"max_depth\"]\n",
        "min_samples_split = best_params[\"min_samples_split\"]\n",
        "min_samples_leaf = best_params[\"min_samples_leaf\"]\n",
        "max_features = best_params[\"max_features\"]\n",
        "\n",
        "rf = RandomForestRegressor(\n",
        "    n_estimators=n_estimators,\n",
        "    max_depth=max_depth,\n",
        "    min_samples_split=min_samples_split,\n",
        "    min_samples_leaf=min_samples_leaf,\n",
        "    max_features=max_features,\n",
        "    random_state=SEED\n",
        ")\n",
        "rf.fit(X_train, y_train)\n",
        "\n",
        "# Evaluate the model on the validation set\n",
        "y_pred_rf = rf.predict(X_validation)\n",
        "RMSE = np.sqrt(mean_squared_error(y_validation, y_pred_rf))\n",
        "\n",
        "print(RMSE)"
      ]
    },
    {
      "cell_type": "code",
      "execution_count": 180,
      "metadata": {},
      "outputs": [
        {
          "data": {
            "text/html": [
              "<div>\n",
              "<style scoped>\n",
              "    .dataframe tbody tr th:only-of-type {\n",
              "        vertical-align: middle;\n",
              "    }\n",
              "\n",
              "    .dataframe tbody tr th {\n",
              "        vertical-align: top;\n",
              "    }\n",
              "\n",
              "    .dataframe thead th {\n",
              "        text-align: right;\n",
              "    }\n",
              "</style>\n",
              "<table border=\"1\" class=\"dataframe\">\n",
              "  <thead>\n",
              "    <tr style=\"text-align: right;\">\n",
              "      <th></th>\n",
              "      <th>Variable</th>\n",
              "      <th>Importance</th>\n",
              "    </tr>\n",
              "  </thead>\n",
              "  <tbody>\n",
              "    <tr>\n",
              "      <th>1</th>\n",
              "      <td>turnover_month_avg</td>\n",
              "      <td>0.195346</td>\n",
              "    </tr>\n",
              "    <tr>\n",
              "      <th>4</th>\n",
              "      <td>turnover_week_avg</td>\n",
              "      <td>0.157446</td>\n",
              "    </tr>\n",
              "    <tr>\n",
              "      <th>2</th>\n",
              "      <td>turnover_month_max</td>\n",
              "      <td>0.104984</td>\n",
              "    </tr>\n",
              "    <tr>\n",
              "      <th>5</th>\n",
              "      <td>turnover_week_max</td>\n",
              "      <td>0.088007</td>\n",
              "    </tr>\n",
              "    <tr>\n",
              "      <th>6</th>\n",
              "      <td>turnover_week_min</td>\n",
              "      <td>0.073108</td>\n",
              "    </tr>\n",
              "    <tr>\n",
              "      <th>7</th>\n",
              "      <td>turnover_d_1</td>\n",
              "      <td>0.071616</td>\n",
              "    </tr>\n",
              "    <tr>\n",
              "      <th>8</th>\n",
              "      <td>turnover_d_2</td>\n",
              "      <td>0.056837</td>\n",
              "    </tr>\n",
              "    <tr>\n",
              "      <th>9</th>\n",
              "      <td>turnover_d_3</td>\n",
              "      <td>0.046527</td>\n",
              "    </tr>\n",
              "    <tr>\n",
              "      <th>3</th>\n",
              "      <td>turnover_month_min</td>\n",
              "      <td>0.041268</td>\n",
              "    </tr>\n",
              "    <tr>\n",
              "      <th>0</th>\n",
              "      <td>wm_yr_wk</td>\n",
              "      <td>0.028415</td>\n",
              "    </tr>\n",
              "  </tbody>\n",
              "</table>\n",
              "</div>"
            ],
            "text/plain": [
              "             Variable  Importance\n",
              "1  turnover_month_avg    0.195346\n",
              "4   turnover_week_avg    0.157446\n",
              "2  turnover_month_max    0.104984\n",
              "5   turnover_week_max    0.088007\n",
              "6   turnover_week_min    0.073108\n",
              "7        turnover_d_1    0.071616\n",
              "8        turnover_d_2    0.056837\n",
              "9        turnover_d_3    0.046527\n",
              "3  turnover_month_min    0.041268\n",
              "0            wm_yr_wk    0.028415"
            ]
          },
          "execution_count": 180,
          "metadata": {},
          "output_type": "execute_result"
        }
      ],
      "source": [
        "pd.DataFrame({'Variable':X_train.columns,\n",
        "              'Importance':rf.feature_importances_}).sort_values('Importance', ascending=False)[0:10]"
      ]
    },
    {
      "cell_type": "code",
      "execution_count": null,
      "metadata": {
        "id": "elNgSMCxCE1M"
      },
      "outputs": [],
      "source": [
        "with open('../models/rndm_forest_model.pkl', 'wb') as file:\n",
        "    pickle.dump(rf, file)"
      ]
    },
    {
      "cell_type": "markdown",
      "metadata": {},
      "source": [
        "### XGBoost model"
      ]
    },
    {
      "cell_type": "code",
      "execution_count": 14,
      "metadata": {},
      "outputs": [
        {
          "name": "stdout",
          "output_type": "stream",
          "text": [
            "0.01 100 0.2 5 => RMSE:  1.2030854659202892\n",
            "0.01 100 0.2 5 => RMSE:  1.1204832167878833\n"
          ]
        }
      ],
      "source": [
        "SEED = 88\n",
        "\n",
        "param_grid = {\n",
        "    'objective':['count:poisson','reg:squarederror'],\n",
        "    'learning_rate': [0.01], # 0.05,0.1,   alias eta, Step size shrinkage used in update to prevents overfitting.\n",
        "    'n_estimators': [100], # \n",
        "    'subsample': [0.2], #     Subsample ratio of the training instances\n",
        "    'max_depth': [5]\n",
        "    }\n",
        "best_RMSE = 999\n",
        "best_params = {}\n",
        "\n",
        "for objective in param_grid['objective']:\n",
        "    for learning_rate in param_grid['learning_rate']:\n",
        "        for n_estimators in param_grid['n_estimators']:\n",
        "            for subsample in param_grid['subsample']:\n",
        "                for max_depth in param_grid['max_depth']:\n",
        "                        # Create and train a Random Forest model with the current hyperparameters\n",
        "                        xgb = xgboost.XGBRegressor(random_state=SEED, \n",
        "                                            objective=objective,\n",
        "                                            learning_rate=learning_rate,\n",
        "                                            n_estimators=n_estimators,\n",
        "                                            subsample=subsample,\n",
        "                                            max_depth=max_depth)\n",
        "                        \n",
        "                        xgb.fit(X_train, y_train)\n",
        "\n",
        "                        # Evaluate the model on the validation set\n",
        "                        y_pred_xgb = xgb.predict(X_test)\n",
        "                        RMSE = np.sqrt(mean_squared_error(y_test, y_pred_xgb))\n",
        "\n",
        "                        # Update the best hyperparameters if this combination is better\n",
        "                        if RMSE < best_RMSE:\n",
        "                            best_RMSE = RMSE\n",
        "                            best_params = {\n",
        "                                'learning_rate': learning_rate,\n",
        "                                'n_estimators': n_estimators,\n",
        "                                'subsample': subsample,\n",
        "                                'max_depth': max_depth\n",
        "                            }\n",
        "                        print(learning_rate,n_estimators,subsample,max_depth, '=> RMSE: ', RMSE)\n"
      ]
    },
    {
      "cell_type": "code",
      "execution_count": 15,
      "metadata": {},
      "outputs": [
        {
          "name": "stdout",
          "output_type": "stream",
          "text": [
            "5.8148674287212385\n"
          ]
        }
      ],
      "source": [
        "y_pred_xgb = y_pred_xgb*X_test.sell_price\n",
        "xgb_rmse_turnover = np.sqrt(mean_squared_error(turnover_test, y_pred_xgb))\n",
        "\n",
        "print(xgb_rmse_turnover) "
      ]
    },
    {
      "cell_type": "code",
      "execution_count": 83,
      "metadata": {
        "colab": {
          "base_uri": "https://localhost:8080/"
        },
        "id": "sVvxPavWaPTw",
        "outputId": "c07397f3-eb37-4752-f875-7f9ed5b7bffe"
      },
      "outputs": [
        {
          "name": "stdout",
          "output_type": "stream",
          "text": [
            "0.01 50 0.2 1 => RMSE:  6.539263719459299\n",
            "0.01 50 0.2 3 => RMSE:  5.979820204087627\n",
            "0.01 50 0.2 5 => RMSE:  5.89660117658698\n",
            "0.01 50 0.5 1 => RMSE:  6.538784653501579\n",
            "0.01 50 0.5 3 => RMSE:  5.983237994431712\n",
            "0.01 50 0.5 5 => RMSE:  5.882794838122336\n",
            "0.01 50 1 1 => RMSE:  6.54084569749146\n",
            "0.01 50 1 3 => RMSE:  5.984874233845282\n",
            "0.01 50 1 5 => RMSE:  5.8911895978077125\n",
            "0.01 100 0.2 1 => RMSE:  6.132944846070117\n",
            "0.01 100 0.2 3 => RMSE:  5.47283804922389\n",
            "0.01 100 0.2 5 => RMSE:  5.343214273425935\n",
            "0.01 100 0.5 1 => RMSE:  6.144117736496645\n",
            "0.01 100 0.5 3 => RMSE:  5.476427595360241\n",
            "0.01 100 0.5 5 => RMSE:  5.346495103083027\n",
            "0.01 100 1 1 => RMSE:  6.1483222656204415\n",
            "0.01 100 1 3 => RMSE:  5.481266602781561\n",
            "0.01 100 1 5 => RMSE:  5.357439790410699\n",
            "0.01 200 0.2 1 => RMSE:  5.640127876222751\n",
            "0.01 200 0.2 3 => RMSE:  5.092536587209198\n",
            "0.01 200 0.2 5 => RMSE:  4.921062642756654\n",
            "0.01 200 0.5 1 => RMSE:  5.652291848771913\n",
            "0.01 200 0.5 3 => RMSE:  5.1103704508728836\n",
            "0.01 200 0.5 5 => RMSE:  4.941857671374685\n",
            "0.01 200 1 1 => RMSE:  5.6635230968234\n",
            "0.01 200 1 3 => RMSE:  5.118308794849313\n",
            "0.01 200 1 5 => RMSE:  4.980075471658168\n",
            "0.1 50 0.2 1 => RMSE:  5.147529173796025\n",
            "0.1 50 0.2 3 => RMSE:  4.8364083855177915\n",
            "0.1 50 0.2 5 => RMSE:  4.669530395049919\n",
            "0.1 50 0.5 1 => RMSE:  5.1638992073339045\n",
            "0.1 50 0.5 3 => RMSE:  4.889890336796501\n",
            "0.1 50 0.5 5 => RMSE:  4.692559757228886\n",
            "0.1 50 1 1 => RMSE:  5.178130128669708\n",
            "0.1 50 1 3 => RMSE:  4.91323151298645\n",
            "0.1 50 1 5 => RMSE:  4.700134824470154\n",
            "0.1 100 0.2 1 => RMSE:  5.02381521371503\n",
            "0.1 100 0.2 3 => RMSE:  4.735369049614096\n",
            "0.1 100 0.2 5 => RMSE:  4.723796719032808\n",
            "0.1 100 0.5 1 => RMSE:  5.04287148324515\n",
            "0.1 100 0.5 3 => RMSE:  4.774009269114789\n",
            "0.1 100 0.5 5 => RMSE:  4.691264429559041\n",
            "0.1 100 1 1 => RMSE:  5.066272930551291\n",
            "0.1 100 1 3 => RMSE:  4.811766911169485\n",
            "0.1 100 1 5 => RMSE:  4.682519712816083\n",
            "0.1 200 0.2 1 => RMSE:  4.969618700781972\n",
            "0.1 200 0.2 3 => RMSE:  4.723679332673743\n",
            "0.1 200 0.2 5 => RMSE:  4.806099442460375\n",
            "0.1 200 0.5 1 => RMSE:  4.969564332200844\n",
            "0.1 200 0.5 3 => RMSE:  4.711020464187223\n",
            "0.1 200 0.5 5 => RMSE:  4.704837343824291\n",
            "0.1 200 1 1 => RMSE:  4.991899387256011\n",
            "0.1 200 1 3 => RMSE:  4.752589040997628\n",
            "0.1 200 1 5 => RMSE:  4.736078183406758\n",
            "0.25 50 0.2 1 => RMSE:  5.003403770236188\n",
            "0.25 50 0.2 3 => RMSE:  4.7834651071473795\n",
            "0.25 50 0.2 5 => RMSE:  4.895713981423983\n",
            "0.25 50 0.5 1 => RMSE:  5.022748318243557\n",
            "0.25 50 0.5 3 => RMSE:  4.766164204334107\n",
            "0.25 50 0.5 5 => RMSE:  4.799681771216665\n",
            "0.25 50 1 1 => RMSE:  5.043151569577556\n",
            "0.25 50 1 3 => RMSE:  4.80148801005515\n",
            "0.25 50 1 5 => RMSE:  4.720906553209634\n",
            "0.25 100 0.2 1 => RMSE:  4.94129968469089\n",
            "0.25 100 0.2 3 => RMSE:  4.810059931193921\n",
            "0.25 100 0.2 5 => RMSE:  5.048447281824297\n",
            "0.25 100 0.5 1 => RMSE:  4.955605361149111\n",
            "0.25 100 0.5 3 => RMSE:  4.765247279337083\n",
            "0.25 100 0.5 5 => RMSE:  4.897437715110197\n",
            "0.25 100 1 1 => RMSE:  4.967068290185446\n",
            "0.25 100 1 3 => RMSE:  4.745055285210149\n",
            "0.25 100 1 5 => RMSE:  4.7687013105073275\n",
            "0.25 200 0.2 1 => RMSE:  4.9066039074011005\n",
            "0.25 200 0.2 3 => RMSE:  4.904620132211986\n",
            "0.25 200 0.2 5 => RMSE:  5.246691907559406\n",
            "0.25 200 0.5 1 => RMSE:  4.9085036970927485\n",
            "0.25 200 0.5 3 => RMSE:  4.822593237989232\n",
            "0.25 200 0.5 5 => RMSE:  4.919769828158399\n",
            "0.25 200 1 1 => RMSE:  4.893468651128234\n",
            "0.25 200 1 3 => RMSE:  4.723350040110555\n",
            "0.25 200 1 5 => RMSE:  4.800771325273734\n",
            "0.5 50 0.2 1 => RMSE:  4.966800533923469\n",
            "0.5 50 0.2 3 => RMSE:  5.051754958060615\n",
            "0.5 50 0.2 5 => RMSE:  5.378586241355287\n",
            "0.5 50 0.5 1 => RMSE:  4.9694049542003675\n",
            "0.5 50 0.5 3 => RMSE:  4.868701380776213\n",
            "0.5 50 0.5 5 => RMSE:  5.030776194271097\n",
            "0.5 50 1 1 => RMSE:  4.980034153788079\n",
            "0.5 50 1 3 => RMSE:  4.786597793757151\n",
            "0.5 50 1 5 => RMSE:  4.901232268630976\n",
            "0.5 100 0.2 1 => RMSE:  4.9192995639487584\n",
            "0.5 100 0.2 3 => RMSE:  5.349830520505894\n",
            "0.5 100 0.2 5 => RMSE:  6.129772499220431\n",
            "0.5 100 0.5 1 => RMSE:  4.9014710718525585\n",
            "0.5 100 0.5 3 => RMSE:  5.012591801322424\n",
            "0.5 100 0.5 5 => RMSE:  5.220113352812455\n",
            "0.5 100 1 1 => RMSE:  4.9012696987344215\n",
            "0.5 100 1 3 => RMSE:  4.7662447726618025\n",
            "0.5 100 1 5 => RMSE:  4.9584366557287405\n",
            "0.5 200 0.2 1 => RMSE:  4.888636124533984\n",
            "0.5 200 0.2 3 => RMSE:  6.009180927832246\n",
            "0.5 200 0.2 5 => RMSE:  6.940482552518282\n",
            "0.5 200 0.5 1 => RMSE:  4.879732022287373\n",
            "0.5 200 0.5 3 => RMSE:  5.203107884051851\n",
            "0.5 200 0.5 5 => RMSE:  5.410636761628905\n",
            "0.5 200 1 1 => RMSE:  4.864324367552397\n",
            "0.5 200 1 3 => RMSE:  4.876617974663253\n",
            "0.5 200 1 5 => RMSE:  5.041947777813213\n"
          ]
        }
      ],
      "source": [
        "SEED = 88\n",
        "\n",
        "param_grid = {'learning_rate': [0.01,0.1,0.25,0.5,], # 0.05,0.1,   alias eta, Step size shrinkage used in update to prevents overfitting.\n",
        "    'n_estimators': [50,100,200], # \n",
        "    'subsample': [0.2,0.5,1], #     Subsample ratio of the training instances\n",
        "    'max_depth': [1, 3, 5]\n",
        "    }\n",
        "\n",
        "best_RMSE = 999\n",
        "best_params = {}\n",
        "\n",
        "for learning_rate in param_grid['learning_rate']:\n",
        "    for n_estimators in param_grid['n_estimators']:\n",
        "        for subsample in param_grid['subsample']:\n",
        "            for max_depth in param_grid['max_depth']:\n",
        "                    # Create and train a Random Forest model with the current hyperparameters\n",
        "                    xgb = xgboost.XGBRegressor(random_state=SEED, \n",
        "                                        objective='reg:squarederror',\n",
        "                                        learning_rate=learning_rate,\n",
        "                                        n_estimators=n_estimators,\n",
        "                                        subsample=subsample,\n",
        "                                        max_depth=max_depth)\n",
        "                    \n",
        "                    xgb.fit(X_train, y_train)\n",
        "\n",
        "                    # Evaluate the model on the validation set\n",
        "                    y_pred_xgb = xgb.predict(X_test)\n",
        "                    RMSE = np.sqrt(mean_squared_error(y_test, y_pred_xgb))\n",
        "\n",
        "                    # Update the best hyperparameters if this combination is better\n",
        "                    if RMSE < best_RMSE:\n",
        "                        best_RMSE = RMSE\n",
        "                        best_params = {\n",
        "                            'learning_rate': learning_rate,\n",
        "                            'n_estimators': n_estimators,\n",
        "                            'subsample': subsample,\n",
        "                            'max_depth': max_depth\n",
        "                        }\n",
        "                    print(learning_rate,n_estimators,subsample,max_depth, '=> RMSE: ', RMSE)"
      ]
    },
    {
      "cell_type": "code",
      "execution_count": 84,
      "metadata": {},
      "outputs": [
        {
          "name": "stdout",
          "output_type": "stream",
          "text": [
            "{'learning_rate': 0.1, 'n_estimators': 50, 'subsample': 0.2, 'max_depth': 5} 4.669530395049919\n"
          ]
        }
      ],
      "source": [
        "print(best_params, best_RMSE)\n",
        "#{'learning_rate': 0.1, 'n_estimators': 50, 'subsample': 0.2, 'max_depth': 5} 4.669530395049919"
      ]
    },
    {
      "cell_type": "code",
      "execution_count": 194,
      "metadata": {},
      "outputs": [
        {
          "name": "stdout",
          "output_type": "stream",
          "text": [
            "17.23579145884144\n"
          ]
        }
      ],
      "source": [
        "SEED=88\n",
        "learning_rate = best_params[\"learning_rate\"]\n",
        "n_estimators = best_params[\"n_estimators\"]\n",
        "subsample = best_params[\"subsample\"]\n",
        "max_depth = best_params[\"max_depth\"]\n",
        "\n",
        "\n",
        "xgb = xgboost.XGBRegressor(random_state=SEED, \n",
        "                    objective='reg:squarederror',\n",
        "                    learning_rate=learning_rate,\n",
        "                    n_estimators=n_estimators,\n",
        "                    subsample=subsample,\n",
        "                    max_depth=max_depth)\n",
        "\n",
        "xgb.fit(X_train, y_train)\n",
        "\n",
        "# Evaluate the model on the validation set\n",
        "y_pred_xgb = xgb.predict(X_validation)\n",
        "RMSE = np.sqrt(mean_squared_error(y_validation, y_pred_xgb))\n",
        "\n",
        "print(RMSE)"
      ]
    },
    {
      "cell_type": "code",
      "execution_count": 195,
      "metadata": {},
      "outputs": [],
      "source": [
        "with open('../models/xgb_model.pkl', 'wb') as file:\n",
        "    pickle.dump(xgb, file)"
      ]
    },
    {
      "cell_type": "code",
      "execution_count": 196,
      "metadata": {},
      "outputs": [
        {
          "data": {
            "text/html": [
              "<div>\n",
              "<style scoped>\n",
              "    .dataframe tbody tr th:only-of-type {\n",
              "        vertical-align: middle;\n",
              "    }\n",
              "\n",
              "    .dataframe tbody tr th {\n",
              "        vertical-align: top;\n",
              "    }\n",
              "\n",
              "    .dataframe thead th {\n",
              "        text-align: right;\n",
              "    }\n",
              "</style>\n",
              "<table border=\"1\" class=\"dataframe\">\n",
              "  <thead>\n",
              "    <tr style=\"text-align: right;\">\n",
              "      <th></th>\n",
              "      <th>Variable</th>\n",
              "      <th>Importance</th>\n",
              "    </tr>\n",
              "  </thead>\n",
              "  <tbody>\n",
              "    <tr>\n",
              "      <th>1</th>\n",
              "      <td>turnover_month_avg</td>\n",
              "      <td>0.219421</td>\n",
              "    </tr>\n",
              "    <tr>\n",
              "      <th>4</th>\n",
              "      <td>turnover_week_avg</td>\n",
              "      <td>0.076776</td>\n",
              "    </tr>\n",
              "    <tr>\n",
              "      <th>32</th>\n",
              "      <td>weekday_Tuesday</td>\n",
              "      <td>0.037002</td>\n",
              "    </tr>\n",
              "    <tr>\n",
              "      <th>23</th>\n",
              "      <td>store_id_WI_2</td>\n",
              "      <td>0.032692</td>\n",
              "    </tr>\n",
              "    <tr>\n",
              "      <th>30</th>\n",
              "      <td>weekday_Sunday</td>\n",
              "      <td>0.031809</td>\n",
              "    </tr>\n",
              "    <tr>\n",
              "      <th>29</th>\n",
              "      <td>weekday_Saturday</td>\n",
              "      <td>0.029204</td>\n",
              "    </tr>\n",
              "    <tr>\n",
              "      <th>36</th>\n",
              "      <td>month_December</td>\n",
              "      <td>0.024540</td>\n",
              "    </tr>\n",
              "    <tr>\n",
              "      <th>5</th>\n",
              "      <td>turnover_week_max</td>\n",
              "      <td>0.020291</td>\n",
              "    </tr>\n",
              "    <tr>\n",
              "      <th>10</th>\n",
              "      <td>dept_id_FOODS_2</td>\n",
              "      <td>0.019780</td>\n",
              "    </tr>\n",
              "    <tr>\n",
              "      <th>31</th>\n",
              "      <td>weekday_Thursday</td>\n",
              "      <td>0.019676</td>\n",
              "    </tr>\n",
              "  </tbody>\n",
              "</table>\n",
              "</div>"
            ],
            "text/plain": [
              "              Variable  Importance\n",
              "1   turnover_month_avg    0.219421\n",
              "4    turnover_week_avg    0.076776\n",
              "32     weekday_Tuesday    0.037002\n",
              "23       store_id_WI_2    0.032692\n",
              "30      weekday_Sunday    0.031809\n",
              "29    weekday_Saturday    0.029204\n",
              "36      month_December    0.024540\n",
              "5    turnover_week_max    0.020291\n",
              "10     dept_id_FOODS_2    0.019780\n",
              "31    weekday_Thursday    0.019676"
            ]
          },
          "execution_count": 196,
          "metadata": {},
          "output_type": "execute_result"
        }
      ],
      "source": [
        "pd.DataFrame({'Variable':X_train.columns,\n",
        "              'Importance':xgb.feature_importances_}).sort_values('Importance', ascending=False)[0:10]"
      ]
    }
  ],
  "metadata": {
    "colab": {
      "provenance": []
    },
    "kernelspec": {
      "display_name": "Python 3",
      "name": "python3"
    },
    "language_info": {
      "codemirror_mode": {
        "name": "ipython",
        "version": 3
      },
      "file_extension": ".py",
      "mimetype": "text/x-python",
      "name": "python",
      "nbconvert_exporter": "python",
      "pygments_lexer": "ipython3",
      "version": "3.9.1"
    }
  },
  "nbformat": 4,
  "nbformat_minor": 0
}
