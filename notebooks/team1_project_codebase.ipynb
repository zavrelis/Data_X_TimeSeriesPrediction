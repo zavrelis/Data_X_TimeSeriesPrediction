{
  "cells": [
    {
      "cell_type": "markdown",
      "metadata": {
        "id": "gPMzaRvPYi-B"
      },
      "source": [
        "**Importing libraries and loading the data**"
      ]
    },
    {
      "cell_type": "code",
      "execution_count": 219,
      "metadata": {
        "id": "S_7oo79WogGe"
      },
      "outputs": [],
      "source": [
        "import pandas as pd\n",
        "import numpy as np\n",
        "import datetime as dt\n",
        "import seaborn  as sns\n",
        "import matplotlib.pyplot as plt\n",
        "import time\n",
        "from sklearn.linear_model import LinearRegression, Lasso, Ridge \n",
        "from sklearn.ensemble import RandomForestRegressor\n",
        "from sklearn.metrics import mean_squared_error\n",
        "from sklearn.model_selection import GridSearchCV\n",
        "from sklearn.preprocessing import StandardScaler\n",
        "import math\n",
        "import xgboost\n",
        "import pickle"
      ]
    },
    {
      "cell_type": "code",
      "execution_count": 220,
      "metadata": {
        "colab": {
          "base_uri": "https://localhost:8080/"
        },
        "id": "kU-s6rZAqRal",
        "outputId": "7cb83734-fe24-442d-f0e9-b2b2c54a002f"
      },
      "outputs": [],
      "source": [
        "#from google.colab import drive\n",
        "#drive.mount('/content/drive')"
      ]
    },
    {
      "cell_type": "code",
      "execution_count": 221,
      "metadata": {
        "id": "hybxpH58VGEA"
      },
      "outputs": [],
      "source": [
        "#loading all needed datasets from kaggle\n",
        "calendar = pd.read_csv('../data/raw/calendar.csv')\n",
        "sell_prices = pd.read_csv('../data/raw/sell_prices.csv')\n",
        "sales_validation = pd.read_csv('../data/raw/sales_train_validation.csv')"
      ]
    },
    {
      "cell_type": "markdown",
      "metadata": {
        "id": "nhNtzx2dYyqI"
      },
      "source": [
        "## Exploratory Data Analysis"
      ]
    },
    {
      "cell_type": "code",
      "execution_count": 222,
      "metadata": {
        "colab": {
          "base_uri": "https://localhost:8080/"
        },
        "id": "7tT_I5lBcVpv",
        "outputId": "6ffb5649-5ac9-47f6-a619-c735ca034b71"
      },
      "outputs": [
        {
          "data": {
            "text/plain": [
              "<bound method DataFrame.info of                                   id        item_id    dept_id   cat_id  \\\n",
              "0      HOBBIES_1_001_CA_1_validation  HOBBIES_1_001  HOBBIES_1  HOBBIES   \n",
              "1      HOBBIES_1_002_CA_1_validation  HOBBIES_1_002  HOBBIES_1  HOBBIES   \n",
              "2      HOBBIES_1_003_CA_1_validation  HOBBIES_1_003  HOBBIES_1  HOBBIES   \n",
              "3      HOBBIES_1_004_CA_1_validation  HOBBIES_1_004  HOBBIES_1  HOBBIES   \n",
              "4      HOBBIES_1_005_CA_1_validation  HOBBIES_1_005  HOBBIES_1  HOBBIES   \n",
              "...                              ...            ...        ...      ...   \n",
              "30485    FOODS_3_823_WI_3_validation    FOODS_3_823    FOODS_3    FOODS   \n",
              "30486    FOODS_3_824_WI_3_validation    FOODS_3_824    FOODS_3    FOODS   \n",
              "30487    FOODS_3_825_WI_3_validation    FOODS_3_825    FOODS_3    FOODS   \n",
              "30488    FOODS_3_826_WI_3_validation    FOODS_3_826    FOODS_3    FOODS   \n",
              "30489    FOODS_3_827_WI_3_validation    FOODS_3_827    FOODS_3    FOODS   \n",
              "\n",
              "      store_id state_id  d_1  d_2  d_3  d_4  ...  d_1904  d_1905  d_1906  \\\n",
              "0         CA_1       CA    0    0    0    0  ...       1       3       0   \n",
              "1         CA_1       CA    0    0    0    0  ...       0       0       0   \n",
              "2         CA_1       CA    0    0    0    0  ...       2       1       2   \n",
              "3         CA_1       CA    0    0    0    0  ...       1       0       5   \n",
              "4         CA_1       CA    0    0    0    0  ...       2       1       1   \n",
              "...        ...      ...  ...  ...  ...  ...  ...     ...     ...     ...   \n",
              "30485     WI_3       WI    0    0    2    2  ...       2       0       0   \n",
              "30486     WI_3       WI    0    0    0    0  ...       0       0       0   \n",
              "30487     WI_3       WI    0    6    0    2  ...       2       1       0   \n",
              "30488     WI_3       WI    0    0    0    0  ...       0       0       1   \n",
              "30489     WI_3       WI    0    0    0    0  ...       0       0       0   \n",
              "\n",
              "       d_1907  d_1908  d_1909  d_1910  d_1911  d_1912  d_1913  \n",
              "0           1       1       1       3       0       1       1  \n",
              "1           0       0       1       0       0       0       0  \n",
              "2           1       1       1       0       1       1       1  \n",
              "3           4       1       0       1       3       7       2  \n",
              "4           0       1       1       2       2       2       4  \n",
              "...       ...     ...     ...     ...     ...     ...     ...  \n",
              "30485       0       0       0       1       0       0       1  \n",
              "30486       0       0       0       0       0       1       0  \n",
              "30487       2       0       1       0       0       1       0  \n",
              "30488       0       0       1       0       3       1       3  \n",
              "30489       0       0       0       0       0       0       0  \n",
              "\n",
              "[30490 rows x 1919 columns]>"
            ]
          },
          "execution_count": 222,
          "metadata": {},
          "output_type": "execute_result"
        }
      ],
      "source": [
        "sales_validation.info"
      ]
    },
    {
      "cell_type": "code",
      "execution_count": 223,
      "metadata": {
        "colab": {
          "base_uri": "https://localhost:8080/"
        },
        "id": "JOcN7VPhgYgQ",
        "outputId": "efa33c73-9ce6-48ba-daca-8f486b89b4c4"
      },
      "outputs": [
        {
          "name": "stdout",
          "output_type": "stream",
          "text": [
            "Number of \n",
            " unique states: 3 \n",
            " unique stores: 10 \n",
            " unique departments: 7 \n",
            " unique item categories: 3 \n",
            " unique items: 3049\n"
          ]
        }
      ],
      "source": [
        "unique_items = len(sales_validation['item_id'].unique())\n",
        "unique_item_categories = len(sales_validation['cat_id'].unique())\n",
        "unique_departments = len(sales_validation['dept_id'].unique())\n",
        "unique_stores = len(sales_validation['store_id'].unique())\n",
        "unique_states = len(sales_validation['state_id'].unique())\n",
        "\n",
        "print(f'Number of \\n unique states: {unique_states} \\n unique stores: {unique_stores} \\n unique departments: {unique_departments} \\n unique item categories: {unique_item_categories} \\n unique items: {unique_items}')"
      ]
    },
    {
      "cell_type": "code",
      "execution_count": 224,
      "metadata": {
        "colab": {
          "base_uri": "https://localhost:8080/"
        },
        "id": "gQsuhDUAkhOv",
        "outputId": "131ee67e-bfa5-4cac-9514-19d79a3c41d8"
      },
      "outputs": [
        {
          "name": "stdout",
          "output_type": "stream",
          "text": [
            "['HOBBIES' 'HOUSEHOLD' 'FOODS']\n",
            "['HOBBIES_1' 'HOBBIES_2' 'HOUSEHOLD_1' 'HOUSEHOLD_2' 'FOODS_1' 'FOODS_2'\n",
            " 'FOODS_3']\n",
            "['CA_1' 'CA_2' 'CA_3' 'CA_4' 'TX_1' 'TX_2' 'TX_3' 'WI_1' 'WI_2' 'WI_3']\n",
            "['CA' 'TX' 'WI']\n"
          ]
        }
      ],
      "source": [
        "for col in [sales_validation['cat_id'],sales_validation['dept_id'],sales_validation['store_id'],sales_validation['state_id']]:\n",
        "  print (col.unique())"
      ]
    },
    {
      "cell_type": "code",
      "execution_count": 225,
      "metadata": {
        "colab": {
          "base_uri": "https://localhost:8080/"
        },
        "id": "k21p_4Se8ANn",
        "outputId": "7d4e5006-ca92-49fb-a772-b1e08168990a"
      },
      "outputs": [
        {
          "name": "stdout",
          "output_type": "stream",
          "text": [
            "Data types in sales_validation are: \n",
            " int64     1913\n",
            "object       6\n",
            "dtype: int64\n"
          ]
        }
      ],
      "source": [
        "# Inspection of data types\n",
        "print(\"Data types in sales_validation are: \\n\", sales_validation.dtypes.value_counts())"
      ]
    },
    {
      "cell_type": "code",
      "execution_count": 226,
      "metadata": {
        "colab": {
          "base_uri": "https://localhost:8080/"
        },
        "id": "mGMbQZA3Uzrc",
        "outputId": "e5b3dba6-ed3c-454f-ac00-568cf61aead9"
      },
      "outputs": [
        {
          "name": "stdout",
          "output_type": "stream",
          "text": [
            "The number of duplicated rows is 0.\n"
          ]
        }
      ],
      "source": [
        "duplicated_rows_count = sales_validation.duplicated().sum()\n",
        "print(f'The number of duplicated rows is {duplicated_rows_count}.')"
      ]
    },
    {
      "cell_type": "code",
      "execution_count": 227,
      "metadata": {
        "colab": {
          "base_uri": "https://localhost:8080/"
        },
        "id": "hUVNOsuBohpA",
        "outputId": "b56be4ac-e1c5-4858-eaad-eb5428c595c1"
      },
      "outputs": [
        {
          "data": {
            "text/plain": [
              "0        0\n",
              "20322    0\n",
              "20334    0\n",
              "20333    0\n",
              "20332    0\n",
              "        ..\n",
              "10159    0\n",
              "10158    0\n",
              "10157    0\n",
              "10156    0\n",
              "30489    0\n",
              "Length: 30490, dtype: int64"
            ]
          },
          "execution_count": 227,
          "metadata": {},
          "output_type": "execute_result"
        }
      ],
      "source": [
        "# Checking for null values column-wise\n",
        "sales_validation.isna().sum(axis=1).sort_values(ascending=False)"
      ]
    },
    {
      "cell_type": "code",
      "execution_count": 228,
      "metadata": {
        "colab": {
          "base_uri": "https://localhost:8080/"
        },
        "id": "XZIXLMQTryq0",
        "outputId": "cac2a880-2722-43df-b569-b2a15a2e1720"
      },
      "outputs": [
        {
          "data": {
            "text/plain": [
              "id        0\n",
              "d_1270    0\n",
              "d_1282    0\n",
              "d_1281    0\n",
              "d_1280    0\n",
              "         ..\n",
              "d_630     0\n",
              "d_629     0\n",
              "d_628     0\n",
              "d_627     0\n",
              "d_1913    0\n",
              "Length: 1919, dtype: int64"
            ]
          },
          "execution_count": 228,
          "metadata": {},
          "output_type": "execute_result"
        }
      ],
      "source": [
        "# Checking for null values row-wise\n",
        "sales_validation.isna().sum().sort_values(ascending=False)"
      ]
    },
    {
      "cell_type": "code",
      "execution_count": 229,
      "metadata": {
        "colab": {
          "base_uri": "https://localhost:8080/"
        },
        "id": "darh13TVJdMl",
        "outputId": "eb6b41d7-4f35-40b7-d8da-2f21d5b6961e"
      },
      "outputs": [
        {
          "data": {
            "text/plain": [
              "<bound method DataFrame.info of             date  wm_yr_wk    weekday  wday  month  year       d  \\\n",
              "0     2011-01-29     11101   Saturday     1      1  2011     d_1   \n",
              "1     2011-01-30     11101     Sunday     2      1  2011     d_2   \n",
              "2     2011-01-31     11101     Monday     3      1  2011     d_3   \n",
              "3     2011-02-01     11101    Tuesday     4      2  2011     d_4   \n",
              "4     2011-02-02     11101  Wednesday     5      2  2011     d_5   \n",
              "...          ...       ...        ...   ...    ...   ...     ...   \n",
              "1964  2016-06-15     11620  Wednesday     5      6  2016  d_1965   \n",
              "1965  2016-06-16     11620   Thursday     6      6  2016  d_1966   \n",
              "1966  2016-06-17     11620     Friday     7      6  2016  d_1967   \n",
              "1967  2016-06-18     11621   Saturday     1      6  2016  d_1968   \n",
              "1968  2016-06-19     11621     Sunday     2      6  2016  d_1969   \n",
              "\n",
              "      event_name_1 event_type_1  event_name_2 event_type_2  snap_CA  snap_TX  \\\n",
              "0              NaN          NaN           NaN          NaN        0        0   \n",
              "1              NaN          NaN           NaN          NaN        0        0   \n",
              "2              NaN          NaN           NaN          NaN        0        0   \n",
              "3              NaN          NaN           NaN          NaN        1        1   \n",
              "4              NaN          NaN           NaN          NaN        1        0   \n",
              "...            ...          ...           ...          ...      ...      ...   \n",
              "1964           NaN          NaN           NaN          NaN        0        1   \n",
              "1965           NaN          NaN           NaN          NaN        0        0   \n",
              "1966           NaN          NaN           NaN          NaN        0        0   \n",
              "1967           NaN          NaN           NaN          NaN        0        0   \n",
              "1968  NBAFinalsEnd     Sporting  Father's day     Cultural        0        0   \n",
              "\n",
              "      snap_WI  \n",
              "0           0  \n",
              "1           0  \n",
              "2           0  \n",
              "3           0  \n",
              "4           1  \n",
              "...       ...  \n",
              "1964        1  \n",
              "1965        0  \n",
              "1966        0  \n",
              "1967        0  \n",
              "1968        0  \n",
              "\n",
              "[1969 rows x 14 columns]>"
            ]
          },
          "execution_count": 229,
          "metadata": {},
          "output_type": "execute_result"
        }
      ],
      "source": [
        "calendar.info"
      ]
    },
    {
      "cell_type": "code",
      "execution_count": 230,
      "metadata": {
        "colab": {
          "base_uri": "https://localhost:8080/"
        },
        "id": "sObXrpa9R4cH",
        "outputId": "5ad27bf2-a789-45c5-df48-01ef18ddf099"
      },
      "outputs": [
        {
          "name": "stdout",
          "output_type": "stream",
          "text": [
            "Number of \n",
            " unique years: 6 \n",
            " unique events: 36 \n",
            " unique types of events: 5\n"
          ]
        }
      ],
      "source": [
        "unique_year = len(calendar['year'].unique())\n",
        "unique_events = len(calendar['event_name_1'].unique()) + len(calendar['event_name_2'].unique())\n",
        "unique_states = len(calendar['event_type_1'].unique())\n",
        "print(f'Number of \\n unique years: {unique_year} \\n unique events: {unique_events} \\n unique types of events: {unique_states}')"
      ]
    },
    {
      "cell_type": "code",
      "execution_count": 231,
      "metadata": {
        "colab": {
          "base_uri": "https://localhost:8080/"
        },
        "id": "MKFPVXx2Teo2",
        "outputId": "1551d74e-daee-4212-a003-c01a9bc7d79b"
      },
      "outputs": [
        {
          "name": "stdout",
          "output_type": "stream",
          "text": [
            "[2011 2012 2013 2014 2015 2016]\n",
            "[nan 'SuperBowl' 'ValentinesDay' 'PresidentsDay' 'LentStart' 'LentWeek2'\n",
            " 'StPatricksDay' 'Purim End' 'OrthodoxEaster' 'Pesach End' 'Cinco De Mayo'\n",
            " \"Mother's day\" 'MemorialDay' 'NBAFinalsStart' 'NBAFinalsEnd'\n",
            " \"Father's day\" 'IndependenceDay' 'Ramadan starts' 'Eid al-Fitr'\n",
            " 'LaborDay' 'ColumbusDay' 'Halloween' 'EidAlAdha' 'VeteransDay'\n",
            " 'Thanksgiving' 'Christmas' 'Chanukah End' 'NewYear' 'OrthodoxChristmas'\n",
            " 'MartinLutherKingDay' 'Easter']\n",
            "[nan 'Sporting' 'Cultural' 'National' 'Religious']\n",
            "[nan 'Easter' 'Cinco De Mayo' 'OrthodoxEaster' \"Father's day\"]\n"
          ]
        }
      ],
      "source": [
        "for col in [calendar['year'],calendar['event_name_1'],calendar['event_type_1'],calendar['event_name_2']]:\n",
        "  print (col.unique())"
      ]
    },
    {
      "cell_type": "code",
      "execution_count": 232,
      "metadata": {
        "colab": {
          "base_uri": "https://localhost:8080/"
        },
        "id": "0fZYOHgcT3Jj",
        "outputId": "408c6184-b3d9-4f69-db5b-ffee25f8dfb8"
      },
      "outputs": [
        {
          "name": "stdout",
          "output_type": "stream",
          "text": [
            "Data types in calendar are: \n",
            " int64     7\n",
            "object    7\n",
            "dtype: int64\n"
          ]
        }
      ],
      "source": [
        "# Inspection of data types\n",
        "print(\"Data types in calendar are: \\n\", calendar.dtypes.value_counts())"
      ]
    },
    {
      "cell_type": "code",
      "execution_count": 233,
      "metadata": {
        "colab": {
          "base_uri": "https://localhost:8080/"
        },
        "id": "tc_MY_0YUCfp",
        "outputId": "526d5dd9-ee6d-4ce7-8919-966d998381d3"
      },
      "outputs": [
        {
          "data": {
            "text/plain": [
              "date            object\n",
              "wm_yr_wk         int64\n",
              "weekday         object\n",
              "wday             int64\n",
              "month            int64\n",
              "year             int64\n",
              "d               object\n",
              "event_name_1    object\n",
              "event_type_1    object\n",
              "event_name_2    object\n",
              "event_type_2    object\n",
              "snap_CA          int64\n",
              "snap_TX          int64\n",
              "snap_WI          int64\n",
              "dtype: object"
            ]
          },
          "execution_count": 233,
          "metadata": {},
          "output_type": "execute_result"
        }
      ],
      "source": [
        "calendar.dtypes.head(14)"
      ]
    },
    {
      "cell_type": "code",
      "execution_count": 234,
      "metadata": {
        "colab": {
          "base_uri": "https://localhost:8080/"
        },
        "id": "HKiH7pE_URr6",
        "outputId": "5e5db1ab-bb04-4b09-e9ef-e21ab1a6639a"
      },
      "outputs": [
        {
          "name": "stdout",
          "output_type": "stream",
          "text": [
            "The number of duplicated rows is 0.\n"
          ]
        }
      ],
      "source": [
        "duplicated_rows_count = calendar.duplicated().sum()\n",
        "print(f'The number of duplicated rows is {duplicated_rows_count}.')"
      ]
    },
    {
      "cell_type": "code",
      "execution_count": 235,
      "metadata": {
        "colab": {
          "base_uri": "https://localhost:8080/"
        },
        "id": "mK6Ij8D5UT3m",
        "outputId": "b0926e1f-e0fd-4f4a-b5ed-d5acc49e610f"
      },
      "outputs": [
        {
          "data": {
            "text/plain": [
              "0       4\n",
              "1281    4\n",
              "1293    4\n",
              "1292    4\n",
              "1291    4\n",
              "       ..\n",
              "85      0\n",
              "1233    0\n",
              "827     0\n",
              "1177    0\n",
              "1968    0\n",
              "Length: 1969, dtype: int64"
            ]
          },
          "execution_count": 235,
          "metadata": {},
          "output_type": "execute_result"
        }
      ],
      "source": [
        "#Checking for null values column-wise\n",
        "calendar.isna().sum(axis=1).sort_values(ascending=False)"
      ]
    },
    {
      "cell_type": "code",
      "execution_count": 236,
      "metadata": {
        "colab": {
          "base_uri": "https://localhost:8080/"
        },
        "id": "X9sv3K-_UjpE",
        "outputId": "73939fb2-f50c-48fb-82a2-d31983b0fe71"
      },
      "outputs": [
        {
          "data": {
            "text/plain": [
              "event_name_2    1964\n",
              "event_type_2    1964\n",
              "event_name_1    1807\n",
              "event_type_1    1807\n",
              "date               0\n",
              "wm_yr_wk           0\n",
              "weekday            0\n",
              "wday               0\n",
              "month              0\n",
              "year               0\n",
              "d                  0\n",
              "snap_CA            0\n",
              "snap_TX            0\n",
              "snap_WI            0\n",
              "dtype: int64"
            ]
          },
          "execution_count": 236,
          "metadata": {},
          "output_type": "execute_result"
        }
      ],
      "source": [
        "# Checking for null values row-wise\n",
        "calendar.isna().sum().sort_values(ascending=False)"
      ]
    },
    {
      "cell_type": "code",
      "execution_count": 237,
      "metadata": {
        "colab": {
          "base_uri": "https://localhost:8080/"
        },
        "id": "YbGr0xfQljCO",
        "outputId": "ff99281b-675d-4fb9-92ed-ecc776991857"
      },
      "outputs": [
        {
          "data": {
            "text/plain": [
              "<bound method DataFrame.info of         store_id        item_id  wm_yr_wk  sell_price\n",
              "0           CA_1  HOBBIES_1_001     11325        9.58\n",
              "1           CA_1  HOBBIES_1_001     11326        9.58\n",
              "2           CA_1  HOBBIES_1_001     11327        8.26\n",
              "3           CA_1  HOBBIES_1_001     11328        8.26\n",
              "4           CA_1  HOBBIES_1_001     11329        8.26\n",
              "...          ...            ...       ...         ...\n",
              "6841116     WI_3    FOODS_3_827     11617        1.00\n",
              "6841117     WI_3    FOODS_3_827     11618        1.00\n",
              "6841118     WI_3    FOODS_3_827     11619        1.00\n",
              "6841119     WI_3    FOODS_3_827     11620        1.00\n",
              "6841120     WI_3    FOODS_3_827     11621        1.00\n",
              "\n",
              "[6841121 rows x 4 columns]>"
            ]
          },
          "execution_count": 237,
          "metadata": {},
          "output_type": "execute_result"
        }
      ],
      "source": [
        "sell_prices.info"
      ]
    },
    {
      "cell_type": "code",
      "execution_count": 238,
      "metadata": {
        "colab": {
          "base_uri": "https://localhost:8080/"
        },
        "id": "1iogIgiamThO",
        "outputId": "34730505-e3d8-45ac-b645-80057b12bba1"
      },
      "outputs": [
        {
          "name": "stdout",
          "output_type": "stream",
          "text": [
            "Number of \n",
            " unique stores: 10 \n",
            " unique item ids: 3049 \n",
            " unique id_weeks: 282 \n",
            " unique sell_prices 1048\n"
          ]
        }
      ],
      "source": [
        "unique_store_sell = len(sell_prices['store_id'].unique())\n",
        "unique_item_sell = len(sell_prices['item_id'].unique())\n",
        "unique_id_week = len(sell_prices['wm_yr_wk'].unique())\n",
        "unique_sell_price = len(sell_prices['sell_price'].unique())\n",
        "print(f'Number of \\n unique stores: {unique_store_sell} \\n unique item ids: {unique_item_sell} \\n unique id_weeks: {unique_id_week} \\n unique sell_prices {unique_sell_price}')"
      ]
    },
    {
      "cell_type": "code",
      "execution_count": 239,
      "metadata": {
        "colab": {
          "base_uri": "https://localhost:8080/"
        },
        "id": "3cFqXYyFmT1G",
        "outputId": "5d769ff5-ecc3-4f91-e668-e1e87ce67632"
      },
      "outputs": [
        {
          "name": "stdout",
          "output_type": "stream",
          "text": [
            "['CA_1' 'CA_2' 'CA_3' 'CA_4' 'TX_1' 'TX_2' 'TX_3' 'WI_1' 'WI_2' 'WI_3']\n",
            "['HOBBIES_1_001' 'HOBBIES_1_002' 'HOBBIES_1_003' ... 'FOODS_3_825'\n",
            " 'FOODS_3_826' 'FOODS_3_827']\n",
            "[11325 11326 11327 11328 11329 11330 11331 11332 11333 11334 11335 11336\n",
            " 11337 11338 11339 11340 11341 11342 11343 11344 11345 11346 11347 11348\n",
            " 11349 11350 11351 11352 11353 11401 11402 11403 11404 11405 11406 11407\n",
            " 11408 11409 11410 11411 11412 11413 11414 11415 11416 11417 11418 11419\n",
            " 11420 11421 11422 11423 11424 11425 11426 11427 11428 11429 11430 11431\n",
            " 11432 11433 11434 11435 11436 11437 11438 11439 11440 11441 11442 11443\n",
            " 11444 11445 11446 11447 11448 11449 11450 11451 11452 11501 11502 11503\n",
            " 11504 11505 11506 11507 11508 11509 11510 11511 11512 11513 11514 11515\n",
            " 11516 11517 11518 11519 11520 11521 11522 11523 11524 11525 11526 11527\n",
            " 11528 11529 11530 11531 11532 11533 11534 11535 11536 11537 11538 11539\n",
            " 11540 11541 11542 11543 11544 11545 11546 11547 11548 11549 11550 11551\n",
            " 11552 11601 11602 11603 11604 11605 11606 11607 11608 11609 11610 11611\n",
            " 11612 11613 11614 11615 11616 11617 11618 11619 11620 11621 11121 11122\n",
            " 11123 11124 11125 11126 11127 11128 11129 11130 11131 11132 11133 11134\n",
            " 11135 11136 11137 11138 11139 11140 11141 11142 11143 11144 11145 11146\n",
            " 11147 11148 11149 11150 11151 11152 11201 11202 11203 11204 11205 11206\n",
            " 11207 11208 11209 11210 11211 11212 11213 11214 11215 11216 11217 11218\n",
            " 11219 11220 11221 11222 11223 11224 11225 11226 11227 11228 11229 11230\n",
            " 11231 11232 11233 11234 11235 11236 11237 11238 11239 11240 11241 11242\n",
            " 11243 11244 11245 11246 11247 11248 11249 11250 11251 11252 11301 11302\n",
            " 11303 11304 11305 11306 11307 11308 11309 11310 11311 11312 11313 11314\n",
            " 11315 11316 11317 11318 11319 11320 11321 11322 11323 11324 11106 11107\n",
            " 11108 11109 11110 11111 11112 11113 11114 11115 11116 11117 11118 11119\n",
            " 11120 11101 11102 11103 11104 11105]\n",
            "[  9.58   8.26   8.38 ... 107.32   8.07  18.47]\n"
          ]
        }
      ],
      "source": [
        "for col in [sell_prices['store_id'],sell_prices['item_id'],sell_prices['wm_yr_wk'],sell_prices['sell_price']]:\n",
        "  print (col.unique())"
      ]
    },
    {
      "cell_type": "code",
      "execution_count": 240,
      "metadata": {
        "colab": {
          "base_uri": "https://localhost:8080/"
        },
        "id": "U70NK0V_mULc",
        "outputId": "5f83b042-7870-4575-b177-e1d6d92e26e7"
      },
      "outputs": [
        {
          "name": "stdout",
          "output_type": "stream",
          "text": [
            "Data types in sell_prices are: \n",
            " object     2\n",
            "int64      1\n",
            "float64    1\n",
            "dtype: int64\n"
          ]
        }
      ],
      "source": [
        "# Inspection of data types\n",
        "print(\"Data types in sell_prices are: \\n\", sell_prices.dtypes.value_counts())"
      ]
    },
    {
      "cell_type": "code",
      "execution_count": 241,
      "metadata": {
        "colab": {
          "base_uri": "https://localhost:8080/"
        },
        "id": "_jyem4D_mUcx",
        "outputId": "a7aa8138-8297-4348-cdda-6f4c55836f37"
      },
      "outputs": [
        {
          "data": {
            "text/plain": [
              "store_id       object\n",
              "item_id        object\n",
              "wm_yr_wk        int64\n",
              "sell_price    float64\n",
              "dtype: object"
            ]
          },
          "execution_count": 241,
          "metadata": {},
          "output_type": "execute_result"
        }
      ],
      "source": [
        "sell_prices.dtypes.head(14)"
      ]
    },
    {
      "cell_type": "code",
      "execution_count": 242,
      "metadata": {
        "colab": {
          "base_uri": "https://localhost:8080/"
        },
        "id": "OlqohLeYmUth",
        "outputId": "c79b6b86-736e-4db3-cdeb-1a9056a43c2c"
      },
      "outputs": [
        {
          "name": "stdout",
          "output_type": "stream",
          "text": [
            "The number of duplicated rows is 0.\n"
          ]
        }
      ],
      "source": [
        "duplicated_rows_count = sell_prices.duplicated().sum()\n",
        "print(f'The number of duplicated rows is {duplicated_rows_count}.')"
      ]
    },
    {
      "cell_type": "code",
      "execution_count": 243,
      "metadata": {
        "colab": {
          "base_uri": "https://localhost:8080/"
        },
        "id": "C0QbJNPGwT56",
        "outputId": "dc3f9f05-2a1d-4104-e5e2-b895c161ae0f"
      },
      "outputs": [
        {
          "data": {
            "text/plain": [
              "0          0\n",
              "4560678    0\n",
              "4560754    0\n",
              "4560753    0\n",
              "4560752    0\n",
              "          ..\n",
              "2280371    0\n",
              "2280370    0\n",
              "2280369    0\n",
              "2280368    0\n",
              "6841120    0\n",
              "Length: 6841121, dtype: int64"
            ]
          },
          "execution_count": 243,
          "metadata": {},
          "output_type": "execute_result"
        }
      ],
      "source": [
        "#Checking for null values column-wise\n",
        "sell_prices.isna().sum(axis=1).sort_values(ascending=False)"
      ]
    },
    {
      "cell_type": "code",
      "execution_count": 244,
      "metadata": {
        "colab": {
          "base_uri": "https://localhost:8080/"
        },
        "id": "RjRq7y5ZwUOE",
        "outputId": "a917d2ac-00ef-4b56-c139-e29eb8bbe1e4"
      },
      "outputs": [
        {
          "data": {
            "text/plain": [
              "store_id      0\n",
              "item_id       0\n",
              "wm_yr_wk      0\n",
              "sell_price    0\n",
              "dtype: int64"
            ]
          },
          "execution_count": 244,
          "metadata": {},
          "output_type": "execute_result"
        }
      ],
      "source": [
        "# Checking for null values row-wise\n",
        "sell_prices.isna().sum().sort_values(ascending=False)"
      ]
    },
    {
      "cell_type": "code",
      "execution_count": 245,
      "metadata": {
        "colab": {
          "base_uri": "https://localhost:8080/"
        },
        "id": "I4rciWNpedp2",
        "outputId": "a8b8a792-7805-408c-a572-b18aa18cb439"
      },
      "outputs": [
        {
          "name": "stdout",
          "output_type": "stream",
          "text": [
            "   Unnamed: 0        item_id    dept_id\n",
            "0          48  HOBBIES_1_049  HOBBIES_1\n",
            "1         381  HOBBIES_1_390  HOBBIES_1\n",
            "2         150  HOBBIES_1_155  HOBBIES_1\n",
            "3         287  HOBBIES_1_296  HOBBIES_1\n",
            "4         415  HOBBIES_1_424  HOBBIES_1\n"
          ]
        }
      ],
      "source": [
        "item = pd.read_csv('../data/raw/item_id_sample.csv') #asi bude treba nahravat opakovane\n",
        "print(item.head())"
      ]
    },
    {
      "cell_type": "code",
      "execution_count": 246,
      "metadata": {
        "colab": {
          "base_uri": "https://localhost:8080/"
        },
        "id": "IUq3jNGJTCaf",
        "outputId": "33778b86-f958-43e9-d8b1-b987afd34269"
      },
      "outputs": [
        {
          "name": "stdout",
          "output_type": "stream",
          "text": [
            "Unique values in Unnamed: 0:\n",
            "[  48  381  150  287  415   56  195  187  154  397  418  443  522  546\n",
            "  444  468  551  426  491  515  704  786 1082 1038  771  662  887  818\n",
            "  865  815 1241 1529 1562 1484 1229 1356 1521 1327 1155 1295 1627 1714\n",
            " 1676 1777 1782 1681 1783 1621 1745 1659 2149 2192 2002 2043 2145 1932\n",
            " 2153 2212 2082 1944 2403 2749 2883 2951 2979 2538 2629 2511 2442 2639]\n",
            "Unique values in item_id:\n",
            "['HOBBIES_1_049' 'HOBBIES_1_390' 'HOBBIES_1_155' 'HOBBIES_1_296'\n",
            " 'HOBBIES_1_424' 'HOBBIES_1_057' 'HOBBIES_1_202' 'HOBBIES_1_193'\n",
            " 'HOBBIES_1_159' 'HOBBIES_1_406' 'HOBBIES_2_003' 'HOBBIES_2_028'\n",
            " 'HOBBIES_2_107' 'HOBBIES_2_131' 'HOBBIES_2_029' 'HOBBIES_2_053'\n",
            " 'HOBBIES_2_136' 'HOBBIES_2_011' 'HOBBIES_2_076' 'HOBBIES_2_100'\n",
            " 'HOUSEHOLD_1_144' 'HOUSEHOLD_1_226' 'HOUSEHOLD_1_527' 'HOUSEHOLD_1_483'\n",
            " 'HOUSEHOLD_1_211' 'HOUSEHOLD_1_101' 'HOUSEHOLD_1_329' 'HOUSEHOLD_1_259'\n",
            " 'HOUSEHOLD_1_307' 'HOUSEHOLD_1_256' 'HOUSEHOLD_2_145' 'HOUSEHOLD_2_434'\n",
            " 'HOUSEHOLD_2_467' 'HOUSEHOLD_2_389' 'HOUSEHOLD_2_133' 'HOUSEHOLD_2_261'\n",
            " 'HOUSEHOLD_2_426' 'HOUSEHOLD_2_232' 'HOUSEHOLD_2_059' 'HOUSEHOLD_2_200'\n",
            " 'FOODS_1_017' 'FOODS_1_105' 'FOODS_1_066' 'FOODS_1_169' 'FOODS_1_174'\n",
            " 'FOODS_1_071' 'FOODS_1_175' 'FOODS_1_011' 'FOODS_1_136' 'FOODS_1_049'\n",
            " 'FOODS_2_323' 'FOODS_2_366' 'FOODS_2_176' 'FOODS_2_217' 'FOODS_2_319'\n",
            " 'FOODS_2_106' 'FOODS_2_327' 'FOODS_2_386' 'FOODS_2_256' 'FOODS_2_118'\n",
            " 'FOODS_3_179' 'FOODS_3_525' 'FOODS_3_659' 'FOODS_3_729' 'FOODS_3_758'\n",
            " 'FOODS_3_314' 'FOODS_3_405' 'FOODS_3_287' 'FOODS_3_218' 'FOODS_3_415']\n",
            "Unique values in dept_id:\n",
            "['HOBBIES_1' 'HOBBIES_2' 'HOUSEHOLD_1' 'HOUSEHOLD_2' 'FOODS_1' 'FOODS_2'\n",
            " 'FOODS_3']\n"
          ]
        }
      ],
      "source": [
        "# prints all unique values in all columns\n",
        "for column in item.columns:\n",
        "    unique_vals = item[column].unique()\n",
        "    print(f\"Unique values in {column}:\")\n",
        "    print(unique_vals)\n",
        "\n",
        "    # item dataset is probably some sort of list of item ids which we should include in our analysis"
      ]
    },
    {
      "cell_type": "code",
      "execution_count": 247,
      "metadata": {
        "colab": {
          "base_uri": "https://localhost:8080/"
        },
        "id": "GfylWPr6dQ36",
        "outputId": "3e723701-927b-4a21-b1cb-79bbe2d4d686"
      },
      "outputs": [
        {
          "name": "stdout",
          "output_type": "stream",
          "text": [
            "Data types in item_ids are: \n",
            " Unnamed: 0     int64\n",
            "item_id       object\n",
            "dept_id       object\n",
            "dtype: object\n"
          ]
        }
      ],
      "source": [
        "print(\"Data types in item_ids are: \\n\", item.dtypes)"
      ]
    },
    {
      "cell_type": "code",
      "execution_count": 248,
      "metadata": {
        "colab": {
          "base_uri": "https://localhost:8080/"
        },
        "id": "bVcVtvhodt-l",
        "outputId": "6c202817-f211-4004-ac8d-38fdf672ea87"
      },
      "outputs": [
        {
          "name": "stdout",
          "output_type": "stream",
          "text": [
            "Unique item_ids in 'sales_validation' that are NOT in 'item': ['HOBBIES_1_001' 'HOBBIES_1_002' 'HOBBIES_1_003' ... 'FOODS_3_825'\n",
            " 'FOODS_3_826' 'FOODS_3_827']\n",
            "Unique dept_ids in 'sales_validation' that are NOT in 'item': []\n"
          ]
        }
      ],
      "source": [
        "# lets find out what combination of item id and dept id are missing from item!\n",
        "unique_item_ids_not_in_item = sales_validation.loc[~sales_validation['item_id'].isin(item['item_id']), 'item_id'].unique()\n",
        "unique_dept_ids_not_in_item = sales_validation.loc[~sales_validation['dept_id'].isin(item['dept_id']), 'dept_id'].unique()\n",
        "print(\"Unique item_ids in 'sales_validation' that are NOT in 'item':\", unique_item_ids_not_in_item)\n",
        "print(\"Unique dept_ids in 'sales_validation' that are NOT in 'item':\", unique_dept_ids_not_in_item)\n"
      ]
    },
    {
      "cell_type": "code",
      "execution_count": 249,
      "metadata": {
        "colab": {
          "base_uri": "https://localhost:8080/"
        },
        "id": "9Td8M2xVeyy4",
        "outputId": "6c10be8d-fb3c-4c89-a141-f87cb122f7a0"
      },
      "outputs": [
        {
          "name": "stdout",
          "output_type": "stream",
          "text": [
            "Number of rows before filtering: 30490\n",
            "Number of rows after filtering: 700\n",
            "                              id        item_id    dept_id   cat_id store_id  \\\n",
            "0  HOBBIES_1_049_CA_1_validation  HOBBIES_1_049  HOBBIES_1  HOBBIES     CA_1   \n",
            "1  HOBBIES_1_049_CA_2_validation  HOBBIES_1_049  HOBBIES_1  HOBBIES     CA_2   \n",
            "2  HOBBIES_1_049_CA_3_validation  HOBBIES_1_049  HOBBIES_1  HOBBIES     CA_3   \n",
            "3  HOBBIES_1_049_CA_4_validation  HOBBIES_1_049  HOBBIES_1  HOBBIES     CA_4   \n",
            "4  HOBBIES_1_049_TX_1_validation  HOBBIES_1_049  HOBBIES_1  HOBBIES     TX_1   \n",
            "\n",
            "  state_id  d_1  d_2  d_3  d_4  ...  d_1904  d_1905  d_1906  d_1907  d_1908  \\\n",
            "0       CA    0    0    0    0  ...       0       0       1       0       1   \n",
            "1       CA    0    0    0    0  ...       0       1       0       0       0   \n",
            "2       CA    0    0    0    0  ...       0       2       0       1       2   \n",
            "3       CA    0    0    0    0  ...       2       0       0       1       0   \n",
            "4       TX    0    0    0    0  ...       0       1       1       0       0   \n",
            "\n",
            "   d_1909  d_1910  d_1911  d_1912  d_1913  \n",
            "0       1       0       1       0       0  \n",
            "1       1       0       0       1       2  \n",
            "2       1       1       0       1       4  \n",
            "3       0       0       0       0       0  \n",
            "4       0       0       0       1       0  \n",
            "\n",
            "[5 rows x 1919 columns]\n"
          ]
        }
      ],
      "source": [
        "# by using merge we can as join the two datasets together as filter out all the useless combinations\n",
        "filtered_df = pd.merge(sales_validation, item[['item_id', 'dept_id']],\n",
        "                                     how='inner',\n",
        "                                     on=['item_id', 'dept_id'])\n",
        "\n",
        "# diagnostic stuff\n",
        "print(\"Number of rows before filtering:\", len(sales_validation))\n",
        "print(\"Number of rows after filtering:\", len(filtered_df))\n",
        "\n",
        "print(filtered_df.head())\n"
      ]
    },
    {
      "cell_type": "code",
      "execution_count": 250,
      "metadata": {
        "colab": {
          "base_uri": "https://localhost:8080/"
        },
        "id": "4qRe6Ca3fl_H",
        "outputId": "1c065ff4-12dd-4b08-d071-41b92d9cf8f5"
      },
      "outputs": [
        {
          "name": "stdout",
          "output_type": "stream",
          "text": [
            "Index(['id', 'item_id', 'dept_id', 'cat_id', 'store_id', 'state_id', 'd_1',\n",
            "       'd_2', 'd_3', 'd_4',\n",
            "       ...\n",
            "       'd_1904', 'd_1905', 'd_1906', 'd_1907', 'd_1908', 'd_1909', 'd_1910',\n",
            "       'd_1911', 'd_1912', 'd_1913'],\n",
            "      dtype='object', length=1919)\n",
            "(700, 1919)\n"
          ]
        }
      ],
      "source": [
        "print(filtered_df.columns)\n",
        "print(filtered_df.shape)"
      ]
    },
    {
      "cell_type": "code",
      "execution_count": 251,
      "metadata": {
        "colab": {
          "base_uri": "https://localhost:8080/"
        },
        "id": "9uCZOjdQfRVd",
        "outputId": "6c54efb4-47d9-48d5-870c-6def7eaddbb4"
      },
      "outputs": [
        {
          "name": "stdout",
          "output_type": "stream",
          "text": [
            "         date  wm_yr_wk    weekday  wday  month  year    d event_name_1  \\\n",
            "0  2011-01-29     11101   Saturday     1      1  2011  d_1          NaN   \n",
            "1  2011-01-30     11101     Sunday     2      1  2011  d_2          NaN   \n",
            "2  2011-01-31     11101     Monday     3      1  2011  d_3          NaN   \n",
            "3  2011-02-01     11101    Tuesday     4      2  2011  d_4          NaN   \n",
            "4  2011-02-02     11101  Wednesday     5      2  2011  d_5          NaN   \n",
            "\n",
            "  event_type_1 event_name_2 event_type_2  snap_CA  snap_TX  snap_WI  \n",
            "0          NaN          NaN          NaN        0        0        0  \n",
            "1          NaN          NaN          NaN        0        0        0  \n",
            "2          NaN          NaN          NaN        0        0        0  \n",
            "3          NaN          NaN          NaN        1        1        0  \n",
            "4          NaN          NaN          NaN        1        0        1  \n",
            "1969\n"
          ]
        }
      ],
      "source": [
        "print(calendar.head())\n",
        "print(len(calendar))"
      ]
    },
    {
      "cell_type": "code",
      "execution_count": 252,
      "metadata": {
        "colab": {
          "base_uri": "https://localhost:8080/"
        },
        "id": "VHzHPsK2gySw",
        "outputId": "65c409f7-bd64-455b-9c19-c3d1f5f41d4b"
      },
      "outputs": [
        {
          "name": "stdout",
          "output_type": "stream",
          "text": [
            "                              id        item_id    dept_id   cat_id store_id  \\\n",
            "0  HOBBIES_1_049_CA_1_validation  HOBBIES_1_049  HOBBIES_1  HOBBIES     CA_1   \n",
            "1  HOBBIES_1_049_CA_2_validation  HOBBIES_1_049  HOBBIES_1  HOBBIES     CA_2   \n",
            "2  HOBBIES_1_049_CA_3_validation  HOBBIES_1_049  HOBBIES_1  HOBBIES     CA_3   \n",
            "3  HOBBIES_1_049_CA_4_validation  HOBBIES_1_049  HOBBIES_1  HOBBIES     CA_4   \n",
            "4  HOBBIES_1_049_TX_1_validation  HOBBIES_1_049  HOBBIES_1  HOBBIES     TX_1   \n",
            "\n",
            "  state_id    d  sales  \n",
            "0       CA  d_1      0  \n",
            "1       CA  d_1      0  \n",
            "2       CA  d_1      0  \n",
            "3       CA  d_1      0  \n",
            "4       TX  d_1      0  \n",
            "['d_1' 'd_2' 'd_3' ... 'd_1911' 'd_1912' 'd_1913']\n",
            "[ 0  2  5  1  3 16  4 17  7  6 10  9 12 13  8 18 11 14 19 43 23 24 20 15\n",
            " 41 22 37 21 27 36 61 30 25 34 31 28 26 35 39 84 33 29 48]\n",
            "1339100\n"
          ]
        }
      ],
      "source": [
        "melted_filtered_df = pd.melt(filtered_df,\n",
        "                             id_vars=['id', 'item_id', 'dept_id', 'cat_id', 'store_id', 'state_id'],\n",
        "                             var_name='d',\n",
        "                             value_name='sales')\n",
        "print(melted_filtered_df.head())\n",
        "print(melted_filtered_df.d.unique()) # error check\n",
        "print(melted_filtered_df.sales.unique())\n",
        "print(len(melted_filtered_df))"
      ]
    },
    {
      "cell_type": "code",
      "execution_count": 253,
      "metadata": {
        "colab": {
          "base_uri": "https://localhost:8080/"
        },
        "id": "qBE5e7gNg5RU",
        "outputId": "fd431038-db91-49bc-aba9-738db8dd5124"
      },
      "outputs": [
        {
          "name": "stdout",
          "output_type": "stream",
          "text": [
            "                              id        item_id    dept_id   cat_id store_id  \\\n",
            "0  HOBBIES_1_049_CA_1_validation  HOBBIES_1_049  HOBBIES_1  HOBBIES     CA_1   \n",
            "1  HOBBIES_1_049_CA_2_validation  HOBBIES_1_049  HOBBIES_1  HOBBIES     CA_2   \n",
            "2  HOBBIES_1_049_CA_3_validation  HOBBIES_1_049  HOBBIES_1  HOBBIES     CA_3   \n",
            "3  HOBBIES_1_049_CA_4_validation  HOBBIES_1_049  HOBBIES_1  HOBBIES     CA_4   \n",
            "4  HOBBIES_1_049_TX_1_validation  HOBBIES_1_049  HOBBIES_1  HOBBIES     TX_1   \n",
            "\n",
            "  state_id    d  sales        date  wm_yr_wk  ... wday  month  year  \\\n",
            "0       CA  d_1      0  2011-01-29     11101  ...    1      1  2011   \n",
            "1       CA  d_1      0  2011-01-29     11101  ...    1      1  2011   \n",
            "2       CA  d_1      0  2011-01-29     11101  ...    1      1  2011   \n",
            "3       CA  d_1      0  2011-01-29     11101  ...    1      1  2011   \n",
            "4       TX  d_1      0  2011-01-29     11101  ...    1      1  2011   \n",
            "\n",
            "   event_name_1 event_type_1 event_name_2 event_type_2 snap_CA  snap_TX  \\\n",
            "0           NaN          NaN          NaN          NaN       0        0   \n",
            "1           NaN          NaN          NaN          NaN       0        0   \n",
            "2           NaN          NaN          NaN          NaN       0        0   \n",
            "3           NaN          NaN          NaN          NaN       0        0   \n",
            "4           NaN          NaN          NaN          NaN       0        0   \n",
            "\n",
            "   snap_WI  \n",
            "0        0  \n",
            "1        0  \n",
            "2        0  \n",
            "3        0  \n",
            "4        0  \n",
            "\n",
            "[5 rows x 21 columns]\n",
            "Index(['id', 'item_id', 'dept_id', 'cat_id', 'store_id', 'state_id', 'd',\n",
            "       'sales', 'date', 'wm_yr_wk', 'weekday', 'wday', 'month', 'year',\n",
            "       'event_name_1', 'event_type_1', 'event_name_2', 'event_type_2',\n",
            "       'snap_CA', 'snap_TX', 'snap_WI'],\n",
            "      dtype='object')\n",
            "1339100\n"
          ]
        }
      ],
      "source": [
        "merged_df = pd.merge(melted_filtered_df, calendar, how='inner', on='d')\n",
        "print(merged_df.head())\n",
        "print(merged_df.columns) # see we have four different columns connected into events.let's make them 2!\n",
        "print(len(merged_df))"
      ]
    },
    {
      "cell_type": "code",
      "execution_count": 254,
      "metadata": {
        "colab": {
          "base_uri": "https://localhost:8080/"
        },
        "id": "xpIbe5tbiutC",
        "outputId": "5de320ff-09b1-4d81-85fb-ae72761f6d77"
      },
      "outputs": [
        {
          "name": "stdout",
          "output_type": "stream",
          "text": [
            "[nan 'Sporting' 'Cultural' 'National' 'Religious']\n",
            "[nan 'Cultural' 'Religious']\n",
            "[nan 'SuperBowl' 'ValentinesDay' 'PresidentsDay' 'LentStart' 'LentWeek2'\n",
            " 'StPatricksDay' 'Purim End' 'OrthodoxEaster' 'Pesach End' 'Cinco De Mayo'\n",
            " \"Mother's day\" 'MemorialDay' 'NBAFinalsStart' 'NBAFinalsEnd'\n",
            " \"Father's day\" 'IndependenceDay' 'Ramadan starts' 'Eid al-Fitr'\n",
            " 'LaborDay' 'ColumbusDay' 'Halloween' 'EidAlAdha' 'VeteransDay'\n",
            " 'Thanksgiving' 'Christmas' 'Chanukah End' 'NewYear' 'OrthodoxChristmas'\n",
            " 'MartinLutherKingDay' 'Easter']\n",
            "[nan 'Easter' 'Cinco De Mayo' 'OrthodoxEaster' \"Father's day\"]\n"
          ]
        }
      ],
      "source": [
        "print(merged_df.event_type_1.unique())\n",
        "print(merged_df.event_type_2.unique())\n",
        "print(merged_df.event_name_1.unique())\n",
        "print(merged_df.event_name_2.unique())"
      ]
    },
    {
      "cell_type": "code",
      "execution_count": 255,
      "metadata": {
        "id": "jG2je2t_iX4Y"
      },
      "outputs": [],
      "source": [
        "# melt (aka make them long-form rather than wide-form)\n",
        "df_event_name_melted = pd.melt(merged_df,\n",
        "                               id_vars=['id', 'item_id', 'dept_id', 'cat_id', 'store_id', 'state_id', 'd', 'sales', 'date'],\n",
        "                               value_vars=['event_name_1', 'event_name_2'],\n",
        "                               var_name='event_name_type',\n",
        "                               value_name='event_name')\n",
        "df_event_type_melted = pd.melt(merged_df,\n",
        "                               id_vars=['id', 'item_id', 'dept_id', 'cat_id', 'store_id', 'state_id', 'd', 'sales', 'date'],\n",
        "                               value_vars=['event_type_1', 'event_type_2'],\n",
        "                               var_name='event_type_type',\n",
        "                               value_name='event_type')\n",
        "df_event_name_melted.drop('event_name_type', axis=1, inplace=True)\n",
        "df_event_type_melted.drop('event_type_type', axis=1, inplace=True)\n",
        "\n",
        "sort_columns = ['id', 'item_id', 'dept_id', 'cat_id', 'store_id', 'state_id', 'd', 'sales', 'date']\n",
        "\n",
        "df_event_name_melted.sort_values(by=sort_columns, inplace=True)\n",
        "df_event_type_melted.sort_values(by=sort_columns, inplace=True)\n",
        "\n",
        "cols_event_name = ['event_name']\n",
        "cols_event_type = ['event_type']\n",
        "\n",
        "final_df = pd.concat([df_event_name_melted[sort_columns],\n",
        "                      merged_df[['wm_yr_wk', 'weekday', 'wday', 'month', 'year', 'snap_CA', 'snap_TX', 'snap_WI']],\n",
        "                      df_event_name_melted[cols_event_name],\n",
        "                      df_event_type_melted[cols_event_type]], axis=1)\n",
        "final_df.dropna(subset=['weekday', 'month'], inplace=True)\n"
      ]
    },
    {
      "cell_type": "code",
      "execution_count": 256,
      "metadata": {
        "colab": {
          "base_uri": "https://localhost:8080/"
        },
        "id": "chGLmjx4iiga",
        "outputId": "45d795f4-d5d4-4c7f-9c92-3a27e5ebe592"
      },
      "outputs": [
        {
          "name": "stdout",
          "output_type": "stream",
          "text": [
            "                              id        item_id    dept_id   cat_id store_id  \\\n",
            "0  HOBBIES_1_049_CA_1_validation  HOBBIES_1_049  HOBBIES_1  HOBBIES     CA_1   \n",
            "1  HOBBIES_1_049_CA_2_validation  HOBBIES_1_049  HOBBIES_1  HOBBIES     CA_2   \n",
            "2  HOBBIES_1_049_CA_3_validation  HOBBIES_1_049  HOBBIES_1  HOBBIES     CA_3   \n",
            "3  HOBBIES_1_049_CA_4_validation  HOBBIES_1_049  HOBBIES_1  HOBBIES     CA_4   \n",
            "4  HOBBIES_1_049_TX_1_validation  HOBBIES_1_049  HOBBIES_1  HOBBIES     TX_1   \n",
            "\n",
            "  state_id    d  sales        date  wm_yr_wk   weekday  wday  month    year  \\\n",
            "0       CA  d_1      0  2011-01-29   11101.0  Saturday   1.0    1.0  2011.0   \n",
            "1       CA  d_1      0  2011-01-29   11101.0  Saturday   1.0    1.0  2011.0   \n",
            "2       CA  d_1      0  2011-01-29   11101.0  Saturday   1.0    1.0  2011.0   \n",
            "3       CA  d_1      0  2011-01-29   11101.0  Saturday   1.0    1.0  2011.0   \n",
            "4       TX  d_1      0  2011-01-29   11101.0  Saturday   1.0    1.0  2011.0   \n",
            "\n",
            "   snap_CA  snap_TX  snap_WI event_name event_type  \n",
            "0      0.0      0.0      0.0        NaN        NaN  \n",
            "1      0.0      0.0      0.0        NaN        NaN  \n",
            "2      0.0      0.0      0.0        NaN        NaN  \n",
            "3      0.0      0.0      0.0        NaN        NaN  \n",
            "4      0.0      0.0      0.0        NaN        NaN  \n",
            "Index(['id', 'item_id', 'dept_id', 'cat_id', 'store_id', 'state_id', 'd',\n",
            "       'sales', 'date', 'wm_yr_wk', 'weekday', 'wday', 'month', 'year',\n",
            "       'snap_CA', 'snap_TX', 'snap_WI', 'event_name', 'event_type'],\n",
            "      dtype='object')\n",
            "[nan 'Sporting' 'Cultural' 'National' 'Religious']\n",
            "[nan 'SuperBowl' 'ValentinesDay' 'PresidentsDay' 'LentStart' 'LentWeek2'\n",
            " 'StPatricksDay' 'Purim End' 'OrthodoxEaster' 'Pesach End' 'Cinco De Mayo'\n",
            " \"Mother's day\" 'MemorialDay' 'NBAFinalsStart' 'NBAFinalsEnd'\n",
            " \"Father's day\" 'IndependenceDay' 'Ramadan starts' 'Eid al-Fitr'\n",
            " 'LaborDay' 'ColumbusDay' 'Halloween' 'EidAlAdha' 'VeteransDay'\n",
            " 'Thanksgiving' 'Christmas' 'Chanukah End' 'NewYear' 'OrthodoxChristmas'\n",
            " 'MartinLutherKingDay' 'Easter']\n"
          ]
        }
      ],
      "source": [
        "print(final_df.head())\n",
        "print(final_df.columns)\n",
        "print(final_df.event_type.unique()) #error check\n",
        "print(final_df.event_name.unique()) #error check"
      ]
    },
    {
      "cell_type": "code",
      "execution_count": 257,
      "metadata": {
        "colab": {
          "base_uri": "https://localhost:8080/"
        },
        "id": "YlrwH3EEjssq",
        "outputId": "5d2a9a6e-753b-4816-a84d-ae8bdb14a973"
      },
      "outputs": [
        {
          "name": "stdout",
          "output_type": "stream",
          "text": [
            "Sum of NaN values in each column:\n",
            "id                  0\n",
            "item_id             0\n",
            "dept_id             0\n",
            "cat_id              0\n",
            "store_id            0\n",
            "state_id            0\n",
            "d                   0\n",
            "sales               0\n",
            "date                0\n",
            "wm_yr_wk            0\n",
            "weekday             0\n",
            "wday                0\n",
            "month               0\n",
            "year                0\n",
            "snap_CA             0\n",
            "snap_TX             0\n",
            "snap_WI             0\n",
            "event_name    1231300\n",
            "event_type    1231300\n",
            "dtype: int64\n",
            "total rows: 1339100\n"
          ]
        }
      ],
      "source": [
        "nan_count = final_df.isna().sum()\n",
        "\n",
        "# sum of nan values in all columns\n",
        "print(\"Sum of NaN values in each column:\")\n",
        "print(nan_count)\n",
        "print(f\"total rows: {len(final_df)}\")"
      ]
    },
    {
      "cell_type": "code",
      "execution_count": 258,
      "metadata": {
        "colab": {
          "base_uri": "https://localhost:8080/"
        },
        "id": "SSY9i9ddsC50",
        "outputId": "1790f139-463d-4933-e168-2bb3a2340bf1"
      },
      "outputs": [
        {
          "name": "stdout",
          "output_type": "stream",
          "text": [
            "  store_id        item_id  wm_yr_wk  sell_price\n",
            "0     CA_1  HOBBIES_1_001     11325        9.58\n",
            "1     CA_1  HOBBIES_1_001     11326        9.58\n",
            "2     CA_1  HOBBIES_1_001     11327        8.26\n",
            "3     CA_1  HOBBIES_1_001     11328        8.26\n",
            "4     CA_1  HOBBIES_1_001     11329        8.26\n",
            "store_id       object\n",
            "item_id        object\n",
            "wm_yr_wk        int64\n",
            "sell_price    float64\n",
            "dtype: object\n"
          ]
        }
      ],
      "source": [
        "# sell prices dataframe is still missing, so here we go!\n",
        "print(sell_prices.head())\n",
        "print(sell_prices.dtypes)"
      ]
    },
    {
      "cell_type": "code",
      "execution_count": 259,
      "metadata": {
        "colab": {
          "base_uri": "https://localhost:8080/"
        },
        "id": "6fmntdrrsIAy",
        "outputId": "0e77efd4-9cc9-4763-a91b-bd71e34ff853"
      },
      "outputs": [
        {
          "name": "stdout",
          "output_type": "stream",
          "text": [
            "                              id        item_id    dept_id   cat_id store_id  \\\n",
            "0  HOBBIES_1_049_CA_1_validation  HOBBIES_1_049  HOBBIES_1  HOBBIES     CA_1   \n",
            "1  HOBBIES_1_049_CA_2_validation  HOBBIES_1_049  HOBBIES_1  HOBBIES     CA_2   \n",
            "2  HOBBIES_1_049_CA_3_validation  HOBBIES_1_049  HOBBIES_1  HOBBIES     CA_3   \n",
            "3  HOBBIES_1_049_CA_4_validation  HOBBIES_1_049  HOBBIES_1  HOBBIES     CA_4   \n",
            "4  HOBBIES_1_049_TX_1_validation  HOBBIES_1_049  HOBBIES_1  HOBBIES     TX_1   \n",
            "\n",
            "  state_id    d  sales        date wm_yr_wk   weekday  wday  month    year  \\\n",
            "0       CA  d_1      0  2011-01-29    11101  Saturday   1.0    1.0  2011.0   \n",
            "1       CA  d_1      0  2011-01-29    11101  Saturday   1.0    1.0  2011.0   \n",
            "2       CA  d_1      0  2011-01-29    11101  Saturday   1.0    1.0  2011.0   \n",
            "3       CA  d_1      0  2011-01-29    11101  Saturday   1.0    1.0  2011.0   \n",
            "4       TX  d_1      0  2011-01-29    11101  Saturday   1.0    1.0  2011.0   \n",
            "\n",
            "   snap_CA  snap_TX  snap_WI event_name event_type  \n",
            "0      0.0      0.0      0.0        NaN        NaN  \n",
            "1      0.0      0.0      0.0        NaN        NaN  \n",
            "2      0.0      0.0      0.0        NaN        NaN  \n",
            "3      0.0      0.0      0.0        NaN        NaN  \n",
            "4      0.0      0.0      0.0        NaN        NaN  \n"
          ]
        }
      ],
      "source": [
        "#print(final_df.head()) # the wm_yr_wk column is float and has decimal places, in comparison to sell_prices wm_yr_wk col which does not have decimal places\n",
        "#print(final_df.dtypes)\n",
        "final_df['wm_yr_wk'] = final_df['wm_yr_wk'].astype(int)\n",
        "final_df['wm_yr_wk'] = final_df['wm_yr_wk'].astype('object')\n",
        "print(final_df.head())"
      ]
    },
    {
      "cell_type": "code",
      "execution_count": 260,
      "metadata": {
        "colab": {
          "base_uri": "https://localhost:8080/"
        },
        "id": "h4ECjfT_uxO3",
        "outputId": "0907d2e1-bc90-4a4f-e638-bb8b52b59f98"
      },
      "outputs": [
        {
          "name": "stdout",
          "output_type": "stream",
          "text": [
            "store_id      0\n",
            "item_id       0\n",
            "wm_yr_wk      0\n",
            "sell_price    0\n",
            "dtype: int64\n"
          ]
        }
      ],
      "source": [
        "print(sell_prices.isna().sum())"
      ]
    },
    {
      "cell_type": "code",
      "execution_count": 261,
      "metadata": {
        "id": "ISaOtAKWs_dq"
      },
      "outputs": [],
      "source": [
        "final_df = pd.merge(final_df,\n",
        "                    sell_prices[['store_id', 'item_id', 'wm_yr_wk', 'sell_price']],\n",
        "                    on=['store_id', 'item_id', 'wm_yr_wk'],\n",
        "                    how='left')"
      ]
    },
    {
      "cell_type": "code",
      "execution_count": 262,
      "metadata": {
        "colab": {
          "base_uri": "https://localhost:8080/"
        },
        "id": "oj_Dqh1R0Qtx",
        "outputId": "018358c3-2593-4b02-c5ed-4fdc44949298"
      },
      "outputs": [
        {
          "name": "stdout",
          "output_type": "stream",
          "text": [
            "                              id        item_id    dept_id   cat_id store_id  \\\n",
            "0  HOBBIES_1_049_CA_1_validation  HOBBIES_1_049  HOBBIES_1  HOBBIES     CA_1   \n",
            "1  HOBBIES_1_049_CA_2_validation  HOBBIES_1_049  HOBBIES_1  HOBBIES     CA_2   \n",
            "2  HOBBIES_1_049_CA_3_validation  HOBBIES_1_049  HOBBIES_1  HOBBIES     CA_3   \n",
            "3  HOBBIES_1_049_CA_4_validation  HOBBIES_1_049  HOBBIES_1  HOBBIES     CA_4   \n",
            "4  HOBBIES_1_049_TX_1_validation  HOBBIES_1_049  HOBBIES_1  HOBBIES     TX_1   \n",
            "\n",
            "  state_id    d  sales        date wm_yr_wk   weekday  wday  month    year  \\\n",
            "0       CA  d_1      0  2011-01-29    11101  Saturday   1.0    1.0  2011.0   \n",
            "1       CA  d_1      0  2011-01-29    11101  Saturday   1.0    1.0  2011.0   \n",
            "2       CA  d_1      0  2011-01-29    11101  Saturday   1.0    1.0  2011.0   \n",
            "3       CA  d_1      0  2011-01-29    11101  Saturday   1.0    1.0  2011.0   \n",
            "4       TX  d_1      0  2011-01-29    11101  Saturday   1.0    1.0  2011.0   \n",
            "\n",
            "   snap_CA  snap_TX  snap_WI event_name event_type  sell_price  \n",
            "0      0.0      0.0      0.0        NaN        NaN         NaN  \n",
            "1      0.0      0.0      0.0        NaN        NaN         NaN  \n",
            "2      0.0      0.0      0.0        NaN        NaN         NaN  \n",
            "3      0.0      0.0      0.0        NaN        NaN         NaN  \n",
            "4      0.0      0.0      0.0        NaN        NaN         NaN  \n"
          ]
        }
      ],
      "source": [
        "print(final_df.head())"
      ]
    },
    {
      "cell_type": "code",
      "execution_count": 263,
      "metadata": {
        "colab": {
          "base_uri": "https://localhost:8080/"
        },
        "id": "IyJrIGxTt_N_",
        "outputId": "15cfc6ab-ceff-4284-cfab-203bf77fe7cf"
      },
      "outputs": [
        {
          "name": "stdout",
          "output_type": "stream",
          "text": [
            "id                  0\n",
            "item_id             0\n",
            "dept_id             0\n",
            "cat_id              0\n",
            "store_id            0\n",
            "state_id            0\n",
            "d                   0\n",
            "sales               0\n",
            "date                0\n",
            "wm_yr_wk            0\n",
            "weekday             0\n",
            "wday                0\n",
            "month               0\n",
            "year                0\n",
            "snap_CA             0\n",
            "snap_TX             0\n",
            "snap_WI             0\n",
            "event_name    1231300\n",
            "event_type    1231300\n",
            "sell_price     202188\n",
            "dtype: int64\n",
            "id            1339100\n",
            "item_id       1339100\n",
            "dept_id       1339100\n",
            "cat_id        1339100\n",
            "store_id      1339100\n",
            "state_id      1339100\n",
            "d             1339100\n",
            "sales         1339100\n",
            "date          1339100\n",
            "wm_yr_wk      1339100\n",
            "weekday       1339100\n",
            "wday          1339100\n",
            "month         1339100\n",
            "year          1339100\n",
            "snap_CA       1339100\n",
            "snap_TX       1339100\n",
            "snap_WI       1339100\n",
            "event_name     107800\n",
            "event_type     107800\n",
            "sell_price    1136912\n",
            "dtype: int64\n",
            "(1339100, 20)\n",
            "2016-04-24\n"
          ]
        }
      ],
      "source": [
        "final_df = final_df.drop_duplicates()\n",
        "print(final_df.isna().sum())\n",
        "\n",
        "print(final_df.notna().sum())\n",
        "print(final_df.shape)\n",
        "print(final_df.date.max())"
      ]
    },
    {
      "cell_type": "code",
      "execution_count": 264,
      "metadata": {
        "colab": {
          "base_uri": "https://localhost:8080/",
          "height": 446
        },
        "id": "6vwm_GAiugtK",
        "outputId": "f99e0ed5-1156-4a52-e8af-0662704b08e8"
      },
      "outputs": [
        {
          "name": "stdout",
          "output_type": "stream",
          "text": [
            "id                 0\n",
            "item_id            0\n",
            "dept_id            0\n",
            "cat_id             0\n",
            "store_id           0\n",
            "state_id           0\n",
            "d                  0\n",
            "sales              0\n",
            "date               0\n",
            "wm_yr_wk           0\n",
            "weekday            0\n",
            "wday               0\n",
            "month              0\n",
            "year               0\n",
            "snap_CA            0\n",
            "snap_TX            0\n",
            "snap_WI            0\n",
            "event_name    185439\n",
            "event_type    185439\n",
            "sell_price    202188\n",
            "dtype: int64\n"
          ]
        },
        {
          "data": {
            "text/plain": [
              "'2015-12-25'"
            ]
          },
          "execution_count": 264,
          "metadata": {},
          "output_type": "execute_result"
        }
      ],
      "source": [
        "filtered_df = final_df[final_df['sell_price'].isna()]\n",
        "filtered_df.drop_duplicates()\n",
        "print(filtered_df.isna().sum())\n",
        "filtered_df.date.max()\n"
      ]
    },
    {
      "cell_type": "code",
      "execution_count": 265,
      "metadata": {
        "colab": {
          "base_uri": "https://localhost:8080/"
        },
        "id": "LaG4nAYVwRlp",
        "outputId": "a0d5992c-409c-40d1-81ca-533502e54c1f"
      },
      "outputs": [
        {
          "name": "stdout",
          "output_type": "stream",
          "text": [
            "Unique item_ids in 'sales_validation' that are NOT in 'item': []\n",
            "Unique dept_ids in 'sales_validation' that are NOT in 'item': []\n"
          ]
        }
      ],
      "source": [
        "unique_item_ids_not_in_item = filtered_df.loc[~filtered_df['item_id'].isin(item['item_id']), 'item_id'].unique()\n",
        "unique_dept_ids_not_in_item = filtered_df.loc[~filtered_df['dept_id'].isin(item['dept_id']), 'dept_id'].unique()\n",
        "print(\"Unique item_ids in 'sales_validation' that are NOT in 'item':\", unique_item_ids_not_in_item)\n",
        "print(\"Unique dept_ids in 'sales_validation' that are NOT in 'item':\", unique_dept_ids_not_in_item)\n"
      ]
    },
    {
      "cell_type": "code",
      "execution_count": 266,
      "metadata": {
        "colab": {
          "base_uri": "https://localhost:8080/"
        },
        "id": "fpaeA0-9zcan",
        "outputId": "0c2ce119-6ad7-458f-a8cf-390678344803"
      },
      "outputs": [
        {
          "name": "stdout",
          "output_type": "stream",
          "text": [
            "0             1\n",
            "1             1\n",
            "2             1\n",
            "3             1\n",
            "4             1\n",
            "           ... \n",
            "1339095    1913\n",
            "1339096    1913\n",
            "1339097    1913\n",
            "1339098    1913\n",
            "1339099    1913\n",
            "Name: d, Length: 1339100, dtype: int32\n"
          ]
        }
      ],
      "source": [
        "#change column d type from string to inteager\n",
        "final_df.d = final_df.d.str.replace(\"d_\",\"\")\n",
        "final_df.d = final_df.d.astype(int)\n",
        "print(final_df.d)"
      ]
    },
    {
      "cell_type": "code",
      "execution_count": 267,
      "metadata": {},
      "outputs": [],
      "source": [
        "final_df['date'] = pd.to_datetime(final_df['date']) \n",
        "final_df[\"month\"] = final_df['date'].dt.strftime('%B')"
      ]
    },
    {
      "cell_type": "code",
      "execution_count": 268,
      "metadata": {
        "colab": {
          "base_uri": "https://localhost:8080/"
        },
        "id": "cW8yrjl7Erj3",
        "outputId": "1d53be00-69fd-49ba-c0eb-b09214d3cb24"
      },
      "outputs": [
        {
          "name": "stdout",
          "output_type": "stream",
          "text": [
            "Count of na values in column turnover: 0\n"
          ]
        }
      ],
      "source": [
        "#new column turnover\n",
        "final_df[\"turnover\"] = final_df.sales * final_df.sell_price\n",
        "final_df = final_df.dropna(subset=[\"turnover\"])\n",
        "print(f\"Count of na values in column turnover: {final_df.turnover.isna().sum()}\")"
      ]
    },
    {
      "cell_type": "code",
      "execution_count": 269,
      "metadata": {
        "colab": {
          "base_uri": "https://localhost:8080/"
        },
        "id": "1wshL6oyGCUJ",
        "outputId": "a2266b1b-e2d8-4b8e-defe-f3d2ae6abb05"
      },
      "outputs": [
        {
          "data": {
            "text/plain": [
              "1078812"
            ]
          },
          "execution_count": 269,
          "metadata": {},
          "output_type": "execute_result"
        }
      ],
      "source": [
        "#Drop rows where date is higher than 1.2.2016\n",
        "final_df = final_df[final_df.date <= \"2016-02-01\"]\n",
        "\n",
        "#Length of dataframe after drop\n",
        "len(final_df)"
      ]
    },
    {
      "cell_type": "code",
      "execution_count": 270,
      "metadata": {},
      "outputs": [
        {
          "data": {
            "text/plain": [
              "Index(['id', 'item_id', 'dept_id', 'cat_id', 'store_id', 'state_id', 'd',\n",
              "       'sales', 'date', 'wm_yr_wk', 'weekday', 'wday', 'month', 'year',\n",
              "       'snap_CA', 'snap_TX', 'snap_WI', 'event_name', 'event_type',\n",
              "       'sell_price', 'turnover'],\n",
              "      dtype='object')"
            ]
          },
          "execution_count": 270,
          "metadata": {},
          "output_type": "execute_result"
        }
      ],
      "source": [
        "final_df.columns"
      ]
    },
    {
      "cell_type": "code",
      "execution_count": 271,
      "metadata": {
        "id": "IHJyWT5QS--F"
      },
      "outputs": [],
      "source": [
        "#Droping columns\n",
        "final_df = final_df.drop([\"id\",\"item_id\", \"cat_id\", \"state_id\", \"sales\", 'sell_price', \"snap_TX\", \"snap_CA\", \"snap_WI\", \"event_name\", \"wday\"],axis =1)"
      ]
    },
    {
      "cell_type": "code",
      "execution_count": null,
      "metadata": {
        "id": "hKeNS0tOTJcQ"
      },
      "outputs": [],
      "source": [
        "#Grouping dataframe by department, store and date\n",
        "final_df = final_df.groupby([\"dept_id\", \"store_id\", \"date\"]).aggregate({\n",
        "    'd':'min',\n",
        "    'weekday':'min',\n",
        "    'month':'min',\n",
        "    'year':'min',\n",
        "    'event_type':'min',\n",
        "    'turnover':'sum',\n",
        "    'wm_yr_wk':'min'\n",
        "    }).reset_index()"
      ]
    },
    {
      "cell_type": "code",
      "execution_count": null,
      "metadata": {
        "id": "kHgCahOOKQRh"
      },
      "outputs": [],
      "source": [
        "#New columns, which will be used as a features in models\n",
        "final_df[\"turnover_month_avg\"] = 0.0\n",
        "final_df[\"turnover_month_max\"] = 0.0\n",
        "final_df[\"turnover_month_min\"] = 0.0\n",
        "\n",
        "final_df[\"turnover_week_avg\"] = 0.0\n",
        "final_df[\"turnover_week_max\"] = 0.0\n",
        "final_df[\"turnover_week_min\"] = 0.0\n",
        "\n",
        "final_df[\"turnover_d_1\"] = 0.0\n",
        "final_df[\"turnover_d_2\"] = 0.0\n",
        "final_df[\"turnover_d_3\"] = 0.0\n",
        "\n",
        "#final_df = final_df[final_df.date <= '2013-01-29']\n",
        "\n",
        "min_date_plus30 = final_df.date.min() + pd.Timedelta(days=30)\n",
        "i = 1\n",
        "max_i = len(final_df)\n",
        "for index, row in final_df.iterrows():\n",
        "    if i == 1:\n",
        "        start = time.time()\n",
        "    if i%1000 == 0:\n",
        "        now = time.time()\n",
        "        percentage = i/max_i\n",
        "        remaining = math.floor(((now-start)/percentage)-(now-start))\n",
        "        minutes = math.floor(remaining/60)\n",
        "        seconds = remaining%60\n",
        "        print(f'{math.floor(percentage*100)}% completed, remaining established time is {minutes} minutes and {seconds} seconds')\n",
        "\n",
        "    if (row.date <= min_date_plus30):\n",
        "        pass\n",
        "    else:\n",
        "        date_month_back = row.date - pd.Timedelta(days=30)\n",
        "        date_week_back = row.date - pd.Timedelta(days=7)\n",
        "        date_3days_forward = row.date + pd.Timedelta(days=3)\n",
        "\n",
        "        d_1 = row.date - pd.Timedelta(days=1)\n",
        "        d_2 = row.date - pd.Timedelta(days=2)\n",
        "        d_3 = row.date - pd.Timedelta(days=3)\n",
        "\n",
        "        filter = (final_df.date >= date_month_back) & (final_df.date < row.date) & (final_df.dept_id == row.dept_id) & (final_df.store_id == row.store_id)\n",
        "        partial_df = final_df[filter]\n",
        "        final_df.at[index, \"turnover_month_avg\"] = partial_df.turnover.mean()\n",
        "        final_df.at[index, \"turnover_month_max\"] = partial_df.turnover.max()\n",
        "        final_df.at[index, \"turnover_month_min\"] = partial_df.turnover.min()\n",
        "\n",
        "        partial_df = partial_df[partial_df.date >= date_week_back]\n",
        "        final_df.at[index, \"turnover_week_avg\"] = partial_df.turnover.mean()\n",
        "        final_df.at[index, \"turnover_week_max\"] = partial_df.turnover.max()\n",
        "        final_df.at[index, \"turnover_week_min\"] = partial_df.turnover.min()\n",
        "\n",
        "        d_1 = partial_df.turnover[partial_df.date == d_1]\n",
        "        d_2 = partial_df.turnover[partial_df.date == d_2]\n",
        "        d_3 = partial_df.turnover[partial_df.date == d_3]\n",
        "\n",
        "        if len(d_1) == 0:\n",
        "            d_1 = np.nan\n",
        "        if len(d_2) == 0:\n",
        "            d_2 = np.nan\n",
        "        if len(d_3) == 0:\n",
        "            d_3 = np.nan\n",
        "\n",
        "        final_df.at[index, \"turnover_d_1\"] = d_1\n",
        "        final_df.at[index, \"turnover_d_2\"] = d_2\n",
        "        final_df.at[index, \"turnover_d_3\"] = d_3\n",
        "    i += 1\n",
        "end = time.time()\n",
        "end-start"
      ]
    },
    {
      "cell_type": "code",
      "execution_count": null,
      "metadata": {},
      "outputs": [],
      "source": [
        "#save dataframe\n",
        "#final_df.to_csv('../data/interim/final_df_interim_partial_full_sell_price.csv')"
      ]
    },
    {
      "cell_type": "code",
      "execution_count": null,
      "metadata": {
        "id": "lJ1gUtT-UIrp"
      },
      "outputs": [],
      "source": [
        "#Load pre-counted dataframe\n",
        "final_df = pd.read_csv('../data/interim/final_df_interim_partial_full.csv')\n",
        "final_df.date = pd.to_datetime(final_df.date)"
      ]
    },
    {
      "cell_type": "code",
      "execution_count": null,
      "metadata": {},
      "outputs": [],
      "source": [
        "final_df.dropna(axis = 0, subset=[\"turnover_d_1\", \"turnover_d_2\", \"turnover_d_3\", \"turnover_month_max\", \"turnover_month_min\",\"turnover_month_avg\",\n",
        "                                  \"turnover_week_max\", \"turnover_week_min\", \"turnover_week_avg\"], inplace=True)"
      ]
    },
    {
      "cell_type": "code",
      "execution_count": null,
      "metadata": {
        "id": "d7p8uQHsUvVU"
      },
      "outputs": [],
      "source": [
        "#Modeling - data preparation\n",
        "min_date_plus30 = final_df.date.min() + pd.Timedelta(days=30)\n",
        "final_df = final_df[final_df.date > min_date_plus30]\n",
        "final_df = final_df.sort_values(by='date')\n",
        "final_df.d = final_df.d - final_df.d.min() + 1\n",
        "final_df = final_df[[\"turnover\", \"d\", \"dept_id\", \"store_id\",\"weekday\", \"month\", \"wm_yr_wk\", \"event_type\", \"turnover_month_avg\",\n",
        "            \"turnover_month_max\", \"turnover_month_min\", \"turnover_week_avg\", \"turnover_week_max\", \"turnover_week_min\", \"turnover_d_1\", \"turnover_d_2\", \"turnover_d_3\"]]"
      ]
    },
    {
      "cell_type": "code",
      "execution_count": null,
      "metadata": {},
      "outputs": [],
      "source": [
        "#Make dummy variables (one-hot encoding)\n",
        "final_df = pd.get_dummies(final_df, columns=['dept_id', 'store_id', \"event_type\", \"weekday\", \"month\"], drop_first=False)\n",
        "\n",
        "final_df = final_df.drop(columns=['dept_id_FOODS_1', 'store_id_CA_1', 'event_type_Cultural', 'weekday_Monday', 'month_January'])"
      ]
    },
    {
      "cell_type": "code",
      "execution_count": 7,
      "metadata": {},
      "outputs": [],
      "source": [
        "#Dataframe to train+validation and test data\n",
        "train_filter = final_df.d <= math.floor(0.8*final_df.d.max())\n",
        "training_df = final_df[train_filter]\n",
        "X_train = training_df.drop(columns=[\"d\",\"turnover\"])\n",
        "y_train = training_df.turnover\n",
        "\n",
        "val_filter = final_df.d > math.floor(0.8*final_df.d.max())\n",
        "validation_df = final_df[val_filter]\n",
        "X_validation = validation_df.drop(columns=[\"d\",\"turnover\"])\n",
        "y_validation = validation_df.turnover"
      ]
    },
    {
      "cell_type": "markdown",
      "metadata": {
        "id": "08DL8gPjacBq"
      },
      "source": [
        "## Modeling"
      ]
    },
    {
      "cell_type": "markdown",
      "metadata": {},
      "source": [
        "### Baseline model"
      ]
    },
    {
      "cell_type": "code",
      "execution_count": 8,
      "metadata": {},
      "outputs": [
        {
          "name": "stdout",
          "output_type": "stream",
          "text": [
            "RMSE of baseline model is 36.911417741002495\n"
          ]
        }
      ],
      "source": [
        "#Baseline model based on only zeros\n",
        "y_pred = pd.Series(np.zeros(len(y_validation)))\n",
        "rmse_baseline = np.sqrt(mean_squared_error(y_validation, y_pred))\n",
        "\n",
        "print(f\"RMSE of baseline model is {rmse_baseline}\")"
      ]
    },
    {
      "cell_type": "code",
      "execution_count": 9,
      "metadata": {},
      "outputs": [
        {
          "name": "stdout",
          "output_type": "stream",
          "text": [
            "RMSE of better baseline model is 24.67260251431464\n"
          ]
        }
      ],
      "source": [
        "#Baseline model based on Yesterday's turnover\n",
        "y_pred = validation_df.turnover_d_1\n",
        "rmse_baseline = np.sqrt(mean_squared_error(y_validation, y_pred))\n",
        "\n",
        "print(f\"RMSE of better baseline model is {rmse_baseline}\")"
      ]
    },
    {
      "cell_type": "markdown",
      "metadata": {},
      "source": [
        "### Linear regression"
      ]
    },
    {
      "cell_type": "code",
      "execution_count": 10,
      "metadata": {},
      "outputs": [],
      "source": [
        "missing_columns_df1 = set(X_train.columns) - set(X_validation.columns)\n",
        "missing_columns_df2 = set(X_validation.columns) - set(X_train.columns)\n",
        "\n",
        "for column in missing_columns_df1:\n",
        "    X_validation[column] = 0  \n",
        "\n",
        "for column in missing_columns_df2:\n",
        "    X_train[column] = 0  \n",
        "\n",
        "X_validation = X_validation[X_train.columns]"
      ]
    },
    {
      "cell_type": "code",
      "execution_count": 12,
      "metadata": {},
      "outputs": [],
      "source": [
        "scaler = StandardScaler()\n",
        "\n",
        "X_train_std = scaler.fit_transform(X_train)\n",
        "X_validation_std = scaler.transform(X_validation)\n",
        "\n",
        "X_train = pd.DataFrame(X_train_std, columns=X_train.columns)\n",
        "X_validation = pd.DataFrame(X_validation_std, columns=X_validation.columns)"
      ]
    },
    {
      "cell_type": "code",
      "execution_count": 13,
      "metadata": {
        "colab": {
          "base_uri": "https://localhost:8080/"
        },
        "id": "BKYnpmBDYxtJ",
        "outputId": "3fb532af-09a3-4faf-f114-b5545f097805"
      },
      "outputs": [
        {
          "name": "stdout",
          "output_type": "stream",
          "text": [
            "[ 2.07484760e-01  7.32926002e+00 -4.98188951e-02 -1.08851649e-01\n",
            "  4.07272876e+00 -1.01805778e-01  2.82465806e-01  7.54679599e-01\n",
            " -9.33219401e-02 -3.40996869e-01  2.24905404e-01  1.76521315e-01\n",
            "  3.37484759e-01 -1.77234814e-01  3.34754335e-01  8.40563029e-02\n",
            " -2.42700630e-03  1.43080800e-01 -2.30816412e-01 -2.50457961e-01\n",
            " -1.18982401e-01 -2.00334144e-01 -1.21351509e-01 -1.09923756e-01\n",
            " -2.17150102e-01 -3.72845390e-01  4.65688959e-02 -1.75666976e-02\n",
            "  3.78574532e-01  1.73651725e+00  1.51733022e+00 -4.40086758e-01\n",
            " -3.11796241e-01 -3.86843074e-01 -2.29583411e-01 -8.09710080e-03\n",
            " -1.69663514e-01  9.68956412e-03 -4.79216056e-02 -1.19080053e-01\n",
            " -2.03190494e-01 -2.00182236e-01 -1.80036359e-01 -1.91671230e-01\n",
            " -9.91326870e-02]\n",
            "RMSE of Linear Regression model is 17.629919437268292\n"
          ]
        }
      ],
      "source": [
        "#Linear Regression model\n",
        "lin_reg = LinearRegression()\n",
        "\n",
        "lin_reg.fit(X_train, y_train)\n",
        "y_pred_lin = lin_reg.predict(X_validation)\n",
        "\n",
        "lin_reg_rmse = np.sqrt(mean_squared_error(y_validation, y_pred_lin))\n",
        "print(lin_reg.coef_)\n",
        "\n",
        "print(f\"RMSE of Linear Regression model is {lin_reg_rmse}\")"
      ]
    },
    {
      "cell_type": "code",
      "execution_count": 14,
      "metadata": {},
      "outputs": [
        {
          "name": "stdout",
          "output_type": "stream",
          "text": [
            "Importance of features:\n",
            "Reference category \n",
            " event_type = None \n",
            " weekday = Friday \n",
            " store_id = CA_1 \n",
            " dept_id = FOODS_1 \n",
            "\n"
          ]
        },
        {
          "data": {
            "image/png": "[encoded data removed]",
            "text/plain": [
              "<Figure size 900x1200 with 1 Axes>"
            ]
          },
          "metadata": {},
          "output_type": "display_data"
        }
      ],
      "source": [
        "print(\"Importance of features:\")\n",
        "print(\"Reference category \\n event_type = None \\n weekday = Friday \\n store_id = CA_1 \\n dept_id = FOODS_1 \\n\")\n",
        "\n",
        "coefs = pd.DataFrame(lin_reg.coef_, columns=[\"Coefficients\"], index=X_train.columns)\n",
        "coefs['Absolute_Coefficients'] = coefs['Coefficients'].abs()  \n",
        "coefs = coefs.sort_values(by=\"Absolute_Coefficients\", ascending=True) \n",
        "coefs.drop(columns=[\"Absolute_Coefficients\"], inplace=True)  \n",
        "coefs.plot(kind=\"barh\", figsize=(9, 12))\n",
        "plt.axvline(x=0, color=\".5\")\n",
        "plt.subplots_adjust(left=0.3)\n",
        "plt.show()"
      ]
    },
    {
      "cell_type": "code",
      "execution_count": 148,
      "metadata": {
        "id": "_JI5s22LCA8y"
      },
      "outputs": [],
      "source": [
        "with open('../models/lin_reg_model.pkl', 'wb') as file:\n",
        "    pickle.dump(lin_reg, file)"
      ]
    },
    {
      "cell_type": "markdown",
      "metadata": {},
      "source": [
        "### Lasso regression"
      ]
    },
    {
      "cell_type": "code",
      "execution_count": 15,
      "metadata": {},
      "outputs": [
        {
          "name": "stdout",
          "output_type": "stream",
          "text": [
            "0.1\n",
            "0.2\n",
            "0.3\n",
            "0.4\n",
            "0.5\n",
            "0.6\n",
            "0.7\n",
            "0.8\n",
            "0.9\n",
            "1.0\n",
            "1.1\n",
            "1.2\n",
            "1.3\n",
            "1.4\n",
            "1.5\n",
            "1.6\n",
            "1.7\n",
            "1.8\n",
            "1.9\n",
            "2.0\n",
            "2.1\n",
            "2.2\n",
            "2.3\n",
            "2.4\n",
            "2.5\n",
            "2.6\n",
            "2.7\n",
            "2.8\n",
            "2.9\n",
            "3.0\n",
            "3.1\n",
            "3.2\n",
            "3.3\n",
            "3.4\n",
            "3.5\n",
            "3.6\n",
            "3.7\n",
            "3.8\n",
            "3.9\n",
            "4.0\n",
            "4.1\n",
            "4.2\n",
            "4.3\n",
            "4.4\n",
            "4.5\n",
            "4.6\n",
            "4.7\n",
            "4.8\n",
            "4.9\n",
            "5.0\n",
            "5.1\n",
            "5.2\n",
            "5.3\n",
            "5.4\n",
            "5.5\n",
            "5.6\n",
            "5.7\n",
            "5.8\n",
            "5.9\n",
            "6.0\n",
            "6.1\n",
            "6.2\n",
            "6.3\n",
            "6.4\n",
            "6.5\n",
            "6.6\n",
            "6.7\n",
            "6.8\n",
            "6.9\n",
            "7.0\n",
            "7.1\n",
            "7.2\n",
            "7.3\n",
            "7.4\n",
            "7.5\n",
            "7.6\n",
            "7.7\n",
            "7.8\n",
            "7.9\n",
            "8.0\n",
            "8.1\n",
            "8.2\n",
            "8.3\n",
            "8.4\n",
            "8.5\n",
            "8.6\n",
            "8.7\n",
            "8.8\n",
            "8.9\n",
            "9.0\n",
            "9.1\n",
            "9.2\n",
            "9.3\n",
            "9.4\n",
            "9.5\n",
            "9.6\n",
            "9.7\n",
            "9.8\n",
            "9.9\n",
            "10.0\n"
          ]
        }
      ],
      "source": [
        "#Lasso Regression model\n",
        "sequence = [i / 10.0 for i in range(1, 101)]\n",
        "RMSE = pd.DataFrame(index=sequence)\n",
        "\n",
        "for alpha in sequence:\n",
        "    lasso = Lasso(alpha=alpha)\n",
        "    lasso.fit(X_train, y_train)\n",
        "    y_pred_lasso = lasso.predict(X_validation)\n",
        "    lasso_rmse = np.sqrt(mean_squared_error(y_validation, y_pred_lasso))\n",
        "    RMSE.loc[alpha,'RMSE'] = lasso_rmse\n",
        "    print(alpha)"
      ]
    },
    {
      "cell_type": "code",
      "execution_count": 16,
      "metadata": {},
      "outputs": [
        {
          "data": {
            "text/plain": [
              "<matplotlib.collections.PathCollection at 0x1e5c50968e0>"
            ]
          },
          "execution_count": 16,
          "metadata": {},
          "output_type": "execute_result"
        },
        {
          "data": {
            "image/png": "[encoded data removed]",
            "text/plain": [
              "<Figure size 640x480 with 1 Axes>"
            ]
          },
          "metadata": {},
          "output_type": "display_data"
        }
      ],
      "source": [
        "plt.title(\"RMSE for different values of lambda hyperparameter\")\n",
        "plt.xlabel(\"Lambda hyperparameter\")\n",
        "plt.ylabel(\"RMSE\")\n",
        "plt.scatter(sequence, RMSE['RMSE'])"
      ]
    },
    {
      "cell_type": "markdown",
      "metadata": {},
      "source": [
        "### Random Forest Regression"
      ]
    },
    {
      "cell_type": "code",
      "execution_count": 35,
      "metadata": {
        "colab": {
          "base_uri": "https://localhost:8080/"
        },
        "id": "Y47ObQiAZmAM",
        "outputId": "f503f0c7-5bde-47ef-fcf5-0cd7aafc3e4c"
      },
      "outputs": [
        {
          "name": "stdout",
          "output_type": "stream",
          "text": [
            "300 20 2 4 None => RMSE:  17.64560633703116\n",
            "300 20 2 4 sqrt => RMSE:  17.471019275917744\n",
            "300 20 2 4 log2 => RMSE:  17.547060548965987\n",
            "300 20 2 6 None => RMSE:  17.593699360505298\n",
            "300 20 2 6 sqrt => RMSE:  17.501330049307555\n",
            "300 20 2 6 log2 => RMSE:  17.550154097792543\n",
            "300 20 8 4 None => RMSE:  17.64560633703116\n",
            "300 20 8 4 sqrt => RMSE:  17.471019275917744\n",
            "300 20 8 4 log2 => RMSE:  17.547060548965987\n",
            "300 20 8 6 None => RMSE:  17.593699360505298\n",
            "300 20 8 6 sqrt => RMSE:  17.501330049307555\n",
            "300 20 8 6 log2 => RMSE:  17.550154097792543\n",
            "300 25 2 4 None => RMSE:  17.6559241793771\n",
            "300 25 2 4 sqrt => RMSE:  17.487774457332364\n",
            "300 25 2 4 log2 => RMSE:  17.476328351757996\n",
            "300 25 2 6 None => RMSE:  17.599917491059546\n",
            "300 25 2 6 sqrt => RMSE:  17.506506822567907\n",
            "300 25 2 6 log2 => RMSE:  17.5538103260051\n",
            "300 25 8 4 None => RMSE:  17.6559241793771\n"
          ]
        },
        {
          "ename": "KeyboardInterrupt",
          "evalue": "",
          "output_type": "error",
          "traceback": [
            "\u001b[1;31m---------------------------------------------------------------------------\u001b[0m",
            "\u001b[1;31mKeyboardInterrupt\u001b[0m                         Traceback (most recent call last)",
            "\u001b[1;32mc:\\Users\\zavre\\Desktop\\github\\Data_X_TimeSeriesPrediction\\notebooks\\team1_project_codebase.ipynb Cell 78\u001b[0m line \u001b[0;36m2\n\u001b[0;32m     <a href='vscode-notebook-cell:/c%3A/Users/zavre/Desktop/github/Data_X_TimeSeriesPrediction/notebooks/team1_project_codebase.ipynb#Y142sZmlsZQ%3D%3D?line=17'>18</a>\u001b[0m \u001b[39mfor\u001b[39;00m max_features \u001b[39min\u001b[39;00m param_grid[\u001b[39m'\u001b[39m\u001b[39mmax_features\u001b[39m\u001b[39m'\u001b[39m]:\n\u001b[0;32m     <a href='vscode-notebook-cell:/c%3A/Users/zavre/Desktop/github/Data_X_TimeSeriesPrediction/notebooks/team1_project_codebase.ipynb#Y142sZmlsZQ%3D%3D?line=18'>19</a>\u001b[0m     \u001b[39m# Create and train a Random Forest model with the current hyperparameters\u001b[39;00m\n\u001b[0;32m     <a href='vscode-notebook-cell:/c%3A/Users/zavre/Desktop/github/Data_X_TimeSeriesPrediction/notebooks/team1_project_codebase.ipynb#Y142sZmlsZQ%3D%3D?line=19'>20</a>\u001b[0m     rf \u001b[39m=\u001b[39m RandomForestRegressor(\n\u001b[0;32m     <a href='vscode-notebook-cell:/c%3A/Users/zavre/Desktop/github/Data_X_TimeSeriesPrediction/notebooks/team1_project_codebase.ipynb#Y142sZmlsZQ%3D%3D?line=20'>21</a>\u001b[0m         n_estimators\u001b[39m=\u001b[39mn_estimators,\n\u001b[0;32m     <a href='vscode-notebook-cell:/c%3A/Users/zavre/Desktop/github/Data_X_TimeSeriesPrediction/notebooks/team1_project_codebase.ipynb#Y142sZmlsZQ%3D%3D?line=21'>22</a>\u001b[0m         max_depth\u001b[39m=\u001b[39mmax_depth,\n\u001b[1;32m   (...)\u001b[0m\n\u001b[0;32m     <a href='vscode-notebook-cell:/c%3A/Users/zavre/Desktop/github/Data_X_TimeSeriesPrediction/notebooks/team1_project_codebase.ipynb#Y142sZmlsZQ%3D%3D?line=25'>26</a>\u001b[0m         random_state\u001b[39m=\u001b[39mSEED                        \n\u001b[0;32m     <a href='vscode-notebook-cell:/c%3A/Users/zavre/Desktop/github/Data_X_TimeSeriesPrediction/notebooks/team1_project_codebase.ipynb#Y142sZmlsZQ%3D%3D?line=26'>27</a>\u001b[0m     )\n\u001b[1;32m---> <a href='vscode-notebook-cell:/c%3A/Users/zavre/Desktop/github/Data_X_TimeSeriesPrediction/notebooks/team1_project_codebase.ipynb#Y142sZmlsZQ%3D%3D?line=27'>28</a>\u001b[0m     rf\u001b[39m.\u001b[39;49mfit(X_train, y_train)\n\u001b[0;32m     <a href='vscode-notebook-cell:/c%3A/Users/zavre/Desktop/github/Data_X_TimeSeriesPrediction/notebooks/team1_project_codebase.ipynb#Y142sZmlsZQ%3D%3D?line=29'>30</a>\u001b[0m     \u001b[39m# Evaluate the model on the validation set\u001b[39;00m\n\u001b[0;32m     <a href='vscode-notebook-cell:/c%3A/Users/zavre/Desktop/github/Data_X_TimeSeriesPrediction/notebooks/team1_project_codebase.ipynb#Y142sZmlsZQ%3D%3D?line=30'>31</a>\u001b[0m     y_pred_rf \u001b[39m=\u001b[39m rf\u001b[39m.\u001b[39mpredict(X_validation)\n",
            "File \u001b[1;32mc:\\Users\\zavre\\AppData\\Local\\Programs\\Python\\Python39\\lib\\site-packages\\sklearn\\ensemble\\_forest.py:473\u001b[0m, in \u001b[0;36mBaseForest.fit\u001b[1;34m(self, X, y, sample_weight)\u001b[0m\n\u001b[0;32m    462\u001b[0m trees \u001b[39m=\u001b[39m [\n\u001b[0;32m    463\u001b[0m     \u001b[39mself\u001b[39m\u001b[39m.\u001b[39m_make_estimator(append\u001b[39m=\u001b[39m\u001b[39mFalse\u001b[39;00m, random_state\u001b[39m=\u001b[39mrandom_state)\n\u001b[0;32m    464\u001b[0m     \u001b[39mfor\u001b[39;00m i \u001b[39min\u001b[39;00m \u001b[39mrange\u001b[39m(n_more_estimators)\n\u001b[0;32m    465\u001b[0m ]\n\u001b[0;32m    467\u001b[0m \u001b[39m# Parallel loop: we prefer the threading backend as the Cython code\u001b[39;00m\n\u001b[0;32m    468\u001b[0m \u001b[39m# for fitting the trees is internally releasing the Python GIL\u001b[39;00m\n\u001b[0;32m    469\u001b[0m \u001b[39m# making threading more efficient than multiprocessing in\u001b[39;00m\n\u001b[0;32m    470\u001b[0m \u001b[39m# that case. However, for joblib 0.12+ we respect any\u001b[39;00m\n\u001b[0;32m    471\u001b[0m \u001b[39m# parallel_backend contexts set at a higher level,\u001b[39;00m\n\u001b[0;32m    472\u001b[0m \u001b[39m# since correctness does not rely on using threads.\u001b[39;00m\n\u001b[1;32m--> 473\u001b[0m trees \u001b[39m=\u001b[39m Parallel(\n\u001b[0;32m    474\u001b[0m     n_jobs\u001b[39m=\u001b[39;49m\u001b[39mself\u001b[39;49m\u001b[39m.\u001b[39;49mn_jobs,\n\u001b[0;32m    475\u001b[0m     verbose\u001b[39m=\u001b[39;49m\u001b[39mself\u001b[39;49m\u001b[39m.\u001b[39;49mverbose,\n\u001b[0;32m    476\u001b[0m     prefer\u001b[39m=\u001b[39;49m\u001b[39m\"\u001b[39;49m\u001b[39mthreads\u001b[39;49m\u001b[39m\"\u001b[39;49m,\n\u001b[0;32m    477\u001b[0m )(\n\u001b[0;32m    478\u001b[0m     delayed(_parallel_build_trees)(\n\u001b[0;32m    479\u001b[0m         t,\n\u001b[0;32m    480\u001b[0m         \u001b[39mself\u001b[39;49m\u001b[39m.\u001b[39;49mbootstrap,\n\u001b[0;32m    481\u001b[0m         X,\n\u001b[0;32m    482\u001b[0m         y,\n\u001b[0;32m    483\u001b[0m         sample_weight,\n\u001b[0;32m    484\u001b[0m         i,\n\u001b[0;32m    485\u001b[0m         \u001b[39mlen\u001b[39;49m(trees),\n\u001b[0;32m    486\u001b[0m         verbose\u001b[39m=\u001b[39;49m\u001b[39mself\u001b[39;49m\u001b[39m.\u001b[39;49mverbose,\n\u001b[0;32m    487\u001b[0m         class_weight\u001b[39m=\u001b[39;49m\u001b[39mself\u001b[39;49m\u001b[39m.\u001b[39;49mclass_weight,\n\u001b[0;32m    488\u001b[0m         n_samples_bootstrap\u001b[39m=\u001b[39;49mn_samples_bootstrap,\n\u001b[0;32m    489\u001b[0m     )\n\u001b[0;32m    490\u001b[0m     \u001b[39mfor\u001b[39;49;00m i, t \u001b[39min\u001b[39;49;00m \u001b[39menumerate\u001b[39;49m(trees)\n\u001b[0;32m    491\u001b[0m )\n\u001b[0;32m    493\u001b[0m \u001b[39m# Collect newly grown trees\u001b[39;00m\n\u001b[0;32m    494\u001b[0m \u001b[39mself\u001b[39m\u001b[39m.\u001b[39mestimators_\u001b[39m.\u001b[39mextend(trees)\n",
            "File \u001b[1;32mc:\\Users\\zavre\\AppData\\Local\\Programs\\Python\\Python39\\lib\\site-packages\\sklearn\\utils\\parallel.py:63\u001b[0m, in \u001b[0;36mParallel.__call__\u001b[1;34m(self, iterable)\u001b[0m\n\u001b[0;32m     58\u001b[0m config \u001b[39m=\u001b[39m get_config()\n\u001b[0;32m     59\u001b[0m iterable_with_config \u001b[39m=\u001b[39m (\n\u001b[0;32m     60\u001b[0m     (_with_config(delayed_func, config), args, kwargs)\n\u001b[0;32m     61\u001b[0m     \u001b[39mfor\u001b[39;00m delayed_func, args, kwargs \u001b[39min\u001b[39;00m iterable\n\u001b[0;32m     62\u001b[0m )\n\u001b[1;32m---> 63\u001b[0m \u001b[39mreturn\u001b[39;00m \u001b[39msuper\u001b[39;49m()\u001b[39m.\u001b[39;49m\u001b[39m__call__\u001b[39;49m(iterable_with_config)\n",
            "File \u001b[1;32mc:\\Users\\zavre\\AppData\\Local\\Programs\\Python\\Python39\\lib\\site-packages\\joblib\\parallel.py:1088\u001b[0m, in \u001b[0;36mParallel.__call__\u001b[1;34m(self, iterable)\u001b[0m\n\u001b[0;32m   1085\u001b[0m \u001b[39mif\u001b[39;00m \u001b[39mself\u001b[39m\u001b[39m.\u001b[39mdispatch_one_batch(iterator):\n\u001b[0;32m   1086\u001b[0m     \u001b[39mself\u001b[39m\u001b[39m.\u001b[39m_iterating \u001b[39m=\u001b[39m \u001b[39mself\u001b[39m\u001b[39m.\u001b[39m_original_iterator \u001b[39mis\u001b[39;00m \u001b[39mnot\u001b[39;00m \u001b[39mNone\u001b[39;00m\n\u001b[1;32m-> 1088\u001b[0m \u001b[39mwhile\u001b[39;00m \u001b[39mself\u001b[39;49m\u001b[39m.\u001b[39;49mdispatch_one_batch(iterator):\n\u001b[0;32m   1089\u001b[0m     \u001b[39mpass\u001b[39;00m\n\u001b[0;32m   1091\u001b[0m \u001b[39mif\u001b[39;00m pre_dispatch \u001b[39m==\u001b[39m \u001b[39m\"\u001b[39m\u001b[39mall\u001b[39m\u001b[39m\"\u001b[39m \u001b[39mor\u001b[39;00m n_jobs \u001b[39m==\u001b[39m \u001b[39m1\u001b[39m:\n\u001b[0;32m   1092\u001b[0m     \u001b[39m# The iterable was consumed all at once by the above for loop.\u001b[39;00m\n\u001b[0;32m   1093\u001b[0m     \u001b[39m# No need to wait for async callbacks to trigger to\u001b[39;00m\n\u001b[0;32m   1094\u001b[0m     \u001b[39m# consumption.\u001b[39;00m\n",
            "File \u001b[1;32mc:\\Users\\zavre\\AppData\\Local\\Programs\\Python\\Python39\\lib\\site-packages\\joblib\\parallel.py:901\u001b[0m, in \u001b[0;36mParallel.dispatch_one_batch\u001b[1;34m(self, iterator)\u001b[0m\n\u001b[0;32m    899\u001b[0m     \u001b[39mreturn\u001b[39;00m \u001b[39mFalse\u001b[39;00m\n\u001b[0;32m    900\u001b[0m \u001b[39melse\u001b[39;00m:\n\u001b[1;32m--> 901\u001b[0m     \u001b[39mself\u001b[39;49m\u001b[39m.\u001b[39;49m_dispatch(tasks)\n\u001b[0;32m    902\u001b[0m     \u001b[39mreturn\u001b[39;00m \u001b[39mTrue\u001b[39;00m\n",
            "File \u001b[1;32mc:\\Users\\zavre\\AppData\\Local\\Programs\\Python\\Python39\\lib\\site-packages\\joblib\\parallel.py:819\u001b[0m, in \u001b[0;36mParallel._dispatch\u001b[1;34m(self, batch)\u001b[0m\n\u001b[0;32m    817\u001b[0m \u001b[39mwith\u001b[39;00m \u001b[39mself\u001b[39m\u001b[39m.\u001b[39m_lock:\n\u001b[0;32m    818\u001b[0m     job_idx \u001b[39m=\u001b[39m \u001b[39mlen\u001b[39m(\u001b[39mself\u001b[39m\u001b[39m.\u001b[39m_jobs)\n\u001b[1;32m--> 819\u001b[0m     job \u001b[39m=\u001b[39m \u001b[39mself\u001b[39;49m\u001b[39m.\u001b[39;49m_backend\u001b[39m.\u001b[39;49mapply_async(batch, callback\u001b[39m=\u001b[39;49mcb)\n\u001b[0;32m    820\u001b[0m     \u001b[39m# A job can complete so quickly than its callback is\u001b[39;00m\n\u001b[0;32m    821\u001b[0m     \u001b[39m# called before we get here, causing self._jobs to\u001b[39;00m\n\u001b[0;32m    822\u001b[0m     \u001b[39m# grow. To ensure correct results ordering, .insert is\u001b[39;00m\n\u001b[0;32m    823\u001b[0m     \u001b[39m# used (rather than .append) in the following line\u001b[39;00m\n\u001b[0;32m    824\u001b[0m     \u001b[39mself\u001b[39m\u001b[39m.\u001b[39m_jobs\u001b[39m.\u001b[39minsert(job_idx, job)\n",
            "File \u001b[1;32mc:\\Users\\zavre\\AppData\\Local\\Programs\\Python\\Python39\\lib\\site-packages\\joblib\\_parallel_backends.py:208\u001b[0m, in \u001b[0;36mSequentialBackend.apply_async\u001b[1;34m(self, func, callback)\u001b[0m\n\u001b[0;32m    206\u001b[0m \u001b[39mdef\u001b[39;00m \u001b[39mapply_async\u001b[39m(\u001b[39mself\u001b[39m, func, callback\u001b[39m=\u001b[39m\u001b[39mNone\u001b[39;00m):\n\u001b[0;32m    207\u001b[0m \u001b[39m    \u001b[39m\u001b[39m\"\"\"Schedule a func to be run\"\"\"\u001b[39;00m\n\u001b[1;32m--> 208\u001b[0m     result \u001b[39m=\u001b[39m ImmediateResult(func)\n\u001b[0;32m    209\u001b[0m     \u001b[39mif\u001b[39;00m callback:\n\u001b[0;32m    210\u001b[0m         callback(result)\n",
            "File \u001b[1;32mc:\\Users\\zavre\\AppData\\Local\\Programs\\Python\\Python39\\lib\\site-packages\\joblib\\_parallel_backends.py:597\u001b[0m, in \u001b[0;36mImmediateResult.__init__\u001b[1;34m(self, batch)\u001b[0m\n\u001b[0;32m    594\u001b[0m \u001b[39mdef\u001b[39;00m \u001b[39m__init__\u001b[39m(\u001b[39mself\u001b[39m, batch):\n\u001b[0;32m    595\u001b[0m     \u001b[39m# Don't delay the application, to avoid keeping the input\u001b[39;00m\n\u001b[0;32m    596\u001b[0m     \u001b[39m# arguments in memory\u001b[39;00m\n\u001b[1;32m--> 597\u001b[0m     \u001b[39mself\u001b[39m\u001b[39m.\u001b[39mresults \u001b[39m=\u001b[39m batch()\n",
            "File \u001b[1;32mc:\\Users\\zavre\\AppData\\Local\\Programs\\Python\\Python39\\lib\\site-packages\\joblib\\parallel.py:288\u001b[0m, in \u001b[0;36mBatchedCalls.__call__\u001b[1;34m(self)\u001b[0m\n\u001b[0;32m    284\u001b[0m \u001b[39mdef\u001b[39;00m \u001b[39m__call__\u001b[39m(\u001b[39mself\u001b[39m):\n\u001b[0;32m    285\u001b[0m     \u001b[39m# Set the default nested backend to self._backend but do not set the\u001b[39;00m\n\u001b[0;32m    286\u001b[0m     \u001b[39m# change the default number of processes to -1\u001b[39;00m\n\u001b[0;32m    287\u001b[0m     \u001b[39mwith\u001b[39;00m parallel_backend(\u001b[39mself\u001b[39m\u001b[39m.\u001b[39m_backend, n_jobs\u001b[39m=\u001b[39m\u001b[39mself\u001b[39m\u001b[39m.\u001b[39m_n_jobs):\n\u001b[1;32m--> 288\u001b[0m         \u001b[39mreturn\u001b[39;00m [func(\u001b[39m*\u001b[39margs, \u001b[39m*\u001b[39m\u001b[39m*\u001b[39mkwargs)\n\u001b[0;32m    289\u001b[0m                 \u001b[39mfor\u001b[39;00m func, args, kwargs \u001b[39min\u001b[39;00m \u001b[39mself\u001b[39m\u001b[39m.\u001b[39mitems]\n",
            "File \u001b[1;32mc:\\Users\\zavre\\AppData\\Local\\Programs\\Python\\Python39\\lib\\site-packages\\joblib\\parallel.py:288\u001b[0m, in \u001b[0;36m<listcomp>\u001b[1;34m(.0)\u001b[0m\n\u001b[0;32m    284\u001b[0m \u001b[39mdef\u001b[39;00m \u001b[39m__call__\u001b[39m(\u001b[39mself\u001b[39m):\n\u001b[0;32m    285\u001b[0m     \u001b[39m# Set the default nested backend to self._backend but do not set the\u001b[39;00m\n\u001b[0;32m    286\u001b[0m     \u001b[39m# change the default number of processes to -1\u001b[39;00m\n\u001b[0;32m    287\u001b[0m     \u001b[39mwith\u001b[39;00m parallel_backend(\u001b[39mself\u001b[39m\u001b[39m.\u001b[39m_backend, n_jobs\u001b[39m=\u001b[39m\u001b[39mself\u001b[39m\u001b[39m.\u001b[39m_n_jobs):\n\u001b[1;32m--> 288\u001b[0m         \u001b[39mreturn\u001b[39;00m [func(\u001b[39m*\u001b[39margs, \u001b[39m*\u001b[39m\u001b[39m*\u001b[39mkwargs)\n\u001b[0;32m    289\u001b[0m                 \u001b[39mfor\u001b[39;00m func, args, kwargs \u001b[39min\u001b[39;00m \u001b[39mself\u001b[39m\u001b[39m.\u001b[39mitems]\n",
            "File \u001b[1;32mc:\\Users\\zavre\\AppData\\Local\\Programs\\Python\\Python39\\lib\\site-packages\\sklearn\\utils\\parallel.py:123\u001b[0m, in \u001b[0;36m_FuncWrapper.__call__\u001b[1;34m(self, *args, **kwargs)\u001b[0m\n\u001b[0;32m    121\u001b[0m     config \u001b[39m=\u001b[39m {}\n\u001b[0;32m    122\u001b[0m \u001b[39mwith\u001b[39;00m config_context(\u001b[39m*\u001b[39m\u001b[39m*\u001b[39mconfig):\n\u001b[1;32m--> 123\u001b[0m     \u001b[39mreturn\u001b[39;00m \u001b[39mself\u001b[39m\u001b[39m.\u001b[39mfunction(\u001b[39m*\u001b[39margs, \u001b[39m*\u001b[39m\u001b[39m*\u001b[39mkwargs)\n",
            "File \u001b[1;32mc:\\Users\\zavre\\AppData\\Local\\Programs\\Python\\Python39\\lib\\site-packages\\sklearn\\ensemble\\_forest.py:184\u001b[0m, in \u001b[0;36m_parallel_build_trees\u001b[1;34m(tree, bootstrap, X, y, sample_weight, tree_idx, n_trees, verbose, class_weight, n_samples_bootstrap)\u001b[0m\n\u001b[0;32m    181\u001b[0m     \u001b[39melif\u001b[39;00m class_weight \u001b[39m==\u001b[39m \u001b[39m\"\u001b[39m\u001b[39mbalanced_subsample\u001b[39m\u001b[39m\"\u001b[39m:\n\u001b[0;32m    182\u001b[0m         curr_sample_weight \u001b[39m*\u001b[39m\u001b[39m=\u001b[39m compute_sample_weight(\u001b[39m\"\u001b[39m\u001b[39mbalanced\u001b[39m\u001b[39m\"\u001b[39m, y, indices\u001b[39m=\u001b[39mindices)\n\u001b[1;32m--> 184\u001b[0m     tree\u001b[39m.\u001b[39;49mfit(X, y, sample_weight\u001b[39m=\u001b[39;49mcurr_sample_weight, check_input\u001b[39m=\u001b[39;49m\u001b[39mFalse\u001b[39;49;00m)\n\u001b[0;32m    185\u001b[0m \u001b[39melse\u001b[39;00m:\n\u001b[0;32m    186\u001b[0m     tree\u001b[39m.\u001b[39mfit(X, y, sample_weight\u001b[39m=\u001b[39msample_weight, check_input\u001b[39m=\u001b[39m\u001b[39mFalse\u001b[39;00m)\n",
            "File \u001b[1;32mc:\\Users\\zavre\\AppData\\Local\\Programs\\Python\\Python39\\lib\\site-packages\\sklearn\\tree\\_classes.py:1247\u001b[0m, in \u001b[0;36mDecisionTreeRegressor.fit\u001b[1;34m(self, X, y, sample_weight, check_input)\u001b[0m\n\u001b[0;32m   1218\u001b[0m \u001b[39mdef\u001b[39;00m \u001b[39mfit\u001b[39m(\u001b[39mself\u001b[39m, X, y, sample_weight\u001b[39m=\u001b[39m\u001b[39mNone\u001b[39;00m, check_input\u001b[39m=\u001b[39m\u001b[39mTrue\u001b[39;00m):\n\u001b[0;32m   1219\u001b[0m \u001b[39m    \u001b[39m\u001b[39m\"\"\"Build a decision tree regressor from the training set (X, y).\u001b[39;00m\n\u001b[0;32m   1220\u001b[0m \n\u001b[0;32m   1221\u001b[0m \u001b[39m    Parameters\u001b[39;00m\n\u001b[1;32m   (...)\u001b[0m\n\u001b[0;32m   1244\u001b[0m \u001b[39m        Fitted estimator.\u001b[39;00m\n\u001b[0;32m   1245\u001b[0m \u001b[39m    \"\"\"\u001b[39;00m\n\u001b[1;32m-> 1247\u001b[0m     \u001b[39msuper\u001b[39;49m()\u001b[39m.\u001b[39;49mfit(\n\u001b[0;32m   1248\u001b[0m         X,\n\u001b[0;32m   1249\u001b[0m         y,\n\u001b[0;32m   1250\u001b[0m         sample_weight\u001b[39m=\u001b[39;49msample_weight,\n\u001b[0;32m   1251\u001b[0m         check_input\u001b[39m=\u001b[39;49mcheck_input,\n\u001b[0;32m   1252\u001b[0m     )\n\u001b[0;32m   1253\u001b[0m     \u001b[39mreturn\u001b[39;00m \u001b[39mself\u001b[39m\n",
            "File \u001b[1;32mc:\\Users\\zavre\\AppData\\Local\\Programs\\Python\\Python39\\lib\\site-packages\\sklearn\\tree\\_classes.py:379\u001b[0m, in \u001b[0;36mBaseDecisionTree.fit\u001b[1;34m(self, X, y, sample_weight, check_input)\u001b[0m\n\u001b[0;32m    368\u001b[0m \u001b[39melse\u001b[39;00m:\n\u001b[0;32m    369\u001b[0m     builder \u001b[39m=\u001b[39m BestFirstTreeBuilder(\n\u001b[0;32m    370\u001b[0m         splitter,\n\u001b[0;32m    371\u001b[0m         min_samples_split,\n\u001b[1;32m   (...)\u001b[0m\n\u001b[0;32m    376\u001b[0m         \u001b[39mself\u001b[39m\u001b[39m.\u001b[39mmin_impurity_decrease,\n\u001b[0;32m    377\u001b[0m     )\n\u001b[1;32m--> 379\u001b[0m builder\u001b[39m.\u001b[39;49mbuild(\u001b[39mself\u001b[39;49m\u001b[39m.\u001b[39;49mtree_, X, y, sample_weight)\n\u001b[0;32m    381\u001b[0m \u001b[39mif\u001b[39;00m \u001b[39mself\u001b[39m\u001b[39m.\u001b[39mn_outputs_ \u001b[39m==\u001b[39m \u001b[39m1\u001b[39m \u001b[39mand\u001b[39;00m is_classifier(\u001b[39mself\u001b[39m):\n\u001b[0;32m    382\u001b[0m     \u001b[39mself\u001b[39m\u001b[39m.\u001b[39mn_classes_ \u001b[39m=\u001b[39m \u001b[39mself\u001b[39m\u001b[39m.\u001b[39mn_classes_[\u001b[39m0\u001b[39m]\n",
            "\u001b[1;31mKeyboardInterrupt\u001b[0m: "
          ]
        }
      ],
      "source": [
        "#Random Forest model\n",
        "SEED = 88\n",
        "param_grid = {\n",
        "    'n_estimators': [300],\n",
        "    'max_depth': [20,25,30],\n",
        "    'min_samples_split': [2,8,],\n",
        "    'min_samples_leaf': [4,6],\n",
        "    'max_features': [None, 'sqrt', 'log2']\n",
        "}\n",
        "\n",
        "best_RMSE = 999\n",
        "best_params = {}\n",
        "\n",
        "for n_estimators in param_grid['n_estimators']:\n",
        "    for max_depth in param_grid['max_depth']:\n",
        "        for min_samples_split in param_grid['min_samples_split']:\n",
        "            for min_samples_leaf in param_grid['min_samples_leaf']:\n",
        "                for max_features in param_grid['max_features']:\n",
        "                    # Create and train a Random Forest model with the current hyperparameters\n",
        "                    rf = RandomForestRegressor(\n",
        "                        n_estimators=n_estimators,\n",
        "                        max_depth=max_depth,\n",
        "                        min_samples_split=min_samples_split,\n",
        "                        min_samples_leaf=min_samples_leaf,\n",
        "                        max_features=max_features,\n",
        "                        random_state=SEED                        \n",
        "                    )\n",
        "                    rf.fit(X_train, y_train)\n",
        "\n",
        "                    # Evaluate the model on the validation set\n",
        "                    y_pred_rf = rf.predict(X_validation)\n",
        "                    RMSE = np.sqrt(mean_squared_error(y_validation, y_pred_rf))\n",
        "\n",
        "                    # Update the best hyperparameters if this combination is better\n",
        "                    if RMSE < best_RMSE:\n",
        "                        best_RMSE = RMSE\n",
        "                        best_params = {\n",
        "                            'n_estimators': n_estimators,\n",
        "                            'max_depth': max_depth,\n",
        "                            'min_samples_split': min_samples_split,\n",
        "                            'min_samples_leaf': min_samples_leaf,\n",
        "                            'max_features': max_features\n",
        "                        }\n",
        "                    print(n_estimators, max_depth, min_samples_split, min_samples_leaf, max_features, '=> RMSE: ', RMSE)"
      ]
    },
    {
      "cell_type": "code",
      "execution_count": 153,
      "metadata": {},
      "outputs": [
        {
          "name": "stdout",
          "output_type": "stream",
          "text": [
            "{'n_estimators': 200, 'max_depth': 20, 'min_samples_split': 10, 'min_samples_leaf': 1, 'max_features': 'sqrt'}\n"
          ]
        }
      ],
      "source": [
        "print(best_params)"
      ]
    },
    {
      "cell_type": "code",
      "execution_count": 154,
      "metadata": {},
      "outputs": [],
      "source": [
        "#best_params = {'n_estimators': 200, 'max_depth': 20, 'min_samples_split': 10, 'min_samples_leaf': 1, 'max_features': 'sqrt'}"
      ]
    },
    {
      "cell_type": "code",
      "execution_count": 155,
      "metadata": {},
      "outputs": [
        {
          "name": "stdout",
          "output_type": "stream",
          "text": [
            "17.435519803485423\n"
          ]
        }
      ],
      "source": [
        "SEED=88\n",
        "n_estimators = best_params[\"n_estimators\"]\n",
        "max_depth = best_params[\"max_depth\"]\n",
        "min_samples_split = best_params[\"min_samples_split\"]\n",
        "min_samples_leaf = best_params[\"min_samples_leaf\"]\n",
        "max_features = best_params[\"max_features\"]\n",
        "\n",
        "rf = RandomForestRegressor(\n",
        "    n_estimators=n_estimators,\n",
        "    max_depth=max_depth,\n",
        "    min_samples_split=min_samples_split,\n",
        "    min_samples_leaf=min_samples_leaf,\n",
        "    max_features=max_features,\n",
        "    random_state=SEED\n",
        ")\n",
        "rf.fit(X_train, y_train)\n",
        "\n",
        "# Evaluate the model on the validation set\n",
        "y_pred_rf = rf.predict(X_validation)\n",
        "RMSE = np.sqrt(mean_squared_error(y_validation, y_pred_rf))\n",
        "\n",
        "print(RMSE)"
      ]
    },
    {
      "cell_type": "code",
      "execution_count": 180,
      "metadata": {},
      "outputs": [
        {
          "data": {
            "text/html": [
              "<div>\n",
              "<style scoped>\n",
              "    .dataframe tbody tr th:only-of-type {\n",
              "        vertical-align: middle;\n",
              "    }\n",
              "\n",
              "    .dataframe tbody tr th {\n",
              "        vertical-align: top;\n",
              "    }\n",
              "\n",
              "    .dataframe thead th {\n",
              "        text-align: right;\n",
              "    }\n",
              "</style>\n",
              "<table border=\"1\" class=\"dataframe\">\n",
              "  <thead>\n",
              "    <tr style=\"text-align: right;\">\n",
              "      <th></th>\n",
              "      <th>Variable</th>\n",
              "      <th>Importance</th>\n",
              "    </tr>\n",
              "  </thead>\n",
              "  <tbody>\n",
              "    <tr>\n",
              "      <th>1</th>\n",
              "      <td>turnover_month_avg</td>\n",
              "      <td>0.195346</td>\n",
              "    </tr>\n",
              "    <tr>\n",
              "      <th>4</th>\n",
              "      <td>turnover_week_avg</td>\n",
              "      <td>0.157446</td>\n",
              "    </tr>\n",
              "    <tr>\n",
              "      <th>2</th>\n",
              "      <td>turnover_month_max</td>\n",
              "      <td>0.104984</td>\n",
              "    </tr>\n",
              "    <tr>\n",
              "      <th>5</th>\n",
              "      <td>turnover_week_max</td>\n",
              "      <td>0.088007</td>\n",
              "    </tr>\n",
              "    <tr>\n",
              "      <th>6</th>\n",
              "      <td>turnover_week_min</td>\n",
              "      <td>0.073108</td>\n",
              "    </tr>\n",
              "    <tr>\n",
              "      <th>7</th>\n",
              "      <td>turnover_d_1</td>\n",
              "      <td>0.071616</td>\n",
              "    </tr>\n",
              "    <tr>\n",
              "      <th>8</th>\n",
              "      <td>turnover_d_2</td>\n",
              "      <td>0.056837</td>\n",
              "    </tr>\n",
              "    <tr>\n",
              "      <th>9</th>\n",
              "      <td>turnover_d_3</td>\n",
              "      <td>0.046527</td>\n",
              "    </tr>\n",
              "    <tr>\n",
              "      <th>3</th>\n",
              "      <td>turnover_month_min</td>\n",
              "      <td>0.041268</td>\n",
              "    </tr>\n",
              "    <tr>\n",
              "      <th>0</th>\n",
              "      <td>wm_yr_wk</td>\n",
              "      <td>0.028415</td>\n",
              "    </tr>\n",
              "  </tbody>\n",
              "</table>\n",
              "</div>"
            ],
            "text/plain": [
              "             Variable  Importance\n",
              "1  turnover_month_avg    0.195346\n",
              "4   turnover_week_avg    0.157446\n",
              "2  turnover_month_max    0.104984\n",
              "5   turnover_week_max    0.088007\n",
              "6   turnover_week_min    0.073108\n",
              "7        turnover_d_1    0.071616\n",
              "8        turnover_d_2    0.056837\n",
              "9        turnover_d_3    0.046527\n",
              "3  turnover_month_min    0.041268\n",
              "0            wm_yr_wk    0.028415"
            ]
          },
          "execution_count": 180,
          "metadata": {},
          "output_type": "execute_result"
        }
      ],
      "source": [
        "pd.DataFrame({'Variable':X_train.columns,\n",
        "              'Importance':rf.feature_importances_}).sort_values('Importance', ascending=False)[0:10]"
      ]
    },
    {
      "cell_type": "code",
      "execution_count": null,
      "metadata": {
        "id": "elNgSMCxCE1M"
      },
      "outputs": [],
      "source": [
        "with open('../models/rndm_forest_model.pkl', 'wb') as file:\n",
        "    pickle.dump(rf, file)"
      ]
    },
    {
      "cell_type": "markdown",
      "metadata": {},
      "source": [
        "### XGBoost model"
      ]
    },
    {
      "cell_type": "code",
      "execution_count": 192,
      "metadata": {
        "colab": {
          "base_uri": "https://localhost:8080/"
        },
        "id": "sVvxPavWaPTw",
        "outputId": "c07397f3-eb37-4752-f875-7f9ed5b7bffe"
      },
      "outputs": [
        {
          "name": "stdout",
          "output_type": "stream",
          "text": [
            "0.01 50 0.2 1 => RMSE:  24.600469499971805\n",
            "0.01 50 0.2 3 => RMSE:  22.337726885015588\n",
            "0.01 50 0.2 5 => RMSE:  22.150455797510194\n",
            "0.01 50 0.2 10 => RMSE:  22.73558080911005\n",
            "0.01 50 0.5 1 => RMSE:  24.625628626935388\n",
            "0.01 50 0.5 3 => RMSE:  22.38547200753375\n",
            "0.01 50 0.5 5 => RMSE:  22.088536092688454\n",
            "0.01 50 0.5 10 => RMSE:  22.508235840879394\n",
            "0.01 50 1 1 => RMSE:  24.627126916848503\n",
            "0.01 50 1 3 => RMSE:  22.401502539489048\n",
            "0.01 50 1 5 => RMSE:  22.18832474952375\n",
            "0.01 50 1 10 => RMSE:  22.420127865598563\n",
            "0.01 100 0.2 1 => RMSE:  22.920807932650266\n",
            "0.01 100 0.2 3 => RMSE:  20.04794011311449\n",
            "0.01 100 0.2 5 => RMSE:  19.72895166057054\n",
            "0.01 100 0.2 10 => RMSE:  20.402002808067586\n",
            "0.01 100 0.5 1 => RMSE:  22.930859767245238\n",
            "0.01 100 0.5 3 => RMSE:  20.083916383432463\n",
            "0.01 100 0.5 5 => RMSE:  19.70398108639912\n",
            "0.01 100 0.5 10 => RMSE:  20.154536322422253\n",
            "0.01 100 1 1 => RMSE:  22.96949699527077\n",
            "0.01 100 1 3 => RMSE:  20.11572467309855\n",
            "0.01 100 1 5 => RMSE:  19.780922981426926\n",
            "0.01 100 1 10 => RMSE:  20.18868273260057\n",
            "0.01 150 0.2 1 => RMSE:  21.598391429565517\n",
            "0.01 150 0.2 3 => RMSE:  18.90232579998143\n",
            "0.01 150 0.2 5 => RMSE:  18.610512530032544\n",
            "0.01 150 0.2 10 => RMSE:  19.230627199887614\n",
            "0.01 150 0.5 1 => RMSE:  21.70662043176539\n",
            "0.01 150 0.5 3 => RMSE:  18.9901769694981\n",
            "0.01 150 0.5 5 => RMSE:  18.614134306743157\n",
            "0.01 150 0.5 10 => RMSE:  19.049976791723722\n",
            "0.01 150 1 1 => RMSE:  21.724711612237332\n",
            "0.01 150 1 3 => RMSE:  19.036291981837305\n",
            "0.01 150 1 5 => RMSE:  18.666612667724515\n",
            "0.01 150 1 10 => RMSE:  19.14469614533408\n",
            "0.01 200 0.2 1 => RMSE:  20.70572499407878\n",
            "0.01 200 0.2 3 => RMSE:  18.292093250129938\n",
            "0.01 200 0.2 5 => RMSE:  18.08583228418306\n",
            "0.01 200 0.2 10 => RMSE:  18.631967232153258\n",
            "0.01 200 0.5 1 => RMSE:  20.77331191985669\n",
            "0.01 200 0.5 3 => RMSE:  18.408699028203944\n",
            "0.01 200 0.5 5 => RMSE:  18.08789068770488\n",
            "0.01 200 0.5 10 => RMSE:  18.469912549564686\n",
            "0.01 200 1 1 => RMSE:  20.833669244354684\n",
            "0.01 200 1 3 => RMSE:  18.46525478353161\n",
            "0.01 200 1 5 => RMSE:  18.129134569130866\n",
            "0.01 200 1 10 => RMSE:  18.729896385457423\n",
            "0.01 250 0.2 1 => RMSE:  20.04714575425142\n",
            "0.01 250 0.2 3 => RMSE:  17.9583138541558\n",
            "0.01 250 0.2 5 => RMSE:  17.82356762423786\n",
            "0.01 250 0.2 10 => RMSE:  18.281335559586584\n",
            "0.01 250 0.5 1 => RMSE:  20.14937837955406\n",
            "0.01 250 0.5 3 => RMSE:  18.078598477752102\n",
            "0.01 250 0.5 5 => RMSE:  17.781434536512126\n",
            "0.01 250 0.5 10 => RMSE:  18.19205099933923\n",
            "0.01 250 1 1 => RMSE:  20.20805528162995\n",
            "0.01 250 1 3 => RMSE:  18.140520358917055\n",
            "0.01 250 1 5 => RMSE:  17.86334690232901\n",
            "0.01 250 1 10 => RMSE:  18.522577493867466\n",
            "0.01 300 0.2 1 => RMSE:  19.568888620630037\n",
            "0.01 300 0.2 3 => RMSE:  17.766806101903626\n",
            "0.01 300 0.2 5 => RMSE:  17.650197041801082\n",
            "0.01 300 0.2 10 => RMSE:  18.07754524226058\n",
            "0.01 300 0.5 1 => RMSE:  19.657430919418854\n",
            "0.01 300 0.5 3 => RMSE:  17.876683790923323\n",
            "0.01 300 0.5 5 => RMSE:  17.623958919306403\n",
            "0.01 300 0.5 10 => RMSE:  18.035169967329818\n",
            "0.01 300 1 1 => RMSE:  19.754181791017455\n",
            "0.01 300 1 3 => RMSE:  17.962461142870463\n",
            "0.01 300 1 5 => RMSE:  17.719726821779293\n",
            "0.01 300 1 10 => RMSE:  18.44962375339445\n",
            "0.05 50 0.2 1 => RMSE:  20.073913097560865\n",
            "0.05 50 0.2 3 => RMSE:  17.962584061935566\n",
            "0.05 50 0.2 5 => RMSE:  17.723230756424307\n",
            "0.05 50 0.2 10 => RMSE:  18.797764396852724\n",
            "0.05 50 0.5 1 => RMSE:  20.11702698806211\n",
            "0.05 50 0.5 3 => RMSE:  18.05815564040817\n",
            "0.05 50 0.5 5 => RMSE:  17.80823966528993\n",
            "0.05 50 0.5 10 => RMSE:  18.286101518278066\n",
            "0.05 50 1 1 => RMSE:  20.152882864073963\n",
            "0.05 50 1 3 => RMSE:  18.120492358791516\n",
            "0.05 50 1 5 => RMSE:  17.85759886943825\n",
            "0.05 50 1 10 => RMSE:  18.493463103721442\n",
            "0.05 100 0.2 1 => RMSE:  18.507445215760416\n",
            "0.05 100 0.2 3 => RMSE:  17.528864788842895\n",
            "0.05 100 0.2 5 => RMSE:  17.29779981084471\n",
            "0.05 100 0.2 10 => RMSE:  18.29521671336434\n",
            "0.05 100 0.5 1 => RMSE:  18.684109367573665\n",
            "0.05 100 0.5 3 => RMSE:  17.610985700093703\n",
            "0.05 100 0.5 5 => RMSE:  17.370690549120273\n",
            "0.05 100 0.5 10 => RMSE:  18.088478765763977\n",
            "0.05 100 1 1 => RMSE:  18.7472944544226\n",
            "0.05 100 1 3 => RMSE:  17.680068592048755\n",
            "0.05 100 1 5 => RMSE:  17.478206114109756\n",
            "0.05 100 1 10 => RMSE:  18.364089164116198\n",
            "0.05 150 0.2 1 => RMSE:  18.094989264254657\n",
            "0.05 150 0.2 3 => RMSE:  17.433327733911614\n",
            "0.05 150 0.2 5 => RMSE:  17.23579145884144\n",
            "0.05 150 0.2 10 => RMSE:  18.258630604095764\n",
            "0.05 150 0.5 1 => RMSE:  18.209052020926016\n",
            "0.05 150 0.5 3 => RMSE:  17.491733730597538\n",
            "0.05 150 0.5 5 => RMSE:  17.31304037992627\n",
            "0.05 150 0.5 10 => RMSE:  18.175167650525093\n",
            "0.05 150 1 1 => RMSE:  18.285349869266025\n",
            "0.05 150 1 3 => RMSE:  17.64704503534827\n",
            "0.05 150 1 5 => RMSE:  17.562930596663563\n",
            "0.05 150 1 10 => RMSE:  18.465399725895423\n",
            "0.05 200 0.2 1 => RMSE:  17.87676387824267\n",
            "0.05 200 0.2 3 => RMSE:  17.388945849095826\n",
            "0.05 200 0.2 5 => RMSE:  17.31113948235581\n",
            "0.05 200 0.2 10 => RMSE:  18.413116833493447\n",
            "0.05 200 0.5 1 => RMSE:  17.97043013961625\n",
            "0.05 200 0.5 3 => RMSE:  17.438520411645797\n",
            "0.05 200 0.5 5 => RMSE:  17.392219476906792\n",
            "0.05 200 0.5 10 => RMSE:  18.246410575527403\n",
            "0.05 200 1 1 => RMSE:  18.071314893684917\n",
            "0.05 200 1 3 => RMSE:  17.65735690413344\n",
            "0.05 200 1 5 => RMSE:  17.802047440208874\n",
            "0.05 200 1 10 => RMSE:  18.53772860875539\n",
            "0.05 250 0.2 1 => RMSE:  17.81454729988867\n",
            "0.05 250 0.2 3 => RMSE:  17.382135243213423\n",
            "0.05 250 0.2 5 => RMSE:  17.40755291471696\n",
            "0.05 250 0.2 10 => RMSE:  18.48480648703947\n",
            "0.05 250 0.5 1 => RMSE:  17.87806577279021\n",
            "0.05 250 0.5 3 => RMSE:  17.472213856443386\n",
            "0.05 250 0.5 5 => RMSE:  17.47658178500743\n",
            "0.05 250 0.5 10 => RMSE:  18.301995885639474\n",
            "0.05 250 1 1 => RMSE:  17.964458671265042\n",
            "0.05 250 1 3 => RMSE:  17.758561848199804\n",
            "0.05 250 1 5 => RMSE:  17.832123918991883\n",
            "0.05 250 1 10 => RMSE:  18.662142070624054\n",
            "0.05 300 0.2 1 => RMSE:  17.80405753985838\n",
            "0.05 300 0.2 3 => RMSE:  17.362182995173644\n",
            "0.05 300 0.2 5 => RMSE:  17.545177511432755\n",
            "0.05 300 0.2 10 => RMSE:  18.583384591508842\n",
            "0.05 300 0.5 1 => RMSE:  17.81705498688699\n",
            "0.05 300 0.5 3 => RMSE:  17.448718575263477\n",
            "0.05 300 0.5 5 => RMSE:  17.579276964934685\n",
            "0.05 300 0.5 10 => RMSE:  18.348480333122172\n",
            "0.05 300 1 1 => RMSE:  17.897491756366\n",
            "0.05 300 1 3 => RMSE:  17.90536867944022\n",
            "0.05 300 1 5 => RMSE:  17.942380358730283\n",
            "0.05 300 1 10 => RMSE:  18.76989828154002\n",
            "0.1 50 0.2 1 => RMSE:  18.497922743895185\n",
            "0.1 50 0.2 3 => RMSE:  17.53061288887302\n",
            "0.1 50 0.2 5 => RMSE:  17.479790639182067\n",
            "0.1 50 0.2 10 => RMSE:  18.883252785086615\n",
            "0.1 50 0.5 1 => RMSE:  18.578391534016554\n",
            "0.1 50 0.5 3 => RMSE:  17.60217523619976\n",
            "0.1 50 0.5 5 => RMSE:  17.40477226381234\n",
            "0.1 50 0.5 10 => RMSE:  18.371098725085687\n",
            "0.1 50 1 1 => RMSE:  18.699355974128878\n",
            "0.1 50 1 3 => RMSE:  17.66152654046601\n",
            "0.1 50 1 5 => RMSE:  17.467015746006247\n",
            "0.1 50 1 10 => RMSE:  18.430526541540335\n",
            "0.1 100 0.2 1 => RMSE:  17.868790767038476\n",
            "0.1 100 0.2 3 => RMSE:  17.342858226456173\n",
            "0.1 100 0.2 5 => RMSE:  17.903869618926446\n",
            "0.1 100 0.2 10 => RMSE:  19.08661900957221\n",
            "0.1 100 0.5 1 => RMSE:  18.006149699813548\n",
            "0.1 100 0.5 3 => RMSE:  17.366440403149\n",
            "0.1 100 0.5 5 => RMSE:  17.62494941662777\n",
            "0.1 100 0.5 10 => RMSE:  18.54591235499174\n",
            "0.1 100 1 1 => RMSE:  18.070807771833085\n",
            "0.1 100 1 3 => RMSE:  17.65663985099488\n",
            "0.1 100 1 5 => RMSE:  17.963062312718424\n",
            "0.1 100 1 10 => RMSE:  18.697933206325636\n",
            "0.1 150 0.2 1 => RMSE:  17.807428185690565\n",
            "0.1 150 0.2 3 => RMSE:  17.41314163397943\n",
            "0.1 150 0.2 5 => RMSE:  18.177566589016646\n",
            "0.1 150 0.2 10 => RMSE:  19.329259781709595\n",
            "0.1 150 0.5 1 => RMSE:  17.843855799302908\n",
            "0.1 150 0.5 3 => RMSE:  17.419635529602736\n",
            "0.1 150 0.5 5 => RMSE:  17.901680357015827\n",
            "0.1 150 0.5 10 => RMSE:  18.822554321683032\n",
            "0.1 150 1 1 => RMSE:  17.8945638391226\n",
            "0.1 150 1 3 => RMSE:  17.921968251794336\n",
            "0.1 150 1 5 => RMSE:  17.98653409953623\n",
            "0.1 150 1 10 => RMSE:  18.824702544181694\n",
            "0.1 200 0.2 1 => RMSE:  17.777663627770604\n",
            "0.1 200 0.2 3 => RMSE:  17.43084370762387\n",
            "0.1 200 0.2 5 => RMSE:  18.2052924963043\n",
            "0.1 200 0.2 10 => RMSE:  19.44765103578391\n",
            "0.1 200 0.5 1 => RMSE:  17.797449110893474\n",
            "0.1 200 0.5 3 => RMSE:  17.413866703519208\n",
            "0.1 200 0.5 5 => RMSE:  17.943372120085684\n",
            "0.1 200 0.5 10 => RMSE:  18.94574631476752\n",
            "0.1 200 1 1 => RMSE:  17.837986718176186\n",
            "0.1 200 1 3 => RMSE:  17.801011044305042\n",
            "0.1 200 1 5 => RMSE:  18.16941995024725\n",
            "0.1 200 1 10 => RMSE:  18.953161154094328\n",
            "0.1 250 0.2 1 => RMSE:  17.7797494925069\n",
            "0.1 250 0.2 3 => RMSE:  17.69468615279335\n",
            "0.1 250 0.2 5 => RMSE:  18.28977772391323\n",
            "0.1 250 0.2 10 => RMSE:  19.64534755326886\n",
            "0.1 250 0.5 1 => RMSE:  17.776091878126213\n",
            "0.1 250 0.5 3 => RMSE:  17.513642714758674\n",
            "0.1 250 0.5 5 => RMSE:  18.072877655495773\n",
            "0.1 250 0.5 10 => RMSE:  19.020848658773424\n",
            "0.1 250 1 1 => RMSE:  17.80448804821431\n",
            "0.1 250 1 3 => RMSE:  17.976940561862293\n",
            "0.1 250 1 5 => RMSE:  18.206250483902817\n",
            "0.1 250 1 10 => RMSE:  19.02722678318511\n",
            "0.1 300 0.2 1 => RMSE:  17.798397717757826\n",
            "0.1 300 0.2 3 => RMSE:  17.822666187707352\n",
            "0.1 300 0.2 5 => RMSE:  18.494712312359813\n",
            "0.1 300 0.2 10 => RMSE:  19.97461846504904\n",
            "0.1 300 0.5 1 => RMSE:  17.76249207592402\n",
            "0.1 300 0.5 3 => RMSE:  17.55555707632808\n",
            "0.1 300 0.5 5 => RMSE:  18.234783299417035\n",
            "0.1 300 0.5 10 => RMSE:  19.120219535948113\n",
            "0.1 300 1 1 => RMSE:  17.78852333356766\n",
            "0.1 300 1 3 => RMSE:  17.935733301295283\n",
            "0.1 300 1 5 => RMSE:  18.316931250643226\n",
            "0.1 300 1 10 => RMSE:  19.092274069466757\n",
            "0.25 50 0.2 1 => RMSE:  17.90793330904354\n",
            "0.25 50 0.2 3 => RMSE:  17.857373954690193\n",
            "0.25 50 0.2 5 => RMSE:  18.622675924428023\n",
            "0.25 50 0.2 10 => RMSE:  21.532440852366545\n",
            "0.25 50 0.5 1 => RMSE:  17.897840771866207\n",
            "0.25 50 0.5 3 => RMSE:  17.70801279528333\n",
            "0.25 50 0.5 5 => RMSE:  18.412771961213075\n",
            "0.25 50 0.5 10 => RMSE:  19.577221253482882\n",
            "0.25 50 1 1 => RMSE:  17.97450169379829\n",
            "0.25 50 1 3 => RMSE:  17.708632789976413\n",
            "0.25 50 1 5 => RMSE:  17.939473973947695\n",
            "0.25 50 1 10 => RMSE:  18.74283847640534\n",
            "0.25 100 0.2 1 => RMSE:  17.824852449644\n",
            "0.25 100 0.2 3 => RMSE:  18.295777162246427\n",
            "0.25 100 0.2 5 => RMSE:  20.19527148679406\n",
            "0.25 100 0.2 10 => RMSE:  22.481870510998764\n",
            "0.25 100 0.5 1 => RMSE:  17.831441883898066\n",
            "0.25 100 0.5 3 => RMSE:  17.975860724000828\n",
            "0.25 100 0.5 5 => RMSE:  18.679558356111666\n",
            "0.25 100 0.5 10 => RMSE:  20.222630241997763\n",
            "0.25 100 1 1 => RMSE:  17.842334996831426\n",
            "0.25 100 1 3 => RMSE:  18.508571408587088\n",
            "0.25 100 1 5 => RMSE:  18.524679017075023\n",
            "0.25 100 1 10 => RMSE:  18.971038954156075\n",
            "0.25 150 0.2 1 => RMSE:  17.78910679004743\n",
            "0.25 150 0.2 3 => RMSE:  18.906278276794712\n",
            "0.25 150 0.2 5 => RMSE:  20.574650767137793\n",
            "0.25 150 0.2 10 => RMSE:  23.24145954432043\n",
            "0.25 150 0.5 1 => RMSE:  17.810857548496696\n",
            "0.25 150 0.5 3 => RMSE:  18.564761068860054\n",
            "0.25 150 0.5 5 => RMSE:  19.15658017088591\n",
            "0.25 150 0.5 10 => RMSE:  20.609227458962426\n",
            "0.25 150 1 1 => RMSE:  17.81334861456153\n",
            "0.25 150 1 3 => RMSE:  18.520387862649986\n",
            "0.25 150 1 5 => RMSE:  18.664575592128624\n",
            "0.25 150 1 10 => RMSE:  19.11894569580156\n",
            "0.25 200 0.2 1 => RMSE:  17.807253552086607\n",
            "0.25 200 0.2 3 => RMSE:  18.698134812689784\n",
            "0.25 200 0.2 5 => RMSE:  20.98724014263183\n",
            "0.25 200 0.2 10 => RMSE:  23.88548649435845\n",
            "0.25 200 0.5 1 => RMSE:  17.77764795666214\n",
            "0.25 200 0.5 3 => RMSE:  18.738883833474606\n",
            "0.25 200 0.5 5 => RMSE:  19.569620922211513\n",
            "0.25 200 0.5 10 => RMSE:  20.791851384905115\n",
            "0.25 200 1 1 => RMSE:  17.80109441670865\n",
            "0.25 200 1 3 => RMSE:  18.54244414520685\n",
            "0.25 200 1 5 => RMSE:  19.051157090203695\n",
            "0.25 200 1 10 => RMSE:  19.236539028010057\n",
            "0.25 250 0.2 1 => RMSE:  17.843073650784067\n",
            "0.25 250 0.2 3 => RMSE:  18.883195645872025\n",
            "0.25 250 0.2 5 => RMSE:  21.612844228116344\n",
            "0.25 250 0.2 10 => RMSE:  24.286015571806747\n",
            "0.25 250 0.5 1 => RMSE:  17.781609956437624\n",
            "0.25 250 0.5 3 => RMSE:  18.65933429900717\n",
            "0.25 250 0.5 5 => RMSE:  19.833600496773638\n",
            "0.25 250 0.5 10 => RMSE:  20.933405562599866\n",
            "0.25 250 1 1 => RMSE:  17.793862910245373\n",
            "0.25 250 1 3 => RMSE:  18.835960862936663\n",
            "0.25 250 1 5 => RMSE:  19.19593851254218\n",
            "0.25 250 1 10 => RMSE:  19.316898703304684\n",
            "0.25 300 0.2 1 => RMSE:  17.8525675151471\n",
            "0.25 300 0.2 3 => RMSE:  19.230477088501683\n",
            "0.25 300 0.2 5 => RMSE:  21.924368019451062\n",
            "0.25 300 0.2 10 => RMSE:  24.61460834845761\n",
            "0.25 300 0.5 1 => RMSE:  17.7703506034679\n",
            "0.25 300 0.5 3 => RMSE:  18.809762324181857\n",
            "0.25 300 0.5 5 => RMSE:  20.075262275059377\n",
            "0.25 300 0.5 10 => RMSE:  21.00812970972885\n",
            "0.25 300 1 1 => RMSE:  17.786237970646816\n",
            "0.25 300 1 3 => RMSE:  18.869372541446594\n",
            "0.25 300 1 5 => RMSE:  19.43264740108117\n",
            "0.25 300 1 10 => RMSE:  19.368878333317184\n",
            "0.5 50 0.2 1 => RMSE:  17.933598079151636\n",
            "0.5 50 0.2 3 => RMSE:  19.4084852870488\n",
            "0.5 50 0.2 5 => RMSE:  23.257730929412734\n",
            "0.5 50 0.2 10 => RMSE:  30.987256887355766\n",
            "0.5 50 0.5 1 => RMSE:  17.870734805197106\n",
            "0.5 50 0.5 3 => RMSE:  18.35826183365248\n",
            "0.5 50 0.5 5 => RMSE:  19.728903651163638\n",
            "0.5 50 0.5 10 => RMSE:  22.650998493839698\n",
            "0.5 50 1 1 => RMSE:  17.952719231715275\n",
            "0.5 50 1 3 => RMSE:  18.14548883903216\n",
            "0.5 50 1 5 => RMSE:  18.832188124672953\n",
            "0.5 50 1 10 => RMSE:  21.050119442231903\n",
            "0.5 100 0.2 1 => RMSE:  17.877374119300573\n",
            "0.5 100 0.2 3 => RMSE:  22.70208986174722\n",
            "0.5 100 0.2 5 => RMSE:  30.47404385406641\n",
            "0.5 100 0.2 10 => RMSE:  39.83771695071612\n",
            "0.5 100 0.5 1 => RMSE:  17.865694978558167\n",
            "0.5 100 0.5 3 => RMSE:  20.11215211203484\n",
            "0.5 100 0.5 5 => RMSE:  21.082972664280287\n",
            "0.5 100 0.5 10 => RMSE:  23.599364217540153\n",
            "0.5 100 1 1 => RMSE:  17.87945127444966\n",
            "0.5 100 1 3 => RMSE:  18.99751683697732\n",
            "0.5 100 1 5 => RMSE:  19.45572426843551\n",
            "0.5 100 1 10 => RMSE:  21.387054429126376\n",
            "0.5 150 0.2 1 => RMSE:  17.864698559755443\n",
            "0.5 150 0.2 3 => RMSE:  24.976883795361037\n",
            "0.5 150 0.2 5 => RMSE:  33.70515264017702\n",
            "0.5 150 0.2 10 => RMSE:  46.508382459990116\n",
            "0.5 150 0.5 1 => RMSE:  17.84108836109365\n",
            "0.5 150 0.5 3 => RMSE:  21.845301726376128\n",
            "0.5 150 0.5 5 => RMSE:  22.220243871697093\n",
            "0.5 150 0.5 10 => RMSE:  24.02739541522345\n",
            "0.5 150 1 1 => RMSE:  17.828406004650873\n",
            "0.5 150 1 3 => RMSE:  19.170223561868642\n",
            "0.5 150 1 5 => RMSE:  19.754551260764924\n",
            "0.5 150 1 10 => RMSE:  21.596494095027158\n",
            "0.5 200 0.2 1 => RMSE:  17.860759202293277\n",
            "0.5 200 0.2 3 => RMSE:  25.499864049729652\n",
            "0.5 200 0.2 5 => RMSE:  36.32350735315679\n",
            "0.5 200 0.2 10 => RMSE:  50.12510738394844\n",
            "0.5 200 0.5 1 => RMSE:  17.829556405451505\n",
            "0.5 200 0.5 3 => RMSE:  23.7023653500828\n",
            "0.5 200 0.5 5 => RMSE:  22.488329360352218\n",
            "0.5 200 0.5 10 => RMSE:  24.261878900773404\n",
            "0.5 200 1 1 => RMSE:  17.80031585743464\n",
            "0.5 200 1 3 => RMSE:  19.399119618600984\n",
            "0.5 200 1 5 => RMSE:  20.206555389515287\n",
            "0.5 200 1 10 => RMSE:  21.680886279460747\n",
            "0.5 250 0.2 1 => RMSE:  17.850488835204622\n",
            "0.5 250 0.2 3 => RMSE:  26.17969828873419\n",
            "0.5 250 0.2 5 => RMSE:  37.84391285795088\n",
            "0.5 250 0.2 10 => RMSE:  53.44067514902426\n",
            "0.5 250 0.5 1 => RMSE:  17.804428591614723\n",
            "0.5 250 0.5 3 => RMSE:  22.305880844992657\n",
            "0.5 250 0.5 5 => RMSE:  23.07598830723286\n",
            "0.5 250 0.5 10 => RMSE:  24.40646050676311\n",
            "0.5 250 1 1 => RMSE:  17.788555063013067\n",
            "0.5 250 1 3 => RMSE:  19.59378810757559\n",
            "0.5 250 1 5 => RMSE:  20.367524177215973\n",
            "0.5 250 1 10 => RMSE:  21.735192854183534\n",
            "0.5 300 0.2 1 => RMSE:  17.868136846015112\n",
            "0.5 300 0.2 3 => RMSE:  26.86639615547491\n",
            "0.5 300 0.2 5 => RMSE:  39.06106403383654\n",
            "0.5 300 0.2 10 => RMSE:  56.270679624456115\n",
            "0.5 300 0.5 1 => RMSE:  17.774495745702165\n",
            "0.5 300 0.5 3 => RMSE:  22.241264836849844\n",
            "0.5 300 0.5 5 => RMSE:  23.293001530059552\n",
            "0.5 300 0.5 10 => RMSE:  24.52019030340813\n",
            "0.5 300 1 1 => RMSE:  17.781031408995222\n",
            "0.5 300 1 3 => RMSE:  19.794553642225733\n",
            "0.5 300 1 5 => RMSE:  20.45557113263018\n",
            "0.5 300 1 10 => RMSE:  21.75523100970354\n",
            "0.75 50 0.2 1 => RMSE:  18.09739286417625\n",
            "0.75 50 0.2 3 => RMSE:  21.483327410007444\n",
            "0.75 50 0.2 5 => RMSE:  32.599417880017725\n",
            "0.75 50 0.2 10 => RMSE:  76.44212799867256\n",
            "0.75 50 0.5 1 => RMSE:  17.882732036268926\n",
            "0.75 50 0.5 3 => RMSE:  19.498147382321285\n",
            "0.75 50 0.5 5 => RMSE:  21.790070180573192\n",
            "0.75 50 0.5 10 => RMSE:  29.210510843273653\n",
            "0.75 50 1 1 => RMSE:  17.92707706062509\n",
            "0.75 50 1 3 => RMSE:  19.35447778714861\n",
            "0.75 50 1 5 => RMSE:  19.427540832539197\n",
            "0.75 50 1 10 => RMSE:  24.114990258043573\n",
            "0.75 100 0.2 1 => RMSE:  17.943208463468306\n",
            "0.75 100 0.2 3 => RMSE:  25.375989569382828\n",
            "0.75 100 0.2 5 => RMSE:  57.495639346315244\n",
            "0.75 100 0.2 10 => RMSE:  235.7844573677131\n",
            "0.75 100 0.5 1 => RMSE:  17.84661617993733\n",
            "0.75 100 0.5 3 => RMSE:  21.26505387222137\n",
            "0.75 100 0.5 5 => RMSE:  22.999108848908342\n",
            "0.75 100 0.5 10 => RMSE:  31.53771536847014\n",
            "0.75 100 1 1 => RMSE:  17.797321074434503\n",
            "0.75 100 1 3 => RMSE:  19.59199830838551\n",
            "0.75 100 1 5 => RMSE:  20.619065315397712\n",
            "0.75 100 1 10 => RMSE:  24.780586046414715\n",
            "0.75 150 0.2 1 => RMSE:  17.886709078137716\n",
            "0.75 150 0.2 3 => RMSE:  30.51767459229489\n",
            "0.75 150 0.2 5 => RMSE:  77.04928820586288\n",
            "0.75 150 0.2 10 => RMSE:  667.9940371747086\n",
            "0.75 150 0.5 1 => RMSE:  17.79431206120228\n",
            "0.75 150 0.5 3 => RMSE:  22.3813034230701\n",
            "0.75 150 0.5 5 => RMSE:  24.52796925246413\n",
            "0.75 150 0.5 10 => RMSE:  32.22395327570502\n",
            "0.75 150 1 1 => RMSE:  17.775540213425526\n",
            "0.75 150 1 3 => RMSE:  20.035181257874353\n",
            "0.75 150 1 5 => RMSE:  21.327065046739968\n",
            "0.75 150 1 10 => RMSE:  24.880061017131855\n",
            "0.75 200 0.2 1 => RMSE:  17.88817970625495\n",
            "0.75 200 0.2 3 => RMSE:  36.60598769861644\n",
            "0.75 200 0.2 5 => RMSE:  126.63022463165473\n",
            "0.75 200 0.2 10 => RMSE:  2010.850764610543\n",
            "0.75 200 0.5 1 => RMSE:  17.805795559925116\n",
            "0.75 200 0.5 3 => RMSE:  22.533203404983215\n",
            "0.75 200 0.5 5 => RMSE:  25.081438035102334\n",
            "0.75 200 0.5 10 => RMSE:  32.61914691981622\n",
            "0.75 200 1 1 => RMSE:  17.767932691591305\n",
            "0.75 200 1 3 => RMSE:  20.20809037142441\n",
            "0.75 200 1 5 => RMSE:  21.712419886738605\n",
            "0.75 200 1 10 => RMSE:  24.90751448732405\n",
            "0.75 250 0.2 1 => RMSE:  17.863922508975843\n",
            "0.75 250 0.2 3 => RMSE:  41.97413174859129\n",
            "0.75 250 0.2 5 => RMSE:  197.84874007998903\n",
            "0.75 250 0.2 10 => RMSE:  5588.769917417001\n",
            "0.75 250 0.5 1 => RMSE:  17.833887218956708\n",
            "0.75 250 0.5 3 => RMSE:  22.932186901837863\n",
            "0.75 250 0.5 5 => RMSE:  25.966813351778118\n",
            "0.75 250 0.5 10 => RMSE:  32.95966523919332\n",
            "0.75 250 1 1 => RMSE:  17.75327533724687\n",
            "0.75 250 1 3 => RMSE:  20.67753364085533\n",
            "0.75 250 1 5 => RMSE:  21.90507611156709\n",
            "0.75 250 1 10 => RMSE:  24.92527575913685\n",
            "0.75 300 0.2 1 => RMSE:  17.929848265348102\n",
            "0.75 300 0.2 3 => RMSE:  49.14540734274751\n",
            "0.75 300 0.2 5 => RMSE:  264.47835265600764\n",
            "0.75 300 0.2 10 => RMSE:  17864.040165925137\n",
            "0.75 300 0.5 1 => RMSE:  17.7885157667319\n",
            "0.75 300 0.5 3 => RMSE:  23.769450588443227\n",
            "0.75 300 0.5 5 => RMSE:  26.607032667288415\n",
            "0.75 300 0.5 10 => RMSE:  33.01302866542603\n",
            "0.75 300 1 1 => RMSE:  17.755685626046965\n",
            "0.75 300 1 3 => RMSE:  20.533629915207065\n",
            "0.75 300 1 5 => RMSE:  22.17989332758142\n",
            "0.75 300 1 10 => RMSE:  24.930507956700424\n",
            "0.99 50 0.2 1 => RMSE:  18.08414129196272\n",
            "0.99 50 0.2 3 => RMSE:  27.263287780549113\n",
            "0.99 50 0.2 5 => RMSE:  102.8318874875701\n",
            "0.99 50 0.2 10 => RMSE:  532.0644356302781\n",
            "0.99 50 0.5 1 => RMSE:  17.82258034531371\n",
            "0.99 50 0.5 3 => RMSE:  21.182046351772076\n",
            "0.99 50 0.5 5 => RMSE:  27.778426203798517\n",
            "0.99 50 0.5 10 => RMSE:  34.63390363144011\n",
            "0.99 50 1 1 => RMSE:  17.873256875215812\n",
            "0.99 50 1 3 => RMSE:  20.240288010834092\n",
            "0.99 50 1 5 => RMSE:  22.54002958097924\n",
            "0.99 50 1 10 => RMSE:  27.492697016585183\n",
            "0.99 100 0.2 1 => RMSE:  18.004502964996018\n",
            "0.99 100 0.2 3 => RMSE:  41.043697679257676\n",
            "0.99 100 0.2 5 => RMSE:  572.4618232064186\n",
            "0.99 100 0.2 10 => RMSE:  16342.21975328689\n",
            "0.99 100 0.5 1 => RMSE:  17.853147324354378\n",
            "0.99 100 0.5 3 => RMSE:  25.650809816443267\n",
            "0.99 100 0.5 5 => RMSE:  32.78428113574229\n",
            "0.99 100 0.5 10 => RMSE:  39.80054051507908\n",
            "0.99 100 1 1 => RMSE:  17.774094475670804\n",
            "0.99 100 1 3 => RMSE:  20.915410060811496\n",
            "0.99 100 1 5 => RMSE:  23.4795887928776\n",
            "0.99 100 1 10 => RMSE:  28.11073092289704\n",
            "0.99 150 0.2 1 => RMSE:  17.900056308202263\n",
            "0.99 150 0.2 3 => RMSE:  59.33229354099128\n",
            "0.99 150 0.2 5 => RMSE:  1855.241790453801\n",
            "0.99 150 0.2 10 => RMSE:  373436.2499323763\n",
            "0.99 150 0.5 1 => RMSE:  17.81587246435194\n",
            "0.99 150 0.5 3 => RMSE:  27.268842462176487\n",
            "0.99 150 0.5 5 => RMSE:  39.1932274570257\n",
            "0.99 150 0.5 10 => RMSE:  42.29691514348651\n",
            "0.99 150 1 1 => RMSE:  17.77190632860752\n",
            "0.99 150 1 3 => RMSE:  21.439080001225996\n",
            "0.99 150 1 5 => RMSE:  24.070297034822453\n",
            "0.99 150 1 10 => RMSE:  28.240951425780782\n",
            "0.99 200 0.2 1 => RMSE:  17.936653800323228\n",
            "0.99 200 0.2 3 => RMSE:  79.88739599185574\n",
            "0.99 200 0.2 5 => RMSE:  7570.893724015545\n",
            "0.99 200 0.2 10 => RMSE:  8510843.181825113\n",
            "0.99 200 0.5 1 => RMSE:  17.84249479165794\n",
            "0.99 200 0.5 3 => RMSE:  27.281331893113833\n",
            "0.99 200 0.5 5 => RMSE:  40.75301171090085\n",
            "0.99 200 0.5 10 => RMSE:  44.03879872463499\n",
            "0.99 200 1 1 => RMSE:  17.77313116711571\n",
            "0.99 200 1 3 => RMSE:  21.784013294673798\n",
            "0.99 200 1 5 => RMSE:  25.402700455195273\n",
            "0.99 200 1 10 => RMSE:  28.274823138551852\n",
            "0.99 250 0.2 1 => RMSE:  17.902346773845363\n",
            "0.99 250 0.2 3 => RMSE:  106.36024618514487\n",
            "0.99 250 0.2 5 => RMSE:  41940.92200083266\n",
            "0.99 250 0.2 10 => RMSE:  183489236.48520538\n",
            "0.99 250 0.5 1 => RMSE:  17.875352906235587\n",
            "0.99 250 0.5 3 => RMSE:  28.798256767158506\n",
            "0.99 250 0.5 5 => RMSE:  43.76282095229426\n",
            "0.99 250 0.5 10 => RMSE:  45.26587432169117\n",
            "0.99 250 1 1 => RMSE:  17.769148195428862\n",
            "0.99 250 1 3 => RMSE:  21.772368995737185\n",
            "0.99 250 1 5 => RMSE:  25.62632067216174\n",
            "0.99 250 1 10 => RMSE:  28.28788528649024\n",
            "0.99 300 0.2 1 => RMSE:  17.945622816516977\n",
            "0.99 300 0.2 3 => RMSE:  136.91916978009237\n",
            "0.99 300 0.2 5 => RMSE:  162606.96474269524\n",
            "0.99 300 0.2 10 => RMSE:  4465412597.329981\n",
            "0.99 300 0.5 1 => RMSE:  17.810580543545527\n",
            "0.99 300 0.5 3 => RMSE:  29.35224050320853\n",
            "0.99 300 0.5 5 => RMSE:  45.527391202319265\n",
            "0.99 300 0.5 10 => RMSE:  46.0434383473865\n",
            "0.99 300 1 1 => RMSE:  17.76507746516161\n",
            "0.99 300 1 3 => RMSE:  21.7654779461376\n",
            "0.99 300 1 5 => RMSE:  25.882821133701558\n",
            "0.99 300 1 10 => RMSE:  28.308864540336675\n"
          ]
        }
      ],
      "source": [
        "SEED = 88\n",
        "\n",
        "param_grid = {'learning_rate': [0.01,0.05,0.1,0.25,0.5,0.75,0.99], # 0.05,0.1,   alias eta, Step size shrinkage used in update to prevents overfitting.\n",
        "    'n_estimators': [50,100,150,200,250,300], # \n",
        "    'subsample': [0.2,0.5,1], #     Subsample ratio of the training instances\n",
        "    'max_depth': [1, 3, 5, 10]\n",
        "    }\n",
        "\n",
        "best_RMSE = 999\n",
        "best_params = {}\n",
        "\n",
        "for learning_rate in param_grid['learning_rate']:\n",
        "    for n_estimators in param_grid['n_estimators']:\n",
        "        for subsample in param_grid['subsample']:\n",
        "            for max_depth in param_grid['max_depth']:\n",
        "                    # Create and train a Random Forest model with the current hyperparameters\n",
        "                    xgb = xgboost.XGBRegressor(random_state=SEED, \n",
        "                                        objective='reg:squarederror',\n",
        "                                        learning_rate=learning_rate,\n",
        "                                        n_estimators=n_estimators,\n",
        "                                        subsample=subsample,\n",
        "                                        max_depth=max_depth)\n",
        "                    \n",
        "                    xgb.fit(X_train, y_train)\n",
        "\n",
        "                    # Evaluate the model on the validation set\n",
        "                    y_pred_xgb = xgb.predict(X_validation)\n",
        "                    RMSE = np.sqrt(mean_squared_error(y_validation, y_pred_xgb))\n",
        "\n",
        "                    # Update the best hyperparameters if this combination is better\n",
        "                    if RMSE < best_RMSE:\n",
        "                        best_RMSE = RMSE\n",
        "                        best_params = {\n",
        "                            'learning_rate': learning_rate,\n",
        "                            'n_estimators': n_estimators,\n",
        "                            'subsample': subsample,\n",
        "                            'max_depth': max_depth\n",
        "                        }\n",
        "                    print(learning_rate,n_estimators,subsample,max_depth, '=> RMSE: ', RMSE)"
      ]
    },
    {
      "cell_type": "code",
      "execution_count": 193,
      "metadata": {},
      "outputs": [
        {
          "name": "stdout",
          "output_type": "stream",
          "text": [
            "{'learning_rate': 0.05, 'n_estimators': 150, 'subsample': 0.2, 'max_depth': 5} 17.23579145884144\n"
          ]
        }
      ],
      "source": [
        "print(best_params, best_RMSE)"
      ]
    },
    {
      "cell_type": "code",
      "execution_count": 194,
      "metadata": {},
      "outputs": [
        {
          "name": "stdout",
          "output_type": "stream",
          "text": [
            "17.23579145884144\n"
          ]
        }
      ],
      "source": [
        "SEED=88\n",
        "learning_rate = best_params[\"learning_rate\"]\n",
        "n_estimators = best_params[\"n_estimators\"]\n",
        "subsample = best_params[\"subsample\"]\n",
        "max_depth = best_params[\"max_depth\"]\n",
        "\n",
        "\n",
        "xgb = xgboost.XGBRegressor(random_state=SEED, \n",
        "                    objective='reg:squarederror',\n",
        "                    learning_rate=learning_rate,\n",
        "                    n_estimators=n_estimators,\n",
        "                    subsample=subsample,\n",
        "                    max_depth=max_depth)\n",
        "\n",
        "xgb.fit(X_train, y_train)\n",
        "\n",
        "# Evaluate the model on the validation set\n",
        "y_pred_xgb = xgb.predict(X_validation)\n",
        "RMSE = np.sqrt(mean_squared_error(y_validation, y_pred_xgb))\n",
        "\n",
        "print(RMSE)"
      ]
    },
    {
      "cell_type": "code",
      "execution_count": 195,
      "metadata": {},
      "outputs": [],
      "source": [
        "with open('../models/xgb_model.pkl', 'wb') as file:\n",
        "    pickle.dump(xgb, file)"
      ]
    },
    {
      "cell_type": "code",
      "execution_count": 196,
      "metadata": {},
      "outputs": [
        {
          "data": {
            "text/html": [
              "<div>\n",
              "<style scoped>\n",
              "    .dataframe tbody tr th:only-of-type {\n",
              "        vertical-align: middle;\n",
              "    }\n",
              "\n",
              "    .dataframe tbody tr th {\n",
              "        vertical-align: top;\n",
              "    }\n",
              "\n",
              "    .dataframe thead th {\n",
              "        text-align: right;\n",
              "    }\n",
              "</style>\n",
              "<table border=\"1\" class=\"dataframe\">\n",
              "  <thead>\n",
              "    <tr style=\"text-align: right;\">\n",
              "      <th></th>\n",
              "      <th>Variable</th>\n",
              "      <th>Importance</th>\n",
              "    </tr>\n",
              "  </thead>\n",
              "  <tbody>\n",
              "    <tr>\n",
              "      <th>1</th>\n",
              "      <td>turnover_month_avg</td>\n",
              "      <td>0.219421</td>\n",
              "    </tr>\n",
              "    <tr>\n",
              "      <th>4</th>\n",
              "      <td>turnover_week_avg</td>\n",
              "      <td>0.076776</td>\n",
              "    </tr>\n",
              "    <tr>\n",
              "      <th>32</th>\n",
              "      <td>weekday_Tuesday</td>\n",
              "      <td>0.037002</td>\n",
              "    </tr>\n",
              "    <tr>\n",
              "      <th>23</th>\n",
              "      <td>store_id_WI_2</td>\n",
              "      <td>0.032692</td>\n",
              "    </tr>\n",
              "    <tr>\n",
              "      <th>30</th>\n",
              "      <td>weekday_Sunday</td>\n",
              "      <td>0.031809</td>\n",
              "    </tr>\n",
              "    <tr>\n",
              "      <th>29</th>\n",
              "      <td>weekday_Saturday</td>\n",
              "      <td>0.029204</td>\n",
              "    </tr>\n",
              "    <tr>\n",
              "      <th>36</th>\n",
              "      <td>month_December</td>\n",
              "      <td>0.024540</td>\n",
              "    </tr>\n",
              "    <tr>\n",
              "      <th>5</th>\n",
              "      <td>turnover_week_max</td>\n",
              "      <td>0.020291</td>\n",
              "    </tr>\n",
              "    <tr>\n",
              "      <th>10</th>\n",
              "      <td>dept_id_FOODS_2</td>\n",
              "      <td>0.019780</td>\n",
              "    </tr>\n",
              "    <tr>\n",
              "      <th>31</th>\n",
              "      <td>weekday_Thursday</td>\n",
              "      <td>0.019676</td>\n",
              "    </tr>\n",
              "  </tbody>\n",
              "</table>\n",
              "</div>"
            ],
            "text/plain": [
              "              Variable  Importance\n",
              "1   turnover_month_avg    0.219421\n",
              "4    turnover_week_avg    0.076776\n",
              "32     weekday_Tuesday    0.037002\n",
              "23       store_id_WI_2    0.032692\n",
              "30      weekday_Sunday    0.031809\n",
              "29    weekday_Saturday    0.029204\n",
              "36      month_December    0.024540\n",
              "5    turnover_week_max    0.020291\n",
              "10     dept_id_FOODS_2    0.019780\n",
              "31    weekday_Thursday    0.019676"
            ]
          },
          "execution_count": 196,
          "metadata": {},
          "output_type": "execute_result"
        }
      ],
      "source": [
        "pd.DataFrame({'Variable':X_train.columns,\n",
        "              'Importance':xgb.feature_importances_}).sort_values('Importance', ascending=False)[0:10]"
      ]
    }
  ],
  "metadata": {
    "colab": {
      "provenance": []
    },
    "kernelspec": {
      "display_name": "Python 3",
      "name": "python3"
    },
    "language_info": {
      "codemirror_mode": {
        "name": "ipython",
        "version": 3
      },
      "file_extension": ".py",
      "mimetype": "text/x-python",
      "name": "python",
      "nbconvert_exporter": "python",
      "pygments_lexer": "ipython3",
      "version": "3.9.1"
    }
  },
  "nbformat": 4,
  "nbformat_minor": 0
}
